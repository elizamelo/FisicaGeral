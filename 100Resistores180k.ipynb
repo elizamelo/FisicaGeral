{
  "nbformat": 4,
  "nbformat_minor": 0,
  "metadata": {
    "colab": {
      "provenance": [],
      "include_colab_link": true
    },
    "kernelspec": {
      "name": "python3",
      "display_name": "Python 3"
    },
    "language_info": {
      "name": "python"
    }
  },
  "cells": [
    {
      "cell_type": "markdown",
      "metadata": {
        "id": "view-in-github",
        "colab_type": "text"
      },
      "source": [
        "<a href=\"https://colab.research.google.com/github/elizamelo/FisicaGeral/blob/main/100Resistores180k.ipynb\" target=\"_parent\"><img src=\"https://colab.research.google.com/assets/colab-badge.svg\" alt=\"Open In Colab\"/></a>"
      ]
    },
    {
      "cell_type": "code",
      "source": [
        "import numpy as np\n",
        "import pandas as pd\n",
        "import matplotlib as mpl\n",
        "import matplotlib.pyplot as plt\n",
        "import statistics\n",
        "from scipy import stats\n"
      ],
      "metadata": {
        "id": "vZWvanwjzWry"
      },
      "execution_count": 54,
      "outputs": []
    },
    {
      "cell_type": "code",
      "source": [
        "#Valor nominal ou do fabricante\n",
        "R_ref= 180.0 #(kΩ)"
      ],
      "metadata": {
        "id": "V1wDKFSvr45a"
      },
      "execution_count": 55,
      "outputs": []
    },
    {
      "cell_type": "code",
      "source": [
        "##Exemplo: Medidas dos 100 resistores de 890 ± 5% (kΩ)\n",
        "\n",
        "array_100 = [179,178.7,180.2,177.7,176.7,178.8,177.5,177.1,179.4,176.9,177.4,180.6,178,181.8,178.4,178.1,178.3,177.1,178,178.6,177,180.9,178.6,176.9,178.5,178.2,180.3,177.7,178.4,178.5,176.8,179,176.4,180,177,176.8,174.8,177.8,180,178.8,176.5,181.2,179,178.6,179.9,177.1,176.7,178.3,176.2,178.5,176.5,176.2,179,177.2,178.7,180.1,178.6,178.3,183,178.8,179.1,175.4,177.5,177.3,178.9,178.7,177.2,188.4,177.9,179.3,181.2,175.8,179.3,178.7,178.1,178.9,179.5,175.3,177.3,178.6,178.2,176.8,177.8,180.1,177.6,177.7,180.4,176.9,180.2,178,177.1,176.2,180,178.7,178.2,181.8,177.8,179.6,177.9,178.7]\n",
        "array_GR01 = [179,178.7,180.2,177.7,176.7,178.8,177.5,177.1,179.4,176.9,177.4,180.6,178,181.8,178.4,178.1,178.3,177.1,178,178.6] #(k ohms)\n",
        "array_GR02 = [177,180.9,178.6,176.9,178.5,178.2,180.3,177.7,178.4,178.5,176.8,179,176.4,180,177,176.8,174.8,177.8,180,178.8] #(k ohms)\n",
        "array_GR03 = [176.5,181.2,179,178.6,179.9,177.1,176.7,178.3,176.2,178.5,176.5,176.2,179,177.2,178.7,180.1,178.6,178.3,183,178.8] #(k ohms)\n",
        "array_GR04 = [179.1,175.4,177.5,177.3,178.9,178.7,177.2,188.4,177.9,179.3,181.2,175.8,179.3,178.7,178.1,178.9,179.5,175.3,177.3,178.6] #(k ohms)\n",
        "array_GR05 = [178.2,176.8,177.8,180.1,177.6,177.7,180.4,176.9,180.2,178,177.1,176.2,180,178.7,178.2,181.8,177.8,179.6,177.9,178.7] #(k ohms)\n"
      ],
      "metadata": {
        "id": "4zThAFfLD-R-"
      },
      "execution_count": 56,
      "outputs": []
    },
    {
      "cell_type": "code",
      "source": [
        "def compatibilidade(grupo):\n",
        "  e100 = (np.std(array_100, ddof=0 ))/np.sqrt(len(array_100))\n",
        "  egrupo = (np.std(grupo, ddof=1 ))/np.sqrt(len(grupo))\n",
        "  ec = np.sqrt((e100*e100)+(egrupo*egrupo))\n",
        "  d = abs(np.mean(grupo)-np.mean(array_100))/ec\n",
        "  if d<=2.0:\n",
        "    print(\"Compatível\", d, ec, abs(np.mean(grupo)-np.mean(array_100)))\n",
        "  elif d > 2.0 and d < 3.0:\n",
        "    print(\"Inconclusivo\", d,ec, abs(np.mean(grupo)-np.mean(array_100)))\n",
        "  else:\n",
        "    print(\"Incompatível\", d,ec,abs(np.mean(grupo)-np.mean(array_100)))\n",
        "  return(d)"
      ],
      "metadata": {
        "id": "7rSzJmERsBxM"
      },
      "execution_count": 57,
      "outputs": []
    },
    {
      "cell_type": "code",
      "source": [
        "def compatibilidadeRef(grupo):\n",
        "  e100 = (np.std(array_100, ddof=0 ))/np.sqrt(len(array_100))\n",
        "  #egrupo = (np.std(grupo, ddof=1 ))/np.sqrt(len(grupo))\n",
        "  #ec = np.sqrt((e100*e100)+(egrupo*egrupo))\n",
        "  d = abs(np.mean(grupo)-R_ref)/e100\n",
        "  if d<=2.0:\n",
        "    print(\"Compatível\", d, e100, abs(np.mean(grupo)-R_ref))\n",
        "  elif d > 2.0 and d < 3.0:\n",
        "    print(\"Inconclusivo\", d,e100, abs(np.mean(grupo)-R_ref))\n",
        "  else:\n",
        "    print(\"Incompatível\", d,e100,abs(np.mean(grupo)-R_ref))\n",
        "  return(d)"
      ],
      "metadata": {
        "id": "E2PsRo-7sCfo"
      },
      "execution_count": 58,
      "outputs": []
    },
    {
      "cell_type": "markdown",
      "source": [
        "Conjunto completo de valores de resistências (100):"
      ],
      "metadata": {
        "id": "0QQwSiL5Bpu8"
      }
    },
    {
      "cell_type": "code",
      "source": [
        "\n",
        "amplitude_100=(np.max(array_100)-np.min(array_100))\n",
        "print ( \"Valor mínimo: {}\".format( np.min(array_100) ),\"(kΩ)\" )\n",
        "print ( \"Valor máximo: {}\".format( np.max(array_100) ) ,\"(kΩ)\")\n",
        "print ( \"Amplitude: {}\".format( amplitude_100 ) ,\"(kΩ)\")"
      ],
      "metadata": {
        "colab": {
          "base_uri": "https://localhost:8080/"
        },
        "id": "12KiyT_830-t",
        "outputId": "25e7804d-f237-4333-8dcc-a3e78b411a30"
      },
      "execution_count": 59,
      "outputs": [
        {
          "output_type": "stream",
          "name": "stdout",
          "text": [
            "Valor mínimo: 174.8 (kΩ)\n",
            "Valor máximo: 188.4 (kΩ)\n",
            "Amplitude: 13.599999999999994 (kΩ)\n"
          ]
        }
      ]
    },
    {
      "cell_type": "code",
      "source": [
        "#Calculo da média\n",
        "N100=len(array_100)\n",
        "media_100=(np.sum(array_100)/N100)\n",
        "vmin = np.min(array_100)\n",
        "vmax = np.max(array_100)\n",
        "print(\"média do conjunto de 100 resistores: {}\".format( (media_100)),\"(kΩ)\")"
      ],
      "metadata": {
        "colab": {
          "base_uri": "https://localhost:8080/"
        },
        "id": "NX9dbDns4oVi",
        "outputId": "43068000-b83e-4f6f-ba13-6ba044893bcf"
      },
      "execution_count": 60,
      "outputs": [
        {
          "output_type": "stream",
          "name": "stdout",
          "text": [
            "média do conjunto de 100 resistores: 178.41199999999998 (kΩ)\n"
          ]
        }
      ]
    },
    {
      "cell_type": "code",
      "source": [
        "#Usando o NumPy\n",
        "np.mean( array_100 )"
      ],
      "metadata": {
        "colab": {
          "base_uri": "https://localhost:8080/"
        },
        "id": "1XWrWGGv4wLH",
        "outputId": "65212a01-9278-4759-f2f5-d5c23f31fb85"
      },
      "execution_count": 61,
      "outputs": [
        {
          "output_type": "execute_result",
          "data": {
            "text/plain": [
              "178.41199999999998"
            ]
          },
          "metadata": {},
          "execution_count": 61
        }
      ]
    },
    {
      "cell_type": "code",
      "source": [
        "print(\"média do conjunto de 100 resistores: {}\".format(np.mean( array_100 )),\"(kΩ)\")\n",
        "\n"
      ],
      "metadata": {
        "colab": {
          "base_uri": "https://localhost:8080/"
        },
        "id": "chUe8w245giz",
        "outputId": "74100d9b-b220-427b-f580-05f77bf00eeb"
      },
      "execution_count": 62,
      "outputs": [
        {
          "output_type": "stream",
          "name": "stdout",
          "text": [
            "média do conjunto de 100 resistores: 178.41199999999998 (kΩ)\n"
          ]
        }
      ]
    },
    {
      "cell_type": "code",
      "source": [
        "fig = plt.figure( figsize=(8,6) )\n",
        "\n",
        "counts, bins, _ = plt.hist( array_100, bins=21, range=[vmin,vmax])\n",
        "#plt.xlim( 15, 40 )\n",
        "plt.xlabel( \"Resistência (kΩ)\", fontsize=18 )\n",
        "plt.ylabel( \"Frequência\", fontsize=18 )\n",
        "plt.title('Histograma das resistências do Conjunto Completo de 100 Resistores', fontsize=12 )\n",
        "\n",
        "\n"
      ],
      "metadata": {
        "colab": {
          "base_uri": "https://localhost:8080/",
          "height": 593
        },
        "id": "GvQTxvWk49Y1",
        "outputId": "d0535f23-4810-4641-fdc2-ea7ba6383e46"
      },
      "execution_count": 63,
      "outputs": [
        {
          "output_type": "execute_result",
          "data": {
            "text/plain": [
              "Text(0.5, 1.0, 'Histograma das resistências do Conjunto Completo de 100 Resistores')"
            ]
          },
          "metadata": {},
          "execution_count": 63
        },
        {
          "output_type": "display_data",
          "data": {
            "text/plain": [
              "<Figure size 800x600 with 1 Axes>"
            ],
            "image/png": "[encoded data removed]"
          },
          "metadata": {}
        }
      ]
    },
    {
      "cell_type": "markdown",
      "source": [
        "Variância e desvio Padrão usando o NumPY:"
      ],
      "metadata": {
        "id": "1uPpK8My6aS7"
      }
    },
    {
      "cell_type": "code",
      "source": [
        "var_100 = np.var( array_100, ddof=0 )\n",
        "print ( \"Variância do conj. de 100 resistores: {}\".format(var_100),\"(k^2Ω)\" )\n",
        "print ( \"Desvio Padrao do conj. de 100 resistores: {}\".format(np.sqrt(var_100)),\"(kΩ)\" )\n",
        "sigma_m100 = np.std( array_100, ddof=0 )/np.sqrt(N100)\n",
        "print ( \"Erro da média do conj. de 100: {}\".format(np.std( array_100, ddof=1 )/np.sqrt(N100)),\"(kΩ)\" )"
      ],
      "metadata": {
        "colab": {
          "base_uri": "https://localhost:8080/"
        },
        "id": "JkLhW3PU4lkb",
        "outputId": "b74f9a4b-20cc-4e6f-deae-199881e46e58"
      },
      "execution_count": 64,
      "outputs": [
        {
          "output_type": "stream",
          "name": "stdout",
          "text": [
            "Variância do conj. de 100 resistores: 3.171656 (k^2Ω)\n",
            "Desvio Padrao do conj. de 100 resistores: 1.7809143718887779 (kΩ)\n",
            "Erro da média do conj. de 100: 0.1789886289486829 (kΩ)\n"
          ]
        }
      ]
    },
    {
      "cell_type": "markdown",
      "source": [
        "Estimativa Padrão dos 100 resistores:"
      ],
      "metadata": {
        "id": "9KD_tjHqIg4d"
      }
    },
    {
      "cell_type": "code",
      "source": [
        "print ( \"R100 = {:.3f} ± {:.3f} (kΩ)\".format( np.round( np.mean( array_100 ), 3 ), np.round( sigma_m100, 3 ) ) )\n"
      ],
      "metadata": {
        "colab": {
          "base_uri": "https://localhost:8080/"
        },
        "id": "msPvhaqEImAO",
        "outputId": "27044c23-478e-4255-b4d5-e807c5dac049"
      },
      "execution_count": 87,
      "outputs": [
        {
          "output_type": "stream",
          "name": "stdout",
          "text": [
            "R100 = 178.412 ± 0.178 (kΩ)\n"
          ]
        }
      ]
    },
    {
      "cell_type": "markdown",
      "source": [
        "Grupo 01 de valores de resistências:"
      ],
      "metadata": {
        "id": "gUJI8Lu67Ma5"
      }
    },
    {
      "cell_type": "code",
      "source": [
        "amplitude_GR01=(np.max(array_GR01)-np.min(array_GR01))\n",
        "print ( \"Valor mínimo: {}\".format( np.min(array_GR01) ),\"(kΩ)\" )\n",
        "print ( \"Valor máximo: {}\".format( np.max(array_GR01) ),\"(kΩ)\" )\n",
        "print ( \"Amplitude: {}\".format( amplitude_GR01 ) ,\"(kΩ)\")"
      ],
      "metadata": {
        "colab": {
          "base_uri": "https://localhost:8080/"
        },
        "id": "L2AHiMPx7LL2",
        "outputId": "24c05c62-7cd3-4037-b400-933521938c0b"
      },
      "execution_count": 66,
      "outputs": [
        {
          "output_type": "stream",
          "name": "stdout",
          "text": [
            "Valor mínimo: 176.7 (kΩ)\n",
            "Valor máximo: 181.8 (kΩ)\n",
            "Amplitude: 5.100000000000023 (kΩ)\n"
          ]
        }
      ]
    },
    {
      "cell_type": "code",
      "source": [
        "#Usando o NumPy\n",
        "np.mean( array_GR01 )"
      ],
      "metadata": {
        "colab": {
          "base_uri": "https://localhost:8080/"
        },
        "id": "z7lxEJzD8h-J",
        "outputId": "6764fcd4-2604-4804-b1fd-a87cd7b05001"
      },
      "execution_count": 67,
      "outputs": [
        {
          "output_type": "execute_result",
          "data": {
            "text/plain": [
              "178.41500000000002"
            ]
          },
          "metadata": {},
          "execution_count": 67
        }
      ]
    },
    {
      "cell_type": "code",
      "source": [
        "#Calculo da média\n",
        "N1_20=len(array_GR01)\n",
        "media_GR01=(np.sum(array_GR01)/N1_20)\n",
        "vmin = np.min(array_GR01)\n",
        "vmax = np.max(array_GR01)\n",
        "\n",
        "print(\"média do conjunto de 20 resistores do Grupo 01: {}\".format( (media_GR01)),\"(kΩ)\")"
      ],
      "metadata": {
        "colab": {
          "base_uri": "https://localhost:8080/"
        },
        "id": "3k2WDajh7dIr",
        "outputId": "b1864761-7621-410f-8ebe-a63cc3957e5c"
      },
      "execution_count": 68,
      "outputs": [
        {
          "output_type": "stream",
          "name": "stdout",
          "text": [
            "média do conjunto de 20 resistores do Grupo 01: 178.41500000000002 (kΩ)\n"
          ]
        }
      ]
    },
    {
      "cell_type": "code",
      "source": [
        "fig = plt.figure( figsize=(8,6) )\n",
        "\n",
        "counts, bins, _ = plt.hist( array_GR01, bins=21, range=[vmin,vmax])\n",
        "#plt.xlim( 15, 40 )\n",
        "plt.xlabel( \"Resistência (kΩ)\", fontsize=18 )\n",
        "plt.ylabel( \"Frequência\", fontsize=18 )\n",
        "plt.title('Histograma das resistências do Grupo 01 de 20 Resistores', fontsize=12 )\n"
      ],
      "metadata": {
        "colab": {
          "base_uri": "https://localhost:8080/",
          "height": 593
        },
        "id": "iokbp7I884l0",
        "outputId": "b4949796-6108-45d5-ed1f-1810ab34e12b"
      },
      "execution_count": 69,
      "outputs": [
        {
          "output_type": "execute_result",
          "data": {
            "text/plain": [
              "Text(0.5, 1.0, 'Histograma das resistências do Grupo 01 de 20 Resistores')"
            ]
          },
          "metadata": {},
          "execution_count": 69
        },
        {
          "output_type": "display_data",
          "data": {
            "text/plain": [
              "<Figure size 800x600 with 1 Axes>"
            ],
            "image/png": "[encoded data removed]"
          },
          "metadata": {}
        }
      ]
    },
    {
      "cell_type": "code",
      "source": [
        "var_gr1 = np.var( array_GR01, ddof=1 )\n",
        "print ( \"Variância do Grupo 01: {}\".format(var_gr1), \"(k^2Ω)\" )\n",
        "print ( \"Desvio Padrao do do Grupo 01: {}\".format(np.sqrt(var_gr1)),\"(kΩ)\" )\n",
        "sigma_m1 = np.std( array_GR01, ddof=1 )/np.sqrt(N1_20)\n",
        "print ( \"Erro da média do Grupo 01: {}\".format(np.std( array_GR01, ddof=1 )/np.sqrt(N1_20)),\"(kΩ)\" )"
      ],
      "metadata": {
        "colab": {
          "base_uri": "https://localhost:8080/"
        },
        "id": "ed9bvU1o9hKV",
        "outputId": "149ad501-68c5-44b7-cbff-72c8a523176d"
      },
      "execution_count": 70,
      "outputs": [
        {
          "output_type": "stream",
          "name": "stdout",
          "text": [
            "Variância do Grupo 01: 1.711868421052636 (k^2Ω)\n",
            "Desvio Padrao do do Grupo 01: 1.3083838966651324 (kΩ)\n",
            "Erro da média do Grupo 01: 0.29256353336092966 (kΩ)\n"
          ]
        }
      ]
    },
    {
      "cell_type": "markdown",
      "source": [
        "Estimativa Padrão GR01:"
      ],
      "metadata": {
        "id": "VY9oBKm0IYoR"
      }
    },
    {
      "cell_type": "code",
      "source": [
        "print ( \"R1 = {:.3f} ± {:.3f} (kΩ)\".format( np.round( np.mean( array_GR01 ), 3), np.round( sigma_m1, 3 ) ) )\n"
      ],
      "metadata": {
        "colab": {
          "base_uri": "https://localhost:8080/"
        },
        "id": "FheedpkHIbYu",
        "outputId": "203e287c-0ac6-464c-ee46-a4bc4d195a26"
      },
      "execution_count": 85,
      "outputs": [
        {
          "output_type": "stream",
          "name": "stdout",
          "text": [
            "R1 = 178.415 ± 0.293 (kΩ)\n"
          ]
        }
      ]
    },
    {
      "cell_type": "markdown",
      "source": [
        "Grupo 02 de valores de resistências:"
      ],
      "metadata": {
        "id": "RDM1ZLtm-BmV"
      }
    },
    {
      "cell_type": "code",
      "source": [
        "#Calculo da média\n",
        "N2_20=len(array_GR02)\n",
        "media_GR02=(np.sum(array_GR02)/N2_20)\n",
        "vmin = np.min(array_GR02)\n",
        "vmax = np.max(array_GR02)\n",
        "amplitude_GR02=(np.max(array_GR02)-np.min(array_GR02))\n",
        "print ( \"Valor mínimo: {}\".format( np.min(array_GR02) ),\"(kΩ)\" )\n",
        "print ( \"Valor máximo: {}\".format( np.max(array_GR02) ),\"(kΩ)\" )\n",
        "print ( \"Amplitude: {}\".format( amplitude_GR02 ) ,\"(kΩ)\")\n",
        "print(\"média do conjunto de 20 resistores do Grupo 02: {}\".format( (media_GR02)),\"(kΩ)\")"
      ],
      "metadata": {
        "colab": {
          "base_uri": "https://localhost:8080/"
        },
        "id": "4R6g1PYp8LXO",
        "outputId": "794dbf25-f136-479b-97ba-4a661cd4d967"
      },
      "execution_count": 72,
      "outputs": [
        {
          "output_type": "stream",
          "name": "stdout",
          "text": [
            "Valor mínimo: 174.8 (kΩ)\n",
            "Valor máximo: 180.9 (kΩ)\n",
            "Amplitude: 6.099999999999994 (kΩ)\n",
            "média do conjunto de 20 resistores do Grupo 02: 178.12000000000003 (kΩ)\n"
          ]
        }
      ]
    },
    {
      "cell_type": "code",
      "source": [
        "#Usando o NumPy\n",
        "np.mean( array_GR02 )"
      ],
      "metadata": {
        "colab": {
          "base_uri": "https://localhost:8080/"
        },
        "id": "2Pr-W242744A",
        "outputId": "58cbcee1-c156-4555-eb30-750210f4770a"
      },
      "execution_count": 73,
      "outputs": [
        {
          "output_type": "execute_result",
          "data": {
            "text/plain": [
              "178.12000000000003"
            ]
          },
          "metadata": {},
          "execution_count": 73
        }
      ]
    },
    {
      "cell_type": "code",
      "source": [
        "fig = plt.figure( figsize=(8,6) )\n",
        "\n",
        "counts, bins, _ = plt.hist( array_GR02, bins=21, range=[vmin,vmax])\n",
        "#plt.xlim( 15, 40 )\n",
        "plt.xlabel( \"Resistência (kΩ)\", fontsize=18 )\n",
        "plt.ylabel( \"Frequência\", fontsize=18 )\n",
        "plt.title('Histograma das resistências do Grupo 02 de 20 Resistores', fontsize=12 )\n"
      ],
      "metadata": {
        "colab": {
          "base_uri": "https://localhost:8080/",
          "height": 593
        },
        "id": "SCprkcBR9OHN",
        "outputId": "926de7af-b807-4b8c-d4ec-5bc3ecb767e0"
      },
      "execution_count": 74,
      "outputs": [
        {
          "output_type": "execute_result",
          "data": {
            "text/plain": [
              "Text(0.5, 1.0, 'Histograma das resistências do Grupo 02 de 20 Resistores')"
            ]
          },
          "metadata": {},
          "execution_count": 74
        },
        {
          "output_type": "display_data",
          "data": {
            "text/plain": [
              "<Figure size 800x600 with 1 Axes>"
            ],
            "image/png": "[encoded data removed]"
          },
          "metadata": {}
        }
      ]
    },
    {
      "cell_type": "code",
      "source": [
        "var_gr2 = np.var( array_GR02, ddof=1 )\n",
        "print ( \"Variância do Grupo 02: {}\".format(var_gr2), \"(k^2Ω)\" )\n",
        "print ( \"Desvio Padrao do do Grupo 02: {}\".format(np.sqrt(var_gr2)),\"(kΩ)\" )\n",
        "sigma_m2 = np.std( array_GR02, ddof=1 )/np.sqrt(N2_20)\n",
        "print ( \"Erro da média do Grupo 02: {}\".format(np.std( array_GR02, ddof=1 )/np.sqrt(N2_20)),\"(kΩ)\" )"
      ],
      "metadata": {
        "colab": {
          "base_uri": "https://localhost:8080/"
        },
        "id": "7ePQjySA-Jhv",
        "outputId": "985b7402-5a02-4513-f837-fc4a162ea458"
      },
      "execution_count": 75,
      "outputs": [
        {
          "output_type": "stream",
          "name": "stdout",
          "text": [
            "Variância do Grupo 02: 2.270105263157891 (k^2Ω)\n",
            "Desvio Padrao do do Grupo 02: 1.5066868497328472 (kΩ)\n",
            "Erro da média do Grupo 02: 0.3369054216807657 (kΩ)\n"
          ]
        }
      ]
    },
    {
      "cell_type": "markdown",
      "source": [
        "Estimativa Padrão GR02:"
      ],
      "metadata": {
        "id": "rLtZNAC9IM5E"
      }
    },
    {
      "cell_type": "code",
      "source": [
        "print ( \"R2 = {:.0f} ± {:.0f} (kΩ)\".format( np.round( np.mean( array_GR02 ), 0 ), np.round( sigma_m2, 0 ) ) )\n"
      ],
      "metadata": {
        "colab": {
          "base_uri": "https://localhost:8080/"
        },
        "id": "CEv0mmY_IML8",
        "outputId": "3abd887c-b9b2-4071-f9de-0c454e4888bd"
      },
      "execution_count": 76,
      "outputs": [
        {
          "output_type": "stream",
          "name": "stdout",
          "text": [
            "R2 = 178 ± 0 (kΩ)\n"
          ]
        }
      ]
    },
    {
      "cell_type": "markdown",
      "source": [
        "Grupo 03 de valores de resistências:"
      ],
      "metadata": {
        "id": "4WFO_cs--ZZc"
      }
    },
    {
      "cell_type": "code",
      "source": [
        "#Calculo da média\n",
        "N3_20=len(array_GR03)\n",
        "media_GR03=(np.sum(array_GR03)/N3_20)\n",
        "vmin = np.min(array_GR03)\n",
        "vmax = np.max(array_GR03)\n",
        "amplitude_GR03=(np.max(array_GR03)-np.min(array_GR03))\n",
        "print ( \"Valor mínimo: {}\".format( np.min(array_GR03) ),\"(kΩ)\")\n",
        "print ( \"Valor máximo: {}\".format( np.max(array_GR03) ) ,\"(kΩ)\")\n",
        "print ( \"Amplitude: {}\".format( amplitude_GR03 ),\"(kΩ)\" )\n",
        "print(\"média do conjunto de 20 resistores do Grupo 03: {}\".format( (media_GR03)),\"(kΩ)\")"
      ],
      "metadata": {
        "colab": {
          "base_uri": "https://localhost:8080/"
        },
        "id": "WvMuO5Gk-YjT",
        "outputId": "20676a86-e1d1-47bf-e2ea-d975fee0f650"
      },
      "execution_count": 77,
      "outputs": [
        {
          "output_type": "stream",
          "name": "stdout",
          "text": [
            "Valor mínimo: 176.2 (kΩ)\n",
            "Valor máximo: 183.0 (kΩ)\n",
            "Amplitude: 6.800000000000011 (kΩ)\n",
            "média do conjunto de 20 resistores do Grupo 03: 178.42000000000002 (kΩ)\n"
          ]
        }
      ]
    },
    {
      "cell_type": "code",
      "source": [
        "#Usando o NumPy\n",
        "np.mean( array_GR03 )"
      ],
      "metadata": {
        "colab": {
          "base_uri": "https://localhost:8080/"
        },
        "id": "js6kGJD8-4NK",
        "outputId": "9d0223f7-882d-41be-d9c4-1f01f3b0a987"
      },
      "execution_count": 78,
      "outputs": [
        {
          "output_type": "execute_result",
          "data": {
            "text/plain": [
              "178.42000000000002"
            ]
          },
          "metadata": {},
          "execution_count": 78
        }
      ]
    },
    {
      "cell_type": "code",
      "source": [
        "fig = plt.figure( figsize=(8,6) )\n",
        "\n",
        "counts, bins, _ = plt.hist( array_GR03, bins=21, range=[vmin,vmax])\n",
        "#plt.xlim( 15, 40 )\n",
        "plt.xlabel( \"Resistência (kΩ)\", fontsize=18 )\n",
        "plt.ylabel( \"Frequência\", fontsize=18 )\n",
        "plt.title('Histograma das resistências do Grupo 03 de 20 Resistores', fontsize=12 )\n"
      ],
      "metadata": {
        "colab": {
          "base_uri": "https://localhost:8080/",
          "height": 593
        },
        "id": "mDzq1mq__mNv",
        "outputId": "d2a13b47-9248-497a-dadf-f3cbc291e18d"
      },
      "execution_count": 79,
      "outputs": [
        {
          "output_type": "execute_result",
          "data": {
            "text/plain": [
              "Text(0.5, 1.0, 'Histograma das resistências do Grupo 03 de 20 Resistores')"
            ]
          },
          "metadata": {},
          "execution_count": 79
        },
        {
          "output_type": "display_data",
          "data": {
            "text/plain": [
              "<Figure size 800x600 with 1 Axes>"
            ],
            "image/png": "[encoded data removed]"
          },
          "metadata": {}
        }
      ]
    },
    {
      "cell_type": "code",
      "source": [
        "var_gr3 = np.var( array_GR03, ddof=1 )\n",
        "print ( \"Variância do Grupo 03: {}\".format(var_gr3), \"(k^2Ω)\" )\n",
        "print ( \"Desvio Padrao do do Grupo 03: {}\".format(np.sqrt(var_gr3)),\"(kΩ)\" )\n",
        "sigma_m3 = np.std( array_GR03, ddof=1 )/np.sqrt(N3_20)\n",
        "print ( \"Erro da média do Grupo 03: {}\".format(np.std( array_GR03, ddof=1 )/np.sqrt(N3_20)),\"(kΩ)\" )"
      ],
      "metadata": {
        "colab": {
          "base_uri": "https://localhost:8080/"
        },
        "id": "7F6LaehY_uSe",
        "outputId": "fd886c38-4201-4651-8318-6973c3125d70"
      },
      "execution_count": 80,
      "outputs": [
        {
          "output_type": "stream",
          "name": "stdout",
          "text": [
            "Variância do Grupo 03: 3.059578947368427 (k^2Ω)\n",
            "Desvio Padrao do do Grupo 03: 1.7491652144289935 (kΩ)\n",
            "Erro da média do Grupo 03: 0.39112523233412255 (kΩ)\n"
          ]
        }
      ]
    },
    {
      "cell_type": "markdown",
      "source": [
        "Estimativa Padrão GR03:"
      ],
      "metadata": {
        "id": "rpkKz3I1IBqM"
      }
    },
    {
      "cell_type": "code",
      "source": [
        "print ( \"R3 = {:.0f} ± {:.0f} (kΩ)\".format( np.round( np.mean( array_GR03 ), 1 ), np.round( sigma_m3, 1 ) ) )\n"
      ],
      "metadata": {
        "colab": {
          "base_uri": "https://localhost:8080/"
        },
        "id": "-5YjoqQ5IFnT",
        "outputId": "dd26c066-1f03-4cef-d033-9221262163b7"
      },
      "execution_count": 81,
      "outputs": [
        {
          "output_type": "stream",
          "name": "stdout",
          "text": [
            "R3 = 178 ± 0 (kΩ)\n"
          ]
        }
      ]
    },
    {
      "cell_type": "markdown",
      "source": [
        "Grupo 04 de valores de resistências:"
      ],
      "metadata": {
        "id": "g-nT1Lv0BQCd"
      }
    },
    {
      "cell_type": "code",
      "source": [
        "#Calculo da média\n",
        "N4_20=len(array_GR04)\n",
        "media_GR04=(np.sum(array_GR04)/N4_20)\n",
        "vmin = np.min(array_GR04)\n",
        "vmax = np.max(array_GR04)\n",
        "amplitude_GR04=(np.max(array_GR04)-np.min(array_GR04))\n",
        "print ( \"Valor mínimo: {}\".format( np.min(array_GR04) ),\"(kΩ)\")\n",
        "print ( \"Valor máximo: {}\".format( np.max(array_GR04) ) ,\"(kΩ)\")\n",
        "print ( \"Amplitude: {}\".format( amplitude_GR04 ),\"(kΩ)\" )\n",
        "print(\"média do conjunto de 20 resistências do Grupo 04: {}\".format( (media_GR04)),\"(kΩ)\")"
      ],
      "metadata": {
        "colab": {
          "base_uri": "https://localhost:8080/"
        },
        "id": "A_1GW6yeByQ_",
        "outputId": "bac4fa2f-9e81-49a7-f6eb-c0ecc818f473"
      },
      "execution_count": 82,
      "outputs": [
        {
          "output_type": "stream",
          "name": "stdout",
          "text": [
            "Valor mínimo: 175.3 (kΩ)\n",
            "Valor máximo: 188.4 (kΩ)\n",
            "Amplitude: 13.099999999999994 (kΩ)\n",
            "média do conjunto de 20 resistências do Grupo 04: 178.62 (kΩ)\n"
          ]
        }
      ]
    },
    {
      "cell_type": "code",
      "source": [
        "#Usando o NumPy\n",
        "np.mean( array_GR04 )"
      ],
      "metadata": {
        "colab": {
          "base_uri": "https://localhost:8080/"
        },
        "id": "3tAVNm99Byll",
        "outputId": "3f801739-3c6f-4491-de09-e85ca324a312"
      },
      "execution_count": 83,
      "outputs": [
        {
          "output_type": "execute_result",
          "data": {
            "text/plain": [
              "178.62"
            ]
          },
          "metadata": {},
          "execution_count": 83
        }
      ]
    },
    {
      "cell_type": "code",
      "source": [
        "fig = plt.figure( figsize=(8,6) )\n",
        "\n",
        "counts, bins, _ = plt.hist( array_GR04, bins=21, range=[vmin,vmax])\n",
        "#plt.xlim( 15, 40 )\n",
        "plt.xlabel( \"Resistência (kΩ)\", fontsize=18 )\n",
        "plt.ylabel( \"Frequência\", fontsize=18 )\n",
        "plt.title('Histograma das resistências do Grupo 04 de 20 Resistores', fontsize=12 )\n"
      ],
      "metadata": {
        "colab": {
          "base_uri": "https://localhost:8080/",
          "height": 593
        },
        "id": "ObccGQYYCJDl",
        "outputId": "a75fa22c-4485-424d-d8ad-6eb82565ef6b"
      },
      "execution_count": 31,
      "outputs": [
        {
          "output_type": "execute_result",
          "data": {
            "text/plain": [
              "Text(0.5, 1.0, 'Histograma das resistências do Grupo 04 de 20 Resistores')"
            ]
          },
          "metadata": {},
          "execution_count": 31
        },
        {
          "output_type": "display_data",
          "data": {
            "text/plain": [
              "<Figure size 800x600 with 1 Axes>"
            ],
            "image/png": "[encoded data removed]"
          },
          "metadata": {}
        }
      ]
    },
    {
      "cell_type": "code",
      "source": [
        "var_gr4 = np.var( array_GR04, ddof=1 )\n",
        "print ( \"Variância do Grupo 04: {}\".format(var_gr4), \"(k^2Ω)\" )\n",
        "print ( \"Desvio Padrao do do Grupo 04: {}\".format(np.sqrt(var_gr4)),\"(kΩ)\" )\n",
        "sigma_m4 = np.std( array_GR04, ddof=1 )/np.sqrt(N4_20)\n",
        "print ( \"Erro da média do Grupo 04: {}\".format(np.std( array_GR04, ddof=1 )/np.sqrt(N4_20)),\"(kΩ)\" )"
      ],
      "metadata": {
        "colab": {
          "base_uri": "https://localhost:8080/"
        },
        "id": "owXv6yuTCVKu",
        "outputId": "c3d9b5e2-34f4-43b0-f04d-c57781d3be6e"
      },
      "execution_count": 32,
      "outputs": [
        {
          "output_type": "stream",
          "name": "stdout",
          "text": [
            "Variância do Grupo 04: 7.436421052631571 (k^2Ω)\n",
            "Desvio Padrao do do Grupo 04: 2.7269802075980625 (kΩ)\n",
            "Erro da média do Grupo 04: 0.6097713117485756 (kΩ)\n"
          ]
        }
      ]
    },
    {
      "cell_type": "markdown",
      "source": [
        "Estimativa Padrão GR04:"
      ],
      "metadata": {
        "id": "5FZWw7mmH7ac"
      }
    },
    {
      "cell_type": "code",
      "source": [
        "print ( \"R4 = {:.0f} ± {:.0f} (kΩ)\".format( np.round( np.mean( array_GR04 ), 1 ), np.round( sigma_m4, 1 ) ) )\n"
      ],
      "metadata": {
        "colab": {
          "base_uri": "https://localhost:8080/"
        },
        "id": "3dY4Lvl4HzT7",
        "outputId": "b62980c8-f77b-43b1-a299-883e075ed0a1"
      },
      "execution_count": 33,
      "outputs": [
        {
          "output_type": "stream",
          "name": "stdout",
          "text": [
            "R4 = 179 ± 1 (kΩ)\n"
          ]
        }
      ]
    },
    {
      "cell_type": "markdown",
      "source": [
        "Grupo 05 de valores de resistências:\n"
      ],
      "metadata": {
        "id": "iBI34d-wCjOB"
      }
    },
    {
      "cell_type": "code",
      "source": [
        "#Calculo da média\n",
        "N5_20=len(array_GR05)\n",
        "media_GR05=(np.sum(array_GR05)/N5_20)\n",
        "vmin = np.min(array_GR05)\n",
        "vmax = np.max(array_GR05)\n",
        "amplitude_GR05=(np.max(array_GR05)-np.min(array_GR05))\n",
        "print ( \"Valor mínimo: {}\".format( np.min(array_GR05) ),\"(kΩ)\")\n",
        "print ( \"Valor máximo: {}\".format( np.max(array_GR05) ) ,\"(kΩ)\")\n",
        "print ( \"Amplitude: {}\".format( amplitude_GR05 ),\"(kΩ)\" )\n",
        "print(\"média do conjunto de 20 resistências do Grupo 05: {}\".format( (media_GR05)),\"(kΩ)\")"
      ],
      "metadata": {
        "colab": {
          "base_uri": "https://localhost:8080/"
        },
        "id": "8S7RGXo7CbzD",
        "outputId": "49ea029f-12ae-43aa-98c0-1ebed71e4006"
      },
      "execution_count": 34,
      "outputs": [
        {
          "output_type": "stream",
          "name": "stdout",
          "text": [
            "Valor mínimo: 176.2 (kΩ)\n",
            "Valor máximo: 181.8 (kΩ)\n",
            "Amplitude: 5.600000000000023 (kΩ)\n",
            "média do conjunto de 20 resistências do Grupo 05: 178.485 (kΩ)\n"
          ]
        }
      ]
    },
    {
      "cell_type": "code",
      "source": [
        "#Usando o NumPy\n",
        "np.mean( array_GR05 )"
      ],
      "metadata": {
        "colab": {
          "base_uri": "https://localhost:8080/"
        },
        "id": "FBrXEDBVC-9-",
        "outputId": "37acca9d-865d-4901-91fc-b6dc507ed784"
      },
      "execution_count": 35,
      "outputs": [
        {
          "output_type": "execute_result",
          "data": {
            "text/plain": [
              "178.485"
            ]
          },
          "metadata": {},
          "execution_count": 35
        }
      ]
    },
    {
      "cell_type": "code",
      "source": [
        "fig = plt.figure( figsize=(8,6) )\n",
        "\n",
        "counts, bins, _ = plt.hist( array_GR05, bins=21, range=[vmin,vmax])\n",
        "#plt.xlim( 15, 40 )\n",
        "plt.xlabel( \"Resistência (kΩ)\", fontsize=18 )\n",
        "plt.ylabel( \"Frequência\", fontsize=18 )\n",
        "plt.title('Histograma das resistências do Grupo 05 de 20 Resistores', fontsize=12 )"
      ],
      "metadata": {
        "colab": {
          "base_uri": "https://localhost:8080/",
          "height": 593
        },
        "id": "zeF73imBDDkc",
        "outputId": "e1abbc85-2b8d-4def-8b66-daa83c119d81"
      },
      "execution_count": 36,
      "outputs": [
        {
          "output_type": "execute_result",
          "data": {
            "text/plain": [
              "Text(0.5, 1.0, 'Histograma das resistências do Grupo 05 de 20 Resistores')"
            ]
          },
          "metadata": {},
          "execution_count": 36
        },
        {
          "output_type": "display_data",
          "data": {
            "text/plain": [
              "<Figure size 800x600 with 1 Axes>"
            ],
            "image/png": "[encoded data removed]"
          },
          "metadata": {}
        }
      ]
    },
    {
      "cell_type": "code",
      "source": [
        "var_gr5 = np.var( array_GR05, ddof=1 )\n",
        "print ( \"Variância do Grupo 05: {}\".format(var_gr5), \"(k^2Ω)\" )\n",
        "print ( \"Desvio Padrao do do Grupo 05: {}\".format(np.sqrt(var_gr5)),\"(kΩ)\" )\n",
        "sigma_m5 = np.std( array_GR05, ddof=1 )/np.sqrt(N5_20)\n",
        "print ( \"Erro da média do Grupo 05: {}\".format(np.std( array_GR05, ddof=1 )/np.sqrt(N5_20)),\"(kΩ)\" )"
      ],
      "metadata": {
        "colab": {
          "base_uri": "https://localhost:8080/"
        },
        "id": "EmL-E19YENJ2",
        "outputId": "77b25642-9b11-4468-a5c5-e492beb0a845"
      },
      "execution_count": 37,
      "outputs": [
        {
          "output_type": "stream",
          "name": "stdout",
          "text": [
            "Variância do Grupo 05: 2.073973684210528 (k^2Ω)\n",
            "Desvio Padrao do do Grupo 05: 1.440129745616876 (kΩ)\n",
            "Erro da média do Grupo 05: 0.32202280076188144 (kΩ)\n"
          ]
        }
      ]
    },
    {
      "cell_type": "markdown",
      "source": [
        "Estimativa Padrão GR05:\n"
      ],
      "metadata": {
        "id": "Yp9HhY_mHVrT"
      }
    },
    {
      "cell_type": "code",
      "source": [
        "print ( \"R5 = {:.0f} ± {:.0f} (kΩ)\".format( np.round( np.mean( array_GR05 ), 1 ), np.round( sigma_m5, 1 ) ) )\n"
      ],
      "metadata": {
        "colab": {
          "base_uri": "https://localhost:8080/"
        },
        "id": "qOaQKay7FqAY",
        "outputId": "2c1c34ef-98bb-463c-86fc-8a41f4d86234"
      },
      "execution_count": 38,
      "outputs": [
        {
          "output_type": "stream",
          "name": "stdout",
          "text": [
            "R5 = 178 ± 0 (kΩ)\n"
          ]
        }
      ]
    },
    {
      "cell_type": "markdown",
      "source": [
        "Média das Médias:"
      ],
      "metadata": {
        "id": "g6BUml-nJTBR"
      }
    },
    {
      "cell_type": "code",
      "source": [
        "array_GRM = [np.mean( array_GR01 ),np.mean( array_GR02 ),np.mean( array_GR03 ),np.mean( array_GR04),np.mean( array_GR05)] #kΩ"
      ],
      "metadata": {
        "id": "DQmfYQPuJRDd"
      },
      "execution_count": 39,
      "outputs": []
    },
    {
      "cell_type": "code",
      "source": [
        "N=len(array_GRM)\n",
        "media_GRM=(np.sum(array_GRM)/N)\n",
        "vmin = np.min(array_GRM)\n",
        "vmax = np.max(array_GRM)\n",
        "amplitude_GRM=(np.max(array_GRM)-np.min(array_GRM))\n",
        "print ( \"Valor mínimo: {}\".format( np.min(array_GRM) ),\"(kΩ)\")\n",
        "print ( \"Valor máximo: {}\".format( np.max(array_GRM) ) ,\"(kΩ)\")\n",
        "print ( \"Amplitude: {}\".format( amplitude_GRM ),\"(kΩ)\" )\n",
        "print(\"média do conjunto das médias das resistências: {}\".format( (media_GRM)),\"(kΩ)\")"
      ],
      "metadata": {
        "colab": {
          "base_uri": "https://localhost:8080/"
        },
        "id": "d8JBQ_57JrWB",
        "outputId": "7409b1c1-bce2-444d-9bae-7024dc77ac39"
      },
      "execution_count": 40,
      "outputs": [
        {
          "output_type": "stream",
          "name": "stdout",
          "text": [
            "Valor mínimo: 178.12000000000003 (kΩ)\n",
            "Valor máximo: 178.62 (kΩ)\n",
            "Amplitude: 0.4999999999999716 (kΩ)\n",
            "média do conjunto das médias das resistências: 178.41200000000003 (kΩ)\n"
          ]
        }
      ]
    },
    {
      "cell_type": "code",
      "source": [
        "#Usando o NumPy\n",
        "np.mean( array_GRM )"
      ],
      "metadata": {
        "colab": {
          "base_uri": "https://localhost:8080/"
        },
        "id": "EVqLEW9MKBOl",
        "outputId": "a16e6263-5ad1-4beb-b693-972cd9e25c0c"
      },
      "execution_count": 41,
      "outputs": [
        {
          "output_type": "execute_result",
          "data": {
            "text/plain": [
              "178.41200000000003"
            ]
          },
          "metadata": {},
          "execution_count": 41
        }
      ]
    },
    {
      "cell_type": "code",
      "source": [
        "fig = plt.figure( figsize=(8,6) )\n",
        "\n",
        "counts, bins, _ = plt.hist( array_GRM, bins=21, range=[vmin,vmax])\n",
        "#plt.xlim( 15, 40 )\n",
        "plt.xlabel( \"Resistência (kΩ)\", fontsize=18 )\n",
        "plt.ylabel( \"Frequência\", fontsize=18 )\n",
        "plt.title('Histograma das resistências do grupo das médias', fontsize=12 )"
      ],
      "metadata": {
        "colab": {
          "base_uri": "https://localhost:8080/",
          "height": 593
        },
        "id": "T5IMIXaKKFv6",
        "outputId": "a21847a4-babb-4060-c727-00b470cbaf97"
      },
      "execution_count": 42,
      "outputs": [
        {
          "output_type": "execute_result",
          "data": {
            "text/plain": [
              "Text(0.5, 1.0, 'Histograma das resistências do grupo das médias')"
            ]
          },
          "metadata": {},
          "execution_count": 42
        },
        {
          "output_type": "display_data",
          "data": {
            "text/plain": [
              "<Figure size 800x600 with 1 Axes>"
            ],
            "image/png": "[encoded data removed]"
          },
          "metadata": {}
        }
      ]
    },
    {
      "cell_type": "code",
      "source": [
        "var_grm = np.var( array_GRM, ddof=1 )\n",
        "print ( \"Variância do Grupo das médias: {}\".format(var_grm), \"(k^2Ω)\" )\n",
        "print ( \"Desvio Padrao do do Grupo das médias: {}\".format(np.sqrt(var_grm)),\"(kΩ)\" )\n",
        "sigma_m = np.std( array_GRM, ddof=1 )/np.sqrt(N)\n",
        "print ( \"Erro da média do Grupo das médias: {}\".format(np.std( array_GRM, ddof=1 )/np.sqrt(N)),\"(kΩ)\" )"
      ],
      "metadata": {
        "colab": {
          "base_uri": "https://localhost:8080/"
        },
        "id": "okn9_8NxK8p_",
        "outputId": "50893771-3227-448e-ba1e-f30b59767c2c"
      },
      "execution_count": 43,
      "outputs": [
        {
          "output_type": "stream",
          "name": "stdout",
          "text": [
            "Variância do Grupo das médias: 0.03348249999999625 (k^2Ω)\n",
            "Desvio Padrao do do Grupo das médias: 0.1829822395753103 (kΩ)\n",
            "Erro da média do Grupo das médias: 0.08183214527310921 (kΩ)\n"
          ]
        }
      ]
    },
    {
      "cell_type": "markdown",
      "source": [
        "Estimativa padrão do grupo das médias:"
      ],
      "metadata": {
        "id": "enmXcz_QLQ8z"
      }
    },
    {
      "cell_type": "code",
      "source": [
        "print ( \"RM = {:.0f} ± {:.0f} (kΩ)\".format( np.round( np.mean( array_GRM ), 1 ), np.round( sigma_m, 1 ) ) )\n"
      ],
      "metadata": {
        "colab": {
          "base_uri": "https://localhost:8080/"
        },
        "id": "M7x6fzbaLP6V",
        "outputId": "d13749ab-a3fc-471e-e184-ab8f1ed525da"
      },
      "execution_count": 44,
      "outputs": [
        {
          "output_type": "stream",
          "name": "stdout",
          "text": [
            "RM = 178 ± 0 (kΩ)\n"
          ]
        }
      ]
    },
    {
      "cell_type": "markdown",
      "source": [
        "Desvio Padrão do conjunto com 100 resistores:\n"
      ],
      "metadata": {
        "id": "YvGHv4KlDPxf"
      }
    },
    {
      "cell_type": "code",
      "source": [
        "sigma_L_p = np.std( array_100, ddof=0 )\n",
        "print ( \"Desvio padrão populacional (kΩ) = {}\".format(sigma_L_p  ) )\n",
        "\n",
        "sigma_L_a = np.std( array_100, ddof=1 )\n",
        "print ( \"Desvio padrão amostral (kΩ) = {}\".format(sigma_L_a  ) )\n",
        "\n"
      ],
      "metadata": {
        "colab": {
          "base_uri": "https://localhost:8080/"
        },
        "id": "iOAZ7tki6SPI",
        "outputId": "0834d90d-e19c-4572-eb19-e345e62146a6"
      },
      "execution_count": 86,
      "outputs": [
        {
          "output_type": "stream",
          "name": "stdout",
          "text": [
            "Desvio padrão populacional (kΩ) = 1.7809143718887779\n",
            "Desvio padrão amostral (kΩ) = 1.789886289486829\n"
          ]
        }
      ]
    },
    {
      "cell_type": "markdown",
      "source": [
        "Erro Relativo:"
      ],
      "metadata": {
        "id": "0hsL--e7EulM"
      }
    },
    {
      "cell_type": "code",
      "source": [
        "erro_relativo100 = sigma_m100 / media_100\n",
        "print ( \"Erro relativo das medidas dos 100 resistores = {}\".format( erro_relativo100*100 ),\"(kΩ)\" )\n",
        "erro_relativo1 = sigma_m1/ media_GR01\n",
        "print ( \"Erro relativo das medidas do grupo 1 = {}\".format( erro_relativo1*100  ),\"(kΩ)\" )\n",
        "erro_relativo2 = sigma_m2/ media_GR02\n",
        "print ( \"Erro relativo das medidas do grupo 2 = {}\".format( erro_relativo2*100  ),\"(kΩ)\" )\n",
        "erro_relativo3 = sigma_m3/ media_GR03\n",
        "print ( \"Erro relativo das medidas do grupo 3 = {}\".format( erro_relativo3*100  ),\"(kΩ)\" )\n",
        "erro_relativo4 = sigma_m4/ media_GR04\n",
        "print ( \"Erro relativo das medidas do grupo 4 = {}\".format( erro_relativo4*100  ),\"(kΩ)\" )\n",
        "erro_relativo5 = sigma_m5/ media_GR05\n",
        "print ( \"Erro relativo das medidas do grupo 5 = {}\".format( erro_relativo5*100  ),\"(kΩ)\" )\n",
        "erro_relativoM = sigma_m/ media_GRM\n",
        "print ( \"Erro relativo das medidas do grupo das médias = {}\".format( erro_relativoM*100  ),\"(kΩ)\" )"
      ],
      "metadata": {
        "colab": {
          "base_uri": "https://localhost:8080/"
        },
        "id": "KZNFZoC3Ewte",
        "outputId": "9051a0ee-307e-4f5d-eec5-0a204764407c"
      },
      "execution_count": 46,
      "outputs": [
        {
          "output_type": "stream",
          "name": "stdout",
          "text": [
            "Erro relativo das medidas dos 100 resistores = 0.09982032441140608 (kΩ)\n",
            "Erro relativo das medidas do grupo 1 = 0.1639792244827675 (kΩ)\n",
            "Erro relativo das medidas do grupo 2 = 0.1891451951946809 (kΩ)\n",
            "Erro relativo das medidas do grupo 3 = 0.2192160252965601 (kΩ)\n",
            "Erro relativo das medidas do grupo 4 = 0.34137907946958657 (kΩ)\n",
            "Erro relativo das medidas do grupo 5 = 0.1804200917510611 (kΩ)\n",
            "Erro relativo das medidas do grupo das médias = 0.04586695136712171 (kΩ)\n"
          ]
        }
      ]
    },
    {
      "cell_type": "markdown",
      "source": [
        "Razão entre os erros das médias de cada grupo e o erro da média do conjunto completo:"
      ],
      "metadata": {
        "id": "zxdb1KYnUvwD"
      }
    },
    {
      "cell_type": "code",
      "source": [
        "erro_r1 = sigma_m1/sigma_m100\n",
        "print ( \"Razão do sigma_m1/sigma_m100   = {}\".format( np.round(erro_r1 ),2) )\n",
        "\n",
        "erro_r2 = sigma_m2/sigma_m100\n",
        "print ( \"Razão do sigma_m2/sigma_m100   = {}\".format( np.round(erro_r2 ) ,2))\n",
        "\n",
        "erro_r3 = sigma_m3/sigma_m100\n",
        "print ( \"Razão do sigma_m3/sigma_m100   = {}\".format(np.round( erro_r3 ),2 ))\n",
        "\n",
        "erro_r4 = sigma_m4/sigma_m100\n",
        "print ( \"Razão do sigma_m4/sigma_m100   = {}\".format( erro_r4 ) )\n",
        "\n",
        "erro_r5 = sigma_m5/sigma_m100\n",
        "print ( \"Razão do sigma_m5/sigma_m100   = {}\".format( np.round(erro_r5 ),2) )"
      ],
      "metadata": {
        "colab": {
          "base_uri": "https://localhost:8080/"
        },
        "id": "lb7d36i1VZWA",
        "outputId": "ad6188f0-895a-4fad-ecc7-9186d2e667f0"
      },
      "execution_count": 47,
      "outputs": [
        {
          "output_type": "stream",
          "name": "stdout",
          "text": [
            "Razão do sigma_m1/sigma_m100   = 2.0\n",
            "Razão do sigma_m2/sigma_m100   = 2.0\n",
            "Razão do sigma_m3/sigma_m100   = 2.0\n",
            "Razão do sigma_m4/sigma_m100   = 3.4239226847379114\n",
            "Razão do sigma_m5/sigma_m100   = 2.0\n"
          ]
        }
      ]
    },
    {
      "cell_type": "code",
      "source": [
        "print(\"O grupo de 100 é ou não compatível com o R de ref.:\",compatibilidadeRef(array_100))"
      ],
      "metadata": {
        "id": "1atw2noqsoCJ",
        "outputId": "80a55898-74d0-4bda-84a1-e6a305f57715",
        "colab": {
          "base_uri": "https://localhost:8080/"
        }
      },
      "execution_count": 48,
      "outputs": [
        {
          "output_type": "stream",
          "name": "stdout",
          "text": [
            "Incompatível 3995.6328683299557 0.1780914371888778 711.588\n",
            "O grupo de 100 é ou não compatível com o R de ref.: 3995.6328683299557\n"
          ]
        }
      ]
    },
    {
      "cell_type": "code",
      "source": [
        "print(\"O grupo 01 é  ou não compatível com o grupo de 100:\",compatibilidade(array_GR01))"
      ],
      "metadata": {
        "id": "782tMYOLsrp9",
        "outputId": "3a21976c-6e61-4cac-a370-c41742737c78",
        "colab": {
          "base_uri": "https://localhost:8080/"
        }
      },
      "execution_count": 49,
      "outputs": [
        {
          "output_type": "stream",
          "name": "stdout",
          "text": [
            "Compatível 0.008758984794313456 0.34250544674885364 0.0030000000000427463\n",
            "O grupo 01 é  ou não compatível com o grupo de 100: 0.008758984794313456\n"
          ]
        }
      ]
    },
    {
      "cell_type": "code",
      "source": [
        "print(\"O grupo 02 é  ou não compatível com o grupo de 100:\",compatibilidade(array_GR02))"
      ],
      "metadata": {
        "id": "2hu13ApisvGS",
        "outputId": "7fcb64b7-afa0-45db-dc91-d9e6205d3566",
        "colab": {
          "base_uri": "https://localhost:8080/"
        }
      },
      "execution_count": 50,
      "outputs": [
        {
          "output_type": "stream",
          "name": "stdout",
          "text": [
            "Compatível 0.7662436863902149 0.38107981205765096 0.29199999999994475\n",
            "O grupo 02 é  ou não compatível com o grupo de 100: 0.7662436863902149\n"
          ]
        }
      ]
    },
    {
      "cell_type": "code",
      "source": [
        "print(\"O grupo 03 é  ou não compatível com o grupo de 100:\",compatibilidade(array_GR03))"
      ],
      "metadata": {
        "id": "-xWKEZgysxWo",
        "outputId": "60e82a95-9507-4e3d-8959-00b740338ac7",
        "colab": {
          "base_uri": "https://localhost:8080/"
        }
      },
      "execution_count": 51,
      "outputs": [
        {
          "output_type": "stream",
          "name": "stdout",
          "text": [
            "Compatível 0.018614947735965354 0.42976215208929386 0.008000000000038199\n",
            "O grupo 03 é  ou não compatível com o grupo de 100: 0.018614947735965354\n"
          ]
        }
      ]
    },
    {
      "cell_type": "code",
      "source": [
        "print(\"O grupo 04 é  ou não compatível com o grupo de 100:\",compatibilidade(array_GR04))"
      ],
      "metadata": {
        "id": "B0kyLDlhs0KR",
        "outputId": "4241f0c7-c5b3-4236-ed95-63e3af6ad3ff",
        "colab": {
          "base_uri": "https://localhost:8080/"
        }
      },
      "execution_count": 52,
      "outputs": [
        {
          "output_type": "stream",
          "name": "stdout",
          "text": [
            "Compatível 0.3274321537657905 0.6352461039877211 0.20800000000002683\n",
            "O grupo 04 é  ou não compatível com o grupo de 100: 0.3274321537657905\n"
          ]
        }
      ]
    },
    {
      "cell_type": "code",
      "source": [
        "print(\"O grupo 05 é  ou não compatível com o grupo de 100:\",compatibilidade(array_GR05))"
      ],
      "metadata": {
        "id": "DxVZ9-hes3QG",
        "outputId": "9930e67f-00fa-46ba-e330-4e38fea3541b",
        "colab": {
          "base_uri": "https://localhost:8080/"
        }
      },
      "execution_count": 53,
      "outputs": [
        {
          "output_type": "stream",
          "name": "stdout",
          "text": [
            "Compatível 0.19837597828451792 0.3679881033546144 0.07300000000003593\n",
            "O grupo 05 é  ou não compatível com o grupo de 100: 0.19837597828451792\n"
          ]
        }
      ]
    }
  ]
}