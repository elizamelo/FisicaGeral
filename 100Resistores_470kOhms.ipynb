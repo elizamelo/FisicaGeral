{
  "nbformat": 4,
  "nbformat_minor": 0,
  "metadata": {
    "colab": {
      "provenance": [],
      "include_colab_link": true
    },
    "kernelspec": {
      "name": "python3",
      "display_name": "Python 3"
    },
    "language_info": {
      "name": "python"
    }
  },
  "cells": [
    {
      "cell_type": "markdown",
      "metadata": {
        "id": "view-in-github",
        "colab_type": "text"
      },
      "source": [
        "<a href=\"https://colab.research.google.com/github/elizamelo/FisicaGeral/blob/main/100Resistores_470kOhms.ipynb\" target=\"_parent\"><img src=\"https://colab.research.google.com/assets/colab-badge.svg\" alt=\"Open In Colab\"/></a>"
      ]
    },
    {
      "cell_type": "code",
      "source": [
        "import numpy as np\n",
        "import pandas as pd\n",
        "import matplotlib as mpl\n",
        "import matplotlib.pyplot as plt\n",
        "import statistics\n",
        "from scipy import stats\n"
      ],
      "metadata": {
        "id": "vZWvanwjzWry"
      },
      "execution_count": 12,
      "outputs": []
    },
    {
      "cell_type": "code",
      "source": [
        "\n",
        "#Valor nominal ou do fabricante\n",
        "R_ref= 470.0 #(kΩ)"
      ],
      "metadata": {
        "id": "_nUBLT9tpF9m"
      },
      "execution_count": 13,
      "outputs": []
    },
    {
      "cell_type": "code",
      "source": [
        "##Exemplo: Medidas dos 100 resistores de 470 ± 5% (kΩ)\n",
        "array_100 = [463,464,464,464,464,464,464,464,464,464,464,464,465,465,465,465,465,465,466,466,466,466,466,466,466,466,466,466,466,466,466,466,466,466,466,466,466,467,467,467,467,467,467,467,467,467,467,467,467,467,467,468,468,468,468,468,468,468,468,468,468,468,469,469,469,469,469,469,469,469,469,469,469,470,470,470,470,470,470,470,470,470,470,470,470,470,470,471,471,471,471,471,472,472,472,472,473,473,475,480]\n",
        "#array_100 = [463,464,464,464,466,466,466,467,468,469,469,469,469,470,470,470,470,470,471,472,64,464,465,466,466,466,467,467,467,467,467,468,469,469,469,470,470,471,472,473,464,464,464,465,466,466,466,466,466,466,467,468,468,468,468,469,469,470,470,470,465,465,465,466,466,466,466,467,467,467,467,467,468,468,469,469,470,472,472,480,464,464,464,465,466,466,466,467,467,468,468,468,470,470,470,471,471,471,473,475]\n",
        "array_GR01 = [463,464,464,464,466,466,466,467,468,469,469,469,469,470,470,470,470,470,471,472] #(k ohms)\n",
        "array_GR02 = [464,464,465,466,466,466,467,467,467,467,467,468,469,469,469,470,470,471,472,473] #(k ohms)\n",
        "array_GR03 = [464,464,464,465,466,466,466,466,466,466,467,468,468,468,468,469,469,470,470,470]\n",
        "array_GR04 = [465,465,465,466,466,466,466,467,467,467,467,467,468,468,469,469,470,472,472,480]\n",
        "array_GR05 = [464,464,464,465,466,466,466,467,467,468,468,468,470,470,470,471,471,471,473,475]\n",
        "#array_100 = [854,854,865,869,875,883,896,801,895,896,800,803,806,809,811,822,816,827,817,821,826,830,831,829,830,841,836,847,840,838,860,853,848,842,844,849,846,849,850,853,856,855,858,853,857,863,857,863,861,863,872,855,863,863,874,869,881,874,881,885,874,872,872,879,873,878,879,876,878,882,878,876,881,888,884,879,883,884,885,885,886,897,893,899,801,888,898,802,899,893,888,895,813,892,893,897,895,898,889,895]\n",
        "#array_GR01 = [854,854,865,869,875,883,896,801,895,896,800,803,806,809,811,822,816,827,817,821] #(k ohms)\n",
        "#array_GR02 = [826,830,831,829,830,841,836,847,840,838,860,853,848,842,844,849,846,849,850,853] #(k ohms)\n",
        "#array_GR03 = [856,855,858,853,857,863,857,863,861,863,872,855,863,863,874,869,881,874,881,885] #(k ohms)\n",
        "#array_GR04 = [874,872,872,879,873,878,879,876,878,882,878,876,881,888,884,879,883,884,885,885] #(k ohms)\n",
        "#array_GR05 = [886,897,893,899,801,888,898,802,899,893,888,895,813,892,893,897,895,898,889,895] #(k ohms)\n"
      ],
      "metadata": {
        "id": "4zThAFfLD-R-"
      },
      "execution_count": 14,
      "outputs": []
    },
    {
      "cell_type": "code",
      "source": [
        "def compatibilidade(grupo):\n",
        "  e100 = (np.std(array_100, ddof=0 ))/np.sqrt(len(array_100))\n",
        "  egrupo = (np.std(grupo, ddof=1 ))/np.sqrt(len(grupo))\n",
        "  ec = np.sqrt((e100*e100)+(egrupo*egrupo))\n",
        "  d = abs(np.mean(grupo)-np.mean(array_100))/ec\n",
        "  if (d <= 2.0):\n",
        "    print(\"Compatível\", d, ec, abs(np.mean(grupo)-np.mean(array_100)))\n",
        "  elif (d > 2.0 & d < 3.0):\n",
        "    print(\"Inconclusivo\", d,ec, abs(np.mean(grupo)-np.mean(array_100)))\n",
        "  else:\n",
        "    print(\"Incompatível\", d,ec,abs(np.mean(grupo)-np.mean(array_100)))\n",
        "  return(d)"
      ],
      "metadata": {
        "id": "CRuq0nfipIft"
      },
      "execution_count": 15,
      "outputs": []
    },
    {
      "cell_type": "code",
      "source": [
        "def compatibilidadeRef(grupo):\n",
        "  e100 = (np.std(array_100, ddof=0 ))/np.sqrt(len(array_100))\n",
        "  #egrupo = (np.std(grupo, ddof=1 ))/np.sqrt(len(grupo))\n",
        "  #ec = np.sqrt((e100*e100)+(egrupo*egrupo))\n",
        "  d = abs(np.mean(grupo)-R_ref)/e100\n",
        "  if d<=2.0:\n",
        "    print(\"Compatível\", d, e100, abs(np.mean(grupo)-R_ref))\n",
        "  elif d > 2.0 and d < 3.0:\n",
        "    print(\"Inconclusivo\", d,e100, abs(np.mean(grupo)-R_ref))\n",
        "  else:\n",
        "    print(\"Incompatível\", d,e100,abs(np.mean(grupo)-R_ref))\n",
        "  return(d)"
      ],
      "metadata": {
        "id": "nMx868umpInh"
      },
      "execution_count": 16,
      "outputs": []
    },
    {
      "cell_type": "markdown",
      "source": [
        "Conjunto completo de valores de resistências (100):"
      ],
      "metadata": {
        "id": "0QQwSiL5Bpu8"
      }
    },
    {
      "cell_type": "code",
      "source": [
        "\n",
        "amplitude_100=(np.max(array_100)-np.min(array_100))\n",
        "print ( \"Valor mínimo: {}\".format( np.min(array_100) ),\"(kΩ)\" )\n",
        "print ( \"Valor máximo: {}\".format( np.max(array_100) ) ,\"(kΩ)\")\n",
        "print ( \"Amplitude: {}\".format( amplitude_100 ) ,\"(kΩ)\")"
      ],
      "metadata": {
        "colab": {
          "base_uri": "https://localhost:8080/"
        },
        "id": "12KiyT_830-t",
        "outputId": "64dce739-a07c-4c0a-d41f-5a28c6a1192b"
      },
      "execution_count": 17,
      "outputs": [
        {
          "output_type": "stream",
          "name": "stdout",
          "text": [
            "Valor mínimo: 463 (kΩ)\n",
            "Valor máximo: 480 (kΩ)\n",
            "Amplitude: 17 (kΩ)\n"
          ]
        }
      ]
    },
    {
      "cell_type": "code",
      "source": [
        "#Calculo da média\n",
        "N100=len(array_100)\n",
        "media_100=(np.sum(array_100)/N100)\n",
        "vmin = np.min(array_100)\n",
        "vmax = np.max(array_100)\n",
        "print(\"média do conjunto de 100 resistores: {}\".format( (media_100)),\"(kΩ)\")"
      ],
      "metadata": {
        "colab": {
          "base_uri": "https://localhost:8080/"
        },
        "id": "NX9dbDns4oVi",
        "outputId": "644d5014-6efe-4c51-d049-3d410090a9b0"
      },
      "execution_count": 18,
      "outputs": [
        {
          "output_type": "stream",
          "name": "stdout",
          "text": [
            "média do conjunto de 100 resistores: 467.8 (kΩ)\n"
          ]
        }
      ]
    },
    {
      "cell_type": "code",
      "source": [
        "#Usando o NumPy\n",
        "np.mean( array_100 )"
      ],
      "metadata": {
        "colab": {
          "base_uri": "https://localhost:8080/"
        },
        "id": "1XWrWGGv4wLH",
        "outputId": "b8b72bcb-a1fc-488c-bd2d-def68a942d04"
      },
      "execution_count": 19,
      "outputs": [
        {
          "output_type": "execute_result",
          "data": {
            "text/plain": [
              "467.8"
            ]
          },
          "metadata": {},
          "execution_count": 19
        }
      ]
    },
    {
      "cell_type": "code",
      "source": [
        "print(\"média do conjunto de 100 resistores: {}\".format(np.mean( array_100 )),\"(kΩ)\")\n",
        "\n"
      ],
      "metadata": {
        "colab": {
          "base_uri": "https://localhost:8080/"
        },
        "id": "chUe8w245giz",
        "outputId": "44f96d69-12db-4d90-e243-f834855f794b"
      },
      "execution_count": 20,
      "outputs": [
        {
          "output_type": "stream",
          "name": "stdout",
          "text": [
            "média do conjunto de 100 resistores: 467.8 (kΩ)\n"
          ]
        }
      ]
    },
    {
      "cell_type": "code",
      "source": [
        "fig = plt.figure( figsize=(8,6) )\n",
        "\n",
        "counts, bins, _ = plt.hist( array_100, bins=21, range=[vmin,vmax])\n",
        "#plt.xlim( 15, 40 )\n",
        "plt.xlabel( \"Resistência (kΩ)\", fontsize=18 )\n",
        "plt.ylabel( \"Frequência\", fontsize=18 )\n",
        "plt.title('Histograma das resistências do Conjunto Completo de 100 Resistores', fontsize=12 )\n",
        "\n",
        "\n"
      ],
      "metadata": {
        "colab": {
          "base_uri": "https://localhost:8080/",
          "height": 592
        },
        "id": "GvQTxvWk49Y1",
        "outputId": "df030990-b728-423d-e0e7-de257671fab1"
      },
      "execution_count": 21,
      "outputs": [
        {
          "output_type": "execute_result",
          "data": {
            "text/plain": [
              "Text(0.5, 1.0, 'Histograma das resistências do Conjunto Completo de 100 Resistores')"
            ]
          },
          "metadata": {},
          "execution_count": 21
        },
        {
          "output_type": "display_data",
          "data": {
            "text/plain": [
              "<Figure size 800x600 with 1 Axes>"
            ],
            "image/png": "[encoded data removed]"
          },
          "metadata": {}
        }
      ]
    },
    {
      "cell_type": "markdown",
      "source": [
        "Variância e desvio Padrão usando o NumPY:"
      ],
      "metadata": {
        "id": "1uPpK8My6aS7"
      }
    },
    {
      "cell_type": "code",
      "source": [
        "var_100 = np.var( array_100, ddof=1 )\n",
        "dp_100 = np.std( array_100, ddof=1 )\n",
        "print ( \"Variância do conj. de 100 resistores: {}\".format(var_100),\"(k^2Ω)\" )\n",
        "print ( \"Desvio Padrao do conj. de 100 resistores: {}\".format(np.sqrt(var_100)),\"(kΩ)\",\"pelo Numpy:\",dp_100,\"(kΩ)\" )\n",
        "sigma_m100 = np.std( array_100, ddof=1 )/np.sqrt(N100)\n",
        "print ( \"Erro da média do conj. de 100: {}\".format(np.std( array_100, ddof=1 )/np.sqrt(N100)),\"(kΩ)\" )"
      ],
      "metadata": {
        "colab": {
          "base_uri": "https://localhost:8080/"
        },
        "id": "JkLhW3PU4lkb",
        "outputId": "faaa1260-c57a-4f7a-9356-0a87ab3a4bb8"
      },
      "execution_count": 66,
      "outputs": [
        {
          "output_type": "stream",
          "name": "stdout",
          "text": [
            "Variância do conj. de 100 resistores: 7.676767676767675 (k^2Ω)\n",
            "Desvio Padrao do conj. de 100 resistores: 2.7706980486454444 (kΩ) pelo Numpy: 2.7706980486454444 (kΩ)\n",
            "Erro da média do conj. de 100: 0.27706980486454447 (kΩ)\n"
          ]
        }
      ]
    },
    {
      "cell_type": "markdown",
      "source": [
        "Estimativa Padrão dos 100 resistores:"
      ],
      "metadata": {
        "id": "9KD_tjHqIg4d"
      }
    },
    {
      "cell_type": "code",
      "source": [
        "print ( \"R100 = {:.1f} ± {:.1f} (kΩ)\".format( np.round( np.mean( array_100 ), 2 ), np.round( sigma_m100, 2 ) ) )\n"
      ],
      "metadata": {
        "colab": {
          "base_uri": "https://localhost:8080/"
        },
        "id": "msPvhaqEImAO",
        "outputId": "48f88d34-ac9f-4c03-927f-11a4746b3651"
      },
      "execution_count": 70,
      "outputs": [
        {
          "output_type": "stream",
          "name": "stdout",
          "text": [
            "R100 = 467.8 ± 0.3 (kΩ)\n"
          ]
        }
      ]
    },
    {
      "cell_type": "markdown",
      "source": [
        "Grupo 01 de valores de resistências:"
      ],
      "metadata": {
        "id": "gUJI8Lu67Ma5"
      }
    },
    {
      "cell_type": "code",
      "source": [
        "amplitude_GR01=(np.max(array_GR01)-np.min(array_GR01))\n",
        "print ( \"Valor mínimo: {}\".format( np.min(array_GR01) ),\"(kΩ)\" )\n",
        "print ( \"Valor máximo: {}\".format( np.max(array_GR01) ),\"(kΩ)\" )\n",
        "print ( \"Amplitude: {}\".format( amplitude_GR01 ) ,\"(kΩ)\")"
      ],
      "metadata": {
        "colab": {
          "base_uri": "https://localhost:8080/"
        },
        "id": "L2AHiMPx7LL2",
        "outputId": "07789438-b636-49df-8f1b-1a8e27bb9197"
      },
      "execution_count": 24,
      "outputs": [
        {
          "output_type": "stream",
          "name": "stdout",
          "text": [
            "Valor mínimo: 463 (kΩ)\n",
            "Valor máximo: 472 (kΩ)\n",
            "Amplitude: 9 (kΩ)\n"
          ]
        }
      ]
    },
    {
      "cell_type": "code",
      "source": [
        "#Usando o NumPy\n",
        "np.mean( array_GR01 )"
      ],
      "metadata": {
        "colab": {
          "base_uri": "https://localhost:8080/"
        },
        "id": "z7lxEJzD8h-J",
        "outputId": "d32f404c-9a9c-4c9e-82c7-406d596dcc4e"
      },
      "execution_count": 25,
      "outputs": [
        {
          "output_type": "execute_result",
          "data": {
            "text/plain": [
              "467.85"
            ]
          },
          "metadata": {},
          "execution_count": 25
        }
      ]
    },
    {
      "cell_type": "code",
      "source": [
        "#Calculo da média\n",
        "N1_20=len(array_GR01)\n",
        "media_GR01=(np.sum(array_GR01)/N1_20)\n",
        "vmin = np.min(array_GR01)\n",
        "vmax = np.max(array_GR01)\n",
        "\n",
        "print(\"média do conjunto de 20 resistores do Grupo 01: {}\".format( (media_GR01)),\"(kΩ)\")"
      ],
      "metadata": {
        "colab": {
          "base_uri": "https://localhost:8080/"
        },
        "id": "3k2WDajh7dIr",
        "outputId": "9e435fe3-8b5a-47c5-9687-f8870ceaa053"
      },
      "execution_count": 26,
      "outputs": [
        {
          "output_type": "stream",
          "name": "stdout",
          "text": [
            "média do conjunto de 20 resistores do Grupo 01: 467.85 (kΩ)\n"
          ]
        }
      ]
    },
    {
      "cell_type": "code",
      "source": [
        "fig = plt.figure( figsize=(8,6) )\n",
        "\n",
        "counts, bins, _ = plt.hist( array_GR01, bins=4, range=(460,480))\n",
        "#plt.xlim( 15, 40 )\n",
        "plt.xlabel( \"Resistência (kΩ)\", fontsize=18 )\n",
        "plt.ylabel( \"Frequência\", fontsize=18 )\n",
        "plt.title('Histograma das resistências do Grupo 01 de 20 Resistores', fontsize=12 )\n"
      ],
      "metadata": {
        "colab": {
          "base_uri": "https://localhost:8080/",
          "height": 592
        },
        "id": "iokbp7I884l0",
        "outputId": "23f56104-e8c1-4de9-d69c-e0fc5274576d"
      },
      "execution_count": 27,
      "outputs": [
        {
          "output_type": "execute_result",
          "data": {
            "text/plain": [
              "Text(0.5, 1.0, 'Histograma das resistências do Grupo 01 de 20 Resistores')"
            ]
          },
          "metadata": {},
          "execution_count": 27
        },
        {
          "output_type": "display_data",
          "data": {
            "text/plain": [
              "<Figure size 800x600 with 1 Axes>"
            ],
            "image/png": "[encoded data removed]"
          },
          "metadata": {}
        }
      ]
    },
    {
      "cell_type": "code",
      "source": [
        "var_gr1 = np.var( array_GR01, ddof=1 )\n",
        "print ( \"Variância do Grupo 01: {}\".format(var_gr1), \"(k^2Ω)\" )\n",
        "print ( \"Desvio Padrao do do Grupo 01: {}\".format(np.sqrt(var_gr1)),\"(kΩ)\" )\n",
        "sigma_m1 = np.std( array_GR01, ddof=1 )/np.sqrt(N1_20)\n",
        "print ( \"Erro da média do Grupo 01: {}\".format(np.std( array_GR01, ddof=1 )/np.sqrt(N1_20)),\"(kΩ)\" )"
      ],
      "metadata": {
        "colab": {
          "base_uri": "https://localhost:8080/"
        },
        "id": "ed9bvU1o9hKV",
        "outputId": "0c244cb5-a2c6-44ca-f979-88c027b69edd"
      },
      "execution_count": 28,
      "outputs": [
        {
          "output_type": "stream",
          "name": "stdout",
          "text": [
            "Variância do Grupo 01: 7.081578947368421 (k^2Ω)\n",
            "Desvio Padrao do do Grupo 01: 2.6611236249690506 (kΩ)\n",
            "Erro da média do Grupo 01: 0.5950453321961454 (kΩ)\n"
          ]
        }
      ]
    },
    {
      "cell_type": "markdown",
      "source": [
        "Estimativa Padrão GR01:"
      ],
      "metadata": {
        "id": "VY9oBKm0IYoR"
      }
    },
    {
      "cell_type": "code",
      "source": [
        "print ( \"R1 = {:.1f} ± {:.1f} (kΩ)\".format( np.round( np.mean( array_GR01 ), 0 ), np.round( sigma_m1, 0 ) ) )\n"
      ],
      "metadata": {
        "colab": {
          "base_uri": "https://localhost:8080/"
        },
        "id": "FheedpkHIbYu",
        "outputId": "2f0b5275-e6e7-45b0-8269-ea6a5c71eeda"
      },
      "execution_count": 29,
      "outputs": [
        {
          "output_type": "stream",
          "name": "stdout",
          "text": [
            "R1 = 468.0 ± 1.0 (kΩ)\n"
          ]
        }
      ]
    },
    {
      "cell_type": "markdown",
      "source": [
        "Grupo 02 de valores de resistências:"
      ],
      "metadata": {
        "id": "RDM1ZLtm-BmV"
      }
    },
    {
      "cell_type": "code",
      "source": [
        "#Calculo da média\n",
        "N2_20=len(array_GR02)\n",
        "media_GR02=(np.sum(array_GR02)/N2_20)\n",
        "vmin = np.min(array_GR02)\n",
        "vmax = np.max(array_GR02)\n",
        "amplitude_GR02=(np.max(array_GR02)-np.min(array_GR02))\n",
        "print ( \"Valor mínimo: {}\".format( np.min(array_GR02) ),\"(kΩ)\" )\n",
        "print ( \"Valor máximo: {}\".format( np.max(array_GR02) ),\"(kΩ)\" )\n",
        "print ( \"Amplitude: {}\".format( amplitude_GR02 ) ,\"(kΩ)\")\n",
        "print(\"média do conjunto de 20 resistores do Grupo 02: {}\".format( (media_GR02)),\"(kΩ)\")"
      ],
      "metadata": {
        "colab": {
          "base_uri": "https://localhost:8080/"
        },
        "id": "4R6g1PYp8LXO",
        "outputId": "8beefc94-82f5-4ae4-b80c-9401dd650033"
      },
      "execution_count": 30,
      "outputs": [
        {
          "output_type": "stream",
          "name": "stdout",
          "text": [
            "Valor mínimo: 464 (kΩ)\n",
            "Valor máximo: 473 (kΩ)\n",
            "Amplitude: 9 (kΩ)\n",
            "média do conjunto de 20 resistores do Grupo 02: 467.85 (kΩ)\n"
          ]
        }
      ]
    },
    {
      "cell_type": "code",
      "source": [
        "#Usando o NumPy\n",
        "np.mean( array_GR02 )"
      ],
      "metadata": {
        "colab": {
          "base_uri": "https://localhost:8080/"
        },
        "id": "2Pr-W242744A",
        "outputId": "24c215b2-bbdd-4280-dfdc-9f9eece22724"
      },
      "execution_count": 31,
      "outputs": [
        {
          "output_type": "execute_result",
          "data": {
            "text/plain": [
              "467.85"
            ]
          },
          "metadata": {},
          "execution_count": 31
        }
      ]
    },
    {
      "cell_type": "code",
      "source": [
        "fig = plt.figure( figsize=(8,6) )\n",
        "\n",
        "counts, bins, _ = plt.hist( array_GR02, bins=21, range=[vmin,vmax])\n",
        "#plt.xlim( 15, 40 )\n",
        "plt.xlabel( \"Resistência (kΩ)\", fontsize=18 )\n",
        "plt.ylabel( \"Frequência\", fontsize=18 )\n",
        "plt.title('Histograma das resistências do Grupo 02 de 20 Resistores', fontsize=12 )\n"
      ],
      "metadata": {
        "colab": {
          "base_uri": "https://localhost:8080/",
          "height": 592
        },
        "id": "SCprkcBR9OHN",
        "outputId": "0e73c85a-f7b2-484d-9a37-17857653dd1a"
      },
      "execution_count": 32,
      "outputs": [
        {
          "output_type": "execute_result",
          "data": {
            "text/plain": [
              "Text(0.5, 1.0, 'Histograma das resistências do Grupo 02 de 20 Resistores')"
            ]
          },
          "metadata": {},
          "execution_count": 32
        },
        {
          "output_type": "display_data",
          "data": {
            "text/plain": [
              "<Figure size 800x600 with 1 Axes>"
            ],
            "image/png": "[encoded data removed]"
          },
          "metadata": {}
        }
      ]
    },
    {
      "cell_type": "code",
      "source": [
        "var_gr2 = np.var( array_GR02, ddof=1 )\n",
        "print ( \"Variância do Grupo 02: {}\".format(var_gr2), \"(k^2Ω)\" )\n",
        "print ( \"Desvio Padrao do do Grupo 02: {}\".format(np.sqrt(var_gr2)),\"(kΩ)\" )\n",
        "sigma_m2 = np.std( array_GR02, ddof=1 )/np.sqrt(N2_20)\n",
        "print ( \"Erro da média do Grupo 02: {}\".format(np.std( array_GR02, ddof=1 )/np.sqrt(N2_20)),\"(kΩ)\" )"
      ],
      "metadata": {
        "colab": {
          "base_uri": "https://localhost:8080/"
        },
        "id": "7ePQjySA-Jhv",
        "outputId": "5ffca2c3-f2e0-4824-85ac-7e761dd045b0"
      },
      "execution_count": 33,
      "outputs": [
        {
          "output_type": "stream",
          "name": "stdout",
          "text": [
            "Variância do Grupo 02: 6.239473684210526 (k^2Ω)\n",
            "Desvio Padrao do do Grupo 02: 2.497893849668261 (kΩ)\n",
            "Erro da média do Grupo 02: 0.5585460448436872 (kΩ)\n"
          ]
        }
      ]
    },
    {
      "cell_type": "markdown",
      "source": [
        "Estimativa Padrão GR02:"
      ],
      "metadata": {
        "id": "rLtZNAC9IM5E"
      }
    },
    {
      "cell_type": "code",
      "source": [
        "print ( \"R2 = {:.0f} ± {:.0f} (kΩ)\".format( np.round( np.mean( array_GR02 ), 0 ), np.round( sigma_m2, 0 ) ) )\n"
      ],
      "metadata": {
        "colab": {
          "base_uri": "https://localhost:8080/"
        },
        "id": "CEv0mmY_IML8",
        "outputId": "e61df9bc-f8c3-481e-91ce-a7e40abd9964"
      },
      "execution_count": 34,
      "outputs": [
        {
          "output_type": "stream",
          "name": "stdout",
          "text": [
            "R2 = 468 ± 1 (kΩ)\n"
          ]
        }
      ]
    },
    {
      "cell_type": "markdown",
      "source": [
        "Grupo 03 de valores de resistências:"
      ],
      "metadata": {
        "id": "4WFO_cs--ZZc"
      }
    },
    {
      "cell_type": "code",
      "source": [
        "#Calculo da média\n",
        "N3_20=len(array_GR03)\n",
        "media_GR03=(np.sum(array_GR03)/N3_20)\n",
        "vmin = np.min(array_GR03)\n",
        "vmax = np.max(array_GR03)\n",
        "amplitude_GR03=(np.max(array_GR03)-np.min(array_GR03))\n",
        "print ( \"Valor mínimo: {}\".format( np.min(array_GR03) ),\"(kΩ)\")\n",
        "print ( \"Valor máximo: {}\".format( np.max(array_GR03) ) ,\"(kΩ)\")\n",
        "print ( \"Amplitude: {}\".format( amplitude_GR03 ),\"(kΩ)\" )\n",
        "print(\"média do conjunto de 20 resistores do Grupo 03: {}\".format( (media_GR03)),\"(kΩ)\")"
      ],
      "metadata": {
        "colab": {
          "base_uri": "https://localhost:8080/"
        },
        "id": "WvMuO5Gk-YjT",
        "outputId": "a804d99b-dc4a-4b9a-ee92-016320254eaa"
      },
      "execution_count": 35,
      "outputs": [
        {
          "output_type": "stream",
          "name": "stdout",
          "text": [
            "Valor mínimo: 464 (kΩ)\n",
            "Valor máximo: 470 (kΩ)\n",
            "Amplitude: 6 (kΩ)\n",
            "média do conjunto de 20 resistores do Grupo 03: 467.0 (kΩ)\n"
          ]
        }
      ]
    },
    {
      "cell_type": "code",
      "source": [
        "#Usando o NumPy\n",
        "np.mean( array_GR03 )"
      ],
      "metadata": {
        "colab": {
          "base_uri": "https://localhost:8080/"
        },
        "id": "js6kGJD8-4NK",
        "outputId": "20946600-3254-4482-84ea-0e53afb4df29"
      },
      "execution_count": 36,
      "outputs": [
        {
          "output_type": "execute_result",
          "data": {
            "text/plain": [
              "467.0"
            ]
          },
          "metadata": {},
          "execution_count": 36
        }
      ]
    },
    {
      "cell_type": "code",
      "source": [
        "fig = plt.figure( figsize=(8,6) )\n",
        "\n",
        "counts, bins, _ = plt.hist( array_GR03, bins=21, range=[vmin,vmax])\n",
        "#plt.xlim( 15, 40 )\n",
        "plt.xlabel( \"Resistência (kΩ)\", fontsize=18 )\n",
        "plt.ylabel( \"Frequência\", fontsize=18 )\n",
        "plt.title('Histograma das resistências do Grupo 03 de 20 Resistores', fontsize=12 )\n"
      ],
      "metadata": {
        "colab": {
          "base_uri": "https://localhost:8080/",
          "height": 592
        },
        "id": "mDzq1mq__mNv",
        "outputId": "5839a32a-2212-4b18-ada5-a2ce8f0f5920"
      },
      "execution_count": 37,
      "outputs": [
        {
          "output_type": "execute_result",
          "data": {
            "text/plain": [
              "Text(0.5, 1.0, 'Histograma das resistências do Grupo 03 de 20 Resistores')"
            ]
          },
          "metadata": {},
          "execution_count": 37
        },
        {
          "output_type": "display_data",
          "data": {
            "text/plain": [
              "<Figure size 800x600 with 1 Axes>"
            ],
            "image/png": "[encoded data removed]"
          },
          "metadata": {}
        }
      ]
    },
    {
      "cell_type": "code",
      "source": [
        "var_gr3 = np.var( array_GR03, ddof=1 )\n",
        "print ( \"Variância do Grupo 03: {}\".format(var_gr3), \"(k^2Ω)\" )\n",
        "print ( \"Desvio Padrao do do Grupo 03: {}\".format(np.sqrt(var_gr3)),\"(kΩ)\" )\n",
        "sigma_m3 = np.std( array_GR03, ddof=1 )/np.sqrt(N3_20)\n",
        "print ( \"Erro da média do Grupo 03: {}\".format(np.std( array_GR03, ddof=1 )/np.sqrt(N3_20)),\"(kΩ)\" )"
      ],
      "metadata": {
        "colab": {
          "base_uri": "https://localhost:8080/"
        },
        "id": "7F6LaehY_uSe",
        "outputId": "46025afb-9857-4a9c-a533-e13763fa3ed2"
      },
      "execution_count": 38,
      "outputs": [
        {
          "output_type": "stream",
          "name": "stdout",
          "text": [
            "Variância do Grupo 03: 4.0 (k^2Ω)\n",
            "Desvio Padrao do do Grupo 03: 2.0 (kΩ)\n",
            "Erro da média do Grupo 03: 0.4472135954999579 (kΩ)\n"
          ]
        }
      ]
    },
    {
      "cell_type": "markdown",
      "source": [
        "Estimativa Padrão GR03:"
      ],
      "metadata": {
        "id": "rpkKz3I1IBqM"
      }
    },
    {
      "cell_type": "code",
      "source": [
        "print ( \"R3 = {:.1f} ± {:.1f} (kΩ)\".format( np.round( np.mean( array_GR03 ), 1 ), np.round( sigma_m3, 1 ) ) )\n"
      ],
      "metadata": {
        "colab": {
          "base_uri": "https://localhost:8080/"
        },
        "id": "-5YjoqQ5IFnT",
        "outputId": "58b72d18-dc26-4498-edc3-b5c9bb7b0361"
      },
      "execution_count": 39,
      "outputs": [
        {
          "output_type": "stream",
          "name": "stdout",
          "text": [
            "R3 = 467.0 ± 0.4 (kΩ)\n"
          ]
        }
      ]
    },
    {
      "cell_type": "markdown",
      "source": [
        "Grupo 04 de valores de resistências:"
      ],
      "metadata": {
        "id": "g-nT1Lv0BQCd"
      }
    },
    {
      "cell_type": "code",
      "source": [
        "#Calculo da média\n",
        "N4_20=len(array_GR04)\n",
        "media_GR04=(np.sum(array_GR04)/N4_20)\n",
        "vmin = np.min(array_GR04)\n",
        "vmax = np.max(array_GR04)\n",
        "amplitude_GR04=(np.max(array_GR04)-np.min(array_GR04))\n",
        "print ( \"Valor mínimo: {}\".format( np.min(array_GR04) ),\"(kΩ)\")\n",
        "print ( \"Valor máximo: {}\".format( np.max(array_GR04) ) ,\"(kΩ)\")\n",
        "print ( \"Amplitude: {}\".format( amplitude_GR04 ),\"(kΩ)\" )\n",
        "print(\"média do conjunto de 20 resistências do Grupo 04: {}\".format( (media_GR04)),\"(kΩ)\")"
      ],
      "metadata": {
        "colab": {
          "base_uri": "https://localhost:8080/"
        },
        "id": "A_1GW6yeByQ_",
        "outputId": "fdbf2158-77df-4abe-face-94844c567e8c"
      },
      "execution_count": 40,
      "outputs": [
        {
          "output_type": "stream",
          "name": "stdout",
          "text": [
            "Valor mínimo: 465 (kΩ)\n",
            "Valor máximo: 480 (kΩ)\n",
            "Amplitude: 15 (kΩ)\n",
            "média do conjunto de 20 resistências do Grupo 04: 468.1 (kΩ)\n"
          ]
        }
      ]
    },
    {
      "cell_type": "code",
      "source": [
        "#Usando o NumPy\n",
        "np.mean( array_GR04 )"
      ],
      "metadata": {
        "colab": {
          "base_uri": "https://localhost:8080/"
        },
        "id": "3tAVNm99Byll",
        "outputId": "c196785c-d86e-4520-c687-e045c2e285f1"
      },
      "execution_count": 41,
      "outputs": [
        {
          "output_type": "execute_result",
          "data": {
            "text/plain": [
              "468.1"
            ]
          },
          "metadata": {},
          "execution_count": 41
        }
      ]
    },
    {
      "cell_type": "code",
      "source": [
        "fig = plt.figure( figsize=(8,6) )\n",
        "\n",
        "counts, bins, _ = plt.hist( array_GR04, bins=21, range=[vmin,vmax])\n",
        "#plt.xlim( 15, 40 )\n",
        "plt.xlabel( \"Resistência (kΩ)\", fontsize=18 )\n",
        "plt.ylabel( \"Frequência\", fontsize=18 )\n",
        "plt.title('Histograma das resistências do Grupo 04 de 20 Resistores', fontsize=12 )\n"
      ],
      "metadata": {
        "colab": {
          "base_uri": "https://localhost:8080/",
          "height": 592
        },
        "id": "ObccGQYYCJDl",
        "outputId": "4e2391ce-7801-4beb-8b4c-da97cc33f671"
      },
      "execution_count": 42,
      "outputs": [
        {
          "output_type": "execute_result",
          "data": {
            "text/plain": [
              "Text(0.5, 1.0, 'Histograma das resistências do Grupo 04 de 20 Resistores')"
            ]
          },
          "metadata": {},
          "execution_count": 42
        },
        {
          "output_type": "display_data",
          "data": {
            "text/plain": [
              "<Figure size 800x600 with 1 Axes>"
            ],
            "image/png": "[encoded data removed]"
          },
          "metadata": {}
        }
      ]
    },
    {
      "cell_type": "code",
      "source": [
        "var_gr4 = np.var( array_GR04, ddof=1 )\n",
        "print ( \"Variância do Grupo 04: {}\".format(var_gr4), \"(k^2Ω)\" )\n",
        "print ( \"Desvio Padrao do do Grupo 04: {}\".format(np.sqrt(var_gr4)),\"(kΩ)\" )\n",
        "sigma_m4 = np.std( array_GR04, ddof=1 )/np.sqrt(N4_20)\n",
        "print ( \"Erro da média do Grupo 04: {}\".format(np.std( array_GR04, ddof=1 )/np.sqrt(N4_20)),\"(kΩ)\" )"
      ],
      "metadata": {
        "colab": {
          "base_uri": "https://localhost:8080/"
        },
        "id": "owXv6yuTCVKu",
        "outputId": "7ce5b300-0ed0-4147-fff8-c8242987ef4e"
      },
      "execution_count": 43,
      "outputs": [
        {
          "output_type": "stream",
          "name": "stdout",
          "text": [
            "Variância do Grupo 04: 12.094736842105263 (k^2Ω)\n",
            "Desvio Padrao do do Grupo 04: 3.477748818144471 (kΩ)\n",
            "Erro da média do Grupo 04: 0.7776482766040591 (kΩ)\n"
          ]
        }
      ]
    },
    {
      "cell_type": "markdown",
      "source": [
        "Estimativa Padrão GR04:"
      ],
      "metadata": {
        "id": "5FZWw7mmH7ac"
      }
    },
    {
      "cell_type": "code",
      "source": [
        "print ( \"R4 = {:.1f} ± {:.1f} (kΩ)\".format( np.round( np.mean( array_GR04 ), 1 ), np.round( sigma_m4, 1 ) ) )\n"
      ],
      "metadata": {
        "colab": {
          "base_uri": "https://localhost:8080/"
        },
        "id": "3dY4Lvl4HzT7",
        "outputId": "064fdc20-a91c-4a7f-937d-4c8b3d57eab5"
      },
      "execution_count": 44,
      "outputs": [
        {
          "output_type": "stream",
          "name": "stdout",
          "text": [
            "R4 = 468.1 ± 0.8 (kΩ)\n"
          ]
        }
      ]
    },
    {
      "cell_type": "markdown",
      "source": [
        "Grupo 05 de valores de resistências:\n"
      ],
      "metadata": {
        "id": "iBI34d-wCjOB"
      }
    },
    {
      "cell_type": "code",
      "source": [
        "#Calculo da média\n",
        "N5_20=len(array_GR05)\n",
        "media_GR05=(np.sum(array_GR05)/N5_20)\n",
        "vmin = np.min(array_GR05)\n",
        "vmax = np.max(array_GR05)\n",
        "amplitude_GR05=(np.max(array_GR05)-np.min(array_GR05))\n",
        "print ( \"Valor mínimo: {}\".format( np.min(array_GR05) ),\"(kΩ)\")\n",
        "print ( \"Valor máximo: {}\".format( np.max(array_GR05) ) ,\"(kΩ)\")\n",
        "print ( \"Amplitude: {}\".format( amplitude_GR05 ),\"(kΩ)\" )\n",
        "print(\"média do conjunto de 20 resistências do Grupo 05: {}\".format( (media_GR05)),\"(kΩ)\")"
      ],
      "metadata": {
        "colab": {
          "base_uri": "https://localhost:8080/"
        },
        "id": "8S7RGXo7CbzD",
        "outputId": "51846655-1857-411f-e377-cc4bc07a9619"
      },
      "execution_count": 45,
      "outputs": [
        {
          "output_type": "stream",
          "name": "stdout",
          "text": [
            "Valor mínimo: 464 (kΩ)\n",
            "Valor máximo: 475 (kΩ)\n",
            "Amplitude: 11 (kΩ)\n",
            "média do conjunto de 20 resistências do Grupo 05: 468.2 (kΩ)\n"
          ]
        }
      ]
    },
    {
      "cell_type": "code",
      "source": [
        "#Usando o NumPy\n",
        "np.mean( array_GR05 )"
      ],
      "metadata": {
        "colab": {
          "base_uri": "https://localhost:8080/"
        },
        "id": "FBrXEDBVC-9-",
        "outputId": "12fed2b8-892a-42c4-c8b7-09d3308732c9"
      },
      "execution_count": 46,
      "outputs": [
        {
          "output_type": "execute_result",
          "data": {
            "text/plain": [
              "468.2"
            ]
          },
          "metadata": {},
          "execution_count": 46
        }
      ]
    },
    {
      "cell_type": "code",
      "source": [
        "fig = plt.figure( figsize=(8,6) )\n",
        "\n",
        "counts, bins, _ = plt.hist( array_GR05, bins=21, range=[vmin,vmax])\n",
        "#plt.xlim( 15, 40 )\n",
        "plt.xlabel( \"Resistência (kΩ)\", fontsize=18 )\n",
        "plt.ylabel( \"Frequência\", fontsize=18 )\n",
        "plt.title('Histograma das resistências do Grupo 05 de 20 Resistores', fontsize=12 )"
      ],
      "metadata": {
        "colab": {
          "base_uri": "https://localhost:8080/",
          "height": 592
        },
        "id": "zeF73imBDDkc",
        "outputId": "03cc4bed-9919-44c3-814b-6478563f8d0b"
      },
      "execution_count": 47,
      "outputs": [
        {
          "output_type": "execute_result",
          "data": {
            "text/plain": [
              "Text(0.5, 1.0, 'Histograma das resistências do Grupo 05 de 20 Resistores')"
            ]
          },
          "metadata": {},
          "execution_count": 47
        },
        {
          "output_type": "display_data",
          "data": {
            "text/plain": [
              "<Figure size 800x600 with 1 Axes>"
            ],
            "image/png": "[encoded data removed]"
          },
          "metadata": {}
        }
      ]
    },
    {
      "cell_type": "code",
      "source": [
        "var_gr5 = np.var( array_GR05, ddof=1 )\n",
        "print ( \"Variância do Grupo 05: {}\".format(var_gr5), \"(k^2Ω)\" )\n",
        "print ( \"Desvio Padrao do do Grupo 05: {}\".format(np.sqrt(var_gr5)),\"(kΩ)\" )\n",
        "sigma_m5 = np.std( array_GR05, ddof=1 )/np.sqrt(N5_20)\n",
        "print ( \"Erro da média do Grupo 05: {}\".format(np.std( array_GR05, ddof=1 )/np.sqrt(N5_20)),\"(kΩ)\" )"
      ],
      "metadata": {
        "colab": {
          "base_uri": "https://localhost:8080/"
        },
        "id": "EmL-E19YENJ2",
        "outputId": "ebd50fe6-fc08-442c-8a99-4a0353a8dac9"
      },
      "execution_count": 48,
      "outputs": [
        {
          "output_type": "stream",
          "name": "stdout",
          "text": [
            "Variância do Grupo 05: 9.642105263157895 (k^2Ω)\n",
            "Desvio Padrao do do Grupo 05: 3.1051739505473592 (kΩ)\n",
            "Erro da média do Grupo 05: 0.6943380035385465 (kΩ)\n"
          ]
        }
      ]
    },
    {
      "cell_type": "markdown",
      "source": [
        "Estimativa Padrão GR05:\n"
      ],
      "metadata": {
        "id": "Yp9HhY_mHVrT"
      }
    },
    {
      "cell_type": "code",
      "source": [
        "print ( \"R5 = {:.1f} ± {:.1f} (kΩ)\".format( np.round( np.mean( array_GR05 ), 1 ), np.round( sigma_m5, 1 ) ) )\n"
      ],
      "metadata": {
        "colab": {
          "base_uri": "https://localhost:8080/"
        },
        "id": "qOaQKay7FqAY",
        "outputId": "5c389d67-9df8-413d-be2a-57dd394cd574"
      },
      "execution_count": 49,
      "outputs": [
        {
          "output_type": "stream",
          "name": "stdout",
          "text": [
            "R5 = 468.2 ± 0.7 (kΩ)\n"
          ]
        }
      ]
    },
    {
      "cell_type": "markdown",
      "source": [
        "Média das Médias:"
      ],
      "metadata": {
        "id": "g6BUml-nJTBR"
      }
    },
    {
      "cell_type": "code",
      "source": [
        "array_GRM = [np.mean( array_GR01 ),np.mean( array_GR02 ),np.mean( array_GR03 ),np.mean( array_GR04),np.mean( array_GR05)] #kΩ"
      ],
      "metadata": {
        "id": "DQmfYQPuJRDd"
      },
      "execution_count": 50,
      "outputs": []
    },
    {
      "cell_type": "code",
      "source": [
        "N=len(array_GRM)\n",
        "media_GRM=(np.sum(array_GRM)/N)\n",
        "vmin = np.min(array_GRM)\n",
        "vmax = np.max(array_GRM)\n",
        "amplitude_GRM=(np.max(array_GRM)-np.min(array_GRM))\n",
        "print ( \"Valor mínimo: {}\".format( np.min(array_GRM) ),\"(kΩ)\")\n",
        "print ( \"Valor máximo: {}\".format( np.max(array_GRM) ) ,\"(kΩ)\")\n",
        "print ( \"Amplitude: {}\".format( amplitude_GRM ),\"(kΩ)\" )\n",
        "print(\"média do conjunto das médias das resistências: {}\".format( (media_GRM)),\"(kΩ)\")"
      ],
      "metadata": {
        "colab": {
          "base_uri": "https://localhost:8080/"
        },
        "id": "d8JBQ_57JrWB",
        "outputId": "2d26944e-0a84-4a76-9fe6-8b1a4fb98916"
      },
      "execution_count": 51,
      "outputs": [
        {
          "output_type": "stream",
          "name": "stdout",
          "text": [
            "Valor mínimo: 467.0 (kΩ)\n",
            "Valor máximo: 468.2 (kΩ)\n",
            "Amplitude: 1.1999999999999886 (kΩ)\n",
            "média do conjunto das médias das resistências: 467.8 (kΩ)\n"
          ]
        }
      ]
    },
    {
      "cell_type": "code",
      "source": [
        "#Usando o NumPy\n",
        "np.mean( array_GRM )"
      ],
      "metadata": {
        "colab": {
          "base_uri": "https://localhost:8080/"
        },
        "id": "EVqLEW9MKBOl",
        "outputId": "155547fb-94d6-477b-b0bc-923e6122a152"
      },
      "execution_count": 52,
      "outputs": [
        {
          "output_type": "execute_result",
          "data": {
            "text/plain": [
              "467.8"
            ]
          },
          "metadata": {},
          "execution_count": 52
        }
      ]
    },
    {
      "cell_type": "code",
      "source": [
        "fig = plt.figure( figsize=(8,6) )\n",
        "\n",
        "counts, bins, _ = plt.hist( array_GRM, bins=21, range=[vmin,vmax])\n",
        "#plt.xlim( 15, 40 )\n",
        "plt.xlabel( \"Resistência (kΩ)\", fontsize=18 )\n",
        "plt.ylabel( \"Frequência\", fontsize=18 )\n",
        "plt.title('Histograma das resistências do grupo das médias', fontsize=12 )"
      ],
      "metadata": {
        "colab": {
          "base_uri": "https://localhost:8080/",
          "height": 592
        },
        "id": "T5IMIXaKKFv6",
        "outputId": "19258b64-66c8-4b60-ef3a-d04e81829b84"
      },
      "execution_count": 53,
      "outputs": [
        {
          "output_type": "execute_result",
          "data": {
            "text/plain": [
              "Text(0.5, 1.0, 'Histograma das resistências do grupo das médias')"
            ]
          },
          "metadata": {},
          "execution_count": 53
        },
        {
          "output_type": "display_data",
          "data": {
            "text/plain": [
              "<Figure size 800x600 with 1 Axes>"
            ],
            "image/png": "[encoded data removed]"
          },
          "metadata": {}
        }
      ]
    },
    {
      "cell_type": "code",
      "source": [
        "var_grm = np.var( array_GRM, ddof=1 )\n",
        "print ( \"Variância do Grupo das médias: {}\".format(var_grm), \"(k^2Ω)\" )\n",
        "print ( \"Desvio Padrao do do Grupo das médias: {}\".format(np.sqrt(var_grm)),\"(kΩ)\" )\n",
        "sigma_m = np.std( array_GRM, ddof=1 )/np.sqrt(N)\n",
        "print ( \"Erro da média do Grupo das médias: {}\".format(np.std( array_GRM, ddof=1 )/np.sqrt(N)),\"(kΩ)\" )"
      ],
      "metadata": {
        "colab": {
          "base_uri": "https://localhost:8080/"
        },
        "id": "okn9_8NxK8p_",
        "outputId": "141a3058-271c-4eaa-ba88-71cb328ef159"
      },
      "execution_count": 54,
      "outputs": [
        {
          "output_type": "stream",
          "name": "stdout",
          "text": [
            "Variância do Grupo das médias: 0.22375000000000228 (k^2Ω)\n",
            "Desvio Padrao do do Grupo das médias: 0.4730221982106149 (kΩ)\n",
            "Erro da média do Grupo das médias: 0.21154195801306286 (kΩ)\n"
          ]
        }
      ]
    },
    {
      "cell_type": "markdown",
      "source": [
        "Estimativa padrão do grupo das médias:"
      ],
      "metadata": {
        "id": "enmXcz_QLQ8z"
      }
    },
    {
      "cell_type": "code",
      "source": [
        "print ( \"RM = {:.0f} ± {:.0f} (kΩ)\".format( np.round( np.mean( array_GRM ), 1 ), np.round( sigma_m, 1 ) ) )\n"
      ],
      "metadata": {
        "colab": {
          "base_uri": "https://localhost:8080/"
        },
        "id": "M7x6fzbaLP6V",
        "outputId": "77bc90f3-ffbb-4e98-9f67-b2160c70ba78"
      },
      "execution_count": 55,
      "outputs": [
        {
          "output_type": "stream",
          "name": "stdout",
          "text": [
            "RM = 468 ± 0 (kΩ)\n"
          ]
        }
      ]
    },
    {
      "cell_type": "markdown",
      "source": [
        "Desvio Padrão do conjunto com 100 resistores:\n"
      ],
      "metadata": {
        "id": "YvGHv4KlDPxf"
      }
    },
    {
      "cell_type": "code",
      "source": [
        "sigma_L_p = np.std( array_100, ddof=0 )\n",
        "print ( \"Desvio padrão populacional (kΩ) = {}\".format(sigma_L_p  ) )\n",
        "\n",
        "sigma_L_a = np.std( array_100, ddof=1 )\n",
        "print ( \"Desvio padrão amostral (kΩ) = {}\".format(sigma_L_a  ) )\n",
        "\n"
      ],
      "metadata": {
        "colab": {
          "base_uri": "https://localhost:8080/"
        },
        "id": "iOAZ7tki6SPI",
        "outputId": "7929258f-d270-4078-9fc2-ffcb49d3fef0"
      },
      "execution_count": 56,
      "outputs": [
        {
          "output_type": "stream",
          "name": "stdout",
          "text": [
            "Desvio padrão populacional (kΩ) = 2.7568097504180438\n",
            "Desvio padrão amostral (kΩ) = 2.7706980486454444\n"
          ]
        }
      ]
    },
    {
      "cell_type": "markdown",
      "source": [
        "Erro Relativo:"
      ],
      "metadata": {
        "id": "0hsL--e7EulM"
      }
    },
    {
      "cell_type": "code",
      "source": [
        "erro_relativo100 = sigma_m100 / media_100\n",
        "print ( \"Erro relativo das medidas dos 100 resistores = {}\".format( erro_relativo100 ),\"(kΩ)\" )\n",
        "erro_relativo1 = sigma_m1/ media_GR01\n",
        "print ( \"Erro relativo das medidas do grupo 1 = {}\".format( erro_relativo1 ),\"(kΩ)\" )\n",
        "erro_relativo2 = sigma_m2/ media_GR02\n",
        "print ( \"Erro relativo das medidas do grupo 2 = {}\".format( erro_relativo2 ),\"(kΩ)\" )\n",
        "erro_relativo3 = sigma_m3/ media_GR03\n",
        "print ( \"Erro relativo das medidas do grupo 3 = {}\".format( erro_relativo3 ),\"(kΩ)\" )\n",
        "erro_relativo4 = sigma_m4/ media_GR04\n",
        "print ( \"Erro relativo das medidas do grupo 4 = {}\".format( erro_relativo4 ),\"(kΩ)\" )\n",
        "erro_relativo5 = sigma_m5/ media_GR05\n",
        "print ( \"Erro relativo das medidas do grupo 5 = {}\".format( erro_relativo5 ),\"(kΩ)\" )\n",
        "erro_relativoM = sigma_m/ media_GRM\n",
        "print ( \"Erro relativo das medidas do grupo das médias = {}\".format( erro_relativoM ),\"(kΩ)\" )"
      ],
      "metadata": {
        "colab": {
          "base_uri": "https://localhost:8080/"
        },
        "id": "KZNFZoC3Ewte",
        "outputId": "a3de1b69-7f43-4ebd-8e68-19f9bbb39fe0"
      },
      "execution_count": 57,
      "outputs": [
        {
          "output_type": "stream",
          "name": "stdout",
          "text": [
            "Erro relativo das medidas dos 100 resistores = 0.0005922826098002233 (kΩ)\n",
            "Erro relativo das medidas do grupo 1 = 0.0012718720363281936 (kΩ)\n",
            "Erro relativo das medidas do grupo 2 = 0.0011938571013010307 (kΩ)\n",
            "Erro relativo das medidas do grupo 3 = 0.0009576308254817086 (kΩ)\n",
            "Erro relativo das medidas do grupo 4 = 0.0016612866408973704 (kΩ)\n",
            "Erro relativo das medidas do grupo 5 = 0.0014829944543753662 (kΩ)\n",
            "Erro relativo das medidas do grupo das médias = 0.0004522059812164661 (kΩ)\n"
          ]
        }
      ]
    },
    {
      "cell_type": "markdown",
      "source": [
        "Razão entre os erros das médias de cada grupo e o erro da média do conjunto completo:"
      ],
      "metadata": {
        "id": "zxdb1KYnUvwD"
      }
    },
    {
      "cell_type": "code",
      "source": [
        "erro_r1 = sigma_m1/sigma_m100 \n",
        "print ( \"Razão do sigma_m1/sigma_m100   = {}\".format( np.round(erro_r1 ),2) )\n",
        "\n",
        "erro_r2 = sigma_m2/sigma_m100  \n",
        "print ( \"Razão do sigma_m2/sigma_m100   = {}\".format( np.round(erro_r2 ) ,2))\n",
        "\n",
        "erro_r3 = sigma_m3/sigma_m100 \n",
        "print ( \"Razão do sigma_m3/sigma_m100   = {}\".format(np.round( erro_r3 ),2 ))\n",
        "\n",
        "erro_r4 = sigma_m4/sigma_m100 \n",
        "print ( \"Razão do sigma_m4/sigma_m100   = {}\".format( erro_r4 ) )\n",
        "\n",
        "erro_r5 = sigma_m5/sigma_m100 \n",
        "print ( \"Razão do sigma_m5/sigma_m100   = {}\".format( np.round(erro_r5 ),2) )"
      ],
      "metadata": {
        "colab": {
          "base_uri": "https://localhost:8080/"
        },
        "id": "lb7d36i1VZWA",
        "outputId": "4cad9fe5-9758-4e63-ef8a-42ab0caafe5b"
      },
      "execution_count": 58,
      "outputs": [
        {
          "output_type": "stream",
          "name": "stdout",
          "text": [
            "Razão do sigma_m1/sigma_m100   = 2.0\n",
            "Razão do sigma_m2/sigma_m100   = 2.0\n",
            "Razão do sigma_m3/sigma_m100   = 2.0\n",
            "Razão do sigma_m4/sigma_m100   = 2.8066872064396926\n",
            "Razão do sigma_m5/sigma_m100   = 3.0\n"
          ]
        }
      ]
    },
    {
      "cell_type": "code",
      "source": [
        "print(\"O grupo de 100 é ou não compatível com o R de ref.:\",compatibilidadeRef(array_100))"
      ],
      "metadata": {
        "id": "GfIzKlLspSKI",
        "outputId": "b59215e8-31a8-4218-f5b3-f825c9769bdf",
        "colab": {
          "base_uri": "https://localhost:8080/"
        }
      },
      "execution_count": 59,
      "outputs": [
        {
          "output_type": "stream",
          "name": "stdout",
          "text": [
            "Incompatível 7.980238751210089 0.2756809750418044 2.1999999999999886\n",
            "O grupo de 100 é ou não compatível com o R de ref.: 7.980238751210089\n"
          ]
        }
      ]
    },
    {
      "cell_type": "code",
      "source": [
        "print(\"O grupo 01 é  ou não compatível com o grupo de 100:\",compatibilidade(array_GR01))"
      ],
      "metadata": {
        "id": "gfPjZmzKpWNn",
        "outputId": "16af6e1b-5150-449b-9610-e1ddfc238a40",
        "colab": {
          "base_uri": "https://localhost:8080/"
        }
      },
      "execution_count": 60,
      "outputs": [
        {
          "output_type": "stream",
          "name": "stdout",
          "text": [
            "Compatível 0.0762422865016321 0.6558040464715211 0.05000000000001137\n",
            "O grupo 01 é  ou não compatível com o grupo de 100: 0.0762422865016321\n"
          ]
        }
      ]
    },
    {
      "cell_type": "code",
      "source": [
        "print(\"O grupo 02 é  ou não compatível com o grupo de 100:\",compatibilidade(array_GR02))"
      ],
      "metadata": {
        "id": "7d9OCMfTpY2I",
        "outputId": "506c23fc-2208-4a32-80ee-73d435d54713",
        "colab": {
          "base_uri": "https://localhost:8080/"
        }
      },
      "execution_count": 61,
      "outputs": [
        {
          "output_type": "stream",
          "name": "stdout",
          "text": [
            "Compatível 0.08027288465174844 0.6228753360107673 0.05000000000001137\n",
            "O grupo 02 é  ou não compatível com o grupo de 100: 0.08027288465174844\n"
          ]
        }
      ]
    },
    {
      "cell_type": "code",
      "source": [
        "print(\"O grupo 03 é  ou não compatível com o grupo de 100:\",compatibilidade(array_GR03))"
      ],
      "metadata": {
        "id": "h_8cPH2PpbW1",
        "outputId": "99d4e1cd-cee0-47c0-abfb-928dcbe3b9d0",
        "colab": {
          "base_uri": "https://localhost:8080/"
        }
      },
      "execution_count": 62,
      "outputs": [
        {
          "output_type": "stream",
          "name": "stdout",
          "text": [
            "Compatível 1.5227739752537839 0.5253570214625478 0.8000000000000114\n",
            "O grupo 03 é  ou não compatível com o grupo de 100: 1.5227739752537839\n"
          ]
        }
      ]
    },
    {
      "cell_type": "code",
      "source": [
        "print(\"O grupo 04 é  ou não compatível com o grupo de 100:\",compatibilidade(array_GR04))"
      ],
      "metadata": {
        "id": "NeZxoiC9pdfV",
        "outputId": "f8853f97-70e6-46a2-8fa4-6f02b250b131",
        "colab": {
          "base_uri": "https://localhost:8080/"
        }
      },
      "execution_count": 63,
      "outputs": [
        {
          "output_type": "stream",
          "name": "stdout",
          "text": [
            "Compatível 0.3636064904720714 0.8250677803097533 0.30000000000001137\n",
            "O grupo 04 é  ou não compatível com o grupo de 100: 0.3636064904720714\n"
          ]
        }
      ]
    },
    {
      "cell_type": "code",
      "source": [
        "print(\"O grupo 05 é  ou não compatível com o grupo de 100:\",compatibilidade(array_GR05))"
      ],
      "metadata": {
        "id": "1zP3Zk1Cpgby",
        "outputId": "c49be3c1-3da0-4808-e60f-9b19593b966a",
        "colab": {
          "base_uri": "https://localhost:8080/"
        }
      },
      "execution_count": 64,
      "outputs": [
        {
          "output_type": "stream",
          "name": "stdout",
          "text": [
            "Compatível 0.5354290523372142 0.7470644303926499 0.39999999999997726\n",
            "O grupo 05 é  ou não compatível com o grupo de 100: 0.5354290523372142\n"
          ]
        }
      ]
    }
  ]
}