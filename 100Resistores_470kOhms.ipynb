{
  "nbformat": 4,
  "nbformat_minor": 0,
  "metadata": {
    "colab": {
      "provenance": [],
      "include_colab_link": true
    },
    "kernelspec": {
      "name": "python3",
      "display_name": "Python 3"
    },
    "language_info": {
      "name": "python"
    }
  },
  "cells": [
    {
      "cell_type": "markdown",
      "metadata": {
        "id": "view-in-github",
        "colab_type": "text"
      },
      "source": [
        "<a href=\"https://colab.research.google.com/github/elizamelo/FisicaGeral/blob/main/100Resistores_470kOhms.ipynb\" target=\"_parent\"><img src=\"https://colab.research.google.com/assets/colab-badge.svg\" alt=\"Open In Colab\"/></a>"
      ]
    },
    {
      "cell_type": "code",
      "source": [
        "import numpy as np\n",
        "import pandas as pd\n",
        "import matplotlib as mpl\n",
        "import matplotlib.pyplot as plt\n",
        "import statistics\n",
        "from scipy import stats\n"
      ],
      "metadata": {
        "id": "vZWvanwjzWry"
      },
      "execution_count": null,
      "outputs": []
    },
    {
      "cell_type": "code",
      "source": [
        "##Exemplo: Medidas dos 100 resistores de 890 ± 5% (kΩ)\n",
        "array_100 = [463,464,464,464,466,466,466,467,468,469,469,469,469,470,470,470,470,470,471,472,64,464,465,466,466,466,467,467,467,467,467,468,469,469,469,470,470,471,472,473,464,464,464,465,466,466,466,466,466,466,467,468,468,468,468,469,469,470,470,470,465,465,465,466,466,466,466,467,467,467,467,467,468,468,469,469,470,472,472,480,464,464,464,465,466,466,466,467,467,468,468,468,470,470,470,471,471,471,473,475]\n",
        "array_GR01 = [463,464,464,464,466,466,466,467,468,469,469,469,469,470,470,470,470,470,471,472] #(k ohms)\n",
        "array_GR02 = [464,464,465,466,466,466,467,467,467,467,467,468,469,469,469,470,470,471,472,473] #(k ohms)\n",
        "array_GR03 = [464,464,464,465,466,466,466,466,466,466,467,468,468,468,468,469,469,470,470,470]\n",
        "array_GR04 = [465,465,465,466,466,466,466,467,467,467,467,467,468,468,469,469,470,472,472,480]\n",
        "array_GR05 = [464,464,464,465,466,466,466,467,467,468,468,468,470,470,470,471,471,471,473,475]\n",
        "#array_100 = [854,854,865,869,875,883,896,801,895,896,800,803,806,809,811,822,816,827,817,821,826,830,831,829,830,841,836,847,840,838,860,853,848,842,844,849,846,849,850,853,856,855,858,853,857,863,857,863,861,863,872,855,863,863,874,869,881,874,881,885,874,872,872,879,873,878,879,876,878,882,878,876,881,888,884,879,883,884,885,885,886,897,893,899,801,888,898,802,899,893,888,895,813,892,893,897,895,898,889,895]\n",
        "#array_GR01 = [854,854,865,869,875,883,896,801,895,896,800,803,806,809,811,822,816,827,817,821] #(k ohms)\n",
        "#array_GR02 = [826,830,831,829,830,841,836,847,840,838,860,853,848,842,844,849,846,849,850,853] #(k ohms)\n",
        "#array_GR03 = [856,855,858,853,857,863,857,863,861,863,872,855,863,863,874,869,881,874,881,885] #(k ohms)\n",
        "#array_GR04 = [874,872,872,879,873,878,879,876,878,882,878,876,881,888,884,879,883,884,885,885] #(k ohms)\n",
        "#array_GR05 = [886,897,893,899,801,888,898,802,899,893,888,895,813,892,893,897,895,898,889,895] #(k ohms)\n"
      ],
      "metadata": {
        "id": "4zThAFfLD-R-"
      },
      "execution_count": null,
      "outputs": []
    },
    {
      "cell_type": "markdown",
      "source": [
        "Conjunto completo de valores de resistências (100):"
      ],
      "metadata": {
        "id": "0QQwSiL5Bpu8"
      }
    },
    {
      "cell_type": "code",
      "source": [
        "\n",
        "amplitude_100=(np.max(array_100)-np.min(array_100))\n",
        "print ( \"Valor mínimo: {}\".format( np.min(array_100) ),\"(kΩ)\" )\n",
        "print ( \"Valor máximo: {}\".format( np.max(array_100) ) ,\"(kΩ)\")\n",
        "print ( \"Amplitude: {}\".format( amplitude_100 ) ,\"(kΩ)\")"
      ],
      "metadata": {
        "colab": {
          "base_uri": "https://localhost:8080/"
        },
        "id": "12KiyT_830-t",
        "outputId": "e7c01234-53c0-4bfa-c324-9653d61b45dc"
      },
      "execution_count": null,
      "outputs": [
        {
          "output_type": "stream",
          "name": "stdout",
          "text": [
            "Valor mínimo: 64 (kΩ)\n",
            "Valor máximo: 480 (kΩ)\n",
            "Amplitude: 416 (kΩ)\n"
          ]
        }
      ]
    },
    {
      "cell_type": "code",
      "source": [
        "#Calculo da média\n",
        "N100=len(array_100)\n",
        "media_100=(np.sum(array_100)/N100)\n",
        "vmin = np.min(array_100)\n",
        "vmax = np.max(array_100)\n",
        "print(\"média do conjunto de 100 resistores: {}\".format( (media_100)),\"(kΩ)\")"
      ],
      "metadata": {
        "colab": {
          "base_uri": "https://localhost:8080/"
        },
        "id": "NX9dbDns4oVi",
        "outputId": "58120312-529c-45de-c95b-172fe16d5f12"
      },
      "execution_count": null,
      "outputs": [
        {
          "output_type": "stream",
          "name": "stdout",
          "text": [
            "média do conjunto de 100 resistores: 463.8 (kΩ)\n"
          ]
        }
      ]
    },
    {
      "cell_type": "code",
      "source": [
        "#Usando o NumPy\n",
        "np.mean( array_100 )"
      ],
      "metadata": {
        "colab": {
          "base_uri": "https://localhost:8080/"
        },
        "id": "1XWrWGGv4wLH",
        "outputId": "4e68c5d5-7d88-427a-e3fd-8c3fc903daa9"
      },
      "execution_count": null,
      "outputs": [
        {
          "output_type": "execute_result",
          "data": {
            "text/plain": [
              "463.8"
            ]
          },
          "metadata": {},
          "execution_count": 5
        }
      ]
    },
    {
      "cell_type": "code",
      "source": [
        "print(\"média do conjunto de 100 resistores: {}\".format(np.mean( array_100 )),\"(kΩ)\")\n",
        "\n"
      ],
      "metadata": {
        "colab": {
          "base_uri": "https://localhost:8080/"
        },
        "id": "chUe8w245giz",
        "outputId": "dea78ea6-b142-47d1-804e-d271fcea5adf"
      },
      "execution_count": null,
      "outputs": [
        {
          "output_type": "stream",
          "name": "stdout",
          "text": [
            "média do conjunto de 100 resistores: 463.8 (kΩ)\n"
          ]
        }
      ]
    },
    {
      "cell_type": "code",
      "source": [
        "fig = plt.figure( figsize=(8,6) )\n",
        "\n",
        "counts, bins, _ = plt.hist( array_100, bins=21, range=[vmin,vmax])\n",
        "#plt.xlim( 15, 40 )\n",
        "plt.xlabel( \"Resistência (kΩ)\", fontsize=18 )\n",
        "plt.ylabel( \"Frequência\", fontsize=18 )\n",
        "plt.title('Histograma das resistências do Conjunto Completo de 100 Resistores', fontsize=12 )\n",
        "\n",
        "\n"
      ],
      "metadata": {
        "colab": {
          "base_uri": "https://localhost:8080/",
          "height": 541
        },
        "id": "GvQTxvWk49Y1",
        "outputId": "de33cb5b-992c-4978-99f2-b431a23bcb32"
      },
      "execution_count": null,
      "outputs": [
        {
          "output_type": "execute_result",
          "data": {
            "text/plain": [
              "Text(0.5, 1.0, 'Histograma das resistências do Conjunto Completo de 100 Resistores')"
            ]
          },
          "metadata": {},
          "execution_count": 7
        },
        {
          "output_type": "display_data",
          "data": {
            "text/plain": [
              "<Figure size 800x600 with 1 Axes>"
            ],
            "image/png": "[encoded data removed]"
          },
          "metadata": {}
        }
      ]
    },
    {
      "cell_type": "markdown",
      "source": [
        "Variância e desvio Padrão usando o NumPY:"
      ],
      "metadata": {
        "id": "1uPpK8My6aS7"
      }
    },
    {
      "cell_type": "code",
      "source": [
        "var_100 = np.var( array_100, ddof=0 )\n",
        "print ( \"Variância do conj. de 100 resistores: {}\".format(var_100),\"(k^2Ω)\" )\n",
        "print ( \"Desvio Padrao do conj. de 100 resistores: {}\".format(np.sqrt(var_100)),\"(kΩ)\" )\n",
        "sigma_m100 = np.std( array_100, ddof=0 )/np.sqrt(N100)\n",
        "print ( \"Erro da média do conj. de 100: {}\".format(np.std( array_100, ddof=1 )/np.sqrt(N100)),\"(kΩ)\" )"
      ],
      "metadata": {
        "colab": {
          "base_uri": "https://localhost:8080/"
        },
        "id": "JkLhW3PU4lkb",
        "outputId": "fcfe5f96-a0ba-45c2-b199-253bac934ba5"
      },
      "execution_count": null,
      "outputs": [
        {
          "output_type": "stream",
          "name": "stdout",
          "text": [
            "Variância do conj. de 100 resistores: 1622.0 (k^2Ω)\n",
            "Desvio Padrao do conj. de 100 resistores: 40.27406113120453 (kΩ)\n",
            "Erro da média do conj. de 100: 4.047695441092175 (kΩ)\n"
          ]
        }
      ]
    },
    {
      "cell_type": "markdown",
      "source": [
        "Estimativa Padrão dos 100 resistores:"
      ],
      "metadata": {
        "id": "9KD_tjHqIg4d"
      }
    },
    {
      "cell_type": "code",
      "source": [
        "print ( \"R100 = {:.0f} ± {:.0f} (kΩ)\".format( np.round( np.mean( array_100 ), 0 ), np.round( sigma_m100, 0 ) ) )\n"
      ],
      "metadata": {
        "colab": {
          "base_uri": "https://localhost:8080/"
        },
        "id": "msPvhaqEImAO",
        "outputId": "d246c1df-dd24-4396-898f-4c6a7538bd10"
      },
      "execution_count": null,
      "outputs": [
        {
          "output_type": "stream",
          "name": "stdout",
          "text": [
            "R100 = 464 ± 4 (kΩ)\n"
          ]
        }
      ]
    },
    {
      "cell_type": "markdown",
      "source": [
        "Grupo 01 de valores de resistências:"
      ],
      "metadata": {
        "id": "gUJI8Lu67Ma5"
      }
    },
    {
      "cell_type": "code",
      "source": [
        "amplitude_GR01=(np.max(array_GR01)-np.min(array_GR01))\n",
        "print ( \"Valor mínimo: {}\".format( np.min(array_GR01) ),\"(kΩ)\" )\n",
        "print ( \"Valor máximo: {}\".format( np.max(array_GR01) ),\"(kΩ)\" )\n",
        "print ( \"Amplitude: {}\".format( amplitude_GR01 ) ,\"(kΩ)\")"
      ],
      "metadata": {
        "colab": {
          "base_uri": "https://localhost:8080/"
        },
        "id": "L2AHiMPx7LL2",
        "outputId": "28dc44cc-5400-4b9b-e889-8d8fc7dccf3e"
      },
      "execution_count": null,
      "outputs": [
        {
          "output_type": "stream",
          "name": "stdout",
          "text": [
            "Valor mínimo: 463 (kΩ)\n",
            "Valor máximo: 472 (kΩ)\n",
            "Amplitude: 9 (kΩ)\n"
          ]
        }
      ]
    },
    {
      "cell_type": "code",
      "source": [
        "#Usando o NumPy\n",
        "np.mean( array_GR01 )"
      ],
      "metadata": {
        "colab": {
          "base_uri": "https://localhost:8080/"
        },
        "id": "z7lxEJzD8h-J",
        "outputId": "14fe6e58-c1b0-4d8b-9ed9-22778db50578"
      },
      "execution_count": null,
      "outputs": [
        {
          "output_type": "execute_result",
          "data": {
            "text/plain": [
              "467.85"
            ]
          },
          "metadata": {},
          "execution_count": 11
        }
      ]
    },
    {
      "cell_type": "code",
      "source": [
        "#Calculo da média\n",
        "N1_20=len(array_GR01)\n",
        "media_GR01=(np.sum(array_GR01)/N1_20)\n",
        "vmin = np.min(array_GR01)\n",
        "vmax = np.max(array_GR01)\n",
        "\n",
        "print(\"média do conjunto de 20 resistores do Grupo 01: {}\".format( (media_GR01)),\"(kΩ)\")"
      ],
      "metadata": {
        "colab": {
          "base_uri": "https://localhost:8080/"
        },
        "id": "3k2WDajh7dIr",
        "outputId": "6be91a40-672f-401a-a88c-9d5cfa17fbec"
      },
      "execution_count": null,
      "outputs": [
        {
          "output_type": "stream",
          "name": "stdout",
          "text": [
            "média do conjunto de 20 resistores do Grupo 01: 467.85 (kΩ)\n"
          ]
        }
      ]
    },
    {
      "cell_type": "code",
      "source": [
        "fig = plt.figure( figsize=(8,6) )\n",
        "\n",
        "counts, bins, _ = plt.hist( array_GR01, bins=4, range=(460,480))\n",
        "#plt.xlim( 15, 40 )\n",
        "plt.xlabel( \"Resistência (kΩ)\", fontsize=18 )\n",
        "plt.ylabel( \"Frequência\", fontsize=18 )\n",
        "plt.title('Histograma das resistências do Grupo 01 de 20 Resistores', fontsize=12 )\n"
      ],
      "metadata": {
        "colab": {
          "base_uri": "https://localhost:8080/",
          "height": 544
        },
        "id": "iokbp7I884l0",
        "outputId": "ed992b0e-97d4-4239-cabb-c04b2e0b6399"
      },
      "execution_count": null,
      "outputs": [
        {
          "output_type": "execute_result",
          "data": {
            "text/plain": [
              "Text(0.5, 1.0, 'Histograma das resistências do Grupo 01 de 20 Resistores')"
            ]
          },
          "metadata": {},
          "execution_count": 51
        },
        {
          "output_type": "display_data",
          "data": {
            "text/plain": [
              "<Figure size 800x600 with 1 Axes>"
            ],
            "image/png": "[encoded data removed]"
          },
          "metadata": {}
        }
      ]
    },
    {
      "cell_type": "code",
      "source": [
        "var_gr1 = np.var( array_GR01, ddof=0 )\n",
        "print ( \"Variância do Grupo 01: {}\".format(var_gr1), \"(k^2Ω)\" )\n",
        "print ( \"Desvio Padrao do do Grupo 01: {}\".format(np.sqrt(var_gr1)),\"(kΩ)\" )\n",
        "sigma_m1 = np.std( array_GR01, ddof=1 )/np.sqrt(N1_20)\n",
        "print ( \"Erro da média do Grupo 01: {}\".format(np.std( array_GR01, ddof=1 )/np.sqrt(N1_20)),\"(kΩ)\" )"
      ],
      "metadata": {
        "colab": {
          "base_uri": "https://localhost:8080/"
        },
        "id": "ed9bvU1o9hKV",
        "outputId": "4fc2fc90-e86a-45ed-f7f8-f887417b9ff0"
      },
      "execution_count": null,
      "outputs": [
        {
          "output_type": "stream",
          "name": "stdout",
          "text": [
            "Variância do Grupo 01: 6.727500000000001 (k^2Ω)\n",
            "Desvio Padrao do do Grupo 01: 2.5937424698685874 (kΩ)\n",
            "Erro da média do Grupo 01: 0.5950453321961454 (kΩ)\n"
          ]
        }
      ]
    },
    {
      "cell_type": "markdown",
      "source": [
        "Estimativa Padrão GR01:"
      ],
      "metadata": {
        "id": "VY9oBKm0IYoR"
      }
    },
    {
      "cell_type": "code",
      "source": [
        "print ( \"R1 = {:.0f} ± {:.0f} (kΩ)\".format( np.round( np.mean( array_GR01 ), 0 ), np.round( sigma_m1, 0 ) ) )\n"
      ],
      "metadata": {
        "colab": {
          "base_uri": "https://localhost:8080/"
        },
        "id": "FheedpkHIbYu",
        "outputId": "f18202fc-748d-419b-ba55-405058271d48"
      },
      "execution_count": null,
      "outputs": [
        {
          "output_type": "stream",
          "name": "stdout",
          "text": [
            "R1 = 468 ± 1 (kΩ)\n"
          ]
        }
      ]
    },
    {
      "cell_type": "markdown",
      "source": [
        "Grupo 02 de valores de resistências:"
      ],
      "metadata": {
        "id": "RDM1ZLtm-BmV"
      }
    },
    {
      "cell_type": "code",
      "source": [
        "#Calculo da média\n",
        "N2_20=len(array_GR02)\n",
        "media_GR02=(np.sum(array_GR02)/N2_20)\n",
        "vmin = np.min(array_GR02)\n",
        "vmax = np.max(array_GR02)\n",
        "amplitude_GR02=(np.max(array_GR02)-np.min(array_GR02))\n",
        "print ( \"Valor mínimo: {}\".format( np.min(array_GR02) ),\"(kΩ)\" )\n",
        "print ( \"Valor máximo: {}\".format( np.max(array_GR02) ),\"(kΩ)\" )\n",
        "print ( \"Amplitude: {}\".format( amplitude_GR02 ) ,\"(kΩ)\")\n",
        "print(\"média do conjunto de 20 resistores do Grupo 02: {}\".format( (media_GR02)),\"(kΩ)\")"
      ],
      "metadata": {
        "colab": {
          "base_uri": "https://localhost:8080/"
        },
        "id": "4R6g1PYp8LXO",
        "outputId": "a27ba5a5-622f-4253-9f27-b9005aff221e"
      },
      "execution_count": null,
      "outputs": [
        {
          "output_type": "stream",
          "name": "stdout",
          "text": [
            "Valor mínimo: 464 (kΩ)\n",
            "Valor máximo: 473 (kΩ)\n",
            "Amplitude: 9 (kΩ)\n",
            "média do conjunto de 20 resistores do Grupo 02: 467.85 (kΩ)\n"
          ]
        }
      ]
    },
    {
      "cell_type": "code",
      "source": [
        "#Usando o NumPy\n",
        "np.mean( array_GR02 )"
      ],
      "metadata": {
        "colab": {
          "base_uri": "https://localhost:8080/"
        },
        "id": "2Pr-W242744A",
        "outputId": "47ed3e46-d522-46d3-d926-e2103802430b"
      },
      "execution_count": null,
      "outputs": [
        {
          "output_type": "execute_result",
          "data": {
            "text/plain": [
              "467.85"
            ]
          },
          "metadata": {},
          "execution_count": 17
        }
      ]
    },
    {
      "cell_type": "code",
      "source": [
        "fig = plt.figure( figsize=(8,6) )\n",
        "\n",
        "counts, bins, _ = plt.hist( array_GR02, bins=21, range=[vmin,vmax])\n",
        "#plt.xlim( 15, 40 )\n",
        "plt.xlabel( \"Resistência (kΩ)\", fontsize=18 )\n",
        "plt.ylabel( \"Frequência\", fontsize=18 )\n",
        "plt.title('Histograma das resistências do Grupo 02 de 20 Resistores', fontsize=12 )\n"
      ],
      "metadata": {
        "colab": {
          "base_uri": "https://localhost:8080/",
          "height": 544
        },
        "id": "SCprkcBR9OHN",
        "outputId": "7ad77764-aea1-4294-ae46-b5f17fd379cc"
      },
      "execution_count": null,
      "outputs": [
        {
          "output_type": "execute_result",
          "data": {
            "text/plain": [
              "Text(0.5, 1.0, 'Histograma das resistências do Grupo 02 de 20 Resistores')"
            ]
          },
          "metadata": {},
          "execution_count": 18
        },
        {
          "output_type": "display_data",
          "data": {
            "text/plain": [
              "<Figure size 800x600 with 1 Axes>"
            ],
            "image/png": "[encoded data removed]"
          },
          "metadata": {}
        }
      ]
    },
    {
      "cell_type": "code",
      "source": [
        "var_gr2 = np.var( array_GR02, ddof=0 )\n",
        "print ( \"Variância do Grupo 02: {}\".format(var_gr2), \"(k^2Ω)\" )\n",
        "print ( \"Desvio Padrao do do Grupo 02: {}\".format(np.sqrt(var_gr2)),\"(kΩ)\" )\n",
        "sigma_m2 = np.std( array_GR02, ddof=1 )/np.sqrt(N2_20)\n",
        "print ( \"Erro da média do Grupo 02: {}\".format(np.std( array_GR02, ddof=1 )/np.sqrt(N2_20)),\"(kΩ)\" )"
      ],
      "metadata": {
        "colab": {
          "base_uri": "https://localhost:8080/"
        },
        "id": "7ePQjySA-Jhv",
        "outputId": "1250aee1-2b26-45fb-d7a9-aa449754e977"
      },
      "execution_count": null,
      "outputs": [
        {
          "output_type": "stream",
          "name": "stdout",
          "text": [
            "Variância do Grupo 02: 5.9275 (k^2Ω)\n",
            "Desvio Padrao do do Grupo 02: 2.43464576478797 (kΩ)\n",
            "Erro da média do Grupo 02: 0.5585460448436872 (kΩ)\n"
          ]
        }
      ]
    },
    {
      "cell_type": "markdown",
      "source": [
        "Estimativa Padrão GR02:"
      ],
      "metadata": {
        "id": "rLtZNAC9IM5E"
      }
    },
    {
      "cell_type": "code",
      "source": [
        "print ( \"R2 = {:.0f} ± {:.0f} (kΩ)\".format( np.round( np.mean( array_GR02 ), 0 ), np.round( sigma_m2, 0 ) ) )\n"
      ],
      "metadata": {
        "colab": {
          "base_uri": "https://localhost:8080/"
        },
        "id": "CEv0mmY_IML8",
        "outputId": "8856a003-b8b6-43c3-cc42-66c1709e3de1"
      },
      "execution_count": null,
      "outputs": [
        {
          "output_type": "stream",
          "name": "stdout",
          "text": [
            "R2 = 468 ± 1 (kΩ)\n"
          ]
        }
      ]
    },
    {
      "cell_type": "markdown",
      "source": [
        "Grupo 03 de valores de resistências:"
      ],
      "metadata": {
        "id": "4WFO_cs--ZZc"
      }
    },
    {
      "cell_type": "code",
      "source": [
        "#Calculo da média\n",
        "N3_20=len(array_GR03)\n",
        "media_GR03=(np.sum(array_GR03)/N3_20)\n",
        "vmin = np.min(array_GR03)\n",
        "vmax = np.max(array_GR03)\n",
        "amplitude_GR03=(np.max(array_GR03)-np.min(array_GR03))\n",
        "print ( \"Valor mínimo: {}\".format( np.min(array_GR03) ),\"(kΩ)\")\n",
        "print ( \"Valor máximo: {}\".format( np.max(array_GR03) ) ,\"(kΩ)\")\n",
        "print ( \"Amplitude: {}\".format( amplitude_GR03 ),\"(kΩ)\" )\n",
        "print(\"média do conjunto de 20 resistores do Grupo 03: {}\".format( (media_GR03)),\"(kΩ)\")"
      ],
      "metadata": {
        "colab": {
          "base_uri": "https://localhost:8080/"
        },
        "id": "WvMuO5Gk-YjT",
        "outputId": "9696e416-76f7-4f6d-ef32-87b813a3fcd2"
      },
      "execution_count": null,
      "outputs": [
        {
          "output_type": "stream",
          "name": "stdout",
          "text": [
            "Valor mínimo: 464 (kΩ)\n",
            "Valor máximo: 470 (kΩ)\n",
            "Amplitude: 6 (kΩ)\n",
            "média do conjunto de 20 resistores do Grupo 03: 467.0 (kΩ)\n"
          ]
        }
      ]
    },
    {
      "cell_type": "code",
      "source": [
        "#Usando o NumPy\n",
        "np.mean( array_GR03 )"
      ],
      "metadata": {
        "colab": {
          "base_uri": "https://localhost:8080/"
        },
        "id": "js6kGJD8-4NK",
        "outputId": "efbd6cf5-295f-4022-935d-af5307de51f2"
      },
      "execution_count": null,
      "outputs": [
        {
          "output_type": "execute_result",
          "data": {
            "text/plain": [
              "467.0"
            ]
          },
          "metadata": {},
          "execution_count": 22
        }
      ]
    },
    {
      "cell_type": "code",
      "source": [
        "fig = plt.figure( figsize=(8,6) )\n",
        "\n",
        "counts, bins, _ = plt.hist( array_GR03, bins=21, range=[vmin,vmax])\n",
        "#plt.xlim( 15, 40 )\n",
        "plt.xlabel( \"Resistência (kΩ)\", fontsize=18 )\n",
        "plt.ylabel( \"Frequência\", fontsize=18 )\n",
        "plt.title('Histograma das resistências do Grupo 03 de 20 Resistores', fontsize=12 )\n"
      ],
      "metadata": {
        "colab": {
          "base_uri": "https://localhost:8080/",
          "height": 544
        },
        "id": "mDzq1mq__mNv",
        "outputId": "091a876d-5220-462c-d65c-84ee067ece60"
      },
      "execution_count": null,
      "outputs": [
        {
          "output_type": "execute_result",
          "data": {
            "text/plain": [
              "Text(0.5, 1.0, 'Histograma das resistências do Grupo 03 de 20 Resistores')"
            ]
          },
          "metadata": {},
          "execution_count": 23
        },
        {
          "output_type": "display_data",
          "data": {
            "text/plain": [
              "<Figure size 800x600 with 1 Axes>"
            ],
            "image/png": "[encoded data removed]"
          },
          "metadata": {}
        }
      ]
    },
    {
      "cell_type": "code",
      "source": [
        "var_gr3 = np.var( array_GR03, ddof=0 )\n",
        "print ( \"Variância do Grupo 03: {}\".format(var_gr3), \"(k^2Ω)\" )\n",
        "print ( \"Desvio Padrao do do Grupo 03: {}\".format(np.sqrt(var_gr3)),\"(kΩ)\" )\n",
        "sigma_m3 = np.std( array_GR03, ddof=1 )/np.sqrt(N3_20)\n",
        "print ( \"Erro da média do Grupo 03: {}\".format(np.std( array_GR03, ddof=1 )/np.sqrt(N3_20)),\"(kΩ)\" )"
      ],
      "metadata": {
        "colab": {
          "base_uri": "https://localhost:8080/"
        },
        "id": "7F6LaehY_uSe",
        "outputId": "0608b739-4d41-43a5-91e1-ca538cbeb7d7"
      },
      "execution_count": null,
      "outputs": [
        {
          "output_type": "stream",
          "name": "stdout",
          "text": [
            "Variância do Grupo 03: 3.8 (k^2Ω)\n",
            "Desvio Padrao do do Grupo 03: 1.9493588689617927 (kΩ)\n",
            "Erro da média do Grupo 03: 0.4472135954999579 (kΩ)\n"
          ]
        }
      ]
    },
    {
      "cell_type": "markdown",
      "source": [
        "Estimativa Padrão GR03:"
      ],
      "metadata": {
        "id": "rpkKz3I1IBqM"
      }
    },
    {
      "cell_type": "code",
      "source": [
        "print ( \"R3 = {:.1f} ± {:.1f} (kΩ)\".format( np.round( np.mean( array_GR03 ), 1 ), np.round( sigma_m3, 1 ) ) )\n"
      ],
      "metadata": {
        "colab": {
          "base_uri": "https://localhost:8080/"
        },
        "id": "-5YjoqQ5IFnT",
        "outputId": "60d83e4f-4a93-4ca1-8976-6963ddab3779"
      },
      "execution_count": null,
      "outputs": [
        {
          "output_type": "stream",
          "name": "stdout",
          "text": [
            "R3 = 467.0 ± 0.4 (kΩ)\n"
          ]
        }
      ]
    },
    {
      "cell_type": "markdown",
      "source": [
        "Grupo 04 de valores de resistências:"
      ],
      "metadata": {
        "id": "g-nT1Lv0BQCd"
      }
    },
    {
      "cell_type": "code",
      "source": [
        "#Calculo da média\n",
        "N4_20=len(array_GR04)\n",
        "media_GR04=(np.sum(array_GR04)/N4_20)\n",
        "vmin = np.min(array_GR04)\n",
        "vmax = np.max(array_GR04)\n",
        "amplitude_GR04=(np.max(array_GR04)-np.min(array_GR04))\n",
        "print ( \"Valor mínimo: {}\".format( np.min(array_GR04) ),\"(kΩ)\")\n",
        "print ( \"Valor máximo: {}\".format( np.max(array_GR04) ) ,\"(kΩ)\")\n",
        "print ( \"Amplitude: {}\".format( amplitude_GR04 ),\"(kΩ)\" )\n",
        "print(\"média do conjunto de 20 resistências do Grupo 04: {}\".format( (media_GR04)),\"(kΩ)\")"
      ],
      "metadata": {
        "colab": {
          "base_uri": "https://localhost:8080/"
        },
        "id": "A_1GW6yeByQ_",
        "outputId": "dcf7208b-ccdb-428b-e3e6-d45de632b58a"
      },
      "execution_count": null,
      "outputs": [
        {
          "output_type": "stream",
          "name": "stdout",
          "text": [
            "Valor mínimo: 465 (kΩ)\n",
            "Valor máximo: 480 (kΩ)\n",
            "Amplitude: 15 (kΩ)\n",
            "média do conjunto de 20 resistências do Grupo 04: 468.1 (kΩ)\n"
          ]
        }
      ]
    },
    {
      "cell_type": "code",
      "source": [
        "#Usando o NumPy\n",
        "np.mean( array_GR04 )"
      ],
      "metadata": {
        "colab": {
          "base_uri": "https://localhost:8080/"
        },
        "id": "3tAVNm99Byll",
        "outputId": "75b2eca5-e1cb-446e-f7fd-df74e032dcce"
      },
      "execution_count": null,
      "outputs": [
        {
          "output_type": "execute_result",
          "data": {
            "text/plain": [
              "468.1"
            ]
          },
          "metadata": {},
          "execution_count": 27
        }
      ]
    },
    {
      "cell_type": "code",
      "source": [
        "fig = plt.figure( figsize=(8,6) )\n",
        "\n",
        "counts, bins, _ = plt.hist( array_GR04, bins=21, range=[vmin,vmax])\n",
        "#plt.xlim( 15, 40 )\n",
        "plt.xlabel( \"Resistência (kΩ)\", fontsize=18 )\n",
        "plt.ylabel( \"Frequência\", fontsize=18 )\n",
        "plt.title('Histograma das resistências do Grupo 04 de 20 Resistores', fontsize=12 )\n"
      ],
      "metadata": {
        "colab": {
          "base_uri": "https://localhost:8080/",
          "height": 544
        },
        "id": "ObccGQYYCJDl",
        "outputId": "48f89ee5-bc48-4246-cf85-0b8eba059321"
      },
      "execution_count": null,
      "outputs": [
        {
          "output_type": "execute_result",
          "data": {
            "text/plain": [
              "Text(0.5, 1.0, 'Histograma das resistências do Grupo 04 de 20 Resistores')"
            ]
          },
          "metadata": {},
          "execution_count": 28
        },
        {
          "output_type": "display_data",
          "data": {
            "text/plain": [
              "<Figure size 800x600 with 1 Axes>"
            ],
            "image/png": "[encoded data removed]"
          },
          "metadata": {}
        }
      ]
    },
    {
      "cell_type": "code",
      "source": [
        "var_gr4 = np.var( array_GR04, ddof=0 )\n",
        "print ( \"Variância do Grupo 04: {}\".format(var_gr4), \"(k^2Ω)\" )\n",
        "print ( \"Desvio Padrao do do Grupo 04: {}\".format(np.sqrt(var_gr4)),\"(kΩ)\" )\n",
        "sigma_m4 = np.std( array_GR04, ddof=1 )/np.sqrt(N4_20)\n",
        "print ( \"Erro da média do Grupo 04: {}\".format(np.std( array_GR04, ddof=1 )/np.sqrt(N4_20)),\"(kΩ)\" )"
      ],
      "metadata": {
        "colab": {
          "base_uri": "https://localhost:8080/"
        },
        "id": "owXv6yuTCVKu",
        "outputId": "e297f54a-c21d-4a71-cb76-5215c801b84c"
      },
      "execution_count": null,
      "outputs": [
        {
          "output_type": "stream",
          "name": "stdout",
          "text": [
            "Variância do Grupo 04: 11.49 (k^2Ω)\n",
            "Desvio Padrao do do Grupo 04: 3.3896902513356584 (kΩ)\n",
            "Erro da média do Grupo 04: 0.7776482766040591 (kΩ)\n"
          ]
        }
      ]
    },
    {
      "cell_type": "markdown",
      "source": [
        "Estimativa Padrão GR04:"
      ],
      "metadata": {
        "id": "5FZWw7mmH7ac"
      }
    },
    {
      "cell_type": "code",
      "source": [
        "print ( \"R4 = {:.0f} ± {:.0f} (kΩ)\".format( np.round( np.mean( array_GR04 ), 1 ), np.round( sigma_m4, 1 ) ) )\n"
      ],
      "metadata": {
        "colab": {
          "base_uri": "https://localhost:8080/"
        },
        "id": "3dY4Lvl4HzT7",
        "outputId": "20e01b25-6dfa-428b-c475-e502c8884989"
      },
      "execution_count": null,
      "outputs": [
        {
          "output_type": "stream",
          "name": "stdout",
          "text": [
            "R4 = 468 ± 1 (kΩ)\n"
          ]
        }
      ]
    },
    {
      "cell_type": "markdown",
      "source": [
        "Grupo 05 de valores de resistências:\n"
      ],
      "metadata": {
        "id": "iBI34d-wCjOB"
      }
    },
    {
      "cell_type": "code",
      "source": [
        "#Calculo da média\n",
        "N5_20=len(array_GR05)\n",
        "media_GR05=(np.sum(array_GR05)/N5_20)\n",
        "vmin = np.min(array_GR05)\n",
        "vmax = np.max(array_GR05)\n",
        "amplitude_GR05=(np.max(array_GR05)-np.min(array_GR05))\n",
        "print ( \"Valor mínimo: {}\".format( np.min(array_GR05) ),\"(kΩ)\")\n",
        "print ( \"Valor máximo: {}\".format( np.max(array_GR05) ) ,\"(kΩ)\")\n",
        "print ( \"Amplitude: {}\".format( amplitude_GR05 ),\"(kΩ)\" )\n",
        "print(\"média do conjunto de 20 resistências do Grupo 05: {}\".format( (media_GR05)),\"(kΩ)\")"
      ],
      "metadata": {
        "colab": {
          "base_uri": "https://localhost:8080/"
        },
        "id": "8S7RGXo7CbzD",
        "outputId": "d4e773cd-7ab3-4e14-fd5d-e6dee1abe7c5"
      },
      "execution_count": null,
      "outputs": [
        {
          "output_type": "stream",
          "name": "stdout",
          "text": [
            "Valor mínimo: 464 (kΩ)\n",
            "Valor máximo: 475 (kΩ)\n",
            "Amplitude: 11 (kΩ)\n",
            "média do conjunto de 20 resistências do Grupo 05: 468.2 (kΩ)\n"
          ]
        }
      ]
    },
    {
      "cell_type": "code",
      "source": [
        "#Usando o NumPy\n",
        "np.mean( array_GR05 )"
      ],
      "metadata": {
        "colab": {
          "base_uri": "https://localhost:8080/"
        },
        "id": "FBrXEDBVC-9-",
        "outputId": "142555e5-911b-42e0-a211-38b97ed9ec26"
      },
      "execution_count": null,
      "outputs": [
        {
          "output_type": "execute_result",
          "data": {
            "text/plain": [
              "468.2"
            ]
          },
          "metadata": {},
          "execution_count": 32
        }
      ]
    },
    {
      "cell_type": "code",
      "source": [
        "fig = plt.figure( figsize=(8,6) )\n",
        "\n",
        "counts, bins, _ = plt.hist( array_GR05, bins=21, range=[vmin,vmax])\n",
        "#plt.xlim( 15, 40 )\n",
        "plt.xlabel( \"Resistência (kΩ)\", fontsize=18 )\n",
        "plt.ylabel( \"Frequência\", fontsize=18 )\n",
        "plt.title('Histograma das resistências do Grupo 05 de 20 Resistores', fontsize=12 )"
      ],
      "metadata": {
        "colab": {
          "base_uri": "https://localhost:8080/",
          "height": 535
        },
        "id": "zeF73imBDDkc",
        "outputId": "032668d0-95c0-4446-e933-d2341a05d23a"
      },
      "execution_count": null,
      "outputs": [
        {
          "output_type": "execute_result",
          "data": {
            "text/plain": [
              "Text(0.5, 1.0, 'Histograma das resistências do Grupo 05 de 20 Resistores')"
            ]
          },
          "metadata": {},
          "execution_count": 33
        },
        {
          "output_type": "display_data",
          "data": {
            "text/plain": [
              "<Figure size 800x600 with 1 Axes>"
            ],
            "image/png": "[encoded data removed]"
          },
          "metadata": {}
        }
      ]
    },
    {
      "cell_type": "code",
      "source": [
        "var_gr5 = np.var( array_GR05, ddof=1 )\n",
        "print ( \"Variância do Grupo 05: {}\".format(var_gr5), \"(k^2Ω)\" )\n",
        "print ( \"Desvio Padrao do do Grupo 05: {}\".format(np.sqrt(var_gr5)),\"(kΩ)\" )\n",
        "sigma_m5 = np.std( array_GR05, ddof=1 )/np.sqrt(N5_20)\n",
        "print ( \"Erro da média do Grupo 05: {}\".format(np.std( array_GR05, ddof=1 )/np.sqrt(N5_20)),\"(kΩ)\" )"
      ],
      "metadata": {
        "colab": {
          "base_uri": "https://localhost:8080/"
        },
        "id": "EmL-E19YENJ2",
        "outputId": "535b7d2d-3727-44ff-8a6e-84aea5a62c54"
      },
      "execution_count": null,
      "outputs": [
        {
          "output_type": "stream",
          "name": "stdout",
          "text": [
            "Variância do Grupo 05: 9.642105263157895 (k^2Ω)\n",
            "Desvio Padrao do do Grupo 05: 3.1051739505473592 (kΩ)\n",
            "Erro da média do Grupo 05: 0.6943380035385465 (kΩ)\n"
          ]
        }
      ]
    },
    {
      "cell_type": "markdown",
      "source": [
        "Estimativa Padrão GR05:\n"
      ],
      "metadata": {
        "id": "Yp9HhY_mHVrT"
      }
    },
    {
      "cell_type": "code",
      "source": [
        "print ( \"R5 = {:.0f} ± {:.0f} (kΩ)\".format( np.round( np.mean( array_GR05 ), 1 ), np.round( sigma_m5, 1 ) ) )\n"
      ],
      "metadata": {
        "colab": {
          "base_uri": "https://localhost:8080/"
        },
        "id": "qOaQKay7FqAY",
        "outputId": "35be8426-fef7-4864-f6ad-ed552100b706"
      },
      "execution_count": null,
      "outputs": [
        {
          "output_type": "stream",
          "name": "stdout",
          "text": [
            "R5 = 468 ± 1 (kΩ)\n"
          ]
        }
      ]
    },
    {
      "cell_type": "markdown",
      "source": [
        "Média das Médias:"
      ],
      "metadata": {
        "id": "g6BUml-nJTBR"
      }
    },
    {
      "cell_type": "code",
      "source": [
        "array_GRM = [np.mean( array_GR01 ),np.mean( array_GR02 ),np.mean( array_GR03 ),np.mean( array_GR04),np.mean( array_GR05)] #kΩ"
      ],
      "metadata": {
        "id": "DQmfYQPuJRDd"
      },
      "execution_count": null,
      "outputs": []
    },
    {
      "cell_type": "code",
      "source": [
        "N=len(array_GRM)\n",
        "media_GRM=(np.sum(array_GRM)/N)\n",
        "vmin = np.min(array_GRM)\n",
        "vmax = np.max(array_GRM)\n",
        "amplitude_GRM=(np.max(array_GRM)-np.min(array_GRM))\n",
        "print ( \"Valor mínimo: {}\".format( np.min(array_GRM) ),\"(kΩ)\")\n",
        "print ( \"Valor máximo: {}\".format( np.max(array_GRM) ) ,\"(kΩ)\")\n",
        "print ( \"Amplitude: {}\".format( amplitude_GRM ),\"(kΩ)\" )\n",
        "print(\"média do conjunto das médias das resistências: {}\".format( (media_GRM)),\"(kΩ)\")"
      ],
      "metadata": {
        "colab": {
          "base_uri": "https://localhost:8080/"
        },
        "id": "d8JBQ_57JrWB",
        "outputId": "08a7642b-ead5-4a72-8c24-f142d6f4d65a"
      },
      "execution_count": null,
      "outputs": [
        {
          "output_type": "stream",
          "name": "stdout",
          "text": [
            "Valor mínimo: 467.0 (kΩ)\n",
            "Valor máximo: 468.2 (kΩ)\n",
            "Amplitude: 1.1999999999999886 (kΩ)\n",
            "média do conjunto das médias das resistências: 467.8 (kΩ)\n"
          ]
        }
      ]
    },
    {
      "cell_type": "code",
      "source": [
        "#Usando o NumPy\n",
        "np.mean( array_GRM )"
      ],
      "metadata": {
        "colab": {
          "base_uri": "https://localhost:8080/"
        },
        "id": "EVqLEW9MKBOl",
        "outputId": "0cddbd97-9004-45b9-ae83-1654ca45664b"
      },
      "execution_count": null,
      "outputs": [
        {
          "output_type": "execute_result",
          "data": {
            "text/plain": [
              "467.8"
            ]
          },
          "metadata": {},
          "execution_count": 38
        }
      ]
    },
    {
      "cell_type": "code",
      "source": [
        "fig = plt.figure( figsize=(8,6) )\n",
        "\n",
        "counts, bins, _ = plt.hist( array_GRM, bins=21, range=[vmin,vmax])\n",
        "#plt.xlim( 15, 40 )\n",
        "plt.xlabel( \"Resistência (kΩ)\", fontsize=18 )\n",
        "plt.ylabel( \"Frequência\", fontsize=18 )\n",
        "plt.title('Histograma das resistências do grupo das médias', fontsize=12 )"
      ],
      "metadata": {
        "colab": {
          "base_uri": "https://localhost:8080/",
          "height": 529
        },
        "id": "T5IMIXaKKFv6",
        "outputId": "3994a7a2-03d7-4b5b-c43f-402c1a3fad37"
      },
      "execution_count": null,
      "outputs": [
        {
          "output_type": "execute_result",
          "data": {
            "text/plain": [
              "Text(0.5, 1.0, 'Histograma das resistências do grupo das médias')"
            ]
          },
          "metadata": {},
          "execution_count": 39
        },
        {
          "output_type": "display_data",
          "data": {
            "text/plain": [
              "<Figure size 800x600 with 1 Axes>"
            ],
            "image/png": "[encoded data removed]"
          },
          "metadata": {}
        }
      ]
    },
    {
      "cell_type": "code",
      "source": [
        "var_grm = np.var( array_GRM, ddof=1 )\n",
        "print ( \"Variância do Grupo das médias: {}\".format(var_grm), \"(k^2Ω)\" )\n",
        "print ( \"Desvio Padrao do do Grupo das médias: {}\".format(np.sqrt(var_grm)),\"(kΩ)\" )\n",
        "sigma_m = np.std( array_GRM, ddof=1 )/np.sqrt(N)\n",
        "print ( \"Erro da média do Grupo das médias: {}\".format(np.std( array_GRM, ddof=1 )/np.sqrt(N)),\"(kΩ)\" )"
      ],
      "metadata": {
        "colab": {
          "base_uri": "https://localhost:8080/"
        },
        "id": "okn9_8NxK8p_",
        "outputId": "b066356f-2da2-4085-b362-50b0135832d3"
      },
      "execution_count": null,
      "outputs": [
        {
          "output_type": "stream",
          "name": "stdout",
          "text": [
            "Variância do Grupo das médias: 0.22375000000000228 (k^2Ω)\n",
            "Desvio Padrao do do Grupo das médias: 0.4730221982106149 (kΩ)\n",
            "Erro da média do Grupo das médias: 0.21154195801306286 (kΩ)\n"
          ]
        }
      ]
    },
    {
      "cell_type": "markdown",
      "source": [
        "Estimativa padrão do grupo das médias:"
      ],
      "metadata": {
        "id": "enmXcz_QLQ8z"
      }
    },
    {
      "cell_type": "code",
      "source": [
        "print ( \"RM = {:.0f} ± {:.0f} (kΩ)\".format( np.round( np.mean( array_GRM ), 1 ), np.round( sigma_m, 1 ) ) )\n"
      ],
      "metadata": {
        "colab": {
          "base_uri": "https://localhost:8080/"
        },
        "id": "M7x6fzbaLP6V",
        "outputId": "bb5711a2-b159-4510-b88a-d302cb8de3a0"
      },
      "execution_count": null,
      "outputs": [
        {
          "output_type": "stream",
          "name": "stdout",
          "text": [
            "RM = 468 ± 0 (kΩ)\n"
          ]
        }
      ]
    },
    {
      "cell_type": "markdown",
      "source": [
        "Desvio Padrão do conjunto com 100 resistores:\n"
      ],
      "metadata": {
        "id": "YvGHv4KlDPxf"
      }
    },
    {
      "cell_type": "code",
      "source": [
        "sigma_L_p = np.std( array_100, ddof=0 )\n",
        "print ( \"Desvio padrão populacional (kΩ) = {}\".format(sigma_L_p  ) )\n",
        "\n",
        "sigma_L_a = np.std( array_100, ddof=1 )\n",
        "print ( \"Desvio padrão amostral (kΩ) = {}\".format(sigma_L_a  ) )\n",
        "\n"
      ],
      "metadata": {
        "colab": {
          "base_uri": "https://localhost:8080/"
        },
        "id": "iOAZ7tki6SPI",
        "outputId": "160897a0-891c-4f5e-c045-0421481bed2d"
      },
      "execution_count": null,
      "outputs": [
        {
          "output_type": "stream",
          "name": "stdout",
          "text": [
            "Desvio padrão populacional (kΩ) = 40.27406113120453\n",
            "Desvio padrão amostral (kΩ) = 40.476954410921756\n"
          ]
        }
      ]
    },
    {
      "cell_type": "markdown",
      "source": [
        "Erro Relativo:"
      ],
      "metadata": {
        "id": "0hsL--e7EulM"
      }
    },
    {
      "cell_type": "code",
      "source": [
        "erro_relativo100 = sigma_m100 / media_100\n",
        "print ( \"Erro relativo das medidas dos 100 resistores = {}\".format( erro_relativo100 ),\"(kΩ)\" )\n",
        "erro_relativo1 = sigma_m1/ media_GR01\n",
        "print ( \"Erro relativo das medidas do grupo 1 = {}\".format( erro_relativo1 ),\"(kΩ)\" )\n",
        "erro_relativo2 = sigma_m2/ media_GR02\n",
        "print ( \"Erro relativo das medidas do grupo 2 = {}\".format( erro_relativo2 ),\"(kΩ)\" )\n",
        "erro_relativo3 = sigma_m3/ media_GR03\n",
        "print ( \"Erro relativo das medidas do grupo 3 = {}\".format( erro_relativo3 ),\"(kΩ)\" )\n",
        "erro_relativo4 = sigma_m4/ media_GR04\n",
        "print ( \"Erro relativo das medidas do grupo 4 = {}\".format( erro_relativo4 ),\"(kΩ)\" )\n",
        "erro_relativo5 = sigma_m5/ media_GR05\n",
        "print ( \"Erro relativo das medidas do grupo 5 = {}\".format( erro_relativo5 ),\"(kΩ)\" )\n",
        "erro_relativoM = sigma_m/ media_GRM\n",
        "print ( \"Erro relativo das medidas do grupo das médias = {}\".format( erro_relativoM ),\"(kΩ)\" )"
      ],
      "metadata": {
        "colab": {
          "base_uri": "https://localhost:8080/"
        },
        "id": "KZNFZoC3Ewte",
        "outputId": "b36852e8-51f4-4275-a724-f72f8b0632fc"
      },
      "execution_count": null,
      "outputs": [
        {
          "output_type": "stream",
          "name": "stdout",
          "text": [
            "Erro relativo das medidas dos 100 resistores = 0.00868349744096691 (kΩ)\n",
            "Erro relativo das medidas do grupo 1 = 0.0012718720363281936 (kΩ)\n",
            "Erro relativo das medidas do grupo 2 = 0.0011938571013010307 (kΩ)\n",
            "Erro relativo das medidas do grupo 3 = 0.0009576308254817086 (kΩ)\n",
            "Erro relativo das medidas do grupo 4 = 0.0016612866408973704 (kΩ)\n",
            "Erro relativo das medidas do grupo 5 = 0.0014829944543753662 (kΩ)\n",
            "Erro relativo das medidas do grupo das médias = 0.0004522059812164661 (kΩ)\n"
          ]
        }
      ]
    },
    {
      "cell_type": "markdown",
      "source": [
        "Razão entre os erros das médias de cada grupo e o erro da média do conjunto completo:"
      ],
      "metadata": {
        "id": "zxdb1KYnUvwD"
      }
    },
    {
      "cell_type": "code",
      "source": [
        "erro_r1 = sigma_m1/sigma_m100 \n",
        "print ( \"Razão do sigma_m1/sigma_m100   = {}\".format( np.round(erro_r1 ),2) )\n",
        "\n",
        "erro_r2 = sigma_m2/sigma_m100  \n",
        "print ( \"Razão do sigma_m2/sigma_m100   = {}\".format( np.round(erro_r2 ) ,2))\n",
        "\n",
        "erro_r3 = sigma_m3/sigma_m100 \n",
        "print ( \"Razão do sigma_m3/sigma_m100   = {}\".format(np.round( erro_r3 ),2 ))\n",
        "\n",
        "erro_r4 = sigma_m4/sigma_m100 \n",
        "print ( \"Razão do sigma_m4/sigma_m100   = {}\".format( erro_r4 ) )\n",
        "\n",
        "erro_r5 = sigma_m5/sigma_m100 \n",
        "print ( \"Razão do sigma_m5/sigma_m100   = {}\".format( np.round(erro_r5 ),2) )"
      ],
      "metadata": {
        "colab": {
          "base_uri": "https://localhost:8080/"
        },
        "id": "lb7d36i1VZWA",
        "outputId": "f9125fb2-5daa-435d-fbaf-574e23b2c883"
      },
      "execution_count": null,
      "outputs": [
        {
          "output_type": "stream",
          "name": "stdout",
          "text": [
            "Razão do sigma_m1/sigma_m100   = 0.0\n",
            "Razão do sigma_m2/sigma_m100   = 0.0\n",
            "Razão do sigma_m3/sigma_m100   = 0.0\n",
            "Razão do sigma_m4/sigma_m100   = 0.19308911362840772\n",
            "Razão do sigma_m5/sigma_m100   = 0.0\n"
          ]
        }
      ]
    }
  ]
}