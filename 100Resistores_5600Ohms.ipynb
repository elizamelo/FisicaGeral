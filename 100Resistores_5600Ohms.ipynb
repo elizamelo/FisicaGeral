{
  "nbformat": 4,
  "nbformat_minor": 0,
  "metadata": {
    "colab": {
      "provenance": [],
      "include_colab_link": true
    },
    "kernelspec": {
      "name": "python3",
      "display_name": "Python 3"
    },
    "language_info": {
      "name": "python"
    }
  },
  "cells": [
    {
      "cell_type": "markdown",
      "metadata": {
        "id": "view-in-github",
        "colab_type": "text"
      },
      "source": [
        "<a href=\"https://colab.research.google.com/github/elizamelo/FisicaGeral/blob/main/100Resistores_5600Ohms.ipynb\" target=\"_parent\"><img src=\"https://colab.research.google.com/assets/colab-badge.svg\" alt=\"Open In Colab\"/></a>"
      ]
    },
    {
      "cell_type": "code",
      "source": [
        "import numpy as np\n",
        "import pandas as pd\n",
        "import matplotlib as mpl\n",
        "import matplotlib.pyplot as plt\n",
        "import statistics\n",
        "from scipy import stats\n"
      ],
      "metadata": {
        "id": "vZWvanwjzWry"
      },
      "execution_count": 62,
      "outputs": []
    },
    {
      "cell_type": "code",
      "source": [
        "#Valor nominal ou do fabricante\n",
        "R_ref= 5.6 #(kΩ)"
      ],
      "metadata": {
        "id": "V1wDKFSvr45a"
      },
      "execution_count": 63,
      "outputs": []
    },
    {
      "cell_type": "code",
      "source": [
        "##Exemplo: Medidas dos 100 resistores de 890 ± 5% (kΩ)\n",
        "\n",
        "array_100 = [5.44,5.56,5.41,5.50,5.64,5.61,5.58,5.45,5.44,5.57,5.47,5.59,5.56,5.46,5.49,5.50,5.48,5.57,5.59,5.56,5.56,5.54,5.55,5.48,5.52,5.54,5.49,5.52,5.46,5.54,5.47,5.55,5.46,5.53,5.48,5.56,5.54,5.52,5.50,5.47,5.47,5.54,5.49,5.55,5.51,5.53,5.54,5.46,5.52,5.55,5.55,5.55,5.46,5.53,5.54,5.48,5.51,5.57,5.55,5.57,5.59,5.51,5.48,5.54,5.56,5.54,5.55,5.47,5.52,5.51,5.51,5.53,5.47,5.52,5.48,5.54,5.55,5.50,5.51,5.47,5.51,5.57,5.51,5.48,5.52,5.51,5.59,5.51,5.46,5.55,5.51,5.53,5.52,5.46,5.47,5.53,5.55,5.52,5.46,5.51] #(k ohms)\n",
        "array_GR01 = [5.44,5.56,5.41,5.50,5.64,5.61,5.58,5.45,5.44,5.57,5.47,5.59,5.56,5.46,5.49,5.50,5.48,5.57,5.59,5.56] #(k ohms)\n",
        "array_GR02 = [5.56,5.54,5.55,5.48,5.52,5.54,5.49,5.52,5.46,5.54,5.47,5.55,5.46,5.53,5.48,5.56,5.54,5.52,5.50,5.47] #(k ohms)\n",
        "array_GR03 = [5.47,5.54,5.49,5.55,5.51,5.53,5.54,5.46,5.52,5.55,5.55,5.55,5.46,5.53,5.54,5.48,5.51,5.57,5.55,5.57] #(k ohms)\n",
        "array_GR04 = [5.59,5.51,5.48,5.54,5.56,5.54,5.55,5.47,5.52,5.51,5.51,5.53,5.47,5.52,5.48,5.54,5.55,5.50,5.51,5.47] #(k ohms)\n",
        "array_GR05 = [5.51,5.57,5.51,5.48,5.52,5.51,5.59,5.51,5.46,5.55,5.51,5.53,5.52,5.46,5.47,5.53,5.55,5.52,5.46,5.51] #(k ohms)\n"
      ],
      "metadata": {
        "id": "4zThAFfLD-R-"
      },
      "execution_count": 64,
      "outputs": []
    },
    {
      "cell_type": "code",
      "source": [
        "def compatibilidade(grupo):\n",
        "  e100 = (np.std(array_100, ddof=0 ))/np.sqrt(len(array_100))\n",
        "  egrupo = (np.std(grupo, ddof=1 ))/np.sqrt(len(grupo))\n",
        "  ec = np.sqrt((e100*e100)+(egrupo*egrupo))\n",
        "  d = abs(np.mean(grupo)-np.mean(array_100))/ec\n",
        "  if d<=2.0:\n",
        "    print(\"Compatível\", d, ec, abs(np.mean(grupo)-np.mean(array_100)))\n",
        "  elif d > 2.0 and d < 3.0:\n",
        "    print(\"Inconclusivo\", d,ec, abs(np.mean(grupo)-np.mean(array_100)))\n",
        "  else:\n",
        "    print(\"Incompatível\", d,ec,abs(np.mean(grupo)-np.mean(array_100)))\n",
        "  return(d)"
      ],
      "metadata": {
        "id": "7rSzJmERsBxM"
      },
      "execution_count": 65,
      "outputs": []
    },
    {
      "cell_type": "code",
      "source": [
        "def compatibilidadeRef(grupo):\n",
        "  e100 = (np.std(array_100, ddof=0 ))/np.sqrt(len(array_100))\n",
        "  #egrupo = (np.std(grupo, ddof=1 ))/np.sqrt(len(grupo))\n",
        "  #ec = np.sqrt((e100*e100)+(egrupo*egrupo))\n",
        "  d = abs(np.mean(grupo)-R_ref)/e100\n",
        "  if d<=2.0:\n",
        "    print(\"Compatível\", d, e100, abs(np.mean(grupo)-R_ref))\n",
        "  elif d > 2.0 and d < 3.0:\n",
        "    print(\"Inconclusivo\", d,e100, abs(np.mean(grupo)-R_ref))\n",
        "  else:\n",
        "    print(\"Incompatível\", d,e100,abs(np.mean(grupo)-R_ref))\n",
        "  return(d)"
      ],
      "metadata": {
        "id": "E2PsRo-7sCfo"
      },
      "execution_count": 66,
      "outputs": []
    },
    {
      "cell_type": "markdown",
      "source": [
        "Conjunto completo de valores de resistências (100):"
      ],
      "metadata": {
        "id": "0QQwSiL5Bpu8"
      }
    },
    {
      "cell_type": "code",
      "source": [
        "amplitude_100=(np.max(array_100)-np.min(array_100))\n",
        "print ( \"Valor mínimo: {}\".format( np.min(array_100) ),\"(kΩ)\" )\n",
        "print ( \"Valor máximo: {}\".format( np.max(array_100) ) ,\"(kΩ)\")\n",
        "print ( \"Amplitude: {}\".format( amplitude_100 ) ,\"(kΩ)\")"
      ],
      "metadata": {
        "colab": {
          "base_uri": "https://localhost:8080/"
        },
        "id": "12KiyT_830-t",
        "outputId": "0f28d621-7261-4f15-bdeb-69293dcc0d1e"
      },
      "execution_count": 67,
      "outputs": [
        {
          "output_type": "stream",
          "name": "stdout",
          "text": [
            "Valor mínimo: 5.41 (kΩ)\n",
            "Valor máximo: 5.64 (kΩ)\n",
            "Amplitude: 0.22999999999999954 (kΩ)\n"
          ]
        }
      ]
    },
    {
      "cell_type": "code",
      "source": [
        "#Calculo da média\n",
        "N100=len(array_100)\n",
        "media_100=(np.sum(array_100)/N100)\n",
        "vmin = np.min(array_100)\n",
        "vmax = np.max(array_100)\n",
        "print(\"média do conjunto de 100 resistores: {}\".format( (media_100)),\"(kΩ)\")"
      ],
      "metadata": {
        "colab": {
          "base_uri": "https://localhost:8080/"
        },
        "id": "NX9dbDns4oVi",
        "outputId": "5c7e7b46-7bcf-4ebe-dc86-b483ebc8ec82"
      },
      "execution_count": 68,
      "outputs": [
        {
          "output_type": "stream",
          "name": "stdout",
          "text": [
            "média do conjunto de 100 resistores: 5.518399999999999 (kΩ)\n"
          ]
        }
      ]
    },
    {
      "cell_type": "code",
      "source": [
        "#Usando o NumPy\n",
        "np.mean( array_100 )"
      ],
      "metadata": {
        "colab": {
          "base_uri": "https://localhost:8080/"
        },
        "id": "1XWrWGGv4wLH",
        "outputId": "a2a4d763-aac8-4a79-8508-4c532bc6ec81"
      },
      "execution_count": 69,
      "outputs": [
        {
          "output_type": "execute_result",
          "data": {
            "text/plain": [
              "5.518399999999999"
            ]
          },
          "metadata": {},
          "execution_count": 69
        }
      ]
    },
    {
      "cell_type": "code",
      "source": [
        "print(\"média do conjunto de 100 resistores: {}\".format(np.mean( array_100 )),\"(kΩ)\")\n",
        "\n"
      ],
      "metadata": {
        "colab": {
          "base_uri": "https://localhost:8080/"
        },
        "id": "chUe8w245giz",
        "outputId": "f5a4d406-3373-4570-dec4-e1e04ba59841"
      },
      "execution_count": 70,
      "outputs": [
        {
          "output_type": "stream",
          "name": "stdout",
          "text": [
            "média do conjunto de 100 resistores: 5.518399999999999 (kΩ)\n"
          ]
        }
      ]
    },
    {
      "cell_type": "code",
      "source": [
        "fig = plt.figure( figsize=(8,6) )\n",
        "\n",
        "counts, bins, _ = plt.hist( array_100, bins=21, range=[vmin,vmax])\n",
        "#plt.xlim( 15, 40 )\n",
        "plt.xlabel( \"Resistência (kΩ)\", fontsize=18 )\n",
        "plt.ylabel( \"Frequência\", fontsize=18 )\n",
        "plt.title('Histograma das resistências do Conjunto Completo de 100 Resistores', fontsize=12 )\n",
        "\n",
        "\n"
      ],
      "metadata": {
        "colab": {
          "base_uri": "https://localhost:8080/",
          "height": 547
        },
        "id": "GvQTxvWk49Y1",
        "outputId": "06376402-e62d-49e0-e254-2e4c77eedadc"
      },
      "execution_count": 71,
      "outputs": [
        {
          "output_type": "execute_result",
          "data": {
            "text/plain": [
              "Text(0.5, 1.0, 'Histograma das resistências do Conjunto Completo de 100 Resistores')"
            ]
          },
          "metadata": {},
          "execution_count": 71
        },
        {
          "output_type": "display_data",
          "data": {
            "text/plain": [
              "<Figure size 800x600 with 1 Axes>"
            ],
            "image/png": "[encoded data removed]"
          },
          "metadata": {}
        }
      ]
    },
    {
      "cell_type": "markdown",
      "source": [
        "Variância e desvio Padrão usando o NumPY:"
      ],
      "metadata": {
        "id": "1uPpK8My6aS7"
      }
    },
    {
      "cell_type": "code",
      "source": [
        "var_100 = np.var( array_100, ddof=0 )\n",
        "print ( \"Variância do conj. de 100 resistores: {}\".format(var_100),\"(k^2Ω)\" )\n",
        "print ( \"Desvio Padrao do conj. de 100 resistores: {}\".format(np.sqrt(var_100)),\"(kΩ)\" )\n",
        "sigma_m100 = np.std( array_100, ddof=0 )/np.sqrt(N100)\n",
        "print ( \"Erro da média do conj. de 100: {}\".format(np.std( array_100, ddof=1 )/np.sqrt(N100)),\"(kΩ)\" )"
      ],
      "metadata": {
        "colab": {
          "base_uri": "https://localhost:8080/"
        },
        "id": "JkLhW3PU4lkb",
        "outputId": "2fa4adb9-bc39-49b2-e0dc-f3c19d43a67b"
      },
      "execution_count": 72,
      "outputs": [
        {
          "output_type": "stream",
          "name": "stdout",
          "text": [
            "Variância do conj. de 100 resistores: 0.0017734399999999964 (k^2Ω)\n",
            "Desvio Padrao do conj. de 100 resistores: 0.042112231002405895 (kΩ)\n",
            "Erro da média do conj. de 100: 0.004232438464234928 (kΩ)\n"
          ]
        }
      ]
    },
    {
      "cell_type": "markdown",
      "source": [
        "Estimativa Padrão dos 100 resistores:"
      ],
      "metadata": {
        "id": "9KD_tjHqIg4d"
      }
    },
    {
      "cell_type": "code",
      "source": [
        "print ( \"R100 = {:.3f} ± {:.3f} (kΩ)\".format( np.round( np.mean( array_100 ), 3 ), np.round( sigma_m100, 3 ) ) )\n"
      ],
      "metadata": {
        "colab": {
          "base_uri": "https://localhost:8080/"
        },
        "id": "msPvhaqEImAO",
        "outputId": "a6ec52b3-ae47-4a3a-a6d2-37a86aaa69b9"
      },
      "execution_count": 73,
      "outputs": [
        {
          "output_type": "stream",
          "name": "stdout",
          "text": [
            "R100 = 5.518 ± 0.004 (kΩ)\n"
          ]
        }
      ]
    },
    {
      "cell_type": "markdown",
      "source": [
        "Grupo 01 de valores de resistências:"
      ],
      "metadata": {
        "id": "gUJI8Lu67Ma5"
      }
    },
    {
      "cell_type": "code",
      "source": [
        "amplitude_GR01=(np.max(array_GR01)-np.min(array_GR01))\n",
        "print ( \"Valor mínimo: {}\".format( np.min(array_GR01) ),\"(kΩ)\" )\n",
        "print ( \"Valor máximo: {}\".format( np.max(array_GR01) ),\"(kΩ)\" )\n",
        "print ( \"Amplitude: {}\".format( amplitude_GR01 ) ,\"(kΩ)\")"
      ],
      "metadata": {
        "colab": {
          "base_uri": "https://localhost:8080/"
        },
        "id": "L2AHiMPx7LL2",
        "outputId": "6a52d3bb-0c77-4f2b-c5f6-1e9cc7c513e8"
      },
      "execution_count": 74,
      "outputs": [
        {
          "output_type": "stream",
          "name": "stdout",
          "text": [
            "Valor mínimo: 5.41 (kΩ)\n",
            "Valor máximo: 5.64 (kΩ)\n",
            "Amplitude: 0.22999999999999954 (kΩ)\n"
          ]
        }
      ]
    },
    {
      "cell_type": "code",
      "source": [
        "#Usando o NumPy\n",
        "np.mean( array_GR01 )"
      ],
      "metadata": {
        "colab": {
          "base_uri": "https://localhost:8080/"
        },
        "id": "z7lxEJzD8h-J",
        "outputId": "1e0d409d-5fc6-47f0-d4be-0cf7270795d3"
      },
      "execution_count": 75,
      "outputs": [
        {
          "output_type": "execute_result",
          "data": {
            "text/plain": [
              "5.5235"
            ]
          },
          "metadata": {},
          "execution_count": 75
        }
      ]
    },
    {
      "cell_type": "code",
      "source": [
        "#Calculo da média\n",
        "N1_20=len(array_GR01)\n",
        "media_GR01=(np.sum(array_GR01)/N1_20)\n",
        "vmin = np.min(array_GR01)\n",
        "vmax = np.max(array_GR01)\n",
        "\n",
        "print(\"média do conjunto de 20 resistores do Grupo 01: {}\".format( (media_GR01)),\"(kΩ)\")"
      ],
      "metadata": {
        "colab": {
          "base_uri": "https://localhost:8080/"
        },
        "id": "3k2WDajh7dIr",
        "outputId": "56000562-b49f-4c60-b543-8babee3a4e9e"
      },
      "execution_count": 76,
      "outputs": [
        {
          "output_type": "stream",
          "name": "stdout",
          "text": [
            "média do conjunto de 20 resistores do Grupo 01: 5.5235 (kΩ)\n"
          ]
        }
      ]
    },
    {
      "cell_type": "code",
      "source": [
        "fig = plt.figure( figsize=(8,6) )\n",
        "\n",
        "counts, bins, _ = plt.hist( array_GR01, bins=21, range=[vmin,vmax])\n",
        "#plt.xlim( 15, 40 )\n",
        "plt.xlabel( \"Resistência (kΩ)\", fontsize=18 )\n",
        "plt.ylabel( \"Frequência\", fontsize=18 )\n",
        "plt.title('Histograma das resistências do Grupo 01 de 20 Resistores', fontsize=12 )\n"
      ],
      "metadata": {
        "colab": {
          "base_uri": "https://localhost:8080/",
          "height": 526
        },
        "id": "iokbp7I884l0",
        "outputId": "ef3c5663-4267-4025-f712-3b3e6fa86a06"
      },
      "execution_count": 77,
      "outputs": [
        {
          "output_type": "execute_result",
          "data": {
            "text/plain": [
              "Text(0.5, 1.0, 'Histograma das resistências do Grupo 01 de 20 Resistores')"
            ]
          },
          "metadata": {},
          "execution_count": 77
        },
        {
          "output_type": "display_data",
          "data": {
            "text/plain": [
              "<Figure size 800x600 with 1 Axes>"
            ],
            "image/png": "[encoded data removed]"
          },
          "metadata": {}
        }
      ]
    },
    {
      "cell_type": "code",
      "source": [
        "var_gr1 = np.var( array_GR01, ddof=1 )\n",
        "print ( \"Variância do Grupo 01: {}\".format(var_gr1), \"(k^2Ω)\" )\n",
        "print ( \"Desvio Padrao do do Grupo 01: {}\".format(np.sqrt(var_gr1)),\"(kΩ)\" )\n",
        "sigma_m1 = np.std( array_GR01, ddof=1 )/np.sqrt(N1_20)\n",
        "print ( \"Erro da média do Grupo 01: {}\".format(np.std( array_GR01, ddof=1 )/np.sqrt(N1_20)),\"(kΩ)\" )"
      ],
      "metadata": {
        "colab": {
          "base_uri": "https://localhost:8080/"
        },
        "id": "ed9bvU1o9hKV",
        "outputId": "a454195f-d49f-42ac-aaec-b73b7cec9485"
      },
      "execution_count": 78,
      "outputs": [
        {
          "output_type": "stream",
          "name": "stdout",
          "text": [
            "Variância do Grupo 01: 0.004455526315789458 (k^2Ω)\n",
            "Desvio Padrao do do Grupo 01: 0.06674972895667411 (kΩ)\n",
            "Erro da média do Grupo 01: 0.014925693142680942 (kΩ)\n"
          ]
        }
      ]
    },
    {
      "cell_type": "markdown",
      "source": [
        "Estimativa Padrão GR01:"
      ],
      "metadata": {
        "id": "VY9oBKm0IYoR"
      }
    },
    {
      "cell_type": "code",
      "source": [
        "print ( \"R1 = {:.2f} ± {:.2f} (kΩ)\".format( np.round( np.mean( array_GR01 ), 2 ), np.round( sigma_m1, 2 ) ) )\n"
      ],
      "metadata": {
        "colab": {
          "base_uri": "https://localhost:8080/"
        },
        "id": "FheedpkHIbYu",
        "outputId": "0d7b7321-8d33-4f61-8bba-1f904a1e7969"
      },
      "execution_count": 79,
      "outputs": [
        {
          "output_type": "stream",
          "name": "stdout",
          "text": [
            "R1 = 5.52 ± 0.01 (kΩ)\n"
          ]
        }
      ]
    },
    {
      "cell_type": "markdown",
      "source": [
        "Grupo 02 de valores de resistências:"
      ],
      "metadata": {
        "id": "RDM1ZLtm-BmV"
      }
    },
    {
      "cell_type": "code",
      "source": [
        "#Calculo da média\n",
        "N2_20=len(array_GR02)\n",
        "media_GR02=(np.sum(array_GR02)/N2_20)\n",
        "vmin = np.min(array_GR02)\n",
        "vmax = np.max(array_GR02)\n",
        "amplitude_GR02=(np.max(array_GR02)-np.min(array_GR02))\n",
        "print ( \"Valor mínimo: {}\".format( np.min(array_GR02) ),\"(kΩ)\" )\n",
        "print ( \"Valor máximo: {}\".format( np.max(array_GR02) ),\"(kΩ)\" )\n",
        "print ( \"Amplitude: {}\".format( amplitude_GR02 ) ,\"(kΩ)\")\n",
        "print(\"média do conjunto de 20 resistores do Grupo 02: {}\".format( (media_GR02)),\"(kΩ)\")"
      ],
      "metadata": {
        "colab": {
          "base_uri": "https://localhost:8080/"
        },
        "id": "4R6g1PYp8LXO",
        "outputId": "24336f41-1d76-41f6-e8d7-380fe3306fb3"
      },
      "execution_count": 80,
      "outputs": [
        {
          "output_type": "stream",
          "name": "stdout",
          "text": [
            "Valor mínimo: 5.46 (kΩ)\n",
            "Valor máximo: 5.56 (kΩ)\n",
            "Amplitude: 0.09999999999999964 (kΩ)\n",
            "média do conjunto de 20 resistores do Grupo 02: 5.514 (kΩ)\n"
          ]
        }
      ]
    },
    {
      "cell_type": "code",
      "source": [
        "#Usando o NumPy\n",
        "np.mean( array_GR02 )"
      ],
      "metadata": {
        "colab": {
          "base_uri": "https://localhost:8080/"
        },
        "id": "2Pr-W242744A",
        "outputId": "d384e672-7806-482d-b1ce-e1b9602bd29b"
      },
      "execution_count": 81,
      "outputs": [
        {
          "output_type": "execute_result",
          "data": {
            "text/plain": [
              "5.514"
            ]
          },
          "metadata": {},
          "execution_count": 81
        }
      ]
    },
    {
      "cell_type": "code",
      "source": [
        "fig = plt.figure( figsize=(8,6) )\n",
        "\n",
        "counts, bins, _ = plt.hist( array_GR02, bins=21, range=[vmin,vmax])\n",
        "#plt.xlim( 15, 40 )\n",
        "plt.xlabel( \"Resistência (kΩ)\", fontsize=18 )\n",
        "plt.ylabel( \"Frequência\", fontsize=18 )\n",
        "plt.title('Histograma das resistências do Grupo 02 de 20 Resistores', fontsize=12 )\n"
      ],
      "metadata": {
        "colab": {
          "base_uri": "https://localhost:8080/",
          "height": 535
        },
        "id": "SCprkcBR9OHN",
        "outputId": "8ee22b6d-6a2b-4aa6-bcc4-0ee4897f7598"
      },
      "execution_count": 82,
      "outputs": [
        {
          "output_type": "execute_result",
          "data": {
            "text/plain": [
              "Text(0.5, 1.0, 'Histograma das resistências do Grupo 02 de 20 Resistores')"
            ]
          },
          "metadata": {},
          "execution_count": 82
        },
        {
          "output_type": "display_data",
          "data": {
            "text/plain": [
              "<Figure size 800x600 with 1 Axes>"
            ],
            "image/png": "[encoded data removed]"
          },
          "metadata": {}
        }
      ]
    },
    {
      "cell_type": "code",
      "source": [
        "var_gr2 = np.var( array_GR02, ddof=1 )\n",
        "print ( \"Variância do Grupo 02: {}\".format(var_gr2), \"(k^2Ω)\" )\n",
        "print ( \"Desvio Padrao do do Grupo 02: {}\".format(np.sqrt(var_gr2)),\"(kΩ)\" )\n",
        "sigma_m2 = np.std( array_GR02, ddof=1 )/np.sqrt(N2_20)\n",
        "print ( \"Erro da média do Grupo 02: {}\".format(np.std( array_GR02, ddof=1 )/np.sqrt(N2_20)),\"(kΩ)\" )"
      ],
      "metadata": {
        "colab": {
          "base_uri": "https://localhost:8080/"
        },
        "id": "7ePQjySA-Jhv",
        "outputId": "adc3ec64-9b85-41ef-d901-3d393523884a"
      },
      "execution_count": 83,
      "outputs": [
        {
          "output_type": "stream",
          "name": "stdout",
          "text": [
            "Variância do Grupo 02: 0.0011936842105263097 (k^2Ω)\n",
            "Desvio Padrao do do Grupo 02: 0.034549735317746064 (kΩ)\n",
            "Erro da média do Grupo 02: 0.007725555677510549 (kΩ)\n"
          ]
        }
      ]
    },
    {
      "cell_type": "markdown",
      "source": [
        "Estimativa Padrão GR02:"
      ],
      "metadata": {
        "id": "rLtZNAC9IM5E"
      }
    },
    {
      "cell_type": "code",
      "source": [
        "print ( \"R2 = {:.2f} ± {:.2f} (kΩ)\".format( np.round( np.mean( array_GR02 ), 2 ), np.round( sigma_m2, 2 ) ) )\n"
      ],
      "metadata": {
        "colab": {
          "base_uri": "https://localhost:8080/"
        },
        "id": "CEv0mmY_IML8",
        "outputId": "43189c6b-6a6b-4613-abc9-6240679f2784"
      },
      "execution_count": 84,
      "outputs": [
        {
          "output_type": "stream",
          "name": "stdout",
          "text": [
            "R2 = 5.51 ± 0.01 (kΩ)\n"
          ]
        }
      ]
    },
    {
      "cell_type": "markdown",
      "source": [
        "Grupo 03 de valores de resistências:"
      ],
      "metadata": {
        "id": "4WFO_cs--ZZc"
      }
    },
    {
      "cell_type": "code",
      "source": [
        "#Calculo da média\n",
        "N3_20=len(array_GR03)\n",
        "media_GR03=(np.sum(array_GR03)/N3_20)\n",
        "vmin = np.min(array_GR03)\n",
        "vmax = np.max(array_GR03)\n",
        "amplitude_GR03=(np.max(array_GR03)-np.min(array_GR03))\n",
        "print ( \"Valor mínimo: {}\".format( np.min(array_GR03) ),\"(kΩ)\")\n",
        "print ( \"Valor máximo: {}\".format( np.max(array_GR03) ) ,\"(kΩ)\")\n",
        "print ( \"Amplitude: {}\".format( amplitude_GR03 ),\"(kΩ)\" )\n",
        "print(\"média do conjunto de 20 resistores do Grupo 03: {}\".format( (media_GR03)),\"(kΩ)\")"
      ],
      "metadata": {
        "colab": {
          "base_uri": "https://localhost:8080/"
        },
        "id": "WvMuO5Gk-YjT",
        "outputId": "5d1a41aa-6631-4535-afcd-0e49f4455802"
      },
      "execution_count": 85,
      "outputs": [
        {
          "output_type": "stream",
          "name": "stdout",
          "text": [
            "Valor mínimo: 5.46 (kΩ)\n",
            "Valor máximo: 5.57 (kΩ)\n",
            "Amplitude: 0.11000000000000032 (kΩ)\n",
            "média do conjunto de 20 resistores do Grupo 03: 5.523500000000001 (kΩ)\n"
          ]
        }
      ]
    },
    {
      "cell_type": "code",
      "source": [
        "#Usando o NumPy\n",
        "np.mean( array_GR03 )"
      ],
      "metadata": {
        "colab": {
          "base_uri": "https://localhost:8080/"
        },
        "id": "js6kGJD8-4NK",
        "outputId": "04788ab2-a0d4-447c-e049-6c896a5d69a4"
      },
      "execution_count": 86,
      "outputs": [
        {
          "output_type": "execute_result",
          "data": {
            "text/plain": [
              "5.523500000000001"
            ]
          },
          "metadata": {},
          "execution_count": 86
        }
      ]
    },
    {
      "cell_type": "code",
      "source": [
        "fig = plt.figure( figsize=(8,6) )\n",
        "\n",
        "counts, bins, _ = plt.hist( array_GR03, bins=21, range=[vmin,vmax])\n",
        "#plt.xlim( 15, 40 )\n",
        "plt.xlabel( \"Resistência (kΩ)\", fontsize=18 )\n",
        "plt.ylabel( \"Frequência\", fontsize=18 )\n",
        "plt.title('Histograma das resistências do Grupo 03 de 20 Resistores', fontsize=12 )\n"
      ],
      "metadata": {
        "colab": {
          "base_uri": "https://localhost:8080/",
          "height": 544
        },
        "id": "mDzq1mq__mNv",
        "outputId": "1c529cc7-85a0-4b88-f972-b58c849bc70b"
      },
      "execution_count": 87,
      "outputs": [
        {
          "output_type": "execute_result",
          "data": {
            "text/plain": [
              "Text(0.5, 1.0, 'Histograma das resistências do Grupo 03 de 20 Resistores')"
            ]
          },
          "metadata": {},
          "execution_count": 87
        },
        {
          "output_type": "display_data",
          "data": {
            "text/plain": [
              "<Figure size 800x600 with 1 Axes>"
            ],
            "image/png": "[encoded data removed]"
          },
          "metadata": {}
        }
      ]
    },
    {
      "cell_type": "code",
      "source": [
        "var_gr3 = np.var( array_GR03, ddof=1 )\n",
        "print ( \"Variância do Grupo 03: {}\".format(var_gr3), \"(k^2Ω)\" )\n",
        "print ( \"Desvio Padrao do do Grupo 03: {}\".format(np.sqrt(var_gr3)),\"(kΩ)\" )\n",
        "sigma_m3 = np.std( array_GR03, ddof=1 )/np.sqrt(N3_20)\n",
        "print ( \"Erro da média do Grupo 03: {}\".format(np.std( array_GR03, ddof=1 )/np.sqrt(N3_20)),\"(kΩ)\" )"
      ],
      "metadata": {
        "colab": {
          "base_uri": "https://localhost:8080/"
        },
        "id": "7F6LaehY_uSe",
        "outputId": "705cbdee-c120-4b34-f7a9-ee7b9d363cf8"
      },
      "execution_count": 88,
      "outputs": [
        {
          "output_type": "stream",
          "name": "stdout",
          "text": [
            "Variância do Grupo 03: 0.0012134210526315796 (k^2Ω)\n",
            "Desvio Padrao do do Grupo 03: 0.03483419372730736 (kΩ)\n",
            "Erro da média do Grupo 03: 0.007789162511565602 (kΩ)\n"
          ]
        }
      ]
    },
    {
      "cell_type": "markdown",
      "source": [
        "Estimativa Padrão GR03:"
      ],
      "metadata": {
        "id": "rpkKz3I1IBqM"
      }
    },
    {
      "cell_type": "code",
      "source": [
        "print ( \"R3 = {:.2f} ± {:.2f} (kΩ)\".format( np.round( np.mean( array_GR03 ), 2 ), np.round( sigma_m3, 2 ) ) )\n"
      ],
      "metadata": {
        "colab": {
          "base_uri": "https://localhost:8080/"
        },
        "id": "-5YjoqQ5IFnT",
        "outputId": "999dd817-d043-4f2d-c60d-1bc77769483f"
      },
      "execution_count": 89,
      "outputs": [
        {
          "output_type": "stream",
          "name": "stdout",
          "text": [
            "R3 = 5.52 ± 0.01 (kΩ)\n"
          ]
        }
      ]
    },
    {
      "cell_type": "markdown",
      "source": [
        "Grupo 04 de valores de resistências:"
      ],
      "metadata": {
        "id": "g-nT1Lv0BQCd"
      }
    },
    {
      "cell_type": "code",
      "source": [
        "#Calculo da média\n",
        "N4_20=len(array_GR04)\n",
        "media_GR04=(np.sum(array_GR04)/N4_20)\n",
        "vmin = np.min(array_GR04)\n",
        "vmax = np.max(array_GR04)\n",
        "amplitude_GR04=(np.max(array_GR04)-np.min(array_GR04))\n",
        "print ( \"Valor mínimo: {}\".format( np.min(array_GR04) ),\"(kΩ)\")\n",
        "print ( \"Valor máximo: {}\".format( np.max(array_GR04) ) ,\"(kΩ)\")\n",
        "print ( \"Amplitude: {}\".format( amplitude_GR04 ),\"(kΩ)\" )\n",
        "print(\"média do conjunto de 20 resistências do Grupo 04: {}\".format( (media_GR04)),\"(kΩ)\")"
      ],
      "metadata": {
        "colab": {
          "base_uri": "https://localhost:8080/"
        },
        "id": "A_1GW6yeByQ_",
        "outputId": "6ed42ae2-fbb7-4f5f-9068-8c3b34009787"
      },
      "execution_count": 90,
      "outputs": [
        {
          "output_type": "stream",
          "name": "stdout",
          "text": [
            "Valor mínimo: 5.47 (kΩ)\n",
            "Valor máximo: 5.59 (kΩ)\n",
            "Amplitude: 0.1200000000000001 (kΩ)\n",
            "média do conjunto de 20 resistências do Grupo 04: 5.5175 (kΩ)\n"
          ]
        }
      ]
    },
    {
      "cell_type": "code",
      "source": [
        "#Usando o NumPy\n",
        "np.mean( array_GR04 )"
      ],
      "metadata": {
        "colab": {
          "base_uri": "https://localhost:8080/"
        },
        "id": "3tAVNm99Byll",
        "outputId": "f7591e60-dad9-47ed-a98a-e2a4ca70c7ac"
      },
      "execution_count": 91,
      "outputs": [
        {
          "output_type": "execute_result",
          "data": {
            "text/plain": [
              "5.5175"
            ]
          },
          "metadata": {},
          "execution_count": 91
        }
      ]
    },
    {
      "cell_type": "code",
      "source": [
        "fig = plt.figure( figsize=(8,6) )\n",
        "\n",
        "counts, bins, _ = plt.hist( array_GR04, bins=21, range=[vmin,vmax])\n",
        "#plt.xlim( 15, 40 )\n",
        "plt.xlabel( \"Resistência (kΩ)\", fontsize=18 )\n",
        "plt.ylabel( \"Frequência\", fontsize=18 )\n",
        "plt.title('Histograma das resistências do Grupo 04 de 20 Resistores', fontsize=12 )\n"
      ],
      "metadata": {
        "colab": {
          "base_uri": "https://localhost:8080/",
          "height": 535
        },
        "id": "ObccGQYYCJDl",
        "outputId": "460ed5b5-3711-4b82-a596-c9b7fbc19132"
      },
      "execution_count": 92,
      "outputs": [
        {
          "output_type": "execute_result",
          "data": {
            "text/plain": [
              "Text(0.5, 1.0, 'Histograma das resistências do Grupo 04 de 20 Resistores')"
            ]
          },
          "metadata": {},
          "execution_count": 92
        },
        {
          "output_type": "display_data",
          "data": {
            "text/plain": [
              "<Figure size 800x600 with 1 Axes>"
            ],
            "image/png": "[encoded data removed]"
          },
          "metadata": {}
        }
      ]
    },
    {
      "cell_type": "code",
      "source": [
        "var_gr4 = np.var( array_GR04, ddof=1 )\n",
        "print ( \"Variância do Grupo 04: {}\".format(var_gr4), \"(k^2Ω)\" )\n",
        "print ( \"Desvio Padrao do do Grupo 04: {}\".format(np.sqrt(var_gr4)),\"(kΩ)\" )\n",
        "sigma_m4 = np.std( array_GR04, ddof=1 )/np.sqrt(N4_20)\n",
        "print ( \"Erro da média do Grupo 04: {}\".format(np.std( array_GR04, ddof=1 )/np.sqrt(N4_20)),\"(kΩ)\" )"
      ],
      "metadata": {
        "colab": {
          "base_uri": "https://localhost:8080/"
        },
        "id": "owXv6yuTCVKu",
        "outputId": "3ab23655-ef29-462c-a510-96bb43ecaee3"
      },
      "execution_count": 93,
      "outputs": [
        {
          "output_type": "stream",
          "name": "stdout",
          "text": [
            "Variância do Grupo 04: 0.0011039473684210498 (k^2Ω)\n",
            "Desvio Padrao do do Grupo 04: 0.03322570343004117 (kΩ)\n",
            "Erro da média do Grupo 04: 0.007429493146981998 (kΩ)\n"
          ]
        }
      ]
    },
    {
      "cell_type": "markdown",
      "source": [
        "Estimativa Padrão GR04:"
      ],
      "metadata": {
        "id": "5FZWw7mmH7ac"
      }
    },
    {
      "cell_type": "code",
      "source": [
        "print ( \"R4 = {:.0f} ± {:.0f} (kΩ)\".format( np.round( np.mean( array_GR04 ), 1 ), np.round( sigma_m4, 1 ) ) )\n"
      ],
      "metadata": {
        "colab": {
          "base_uri": "https://localhost:8080/"
        },
        "id": "3dY4Lvl4HzT7",
        "outputId": "2b6dcd3f-e498-41aa-a8fd-d4eea9e2c5ce"
      },
      "execution_count": 94,
      "outputs": [
        {
          "output_type": "stream",
          "name": "stdout",
          "text": [
            "R4 = 6 ± 0 (kΩ)\n"
          ]
        }
      ]
    },
    {
      "cell_type": "markdown",
      "source": [
        "Grupo 05 de valores de resistências:\n"
      ],
      "metadata": {
        "id": "iBI34d-wCjOB"
      }
    },
    {
      "cell_type": "code",
      "source": [
        "#Calculo da média\n",
        "N5_20=len(array_GR05)\n",
        "media_GR05=(np.sum(array_GR05)/N5_20)\n",
        "vmin = np.min(array_GR05)\n",
        "vmax = np.max(array_GR05)\n",
        "amplitude_GR05=(np.max(array_GR05)-np.min(array_GR05))\n",
        "print ( \"Valor mínimo: {}\".format( np.min(array_GR05) ),\"(kΩ)\")\n",
        "print ( \"Valor máximo: {}\".format( np.max(array_GR05) ) ,\"(kΩ)\")\n",
        "print ( \"Amplitude: {}\".format( amplitude_GR05 ),\"(kΩ)\" )\n",
        "print(\"média do conjunto de 20 resistências do Grupo 05: {}\".format( (media_GR05)),\"(kΩ)\")"
      ],
      "metadata": {
        "colab": {
          "base_uri": "https://localhost:8080/"
        },
        "id": "8S7RGXo7CbzD",
        "outputId": "4c7161c2-5ff5-445e-e0bf-0aafd9d671f7"
      },
      "execution_count": 95,
      "outputs": [
        {
          "output_type": "stream",
          "name": "stdout",
          "text": [
            "Valor mínimo: 5.46 (kΩ)\n",
            "Valor máximo: 5.59 (kΩ)\n",
            "Amplitude: 0.1299999999999999 (kΩ)\n",
            "média do conjunto de 20 resistências do Grupo 05: 5.5135 (kΩ)\n"
          ]
        }
      ]
    },
    {
      "cell_type": "code",
      "source": [
        "#Usando o NumPy\n",
        "np.mean( array_GR05 )"
      ],
      "metadata": {
        "colab": {
          "base_uri": "https://localhost:8080/"
        },
        "id": "FBrXEDBVC-9-",
        "outputId": "e4aeb89f-4231-433b-8df8-e5b1e993931c"
      },
      "execution_count": 96,
      "outputs": [
        {
          "output_type": "execute_result",
          "data": {
            "text/plain": [
              "5.5135"
            ]
          },
          "metadata": {},
          "execution_count": 96
        }
      ]
    },
    {
      "cell_type": "code",
      "source": [
        "fig = plt.figure( figsize=(8,6) )\n",
        "\n",
        "counts, bins, _ = plt.hist( array_GR05, bins=21, range=[vmin,vmax])\n",
        "#plt.xlim( 15, 40 )\n",
        "plt.xlabel( \"Resistência (kΩ)\", fontsize=18 )\n",
        "plt.ylabel( \"Frequência\", fontsize=18 )\n",
        "plt.title('Histograma das resistências do Grupo 05 de 20 Resistores', fontsize=12 )"
      ],
      "metadata": {
        "colab": {
          "base_uri": "https://localhost:8080/",
          "height": 544
        },
        "id": "zeF73imBDDkc",
        "outputId": "91ed8a20-eefb-4f77-9384-12fd017f62fd"
      },
      "execution_count": 97,
      "outputs": [
        {
          "output_type": "execute_result",
          "data": {
            "text/plain": [
              "Text(0.5, 1.0, 'Histograma das resistências do Grupo 05 de 20 Resistores')"
            ]
          },
          "metadata": {},
          "execution_count": 97
        },
        {
          "output_type": "display_data",
          "data": {
            "text/plain": [
              "<Figure size 800x600 with 1 Axes>"
            ],
            "image/png": "[encoded data removed]"
          },
          "metadata": {}
        }
      ]
    },
    {
      "cell_type": "code",
      "source": [
        "var_gr5 = np.var( array_GR05, ddof=1 )\n",
        "print ( \"Variância do Grupo 05: {}\".format(var_gr5), \"(k^2Ω)\" )\n",
        "print ( \"Desvio Padrao do do Grupo 05: {}\".format(np.sqrt(var_gr5)),\"(kΩ)\" )\n",
        "sigma_m5 = np.std( array_GR05, ddof=1 )/np.sqrt(N5_20)\n",
        "print ( \"Erro da média do Grupo 05: {}\".format(np.std( array_GR05, ddof=1 )/np.sqrt(N5_20)),\"(kΩ)\" )"
      ],
      "metadata": {
        "colab": {
          "base_uri": "https://localhost:8080/"
        },
        "id": "EmL-E19YENJ2",
        "outputId": "fac6a980-e80f-4891-842f-b4b0e243f3df"
      },
      "execution_count": 98,
      "outputs": [
        {
          "output_type": "stream",
          "name": "stdout",
          "text": [
            "Variância do Grupo 05: 0.0012660526315789473 (k^2Ω)\n",
            "Desvio Padrao do do Grupo 05: 0.035581633346137266 (kΩ)\n",
            "Erro da média do Grupo 05: 0.007956295091243622 (kΩ)\n"
          ]
        }
      ]
    },
    {
      "cell_type": "markdown",
      "source": [
        "Estimativa Padrão GR05:\n"
      ],
      "metadata": {
        "id": "Yp9HhY_mHVrT"
      }
    },
    {
      "cell_type": "code",
      "source": [
        "print ( \"R5 = {:.2f} ± {:.2f} (kΩ)\".format( np.round( np.mean( array_GR05 ), 2 ), np.round( sigma_m5, 2) ) )\n"
      ],
      "metadata": {
        "colab": {
          "base_uri": "https://localhost:8080/"
        },
        "id": "qOaQKay7FqAY",
        "outputId": "e6860878-2bd6-4b51-a976-38d58c986e5e"
      },
      "execution_count": 99,
      "outputs": [
        {
          "output_type": "stream",
          "name": "stdout",
          "text": [
            "R5 = 5.51 ± 0.01 (kΩ)\n"
          ]
        }
      ]
    },
    {
      "cell_type": "markdown",
      "source": [
        "Média das Médias:"
      ],
      "metadata": {
        "id": "g6BUml-nJTBR"
      }
    },
    {
      "cell_type": "code",
      "source": [
        "array_GRM = [np.mean( array_GR01 ),np.mean( array_GR02 ),np.mean( array_GR03 ),np.mean( array_GR04),np.mean( array_GR05)] #kΩ"
      ],
      "metadata": {
        "id": "DQmfYQPuJRDd"
      },
      "execution_count": 100,
      "outputs": []
    },
    {
      "cell_type": "code",
      "source": [
        "N=len(array_GRM)\n",
        "media_GRM=(np.sum(array_GRM)/N)\n",
        "vmin = np.min(array_GRM)\n",
        "vmax = np.max(array_GRM)\n",
        "amplitude_GRM=(np.max(array_GRM)-np.min(array_GRM))\n",
        "print ( \"Valor mínimo: {}\".format( np.min(array_GRM) ),\"(kΩ)\")\n",
        "print ( \"Valor máximo: {}\".format( np.max(array_GRM) ) ,\"(kΩ)\")\n",
        "print ( \"Amplitude: {}\".format( amplitude_GRM ),\"(kΩ)\" )\n",
        "print(\"média do conjunto das médias das resistências: {}\".format( (media_GRM)),\"(kΩ)\")"
      ],
      "metadata": {
        "colab": {
          "base_uri": "https://localhost:8080/"
        },
        "id": "d8JBQ_57JrWB",
        "outputId": "da4b032c-f134-45d1-b52e-6f773ff58ab4"
      },
      "execution_count": 101,
      "outputs": [
        {
          "output_type": "stream",
          "name": "stdout",
          "text": [
            "Valor mínimo: 5.5135 (kΩ)\n",
            "Valor máximo: 5.523500000000001 (kΩ)\n",
            "Amplitude: 0.010000000000001563 (kΩ)\n",
            "média do conjunto das médias das resistências: 5.5184000000000015 (kΩ)\n"
          ]
        }
      ]
    },
    {
      "cell_type": "code",
      "source": [
        "#Usando o NumPy\n",
        "np.mean( array_GRM )"
      ],
      "metadata": {
        "colab": {
          "base_uri": "https://localhost:8080/"
        },
        "id": "EVqLEW9MKBOl",
        "outputId": "3e7b09b6-9f56-4a84-dbc8-a3fdb84a4d1d"
      },
      "execution_count": 102,
      "outputs": [
        {
          "output_type": "execute_result",
          "data": {
            "text/plain": [
              "5.5184000000000015"
            ]
          },
          "metadata": {},
          "execution_count": 102
        }
      ]
    },
    {
      "cell_type": "code",
      "source": [
        "fig = plt.figure( figsize=(8,6) )\n",
        "\n",
        "counts, bins, _ = plt.hist( array_GRM, bins=21, range=[vmin,vmax])\n",
        "#plt.xlim( 15, 40 )\n",
        "plt.xlabel( \"Resistência (kΩ)\", fontsize=18 )\n",
        "plt.ylabel( \"Frequência\", fontsize=18 )\n",
        "plt.title('Histograma das resistências do grupo das médias', fontsize=12 )"
      ],
      "metadata": {
        "colab": {
          "base_uri": "https://localhost:8080/",
          "height": 515
        },
        "id": "T5IMIXaKKFv6",
        "outputId": "48c14792-745d-467e-c15b-119e6a15f53d"
      },
      "execution_count": 103,
      "outputs": [
        {
          "output_type": "execute_result",
          "data": {
            "text/plain": [
              "Text(0.5, 1.0, 'Histograma das resistências do grupo das médias')"
            ]
          },
          "metadata": {},
          "execution_count": 103
        },
        {
          "output_type": "display_data",
          "data": {
            "text/plain": [
              "<Figure size 800x600 with 1 Axes>"
            ],
            "image/png": "[encoded data removed]"
          },
          "metadata": {}
        }
      ]
    },
    {
      "cell_type": "code",
      "source": [
        "var_grm = np.var( array_GRM, ddof=1 )\n",
        "print ( \"Variância do Grupo das médias: {}\".format(var_grm), \"(k^2Ω)\" )\n",
        "print ( \"Desvio Padrao do do Grupo das médias: {}\".format(np.sqrt(var_grm)),\"(kΩ)\" )\n",
        "sigma_m = np.std( array_GRM, ddof=1 )/np.sqrt(N)\n",
        "print ( \"Erro da média do Grupo das médias: {}\".format(np.std( array_GRM, ddof=1 )/np.sqrt(N)),\"(kΩ)\" )"
      ],
      "metadata": {
        "colab": {
          "base_uri": "https://localhost:8080/"
        },
        "id": "okn9_8NxK8p_",
        "outputId": "b8770d5e-ff72-4143-ceda-cf409cf6e9d1"
      },
      "execution_count": 104,
      "outputs": [
        {
          "output_type": "stream",
          "name": "stdout",
          "text": [
            "Variância do Grupo das médias: 2.405000000000416e-05 (k^2Ω)\n",
            "Desvio Padrao do do Grupo das médias: 0.004904079934096115 (kΩ)\n",
            "Erro da média do Grupo das médias: 0.00219317121994632 (kΩ)\n"
          ]
        }
      ]
    },
    {
      "cell_type": "markdown",
      "source": [
        "Estimativa padrão do grupo das médias:"
      ],
      "metadata": {
        "id": "enmXcz_QLQ8z"
      }
    },
    {
      "cell_type": "code",
      "source": [
        "print ( \"RM = {:.0f} ± {:.0f} (kΩ)\".format( np.round( np.mean( array_GRM ), 1 ), np.round( sigma_m, 1 ) ) )\n"
      ],
      "metadata": {
        "colab": {
          "base_uri": "https://localhost:8080/"
        },
        "id": "M7x6fzbaLP6V",
        "outputId": "f6d46271-ed8a-4165-a687-2f4cdd358290"
      },
      "execution_count": 105,
      "outputs": [
        {
          "output_type": "stream",
          "name": "stdout",
          "text": [
            "RM = 6 ± 0 (kΩ)\n"
          ]
        }
      ]
    },
    {
      "cell_type": "markdown",
      "source": [
        "Desvio Padrão do conjunto com 100 resistores:\n"
      ],
      "metadata": {
        "id": "YvGHv4KlDPxf"
      }
    },
    {
      "cell_type": "code",
      "source": [
        "sigma_L_p = np.std( array_100, ddof=0 )\n",
        "print ( \"Desvio padrão populacional (kΩ) = {}\".format(sigma_L_p  ) )\n",
        "\n",
        "sigma_L_a = np.std( array_100, ddof=1 )\n",
        "print ( \"Desvio padrão amostral (kΩ) = {}\".format(sigma_L_a  ) )\n",
        "\n"
      ],
      "metadata": {
        "colab": {
          "base_uri": "https://localhost:8080/"
        },
        "id": "iOAZ7tki6SPI",
        "outputId": "1735c19d-5ed2-4af9-a403-812eb8df0d77"
      },
      "execution_count": 106,
      "outputs": [
        {
          "output_type": "stream",
          "name": "stdout",
          "text": [
            "Desvio padrão populacional (kΩ) = 0.042112231002405895\n",
            "Desvio padrão amostral (kΩ) = 0.042324384642349284\n"
          ]
        }
      ]
    },
    {
      "cell_type": "markdown",
      "source": [
        "Erro Relativo:"
      ],
      "metadata": {
        "id": "0hsL--e7EulM"
      }
    },
    {
      "cell_type": "code",
      "source": [
        "erro_relativo100 = sigma_m100 / media_100\n",
        "print ( \"Erro relativo das medidas dos 100 resistores = {}\".format( erro_relativo100*100 ),\"(kΩ)\" )\n",
        "erro_relativo1 = sigma_m1/ media_GR01\n",
        "print ( \"Erro relativo das medidas do grupo 1 = {}\".format( erro_relativo1*100  ),\"(kΩ)\" )\n",
        "erro_relativo2 = sigma_m2/ media_GR02\n",
        "print ( \"Erro relativo das medidas do grupo 2 = {}\".format( erro_relativo2*100  ),\"(kΩ)\" )\n",
        "erro_relativo3 = sigma_m3/ media_GR03\n",
        "print ( \"Erro relativo das medidas do grupo 3 = {}\".format( erro_relativo3*100  ),\"(kΩ)\" )\n",
        "erro_relativo4 = sigma_m4/ media_GR04\n",
        "print ( \"Erro relativo das medidas do grupo 4 = {}\".format( erro_relativo4*100  ),\"(kΩ)\" )\n",
        "erro_relativo5 = sigma_m5/ media_GR05\n",
        "print ( \"Erro relativo das medidas do grupo 5 = {}\".format( erro_relativo5*100  ),\"(kΩ)\" )\n",
        "erro_relativoM = sigma_m/ media_GRM\n",
        "print ( \"Erro relativo das medidas do grupo das médias = {}\".format( erro_relativoM*100  ),\"(kΩ)\" )"
      ],
      "metadata": {
        "colab": {
          "base_uri": "https://localhost:8080/"
        },
        "id": "KZNFZoC3Ewte",
        "outputId": "9be28bbe-4674-4dbf-ea92-872022aba6ab"
      },
      "execution_count": 107,
      "outputs": [
        {
          "output_type": "stream",
          "name": "stdout",
          "text": [
            "Erro relativo das medidas dos 100 resistores = 0.07631239308931194 (kΩ)\n",
            "Erro relativo das medidas do grupo 1 = 0.2702216555206109 (kΩ)\n",
            "Erro relativo das medidas do grupo 2 = 0.14010801011081878 (kΩ)\n",
            "Erro relativo das medidas do grupo 3 = 0.14101860254486467 (kΩ)\n",
            "Erro relativo das medidas do grupo 4 = 0.1346532514178885 (kΩ)\n",
            "Erro relativo das medidas do grupo 5 = 0.1443057058355604 (kΩ)\n",
            "Erro relativo das medidas do grupo das médias = 0.03974288235623223 (kΩ)\n"
          ]
        }
      ]
    },
    {
      "cell_type": "markdown",
      "source": [
        "Razão entre os erros das médias de cada grupo e o erro da média do conjunto completo:"
      ],
      "metadata": {
        "id": "zxdb1KYnUvwD"
      }
    },
    {
      "cell_type": "code",
      "source": [
        "erro_r1 = sigma_m1/sigma_m100 \n",
        "print ( \"Razão do sigma_m1/sigma_m100   = {}\".format( np.round(erro_r1 ),2) )\n",
        "\n",
        "erro_r2 = sigma_m2/sigma_m100  \n",
        "print ( \"Razão do sigma_m2/sigma_m100   = {}\".format( np.round(erro_r2 ) ,2))\n",
        "\n",
        "erro_r3 = sigma_m3/sigma_m100 \n",
        "print ( \"Razão do sigma_m3/sigma_m100   = {}\".format(np.round( erro_r3 ),2 ))\n",
        "\n",
        "erro_r4 = sigma_m4/sigma_m100 \n",
        "print ( \"Razão do sigma_m4/sigma_m100   = {}\".format( erro_r4 ) )\n",
        "\n",
        "erro_r5 = sigma_m5/sigma_m100 \n",
        "print ( \"Razão do sigma_m5/sigma_m100   = {}\".format( np.round(erro_r5 ),2) )"
      ],
      "metadata": {
        "colab": {
          "base_uri": "https://localhost:8080/"
        },
        "id": "lb7d36i1VZWA",
        "outputId": "3c97c843-5daa-4c67-bef0-e21faa293bbd"
      },
      "execution_count": 108,
      "outputs": [
        {
          "output_type": "stream",
          "name": "stdout",
          "text": [
            "Razão do sigma_m1/sigma_m100   = 4.0\n",
            "Razão do sigma_m2/sigma_m100   = 2.0\n",
            "Razão do sigma_m3/sigma_m100   = 2.0\n",
            "Razão do sigma_m4/sigma_m100   = 1.7642126693685614\n",
            "Razão do sigma_m5/sigma_m100   = 2.0\n"
          ]
        }
      ]
    },
    {
      "cell_type": "code",
      "source": [
        "print(\"O grupo de 100 é ou não compatível com o R de ref.:\",compatibilidadeRef(array_100))"
      ],
      "metadata": {
        "id": "1atw2noqsoCJ",
        "outputId": "23bb60df-2ccb-43ea-858e-03e68c53ef09",
        "colab": {
          "base_uri": "https://localhost:8080/"
        }
      },
      "execution_count": 109,
      "outputs": [
        {
          "output_type": "stream",
          "name": "stdout",
          "text": [
            "Incompatível 19.37679340601521 0.004211223100240589 0.08160000000000078\n",
            "O grupo de 100 é ou não compatível com o R de ref.: 19.37679340601521\n"
          ]
        }
      ]
    },
    {
      "cell_type": "code",
      "source": [
        "print(\"O grupo 01 é  ou não compatível com o grupo de 100:\",compatibilidade(array_GR01))"
      ],
      "metadata": {
        "id": "782tMYOLsrp9",
        "outputId": "00ac9a99-627f-41ff-f6ea-d1340f8b4293",
        "colab": {
          "base_uri": "https://localhost:8080/"
        }
      },
      "execution_count": 110,
      "outputs": [
        {
          "output_type": "stream",
          "name": "stdout",
          "text": [
            "Compatível 0.3288538727380287 0.015508407906341413 0.005100000000001437\n",
            "O grupo 01 é  ou não compatível com o grupo de 100: 0.3288538727380287\n"
          ]
        }
      ]
    },
    {
      "cell_type": "code",
      "source": [
        "print(\"O grupo 02 é  ou não compatível com o grupo de 100:\",compatibilidade(array_GR02))"
      ],
      "metadata": {
        "id": "2hu13ApisvGS",
        "outputId": "cbf1bbbc-f3b0-4da1-8c15-c8713f72c6ce",
        "colab": {
          "base_uri": "https://localhost:8080/"
        }
      },
      "execution_count": 111,
      "outputs": [
        {
          "output_type": "stream",
          "name": "stdout",
          "text": [
            "Compatível 0.5000690660692112 0.008798784605064239 0.004399999999998627\n",
            "O grupo 02 é  ou não compatível com o grupo de 100: 0.5000690660692112\n"
          ]
        }
      ]
    },
    {
      "cell_type": "code",
      "source": [
        "print(\"O grupo 03 é  ou não compatível com o grupo de 100:\",compatibilidade(array_GR03))"
      ],
      "metadata": {
        "id": "-xWKEZgysxWo",
        "outputId": "f031a3f5-c52c-4b3d-956e-0e54e724d1e0",
        "colab": {
          "base_uri": "https://localhost:8080/"
        }
      },
      "execution_count": 112,
      "outputs": [
        {
          "output_type": "stream",
          "name": "stdout",
          "text": [
            "Compatível 0.5759662595487124 0.008854685349100718 0.005100000000002325\n",
            "O grupo 03 é  ou não compatível com o grupo de 100: 0.5759662595487124\n"
          ]
        }
      ]
    },
    {
      "cell_type": "code",
      "source": [
        "print(\"O grupo 04 é  ou não compatível com o grupo de 100:\",compatibilidade(array_GR04))"
      ],
      "metadata": {
        "id": "B0kyLDlhs0KR",
        "outputId": "29c742e9-eb57-4d8a-c1f6-8ed63de07e6c",
        "colab": {
          "base_uri": "https://localhost:8080/"
        }
      },
      "execution_count": 113,
      "outputs": [
        {
          "output_type": "stream",
          "name": "stdout",
          "text": [
            "Compatível 0.10538629517739118 0.008540009860711663 0.0008999999999987907\n",
            "O grupo 04 é  ou não compatível com o grupo de 100: 0.10538629517739118\n"
          ]
        }
      ]
    },
    {
      "cell_type": "code",
      "source": [
        "print(\"O grupo 05 é  ou não compatível com o grupo de 100:\",compatibilidade(array_GR05))"
      ],
      "metadata": {
        "id": "DxVZ9-hes3QG",
        "outputId": "9ff7ae74-4c23-46d7-815c-02338611e9dc",
        "colab": {
          "base_uri": "https://localhost:8080/"
        }
      },
      "execution_count": 114,
      "outputs": [
        {
          "output_type": "stream",
          "name": "stdout",
          "text": [
            "Compatível 0.5443200325496885 0.00900205707485502 0.004899999999999238\n",
            "O grupo 05 é  ou não compatível com o grupo de 100: 0.5443200325496885\n"
          ]
        }
      ]
    },
    {
      "cell_type": "code",
      "source": [],
      "metadata": {
        "id": "v5Da195cIKqh"
      },
      "execution_count": 114,
      "outputs": []
    },
    {
      "cell_type": "code",
      "source": [
        "#Funções\n",
        "\n",
        "def estimativasGerais(grupo):\n",
        "  print (f\"Média {np.average(grupo)}\")\n",
        "  print (f\"Desvio Padrão NP {np.std(grupo)}\")\n",
        "  print (f\"Desvio Padrão {desvioPadrao(grupo)}\")\n",
        "  print (f\"Desvio Padrão Experimental {desvioPadraoExp(grupo)}\")\n",
        "  print (f\"Desvio Padrão EXp NP {np.std(grupo, ddof = 1)}\")\n",
        "\n",
        "\n",
        "def plotaGrafrico(grupo):\n",
        "    plt.hist(grupo, bins=20, range=[664,684])\n",
        "    plt.xlabel('resistência (Ω)')\n",
        "    plt.ylabel('frequência')\n",
        "    plt.title('Histograma')\n",
        "    plt.show()\n",
        "\n",
        "def erroDaMedia(grupo):\n",
        "  # ox = np.std(grupo)/np.sqrt(len(grupo))\n",
        "  ox = desvioPadraoExp(grupo)/np.sqrt(len(grupo))\n",
        "  return(ox)\n",
        "\n",
        "\n",
        "def calculaEstimativa(grupo): \n",
        "  print(f\"x = {np.average(grupo)} ± {erroDaMedia(grupo):.2f} kΩ\")\n",
        "\n",
        "def erroRelativo(grupo):\n",
        "  erroRelativo = (erroDaMedia(grupo)/abs(np.average(grupo)))\n",
        "  print(f\"{erroRelativo*100}%\")\n",
        "\n",
        "def desvioPadraoExp(grupo):\n",
        "  sx = 0\n",
        "  for elemento in grupo:\n",
        "      sx += ((elemento - np.average(grupo))**2)/(len(grupo)-1)\n",
        "  sx = np.sqrt(sx)\n",
        "  return (sx)\n",
        "\n",
        "def desvioPadrao(grupo):\n",
        "  ox = 0\n",
        "  for elemento in grupo:\n",
        "      ox += ((elemento - np.average(grupo))**2)/(len(grupo))\n",
        "  ox = np.sqrt(ox)\n",
        "  return (ox)\n",
        "\n",
        "\n"
      ],
      "metadata": {
        "id": "C-e1OYxBvdgc"
      },
      "execution_count": 115,
      "outputs": []
    },
    {
      "cell_type": "code",
      "source": [
        "calculaEstimativa(array_GR01)\n",
        "calculaEstimativa(array_GR02)\n",
        "calculaEstimativa(array_GR03)\n",
        "calculaEstimativa(array_GR04)\n",
        "calculaEstimativa(array_GR05)\n",
        "calculaEstimativa(array_100)"
      ],
      "metadata": {
        "colab": {
          "base_uri": "https://localhost:8080/"
        },
        "id": "wJg3w4wDIVxr",
        "outputId": "29e92620-90be-4407-96d0-b4e87e5b8cea"
      },
      "execution_count": 116,
      "outputs": [
        {
          "output_type": "stream",
          "name": "stdout",
          "text": [
            "x = 5.5235 ± 0.01 kΩ\n",
            "x = 5.514 ± 0.01 kΩ\n",
            "x = 5.523500000000001 ± 0.01 kΩ\n",
            "x = 5.5175 ± 0.01 kΩ\n",
            "x = 5.5135 ± 0.01 kΩ\n",
            "x = 5.518399999999999 ± 0.00 kΩ\n"
          ]
        }
      ]
    },
    {
      "cell_type": "code",
      "source": [
        "erroRelativo(array_GR01)\n",
        "erroRelativo(array_GR02)\n",
        "erroRelativo(array_GR03)\n",
        "erroRelativo(array_GR04)\n",
        "erroRelativo(array_GR05)\n",
        "erroRelativo(array_100)"
      ],
      "metadata": {
        "colab": {
          "base_uri": "https://localhost:8080/"
        },
        "id": "F80L_ywlIaMr",
        "outputId": "49b212f2-0f12-43f8-b622-49937cb12c3f"
      },
      "execution_count": 117,
      "outputs": [
        {
          "output_type": "stream",
          "name": "stdout",
          "text": [
            "0.2702216555206109%\n",
            "0.14010801011081878%\n",
            "0.14101860254486467%\n",
            "0.1346532514178885%\n",
            "0.1443057058355604%\n",
            "0.07669684082768427%\n"
          ]
        }
      ]
    },
    {
      "cell_type": "code",
      "source": [
        "print(f\"Grupo 1: {np.std(array_GR01, ddof=1):.2f} kΩ\")\n",
        "print(f\"Grupo 2: {np.std(array_GR02, ddof=1):.2f} kΩ\")\n",
        "print(f\"Grupo 3: {np.std(array_GR03, ddof=1):.2f} kΩ\")\n",
        "print(f\"Grupo 4: {np.std(array_GR04, ddof=1):.2f} kΩ\")\n",
        "print(f\"Grupo 5: {np.std(array_GR05, ddof=1):.2f} kΩ\")\n",
        "print(f\"Conjunto completo: {np.std(array_100, ddof=0):.2f} kΩ\")"
      ],
      "metadata": {
        "colab": {
          "base_uri": "https://localhost:8080/"
        },
        "id": "vsB1EbMUIbLF",
        "outputId": "a4f05e41-c77b-4d26-84d9-08d18f57b9be"
      },
      "execution_count": 120,
      "outputs": [
        {
          "output_type": "stream",
          "name": "stdout",
          "text": [
            "Grupo 1: 0.07 kΩ\n",
            "Grupo 2: 0.03 kΩ\n",
            "Grupo 3: 0.03 kΩ\n",
            "Grupo 4: 0.03 kΩ\n",
            "Grupo 5: 0.04 kΩ\n",
            "Conjunto completo: 0.04 kΩ\n"
          ]
        }
      ]
    },
    {
      "cell_type": "code",
      "source": [
        "print(f\"Grupo 1: {erroDaMedia(array_GR01):.2f} kΩ\")\n",
        "print(f\"Grupo 2: {erroDaMedia(array_GR02):.2f} kΩ\")\n",
        "print(f\"Grupo 3: {erroDaMedia(array_GR03):.2f} kΩ\")\n",
        "print(f\"Grupo 4: {erroDaMedia(array_GR04):.2f} kΩ\")\n",
        "print(f\"Grupo 5: {erroDaMedia(array_GR05):.2f} kΩ\")\n",
        "print(f\"Conjunto completo: {erroDaMedia(array_100):.4f} kΩ\")"
      ],
      "metadata": {
        "colab": {
          "base_uri": "https://localhost:8080/"
        },
        "id": "qcauemhPIe7r",
        "outputId": "dac55408-165e-4197-c4f8-36339dce366d"
      },
      "execution_count": 119,
      "outputs": [
        {
          "output_type": "stream",
          "name": "stdout",
          "text": [
            "Grupo 1: 0.01 kΩ\n",
            "Grupo 2: 0.01 kΩ\n",
            "Grupo 3: 0.01 kΩ\n",
            "Grupo 4: 0.01 kΩ\n",
            "Grupo 5: 0.01 kΩ\n",
            "Conjunto completo: 0.0042 kΩ\n"
          ]
        }
      ]
    }
  ]
}