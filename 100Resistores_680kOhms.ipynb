{
  "nbformat": 4,
  "nbformat_minor": 0,
  "metadata": {
    "colab": {
      "provenance": [],
      "include_colab_link": true
    },
    "kernelspec": {
      "name": "python3",
      "display_name": "Python 3"
    },
    "language_info": {
      "name": "python"
    }
  },
  "cells": [
    {
      "cell_type": "markdown",
      "metadata": {
        "id": "view-in-github",
        "colab_type": "text"
      },
      "source": [
        "<a href=\"https://colab.research.google.com/github/elizamelo/FisicaGeral/blob/main/100Resistores_680kOhms.ipynb\" target=\"_parent\"><img src=\"https://colab.research.google.com/assets/colab-badge.svg\" alt=\"Open In Colab\"/></a>"
      ]
    },
    {
      "cell_type": "code",
      "source": [
        "import numpy as np\n",
        "import pandas as pd\n",
        "import matplotlib as mpl\n",
        "import matplotlib.pyplot as plt\n",
        "import statistics\n",
        "from scipy import stats\n"
      ],
      "metadata": {
        "id": "vZWvanwjzWry"
      },
      "execution_count": 5,
      "outputs": []
    },
    {
      "cell_type": "code",
      "source": [
        "#Valor nominal ou do fabricante\n",
        "R_ref= 680.0 #(kΩ)"
      ],
      "metadata": {
        "id": "8OiDveGjeljd"
      },
      "execution_count": 6,
      "outputs": []
    },
    {
      "cell_type": "code",
      "source": [
        "##Exemplo: Medidas dos 100 resistores de 680 ± 5% (kΩ)\n",
        "array_GR01 = [671, 667, 673, 675, 675, 671, 678, 668, 668, 672, 670, 669, 670, 677, 671, 674, 666, 676, 673, 667]#(k ohms)\n",
        "array_GR02 = [673, 671, 671, 677, 678, 669, 670, 669, 674, 670, 672, 680, 675, 682, 669, 671, 673, 673, 669, 668]#(k ohms)\n",
        "array_GR03 = [673, 674, 672, 675, 678, 679, 670, 674, 670, 679, 672, 676, 671, 674, 671, 670, 675, 674, 669, 672]#(k ohms)\n",
        "array_GR04 = [668, 673, 673, 669, 672, 667, 668, 671, 676, 671, 674, 678, 672, 678, 675, 676, 673, 669, 676, 675]#(k ohms)\n",
        "array_GR05 = [677, 679, 672, 678, 672, 675, 676, 673, 668, 669, 676, 675, 669, 664, 674, 666, 676, 670, 674, 665]#(k ohms)\n",
        "array_100 = array_GR01+array_GR02+array_GR03+array_GR04+array_GR05 \n"
      ],
      "metadata": {
        "id": "4zThAFfLD-R-"
      },
      "execution_count": 7,
      "outputs": []
    },
    {
      "cell_type": "code",
      "source": [
        "def compatibilidade(grupo):\n",
        "  e100 = (np.std(array_100, ddof=0 ))/np.sqrt(len(array_100))\n",
        "  egrupo = (np.std(grupo, ddof=1 ))/np.sqrt(len(grupo))\n",
        "  ec = np.sqrt((e100*e100)+(egrupo*egrupo))\n",
        "  d = abs(np.mean(grupo)-np.mean(array_100))/ec\n",
        "  if d<=2.0:\n",
        "    print(\"Compatível\", d, ec, abs(np.mean(grupo)-np.mean(array_100)))\n",
        "  elif d > 2.0 and d < 3.0:\n",
        "    print(\"Inconclusivo\", d,ec, abs(np.mean(grupo)-np.mean(array_100)))\n",
        "  else:\n",
        "    print(\"Incompatível\", d,ec,abs(np.mean(grupo)-np.mean(array_100)))\n",
        "  return(d)"
      ],
      "metadata": {
        "id": "tHZ_EhiWeZeI"
      },
      "execution_count": 8,
      "outputs": []
    },
    {
      "cell_type": "code",
      "source": [
        "def compatibilidadeRef(grupo):\n",
        "  e100 = (np.std(array_100, ddof=0 ))/np.sqrt(len(array_100))\n",
        "  #egrupo = (np.std(grupo, ddof=1 ))/np.sqrt(len(grupo))\n",
        "  #ec = np.sqrt((e100*e100)+(egrupo*egrupo))\n",
        "  d = abs(np.mean(grupo)-R_ref)/e100\n",
        "  if d<=2.0:\n",
        "    print(\"Compatível\", d, e100, abs(np.mean(grupo)-R_ref))\n",
        "  elif d > 2.0 and d < 3.0:\n",
        "    print(\"Inconclusivo\", d,e100, abs(np.mean(grupo)-R_ref))\n",
        "  else:\n",
        "    print(\"Incompatível\", d,e100,abs(np.mean(grupo)-R_ref))\n",
        "  return(d)"
      ],
      "metadata": {
        "id": "2tJx9PoKlVbq"
      },
      "execution_count": 9,
      "outputs": []
    },
    {
      "cell_type": "markdown",
      "source": [
        "Conjunto completo de valores de resistências (100):"
      ],
      "metadata": {
        "id": "0QQwSiL5Bpu8"
      }
    },
    {
      "cell_type": "code",
      "source": [
        "print (\"Conjunto completo:\",array_100, \"N=\", len(array_100))\n",
        "amplitude_100=(np.max(array_100)-np.min(array_100))\n",
        "print ( \"Valor mínimo: {}\".format( np.min(array_100) ),\"(kΩ)\" )\n",
        "print ( \"Valor máximo: {}\".format( np.max(array_100) ) ,\"(kΩ)\")\n",
        "print ( \"Amplitude: {}\".format( amplitude_100 ) ,\"(kΩ)\")"
      ],
      "metadata": {
        "colab": {
          "base_uri": "https://localhost:8080/"
        },
        "id": "12KiyT_830-t",
        "outputId": "94972322-da62-4e38-9319-2b00a9bb2967"
      },
      "execution_count": 10,
      "outputs": [
        {
          "output_type": "stream",
          "name": "stdout",
          "text": [
            "Conjunto completo: [671, 667, 673, 675, 675, 671, 678, 668, 668, 672, 670, 669, 670, 677, 671, 674, 666, 676, 673, 667, 673, 671, 671, 677, 678, 669, 670, 669, 674, 670, 672, 680, 675, 682, 669, 671, 673, 673, 669, 668, 673, 674, 672, 675, 678, 679, 670, 674, 670, 679, 672, 676, 671, 674, 671, 670, 675, 674, 669, 672, 668, 673, 673, 669, 672, 667, 668, 671, 676, 671, 674, 678, 672, 678, 675, 676, 673, 669, 676, 675, 677, 679, 672, 678, 672, 675, 676, 673, 668, 669, 676, 675, 669, 664, 674, 666, 676, 670, 674, 665] N= 100\n",
            "Valor mínimo: 664 (kΩ)\n",
            "Valor máximo: 682 (kΩ)\n",
            "Amplitude: 18 (kΩ)\n"
          ]
        }
      ]
    },
    {
      "cell_type": "code",
      "source": [
        "#Calculo da média\n",
        "N100=len(array_100)\n",
        "media_100=(np.sum(array_100)/N100)\n",
        "vmin = np.min(array_100)\n",
        "vmax = np.max(array_100)\n",
        "print(\"média do conjunto de 100 resistores: {}\".format( (media_100)),\"(kΩ)\")"
      ],
      "metadata": {
        "colab": {
          "base_uri": "https://localhost:8080/"
        },
        "id": "NX9dbDns4oVi",
        "outputId": "babcaa84-07b2-45a5-bcaa-30e16c6abb77"
      },
      "execution_count": 11,
      "outputs": [
        {
          "output_type": "stream",
          "name": "stdout",
          "text": [
            "média do conjunto de 100 resistores: 672.55 (kΩ)\n"
          ]
        }
      ]
    },
    {
      "cell_type": "code",
      "source": [
        "#Usando o NumPy\n",
        "np.mean( array_100 )"
      ],
      "metadata": {
        "colab": {
          "base_uri": "https://localhost:8080/"
        },
        "id": "1XWrWGGv4wLH",
        "outputId": "4f7170e1-2300-402f-b4ac-c0428ed43a63"
      },
      "execution_count": 12,
      "outputs": [
        {
          "output_type": "execute_result",
          "data": {
            "text/plain": [
              "672.55"
            ]
          },
          "metadata": {},
          "execution_count": 12
        }
      ]
    },
    {
      "cell_type": "code",
      "source": [
        "print(\"média do conjunto de 100 resistores: {}\".format(np.mean( array_100 )),\"(kΩ)\")\n",
        "\n"
      ],
      "metadata": {
        "colab": {
          "base_uri": "https://localhost:8080/"
        },
        "id": "chUe8w245giz",
        "outputId": "b9b722d1-4a82-4b66-91fd-8ef30d92c00f"
      },
      "execution_count": 13,
      "outputs": [
        {
          "output_type": "stream",
          "name": "stdout",
          "text": [
            "média do conjunto de 100 resistores: 672.55 (kΩ)\n"
          ]
        }
      ]
    },
    {
      "cell_type": "code",
      "source": [
        "fig = plt.figure( figsize=(8,6) )\n",
        "\n",
        "counts, bins, _ = plt.hist( array_100, bins=21, range=[vmin,vmax])\n",
        "#plt.xlim( 15, 40 )\n",
        "plt.xlabel( \"Resistência (kΩ)\", fontsize=18 )\n",
        "plt.ylabel( \"Frequência\", fontsize=18 )\n",
        "plt.title('Histograma das resistências do Conjunto Completo de 100 Resistores', fontsize=12 )\n",
        "\n",
        "\n"
      ],
      "metadata": {
        "colab": {
          "base_uri": "https://localhost:8080/",
          "height": 592
        },
        "id": "GvQTxvWk49Y1",
        "outputId": "c18e7027-354b-4d67-96cc-9632d7952024"
      },
      "execution_count": 14,
      "outputs": [
        {
          "output_type": "execute_result",
          "data": {
            "text/plain": [
              "Text(0.5, 1.0, 'Histograma das resistências do Conjunto Completo de 100 Resistores')"
            ]
          },
          "metadata": {},
          "execution_count": 14
        },
        {
          "output_type": "display_data",
          "data": {
            "text/plain": [
              "<Figure size 800x600 with 1 Axes>"
            ],
            "image/png": "[encoded data removed]"
          },
          "metadata": {}
        }
      ]
    },
    {
      "cell_type": "markdown",
      "source": [
        "Variância e desvio Padrão usando o NumPY:"
      ],
      "metadata": {
        "id": "1uPpK8My6aS7"
      }
    },
    {
      "cell_type": "code",
      "source": [
        "var_100 = np.var( array_100, ddof=0 )\n",
        "print ( \"Variância do conj. de 100 resistores: {}\".format(var_100),\"(k^2Ω)\" )\n",
        "print ( \"Desvio Padrao do conj. de 100 resistores: {}\".format(np.sqrt(var_100)),\"(kΩ)\" )\n",
        "sigma_m100 = np.std( array_100, ddof=0 )/np.sqrt(N100)\n",
        "print ( \"Erro da média do conj. de 100: {}\".format(np.std( array_100, ddof=1 )/np.sqrt(N100)),\"(kΩ)\" )"
      ],
      "metadata": {
        "colab": {
          "base_uri": "https://localhost:8080/"
        },
        "id": "JkLhW3PU4lkb",
        "outputId": "b42e1e87-9187-4769-cdf7-8775cb6b4e1a"
      },
      "execution_count": 15,
      "outputs": [
        {
          "output_type": "stream",
          "name": "stdout",
          "text": [
            "Variância do conj. de 100 resistores: 13.147500000000004 (k^2Ω)\n",
            "Desvio Padrao do conj. de 100 resistores: 3.625948151863179 (kΩ)\n",
            "Erro da média do conj. de 100: 0.36442150087917474 (kΩ)\n"
          ]
        }
      ]
    },
    {
      "cell_type": "markdown",
      "source": [
        "Estimativa Padrão dos 100 resistores:"
      ],
      "metadata": {
        "id": "9KD_tjHqIg4d"
      }
    },
    {
      "cell_type": "code",
      "source": [
        "print ( \"R100 = {:.1f} ± {:.1f} (kΩ)\".format( np.round( np.mean( array_100 ), 1 ), np.round( sigma_m100, 1 ) ) )\n"
      ],
      "metadata": {
        "colab": {
          "base_uri": "https://localhost:8080/"
        },
        "id": "msPvhaqEImAO",
        "outputId": "523486fb-3f27-49bc-8470-6420839380e8"
      },
      "execution_count": 16,
      "outputs": [
        {
          "output_type": "stream",
          "name": "stdout",
          "text": [
            "R100 = 672.6 ± 0.4 (kΩ)\n"
          ]
        }
      ]
    },
    {
      "cell_type": "markdown",
      "source": [
        "Grupo 01 de valores de resistências:"
      ],
      "metadata": {
        "id": "gUJI8Lu67Ma5"
      }
    },
    {
      "cell_type": "code",
      "source": [
        "amplitude_GR01=(np.max(array_GR01)-np.min(array_GR01))\n",
        "print ( \"Valor mínimo: {}\".format( np.min(array_GR01) ),\"(kΩ)\" )\n",
        "print ( \"Valor máximo: {}\".format( np.max(array_GR01) ),\"(kΩ)\" )\n",
        "print ( \"Amplitude: {}\".format( amplitude_GR01 ) ,\"(kΩ)\")"
      ],
      "metadata": {
        "colab": {
          "base_uri": "https://localhost:8080/"
        },
        "id": "L2AHiMPx7LL2",
        "outputId": "5e521a9d-dd23-4bf5-8267-63f58e858a2d"
      },
      "execution_count": 17,
      "outputs": [
        {
          "output_type": "stream",
          "name": "stdout",
          "text": [
            "Valor mínimo: 666 (kΩ)\n",
            "Valor máximo: 678 (kΩ)\n",
            "Amplitude: 12 (kΩ)\n"
          ]
        }
      ]
    },
    {
      "cell_type": "code",
      "source": [
        "#Usando o NumPy\n",
        "np.mean( array_GR01 )"
      ],
      "metadata": {
        "colab": {
          "base_uri": "https://localhost:8080/"
        },
        "id": "z7lxEJzD8h-J",
        "outputId": "7e9cbd73-82b9-41ae-a5db-44a3f44572f2"
      },
      "execution_count": 18,
      "outputs": [
        {
          "output_type": "execute_result",
          "data": {
            "text/plain": [
              "671.55"
            ]
          },
          "metadata": {},
          "execution_count": 18
        }
      ]
    },
    {
      "cell_type": "code",
      "source": [
        "#Calculo da média\n",
        "N1_20=len(array_GR01)\n",
        "media_GR01=(np.sum(array_GR01)/N1_20)\n",
        "vmin = np.min(array_GR01)\n",
        "vmax = np.max(array_GR01)\n",
        "\n",
        "print(\"média do conjunto de 20 resistores do Grupo 01: {}\".format( (media_GR01)),\"(kΩ)\")"
      ],
      "metadata": {
        "colab": {
          "base_uri": "https://localhost:8080/"
        },
        "id": "3k2WDajh7dIr",
        "outputId": "42276aa0-d548-4ef6-f19f-1ec50f58b97f"
      },
      "execution_count": 19,
      "outputs": [
        {
          "output_type": "stream",
          "name": "stdout",
          "text": [
            "média do conjunto de 20 resistores do Grupo 01: 671.55 (kΩ)\n"
          ]
        }
      ]
    },
    {
      "cell_type": "code",
      "source": [
        "fig = plt.figure( figsize=(8,6) )\n",
        "\n",
        "counts, bins, _ = plt.hist( array_GR01, bins=10, range=[vmin,vmax])\n",
        "#plt.xlim( 15, 40 )\n",
        "plt.xlabel( \"Resistência (kΩ)\", fontsize=18 )\n",
        "plt.ylabel( \"Frequência\", fontsize=18 )\n",
        "plt.title('Histograma das resistências do Grupo 01 de 20 Resistores', fontsize=12 )\n"
      ],
      "metadata": {
        "colab": {
          "base_uri": "https://localhost:8080/",
          "height": 592
        },
        "id": "iokbp7I884l0",
        "outputId": "ef3a0102-0951-4890-9259-f13763c8b97c"
      },
      "execution_count": 20,
      "outputs": [
        {
          "output_type": "execute_result",
          "data": {
            "text/plain": [
              "Text(0.5, 1.0, 'Histograma das resistências do Grupo 01 de 20 Resistores')"
            ]
          },
          "metadata": {},
          "execution_count": 20
        },
        {
          "output_type": "display_data",
          "data": {
            "text/plain": [
              "<Figure size 800x600 with 1 Axes>"
            ],
            "image/png": "[encoded data removed]"
          },
          "metadata": {}
        }
      ]
    },
    {
      "cell_type": "code",
      "source": [
        "var_gr1 = np.var( array_GR01, ddof=0 )\n",
        "print ( \"Variância do Grupo 01: {}\".format(var_gr1), \"(k^2Ω)\" )\n",
        "print ( \"Desvio Padrao do do Grupo 01: {}\".format(np.sqrt(var_gr1)),\"(kΩ)\" )\n",
        "sigma_m1 = np.std( array_GR01, ddof=1 )/np.sqrt(N1_20)\n",
        "print ( \"Erro da média do Grupo 01: {}\".format(np.std( array_GR01, ddof=1 )/np.sqrt(N1_20)),\"(kΩ)\" )"
      ],
      "metadata": {
        "colab": {
          "base_uri": "https://localhost:8080/"
        },
        "id": "ed9bvU1o9hKV",
        "outputId": "bc287eb3-f016-46af-9439-8802944ad79e"
      },
      "execution_count": 21,
      "outputs": [
        {
          "output_type": "stream",
          "name": "stdout",
          "text": [
            "Variância do Grupo 01: 11.7475 (k^2Ω)\n",
            "Desvio Padrao do do Grupo 01: 3.427462618322773 (kΩ)\n",
            "Erro da média do Grupo 01: 0.7863138518964361 (kΩ)\n"
          ]
        }
      ]
    },
    {
      "cell_type": "markdown",
      "source": [
        "Estimativa Padrão GR01:"
      ],
      "metadata": {
        "id": "VY9oBKm0IYoR"
      }
    },
    {
      "cell_type": "code",
      "source": [
        "print ( \"R1 = {:.1f} ± {:.1f} (kΩ)\".format( np.round( np.mean( array_GR01 ), 1 ), np.round( sigma_m1, 1 ) ) )\n"
      ],
      "metadata": {
        "colab": {
          "base_uri": "https://localhost:8080/"
        },
        "id": "FheedpkHIbYu",
        "outputId": "6831f800-3025-4bc6-a28d-d742488ff6b4"
      },
      "execution_count": 22,
      "outputs": [
        {
          "output_type": "stream",
          "name": "stdout",
          "text": [
            "R1 = 671.6 ± 0.8 (kΩ)\n"
          ]
        }
      ]
    },
    {
      "cell_type": "markdown",
      "source": [
        "Grupo 02 de valores de resistências:"
      ],
      "metadata": {
        "id": "RDM1ZLtm-BmV"
      }
    },
    {
      "cell_type": "code",
      "source": [
        "#Calculo da média\n",
        "N2_20=len(array_GR02)\n",
        "media_GR02=(np.sum(array_GR02)/N2_20)\n",
        "vmin = np.min(array_GR02)\n",
        "vmax = np.max(array_GR02)\n",
        "amplitude_GR02=(np.max(array_GR02)-np.min(array_GR02))\n",
        "print ( \"Valor mínimo: {}\".format( np.min(array_GR02) ),\"(kΩ)\" )\n",
        "print ( \"Valor máximo: {}\".format( np.max(array_GR02) ),\"(kΩ)\" )\n",
        "print ( \"Amplitude: {}\".format( amplitude_GR02 ) ,\"(kΩ)\")\n",
        "print(\"média do conjunto de 20 resistores do Grupo 02: {}\".format( (media_GR02)),\"(kΩ)\")"
      ],
      "metadata": {
        "colab": {
          "base_uri": "https://localhost:8080/"
        },
        "id": "4R6g1PYp8LXO",
        "outputId": "85655810-14dd-41ee-8044-07828af90269"
      },
      "execution_count": 23,
      "outputs": [
        {
          "output_type": "stream",
          "name": "stdout",
          "text": [
            "Valor mínimo: 668 (kΩ)\n",
            "Valor máximo: 682 (kΩ)\n",
            "Amplitude: 14 (kΩ)\n",
            "média do conjunto de 20 resistores do Grupo 02: 672.7 (kΩ)\n"
          ]
        }
      ]
    },
    {
      "cell_type": "code",
      "source": [
        "#Usando o NumPy\n",
        "np.mean( array_GR02 )"
      ],
      "metadata": {
        "colab": {
          "base_uri": "https://localhost:8080/"
        },
        "id": "2Pr-W242744A",
        "outputId": "8a84549e-0a3c-4066-9582-263724e361aa"
      },
      "execution_count": 24,
      "outputs": [
        {
          "output_type": "execute_result",
          "data": {
            "text/plain": [
              "672.7"
            ]
          },
          "metadata": {},
          "execution_count": 24
        }
      ]
    },
    {
      "cell_type": "code",
      "source": [
        "fig = plt.figure( figsize=(8,6) )\n",
        "\n",
        "counts, bins, _ = plt.hist( array_GR02, bins=21, range=[vmin,vmax])\n",
        "#plt.xlim( 15, 40 )\n",
        "plt.xlabel( \"Resistência (kΩ)\", fontsize=18 )\n",
        "plt.ylabel( \"Frequência\", fontsize=18 )\n",
        "plt.title('Histograma das resistências do Grupo 02 de 20 Resistores', fontsize=12 )\n"
      ],
      "metadata": {
        "colab": {
          "base_uri": "https://localhost:8080/",
          "height": 592
        },
        "id": "SCprkcBR9OHN",
        "outputId": "ecfdabaa-f723-4354-c327-b6a9fd9a1c4f"
      },
      "execution_count": 25,
      "outputs": [
        {
          "output_type": "execute_result",
          "data": {
            "text/plain": [
              "Text(0.5, 1.0, 'Histograma das resistências do Grupo 02 de 20 Resistores')"
            ]
          },
          "metadata": {},
          "execution_count": 25
        },
        {
          "output_type": "display_data",
          "data": {
            "text/plain": [
              "<Figure size 800x600 with 1 Axes>"
            ],
            "image/png": "[encoded data removed]"
          },
          "metadata": {}
        }
      ]
    },
    {
      "cell_type": "code",
      "source": [
        "var_gr2 = np.var( array_GR02, ddof=0 )\n",
        "print ( \"Variância do Grupo 02: {}\".format(var_gr2), \"(k^2Ω)\" )\n",
        "print ( \"Desvio Padrao do do Grupo 02: {}\".format(np.sqrt(var_gr2)),\"(kΩ)\" )\n",
        "sigma_m2 = np.std( array_GR02, ddof=1 )/np.sqrt(N2_20)\n",
        "print ( \"Erro da média do Grupo 02: {}\".format(np.std( array_GR02, ddof=1 )/np.sqrt(N2_20)),\"(kΩ)\" )"
      ],
      "metadata": {
        "colab": {
          "base_uri": "https://localhost:8080/"
        },
        "id": "7ePQjySA-Jhv",
        "outputId": "0f109ce4-5be6-424d-ccb3-f7f6b314490d"
      },
      "execution_count": 26,
      "outputs": [
        {
          "output_type": "stream",
          "name": "stdout",
          "text": [
            "Variância do Grupo 02: 14.710000000000003 (k^2Ω)\n",
            "Desvio Padrao do do Grupo 02: 3.8353617821530217 (kΩ)\n",
            "Erro da média do Grupo 02: 0.879892337911741 (kΩ)\n"
          ]
        }
      ]
    },
    {
      "cell_type": "markdown",
      "source": [
        "Estimativa Padrão GR02:"
      ],
      "metadata": {
        "id": "rLtZNAC9IM5E"
      }
    },
    {
      "cell_type": "code",
      "source": [
        "print ( \"R2 = {:.1f} ± {:.1f} (kΩ)\".format( np.round( np.mean( array_GR02 ), 1 ), np.round( sigma_m2, 1 ) ) )\n"
      ],
      "metadata": {
        "colab": {
          "base_uri": "https://localhost:8080/"
        },
        "id": "CEv0mmY_IML8",
        "outputId": "f7a0148d-d2ac-4f83-9b4a-553ac454089f"
      },
      "execution_count": 27,
      "outputs": [
        {
          "output_type": "stream",
          "name": "stdout",
          "text": [
            "R2 = 672.7 ± 0.9 (kΩ)\n"
          ]
        }
      ]
    },
    {
      "cell_type": "markdown",
      "source": [
        "Grupo 03 de valores de resistências:"
      ],
      "metadata": {
        "id": "4WFO_cs--ZZc"
      }
    },
    {
      "cell_type": "code",
      "source": [
        "#Calculo da média\n",
        "N3_20=len(array_GR03)\n",
        "media_GR03=(np.sum(array_GR03)/N3_20)\n",
        "vmin = np.min(array_GR03)\n",
        "vmax = np.max(array_GR03)\n",
        "amplitude_GR03=(np.max(array_GR03)-np.min(array_GR03))\n",
        "print ( \"Valor mínimo: {}\".format( np.min(array_GR03) ),\"(kΩ)\")\n",
        "print ( \"Valor máximo: {}\".format( np.max(array_GR03) ) ,\"(kΩ)\")\n",
        "print ( \"Amplitude: {}\".format( amplitude_GR03 ),\"(kΩ)\" )\n",
        "print(\"média do conjunto de 20 resistores do Grupo 03: {}\".format( (media_GR03)),\"(kΩ)\")"
      ],
      "metadata": {
        "colab": {
          "base_uri": "https://localhost:8080/"
        },
        "id": "WvMuO5Gk-YjT",
        "outputId": "3a900f73-bb1c-4c91-c06f-c49671985603"
      },
      "execution_count": 28,
      "outputs": [
        {
          "output_type": "stream",
          "name": "stdout",
          "text": [
            "Valor mínimo: 669 (kΩ)\n",
            "Valor máximo: 679 (kΩ)\n",
            "Amplitude: 10 (kΩ)\n",
            "média do conjunto de 20 resistores do Grupo 03: 673.4 (kΩ)\n"
          ]
        }
      ]
    },
    {
      "cell_type": "code",
      "source": [
        "#Usando o NumPy\n",
        "np.mean( array_GR03 )"
      ],
      "metadata": {
        "colab": {
          "base_uri": "https://localhost:8080/"
        },
        "id": "js6kGJD8-4NK",
        "outputId": "8bf1342b-34d7-4eed-c73b-ae980c6aa2fa"
      },
      "execution_count": 29,
      "outputs": [
        {
          "output_type": "execute_result",
          "data": {
            "text/plain": [
              "673.4"
            ]
          },
          "metadata": {},
          "execution_count": 29
        }
      ]
    },
    {
      "cell_type": "code",
      "source": [
        "fig = plt.figure( figsize=(8,6) )\n",
        "\n",
        "counts, bins, _ = plt.hist( array_GR03, bins=21, range=[vmin,vmax])\n",
        "#plt.xlim( 15, 40 )\n",
        "plt.xlabel( \"Resistência (kΩ)\", fontsize=18 )\n",
        "plt.ylabel( \"Frequência\", fontsize=18 )\n",
        "plt.title('Histograma das resistências do Grupo 03 de 20 Resistores', fontsize=12 )\n"
      ],
      "metadata": {
        "colab": {
          "base_uri": "https://localhost:8080/",
          "height": 592
        },
        "id": "mDzq1mq__mNv",
        "outputId": "3ef41fd8-78cd-4018-81c5-90edf9ebaef1"
      },
      "execution_count": 30,
      "outputs": [
        {
          "output_type": "execute_result",
          "data": {
            "text/plain": [
              "Text(0.5, 1.0, 'Histograma das resistências do Grupo 03 de 20 Resistores')"
            ]
          },
          "metadata": {},
          "execution_count": 30
        },
        {
          "output_type": "display_data",
          "data": {
            "text/plain": [
              "<Figure size 800x600 with 1 Axes>"
            ],
            "image/png": "[encoded data removed]"
          },
          "metadata": {}
        }
      ]
    },
    {
      "cell_type": "code",
      "source": [
        "var_gr3 = np.var( array_GR03, ddof=0 )\n",
        "print ( \"Variância do Grupo 03: {}\".format(var_gr3), \"(k^2Ω)\" )\n",
        "print ( \"Desvio Padrao do do Grupo 03: {}\".format(np.sqrt(var_gr3)),\"(kΩ)\" )\n",
        "sigma_m3 = np.std( array_GR03, ddof=1 )/np.sqrt(N3_20)\n",
        "print ( \"Erro da média do Grupo 03: {}\".format(np.std( array_GR03, ddof=1 )/np.sqrt(N3_20)),\"(kΩ)\" )"
      ],
      "metadata": {
        "colab": {
          "base_uri": "https://localhost:8080/"
        },
        "id": "7F6LaehY_uSe",
        "outputId": "9c21a898-57b3-4536-c736-e86f94c88d77"
      },
      "execution_count": 31,
      "outputs": [
        {
          "output_type": "stream",
          "name": "stdout",
          "text": [
            "Variância do Grupo 03: 8.439999999999998 (k^2Ω)\n",
            "Desvio Padrao do do Grupo 03: 2.9051678092667896 (kΩ)\n",
            "Erro da média do Grupo 03: 0.6664912049800726 (kΩ)\n"
          ]
        }
      ]
    },
    {
      "cell_type": "markdown",
      "source": [
        "Estimativa Padrão GR03:"
      ],
      "metadata": {
        "id": "rpkKz3I1IBqM"
      }
    },
    {
      "cell_type": "code",
      "source": [
        "print ( \"R3 = {:.1f} ± {:.1f} (kΩ)\".format( np.round( np.mean( array_GR03 ), 1 ), np.round( sigma_m3, 1 ) ) )\n"
      ],
      "metadata": {
        "colab": {
          "base_uri": "https://localhost:8080/"
        },
        "id": "-5YjoqQ5IFnT",
        "outputId": "5f001662-8352-4d54-802c-17d20900d669"
      },
      "execution_count": 32,
      "outputs": [
        {
          "output_type": "stream",
          "name": "stdout",
          "text": [
            "R3 = 673.4 ± 0.7 (kΩ)\n"
          ]
        }
      ]
    },
    {
      "cell_type": "markdown",
      "source": [
        "Grupo 04 de valores de resistências:"
      ],
      "metadata": {
        "id": "g-nT1Lv0BQCd"
      }
    },
    {
      "cell_type": "code",
      "source": [
        "#Calculo da média\n",
        "N4_20=len(array_GR04)\n",
        "media_GR04=(np.sum(array_GR04)/N4_20)\n",
        "vmin = np.min(array_GR04)\n",
        "vmax = np.max(array_GR04)\n",
        "amplitude_GR04=(np.max(array_GR04)-np.min(array_GR04))\n",
        "print ( \"Valor mínimo: {}\".format( np.min(array_GR04) ),\"(kΩ)\")\n",
        "print ( \"Valor máximo: {}\".format( np.max(array_GR04) ) ,\"(kΩ)\")\n",
        "print ( \"Amplitude: {}\".format( amplitude_GR04 ),\"(kΩ)\" )\n",
        "print(\"média do conjunto de 20 resistências do Grupo 04: {}\".format( (media_GR04)),\"(kΩ)\")"
      ],
      "metadata": {
        "colab": {
          "base_uri": "https://localhost:8080/"
        },
        "id": "A_1GW6yeByQ_",
        "outputId": "7cf57ff1-21d7-459f-8c5b-956f9309aa8f"
      },
      "execution_count": 33,
      "outputs": [
        {
          "output_type": "stream",
          "name": "stdout",
          "text": [
            "Valor mínimo: 667 (kΩ)\n",
            "Valor máximo: 678 (kΩ)\n",
            "Amplitude: 11 (kΩ)\n",
            "média do conjunto de 20 resistências do Grupo 04: 672.7 (kΩ)\n"
          ]
        }
      ]
    },
    {
      "cell_type": "code",
      "source": [
        "#Usando o NumPy\n",
        "np.mean( array_GR04 )"
      ],
      "metadata": {
        "colab": {
          "base_uri": "https://localhost:8080/"
        },
        "id": "3tAVNm99Byll",
        "outputId": "ad1c4e45-9139-4601-9131-8b9ace699291"
      },
      "execution_count": 34,
      "outputs": [
        {
          "output_type": "execute_result",
          "data": {
            "text/plain": [
              "672.7"
            ]
          },
          "metadata": {},
          "execution_count": 34
        }
      ]
    },
    {
      "cell_type": "code",
      "source": [
        "fig = plt.figure( figsize=(8,6) )\n",
        "\n",
        "counts, bins, _ = plt.hist( array_GR04, bins=21, range=[vmin,vmax])\n",
        "#plt.xlim( 15, 40 )\n",
        "plt.xlabel( \"Resistência (kΩ)\", fontsize=18 )\n",
        "plt.ylabel( \"Frequência\", fontsize=18 )\n",
        "plt.title('Histograma das resistências do Grupo 04 de 20 Resistores', fontsize=12 )\n"
      ],
      "metadata": {
        "colab": {
          "base_uri": "https://localhost:8080/",
          "height": 592
        },
        "id": "ObccGQYYCJDl",
        "outputId": "a418c5ba-a21e-477b-8fcd-c1c1c0afc6f7"
      },
      "execution_count": 35,
      "outputs": [
        {
          "output_type": "execute_result",
          "data": {
            "text/plain": [
              "Text(0.5, 1.0, 'Histograma das resistências do Grupo 04 de 20 Resistores')"
            ]
          },
          "metadata": {},
          "execution_count": 35
        },
        {
          "output_type": "display_data",
          "data": {
            "text/plain": [
              "<Figure size 800x600 with 1 Axes>"
            ],
            "image/png": "[encoded data removed]"
          },
          "metadata": {}
        }
      ]
    },
    {
      "cell_type": "code",
      "source": [
        "var_gr4 = np.var( array_GR04, ddof=0 )\n",
        "print ( \"Variância do Grupo 04: {}\".format(var_gr4), \"(k^2Ω)\" )\n",
        "print ( \"Desvio Padrao do do Grupo 04: {}\".format(np.sqrt(var_gr4)),\"(kΩ)\" )\n",
        "sigma_m4 = np.std( array_GR04, ddof=1 )/np.sqrt(N4_20)\n",
        "print ( \"Erro da média do Grupo 04: {}\".format(np.std( array_GR04, ddof=1 )/np.sqrt(N4_20)),\"(kΩ)\" )"
      ],
      "metadata": {
        "colab": {
          "base_uri": "https://localhost:8080/"
        },
        "id": "owXv6yuTCVKu",
        "outputId": "f0975c9b-376f-4ffc-d37c-ff1f04dd16ad"
      },
      "execution_count": 36,
      "outputs": [
        {
          "output_type": "stream",
          "name": "stdout",
          "text": [
            "Variância do Grupo 04: 10.61 (k^2Ω)\n",
            "Desvio Padrao do do Grupo 04: 3.257299494980466 (kΩ)\n",
            "Erro da média do Grupo 04: 0.7472757540771539 (kΩ)\n"
          ]
        }
      ]
    },
    {
      "cell_type": "markdown",
      "source": [
        "Estimativa Padrão GR04:"
      ],
      "metadata": {
        "id": "5FZWw7mmH7ac"
      }
    },
    {
      "cell_type": "code",
      "source": [
        "print ( \"R4 = {:.1f} ± {:.1f} (kΩ)\".format( np.round( np.mean( array_GR04 ), 1 ), np.round( sigma_m4, 1 ) ) )\n"
      ],
      "metadata": {
        "colab": {
          "base_uri": "https://localhost:8080/"
        },
        "id": "3dY4Lvl4HzT7",
        "outputId": "94397c0b-93ea-45eb-8438-9582aae2084c"
      },
      "execution_count": 37,
      "outputs": [
        {
          "output_type": "stream",
          "name": "stdout",
          "text": [
            "R4 = 672.7 ± 0.7 (kΩ)\n"
          ]
        }
      ]
    },
    {
      "cell_type": "markdown",
      "source": [
        "Grupo 05 de valores de resistências:\n"
      ],
      "metadata": {
        "id": "iBI34d-wCjOB"
      }
    },
    {
      "cell_type": "code",
      "source": [
        "#Calculo da média\n",
        "N5_20=len(array_GR05)\n",
        "media_GR05=(np.sum(array_GR05)/N5_20)\n",
        "vmin = np.min(array_GR05)\n",
        "vmax = np.max(array_GR05)\n",
        "amplitude_GR05=(np.max(array_GR05)-np.min(array_GR05))\n",
        "print ( \"Valor mínimo: {}\".format( np.min(array_GR05) ),\"(kΩ)\")\n",
        "print ( \"Valor máximo: {}\".format( np.max(array_GR05) ) ,\"(kΩ)\")\n",
        "print ( \"Amplitude: {}\".format( amplitude_GR05 ),\"(kΩ)\" )\n",
        "print(\"média do conjunto de 20 resistências do Grupo 05: {}\".format( (media_GR05)),\"(kΩ)\")"
      ],
      "metadata": {
        "colab": {
          "base_uri": "https://localhost:8080/"
        },
        "id": "8S7RGXo7CbzD",
        "outputId": "9c8b4b7c-0142-4354-c755-7968dd3c9bea"
      },
      "execution_count": 38,
      "outputs": [
        {
          "output_type": "stream",
          "name": "stdout",
          "text": [
            "Valor mínimo: 664 (kΩ)\n",
            "Valor máximo: 679 (kΩ)\n",
            "Amplitude: 15 (kΩ)\n",
            "média do conjunto de 20 resistências do Grupo 05: 672.4 (kΩ)\n"
          ]
        }
      ]
    },
    {
      "cell_type": "code",
      "source": [
        "#Usando o NumPy\n",
        "np.mean( array_GR05 )"
      ],
      "metadata": {
        "colab": {
          "base_uri": "https://localhost:8080/"
        },
        "id": "FBrXEDBVC-9-",
        "outputId": "5a4c316b-68b6-4041-8b70-c9739925c815"
      },
      "execution_count": 39,
      "outputs": [
        {
          "output_type": "execute_result",
          "data": {
            "text/plain": [
              "672.4"
            ]
          },
          "metadata": {},
          "execution_count": 39
        }
      ]
    },
    {
      "cell_type": "code",
      "source": [
        "fig = plt.figure( figsize=(8,6) )\n",
        "\n",
        "counts, bins, _ = plt.hist( array_GR05, bins=21, range=[vmin,vmax])\n",
        "#plt.xlim( 15, 40 )\n",
        "plt.xlabel( \"Resistência (kΩ)\", fontsize=18 )\n",
        "plt.ylabel( \"Frequência\", fontsize=18 )\n",
        "plt.title('Histograma das resistências do Grupo 05 de 20 Resistores', fontsize=12 )"
      ],
      "metadata": {
        "colab": {
          "base_uri": "https://localhost:8080/",
          "height": 592
        },
        "id": "zeF73imBDDkc",
        "outputId": "73714e75-d125-4d34-9985-f0f9766a910f"
      },
      "execution_count": 40,
      "outputs": [
        {
          "output_type": "execute_result",
          "data": {
            "text/plain": [
              "Text(0.5, 1.0, 'Histograma das resistências do Grupo 05 de 20 Resistores')"
            ]
          },
          "metadata": {},
          "execution_count": 40
        },
        {
          "output_type": "display_data",
          "data": {
            "text/plain": [
              "<Figure size 800x600 with 1 Axes>"
            ],
            "image/png": "[encoded data removed]"
          },
          "metadata": {}
        }
      ]
    },
    {
      "cell_type": "code",
      "source": [
        "var_gr5 = np.var( array_GR05, ddof=1 )\n",
        "print ( \"Variância do Grupo 05: {}\".format(var_gr5), \"(k^2Ω)\" )\n",
        "print ( \"Desvio Padrao do do Grupo 05: {}\".format(np.sqrt(var_gr5)),\"(kΩ)\" )\n",
        "sigma_m5 = np.std( array_GR05, ddof=1 )/np.sqrt(N5_20)\n",
        "print ( \"Erro da média do Grupo 05: {}\".format(np.std( array_GR05, ddof=1 )/np.sqrt(N5_20)),\"(kΩ)\" )"
      ],
      "metadata": {
        "colab": {
          "base_uri": "https://localhost:8080/"
        },
        "id": "EmL-E19YENJ2",
        "outputId": "5b74047f-a064-4aaf-e556-8958e1733a11"
      },
      "execution_count": 41,
      "outputs": [
        {
          "output_type": "stream",
          "name": "stdout",
          "text": [
            "Variância do Grupo 05: 19.410526315789472 (k^2Ω)\n",
            "Desvio Padrao do do Grupo 05: 4.405737885506748 (kΩ)\n",
            "Erro da média do Grupo 05: 0.9851529403039274 (kΩ)\n"
          ]
        }
      ]
    },
    {
      "cell_type": "markdown",
      "source": [
        "Estimativa Padrão GR05:\n"
      ],
      "metadata": {
        "id": "Yp9HhY_mHVrT"
      }
    },
    {
      "cell_type": "code",
      "source": [
        "print ( \"R5 = {:.1f} ± {:.1f} (kΩ)\".format( np.round( np.mean( array_GR05 ), 1 ), np.round( sigma_m5, 1 ) ) )\n"
      ],
      "metadata": {
        "colab": {
          "base_uri": "https://localhost:8080/"
        },
        "id": "qOaQKay7FqAY",
        "outputId": "9a95a5fe-94dd-4402-985e-bdabe378b9c6"
      },
      "execution_count": 42,
      "outputs": [
        {
          "output_type": "stream",
          "name": "stdout",
          "text": [
            "R5 = 672.4 ± 1.0 (kΩ)\n"
          ]
        }
      ]
    },
    {
      "cell_type": "markdown",
      "source": [
        "Média das Médias:"
      ],
      "metadata": {
        "id": "g6BUml-nJTBR"
      }
    },
    {
      "cell_type": "code",
      "source": [
        "array_GRM = [np.mean( array_GR01 ),np.mean( array_GR02 ),np.mean( array_GR03 ),np.mean( array_GR04),np.mean( array_GR05)] #kΩ"
      ],
      "metadata": {
        "id": "DQmfYQPuJRDd"
      },
      "execution_count": 43,
      "outputs": []
    },
    {
      "cell_type": "code",
      "source": [
        "N=len(array_GRM)\n",
        "media_GRM=(np.sum(array_GRM)/N)\n",
        "vmin = np.min(array_GRM)\n",
        "vmax = np.max(array_GRM)\n",
        "amplitude_GRM=(np.max(array_GRM)-np.min(array_GRM))\n",
        "print ( \"Valor mínimo: {}\".format( np.min(array_GRM) ),\"(kΩ)\")\n",
        "print ( \"Valor máximo: {}\".format( np.max(array_GRM) ) ,\"(kΩ)\")\n",
        "print ( \"Amplitude: {}\".format( amplitude_GRM ),\"(kΩ)\" )\n",
        "print(\"média do conjunto das médias das resistências: {}\".format( (media_GRM)),\"(kΩ)\")"
      ],
      "metadata": {
        "colab": {
          "base_uri": "https://localhost:8080/"
        },
        "id": "d8JBQ_57JrWB",
        "outputId": "38e47c6b-b623-4269-97a0-296d0b18f895"
      },
      "execution_count": 44,
      "outputs": [
        {
          "output_type": "stream",
          "name": "stdout",
          "text": [
            "Valor mínimo: 671.55 (kΩ)\n",
            "Valor máximo: 673.4 (kΩ)\n",
            "Amplitude: 1.8500000000000227 (kΩ)\n",
            "média do conjunto das médias das resistências: 672.5500000000001 (kΩ)\n"
          ]
        }
      ]
    },
    {
      "cell_type": "code",
      "source": [
        "#Usando o NumPy\n",
        "np.mean( array_GRM )"
      ],
      "metadata": {
        "colab": {
          "base_uri": "https://localhost:8080/"
        },
        "id": "EVqLEW9MKBOl",
        "outputId": "08b7f703-4f97-4b63-d80c-bfb0421779c9"
      },
      "execution_count": 45,
      "outputs": [
        {
          "output_type": "execute_result",
          "data": {
            "text/plain": [
              "672.5500000000001"
            ]
          },
          "metadata": {},
          "execution_count": 45
        }
      ]
    },
    {
      "cell_type": "code",
      "source": [
        "fig = plt.figure( figsize=(8,6) )\n",
        "\n",
        "counts, bins, _ = plt.hist( array_GRM, bins=21, range=[vmin,vmax])\n",
        "#plt.xlim( 15, 40 )\n",
        "plt.xlabel( \"Resistência (kΩ)\", fontsize=18 )\n",
        "plt.ylabel( \"Frequência\", fontsize=18 )\n",
        "plt.title('Histograma das resistências do grupo das médias', fontsize=12 )"
      ],
      "metadata": {
        "colab": {
          "base_uri": "https://localhost:8080/",
          "height": 592
        },
        "id": "T5IMIXaKKFv6",
        "outputId": "5157a721-3dff-4127-8c0f-53656bb66d21"
      },
      "execution_count": 46,
      "outputs": [
        {
          "output_type": "execute_result",
          "data": {
            "text/plain": [
              "Text(0.5, 1.0, 'Histograma das resistências do grupo das médias')"
            ]
          },
          "metadata": {},
          "execution_count": 46
        },
        {
          "output_type": "display_data",
          "data": {
            "text/plain": [
              "<Figure size 800x600 with 1 Axes>"
            ],
            "image/png": "[encoded data removed]"
          },
          "metadata": {}
        }
      ]
    },
    {
      "cell_type": "code",
      "source": [
        "var_grm = np.var( array_GRM, ddof=1 )\n",
        "print ( \"Variância do Grupo das médias: {}\".format(var_grm), \"(k^2Ω)\" )\n",
        "print ( \"Desvio Padrao do do Grupo das médias: {}\".format(np.sqrt(var_grm)),\"(kΩ)\" )\n",
        "sigma_m = np.std( array_GRM, ddof=1 )/np.sqrt(N)\n",
        "print ( \"Erro da média do Grupo das médias: {}\".format(np.std( array_GRM, ddof=1 )/np.sqrt(N)),\"(kΩ)\" )"
      ],
      "metadata": {
        "colab": {
          "base_uri": "https://localhost:8080/"
        },
        "id": "okn9_8NxK8p_",
        "outputId": "24812ea4-6016-4cc6-debc-6ea2bf762865"
      },
      "execution_count": 47,
      "outputs": [
        {
          "output_type": "stream",
          "name": "stdout",
          "text": [
            "Variância do Grupo das médias: 0.44750000000002155 (k^2Ω)\n",
            "Desvio Padrao do do Grupo das médias: 0.6689544080129987 (kΩ)\n",
            "Erro da média do Grupo das médias: 0.299165506033039 (kΩ)\n"
          ]
        }
      ]
    },
    {
      "cell_type": "markdown",
      "source": [
        "Estimativa padrão do grupo das médias:"
      ],
      "metadata": {
        "id": "enmXcz_QLQ8z"
      }
    },
    {
      "cell_type": "code",
      "source": [
        "print ( \"RM = {:.2f} ± {:.2f} (kΩ)\".format( np.round( np.mean( array_GRM ), 2 ), np.round( sigma_m, 2 ) ) )\n"
      ],
      "metadata": {
        "colab": {
          "base_uri": "https://localhost:8080/"
        },
        "id": "M7x6fzbaLP6V",
        "outputId": "03415903-0304-4c8a-a92e-be4ff1317693"
      },
      "execution_count": 48,
      "outputs": [
        {
          "output_type": "stream",
          "name": "stdout",
          "text": [
            "RM = 672.55 ± 0.30 (kΩ)\n"
          ]
        }
      ]
    },
    {
      "cell_type": "markdown",
      "source": [
        "Desvio Padrão do conjunto com 100 resistores:\n"
      ],
      "metadata": {
        "id": "YvGHv4KlDPxf"
      }
    },
    {
      "cell_type": "code",
      "source": [
        "sigma_L_p = np.std( array_100, ddof=0 )\n",
        "print ( \"Desvio padrão populacional (kΩ) = {}\".format(sigma_L_p  ) )\n",
        "\n",
        "sigma_L_a = np.std( array_100, ddof=1 )\n",
        "print ( \"Desvio padrão amostral (kΩ) = {}\".format(sigma_L_a  ) )\n",
        "\n"
      ],
      "metadata": {
        "colab": {
          "base_uri": "https://localhost:8080/"
        },
        "id": "iOAZ7tki6SPI",
        "outputId": "42bed60b-494f-47f7-bbd8-848ed22f4545"
      },
      "execution_count": 49,
      "outputs": [
        {
          "output_type": "stream",
          "name": "stdout",
          "text": [
            "Desvio padrão populacional (kΩ) = 3.625948151863179\n",
            "Desvio padrão amostral (kΩ) = 3.6442150087917473\n"
          ]
        }
      ]
    },
    {
      "cell_type": "markdown",
      "source": [
        "Erro Relativo:"
      ],
      "metadata": {
        "id": "0hsL--e7EulM"
      }
    },
    {
      "cell_type": "code",
      "source": [
        "erro_relativo100 = sigma_m100 / media_100 \n",
        "print ( \"Erro relativo das medidas dos 100 resistores = {}\".format( erro_relativo100* 100),\"%(kΩ)\" )\n",
        "erro_relativo1 = sigma_m1/ media_GR01\n",
        "print ( \"Erro relativo das medidas do grupo 1 = {}\".format( erro_relativo1*100 ),\"%(kΩ)\" )\n",
        "erro_relativo2 = sigma_m2/ media_GR02\n",
        "print ( \"Erro relativo das medidas do grupo 2 = {}\".format( erro_relativo2 *100),\"%(kΩ)\" )\n",
        "erro_relativo3 = sigma_m3/ media_GR03\n",
        "print ( \"Erro relativo das medidas do grupo 3 = {}\".format( erro_relativo3*100 ),\"%(kΩ)\" )\n",
        "erro_relativo4 = sigma_m4/ media_GR04\n",
        "print ( \"Erro relativo das medidas do grupo 4 = {}\".format( erro_relativo4*100 ),\"%(kΩ)\" )\n",
        "erro_relativo5 = sigma_m5/ media_GR05\n",
        "print ( \"Erro relativo das medidas do grupo 5 = {}\".format( erro_relativo5*100 ),\"%(kΩ)\" )\n",
        "erro_relativoM = sigma_m/ media_GRM\n",
        "print ( \"Erro relativo das medidas do grupo das médias = {}\".format( erro_relativoM*100 ),\"%(kΩ)\" )"
      ],
      "metadata": {
        "colab": {
          "base_uri": "https://localhost:8080/"
        },
        "id": "KZNFZoC3Ewte",
        "outputId": "0a9e87f3-2cc9-49d2-a1a3-510b57255903"
      },
      "execution_count": 50,
      "outputs": [
        {
          "output_type": "stream",
          "name": "stdout",
          "text": [
            "Erro relativo das medidas dos 100 resistores = 0.05391343620345223 %(kΩ)\n",
            "Erro relativo das medidas do grupo 1 = 0.11708939794452179 %(kΩ)\n",
            "Erro relativo das medidas do grupo 2 = 0.13080010969403016 %(kΩ)\n",
            "Erro relativo das medidas do grupo 3 = 0.0989740429135837 %(kΩ)\n",
            "Erro relativo das medidas do grupo 4 = 0.11108603449935392 %(kΩ)\n",
            "Erro relativo das medidas do grupo 5 = 0.14651292984888867 %(kΩ)\n",
            "Erro relativo das medidas do grupo das médias = 0.04448226987332376 %(kΩ)\n"
          ]
        }
      ]
    },
    {
      "cell_type": "markdown",
      "source": [
        "Razão entre os erros das médias de cada grupo e o erro da média do conjunto completo:"
      ],
      "metadata": {
        "id": "zxdb1KYnUvwD"
      }
    },
    {
      "cell_type": "code",
      "source": [
        "erro_r1 = sigma_m1/sigma_m100 \n",
        "print ( \"Razão do sigma_m1/sigma_m100   = {}\".format( np.round(erro_r1 ),2) )\n",
        "\n",
        "erro_r2 = sigma_m2/sigma_m100  \n",
        "print ( \"Razão do sigma_m2/sigma_m100   = {}\".format( np.round(erro_r2 ) ,2))\n",
        "\n",
        "erro_r3 = sigma_m3/sigma_m100 \n",
        "print ( \"Razão do sigma_m3/sigma_m100   = {}\".format(np.round( erro_r3 ),2 ))\n",
        "\n",
        "erro_r4 = sigma_m4/sigma_m100 \n",
        "print ( \"Razão do sigma_m4/sigma_m100   = {}\".format( erro_r4 ) )\n",
        "\n",
        "erro_r5 = sigma_m5/sigma_m100 \n",
        "print ( \"Razão do sigma_m5/sigma_m100   = {}\".format( np.round(erro_r5 ),2) )"
      ],
      "metadata": {
        "colab": {
          "base_uri": "https://localhost:8080/"
        },
        "id": "lb7d36i1VZWA",
        "outputId": "db542f0c-3c51-442a-f308-4f71ebca4fc3"
      },
      "execution_count": 51,
      "outputs": [
        {
          "output_type": "stream",
          "name": "stdout",
          "text": [
            "Razão do sigma_m1/sigma_m100   = 2.0\n",
            "Razão do sigma_m2/sigma_m100   = 2.0\n",
            "Razão do sigma_m3/sigma_m100   = 2.0\n",
            "Razão do sigma_m4/sigma_m100   = 2.060911305897105\n",
            "Razão do sigma_m5/sigma_m100   = 3.0\n"
          ]
        }
      ]
    },
    {
      "cell_type": "code",
      "source": [
        "print(\"O grupo de 100 é ou não compatível com o R de ref.:\",compatibilidadeRef(array_100))"
      ],
      "metadata": {
        "colab": {
          "base_uri": "https://localhost:8080/"
        },
        "id": "hxzdJ_p4l0IF",
        "outputId": "12b396f1-7e5c-42e6-9f0d-b08e0c0add29"
      },
      "execution_count": 52,
      "outputs": [
        {
          "output_type": "stream",
          "name": "stdout",
          "text": [
            "Incompatível 20.546350052390828 0.3625948151863179 7.4500000000000455\n",
            "O grupo de 100 é ou não compatível com o R de ref.: 20.546350052390828\n"
          ]
        }
      ]
    },
    {
      "cell_type": "code",
      "source": [
        "print(\"O grupo 01 é  ou não compatível com o grupo de 100:\",compatibilidade(array_GR01))"
      ],
      "metadata": {
        "colab": {
          "base_uri": "https://localhost:8080/"
        },
        "id": "XI5C1YLZjlAg",
        "outputId": "06902616-1b33-4769-b5cb-4f9a4013cac8"
      },
      "execution_count": 53,
      "outputs": [
        {
          "output_type": "stream",
          "name": "stdout",
          "text": [
            "Compatível 1.1548818893357218 0.8658894119252242 1.0\n",
            "O grupo 01 é  ou não compatível com o grupo de 100: 1.1548818893357218\n"
          ]
        }
      ]
    },
    {
      "cell_type": "code",
      "source": [
        "print(\"O grupo 02 é  ou não compatível com o grupo de 100:\",compatibilidade(array_GR02))"
      ],
      "metadata": {
        "colab": {
          "base_uri": "https://localhost:8080/"
        },
        "id": "KG3wsva5jriM",
        "outputId": "76cbbd55-48fe-4f68-a061-2d1b22fd3489"
      },
      "execution_count": 54,
      "outputs": [
        {
          "output_type": "stream",
          "name": "stdout",
          "text": [
            "Compatível 0.15761681427445431 0.9516751159486043 0.15000000000009095\n",
            "O grupo 02 é  ou não compatível com o grupo de 100: 0.15761681427445431\n"
          ]
        }
      ]
    },
    {
      "cell_type": "code",
      "source": [
        "print(\"O grupo 03 é  ou não compatível com o grupo de 100:\",compatibilidade(array_GR03))"
      ],
      "metadata": {
        "colab": {
          "base_uri": "https://localhost:8080/"
        },
        "id": "6WXeINnijvdm",
        "outputId": "7d4bac67-c419-4bed-a812-785649339de9"
      },
      "execution_count": 55,
      "outputs": [
        {
          "output_type": "stream",
          "name": "stdout",
          "text": [
            "Compatível 1.120279194247164 0.7587394324244584 0.8500000000000227\n",
            "O grupo 03 é  ou não compatível com o grupo de 100: 1.120279194247164\n"
          ]
        }
      ]
    },
    {
      "cell_type": "code",
      "source": [
        "print(\"O grupo 04 é  ou não compatível com o grupo de 100:\",compatibilidade(array_GR04))"
      ],
      "metadata": {
        "colab": {
          "base_uri": "https://localhost:8080/"
        },
        "id": "iozWIxI-jx6h",
        "outputId": "f7003749-3d75-4a7f-9f32-69ffc3287c4e"
      },
      "execution_count": 56,
      "outputs": [
        {
          "output_type": "stream",
          "name": "stdout",
          "text": [
            "Compatível 0.18059238311429338 0.830599814972035 0.15000000000009095\n",
            "O grupo 04 é  ou não compatível com o grupo de 100: 0.18059238311429338\n"
          ]
        }
      ]
    },
    {
      "cell_type": "code",
      "source": [
        "print(\"O grupo 05 é  ou não compatível com o grupo de 100:\",compatibilidade(array_GR05))"
      ],
      "metadata": {
        "colab": {
          "base_uri": "https://localhost:8080/"
        },
        "id": "nBmPekpKj0i4",
        "outputId": "ff1af4a3-57e8-4407-f39d-e7750b6e02b0"
      },
      "execution_count": 57,
      "outputs": [
        {
          "output_type": "stream",
          "name": "stdout",
          "text": [
            "Compatível 0.14288946248448944 1.0497625044692127 0.14999999999997726\n",
            "O grupo 05 é  ou não compatível com o grupo de 100: 0.14288946248448944\n"
          ]
        }
      ]
    }
  ]
}