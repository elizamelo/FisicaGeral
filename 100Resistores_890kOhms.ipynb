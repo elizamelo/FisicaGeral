{
  "nbformat": 4,
  "nbformat_minor": 0,
  "metadata": {
    "colab": {
      "provenance": [],
      "include_colab_link": true
    },
    "kernelspec": {
      "name": "python3",
      "display_name": "Python 3"
    },
    "language_info": {
      "name": "python"
    }
  },
  "cells": [
    {
      "cell_type": "markdown",
      "metadata": {
        "id": "view-in-github",
        "colab_type": "text"
      },
      "source": [
        "<a href=\"https://colab.research.google.com/github/elizamelo/FisicaGeral/blob/main/100Resistores_890kOhms.ipynb\" target=\"_parent\"><img src=\"https://colab.research.google.com/assets/colab-badge.svg\" alt=\"Open In Colab\"/></a>"
      ]
    },
    {
      "cell_type": "code",
      "source": [
        "import numpy as np\n",
        "import pandas as pd\n",
        "import matplotlib as mpl\n",
        "import matplotlib.pyplot as plt\n",
        "import statistics\n",
        "from scipy import stats\n"
      ],
      "metadata": {
        "id": "vZWvanwjzWry"
      },
      "execution_count": null,
      "outputs": []
    },
    {
      "cell_type": "code",
      "source": [
        "#Valor nominal ou do fabricante\n",
        "R_ref= 890.0 #(kΩ)"
      ],
      "metadata": {
        "id": "V1wDKFSvr45a"
      },
      "execution_count": null,
      "outputs": []
    },
    {
      "cell_type": "code",
      "source": [
        "##Exemplo: Medidas dos 100 resistores de 890 ± 5% (kΩ)\n",
        "\n",
        "array_100 = [854,854,865,869,875,883,896,801,895,896,800,803,806,809,811,822,816,827,817,821,826,830,831,829,830,841,836,847,840,838,860,853,848,842,844,849,846,849,850,853,856,855,858,853,857,863,857,863,861,863,872,855,863,863,874,869,881,874,881,885,874,872,872,879,873,878,879,876,878,882,878,876,881,888,884,879,883,884,885,885,886,897,893,899,801,888,898,802,899,893,888,895,813,892,893,897,895,898,889,895]\n",
        "array_GR01 = [854,854,865,869,875,883,896,801,895,896,800,803,806,809,811,822,816,827,817,821] #(k ohms)\n",
        "array_GR02 = [826,830,831,829,830,841,836,847,840,838,860,853,848,842,844,849,846,849,850,853] #(k ohms)\n",
        "array_GR03 = [856,855,858,853,857,863,857,863,861,863,872,855,863,863,874,869,881,874,881,885] #(k ohms)\n",
        "array_GR04 = [874,872,872,879,873,878,879,876,878,882,878,876,881,888,884,879,883,884,885,885] #(k ohms)\n",
        "array_GR05 = [886,897,893,899,801,888,898,802,899,893,888,895,813,892,893,897,895,898,889,895] #(k ohms)\n"
      ],
      "metadata": {
        "id": "4zThAFfLD-R-"
      },
      "execution_count": null,
      "outputs": []
    },
    {
      "cell_type": "code",
      "source": [
        "def compatibilidade(grupo):\n",
        "  e100 = (np.std(array_100, ddof=0 ))/np.sqrt(len(array_100))\n",
        "  egrupo = (np.std(grupo, ddof=1 ))/np.sqrt(len(grupo))\n",
        "  ec = np.sqrt((e100*e100)+(egrupo*egrupo))\n",
        "  d = abs(np.mean(grupo)-np.mean(array_100))/ec\n",
        "  if d<=2.0:\n",
        "    print(\"Compatível\", d, ec, abs(np.mean(grupo)-np.mean(array_100)))\n",
        "  elif d > 2.0 and d < 3.0:\n",
        "    print(\"Inconclusivo\", d,ec, abs(np.mean(grupo)-np.mean(array_100)))\n",
        "  else:\n",
        "    print(\"Incompatível\", d,ec,abs(np.mean(grupo)-np.mean(array_100)))\n",
        "  return(d)"
      ],
      "metadata": {
        "id": "7rSzJmERsBxM"
      },
      "execution_count": null,
      "outputs": []
    },
    {
      "cell_type": "code",
      "source": [
        "def compatibilidadeRef(grupo):\n",
        "  e100 = (np.std(array_100, ddof=0 ))/np.sqrt(len(array_100))\n",
        "  #egrupo = (np.std(grupo, ddof=1 ))/np.sqrt(len(grupo))\n",
        "  #ec = np.sqrt((e100*e100)+(egrupo*egrupo))\n",
        "  d = abs(np.mean(grupo)-R_ref)/e100\n",
        "  if d<=2.0:\n",
        "    print(\"Compatível\", d, e100, abs(np.mean(grupo)-R_ref))\n",
        "  elif d > 2.0 and d < 3.0:\n",
        "    print(\"Inconclusivo\", d,e100, abs(np.mean(grupo)-R_ref))\n",
        "  else:\n",
        "    print(\"Incompatível\", d,e100,abs(np.mean(grupo)-R_ref))\n",
        "  return(d)"
      ],
      "metadata": {
        "id": "E2PsRo-7sCfo"
      },
      "execution_count": null,
      "outputs": []
    },
    {
      "cell_type": "markdown",
      "source": [
        "Conjunto completo de valores de resistências (100):"
      ],
      "metadata": {
        "id": "0QQwSiL5Bpu8"
      }
    },
    {
      "cell_type": "code",
      "source": [
        "\n",
        "amplitude_100=(np.max(array_100)-np.min(array_100))\n",
        "print ( \"Valor mínimo: {}\".format( np.min(array_100) ),\"(kΩ)\" )\n",
        "print ( \"Valor máximo: {}\".format( np.max(array_100) ) ,\"(kΩ)\")\n",
        "print ( \"Amplitude: {}\".format( amplitude_100 ) ,\"(kΩ)\")"
      ],
      "metadata": {
        "colab": {
          "base_uri": "https://localhost:8080/"
        },
        "id": "12KiyT_830-t",
        "outputId": "caa82e1a-c6de-4c3f-938e-d256da9e1eaa"
      },
      "execution_count": null,
      "outputs": [
        {
          "output_type": "stream",
          "name": "stdout",
          "text": [
            "Valor mínimo: 800 (kΩ)\n",
            "Valor máximo: 899 (kΩ)\n",
            "Amplitude: 99 (kΩ)\n"
          ]
        }
      ]
    },
    {
      "cell_type": "code",
      "source": [
        "#Calculo da média\n",
        "N100=len(array_100)\n",
        "media_100=(np.sum(array_100)/N100)\n",
        "vmin = np.min(array_100)\n",
        "vmax = np.max(array_100)\n",
        "print(\"média do conjunto de 100 resistores: {}\".format( (media_100)),\"(kΩ)\")"
      ],
      "metadata": {
        "colab": {
          "base_uri": "https://localhost:8080/"
        },
        "id": "NX9dbDns4oVi",
        "outputId": "bf13d232-a274-4845-9885-744d54e09668"
      },
      "execution_count": null,
      "outputs": [
        {
          "output_type": "stream",
          "name": "stdout",
          "text": [
            "média do conjunto de 100 resistores: 861.62 (kΩ)\n"
          ]
        }
      ]
    },
    {
      "cell_type": "code",
      "source": [
        "#Usando o NumPy\n",
        "np.mean( array_100 )"
      ],
      "metadata": {
        "colab": {
          "base_uri": "https://localhost:8080/"
        },
        "id": "1XWrWGGv4wLH",
        "outputId": "0e7d229e-f503-42de-cdd2-8e3db590182a"
      },
      "execution_count": null,
      "outputs": [
        {
          "output_type": "execute_result",
          "data": {
            "text/plain": [
              "861.62"
            ]
          },
          "metadata": {},
          "execution_count": 8
        }
      ]
    },
    {
      "cell_type": "code",
      "source": [
        "print(\"média do conjunto de 100 resistores: {}\".format(np.mean( array_100 )),\"(kΩ)\")\n",
        "\n"
      ],
      "metadata": {
        "colab": {
          "base_uri": "https://localhost:8080/"
        },
        "id": "chUe8w245giz",
        "outputId": "24af9f80-116a-433f-f3ab-f04e683789c3"
      },
      "execution_count": null,
      "outputs": [
        {
          "output_type": "stream",
          "name": "stdout",
          "text": [
            "média do conjunto de 100 resistores: 861.62 (kΩ)\n"
          ]
        }
      ]
    },
    {
      "cell_type": "code",
      "source": [
        "fig = plt.figure( figsize=(8,6) )\n",
        "\n",
        "counts, bins, _ = plt.hist( array_100, bins=21, range=[vmin,vmax])\n",
        "#plt.xlim( 15, 40 )\n",
        "plt.xlabel( \"Resistência (kΩ)\", fontsize=18 )\n",
        "plt.ylabel( \"Frequência\", fontsize=18 )\n",
        "plt.title('Histograma das resistências do Conjunto Completo de 100 Resistores', fontsize=12 )\n",
        "\n",
        "\n"
      ],
      "metadata": {
        "colab": {
          "base_uri": "https://localhost:8080/",
          "height": 592
        },
        "id": "GvQTxvWk49Y1",
        "outputId": "b4d56b67-a270-4370-f7c7-e6da42603d81"
      },
      "execution_count": null,
      "outputs": [
        {
          "output_type": "execute_result",
          "data": {
            "text/plain": [
              "Text(0.5, 1.0, 'Histograma das resistências do Conjunto Completo de 100 Resistores')"
            ]
          },
          "metadata": {},
          "execution_count": 10
        },
        {
          "output_type": "display_data",
          "data": {
            "text/plain": [
              "<Figure size 800x600 with 1 Axes>"
            ],
            "image/png": "[encoded data removed]"
          },
          "metadata": {}
        }
      ]
    },
    {
      "cell_type": "markdown",
      "source": [
        "Variância e desvio Padrão usando o NumPY:"
      ],
      "metadata": {
        "id": "1uPpK8My6aS7"
      }
    },
    {
      "cell_type": "code",
      "source": [
        "var_100 = np.var( array_100, ddof=0 )\n",
        "print ( \"Variância do conj. de 100 resistores: {}\".format(var_100),\"(k^2Ω)\" )\n",
        "print ( \"Desvio Padrao do conj. de 100 resistores: {}\".format(np.sqrt(var_100)),\"(kΩ)\" )\n",
        "sigma_m100 = np.std( array_100, ddof=0 )/np.sqrt(N100)\n",
        "print ( \"Erro da média do conj. de 100: {}\".format(np.std( array_100, ddof=1 )/np.sqrt(N100)),\"(kΩ)\" )"
      ],
      "metadata": {
        "colab": {
          "base_uri": "https://localhost:8080/"
        },
        "id": "JkLhW3PU4lkb",
        "outputId": "f9626b0f-78aa-405a-d0a1-a066ffde55d4"
      },
      "execution_count": null,
      "outputs": [
        {
          "output_type": "stream",
          "name": "stdout",
          "text": [
            "Variância do conj. de 100 resistores: 776.2156000000001 (k^2Ω)\n",
            "Desvio Padrao do conj. de 100 resistores: 27.860646080089385 (kΩ)\n",
            "Erro da média do conj. de 100: 2.8001002868043168 (kΩ)\n"
          ]
        }
      ]
    },
    {
      "cell_type": "markdown",
      "source": [
        "Estimativa Padrão dos 100 resistores:"
      ],
      "metadata": {
        "id": "9KD_tjHqIg4d"
      }
    },
    {
      "cell_type": "code",
      "source": [
        "print ( \"R100 = {:.0f} ± {:.0f} (kΩ)\".format( np.round( np.mean( array_100 ), 0 ), np.round( sigma_m100, 0 ) ) )\n"
      ],
      "metadata": {
        "colab": {
          "base_uri": "https://localhost:8080/"
        },
        "id": "msPvhaqEImAO",
        "outputId": "86f6b3aa-0e95-4055-890d-130c6a0c28a6"
      },
      "execution_count": null,
      "outputs": [
        {
          "output_type": "stream",
          "name": "stdout",
          "text": [
            "R100 = 862 ± 3 (kΩ)\n"
          ]
        }
      ]
    },
    {
      "cell_type": "markdown",
      "source": [
        "Grupo 01 de valores de resistências:"
      ],
      "metadata": {
        "id": "gUJI8Lu67Ma5"
      }
    },
    {
      "cell_type": "code",
      "source": [
        "amplitude_GR01=(np.max(array_GR01)-np.min(array_GR01))\n",
        "print ( \"Valor mínimo: {}\".format( np.min(array_GR01) ),\"(kΩ)\" )\n",
        "print ( \"Valor máximo: {}\".format( np.max(array_GR01) ),\"(kΩ)\" )\n",
        "print ( \"Amplitude: {}\".format( amplitude_GR01 ) ,\"(kΩ)\")"
      ],
      "metadata": {
        "colab": {
          "base_uri": "https://localhost:8080/"
        },
        "id": "L2AHiMPx7LL2",
        "outputId": "3de1e7b3-78cc-4858-ffc2-2ffbaf24c0bf"
      },
      "execution_count": null,
      "outputs": [
        {
          "output_type": "stream",
          "name": "stdout",
          "text": [
            "Valor mínimo: 800 (kΩ)\n",
            "Valor máximo: 896 (kΩ)\n",
            "Amplitude: 96 (kΩ)\n"
          ]
        }
      ]
    },
    {
      "cell_type": "code",
      "source": [
        "#Usando o NumPy\n",
        "np.mean( array_GR01 )"
      ],
      "metadata": {
        "colab": {
          "base_uri": "https://localhost:8080/"
        },
        "id": "z7lxEJzD8h-J",
        "outputId": "f4e97d85-d155-4c30-e234-4d89d9e04506"
      },
      "execution_count": null,
      "outputs": [
        {
          "output_type": "execute_result",
          "data": {
            "text/plain": [
              "841.0"
            ]
          },
          "metadata": {},
          "execution_count": 14
        }
      ]
    },
    {
      "cell_type": "code",
      "source": [
        "#Calculo da média\n",
        "N1_20=len(array_GR01)\n",
        "media_GR01=(np.sum(array_GR01)/N1_20)\n",
        "vmin = np.min(array_GR01)\n",
        "vmax = np.max(array_GR01)\n",
        "\n",
        "print(\"média do conjunto de 20 resistores do Grupo 01: {}\".format( (media_GR01)),\"(kΩ)\")"
      ],
      "metadata": {
        "colab": {
          "base_uri": "https://localhost:8080/"
        },
        "id": "3k2WDajh7dIr",
        "outputId": "6cbcc0d8-4bb3-40fa-fc06-720f0ca1a297"
      },
      "execution_count": null,
      "outputs": [
        {
          "output_type": "stream",
          "name": "stdout",
          "text": [
            "média do conjunto de 20 resistores do Grupo 01: 841.0 (kΩ)\n"
          ]
        }
      ]
    },
    {
      "cell_type": "code",
      "source": [
        "fig = plt.figure( figsize=(8,6) )\n",
        "\n",
        "counts, bins, _ = plt.hist( array_GR01, bins=21, range=[vmin,vmax])\n",
        "#plt.xlim( 15, 40 )\n",
        "plt.xlabel( \"Resistência (kΩ)\", fontsize=18 )\n",
        "plt.ylabel( \"Frequência\", fontsize=18 )\n",
        "plt.title('Histograma das resistências do Grupo 01 de 20 Resistores', fontsize=12 )\n"
      ],
      "metadata": {
        "colab": {
          "base_uri": "https://localhost:8080/",
          "height": 592
        },
        "id": "iokbp7I884l0",
        "outputId": "79d49a3b-7f44-4262-8f5e-0d28f01d6e21"
      },
      "execution_count": null,
      "outputs": [
        {
          "output_type": "execute_result",
          "data": {
            "text/plain": [
              "Text(0.5, 1.0, 'Histograma das resistências do Grupo 01 de 20 Resistores')"
            ]
          },
          "metadata": {},
          "execution_count": 16
        },
        {
          "output_type": "display_data",
          "data": {
            "text/plain": [
              "<Figure size 800x600 with 1 Axes>"
            ],
            "image/png": "[encoded data removed]"
          },
          "metadata": {}
        }
      ]
    },
    {
      "cell_type": "code",
      "source": [
        "var_gr1 = np.var( array_GR01, ddof=0 )\n",
        "print ( \"Variância do Grupo 01: {}\".format(var_gr1), \"(k^2Ω)\" )\n",
        "print ( \"Desvio Padrao do do Grupo 01: {}\".format(np.sqrt(var_gr1)),\"(kΩ)\" )\n",
        "sigma_m1 = np.std( array_GR01, ddof=1 )/np.sqrt(N1_20)\n",
        "print ( \"Erro da média do Grupo 01: {}\".format(np.std( array_GR01, ddof=1 )/np.sqrt(N1_20)),\"(kΩ)\" )"
      ],
      "metadata": {
        "colab": {
          "base_uri": "https://localhost:8080/"
        },
        "id": "ed9bvU1o9hKV",
        "outputId": "8c91bd44-293e-4485-857a-68b4c1fdd101"
      },
      "execution_count": null,
      "outputs": [
        {
          "output_type": "stream",
          "name": "stdout",
          "text": [
            "Variância do Grupo 01: 1180.8 (k^2Ω)\n",
            "Desvio Padrao do do Grupo 01: 34.36277055186325 (kΩ)\n",
            "Erro da média do Grupo 01: 7.883360223981436 (kΩ)\n"
          ]
        }
      ]
    },
    {
      "cell_type": "markdown",
      "source": [
        "Estimativa Padrão GR01:"
      ],
      "metadata": {
        "id": "VY9oBKm0IYoR"
      }
    },
    {
      "cell_type": "code",
      "source": [
        "print ( \"R1 = {:.0f} ± {:.0f} (kΩ)\".format( np.round( np.mean( array_GR01 ), 0 ), np.round( sigma_m1, 0 ) ) )\n"
      ],
      "metadata": {
        "colab": {
          "base_uri": "https://localhost:8080/"
        },
        "id": "FheedpkHIbYu",
        "outputId": "a58eec30-c3a3-4e32-dcc8-6361074effba"
      },
      "execution_count": null,
      "outputs": [
        {
          "output_type": "stream",
          "name": "stdout",
          "text": [
            "R1 = 841 ± 8 (kΩ)\n"
          ]
        }
      ]
    },
    {
      "cell_type": "markdown",
      "source": [
        "Grupo 02 de valores de resistências:"
      ],
      "metadata": {
        "id": "RDM1ZLtm-BmV"
      }
    },
    {
      "cell_type": "code",
      "source": [
        "#Calculo da média\n",
        "N2_20=len(array_GR02)\n",
        "media_GR02=(np.sum(array_GR02)/N2_20)\n",
        "vmin = np.min(array_GR02)\n",
        "vmax = np.max(array_GR02)\n",
        "amplitude_GR02=(np.max(array_GR02)-np.min(array_GR02))\n",
        "print ( \"Valor mínimo: {}\".format( np.min(array_GR02) ),\"(kΩ)\" )\n",
        "print ( \"Valor máximo: {}\".format( np.max(array_GR02) ),\"(kΩ)\" )\n",
        "print ( \"Amplitude: {}\".format( amplitude_GR02 ) ,\"(kΩ)\")\n",
        "print(\"média do conjunto de 20 resistores do Grupo 02: {}\".format( (media_GR02)),\"(kΩ)\")"
      ],
      "metadata": {
        "colab": {
          "base_uri": "https://localhost:8080/"
        },
        "id": "4R6g1PYp8LXO",
        "outputId": "a2d90fae-3608-40bc-89d2-51498b1d142c"
      },
      "execution_count": null,
      "outputs": [
        {
          "output_type": "stream",
          "name": "stdout",
          "text": [
            "Valor mínimo: 826 (kΩ)\n",
            "Valor máximo: 860 (kΩ)\n",
            "Amplitude: 34 (kΩ)\n",
            "média do conjunto de 20 resistores do Grupo 02: 842.1 (kΩ)\n"
          ]
        }
      ]
    },
    {
      "cell_type": "code",
      "source": [
        "#Usando o NumPy\n",
        "np.mean( array_GR02 )"
      ],
      "metadata": {
        "colab": {
          "base_uri": "https://localhost:8080/"
        },
        "id": "2Pr-W242744A",
        "outputId": "3917ca34-ec7c-40a8-a87a-5a93bbd000be"
      },
      "execution_count": null,
      "outputs": [
        {
          "output_type": "execute_result",
          "data": {
            "text/plain": [
              "842.1"
            ]
          },
          "metadata": {},
          "execution_count": 20
        }
      ]
    },
    {
      "cell_type": "code",
      "source": [
        "fig = plt.figure( figsize=(8,6) )\n",
        "\n",
        "counts, bins, _ = plt.hist( array_GR02, bins=21, range=[vmin,vmax])\n",
        "#plt.xlim( 15, 40 )\n",
        "plt.xlabel( \"Resistência (kΩ)\", fontsize=18 )\n",
        "plt.ylabel( \"Frequência\", fontsize=18 )\n",
        "plt.title('Histograma das resistências do Grupo 02 de 20 Resistores', fontsize=12 )\n"
      ],
      "metadata": {
        "colab": {
          "base_uri": "https://localhost:8080/",
          "height": 592
        },
        "id": "SCprkcBR9OHN",
        "outputId": "45270abc-a3eb-4d56-c802-e3454b599cfa"
      },
      "execution_count": null,
      "outputs": [
        {
          "output_type": "execute_result",
          "data": {
            "text/plain": [
              "Text(0.5, 1.0, 'Histograma das resistências do Grupo 02 de 20 Resistores')"
            ]
          },
          "metadata": {},
          "execution_count": 21
        },
        {
          "output_type": "display_data",
          "data": {
            "text/plain": [
              "<Figure size 800x600 with 1 Axes>"
            ],
            "image/png": "[encoded data removed]"
          },
          "metadata": {}
        }
      ]
    },
    {
      "cell_type": "code",
      "source": [
        "var_gr2 = np.var( array_GR02, ddof=0 )\n",
        "print ( \"Variância do Grupo 02: {}\".format(var_gr2), \"(k^2Ω)\" )\n",
        "print ( \"Desvio Padrao do do Grupo 02: {}\".format(np.sqrt(var_gr2)),\"(kΩ)\" )\n",
        "sigma_m2 = np.std( array_GR02, ddof=1 )/np.sqrt(N2_20)\n",
        "print ( \"Erro da média do Grupo 02: {}\".format(np.std( array_GR02, ddof=1 )/np.sqrt(N2_20)),\"(kΩ)\" )"
      ],
      "metadata": {
        "colab": {
          "base_uri": "https://localhost:8080/"
        },
        "id": "7ePQjySA-Jhv",
        "outputId": "649f5e37-e847-43ca-e36c-0d7dc77ac34a"
      },
      "execution_count": null,
      "outputs": [
        {
          "output_type": "stream",
          "name": "stdout",
          "text": [
            "Variância do Grupo 02: 84.98999999999998 (k^2Ω)\n",
            "Desvio Padrao do do Grupo 02: 9.219002115196632 (kΩ)\n",
            "Erro da média do Grupo 02: 2.1149841358120964 (kΩ)\n"
          ]
        }
      ]
    },
    {
      "cell_type": "markdown",
      "source": [
        "Estimativa Padrão GR02:"
      ],
      "metadata": {
        "id": "rLtZNAC9IM5E"
      }
    },
    {
      "cell_type": "code",
      "source": [
        "print ( \"R2 = {:.0f} ± {:.0f} (kΩ)\".format( np.round( np.mean( array_GR02 ), 0 ), np.round( sigma_m2, 0 ) ) )\n"
      ],
      "metadata": {
        "colab": {
          "base_uri": "https://localhost:8080/"
        },
        "id": "CEv0mmY_IML8",
        "outputId": "5f7da692-7280-4b9f-ead3-be96e1731767"
      },
      "execution_count": null,
      "outputs": [
        {
          "output_type": "stream",
          "name": "stdout",
          "text": [
            "R2 = 842 ± 2 (kΩ)\n"
          ]
        }
      ]
    },
    {
      "cell_type": "markdown",
      "source": [
        "Grupo 03 de valores de resistências:"
      ],
      "metadata": {
        "id": "4WFO_cs--ZZc"
      }
    },
    {
      "cell_type": "code",
      "source": [
        "#Calculo da média\n",
        "N3_20=len(array_GR03)\n",
        "media_GR03=(np.sum(array_GR03)/N3_20)\n",
        "vmin = np.min(array_GR03)\n",
        "vmax = np.max(array_GR03)\n",
        "amplitude_GR03=(np.max(array_GR03)-np.min(array_GR03))\n",
        "print ( \"Valor mínimo: {}\".format( np.min(array_GR03) ),\"(kΩ)\")\n",
        "print ( \"Valor máximo: {}\".format( np.max(array_GR03) ) ,\"(kΩ)\")\n",
        "print ( \"Amplitude: {}\".format( amplitude_GR03 ),\"(kΩ)\" )\n",
        "print(\"média do conjunto de 20 resistores do Grupo 03: {}\".format( (media_GR03)),\"(kΩ)\")"
      ],
      "metadata": {
        "colab": {
          "base_uri": "https://localhost:8080/"
        },
        "id": "WvMuO5Gk-YjT",
        "outputId": "c619c8d8-7d5a-41b1-f869-8fd04e554d3a"
      },
      "execution_count": null,
      "outputs": [
        {
          "output_type": "stream",
          "name": "stdout",
          "text": [
            "Valor mínimo: 853 (kΩ)\n",
            "Valor máximo: 885 (kΩ)\n",
            "Amplitude: 32 (kΩ)\n",
            "média do conjunto de 20 resistores do Grupo 03: 865.15 (kΩ)\n"
          ]
        }
      ]
    },
    {
      "cell_type": "code",
      "source": [
        "#Usando o NumPy\n",
        "np.mean( array_GR03 )"
      ],
      "metadata": {
        "colab": {
          "base_uri": "https://localhost:8080/"
        },
        "id": "js6kGJD8-4NK",
        "outputId": "e18eaeeb-9e03-4885-8edd-efb142fba0e8"
      },
      "execution_count": null,
      "outputs": [
        {
          "output_type": "execute_result",
          "data": {
            "text/plain": [
              "865.15"
            ]
          },
          "metadata": {},
          "execution_count": 25
        }
      ]
    },
    {
      "cell_type": "code",
      "source": [
        "fig = plt.figure( figsize=(8,6) )\n",
        "\n",
        "counts, bins, _ = plt.hist( array_GR03, bins=21, range=[vmin,vmax])\n",
        "#plt.xlim( 15, 40 )\n",
        "plt.xlabel( \"Resistência (kΩ)\", fontsize=18 )\n",
        "plt.ylabel( \"Frequência\", fontsize=18 )\n",
        "plt.title('Histograma das resistências do Grupo 03 de 20 Resistores', fontsize=12 )\n"
      ],
      "metadata": {
        "colab": {
          "base_uri": "https://localhost:8080/",
          "height": 592
        },
        "id": "mDzq1mq__mNv",
        "outputId": "61e52020-9952-407c-e92b-f4437ee1e5e9"
      },
      "execution_count": null,
      "outputs": [
        {
          "output_type": "execute_result",
          "data": {
            "text/plain": [
              "Text(0.5, 1.0, 'Histograma das resistências do Grupo 03 de 20 Resistores')"
            ]
          },
          "metadata": {},
          "execution_count": 26
        },
        {
          "output_type": "display_data",
          "data": {
            "text/plain": [
              "<Figure size 800x600 with 1 Axes>"
            ],
            "image/png": "[encoded data removed]"
          },
          "metadata": {}
        }
      ]
    },
    {
      "cell_type": "code",
      "source": [
        "var_gr3 = np.var( array_GR03, ddof=0 )\n",
        "print ( \"Variância do Grupo 03: {}\".format(var_gr3), \"(k^2Ω)\" )\n",
        "print ( \"Desvio Padrao do do Grupo 03: {}\".format(np.sqrt(var_gr3)),\"(kΩ)\" )\n",
        "sigma_m3 = np.std( array_GR03, ddof=1 )/np.sqrt(N3_20)\n",
        "print ( \"Erro da média do Grupo 03: {}\".format(np.std( array_GR03, ddof=1 )/np.sqrt(N3_20)),\"(kΩ)\" )"
      ],
      "metadata": {
        "colab": {
          "base_uri": "https://localhost:8080/"
        },
        "id": "7F6LaehY_uSe",
        "outputId": "63503c89-9eb0-42bd-9f3a-5085cd62898a"
      },
      "execution_count": null,
      "outputs": [
        {
          "output_type": "stream",
          "name": "stdout",
          "text": [
            "Variância do Grupo 03: 88.8275 (k^2Ω)\n",
            "Desvio Padrao do do Grupo 03: 9.424834216048577 (kΩ)\n",
            "Erro da média do Grupo 03: 2.162205258283165 (kΩ)\n"
          ]
        }
      ]
    },
    {
      "cell_type": "markdown",
      "source": [
        "Estimativa Padrão GR03:"
      ],
      "metadata": {
        "id": "rpkKz3I1IBqM"
      }
    },
    {
      "cell_type": "code",
      "source": [
        "print ( \"R3 = {:.0f} ± {:.0f} (kΩ)\".format( np.round( np.mean( array_GR03 ), 1 ), np.round( sigma_m3, 1 ) ) )\n"
      ],
      "metadata": {
        "colab": {
          "base_uri": "https://localhost:8080/"
        },
        "id": "-5YjoqQ5IFnT",
        "outputId": "afc95b1e-0b55-4311-ba8e-ad99b32e0fe1"
      },
      "execution_count": null,
      "outputs": [
        {
          "output_type": "stream",
          "name": "stdout",
          "text": [
            "R3 = 865 ± 2 (kΩ)\n"
          ]
        }
      ]
    },
    {
      "cell_type": "markdown",
      "source": [
        "Grupo 04 de valores de resistências:"
      ],
      "metadata": {
        "id": "g-nT1Lv0BQCd"
      }
    },
    {
      "cell_type": "code",
      "source": [
        "#Calculo da média\n",
        "N4_20=len(array_GR04)\n",
        "media_GR04=(np.sum(array_GR04)/N4_20)\n",
        "vmin = np.min(array_GR04)\n",
        "vmax = np.max(array_GR04)\n",
        "amplitude_GR04=(np.max(array_GR04)-np.min(array_GR04))\n",
        "print ( \"Valor mínimo: {}\".format( np.min(array_GR04) ),\"(kΩ)\")\n",
        "print ( \"Valor máximo: {}\".format( np.max(array_GR04) ) ,\"(kΩ)\")\n",
        "print ( \"Amplitude: {}\".format( amplitude_GR04 ),\"(kΩ)\" )\n",
        "print(\"média do conjunto de 20 resistências do Grupo 04: {}\".format( (media_GR04)),\"(kΩ)\")"
      ],
      "metadata": {
        "colab": {
          "base_uri": "https://localhost:8080/"
        },
        "id": "A_1GW6yeByQ_",
        "outputId": "512d8866-2019-4e4b-c4ca-a40ef13538f5"
      },
      "execution_count": null,
      "outputs": [
        {
          "output_type": "stream",
          "name": "stdout",
          "text": [
            "Valor mínimo: 872 (kΩ)\n",
            "Valor máximo: 888 (kΩ)\n",
            "Amplitude: 16 (kΩ)\n",
            "média do conjunto de 20 resistências do Grupo 04: 879.3 (kΩ)\n"
          ]
        }
      ]
    },
    {
      "cell_type": "code",
      "source": [
        "#Usando o NumPy\n",
        "np.mean( array_GR04 )"
      ],
      "metadata": {
        "colab": {
          "base_uri": "https://localhost:8080/"
        },
        "id": "3tAVNm99Byll",
        "outputId": "58ec2cfa-95a0-46a6-a3d5-87fd1aa04568"
      },
      "execution_count": null,
      "outputs": [
        {
          "output_type": "execute_result",
          "data": {
            "text/plain": [
              "879.3"
            ]
          },
          "metadata": {},
          "execution_count": 30
        }
      ]
    },
    {
      "cell_type": "code",
      "source": [
        "fig = plt.figure( figsize=(8,6) )\n",
        "\n",
        "counts, bins, _ = plt.hist( array_GR04, bins=21, range=[vmin,vmax])\n",
        "#plt.xlim( 15, 40 )\n",
        "plt.xlabel( \"Resistência (kΩ)\", fontsize=18 )\n",
        "plt.ylabel( \"Frequência\", fontsize=18 )\n",
        "plt.title('Histograma das resistências do Grupo 04 de 20 Resistores', fontsize=12 )\n"
      ],
      "metadata": {
        "colab": {
          "base_uri": "https://localhost:8080/",
          "height": 592
        },
        "id": "ObccGQYYCJDl",
        "outputId": "350fc67d-3c1e-443e-d205-a6ef81f51f1a"
      },
      "execution_count": null,
      "outputs": [
        {
          "output_type": "execute_result",
          "data": {
            "text/plain": [
              "Text(0.5, 1.0, 'Histograma das resistências do Grupo 04 de 20 Resistores')"
            ]
          },
          "metadata": {},
          "execution_count": 31
        },
        {
          "output_type": "display_data",
          "data": {
            "text/plain": [
              "<Figure size 800x600 with 1 Axes>"
            ],
            "image/png": "[encoded data removed]"
          },
          "metadata": {}
        }
      ]
    },
    {
      "cell_type": "code",
      "source": [
        "var_gr4 = np.var( array_GR04, ddof=0 )\n",
        "print ( \"Variância do Grupo 04: {}\".format(var_gr4), \"(k^2Ω)\" )\n",
        "print ( \"Desvio Padrao do do Grupo 04: {}\".format(np.sqrt(var_gr4)),\"(kΩ)\" )\n",
        "sigma_m4 = np.std( array_GR04, ddof=1 )/np.sqrt(N4_20)\n",
        "print ( \"Erro da média do Grupo 04: {}\".format(np.std( array_GR04, ddof=1 )/np.sqrt(N4_20)),\"(kΩ)\" )"
      ],
      "metadata": {
        "colab": {
          "base_uri": "https://localhost:8080/"
        },
        "id": "owXv6yuTCVKu",
        "outputId": "c115125f-3f87-46ad-944c-92e1c194f517"
      },
      "execution_count": null,
      "outputs": [
        {
          "output_type": "stream",
          "name": "stdout",
          "text": [
            "Variância do Grupo 04: 20.51 (k^2Ω)\n",
            "Desvio Padrao do do Grupo 04: 4.528796749689701 (kΩ)\n",
            "Erro da média do Grupo 04: 1.0389772298806776 (kΩ)\n"
          ]
        }
      ]
    },
    {
      "cell_type": "markdown",
      "source": [
        "Estimativa Padrão GR04:"
      ],
      "metadata": {
        "id": "5FZWw7mmH7ac"
      }
    },
    {
      "cell_type": "code",
      "source": [
        "print ( \"R4 = {:.0f} ± {:.0f} (kΩ)\".format( np.round( np.mean( array_GR04 ), 1 ), np.round( sigma_m4, 1 ) ) )\n"
      ],
      "metadata": {
        "colab": {
          "base_uri": "https://localhost:8080/"
        },
        "id": "3dY4Lvl4HzT7",
        "outputId": "45cb97bc-a2d1-482c-cb7c-95fe9e247c64"
      },
      "execution_count": null,
      "outputs": [
        {
          "output_type": "stream",
          "name": "stdout",
          "text": [
            "R4 = 879 ± 1 (kΩ)\n"
          ]
        }
      ]
    },
    {
      "cell_type": "markdown",
      "source": [
        "Grupo 05 de valores de resistências:\n"
      ],
      "metadata": {
        "id": "iBI34d-wCjOB"
      }
    },
    {
      "cell_type": "code",
      "source": [
        "#Calculo da média\n",
        "N5_20=len(array_GR05)\n",
        "media_GR05=(np.sum(array_GR05)/N5_20)\n",
        "vmin = np.min(array_GR05)\n",
        "vmax = np.max(array_GR05)\n",
        "amplitude_GR05=(np.max(array_GR05)-np.min(array_GR05))\n",
        "print ( \"Valor mínimo: {}\".format( np.min(array_GR05) ),\"(kΩ)\")\n",
        "print ( \"Valor máximo: {}\".format( np.max(array_GR05) ) ,\"(kΩ)\")\n",
        "print ( \"Amplitude: {}\".format( amplitude_GR05 ),\"(kΩ)\" )\n",
        "print(\"média do conjunto de 20 resistências do Grupo 05: {}\".format( (media_GR05)),\"(kΩ)\")"
      ],
      "metadata": {
        "colab": {
          "base_uri": "https://localhost:8080/"
        },
        "id": "8S7RGXo7CbzD",
        "outputId": "2fe9ddca-9721-43ac-d19e-1983bfe2d406"
      },
      "execution_count": null,
      "outputs": [
        {
          "output_type": "stream",
          "name": "stdout",
          "text": [
            "Valor mínimo: 801 (kΩ)\n",
            "Valor máximo: 899 (kΩ)\n",
            "Amplitude: 98 (kΩ)\n",
            "média do conjunto de 20 resistências do Grupo 05: 880.55 (kΩ)\n"
          ]
        }
      ]
    },
    {
      "cell_type": "code",
      "source": [
        "#Usando o NumPy\n",
        "np.mean( array_GR05 )"
      ],
      "metadata": {
        "colab": {
          "base_uri": "https://localhost:8080/"
        },
        "id": "FBrXEDBVC-9-",
        "outputId": "e906b93a-c192-4679-8881-b1e2f49742b9"
      },
      "execution_count": null,
      "outputs": [
        {
          "output_type": "execute_result",
          "data": {
            "text/plain": [
              "880.55"
            ]
          },
          "metadata": {},
          "execution_count": 35
        }
      ]
    },
    {
      "cell_type": "code",
      "source": [
        "fig = plt.figure( figsize=(8,6) )\n",
        "\n",
        "counts, bins, _ = plt.hist( array_GR05, bins=21, range=[vmin,vmax])\n",
        "#plt.xlim( 15, 40 )\n",
        "plt.xlabel( \"Resistência (kΩ)\", fontsize=18 )\n",
        "plt.ylabel( \"Frequência\", fontsize=18 )\n",
        "plt.title('Histograma das resistências do Grupo 05 de 20 Resistores', fontsize=12 )"
      ],
      "metadata": {
        "colab": {
          "base_uri": "https://localhost:8080/",
          "height": 592
        },
        "id": "zeF73imBDDkc",
        "outputId": "b4ae54e4-8819-4822-b2ca-c052c87c692e"
      },
      "execution_count": null,
      "outputs": [
        {
          "output_type": "execute_result",
          "data": {
            "text/plain": [
              "Text(0.5, 1.0, 'Histograma das resistências do Grupo 05 de 20 Resistores')"
            ]
          },
          "metadata": {},
          "execution_count": 36
        },
        {
          "output_type": "display_data",
          "data": {
            "text/plain": [
              "<Figure size 800x600 with 1 Axes>"
            ],
            "image/png": "[encoded data removed]"
          },
          "metadata": {}
        }
      ]
    },
    {
      "cell_type": "code",
      "source": [
        "var_gr5 = np.var( array_GR05, ddof=1 )\n",
        "print ( \"Variância do Grupo 05: {}\".format(var_gr5), \"(k^2Ω)\" )\n",
        "print ( \"Desvio Padrao do do Grupo 05: {}\".format(np.sqrt(var_gr5)),\"(kΩ)\" )\n",
        "sigma_m5 = np.std( array_GR05, ddof=1 )/np.sqrt(N5_20)\n",
        "print ( \"Erro da média do Grupo 05: {}\".format(np.std( array_GR05, ddof=1 )/np.sqrt(N5_20)),\"(kΩ)\" )"
      ],
      "metadata": {
        "colab": {
          "base_uri": "https://localhost:8080/"
        },
        "id": "EmL-E19YENJ2",
        "outputId": "cddb8836-d885-4e6d-b76a-02fa3f3f4e51"
      },
      "execution_count": null,
      "outputs": [
        {
          "output_type": "stream",
          "name": "stdout",
          "text": [
            "Variância do Grupo 05: 1069.8394736842106 (k^2Ω)\n",
            "Desvio Padrao do do Grupo 05: 32.70840065922225 (kΩ)\n",
            "Erro da média do Grupo 05: 7.313820730931988 (kΩ)\n"
          ]
        }
      ]
    },
    {
      "cell_type": "markdown",
      "source": [
        "Estimativa Padrão GR05:\n"
      ],
      "metadata": {
        "id": "Yp9HhY_mHVrT"
      }
    },
    {
      "cell_type": "code",
      "source": [
        "print ( \"R5 = {:.0f} ± {:.0f} (kΩ)\".format( np.round( np.mean( array_GR05 ), 1 ), np.round( sigma_m5, 1 ) ) )\n"
      ],
      "metadata": {
        "colab": {
          "base_uri": "https://localhost:8080/"
        },
        "id": "qOaQKay7FqAY",
        "outputId": "decf98b5-4f1b-48bd-b7ba-355d65cc1f90"
      },
      "execution_count": null,
      "outputs": [
        {
          "output_type": "stream",
          "name": "stdout",
          "text": [
            "R5 = 881 ± 7 (kΩ)\n"
          ]
        }
      ]
    },
    {
      "cell_type": "markdown",
      "source": [
        "Média das Médias:"
      ],
      "metadata": {
        "id": "g6BUml-nJTBR"
      }
    },
    {
      "cell_type": "code",
      "source": [
        "array_GRM = [np.mean( array_GR01 ),np.mean( array_GR02 ),np.mean( array_GR03 ),np.mean( array_GR04),np.mean( array_GR05)] #kΩ"
      ],
      "metadata": {
        "id": "DQmfYQPuJRDd"
      },
      "execution_count": null,
      "outputs": []
    },
    {
      "cell_type": "code",
      "source": [
        "N=len(array_GRM)\n",
        "media_GRM=(np.sum(array_GRM)/N)\n",
        "vmin = np.min(array_GRM)\n",
        "vmax = np.max(array_GRM)\n",
        "amplitude_GRM=(np.max(array_GRM)-np.min(array_GRM))\n",
        "print ( \"Valor mínimo: {}\".format( np.min(array_GRM) ),\"(kΩ)\")\n",
        "print ( \"Valor máximo: {}\".format( np.max(array_GRM) ) ,\"(kΩ)\")\n",
        "print ( \"Amplitude: {}\".format( amplitude_GRM ),\"(kΩ)\" )\n",
        "print(\"média do conjunto das médias das resistências: {}\".format( (media_GRM)),\"(kΩ)\")"
      ],
      "metadata": {
        "colab": {
          "base_uri": "https://localhost:8080/"
        },
        "id": "d8JBQ_57JrWB",
        "outputId": "ba5c7044-fdcf-4dfa-b50c-29aa00aeddce"
      },
      "execution_count": null,
      "outputs": [
        {
          "output_type": "stream",
          "name": "stdout",
          "text": [
            "Valor mínimo: 841.0 (kΩ)\n",
            "Valor máximo: 880.55 (kΩ)\n",
            "Amplitude: 39.549999999999955 (kΩ)\n",
            "média do conjunto das médias das resistências: 861.6200000000001 (kΩ)\n"
          ]
        }
      ]
    },
    {
      "cell_type": "code",
      "source": [
        "#Usando o NumPy\n",
        "np.mean( array_GRM )"
      ],
      "metadata": {
        "colab": {
          "base_uri": "https://localhost:8080/"
        },
        "id": "EVqLEW9MKBOl",
        "outputId": "7541ccbc-b989-412b-bbeb-84b58248e846"
      },
      "execution_count": null,
      "outputs": [
        {
          "output_type": "execute_result",
          "data": {
            "text/plain": [
              "861.6200000000001"
            ]
          },
          "metadata": {},
          "execution_count": 41
        }
      ]
    },
    {
      "cell_type": "code",
      "source": [
        "fig = plt.figure( figsize=(8,6) )\n",
        "\n",
        "counts, bins, _ = plt.hist( array_GRM, bins=21, range=[vmin,vmax])\n",
        "#plt.xlim( 15, 40 )\n",
        "plt.xlabel( \"Resistência (kΩ)\", fontsize=18 )\n",
        "plt.ylabel( \"Frequência\", fontsize=18 )\n",
        "plt.title('Histograma das resistências do grupo das médias', fontsize=12 )"
      ],
      "metadata": {
        "colab": {
          "base_uri": "https://localhost:8080/",
          "height": 592
        },
        "id": "T5IMIXaKKFv6",
        "outputId": "02eafd5a-d94c-48db-dd44-390a92fe9225"
      },
      "execution_count": null,
      "outputs": [
        {
          "output_type": "execute_result",
          "data": {
            "text/plain": [
              "Text(0.5, 1.0, 'Histograma das resistências do grupo das médias')"
            ]
          },
          "metadata": {},
          "execution_count": 42
        },
        {
          "output_type": "display_data",
          "data": {
            "text/plain": [
              "<Figure size 800x600 with 1 Axes>"
            ],
            "image/png": "[encoded data removed]"
          },
          "metadata": {}
        }
      ]
    },
    {
      "cell_type": "code",
      "source": [
        "var_grm = np.var( array_GRM, ddof=1 )\n",
        "print ( \"Variância do Grupo das médias: {}\".format(var_grm), \"(k^2Ω)\" )\n",
        "print ( \"Desvio Padrao do do Grupo das médias: {}\".format(np.sqrt(var_grm)),\"(kΩ)\" )\n",
        "sigma_m = np.std( array_GRM, ddof=1 )/np.sqrt(N)\n",
        "print ( \"Erro da média do Grupo das médias: {}\".format(np.std( array_GRM, ddof=1 )/np.sqrt(N)),\"(kΩ)\" )"
      ],
      "metadata": {
        "colab": {
          "base_uri": "https://localhost:8080/"
        },
        "id": "okn9_8NxK8p_",
        "outputId": "5d95a35e-b9e3-46ce-8a6f-f702dea70c1d"
      },
      "execution_count": null,
      "outputs": [
        {
          "output_type": "stream",
          "name": "stdout",
          "text": [
            "Variância do Grupo das médias: 372.4007499999989 (k^2Ω)\n",
            "Desvio Padrao do do Grupo das médias: 19.297687685316053 (kΩ)\n",
            "Erro da média do Grupo das médias: 8.630188294585452 (kΩ)\n"
          ]
        }
      ]
    },
    {
      "cell_type": "markdown",
      "source": [
        "Estimativa padrão do grupo das médias:"
      ],
      "metadata": {
        "id": "enmXcz_QLQ8z"
      }
    },
    {
      "cell_type": "code",
      "source": [
        "print ( \"RM = {:.0f} ± {:.0f} (kΩ)\".format( np.round( np.mean( array_GRM ), 1 ), np.round( sigma_m, 1 ) ) )\n"
      ],
      "metadata": {
        "colab": {
          "base_uri": "https://localhost:8080/"
        },
        "id": "M7x6fzbaLP6V",
        "outputId": "14852cf6-6555-432e-b789-c4fedadd95e1"
      },
      "execution_count": null,
      "outputs": [
        {
          "output_type": "stream",
          "name": "stdout",
          "text": [
            "RM = 862 ± 9 (kΩ)\n"
          ]
        }
      ]
    },
    {
      "cell_type": "markdown",
      "source": [
        "Desvio Padrão do conjunto com 100 resistores:\n"
      ],
      "metadata": {
        "id": "YvGHv4KlDPxf"
      }
    },
    {
      "cell_type": "code",
      "source": [
        "sigma_L_p = np.std( array_100, ddof=0 )\n",
        "print ( \"Desvio padrão populacional (kΩ) = {}\".format(sigma_L_p  ) )\n",
        "\n",
        "sigma_L_a = np.std( array_100, ddof=1 )\n",
        "print ( \"Desvio padrão amostral (kΩ) = {}\".format(sigma_L_a  ) )\n",
        "\n"
      ],
      "metadata": {
        "colab": {
          "base_uri": "https://localhost:8080/"
        },
        "id": "iOAZ7tki6SPI",
        "outputId": "7bb4d13c-dd53-4355-db58-eab731c3becd"
      },
      "execution_count": null,
      "outputs": [
        {
          "output_type": "stream",
          "name": "stdout",
          "text": [
            "Desvio padrão populacional (kΩ) = 27.860646080089385\n",
            "Desvio padrão amostral (kΩ) = 28.00100286804317\n"
          ]
        }
      ]
    },
    {
      "cell_type": "markdown",
      "source": [
        "Erro Relativo:"
      ],
      "metadata": {
        "id": "0hsL--e7EulM"
      }
    },
    {
      "cell_type": "code",
      "source": [
        "erro_relativo100 = sigma_m100 / media_100\n",
        "print ( \"Erro relativo das medidas dos 100 resistores = {}\".format( erro_relativo100*100 ),\"(kΩ)\" )\n",
        "erro_relativo1 = sigma_m1/ media_GR01\n",
        "print ( \"Erro relativo das medidas do grupo 1 = {}\".format( erro_relativo1*100  ),\"(kΩ)\" )\n",
        "erro_relativo2 = sigma_m2/ media_GR02\n",
        "print ( \"Erro relativo das medidas do grupo 2 = {}\".format( erro_relativo2*100  ),\"(kΩ)\" )\n",
        "erro_relativo3 = sigma_m3/ media_GR03\n",
        "print ( \"Erro relativo das medidas do grupo 3 = {}\".format( erro_relativo3*100  ),\"(kΩ)\" )\n",
        "erro_relativo4 = sigma_m4/ media_GR04\n",
        "print ( \"Erro relativo das medidas do grupo 4 = {}\".format( erro_relativo4*100  ),\"(kΩ)\" )\n",
        "erro_relativo5 = sigma_m5/ media_GR05\n",
        "print ( \"Erro relativo das medidas do grupo 5 = {}\".format( erro_relativo5*100  ),\"(kΩ)\" )\n",
        "erro_relativoM = sigma_m/ media_GRM\n",
        "print ( \"Erro relativo das medidas do grupo das médias = {}\".format( erro_relativoM*100  ),\"(kΩ)\" )"
      ],
      "metadata": {
        "colab": {
          "base_uri": "https://localhost:8080/"
        },
        "id": "KZNFZoC3Ewte",
        "outputId": "9ed69427-7830-41ed-a0fe-4cfb95786dd6"
      },
      "execution_count": null,
      "outputs": [
        {
          "output_type": "stream",
          "name": "stdout",
          "text": [
            "Erro relativo das medidas dos 100 resistores = 0.32335189619657606 (kΩ)\n",
            "Erro relativo das medidas do grupo 1 = 0.9373793369775787 (kΩ)\n",
            "Erro relativo das medidas do grupo 2 = 0.2511559358522855 (kΩ)\n",
            "Erro relativo das medidas do grupo 3 = 0.2499225866362093 (kΩ)\n",
            "Erro relativo das medidas do grupo 4 = 0.11815958488350707 (kΩ)\n",
            "Erro relativo das medidas do grupo 5 = 0.8305968691081698 (kΩ)\n",
            "Erro relativo das medidas do grupo das médias = 1.0016234876842982 (kΩ)\n"
          ]
        }
      ]
    },
    {
      "cell_type": "markdown",
      "source": [
        "Razão entre os erros das médias de cada grupo e o erro da média do conjunto completo:"
      ],
      "metadata": {
        "id": "zxdb1KYnUvwD"
      }
    },
    {
      "cell_type": "code",
      "source": [
        "erro_r1 = sigma_m1/sigma_m100 \n",
        "print ( \"Razão do sigma_m1/sigma_m100   = {}\".format( np.round(erro_r1 ),2) )\n",
        "\n",
        "erro_r2 = sigma_m2/sigma_m100  \n",
        "print ( \"Razão do sigma_m2/sigma_m100   = {}\".format( np.round(erro_r2 ) ,2))\n",
        "\n",
        "erro_r3 = sigma_m3/sigma_m100 \n",
        "print ( \"Razão do sigma_m3/sigma_m100   = {}\".format(np.round( erro_r3 ),2 ))\n",
        "\n",
        "erro_r4 = sigma_m4/sigma_m100 \n",
        "print ( \"Razão do sigma_m4/sigma_m100   = {}\".format( erro_r4 ) )\n",
        "\n",
        "erro_r5 = sigma_m5/sigma_m100 \n",
        "print ( \"Razão do sigma_m5/sigma_m100   = {}\".format( np.round(erro_r5 ),2) )"
      ],
      "metadata": {
        "colab": {
          "base_uri": "https://localhost:8080/"
        },
        "id": "lb7d36i1VZWA",
        "outputId": "4e7055c2-9279-4edd-f1f6-d205e52c02c9"
      },
      "execution_count": null,
      "outputs": [
        {
          "output_type": "stream",
          "name": "stdout",
          "text": [
            "Razão do sigma_m1/sigma_m100   = 3.0\n",
            "Razão do sigma_m2/sigma_m100   = 1.0\n",
            "Razão do sigma_m3/sigma_m100   = 1.0\n",
            "Razão do sigma_m4/sigma_m100   = 0.37291928797845897\n",
            "Razão do sigma_m5/sigma_m100   = 3.0\n"
          ]
        }
      ]
    },
    {
      "cell_type": "code",
      "source": [
        "print(\"O grupo de 100 é ou não compatível com o R de ref.:\",compatibilidadeRef(array_100))"
      ],
      "metadata": {
        "colab": {
          "base_uri": "https://localhost:8080/"
        },
        "id": "1atw2noqsoCJ",
        "outputId": "f0835476-0018-48b5-c12a-8d851f757567"
      },
      "execution_count": null,
      "outputs": [
        {
          "output_type": "stream",
          "name": "stdout",
          "text": [
            "Incompatível 10.186411298007108 2.7860646080089384 28.379999999999995\n",
            "O grupo de 100 é ou não compatível com o R de ref.: 10.186411298007108\n"
          ]
        }
      ]
    },
    {
      "cell_type": "code",
      "source": [
        "print(\"O grupo 01 é  ou não compatível com o grupo de 100:\",compatibilidade(array_GR01))"
      ],
      "metadata": {
        "colab": {
          "base_uri": "https://localhost:8080/"
        },
        "id": "782tMYOLsrp9",
        "outputId": "cef07cd6-3f1f-40a6-d483-6c4d4bed0eb1"
      },
      "execution_count": null,
      "outputs": [
        {
          "output_type": "stream",
          "name": "stdout",
          "text": [
            "Inconclusivo 2.466155671069481 8.361191567058647 20.620000000000005\n",
            "O grupo 01 é  ou não compatível com o grupo de 100: 2.466155671069481\n"
          ]
        }
      ]
    },
    {
      "cell_type": "code",
      "source": [
        "print(\"O grupo 02 é  ou não compatível com o grupo de 100:\",compatibilidade(array_GR02))"
      ],
      "metadata": {
        "colab": {
          "base_uri": "https://localhost:8080/"
        },
        "id": "2hu13ApisvGS",
        "outputId": "214db572-c5b2-4f85-bf10-b1edaaa90863"
      },
      "execution_count": null,
      "outputs": [
        {
          "output_type": "stream",
          "name": "stdout",
          "text": [
            "Incompatível 5.580488988853062 3.4979013557756087 19.519999999999982\n",
            "O grupo 02 é  ou não compatível com o grupo de 100: 5.580488988853062\n"
          ]
        }
      ]
    },
    {
      "cell_type": "code",
      "source": [
        "print(\"O grupo 03 é  ou não compatível com o grupo de 100:\",compatibilidade(array_GR03))"
      ],
      "metadata": {
        "colab": {
          "base_uri": "https://localhost:8080/"
        },
        "id": "-xWKEZgysxWo",
        "outputId": "07b1d7d3-5325-4f26-d040-5b29e640e30c"
      },
      "execution_count": null,
      "outputs": [
        {
          "output_type": "stream",
          "name": "stdout",
          "text": [
            "Compatível 1.0009488091504573 3.5266538785295283 3.5299999999999727\n",
            "O grupo 03 é  ou não compatível com o grupo de 100: 1.0009488091504573\n"
          ]
        }
      ]
    },
    {
      "cell_type": "code",
      "source": [
        "print(\"O grupo 04 é  ou não compatível com o grupo de 100:\",compatibilidade(array_GR04))"
      ],
      "metadata": {
        "colab": {
          "base_uri": "https://localhost:8080/"
        },
        "id": "B0kyLDlhs0KR",
        "outputId": "ceee86f9-6746-4bde-9250-9d3a24ee88ee"
      },
      "execution_count": null,
      "outputs": [
        {
          "output_type": "stream",
          "name": "stdout",
          "text": [
            "Incompatível 5.94587945258627 2.9734877978916487 17.67999999999995\n",
            "O grupo 04 é  ou não compatível com o grupo de 100: 5.94587945258627\n"
          ]
        }
      ]
    },
    {
      "cell_type": "code",
      "source": [
        "print(\"O grupo 05 é  ou não compatível com o grupo de 100:\",compatibilidade(array_GR05))"
      ],
      "metadata": {
        "colab": {
          "base_uri": "https://localhost:8080/"
        },
        "id": "DxVZ9-hes3QG",
        "outputId": "0705acac-5d13-485e-a3e4-740b41e61271"
      },
      "execution_count": null,
      "outputs": [
        {
          "output_type": "stream",
          "name": "stdout",
          "text": [
            "Inconclusivo 2.418705137783166 7.82650175264853 18.92999999999995\n",
            "O grupo 05 é  ou não compatível com o grupo de 100: 2.418705137783166\n"
          ]
        }
      ]
    },
    {
      "cell_type": "code",
      "source": [],
      "metadata": {
        "id": "X3KYjkCytNSG"
      },
      "execution_count": null,
      "outputs": []
    }
  ]
}