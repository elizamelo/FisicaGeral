{
  "nbformat": 4,
  "nbformat_minor": 0,
  "metadata": {
    "colab": {
      "provenance": [],
      "include_colab_link": true
    },
    "kernelspec": {
      "name": "python3",
      "display_name": "Python 3"
    }
  },
  "cells": [
    {
      "cell_type": "markdown",
      "metadata": {
        "id": "view-in-github",
        "colab_type": "text"
      },
      "source": [
        "<a href=\"https://colab.research.google.com/github/elizamelo/FisicaGeral/blob/main/Aula01_Dados_da_Turma_2023.ipynb\" target=\"_parent\"><img src=\"https://colab.research.google.com/assets/colab-badge.svg\" alt=\"Open In Colab\"/></a>"
      ]
    },
    {
      "cell_type": "code",
      "metadata": {
        "id": "E6gpz8CRV6VN"
      },
      "source": [
        "import numpy as np\n",
        "import pandas as pd\n",
        "import matplotlib as mpl\n",
        "import matplotlib.pyplot as plt"
      ],
      "execution_count": 1,
      "outputs": []
    },
    {
      "cell_type": "markdown",
      "metadata": {
        "id": "1ikM_jc93RdJ"
      },
      "source": [
        "Tabela de idades, pesos e alturas:"
      ]
    },
    {
      "cell_type": "code",
      "metadata": {
        "colab": {
          "base_uri": "https://localhost:8080/"
        },
        "id": "jRyrwB0NJCkT",
        "outputId": "bd111272-3da2-4890-89b1-f617a6314da9"
      },
      "source": [
        "#!curl -o Dados-alunos-2023-1.csv https://raw.githubusercontent.com/elizamelo/FisicaGeral/main/dados/DadosdaTurma2_2023_1%20-%20Dados%20da%20turma.csv\n",
        "!curl -o Dados-alunos-2023-1.csv https://raw.githubusercontent.com/elizamelo/FisicaGeral/main/dados/DadosdaTurma2_2023_1_v2%20-%20Dados%20da%20turma.csv"
      ],
      "execution_count": 2,
      "outputs": [
        {
          "output_type": "stream",
          "name": "stdout",
          "text": [
            "  % Total    % Received % Xferd  Average Speed   Time    Time     Time  Current\n",
            "                                 Dload  Upload   Total   Spent    Left  Speed\n",
            "100   660  100   660    0     0   1621      0 --:--:-- --:--:-- --:--:--  1617\n"
          ]
        }
      ]
    },
    {
      "cell_type": "code",
      "metadata": {
        "id": "qql5tOsgb6Jl"
      },
      "source": [
        "# array_Idade = np.array( [ 39, 33, 39, 23, 19, 21, 21, 19, 43, 20, 20, 50, 21, 19, 20, 19, 39,\n",
        "#                           20, 20, 19, 19, 20, 19, 39, 18, 22, 19, 20, 21, 49, 27, 19, 19, 31,\n",
        "#                           24, 21, 19, 62, 63, 20, 29, 19, 18, 20, 20, 21, 18, 18, 18, 18, 20,\n",
        "#                           30, 22, 20, 29, 26 ] )\n",
        "# array_Peso = np.array( [ 100,  75,  97,  80,  60,  72,  62,  89,  75,  85,  72,  82, 130,\n",
        "#                          65,  74,  65, 110,  60,  70,  65,  75,  70,  60,  97,  60,  68,\n",
        "#                          68,  90,  45,  80,  53,  62,  65,  95,  70,  67,  73,  58,  84,\n",
        "#                          82,  84,  88,  60,  75, 120, 100,  90,  78,  55,  90,  60,  73,\n",
        "#                          80,  56,  80,  83 ] )\n",
        "# array_Altura = np.array( [ 1.9 , 1.8 , 1.78, 1.83, 1.65, 1.82, 1.79, 1.78, 1.8 , 1.7 , 1.9 ,\n",
        "#                            1.82, 1.83, 1.85, 1.67, 1.66, 1.8 , 1.65, 1.65, 1.73, 1.72, 1.65,\n",
        "#                            1.8 , 1.78, 1.63, 1.73, 1.59, 1.76, 1.62, 1.65, 1.69, 1.84, 1.88,\n",
        "#                            1.76, 1.67, 1.84, 1.68, 1.7 , 1.7 , 1.74, 1.82, 1.75, 1.53, 1.76,\n",
        "#                            1.85, 1.78, 1.9 , 1.74, 1.85, 1.75, 1.67, 1.68, 1.82, 1.5 , 1.8 ,\n",
        "#                            1.8 ] )"
      ],
      "execution_count": 3,
      "outputs": []
    },
    {
      "cell_type": "code",
      "source": [
        "df = pd.read_csv( \"Dados-alunos-2023-1.csv\", usecols=[0,1,2,3], nrows=16, index_col=0, na_values=[\"0\"],names=[\"Índice\", \"Idade\", \"Peso\", \"Altura\"] )\n",
        "df"
      ],
      "metadata": {
        "colab": {
          "base_uri": "https://localhost:8080/",
          "height": 583
        },
        "id": "-wA7ytc7Gmvz",
        "outputId": "2de8039d-fabc-4689-8f18-677af7915a6b"
      },
      "execution_count": 4,
      "outputs": [
        {
          "output_type": "execute_result",
          "data": {
            "text/plain": [
              "                                            Idade       Peso      Altura\n",
              "Índice                                                                  \n",
              "Nome do aluno                        Idade (anos)  Peso (kg)  Altura (m)\n",
              "DANILO SANTOS DE FIGUEREDO                     18         55        1.70\n",
              "EDUARDO DE SOUZA SILVA JUNIOR                  18         78        1.81\n",
              "EDUARDO PEREIRA DOS SANTOS                     18         85        1.78\n",
              "FABIO COELHO DIMARI VIEIRA                     18         75        1.68\n",
              "FELIPE CARNEIRO DA ROCHA CARVALHO              18         97        1.67\n",
              "GABRIELA SANTOS MORAIS                         20         75        1.69\n",
              "GABRIEL DE MATOS MESIAS                        20         54        1.79\n",
              "GUILHERME FIRMINO DOS SANTOS                   18         78        1.79\n",
              "LUIS GABRIEL DE ARAUJO VASCONCELOS             20         61        1.67\n",
              "MANOEL MIGUEL DE LIMA SILVA JUNIOR             31         62        1.72\n",
              "MANUELA CASSIA ANDRADE DE MAGALHAES            19         60        1.66\n",
              "MARIA EDUARDA MELONI DO VALLE                  18         44        1.60\n",
              "MARIA EDUARDA NOVO NOVAES                      17         83        1.60\n",
              "SAMUEL SILVA DE SOUZA                          18         80        1.80\n",
              "WALTER LINHARES DE SIQUEIRA                    23         59        1.68"
            ],
            "text/html": [
              "\n",
              "  <div id=\"df-489f93a9-59e0-400d-b71a-b42a81c93226\">\n",
              "    <div class=\"colab-df-container\">\n",
              "      <div>\n",
              "<style scoped>\n",
              "    .dataframe tbody tr th:only-of-type {\n",
              "        vertical-align: middle;\n",
              "    }\n",
              "\n",
              "    .dataframe tbody tr th {\n",
              "        vertical-align: top;\n",
              "    }\n",
              "\n",
              "    .dataframe thead th {\n",
              "        text-align: right;\n",
              "    }\n",
              "</style>\n",
              "<table border=\"1\" class=\"dataframe\">\n",
              "  <thead>\n",
              "    <tr style=\"text-align: right;\">\n",
              "      <th></th>\n",
              "      <th>Idade</th>\n",
              "      <th>Peso</th>\n",
              "      <th>Altura</th>\n",
              "    </tr>\n",
              "    <tr>\n",
              "      <th>Índice</th>\n",
              "      <th></th>\n",
              "      <th></th>\n",
              "      <th></th>\n",
              "    </tr>\n",
              "  </thead>\n",
              "  <tbody>\n",
              "    <tr>\n",
              "      <th>Nome do aluno</th>\n",
              "      <td>Idade (anos)</td>\n",
              "      <td>Peso (kg)</td>\n",
              "      <td>Altura (m)</td>\n",
              "    </tr>\n",
              "    <tr>\n",
              "      <th>DANILO SANTOS DE FIGUEREDO</th>\n",
              "      <td>18</td>\n",
              "      <td>55</td>\n",
              "      <td>1.70</td>\n",
              "    </tr>\n",
              "    <tr>\n",
              "      <th>EDUARDO DE SOUZA SILVA JUNIOR</th>\n",
              "      <td>18</td>\n",
              "      <td>78</td>\n",
              "      <td>1.81</td>\n",
              "    </tr>\n",
              "    <tr>\n",
              "      <th>EDUARDO PEREIRA DOS SANTOS</th>\n",
              "      <td>18</td>\n",
              "      <td>85</td>\n",
              "      <td>1.78</td>\n",
              "    </tr>\n",
              "    <tr>\n",
              "      <th>FABIO COELHO DIMARI VIEIRA</th>\n",
              "      <td>18</td>\n",
              "      <td>75</td>\n",
              "      <td>1.68</td>\n",
              "    </tr>\n",
              "    <tr>\n",
              "      <th>FELIPE CARNEIRO DA ROCHA CARVALHO</th>\n",
              "      <td>18</td>\n",
              "      <td>97</td>\n",
              "      <td>1.67</td>\n",
              "    </tr>\n",
              "    <tr>\n",
              "      <th>GABRIELA SANTOS MORAIS</th>\n",
              "      <td>20</td>\n",
              "      <td>75</td>\n",
              "      <td>1.69</td>\n",
              "    </tr>\n",
              "    <tr>\n",
              "      <th>GABRIEL DE MATOS MESIAS</th>\n",
              "      <td>20</td>\n",
              "      <td>54</td>\n",
              "      <td>1.79</td>\n",
              "    </tr>\n",
              "    <tr>\n",
              "      <th>GUILHERME FIRMINO DOS SANTOS</th>\n",
              "      <td>18</td>\n",
              "      <td>78</td>\n",
              "      <td>1.79</td>\n",
              "    </tr>\n",
              "    <tr>\n",
              "      <th>LUIS GABRIEL DE ARAUJO VASCONCELOS</th>\n",
              "      <td>20</td>\n",
              "      <td>61</td>\n",
              "      <td>1.67</td>\n",
              "    </tr>\n",
              "    <tr>\n",
              "      <th>MANOEL MIGUEL DE LIMA SILVA JUNIOR</th>\n",
              "      <td>31</td>\n",
              "      <td>62</td>\n",
              "      <td>1.72</td>\n",
              "    </tr>\n",
              "    <tr>\n",
              "      <th>MANUELA CASSIA ANDRADE DE MAGALHAES</th>\n",
              "      <td>19</td>\n",
              "      <td>60</td>\n",
              "      <td>1.66</td>\n",
              "    </tr>\n",
              "    <tr>\n",
              "      <th>MARIA EDUARDA MELONI DO VALLE</th>\n",
              "      <td>18</td>\n",
              "      <td>44</td>\n",
              "      <td>1.60</td>\n",
              "    </tr>\n",
              "    <tr>\n",
              "      <th>MARIA EDUARDA NOVO NOVAES</th>\n",
              "      <td>17</td>\n",
              "      <td>83</td>\n",
              "      <td>1.60</td>\n",
              "    </tr>\n",
              "    <tr>\n",
              "      <th>SAMUEL SILVA DE SOUZA</th>\n",
              "      <td>18</td>\n",
              "      <td>80</td>\n",
              "      <td>1.80</td>\n",
              "    </tr>\n",
              "    <tr>\n",
              "      <th>WALTER LINHARES DE SIQUEIRA</th>\n",
              "      <td>23</td>\n",
              "      <td>59</td>\n",
              "      <td>1.68</td>\n",
              "    </tr>\n",
              "  </tbody>\n",
              "</table>\n",
              "</div>\n",
              "      <button class=\"colab-df-convert\" onclick=\"convertToInteractive('df-489f93a9-59e0-400d-b71a-b42a81c93226')\"\n",
              "              title=\"Convert this dataframe to an interactive table.\"\n",
              "              style=\"display:none;\">\n",
              "        \n",
              "  <svg xmlns=\"http://www.w3.org/2000/svg\" height=\"24px\"viewBox=\"0 0 24 24\"\n",
              "       width=\"24px\">\n",
              "    <path d=\"M0 0h24v24H0V0z\" fill=\"none\"/>\n",
              "    <path d=\"M18.56 5.44l.94 2.06.94-2.06 2.06-.94-2.06-.94-.94-2.06-.94 2.06-2.06.94zm-11 1L8.5 8.5l.94-2.06 2.06-.94-2.06-.94L8.5 2.5l-.94 2.06-2.06.94zm10 10l.94 2.06.94-2.06 2.06-.94-2.06-.94-.94-2.06-.94 2.06-2.06.94z\"/><path d=\"M17.41 7.96l-1.37-1.37c-.4-.4-.92-.59-1.43-.59-.52 0-1.04.2-1.43.59L10.3 9.45l-7.72 7.72c-.78.78-.78 2.05 0 2.83L4 21.41c.39.39.9.59 1.41.59.51 0 1.02-.2 1.41-.59l7.78-7.78 2.81-2.81c.8-.78.8-2.07 0-2.86zM5.41 20L4 18.59l7.72-7.72 1.47 1.35L5.41 20z\"/>\n",
              "  </svg>\n",
              "      </button>\n",
              "      \n",
              "  <style>\n",
              "    .colab-df-container {\n",
              "      display:flex;\n",
              "      flex-wrap:wrap;\n",
              "      gap: 12px;\n",
              "    }\n",
              "\n",
              "    .colab-df-convert {\n",
              "      background-color: #E8F0FE;\n",
              "      border: none;\n",
              "      border-radius: 50%;\n",
              "      cursor: pointer;\n",
              "      display: none;\n",
              "      fill: #1967D2;\n",
              "      height: 32px;\n",
              "      padding: 0 0 0 0;\n",
              "      width: 32px;\n",
              "    }\n",
              "\n",
              "    .colab-df-convert:hover {\n",
              "      background-color: #E2EBFA;\n",
              "      box-shadow: 0px 1px 2px rgba(60, 64, 67, 0.3), 0px 1px 3px 1px rgba(60, 64, 67, 0.15);\n",
              "      fill: #174EA6;\n",
              "    }\n",
              "\n",
              "    [theme=dark] .colab-df-convert {\n",
              "      background-color: #3B4455;\n",
              "      fill: #D2E3FC;\n",
              "    }\n",
              "\n",
              "    [theme=dark] .colab-df-convert:hover {\n",
              "      background-color: #434B5C;\n",
              "      box-shadow: 0px 1px 3px 1px rgba(0, 0, 0, 0.15);\n",
              "      filter: drop-shadow(0px 1px 2px rgba(0, 0, 0, 0.3));\n",
              "      fill: #FFFFFF;\n",
              "    }\n",
              "  </style>\n",
              "\n",
              "      <script>\n",
              "        const buttonEl =\n",
              "          document.querySelector('#df-489f93a9-59e0-400d-b71a-b42a81c93226 button.colab-df-convert');\n",
              "        buttonEl.style.display =\n",
              "          google.colab.kernel.accessAllowed ? 'block' : 'none';\n",
              "\n",
              "        async function convertToInteractive(key) {\n",
              "          const element = document.querySelector('#df-489f93a9-59e0-400d-b71a-b42a81c93226');\n",
              "          const dataTable =\n",
              "            await google.colab.kernel.invokeFunction('convertToInteractive',\n",
              "                                                     [key], {});\n",
              "          if (!dataTable) return;\n",
              "\n",
              "          const docLinkHtml = 'Like what you see? Visit the ' +\n",
              "            '<a target=\"_blank\" href=https://colab.research.google.com/notebooks/data_table.ipynb>data table notebook</a>'\n",
              "            + ' to learn more about interactive tables.';\n",
              "          element.innerHTML = '';\n",
              "          dataTable['output_type'] = 'display_data';\n",
              "          await google.colab.output.renderOutput(dataTable, element);\n",
              "          const docLink = document.createElement('div');\n",
              "          docLink.innerHTML = docLinkHtml;\n",
              "          element.appendChild(docLink);\n",
              "        }\n",
              "      </script>\n",
              "    </div>\n",
              "  </div>\n",
              "  "
            ]
          },
          "metadata": {},
          "execution_count": 4
        }
      ]
    },
    {
      "cell_type": "code",
      "source": [
        "df.dtypes"
      ],
      "metadata": {
        "id": "j0hgnGYWbVWv",
        "outputId": "3dfbefbe-95ba-4d3d-fa8d-7b7c9319e034",
        "colab": {
          "base_uri": "https://localhost:8080/"
        }
      },
      "execution_count": 5,
      "outputs": [
        {
          "output_type": "execute_result",
          "data": {
            "text/plain": [
              "Idade     object\n",
              "Peso      object\n",
              "Altura    object\n",
              "dtype: object"
            ]
          },
          "metadata": {},
          "execution_count": 5
        }
      ]
    },
    {
      "cell_type": "code",
      "source": [
        "#df['Idade'] = df['Idade'].astype('int64')\n",
        "df['Idade'] = pd.to_numeric(df['Idade'], errors='coerce')\n",
        "df.dtypes\n",
        "df[\"Peso\"] = pd.to_numeric(df[\"Peso\"], errors='coerce')\n",
        "df.dtypes\n",
        "df[\"Altura\"] = pd.to_numeric(df[\"Altura\"], errors='coerce')\n",
        "df.dtypes"
      ],
      "metadata": {
        "id": "5vtu_2v_bBPZ",
        "outputId": "7e0d1154-777b-4129-d1e5-fd7a3078d1f4",
        "colab": {
          "base_uri": "https://localhost:8080/"
        }
      },
      "execution_count": 6,
      "outputs": [
        {
          "output_type": "execute_result",
          "data": {
            "text/plain": [
              "Idade     float64\n",
              "Peso      float64\n",
              "Altura    float64\n",
              "dtype: object"
            ]
          },
          "metadata": {},
          "execution_count": 6
        }
      ]
    },
    {
      "cell_type": "markdown",
      "source": [],
      "metadata": {
        "id": "vyEy6bxJGnQ7"
      }
    },
    {
      "cell_type": "markdown",
      "metadata": {
        "id": "f_kxKfb7YftY"
      },
      "source": [
        "Idade:"
      ]
    },
    {
      "cell_type": "code",
      "metadata": {
        "colab": {
          "base_uri": "https://localhost:8080/"
        },
        "id": "FzO6k2jrYGLF",
        "outputId": "dc6c4b75-ffae-413d-cc94-cfaff27ec682"
      },
      "source": [
        "#array_Idade = df.iloc[:, 0]\n",
        "array_Idade = df[ \"Idade\" ]\n",
        "array_Idade.dropna()\n",
        "\n"
      ],
      "execution_count": 7,
      "outputs": [
        {
          "output_type": "execute_result",
          "data": {
            "text/plain": [
              "Índice\n",
              "DANILO SANTOS DE FIGUEREDO             18.0\n",
              "EDUARDO DE SOUZA SILVA JUNIOR          18.0\n",
              "EDUARDO PEREIRA DOS SANTOS             18.0\n",
              "FABIO COELHO DIMARI VIEIRA             18.0\n",
              "FELIPE CARNEIRO DA ROCHA CARVALHO      18.0\n",
              "GABRIELA SANTOS MORAIS                 20.0\n",
              "GABRIEL DE MATOS MESIAS                20.0\n",
              "GUILHERME FIRMINO DOS SANTOS           18.0\n",
              "LUIS GABRIEL DE ARAUJO VASCONCELOS     20.0\n",
              "MANOEL MIGUEL DE LIMA SILVA JUNIOR     31.0\n",
              "MANUELA CASSIA ANDRADE DE MAGALHAES    19.0\n",
              "MARIA EDUARDA MELONI DO VALLE          18.0\n",
              "MARIA EDUARDA NOVO NOVAES              17.0\n",
              "SAMUEL SILVA DE SOUZA                  18.0\n",
              "WALTER LINHARES DE SIQUEIRA            23.0\n",
              "Name: Idade, dtype: float64"
            ]
          },
          "metadata": {},
          "execution_count": 7
        }
      ]
    },
    {
      "cell_type": "code",
      "metadata": {
        "id": "GkTCo1pTYxf3",
        "outputId": "29e7102a-f277-4f46-b9bf-97d6835289c1",
        "colab": {
          "base_uri": "https://localhost:8080/"
        }
      },
      "source": [
        "np.mean( array_Idade )"
      ],
      "execution_count": 8,
      "outputs": [
        {
          "output_type": "execute_result",
          "data": {
            "text/plain": [
              "19.6"
            ]
          },
          "metadata": {},
          "execution_count": 8
        }
      ]
    },
    {
      "cell_type": "code",
      "source": [
        "\n",
        "np.sort( array_Idade.dropna() )"
      ],
      "metadata": {
        "id": "RK1HnrYcY5A2",
        "outputId": "9470a96d-aa70-455b-a375-33f8fa238fae",
        "colab": {
          "base_uri": "https://localhost:8080/"
        }
      },
      "execution_count": 9,
      "outputs": [
        {
          "output_type": "execute_result",
          "data": {
            "text/plain": [
              "array([17., 18., 18., 18., 18., 18., 18., 18., 18., 19., 20., 20., 20.,\n",
              "       23., 31.])"
            ]
          },
          "metadata": {},
          "execution_count": 9
        }
      ]
    },
    {
      "cell_type": "code",
      "metadata": {
        "id": "n4O-MCDuYxf4",
        "outputId": "cb6eb9ff-ca9e-46ae-a33b-fc52f7e3fd03",
        "colab": {
          "base_uri": "https://localhost:8080/",
          "height": 413
        }
      },
      "source": [
        "fig = plt.figure( figsize=(8,6) )\n",
        "\n",
        "counts, bins, _ = plt.hist( array_Idade, bins=8, range=(16, 32) )\n",
        "plt.xlim( 16, 32 )\n",
        "plt.xlabel( \"Idade (anos)\", fontsize=18 )\n",
        "plt.ylabel( \"Frequência\", fontsize=18 )"
      ],
      "execution_count": 52,
      "outputs": [
        {
          "output_type": "execute_result",
          "data": {
            "text/plain": [
              "Text(0, 0.5, 'Frequência')"
            ]
          },
          "metadata": {},
          "execution_count": 52
        },
        {
          "output_type": "display_data",
          "data": {
            "text/plain": [
              "<Figure size 576x432 with 1 Axes>"
            ],
            "image/png": "[encoded data removed]"
          },
          "metadata": {
            "needs_background": "light"
          }
        }
      ]
    },
    {
      "cell_type": "markdown",
      "metadata": {
        "id": "3lXjn0sKLSks"
      },
      "source": [
        "Peso:"
      ]
    },
    {
      "cell_type": "code",
      "metadata": {
        "id": "fBT6qGrbLReX",
        "outputId": "56fe3754-aea2-405a-8d78-363b93356a7c",
        "colab": {
          "base_uri": "https://localhost:8080/"
        }
      },
      "source": [
        "#array_Peso = df.iloc[:, 1]\n",
        "array_Peso = df[ \"Peso\" ]\n",
        "array_Peso.dropna()"
      ],
      "execution_count": 11,
      "outputs": [
        {
          "output_type": "execute_result",
          "data": {
            "text/plain": [
              "Índice\n",
              "DANILO SANTOS DE FIGUEREDO             55.0\n",
              "EDUARDO DE SOUZA SILVA JUNIOR          78.0\n",
              "EDUARDO PEREIRA DOS SANTOS             85.0\n",
              "FABIO COELHO DIMARI VIEIRA             75.0\n",
              "FELIPE CARNEIRO DA ROCHA CARVALHO      97.0\n",
              "GABRIELA SANTOS MORAIS                 75.0\n",
              "GABRIEL DE MATOS MESIAS                54.0\n",
              "GUILHERME FIRMINO DOS SANTOS           78.0\n",
              "LUIS GABRIEL DE ARAUJO VASCONCELOS     61.0\n",
              "MANOEL MIGUEL DE LIMA SILVA JUNIOR     62.0\n",
              "MANUELA CASSIA ANDRADE DE MAGALHAES    60.0\n",
              "MARIA EDUARDA MELONI DO VALLE          44.0\n",
              "MARIA EDUARDA NOVO NOVAES              83.0\n",
              "SAMUEL SILVA DE SOUZA                  80.0\n",
              "WALTER LINHARES DE SIQUEIRA            59.0\n",
              "Name: Peso, dtype: float64"
            ]
          },
          "metadata": {},
          "execution_count": 11
        }
      ]
    },
    {
      "cell_type": "code",
      "metadata": {
        "id": "noPnFzXSLRea",
        "outputId": "78fb1478-a534-4984-cfe2-ad3dad074ab5",
        "colab": {
          "base_uri": "https://localhost:8080/"
        }
      },
      "source": [
        "np.mean( array_Peso )"
      ],
      "execution_count": 12,
      "outputs": [
        {
          "output_type": "execute_result",
          "data": {
            "text/plain": [
              "69.73333333333333"
            ]
          },
          "metadata": {},
          "execution_count": 12
        }
      ]
    },
    {
      "cell_type": "code",
      "metadata": {
        "id": "awDIFiKHLRea",
        "outputId": "26df67a4-e2c1-4ed1-88d1-1b167f248e0a",
        "colab": {
          "base_uri": "https://localhost:8080/"
        }
      },
      "source": [
        "np.sort( array_Peso.dropna() )"
      ],
      "execution_count": 13,
      "outputs": [
        {
          "output_type": "execute_result",
          "data": {
            "text/plain": [
              "array([44., 54., 55., 59., 60., 61., 62., 75., 75., 78., 78., 80., 83.,\n",
              "       85., 97.])"
            ]
          },
          "metadata": {},
          "execution_count": 13
        }
      ]
    },
    {
      "cell_type": "code",
      "metadata": {
        "id": "7FwJxbkHLReb",
        "outputId": "8c5b71cb-6f53-4821-c8a8-9264eb481f0e",
        "colab": {
          "base_uri": "https://localhost:8080/",
          "height": 413
        }
      },
      "source": [
        "fig = plt.figure( figsize=(8,6) )\n",
        "\n",
        "counts, bins, _ = plt.hist( array_Peso, bins=10, range=(40., 100.) )\n",
        "plt.xlim( 40., 100. )\n",
        "plt.xlabel( \"Peso (kg)\", fontsize=18 )\n",
        "plt.ylabel( \"Frequência\", fontsize=18 )"
      ],
      "execution_count": 14,
      "outputs": [
        {
          "output_type": "execute_result",
          "data": {
            "text/plain": [
              "Text(0, 0.5, 'Frequência')"
            ]
          },
          "metadata": {},
          "execution_count": 14
        },
        {
          "output_type": "display_data",
          "data": {
            "text/plain": [
              "<Figure size 576x432 with 1 Axes>"
            ],
            "image/png": "[encoded data removed]"
          },
          "metadata": {
            "needs_background": "light"
          }
        }
      ]
    },
    {
      "cell_type": "markdown",
      "metadata": {
        "id": "oDRjgBLX6X9A"
      },
      "source": [
        "Altura:"
      ]
    },
    {
      "cell_type": "code",
      "metadata": {
        "id": "mepbn-wQ6X9D",
        "outputId": "148c58db-121b-48e5-b42c-442edcfdd644",
        "colab": {
          "base_uri": "https://localhost:8080/"
        }
      },
      "source": [
        "#array_Altura = df.iloc[:, 2]\n",
        "array_Altura = df[ \"Altura\" ]\n",
        "array_Altura.dropna()"
      ],
      "execution_count": 15,
      "outputs": [
        {
          "output_type": "execute_result",
          "data": {
            "text/plain": [
              "Índice\n",
              "DANILO SANTOS DE FIGUEREDO             1.70\n",
              "EDUARDO DE SOUZA SILVA JUNIOR          1.81\n",
              "EDUARDO PEREIRA DOS SANTOS             1.78\n",
              "FABIO COELHO DIMARI VIEIRA             1.68\n",
              "FELIPE CARNEIRO DA ROCHA CARVALHO      1.67\n",
              "GABRIELA SANTOS MORAIS                 1.69\n",
              "GABRIEL DE MATOS MESIAS                1.79\n",
              "GUILHERME FIRMINO DOS SANTOS           1.79\n",
              "LUIS GABRIEL DE ARAUJO VASCONCELOS     1.67\n",
              "MANOEL MIGUEL DE LIMA SILVA JUNIOR     1.72\n",
              "MANUELA CASSIA ANDRADE DE MAGALHAES    1.66\n",
              "MARIA EDUARDA MELONI DO VALLE          1.60\n",
              "MARIA EDUARDA NOVO NOVAES              1.60\n",
              "SAMUEL SILVA DE SOUZA                  1.80\n",
              "WALTER LINHARES DE SIQUEIRA            1.68\n",
              "Name: Altura, dtype: float64"
            ]
          },
          "metadata": {},
          "execution_count": 15
        }
      ]
    },
    {
      "cell_type": "code",
      "metadata": {
        "id": "jwbvz9N36X9F",
        "outputId": "5b0b98e4-17a6-4d75-f816-64a99c4a16b5",
        "colab": {
          "base_uri": "https://localhost:8080/"
        }
      },
      "source": [
        "np.mean( array_Altura )"
      ],
      "execution_count": 16,
      "outputs": [
        {
          "output_type": "execute_result",
          "data": {
            "text/plain": [
              "1.7093333333333334"
            ]
          },
          "metadata": {},
          "execution_count": 16
        }
      ]
    },
    {
      "cell_type": "code",
      "metadata": {
        "id": "94H7jDKV6X9I",
        "outputId": "5e042173-1bc6-4d67-913d-8583f513367e",
        "colab": {
          "base_uri": "https://localhost:8080/"
        }
      },
      "source": [
        "np.sort( array_Altura.dropna() )"
      ],
      "execution_count": 17,
      "outputs": [
        {
          "output_type": "execute_result",
          "data": {
            "text/plain": [
              "array([1.6 , 1.6 , 1.66, 1.67, 1.67, 1.68, 1.68, 1.69, 1.7 , 1.72, 1.78,\n",
              "       1.79, 1.79, 1.8 , 1.81])"
            ]
          },
          "metadata": {},
          "execution_count": 17
        }
      ]
    },
    {
      "cell_type": "code",
      "metadata": {
        "id": "oYPruljm6X9M",
        "outputId": "fc07f5d7-c92f-43d9-96e8-fa3e6d3c8608",
        "colab": {
          "base_uri": "https://localhost:8080/",
          "height": 413
        }
      },
      "source": [
        "fig = plt.figure( figsize=(8,6) )\n",
        "\n",
        "counts, bins, _ = plt.hist( array_Altura, bins=9, range=(1.55, 2.00) )\n",
        "plt.xlim( 1.55, 2.00 )\n",
        "plt.xlabel( \"Altura (m)\", fontsize=18 )\n",
        "plt.ylabel( \"Frequência\", fontsize=18 )"
      ],
      "execution_count": 18,
      "outputs": [
        {
          "output_type": "execute_result",
          "data": {
            "text/plain": [
              "Text(0, 0.5, 'Frequência')"
            ]
          },
          "metadata": {},
          "execution_count": 18
        },
        {
          "output_type": "display_data",
          "data": {
            "text/plain": [
              "<Figure size 576x432 with 1 Axes>"
            ],
            "image/png": "[encoded data removed]"
          },
          "metadata": {
            "needs_background": "light"
          }
        }
      ]
    },
    {
      "cell_type": "markdown",
      "metadata": {
        "id": "HIiA6cYsLu40"
      },
      "source": [
        "Correlação Idade vs Peso:"
      ]
    },
    {
      "cell_type": "code",
      "metadata": {
        "id": "5ohqUW8jO_9v",
        "outputId": "fdb1d95e-226e-44d4-b5ca-9fc5b1dd2b4f",
        "colab": {
          "base_uri": "https://localhost:8080/",
          "height": 417
        }
      },
      "source": [
        "fig = plt.figure( figsize=(8,6) )\n",
        "\n",
        "plt.plot( array_Idade.dropna(), array_Peso.dropna(), 'o' )\n",
        "plt.xlim( 15, 55 )\n",
        "plt.ylim( 40., 140. )\n",
        "plt.xlabel( \"Idade (anos)\", fontsize=18 )\n",
        "plt.ylabel( \"Peso (kg)\", fontsize=18 )"
      ],
      "execution_count": 19,
      "outputs": [
        {
          "output_type": "execute_result",
          "data": {
            "text/plain": [
              "Text(0, 0.5, 'Peso (kg)')"
            ]
          },
          "metadata": {},
          "execution_count": 19
        },
        {
          "output_type": "display_data",
          "data": {
            "text/plain": [
              "<Figure size 576x432 with 1 Axes>"
            ],
            "image/png": "[encoded data removed]"
          },
          "metadata": {
            "needs_background": "light"
          }
        }
      ]
    },
    {
      "cell_type": "markdown",
      "metadata": {
        "id": "oElstG7j72ow"
      },
      "source": [
        "Correlação Idade vs Altura:"
      ]
    },
    {
      "cell_type": "code",
      "metadata": {
        "id": "tu60RRsGO-8C",
        "outputId": "effae5c6-edd8-40f5-ddc3-a0f1dc32dc24",
        "colab": {
          "base_uri": "https://localhost:8080/",
          "height": 417
        }
      },
      "source": [
        "fig = plt.figure( figsize=(8,6) )\n",
        "\n",
        "plt.plot( array_Idade.dropna(), array_Altura.dropna(), 'o' )\n",
        "plt.xlim( 15, 55 )\n",
        "plt.ylim( 1.55, 2.00 )\n",
        "plt.xlabel( \"Idade (anos)\", fontsize=18 )\n",
        "plt.ylabel( \"Altura (m)\", fontsize=18 )"
      ],
      "execution_count": 20,
      "outputs": [
        {
          "output_type": "execute_result",
          "data": {
            "text/plain": [
              "Text(0, 0.5, 'Altura (m)')"
            ]
          },
          "metadata": {},
          "execution_count": 20
        },
        {
          "output_type": "display_data",
          "data": {
            "text/plain": [
              "<Figure size 576x432 with 1 Axes>"
            ],
            "image/png": "[encoded data removed]"
          },
          "metadata": {
            "needs_background": "light"
          }
        }
      ]
    },
    {
      "cell_type": "markdown",
      "metadata": {
        "id": "1mYE-XKC78A5"
      },
      "source": [
        "Correlação Altura vs Peso:"
      ]
    },
    {
      "cell_type": "code",
      "metadata": {
        "id": "Z3BO_y96Oc9X",
        "outputId": "9263be3e-2b6a-4734-81be-07305029ad88",
        "colab": {
          "base_uri": "https://localhost:8080/",
          "height": 417
        }
      },
      "source": [
        "fig = plt.figure( figsize=(8,6) )\n",
        "\n",
        "plt.plot( array_Altura.dropna(), array_Peso.dropna(), 'o' )\n",
        "plt.xlim( 1.55, 2.00 )\n",
        "plt.ylim( 40., 140. )\n",
        "plt.xlabel( \"Altura (m)\", fontsize=18 )\n",
        "plt.ylabel( \"Peso (kg)\", fontsize=18 )"
      ],
      "execution_count": 21,
      "outputs": [
        {
          "output_type": "execute_result",
          "data": {
            "text/plain": [
              "Text(0, 0.5, 'Peso (kg)')"
            ]
          },
          "metadata": {},
          "execution_count": 21
        },
        {
          "output_type": "display_data",
          "data": {
            "text/plain": [
              "<Figure size 576x432 with 1 Axes>"
            ],
            "image/png": "[encoded data removed]"
          },
          "metadata": {
            "needs_background": "light"
          }
        }
      ]
    },
    {
      "cell_type": "markdown",
      "metadata": {
        "id": "PuR39MMf9bve"
      },
      "source": [
        "Cálculo das variâncias:\n"
      ]
    },
    {
      "cell_type": "code",
      "metadata": {
        "id": "3frHMs3X3pue",
        "outputId": "f6b22d22-0b0b-468c-e2f7-fdaf43a2405b",
        "colab": {
          "base_uri": "https://localhost:8080/"
        }
      },
      "source": [
        "# Diferença entre média dos quadrados e quadrado da média\n",
        "np.mean( array_Idade.dropna() ** 2 ) - np.mean( array_Idade.dropna() ) ** 2"
      ],
      "execution_count": 22,
      "outputs": [
        {
          "output_type": "execute_result",
          "data": {
            "text/plain": [
              "11.306666666666558"
            ]
          },
          "metadata": {},
          "execution_count": 22
        }
      ]
    },
    {
      "cell_type": "code",
      "metadata": {
        "id": "JA1pDPD338r-",
        "outputId": "99adc584-74d8-4098-d54c-e40445be8b18",
        "colab": {
          "base_uri": "https://localhost:8080/"
        }
      },
      "source": [
        "np.mean( array_Peso.dropna() ** 2 ) - np.mean( array_Peso.dropna() ) ** 2"
      ],
      "execution_count": 23,
      "outputs": [
        {
          "output_type": "execute_result",
          "data": {
            "text/plain": [
              "194.86222222222204"
            ]
          },
          "metadata": {},
          "execution_count": 23
        }
      ]
    },
    {
      "cell_type": "code",
      "metadata": {
        "id": "RbvAcx7l3_ez",
        "outputId": "0e3c8d4c-1015-405f-e871-8e1b6ff79cbb",
        "colab": {
          "base_uri": "https://localhost:8080/"
        }
      },
      "source": [
        "np.mean( array_Altura.dropna() ** 2 ) - np.mean( array_Altura.dropna() ) ** 2"
      ],
      "execution_count": 24,
      "outputs": [
        {
          "output_type": "execute_result",
          "data": {
            "text/plain": [
              "0.004539555555555186"
            ]
          },
          "metadata": {},
          "execution_count": 24
        }
      ]
    },
    {
      "cell_type": "markdown",
      "metadata": {
        "id": "diQ3GwUO9gKz"
      },
      "source": [
        "Usando NumPy:"
      ]
    },
    {
      "cell_type": "code",
      "metadata": {
        "id": "OEcY4BmYNKk9",
        "outputId": "44e8334e-b141-4de2-f480-8b41e2b7ecda",
        "colab": {
          "base_uri": "https://localhost:8080/"
        }
      },
      "source": [
        "var_Idade = np.var( array_Idade.dropna(), ddof=0 )\n",
        "var_Idade"
      ],
      "execution_count": 25,
      "outputs": [
        {
          "output_type": "execute_result",
          "data": {
            "text/plain": [
              "11.30666666666667"
            ]
          },
          "metadata": {},
          "execution_count": 25
        }
      ]
    },
    {
      "cell_type": "code",
      "metadata": {
        "id": "MrsxjlvHNL50",
        "outputId": "0b96b129-4307-4bf2-f80e-c194592ab694",
        "colab": {
          "base_uri": "https://localhost:8080/"
        }
      },
      "source": [
        "var_Peso = np.var( array_Peso, ddof=0 )\n",
        "var_Peso"
      ],
      "execution_count": 26,
      "outputs": [
        {
          "output_type": "execute_result",
          "data": {
            "text/plain": [
              "194.86222222222221"
            ]
          },
          "metadata": {},
          "execution_count": 26
        }
      ]
    },
    {
      "cell_type": "code",
      "metadata": {
        "id": "MAkHtP6sMda1",
        "outputId": "487db962-7fb0-48ed-88e2-e21d56b3df38",
        "colab": {
          "base_uri": "https://localhost:8080/"
        }
      },
      "source": [
        "var_Altura = np.var( array_Altura, ddof=0 )\n",
        "var_Altura"
      ],
      "execution_count": 27,
      "outputs": [
        {
          "output_type": "execute_result",
          "data": {
            "text/plain": [
              "0.004539555555555558"
            ]
          },
          "metadata": {},
          "execution_count": 27
        }
      ]
    },
    {
      "cell_type": "markdown",
      "metadata": {
        "id": "CD-59vvb4T5v"
      },
      "source": [
        "Cálculo das covariâncias:"
      ]
    },
    {
      "cell_type": "code",
      "metadata": {
        "id": "AVpoFaUO4WVO",
        "outputId": "aed53537-5dc1-4d30-fd47-c0e19a09cb66",
        "colab": {
          "base_uri": "https://localhost:8080/"
        }
      },
      "source": [
        "# Sequência com valores dos produtos dos elementos de mesmo índice dos arrays\n",
        "array_Idade.dropna() * array_Peso.dropna()"
      ],
      "execution_count": 28,
      "outputs": [
        {
          "output_type": "execute_result",
          "data": {
            "text/plain": [
              "Índice\n",
              "DANILO SANTOS DE FIGUEREDO              990.0\n",
              "EDUARDO DE SOUZA SILVA JUNIOR          1404.0\n",
              "EDUARDO PEREIRA DOS SANTOS             1530.0\n",
              "FABIO COELHO DIMARI VIEIRA             1350.0\n",
              "FELIPE CARNEIRO DA ROCHA CARVALHO      1746.0\n",
              "GABRIELA SANTOS MORAIS                 1500.0\n",
              "GABRIEL DE MATOS MESIAS                1080.0\n",
              "GUILHERME FIRMINO DOS SANTOS           1404.0\n",
              "LUIS GABRIEL DE ARAUJO VASCONCELOS     1220.0\n",
              "MANOEL MIGUEL DE LIMA SILVA JUNIOR     1922.0\n",
              "MANUELA CASSIA ANDRADE DE MAGALHAES    1140.0\n",
              "MARIA EDUARDA MELONI DO VALLE           792.0\n",
              "MARIA EDUARDA NOVO NOVAES              1411.0\n",
              "SAMUEL SILVA DE SOUZA                  1440.0\n",
              "WALTER LINHARES DE SIQUEIRA            1357.0\n",
              "dtype: float64"
            ]
          },
          "metadata": {},
          "execution_count": 28
        }
      ]
    },
    {
      "cell_type": "code",
      "metadata": {
        "id": "ggLeCV384Wx-",
        "outputId": "5aab85dc-0bcc-4bae-b12b-47698ed9a598",
        "colab": {
          "base_uri": "https://localhost:8080/"
        }
      },
      "source": [
        "# Covariância: diferença entre média dos produtos e produto das médias\n",
        "np.mean( array_Idade.dropna() * array_Peso.dropna() ) - np.mean( array_Idade.dropna() ) * np.mean( array_Peso.dropna() )"
      ],
      "execution_count": 29,
      "outputs": [
        {
          "output_type": "execute_result",
          "data": {
            "text/plain": [
              "-14.373333333333449"
            ]
          },
          "metadata": {},
          "execution_count": 29
        }
      ]
    },
    {
      "cell_type": "code",
      "metadata": {
        "id": "vBWeOKOH5D_x",
        "outputId": "394a2e61-1373-4c6c-a719-0c13173105fa",
        "colab": {
          "base_uri": "https://localhost:8080/"
        }
      },
      "source": [
        "np.mean( array_Idade.dropna() * array_Altura.dropna() ) - np.mean( array_Idade.dropna() ) * np.mean( array_Altura.dropna() )"
      ],
      "execution_count": 30,
      "outputs": [
        {
          "output_type": "execute_result",
          "data": {
            "text/plain": [
              "0.00639999999999219"
            ]
          },
          "metadata": {},
          "execution_count": 30
        }
      ]
    },
    {
      "cell_type": "code",
      "metadata": {
        "id": "yHoapbud5ETx",
        "outputId": "b8020449-f751-4112-eb45-2948c2fdba75",
        "colab": {
          "base_uri": "https://localhost:8080/"
        }
      },
      "source": [
        "np.mean( array_Peso.dropna() * array_Altura.dropna() ) - np.mean( array_Peso.dropna() ) * np.mean( array_Altura.dropna() )"
      ],
      "execution_count": 31,
      "outputs": [
        {
          "output_type": "execute_result",
          "data": {
            "text/plain": [
              "0.23115555555553158"
            ]
          },
          "metadata": {},
          "execution_count": 31
        }
      ]
    },
    {
      "cell_type": "markdown",
      "metadata": {
        "id": "d3S0LWvM5Rlm"
      },
      "source": [
        "Usando NumPy:"
      ]
    },
    {
      "cell_type": "code",
      "metadata": {
        "id": "mSnzM624MR07",
        "outputId": "50d6ed12-19e0-4786-e089-2d4150f40ede",
        "colab": {
          "base_uri": "https://localhost:8080/"
        }
      },
      "source": [
        "# (Idade, Peso)\n",
        "cov_Idade_Peso = np.cov( array_Idade.dropna(), array_Peso.dropna(), ddof=0 )\n",
        "cov_Idade_Peso"
      ],
      "execution_count": 32,
      "outputs": [
        {
          "output_type": "execute_result",
          "data": {
            "text/plain": [
              "array([[ 11.30666667, -14.37333333],\n",
              "       [-14.37333333, 194.86222222]])"
            ]
          },
          "metadata": {},
          "execution_count": 32
        }
      ]
    },
    {
      "cell_type": "code",
      "metadata": {
        "id": "z3JaVynyOO4V",
        "outputId": "16e2d4cc-68d2-45cb-ed8e-8e57df7ebdbd",
        "colab": {
          "base_uri": "https://localhost:8080/"
        }
      },
      "source": [
        "# Variância Idade\n",
        "cov_Idade_Peso[0,0]"
      ],
      "execution_count": 33,
      "outputs": [
        {
          "output_type": "execute_result",
          "data": {
            "text/plain": [
              "11.306666666666668"
            ]
          },
          "metadata": {},
          "execution_count": 33
        }
      ]
    },
    {
      "cell_type": "code",
      "metadata": {
        "id": "Iwtl3UZOOO4W",
        "outputId": "e393562f-d8c6-4986-d8e0-341c9d26e3f6",
        "colab": {
          "base_uri": "https://localhost:8080/"
        }
      },
      "source": [
        "# Variância Peso\n",
        "cov_Idade_Peso[1,1]"
      ],
      "execution_count": 34,
      "outputs": [
        {
          "output_type": "execute_result",
          "data": {
            "text/plain": [
              "194.86222222222221"
            ]
          },
          "metadata": {},
          "execution_count": 34
        }
      ]
    },
    {
      "cell_type": "code",
      "metadata": {
        "id": "pvo-FpbpOO4W",
        "outputId": "c2728e9b-6107-42b4-ede9-53875bb50b94",
        "colab": {
          "base_uri": "https://localhost:8080/"
        }
      },
      "source": [
        "# Covariância (Idade,Peso)\n",
        "cov_Idade_Peso[0,1]"
      ],
      "execution_count": 35,
      "outputs": [
        {
          "output_type": "execute_result",
          "data": {
            "text/plain": [
              "-14.373333333333333"
            ]
          },
          "metadata": {},
          "execution_count": 35
        }
      ]
    },
    {
      "cell_type": "code",
      "metadata": {
        "id": "_AuoYix9OO4W",
        "outputId": "2826f569-c24e-44d0-e70b-0dd5f4b80e6d",
        "colab": {
          "base_uri": "https://localhost:8080/"
        }
      },
      "source": [
        "# Coeficiente de correlação\n",
        "cov_Idade_Peso[0,1] / ( np.sqrt( var_Idade ) * np.sqrt( var_Peso ) )"
      ],
      "execution_count": 36,
      "outputs": [
        {
          "output_type": "execute_result",
          "data": {
            "text/plain": [
              "-0.3062149412397462"
            ]
          },
          "metadata": {},
          "execution_count": 36
        }
      ]
    },
    {
      "cell_type": "code",
      "metadata": {
        "id": "NCEbDA06JBE_",
        "outputId": "812baba3-000c-424c-bdae-2514b25203e2",
        "colab": {
          "base_uri": "https://localhost:8080/"
        }
      },
      "source": [
        "# (Idade, Altura)\n",
        "cov_Idade_Altura = np.cov( array_Idade.dropna(), array_Altura.dropna(), ddof=0 )\n",
        "cov_Idade_Altura"
      ],
      "execution_count": 37,
      "outputs": [
        {
          "output_type": "execute_result",
          "data": {
            "text/plain": [
              "array([[1.13066667e+01, 6.40000000e-03],\n",
              "       [6.40000000e-03, 4.53955556e-03]])"
            ]
          },
          "metadata": {},
          "execution_count": 37
        }
      ]
    },
    {
      "cell_type": "code",
      "metadata": {
        "id": "U5oMGrxXN-Qi",
        "outputId": "5a957d3c-d136-4170-d490-ffcfb14b3342",
        "colab": {
          "base_uri": "https://localhost:8080/"
        }
      },
      "source": [
        "# Variância Idade\n",
        "cov_Idade_Altura[0,0]"
      ],
      "execution_count": 38,
      "outputs": [
        {
          "output_type": "execute_result",
          "data": {
            "text/plain": [
              "11.306666666666668"
            ]
          },
          "metadata": {},
          "execution_count": 38
        }
      ]
    },
    {
      "cell_type": "code",
      "metadata": {
        "id": "lLNLauhAN-Qq",
        "outputId": "43dc0672-1f56-4d83-e058-97e4e15bf904",
        "colab": {
          "base_uri": "https://localhost:8080/"
        }
      },
      "source": [
        "# Variância Altura\n",
        "cov_Idade_Altura[1,1]"
      ],
      "execution_count": 39,
      "outputs": [
        {
          "output_type": "execute_result",
          "data": {
            "text/plain": [
              "0.004539555555555557"
            ]
          },
          "metadata": {},
          "execution_count": 39
        }
      ]
    },
    {
      "cell_type": "code",
      "metadata": {
        "id": "-oIr5uPVN-Qq",
        "outputId": "59287587-e20e-4873-a38e-59c07d0aef74",
        "colab": {
          "base_uri": "https://localhost:8080/"
        }
      },
      "source": [
        "# Covariância (Idade,Altura)\n",
        "cov_Idade_Altura[0,1]"
      ],
      "execution_count": 40,
      "outputs": [
        {
          "output_type": "execute_result",
          "data": {
            "text/plain": [
              "0.00639999999999994"
            ]
          },
          "metadata": {},
          "execution_count": 40
        }
      ]
    },
    {
      "cell_type": "code",
      "metadata": {
        "id": "rhOoYW7FN-Qq",
        "outputId": "4041d962-3bce-4ef7-df80-1c03293a7aec",
        "colab": {
          "base_uri": "https://localhost:8080/"
        }
      },
      "source": [
        "# Coeficiente de correlação\n",
        "cov_Idade_Altura[0,1] / ( np.sqrt( var_Idade ) * np.sqrt( var_Altura ) )"
      ],
      "execution_count": 41,
      "outputs": [
        {
          "output_type": "execute_result",
          "data": {
            "text/plain": [
              "0.028249190794065376"
            ]
          },
          "metadata": {},
          "execution_count": 41
        }
      ]
    },
    {
      "cell_type": "code",
      "metadata": {
        "id": "oO8HSqI0I-cW",
        "outputId": "01ce6544-e800-4d94-8278-d72ca1a468ff",
        "colab": {
          "base_uri": "https://localhost:8080/"
        }
      },
      "source": [
        "# (Peso, Altura)\n",
        "cov_Peso_Altura = np.cov( array_Peso.dropna(), array_Altura.dropna(), ddof=0 )\n",
        "cov_Peso_Altura"
      ],
      "execution_count": 42,
      "outputs": [
        {
          "output_type": "execute_result",
          "data": {
            "text/plain": [
              "array([[1.94862222e+02, 2.31155556e-01],\n",
              "       [2.31155556e-01, 4.53955556e-03]])"
            ]
          },
          "metadata": {},
          "execution_count": 42
        }
      ]
    },
    {
      "cell_type": "code",
      "metadata": {
        "id": "cizq8oJDNmc2",
        "outputId": "2dfad542-b1f5-4616-b254-f576637b2833",
        "colab": {
          "base_uri": "https://localhost:8080/"
        }
      },
      "source": [
        "# Variância Peso\n",
        "cov_Peso_Altura[0,0]"
      ],
      "execution_count": 43,
      "outputs": [
        {
          "output_type": "execute_result",
          "data": {
            "text/plain": [
              "194.86222222222221"
            ]
          },
          "metadata": {},
          "execution_count": 43
        }
      ]
    },
    {
      "cell_type": "code",
      "metadata": {
        "id": "FZ79z7OONrXG",
        "outputId": "5394bca1-30a5-4fe4-fdd9-a41dd6084282",
        "colab": {
          "base_uri": "https://localhost:8080/"
        }
      },
      "source": [
        "# Variância Altura\n",
        "cov_Peso_Altura[1,1]"
      ],
      "execution_count": 44,
      "outputs": [
        {
          "output_type": "execute_result",
          "data": {
            "text/plain": [
              "0.004539555555555557"
            ]
          },
          "metadata": {},
          "execution_count": 44
        }
      ]
    },
    {
      "cell_type": "code",
      "metadata": {
        "id": "dK5TZRaDNr8R",
        "outputId": "92aa306a-1222-4507-8260-3661a59f9087",
        "colab": {
          "base_uri": "https://localhost:8080/"
        }
      },
      "source": [
        "# Covariância (Peso,Altura)\n",
        "cov_Peso_Altura[0,1]"
      ],
      "execution_count": 45,
      "outputs": [
        {
          "output_type": "execute_result",
          "data": {
            "text/plain": [
              "0.2311555555555556"
            ]
          },
          "metadata": {},
          "execution_count": 45
        }
      ]
    },
    {
      "cell_type": "code",
      "metadata": {
        "id": "7jhndEK8NxiA",
        "outputId": "0953d603-15a3-4377-d205-f2474a0e02e7",
        "colab": {
          "base_uri": "https://localhost:8080/"
        }
      },
      "source": [
        "# Coeficiente de correlação\n",
        "cov_Peso_Altura[0,1] / ( np.sqrt( var_Peso ) * np.sqrt( var_Altura ) )"
      ],
      "execution_count": 46,
      "outputs": [
        {
          "output_type": "execute_result",
          "data": {
            "text/plain": [
              "0.24577281426643727"
            ]
          },
          "metadata": {},
          "execution_count": 46
        }
      ]
    },
    {
      "cell_type": "code",
      "metadata": {
        "id": "6L63PcO18qmY"
      },
      "source": [],
      "execution_count": 46,
      "outputs": []
    }
  ]
}