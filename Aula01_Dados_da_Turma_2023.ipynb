{
  "nbformat": 4,
  "nbformat_minor": 0,
  "metadata": {
    "colab": {
      "provenance": [],
      "include_colab_link": true
    },
    "kernelspec": {
      "name": "python3",
      "display_name": "Python 3"
    }
  },
  "cells": [
    {
      "cell_type": "markdown",
      "metadata": {
        "id": "view-in-github",
        "colab_type": "text"
      },
      "source": [
        "<a href=\"https://colab.research.google.com/github/elizamelo/FisicaGeral/blob/main/Aula01_Dados_da_Turma_2023.ipynb\" target=\"_parent\"><img src=\"https://colab.research.google.com/assets/colab-badge.svg\" alt=\"Open In Colab\"/></a>"
      ]
    },
    {
      "cell_type": "markdown",
      "source": [
        "Baseado na aula do prof. Antonio Vilela"
      ],
      "metadata": {
        "id": "qMOWikZ3hqyb"
      }
    },
    {
      "cell_type": "code",
      "source": [
        "import numpy as np\n",
        "import pandas as pd\n",
        "import matplotlib as mpl\n",
        "import matplotlib.pyplot as plt"
      ],
      "metadata": {
        "id": "KMCHHDb8hoMM"
      },
      "execution_count": 48,
      "outputs": []
    },
    {
      "cell_type": "markdown",
      "metadata": {
        "id": "1ikM_jc93RdJ"
      },
      "source": [
        "Tabela de idades, pesos e alturas:"
      ]
    },
    {
      "cell_type": "code",
      "metadata": {
        "colab": {
          "base_uri": "https://localhost:8080/"
        },
        "id": "jRyrwB0NJCkT",
        "outputId": "49847a0d-8367-4619-e31f-91a90fbeb42f"
      },
      "source": [
        "!curl -o Dados-alunos-2023-1.csv https://raw.githubusercontent.com/elizamelo/FisicaGeral/main/dados/DadosdaTurma2_2023_1%20-%20Dados%20da%20turma.csv\n",
        "#!curl -o Dados-alunos-2023-1.csv https://raw.githubusercontent.com/elizamelo/FisicaGeral/main/dados/DadosdaTurma2_2023_1_v2%20-%20Dados%20da%20turma.csv"
      ],
      "execution_count": 49,
      "outputs": [
        {
          "output_type": "stream",
          "name": "stdout",
          "text": [
            "  % Total    % Received % Xferd  Average Speed   Time    Time     Time  Current\n",
            "                                 Dload  Upload   Total   Spent    Left  Speed\n",
            "100   753  100   753    0     0   2018      0 --:--:-- --:--:-- --:--:--  2018\n"
          ]
        }
      ]
    },
    {
      "cell_type": "code",
      "metadata": {
        "id": "qql5tOsgb6Jl"
      },
      "source": [
        "# array_Idade = np.array( [  ] )\n",
        "# array_Peso = np.array( [  ] )\n",
        "# array_Altura = np.array( [ ] )"
      ],
      "execution_count": 50,
      "outputs": []
    },
    {
      "cell_type": "code",
      "source": [
        "df = pd.read_csv( \"Dados-alunos-2023-1.csv\", usecols=[0,1,2,3], nrows=18, skiprows=1,index_col=0, na_values=[\"0\"],names=[\"Índice\", \"Idade\", \"Peso\", \"Altura\"] )\n",
        "df"
      ],
      "metadata": {
        "colab": {
          "base_uri": "https://localhost:8080/",
          "height": 614
        },
        "id": "-wA7ytc7Gmvz",
        "outputId": "03318c5e-ed3c-4faf-cee3-e55de74045b1"
      },
      "execution_count": 51,
      "outputs": [
        {
          "output_type": "execute_result",
          "data": {
            "text/plain": [
              "                                     Idade  Peso  Altura\n",
              "Índice                                                  \n",
              "CARLOS ANDRE ANNECCHINI FERNANDES       37    85    1.75\n",
              "DANILO SANTOS DE FIGUEREDO              18    55    1.70\n",
              "EDUARDO DE SOUZA SILVA JUNIOR           18    78    1.81\n",
              "EDUARDO PEREIRA DOS SANTOS              18    85    1.78\n",
              "FABIO COELHO DIMARI VIEIRA              18    75    1.68\n",
              "FELIPE CARNEIRO DA ROCHA CARVALHO       18    97    1.67\n",
              "GABRIELA SANTOS MORAIS                  20    75    1.69\n",
              "GABRIEL DE MATOS MESIAS                 20    54    1.79\n",
              "GUILHERME FIRMINO DOS SANTOS            18    78    1.79\n",
              "LUIS GABRIEL DE ARAUJO VASCONCELOS      20    61    1.67\n",
              "MANOEL MIGUEL DE LIMA SILVA JUNIOR      31    62    1.72\n",
              "MANUELA CASSIA ANDRADE DE MAGALHAES     19    60    1.66\n",
              "MARIA EDUARDA MELONI DO VALLE           18    44    1.60\n",
              "MARIA EDUARDA NOVO NOVAES               17    83    1.60\n",
              "SAMUEL GOMES DE SOUZA HENRIQUE          20    65    1.70\n",
              "SAMUEL SILVA DE SOUZA                   18    80    1.80\n",
              "WALTER LINHARES DE SIQUEIRA             23    59    1.68"
            ],
            "text/html": [
              "\n",
              "  <div id=\"df-db3c3758-3b5e-4fdf-9d7c-977af3dfc1bc\">\n",
              "    <div class=\"colab-df-container\">\n",
              "      <div>\n",
              "<style scoped>\n",
              "    .dataframe tbody tr th:only-of-type {\n",
              "        vertical-align: middle;\n",
              "    }\n",
              "\n",
              "    .dataframe tbody tr th {\n",
              "        vertical-align: top;\n",
              "    }\n",
              "\n",
              "    .dataframe thead th {\n",
              "        text-align: right;\n",
              "    }\n",
              "</style>\n",
              "<table border=\"1\" class=\"dataframe\">\n",
              "  <thead>\n",
              "    <tr style=\"text-align: right;\">\n",
              "      <th></th>\n",
              "      <th>Idade</th>\n",
              "      <th>Peso</th>\n",
              "      <th>Altura</th>\n",
              "    </tr>\n",
              "    <tr>\n",
              "      <th>Índice</th>\n",
              "      <th></th>\n",
              "      <th></th>\n",
              "      <th></th>\n",
              "    </tr>\n",
              "  </thead>\n",
              "  <tbody>\n",
              "    <tr>\n",
              "      <th>CARLOS ANDRE ANNECCHINI FERNANDES</th>\n",
              "      <td>37</td>\n",
              "      <td>85</td>\n",
              "      <td>1.75</td>\n",
              "    </tr>\n",
              "    <tr>\n",
              "      <th>DANILO SANTOS DE FIGUEREDO</th>\n",
              "      <td>18</td>\n",
              "      <td>55</td>\n",
              "      <td>1.70</td>\n",
              "    </tr>\n",
              "    <tr>\n",
              "      <th>EDUARDO DE SOUZA SILVA JUNIOR</th>\n",
              "      <td>18</td>\n",
              "      <td>78</td>\n",
              "      <td>1.81</td>\n",
              "    </tr>\n",
              "    <tr>\n",
              "      <th>EDUARDO PEREIRA DOS SANTOS</th>\n",
              "      <td>18</td>\n",
              "      <td>85</td>\n",
              "      <td>1.78</td>\n",
              "    </tr>\n",
              "    <tr>\n",
              "      <th>FABIO COELHO DIMARI VIEIRA</th>\n",
              "      <td>18</td>\n",
              "      <td>75</td>\n",
              "      <td>1.68</td>\n",
              "    </tr>\n",
              "    <tr>\n",
              "      <th>FELIPE CARNEIRO DA ROCHA CARVALHO</th>\n",
              "      <td>18</td>\n",
              "      <td>97</td>\n",
              "      <td>1.67</td>\n",
              "    </tr>\n",
              "    <tr>\n",
              "      <th>GABRIELA SANTOS MORAIS</th>\n",
              "      <td>20</td>\n",
              "      <td>75</td>\n",
              "      <td>1.69</td>\n",
              "    </tr>\n",
              "    <tr>\n",
              "      <th>GABRIEL DE MATOS MESIAS</th>\n",
              "      <td>20</td>\n",
              "      <td>54</td>\n",
              "      <td>1.79</td>\n",
              "    </tr>\n",
              "    <tr>\n",
              "      <th>GUILHERME FIRMINO DOS SANTOS</th>\n",
              "      <td>18</td>\n",
              "      <td>78</td>\n",
              "      <td>1.79</td>\n",
              "    </tr>\n",
              "    <tr>\n",
              "      <th>LUIS GABRIEL DE ARAUJO VASCONCELOS</th>\n",
              "      <td>20</td>\n",
              "      <td>61</td>\n",
              "      <td>1.67</td>\n",
              "    </tr>\n",
              "    <tr>\n",
              "      <th>MANOEL MIGUEL DE LIMA SILVA JUNIOR</th>\n",
              "      <td>31</td>\n",
              "      <td>62</td>\n",
              "      <td>1.72</td>\n",
              "    </tr>\n",
              "    <tr>\n",
              "      <th>MANUELA CASSIA ANDRADE DE MAGALHAES</th>\n",
              "      <td>19</td>\n",
              "      <td>60</td>\n",
              "      <td>1.66</td>\n",
              "    </tr>\n",
              "    <tr>\n",
              "      <th>MARIA EDUARDA MELONI DO VALLE</th>\n",
              "      <td>18</td>\n",
              "      <td>44</td>\n",
              "      <td>1.60</td>\n",
              "    </tr>\n",
              "    <tr>\n",
              "      <th>MARIA EDUARDA NOVO NOVAES</th>\n",
              "      <td>17</td>\n",
              "      <td>83</td>\n",
              "      <td>1.60</td>\n",
              "    </tr>\n",
              "    <tr>\n",
              "      <th>SAMUEL GOMES DE SOUZA HENRIQUE</th>\n",
              "      <td>20</td>\n",
              "      <td>65</td>\n",
              "      <td>1.70</td>\n",
              "    </tr>\n",
              "    <tr>\n",
              "      <th>SAMUEL SILVA DE SOUZA</th>\n",
              "      <td>18</td>\n",
              "      <td>80</td>\n",
              "      <td>1.80</td>\n",
              "    </tr>\n",
              "    <tr>\n",
              "      <th>WALTER LINHARES DE SIQUEIRA</th>\n",
              "      <td>23</td>\n",
              "      <td>59</td>\n",
              "      <td>1.68</td>\n",
              "    </tr>\n",
              "  </tbody>\n",
              "</table>\n",
              "</div>\n",
              "      <button class=\"colab-df-convert\" onclick=\"convertToInteractive('df-db3c3758-3b5e-4fdf-9d7c-977af3dfc1bc')\"\n",
              "              title=\"Convert this dataframe to an interactive table.\"\n",
              "              style=\"display:none;\">\n",
              "        \n",
              "  <svg xmlns=\"http://www.w3.org/2000/svg\" height=\"24px\"viewBox=\"0 0 24 24\"\n",
              "       width=\"24px\">\n",
              "    <path d=\"M0 0h24v24H0V0z\" fill=\"none\"/>\n",
              "    <path d=\"M18.56 5.44l.94 2.06.94-2.06 2.06-.94-2.06-.94-.94-2.06-.94 2.06-2.06.94zm-11 1L8.5 8.5l.94-2.06 2.06-.94-2.06-.94L8.5 2.5l-.94 2.06-2.06.94zm10 10l.94 2.06.94-2.06 2.06-.94-2.06-.94-.94-2.06-.94 2.06-2.06.94z\"/><path d=\"M17.41 7.96l-1.37-1.37c-.4-.4-.92-.59-1.43-.59-.52 0-1.04.2-1.43.59L10.3 9.45l-7.72 7.72c-.78.78-.78 2.05 0 2.83L4 21.41c.39.39.9.59 1.41.59.51 0 1.02-.2 1.41-.59l7.78-7.78 2.81-2.81c.8-.78.8-2.07 0-2.86zM5.41 20L4 18.59l7.72-7.72 1.47 1.35L5.41 20z\"/>\n",
              "  </svg>\n",
              "      </button>\n",
              "      \n",
              "  <style>\n",
              "    .colab-df-container {\n",
              "      display:flex;\n",
              "      flex-wrap:wrap;\n",
              "      gap: 12px;\n",
              "    }\n",
              "\n",
              "    .colab-df-convert {\n",
              "      background-color: #E8F0FE;\n",
              "      border: none;\n",
              "      border-radius: 50%;\n",
              "      cursor: pointer;\n",
              "      display: none;\n",
              "      fill: #1967D2;\n",
              "      height: 32px;\n",
              "      padding: 0 0 0 0;\n",
              "      width: 32px;\n",
              "    }\n",
              "\n",
              "    .colab-df-convert:hover {\n",
              "      background-color: #E2EBFA;\n",
              "      box-shadow: 0px 1px 2px rgba(60, 64, 67, 0.3), 0px 1px 3px 1px rgba(60, 64, 67, 0.15);\n",
              "      fill: #174EA6;\n",
              "    }\n",
              "\n",
              "    [theme=dark] .colab-df-convert {\n",
              "      background-color: #3B4455;\n",
              "      fill: #D2E3FC;\n",
              "    }\n",
              "\n",
              "    [theme=dark] .colab-df-convert:hover {\n",
              "      background-color: #434B5C;\n",
              "      box-shadow: 0px 1px 3px 1px rgba(0, 0, 0, 0.15);\n",
              "      filter: drop-shadow(0px 1px 2px rgba(0, 0, 0, 0.3));\n",
              "      fill: #FFFFFF;\n",
              "    }\n",
              "  </style>\n",
              "\n",
              "      <script>\n",
              "        const buttonEl =\n",
              "          document.querySelector('#df-db3c3758-3b5e-4fdf-9d7c-977af3dfc1bc button.colab-df-convert');\n",
              "        buttonEl.style.display =\n",
              "          google.colab.kernel.accessAllowed ? 'block' : 'none';\n",
              "\n",
              "        async function convertToInteractive(key) {\n",
              "          const element = document.querySelector('#df-db3c3758-3b5e-4fdf-9d7c-977af3dfc1bc');\n",
              "          const dataTable =\n",
              "            await google.colab.kernel.invokeFunction('convertToInteractive',\n",
              "                                                     [key], {});\n",
              "          if (!dataTable) return;\n",
              "\n",
              "          const docLinkHtml = 'Like what you see? Visit the ' +\n",
              "            '<a target=\"_blank\" href=https://colab.research.google.com/notebooks/data_table.ipynb>data table notebook</a>'\n",
              "            + ' to learn more about interactive tables.';\n",
              "          element.innerHTML = '';\n",
              "          dataTable['output_type'] = 'display_data';\n",
              "          await google.colab.output.renderOutput(dataTable, element);\n",
              "          const docLink = document.createElement('div');\n",
              "          docLink.innerHTML = docLinkHtml;\n",
              "          element.appendChild(docLink);\n",
              "        }\n",
              "      </script>\n",
              "    </div>\n",
              "  </div>\n",
              "  "
            ]
          },
          "metadata": {},
          "execution_count": 51
        }
      ]
    },
    {
      "cell_type": "code",
      "source": [
        "df.describe()"
      ],
      "metadata": {
        "colab": {
          "base_uri": "https://localhost:8080/",
          "height": 300
        },
        "id": "9a2_mmHOgxks",
        "outputId": "6f004360-d1ad-4aea-f3f0-86f6a2d0ccdc"
      },
      "execution_count": 53,
      "outputs": [
        {
          "output_type": "execute_result",
          "data": {
            "text/plain": [
              "           Idade       Peso     Altura\n",
              "count  17.000000  17.000000  17.000000\n",
              "mean   20.647059  70.352941   1.711176\n",
              "std     5.326129  14.079867   0.066038\n",
              "min    17.000000  44.000000   1.600000\n",
              "25%    18.000000  60.000000   1.670000\n",
              "50%    18.000000  75.000000   1.700000\n",
              "75%    20.000000  80.000000   1.780000\n",
              "max    37.000000  97.000000   1.810000"
            ],
            "text/html": [
              "\n",
              "  <div id=\"df-d8deae55-f5fb-4b79-8590-66ec5a7c40bd\">\n",
              "    <div class=\"colab-df-container\">\n",
              "      <div>\n",
              "<style scoped>\n",
              "    .dataframe tbody tr th:only-of-type {\n",
              "        vertical-align: middle;\n",
              "    }\n",
              "\n",
              "    .dataframe tbody tr th {\n",
              "        vertical-align: top;\n",
              "    }\n",
              "\n",
              "    .dataframe thead th {\n",
              "        text-align: right;\n",
              "    }\n",
              "</style>\n",
              "<table border=\"1\" class=\"dataframe\">\n",
              "  <thead>\n",
              "    <tr style=\"text-align: right;\">\n",
              "      <th></th>\n",
              "      <th>Idade</th>\n",
              "      <th>Peso</th>\n",
              "      <th>Altura</th>\n",
              "    </tr>\n",
              "  </thead>\n",
              "  <tbody>\n",
              "    <tr>\n",
              "      <th>count</th>\n",
              "      <td>17.000000</td>\n",
              "      <td>17.000000</td>\n",
              "      <td>17.000000</td>\n",
              "    </tr>\n",
              "    <tr>\n",
              "      <th>mean</th>\n",
              "      <td>20.647059</td>\n",
              "      <td>70.352941</td>\n",
              "      <td>1.711176</td>\n",
              "    </tr>\n",
              "    <tr>\n",
              "      <th>std</th>\n",
              "      <td>5.326129</td>\n",
              "      <td>14.079867</td>\n",
              "      <td>0.066038</td>\n",
              "    </tr>\n",
              "    <tr>\n",
              "      <th>min</th>\n",
              "      <td>17.000000</td>\n",
              "      <td>44.000000</td>\n",
              "      <td>1.600000</td>\n",
              "    </tr>\n",
              "    <tr>\n",
              "      <th>25%</th>\n",
              "      <td>18.000000</td>\n",
              "      <td>60.000000</td>\n",
              "      <td>1.670000</td>\n",
              "    </tr>\n",
              "    <tr>\n",
              "      <th>50%</th>\n",
              "      <td>18.000000</td>\n",
              "      <td>75.000000</td>\n",
              "      <td>1.700000</td>\n",
              "    </tr>\n",
              "    <tr>\n",
              "      <th>75%</th>\n",
              "      <td>20.000000</td>\n",
              "      <td>80.000000</td>\n",
              "      <td>1.780000</td>\n",
              "    </tr>\n",
              "    <tr>\n",
              "      <th>max</th>\n",
              "      <td>37.000000</td>\n",
              "      <td>97.000000</td>\n",
              "      <td>1.810000</td>\n",
              "    </tr>\n",
              "  </tbody>\n",
              "</table>\n",
              "</div>\n",
              "      <button class=\"colab-df-convert\" onclick=\"convertToInteractive('df-d8deae55-f5fb-4b79-8590-66ec5a7c40bd')\"\n",
              "              title=\"Convert this dataframe to an interactive table.\"\n",
              "              style=\"display:none;\">\n",
              "        \n",
              "  <svg xmlns=\"http://www.w3.org/2000/svg\" height=\"24px\"viewBox=\"0 0 24 24\"\n",
              "       width=\"24px\">\n",
              "    <path d=\"M0 0h24v24H0V0z\" fill=\"none\"/>\n",
              "    <path d=\"M18.56 5.44l.94 2.06.94-2.06 2.06-.94-2.06-.94-.94-2.06-.94 2.06-2.06.94zm-11 1L8.5 8.5l.94-2.06 2.06-.94-2.06-.94L8.5 2.5l-.94 2.06-2.06.94zm10 10l.94 2.06.94-2.06 2.06-.94-2.06-.94-.94-2.06-.94 2.06-2.06.94z\"/><path d=\"M17.41 7.96l-1.37-1.37c-.4-.4-.92-.59-1.43-.59-.52 0-1.04.2-1.43.59L10.3 9.45l-7.72 7.72c-.78.78-.78 2.05 0 2.83L4 21.41c.39.39.9.59 1.41.59.51 0 1.02-.2 1.41-.59l7.78-7.78 2.81-2.81c.8-.78.8-2.07 0-2.86zM5.41 20L4 18.59l7.72-7.72 1.47 1.35L5.41 20z\"/>\n",
              "  </svg>\n",
              "      </button>\n",
              "      \n",
              "  <style>\n",
              "    .colab-df-container {\n",
              "      display:flex;\n",
              "      flex-wrap:wrap;\n",
              "      gap: 12px;\n",
              "    }\n",
              "\n",
              "    .colab-df-convert {\n",
              "      background-color: #E8F0FE;\n",
              "      border: none;\n",
              "      border-radius: 50%;\n",
              "      cursor: pointer;\n",
              "      display: none;\n",
              "      fill: #1967D2;\n",
              "      height: 32px;\n",
              "      padding: 0 0 0 0;\n",
              "      width: 32px;\n",
              "    }\n",
              "\n",
              "    .colab-df-convert:hover {\n",
              "      background-color: #E2EBFA;\n",
              "      box-shadow: 0px 1px 2px rgba(60, 64, 67, 0.3), 0px 1px 3px 1px rgba(60, 64, 67, 0.15);\n",
              "      fill: #174EA6;\n",
              "    }\n",
              "\n",
              "    [theme=dark] .colab-df-convert {\n",
              "      background-color: #3B4455;\n",
              "      fill: #D2E3FC;\n",
              "    }\n",
              "\n",
              "    [theme=dark] .colab-df-convert:hover {\n",
              "      background-color: #434B5C;\n",
              "      box-shadow: 0px 1px 3px 1px rgba(0, 0, 0, 0.15);\n",
              "      filter: drop-shadow(0px 1px 2px rgba(0, 0, 0, 0.3));\n",
              "      fill: #FFFFFF;\n",
              "    }\n",
              "  </style>\n",
              "\n",
              "      <script>\n",
              "        const buttonEl =\n",
              "          document.querySelector('#df-d8deae55-f5fb-4b79-8590-66ec5a7c40bd button.colab-df-convert');\n",
              "        buttonEl.style.display =\n",
              "          google.colab.kernel.accessAllowed ? 'block' : 'none';\n",
              "\n",
              "        async function convertToInteractive(key) {\n",
              "          const element = document.querySelector('#df-d8deae55-f5fb-4b79-8590-66ec5a7c40bd');\n",
              "          const dataTable =\n",
              "            await google.colab.kernel.invokeFunction('convertToInteractive',\n",
              "                                                     [key], {});\n",
              "          if (!dataTable) return;\n",
              "\n",
              "          const docLinkHtml = 'Like what you see? Visit the ' +\n",
              "            '<a target=\"_blank\" href=https://colab.research.google.com/notebooks/data_table.ipynb>data table notebook</a>'\n",
              "            + ' to learn more about interactive tables.';\n",
              "          element.innerHTML = '';\n",
              "          dataTable['output_type'] = 'display_data';\n",
              "          await google.colab.output.renderOutput(dataTable, element);\n",
              "          const docLink = document.createElement('div');\n",
              "          docLink.innerHTML = docLinkHtml;\n",
              "          element.appendChild(docLink);\n",
              "        }\n",
              "      </script>\n",
              "    </div>\n",
              "  </div>\n",
              "  "
            ]
          },
          "metadata": {},
          "execution_count": 53
        }
      ]
    },
    {
      "cell_type": "code",
      "source": [
        "df.dtypes"
      ],
      "metadata": {
        "id": "j0hgnGYWbVWv",
        "outputId": "8cef046a-30f4-4ff4-f113-1a3637b48f1d",
        "colab": {
          "base_uri": "https://localhost:8080/"
        }
      },
      "execution_count": 54,
      "outputs": [
        {
          "output_type": "execute_result",
          "data": {
            "text/plain": [
              "Idade       int64\n",
              "Peso        int64\n",
              "Altura    float64\n",
              "dtype: object"
            ]
          },
          "metadata": {},
          "execution_count": 54
        }
      ]
    },
    {
      "cell_type": "code",
      "source": [
        "#df['Idade'] = df['Idade'].astype('int64')\n",
        "#df['Idade'] = pd.to_numeric(df['Idade'], errors='coerce')\n",
        "#df.dtypes\n",
        "#df[\"Peso\"] = pd.to_numeric(df[\"Peso\"], errors='coerce')\n",
        "#df.dtypes\n",
        "#df[\"Altura\"] = pd.to_numeric(df[\"Altura\"], errors='coerce')\n",
        "#df.dtypes"
      ],
      "metadata": {
        "id": "5vtu_2v_bBPZ"
      },
      "execution_count": 55,
      "outputs": []
    },
    {
      "cell_type": "markdown",
      "source": [],
      "metadata": {
        "id": "vyEy6bxJGnQ7"
      }
    },
    {
      "cell_type": "markdown",
      "metadata": {
        "id": "f_kxKfb7YftY"
      },
      "source": [
        "Idade:"
      ]
    },
    {
      "cell_type": "code",
      "metadata": {
        "colab": {
          "base_uri": "https://localhost:8080/"
        },
        "id": "FzO6k2jrYGLF",
        "outputId": "4187e1d6-7b2d-4ad5-96d1-1fcd1b0671b9"
      },
      "source": [
        "#array_Idade = df.iloc[:, 0]\n",
        "array_Idade = df[ \"Idade\" ]\n",
        "array_Idade.dropna()\n",
        "\n"
      ],
      "execution_count": 56,
      "outputs": [
        {
          "output_type": "execute_result",
          "data": {
            "text/plain": [
              "Índice\n",
              "CARLOS ANDRE ANNECCHINI FERNANDES      37\n",
              "DANILO SANTOS DE FIGUEREDO             18\n",
              "EDUARDO DE SOUZA SILVA JUNIOR          18\n",
              "EDUARDO PEREIRA DOS SANTOS             18\n",
              "FABIO COELHO DIMARI VIEIRA             18\n",
              "FELIPE CARNEIRO DA ROCHA CARVALHO      18\n",
              "GABRIELA SANTOS MORAIS                 20\n",
              "GABRIEL DE MATOS MESIAS                20\n",
              "GUILHERME FIRMINO DOS SANTOS           18\n",
              "LUIS GABRIEL DE ARAUJO VASCONCELOS     20\n",
              "MANOEL MIGUEL DE LIMA SILVA JUNIOR     31\n",
              "MANUELA CASSIA ANDRADE DE MAGALHAES    19\n",
              "MARIA EDUARDA MELONI DO VALLE          18\n",
              "MARIA EDUARDA NOVO NOVAES              17\n",
              "SAMUEL GOMES DE SOUZA HENRIQUE         20\n",
              "SAMUEL SILVA DE SOUZA                  18\n",
              "WALTER LINHARES DE SIQUEIRA            23\n",
              "Name: Idade, dtype: int64"
            ]
          },
          "metadata": {},
          "execution_count": 56
        }
      ]
    },
    {
      "cell_type": "markdown",
      "source": [
        "Média:"
      ],
      "metadata": {
        "id": "XBHRMA4ekoYW"
      }
    },
    {
      "cell_type": "code",
      "source": [
        "np.sum( array_Idade )"
      ],
      "metadata": {
        "id": "R3os_e6zkjj8",
        "outputId": "a800c368-88eb-437e-e4cf-6971b8bc3b5c",
        "colab": {
          "base_uri": "https://localhost:8080/"
        }
      },
      "execution_count": 63,
      "outputs": [
        {
          "output_type": "execute_result",
          "data": {
            "text/plain": [
              "351"
            ]
          },
          "metadata": {},
          "execution_count": 63
        }
      ]
    },
    {
      "cell_type": "code",
      "source": [
        "N= array_Idade.size\n",
        "N"
      ],
      "metadata": {
        "id": "jm1ZR06uku1C",
        "outputId": "1996b0b4-fd2e-4e83-8c48-17841fb1c162",
        "colab": {
          "base_uri": "https://localhost:8080/"
        }
      },
      "execution_count": 66,
      "outputs": [
        {
          "output_type": "execute_result",
          "data": {
            "text/plain": [
              "17"
            ]
          },
          "metadata": {},
          "execution_count": 66
        }
      ]
    },
    {
      "cell_type": "code",
      "source": [
        "media_I=np.sum( array_Idade )/N\n",
        "print ( \"Média: {}\".format( media_I ) )"
      ],
      "metadata": {
        "id": "05xFvkKck7EW",
        "outputId": "baf30c36-cf40-4f9f-fdd0-fad05639f869",
        "colab": {
          "base_uri": "https://localhost:8080/"
        }
      },
      "execution_count": 71,
      "outputs": [
        {
          "output_type": "stream",
          "name": "stdout",
          "text": [
            "Média: 20.647058823529413\n"
          ]
        }
      ]
    },
    {
      "cell_type": "markdown",
      "source": [
        "Usando a função NumPy:\n"
      ],
      "metadata": {
        "id": "wCZzutj-lV4w"
      }
    },
    {
      "cell_type": "code",
      "metadata": {
        "id": "GkTCo1pTYxf3",
        "outputId": "abf6defa-37ba-421f-a679-61907940af8c",
        "colab": {
          "base_uri": "https://localhost:8080/"
        }
      },
      "source": [
        "np.mean( array_Idade )"
      ],
      "execution_count": 57,
      "outputs": [
        {
          "output_type": "execute_result",
          "data": {
            "text/plain": [
              "20.647058823529413"
            ]
          },
          "metadata": {},
          "execution_count": 57
        }
      ]
    },
    {
      "cell_type": "code",
      "source": [
        "\n",
        "np.sort( array_Idade.dropna() )"
      ],
      "metadata": {
        "id": "RK1HnrYcY5A2",
        "outputId": "88ed091f-1589-4d4b-dc08-cf3b6b6c5783",
        "colab": {
          "base_uri": "https://localhost:8080/"
        }
      },
      "execution_count": 72,
      "outputs": [
        {
          "output_type": "execute_result",
          "data": {
            "text/plain": [
              "array([17, 18, 18, 18, 18, 18, 18, 18, 18, 19, 20, 20, 20, 20, 23, 31, 37])"
            ]
          },
          "metadata": {},
          "execution_count": 72
        }
      ]
    },
    {
      "cell_type": "markdown",
      "source": [
        "\n",
        "\n",
        "Histograma usando matplotlib:\n"
      ],
      "metadata": {
        "id": "GfjGtHhslfnG"
      }
    },
    {
      "cell_type": "code",
      "metadata": {
        "id": "n4O-MCDuYxf4",
        "outputId": "78e068b1-5ef1-4397-f205-464d7dd56d8c",
        "colab": {
          "base_uri": "https://localhost:8080/",
          "height": 569
        }
      },
      "source": [
        "fig = plt.figure( figsize=(8,6) )\n",
        "\n",
        "counts, bins, _ = plt.hist( array_Idade, bins=11, range=(16, 38) )\n",
        "plt.xlim( 15, 40 )\n",
        "plt.xlabel( \"Idade (anos)\", fontsize=18 )\n",
        "plt.ylabel( \"Frequência\", fontsize=18 )"
      ],
      "execution_count": 73,
      "outputs": [
        {
          "output_type": "execute_result",
          "data": {
            "text/plain": [
              "Text(0, 0.5, 'Frequência')"
            ]
          },
          "metadata": {},
          "execution_count": 73
        },
        {
          "output_type": "display_data",
          "data": {
            "text/plain": [
              "<Figure size 800x600 with 1 Axes>"
            ],
            "image/png": "[encoded data removed]"
          },
          "metadata": {}
        }
      ]
    },
    {
      "cell_type": "markdown",
      "source": [
        "\n",
        "\n",
        "Frequência para cada intervalo:\n"
      ],
      "metadata": {
        "id": "QPTS7-D6lnAv"
      }
    },
    {
      "cell_type": "code",
      "source": [
        "counts"
      ],
      "metadata": {
        "id": "qN_UfqOEjym9",
        "outputId": "05b7e54a-d8dc-46e3-b17f-ac79b758dd04",
        "colab": {
          "base_uri": "https://localhost:8080/"
        }
      },
      "execution_count": 61,
      "outputs": [
        {
          "output_type": "execute_result",
          "data": {
            "text/plain": [
              "array([1., 9., 4., 1., 0., 0., 0., 1., 0., 0., 1.])"
            ]
          },
          "metadata": {},
          "execution_count": 61
        }
      ]
    },
    {
      "cell_type": "markdown",
      "source": [
        "Bordas dos intervalos:"
      ],
      "metadata": {
        "id": "FNx6k0rllqe2"
      }
    },
    {
      "cell_type": "code",
      "source": [
        "bins"
      ],
      "metadata": {
        "id": "HFGp326hj18M",
        "outputId": "d17d3847-457e-445f-f00a-61c265c8d7f8",
        "colab": {
          "base_uri": "https://localhost:8080/"
        }
      },
      "execution_count": 62,
      "outputs": [
        {
          "output_type": "execute_result",
          "data": {
            "text/plain": [
              "array([16., 18., 20., 22., 24., 26., 28., 30., 32., 34., 36., 38.])"
            ]
          },
          "metadata": {},
          "execution_count": 62
        }
      ]
    },
    {
      "cell_type": "markdown",
      "source": [
        "\n",
        "\n",
        "Cálculo da média quadrática:\n"
      ],
      "metadata": {
        "id": "Ie1ZFLg8lxuF"
      }
    },
    {
      "cell_type": "code",
      "source": [
        "array_Idade**2"
      ],
      "metadata": {
        "id": "Hq2rE4MXl07Z",
        "outputId": "db6440f3-82e0-4a3f-d5d1-1a30a8861c9b",
        "colab": {
          "base_uri": "https://localhost:8080/"
        }
      },
      "execution_count": 74,
      "outputs": [
        {
          "output_type": "execute_result",
          "data": {
            "text/plain": [
              "Índice\n",
              "CARLOS ANDRE ANNECCHINI FERNANDES      1369\n",
              "DANILO SANTOS DE FIGUEREDO              324\n",
              "EDUARDO DE SOUZA SILVA JUNIOR           324\n",
              "EDUARDO PEREIRA DOS SANTOS              324\n",
              "FABIO COELHO DIMARI VIEIRA              324\n",
              "FELIPE CARNEIRO DA ROCHA CARVALHO       324\n",
              "GABRIELA SANTOS MORAIS                  400\n",
              "GABRIEL DE MATOS MESIAS                 400\n",
              "GUILHERME FIRMINO DOS SANTOS            324\n",
              "LUIS GABRIEL DE ARAUJO VASCONCELOS      400\n",
              "MANOEL MIGUEL DE LIMA SILVA JUNIOR      961\n",
              "MANUELA CASSIA ANDRADE DE MAGALHAES     361\n",
              "MARIA EDUARDA MELONI DO VALLE           324\n",
              "MARIA EDUARDA NOVO NOVAES               289\n",
              "SAMUEL GOMES DE SOUZA HENRIQUE          400\n",
              "SAMUEL SILVA DE SOUZA                   324\n",
              "WALTER LINHARES DE SIQUEIRA             529\n",
              "Name: Idade, dtype: int64"
            ]
          },
          "metadata": {},
          "execution_count": 74
        }
      ]
    },
    {
      "cell_type": "code",
      "source": [
        "print ( \"Média quadrática: {}\".format( np.sqrt( np.mean( array_Idade ** 2 ) ) ) )"
      ],
      "metadata": {
        "id": "pEp7KX2Jl97P",
        "outputId": "80a34228-48e0-4ca6-d6ff-bbf5868d82f1",
        "colab": {
          "base_uri": "https://localhost:8080/"
        }
      },
      "execution_count": 75,
      "outputs": [
        {
          "output_type": "stream",
          "name": "stdout",
          "text": [
            "Média quadrática: 21.283796653792763\n"
          ]
        }
      ]
    },
    {
      "cell_type": "markdown",
      "source": [
        "\n",
        "\n",
        "Cálculo da mediana:\n"
      ],
      "metadata": {
        "id": "CZvrpqsymGSN"
      }
    },
    {
      "cell_type": "code",
      "source": [
        "array_I_ord = np.sort( array_Idade )\n",
        "array_I_ord"
      ],
      "metadata": {
        "id": "qn5lDeojmHMP",
        "outputId": "6b952905-ed6b-43b2-8905-cfac6e9973d0",
        "colab": {
          "base_uri": "https://localhost:8080/"
        }
      },
      "execution_count": 76,
      "outputs": [
        {
          "output_type": "execute_result",
          "data": {
            "text/plain": [
              "array([17, 18, 18, 18, 18, 18, 18, 18, 18, 19, 20, 20, 20, 20, 23, 31, 37])"
            ]
          },
          "metadata": {},
          "execution_count": 76
        }
      ]
    },
    {
      "cell_type": "code",
      "source": [
        "array_I_ord[ int(N/2) - 1 ] # Índices de 0..(N-1)"
      ],
      "metadata": {
        "id": "xBVMf6fNmcb-",
        "outputId": "17b60baa-e92a-41f2-98f5-5d508b30be68",
        "colab": {
          "base_uri": "https://localhost:8080/"
        }
      },
      "execution_count": 77,
      "outputs": [
        {
          "output_type": "execute_result",
          "data": {
            "text/plain": [
              "18"
            ]
          },
          "metadata": {},
          "execution_count": 77
        }
      ]
    },
    {
      "cell_type": "code",
      "source": [
        "array_I_ord[ int(N/2) ] # Índices de 0..(N-1)\n",
        "     "
      ],
      "metadata": {
        "id": "xqx19LfImfbN",
        "outputId": "7343aec9-81f8-4021-e5a0-5e638220577e",
        "colab": {
          "base_uri": "https://localhost:8080/"
        }
      },
      "execution_count": 79,
      "outputs": [
        {
          "output_type": "execute_result",
          "data": {
            "text/plain": [
              "18"
            ]
          },
          "metadata": {},
          "execution_count": 79
        }
      ]
    },
    {
      "cell_type": "code",
      "source": [
        "np.median( array_Idade )"
      ],
      "metadata": {
        "id": "HeiUnhw7mpYw",
        "outputId": "14251e50-88d9-4c87-9cb0-44d067979a93",
        "colab": {
          "base_uri": "https://localhost:8080/"
        }
      },
      "execution_count": 80,
      "outputs": [
        {
          "output_type": "execute_result",
          "data": {
            "text/plain": [
              "18.0"
            ]
          },
          "metadata": {},
          "execution_count": 80
        }
      ]
    },
    {
      "cell_type": "markdown",
      "source": [
        "\n",
        "\n",
        "Cálculo da moda (histograma):\n"
      ],
      "metadata": {
        "id": "ZSD4HfP3mx_2"
      }
    },
    {
      "cell_type": "code",
      "source": [
        "idx_max = np.argmax( counts )\n",
        "print ( \"Valor máximo: {}\".format( counts[ idx_max ] ) )\n",
        "print ( \"Intervalo com valor máximo: ({},{})\".format( bins[ idx_max ], bins[ idx_max+1 ] ) )\n",
        "     \n"
      ],
      "metadata": {
        "id": "1OTA1KAcmw2l",
        "outputId": "71bdcc30-bbe4-481b-e6b6-24b7e20c8098",
        "colab": {
          "base_uri": "https://localhost:8080/"
        }
      },
      "execution_count": 81,
      "outputs": [
        {
          "output_type": "stream",
          "name": "stdout",
          "text": [
            "Valor máximo: 9.0\n",
            "Intervalo com valor máximo: (18.0,20.0)\n"
          ]
        }
      ]
    },
    {
      "cell_type": "markdown",
      "metadata": {
        "id": "3lXjn0sKLSks"
      },
      "source": [
        "Peso:"
      ]
    },
    {
      "cell_type": "code",
      "metadata": {
        "id": "fBT6qGrbLReX",
        "outputId": "5ca160b3-dab7-4900-9a63-f99e26ee4f58",
        "colab": {
          "base_uri": "https://localhost:8080/"
        }
      },
      "source": [
        "#array_Peso = df.iloc[:, 1]\n",
        "array_Peso = df[ \"Peso\" ]\n",
        "array_Peso"
      ],
      "execution_count": 83,
      "outputs": [
        {
          "output_type": "execute_result",
          "data": {
            "text/plain": [
              "Índice\n",
              "CARLOS ANDRE ANNECCHINI FERNANDES      85\n",
              "DANILO SANTOS DE FIGUEREDO             55\n",
              "EDUARDO DE SOUZA SILVA JUNIOR          78\n",
              "EDUARDO PEREIRA DOS SANTOS             85\n",
              "FABIO COELHO DIMARI VIEIRA             75\n",
              "FELIPE CARNEIRO DA ROCHA CARVALHO      97\n",
              "GABRIELA SANTOS MORAIS                 75\n",
              "GABRIEL DE MATOS MESIAS                54\n",
              "GUILHERME FIRMINO DOS SANTOS           78\n",
              "LUIS GABRIEL DE ARAUJO VASCONCELOS     61\n",
              "MANOEL MIGUEL DE LIMA SILVA JUNIOR     62\n",
              "MANUELA CASSIA ANDRADE DE MAGALHAES    60\n",
              "MARIA EDUARDA MELONI DO VALLE          44\n",
              "MARIA EDUARDA NOVO NOVAES              83\n",
              "SAMUEL GOMES DE SOUZA HENRIQUE         65\n",
              "SAMUEL SILVA DE SOUZA                  80\n",
              "WALTER LINHARES DE SIQUEIRA            59\n",
              "Name: Peso, dtype: int64"
            ]
          },
          "metadata": {},
          "execution_count": 83
        }
      ]
    },
    {
      "cell_type": "code",
      "metadata": {
        "id": "noPnFzXSLRea",
        "outputId": "2bdb2458-16cb-4a44-fa21-f66633ed394b",
        "colab": {
          "base_uri": "https://localhost:8080/"
        }
      },
      "source": [
        "np.mean( array_Peso )"
      ],
      "execution_count": 84,
      "outputs": [
        {
          "output_type": "execute_result",
          "data": {
            "text/plain": [
              "70.3529411764706"
            ]
          },
          "metadata": {},
          "execution_count": 84
        }
      ]
    },
    {
      "cell_type": "code",
      "metadata": {
        "id": "awDIFiKHLRea",
        "outputId": "21193c8c-3155-4745-8d8c-27e227d938e8",
        "colab": {
          "base_uri": "https://localhost:8080/"
        }
      },
      "source": [
        "#np.sort( array_Peso.dropna() )\n",
        "np.sort( array_Peso )"
      ],
      "execution_count": 85,
      "outputs": [
        {
          "output_type": "execute_result",
          "data": {
            "text/plain": [
              "array([44, 54, 55, 59, 60, 61, 62, 65, 75, 75, 78, 78, 80, 83, 85, 85, 97])"
            ]
          },
          "metadata": {},
          "execution_count": 85
        }
      ]
    },
    {
      "cell_type": "code",
      "metadata": {
        "id": "7FwJxbkHLReb",
        "outputId": "92ae126d-bee4-4fab-c4f4-05adcb39cadd",
        "colab": {
          "base_uri": "https://localhost:8080/",
          "height": 569
        }
      },
      "source": [
        "fig = plt.figure( figsize=(8,6) )\n",
        "\n",
        "counts, bins, _ = plt.hist( array_Peso, bins=12, range=(40., 100.) )\n",
        "plt.xlim( 40., 100. )\n",
        "plt.xlabel( \"Peso (kg)\", fontsize=18 )\n",
        "plt.ylabel( \"Frequência\", fontsize=18 )"
      ],
      "execution_count": 86,
      "outputs": [
        {
          "output_type": "execute_result",
          "data": {
            "text/plain": [
              "Text(0, 0.5, 'Frequência')"
            ]
          },
          "metadata": {},
          "execution_count": 86
        },
        {
          "output_type": "display_data",
          "data": {
            "text/plain": [
              "<Figure size 800x600 with 1 Axes>"
            ],
            "image/png": "[encoded data removed]"
          },
          "metadata": {}
        }
      ]
    },
    {
      "cell_type": "markdown",
      "metadata": {
        "id": "oDRjgBLX6X9A"
      },
      "source": [
        "Altura:"
      ]
    },
    {
      "cell_type": "code",
      "metadata": {
        "id": "mepbn-wQ6X9D",
        "outputId": "da6c118d-f5ab-41f3-d775-04c925acff40",
        "colab": {
          "base_uri": "https://localhost:8080/"
        }
      },
      "source": [
        "#array_Altura = df.iloc[:, 2]\n",
        "array_Altura = df[ \"Altura\" ]\n",
        "array_Altura.dropna()"
      ],
      "execution_count": 87,
      "outputs": [
        {
          "output_type": "execute_result",
          "data": {
            "text/plain": [
              "Índice\n",
              "CARLOS ANDRE ANNECCHINI FERNANDES      1.75\n",
              "DANILO SANTOS DE FIGUEREDO             1.70\n",
              "EDUARDO DE SOUZA SILVA JUNIOR          1.81\n",
              "EDUARDO PEREIRA DOS SANTOS             1.78\n",
              "FABIO COELHO DIMARI VIEIRA             1.68\n",
              "FELIPE CARNEIRO DA ROCHA CARVALHO      1.67\n",
              "GABRIELA SANTOS MORAIS                 1.69\n",
              "GABRIEL DE MATOS MESIAS                1.79\n",
              "GUILHERME FIRMINO DOS SANTOS           1.79\n",
              "LUIS GABRIEL DE ARAUJO VASCONCELOS     1.67\n",
              "MANOEL MIGUEL DE LIMA SILVA JUNIOR     1.72\n",
              "MANUELA CASSIA ANDRADE DE MAGALHAES    1.66\n",
              "MARIA EDUARDA MELONI DO VALLE          1.60\n",
              "MARIA EDUARDA NOVO NOVAES              1.60\n",
              "SAMUEL GOMES DE SOUZA HENRIQUE         1.70\n",
              "SAMUEL SILVA DE SOUZA                  1.80\n",
              "WALTER LINHARES DE SIQUEIRA            1.68\n",
              "Name: Altura, dtype: float64"
            ]
          },
          "metadata": {},
          "execution_count": 87
        }
      ]
    },
    {
      "cell_type": "code",
      "metadata": {
        "id": "jwbvz9N36X9F",
        "outputId": "9707383c-4317-41e9-c8da-ca0a81cc02b0",
        "colab": {
          "base_uri": "https://localhost:8080/"
        }
      },
      "source": [
        "np.mean( array_Altura )"
      ],
      "execution_count": 17,
      "outputs": [
        {
          "output_type": "execute_result",
          "data": {
            "text/plain": [
              "1.7111764705882353"
            ]
          },
          "metadata": {},
          "execution_count": 17
        }
      ]
    },
    {
      "cell_type": "code",
      "metadata": {
        "id": "94H7jDKV6X9I",
        "outputId": "8801a400-17a3-4f9b-e9a1-fb293d981183",
        "colab": {
          "base_uri": "https://localhost:8080/"
        }
      },
      "source": [
        "np.sort( array_Altura.dropna() )"
      ],
      "execution_count": 18,
      "outputs": [
        {
          "output_type": "execute_result",
          "data": {
            "text/plain": [
              "array([1.6 , 1.6 , 1.66, 1.67, 1.67, 1.68, 1.68, 1.69, 1.7 , 1.7 , 1.72,\n",
              "       1.75, 1.78, 1.79, 1.79, 1.8 , 1.81])"
            ]
          },
          "metadata": {},
          "execution_count": 18
        }
      ]
    },
    {
      "cell_type": "code",
      "metadata": {
        "id": "oYPruljm6X9M",
        "outputId": "16778263-284d-4ea4-c4d6-1665e938800b",
        "colab": {
          "base_uri": "https://localhost:8080/",
          "height": 569
        }
      },
      "source": [
        "fig = plt.figure( figsize=(8,6) )\n",
        "\n",
        "counts, bins, _ = plt.hist( array_Altura, bins=9, range=(1.55, 2.00) )\n",
        "plt.xlim( 1.55, 2.00 )\n",
        "plt.xlabel( \"Altura (m)\", fontsize=18 )\n",
        "plt.ylabel( \"Frequência\", fontsize=18 )"
      ],
      "execution_count": 19,
      "outputs": [
        {
          "output_type": "execute_result",
          "data": {
            "text/plain": [
              "Text(0, 0.5, 'Frequência')"
            ]
          },
          "metadata": {},
          "execution_count": 19
        },
        {
          "output_type": "display_data",
          "data": {
            "text/plain": [
              "<Figure size 800x600 with 1 Axes>"
            ],
            "image/png": "[encoded data removed]"
          },
          "metadata": {}
        }
      ]
    },
    {
      "cell_type": "markdown",
      "metadata": {
        "id": "HIiA6cYsLu40"
      },
      "source": [
        "Correlação Idade vs Peso:"
      ]
    },
    {
      "cell_type": "code",
      "metadata": {
        "id": "5ohqUW8jO_9v",
        "outputId": "99c4d48c-9d07-472c-8472-acf0c6ace89a",
        "colab": {
          "base_uri": "https://localhost:8080/",
          "height": 574
        }
      },
      "source": [
        "fig = plt.figure( figsize=(8,6) )\n",
        "\n",
        "plt.plot( array_Idade.dropna(), array_Peso.dropna(), 'o' )\n",
        "plt.xlim( 15, 55 )\n",
        "plt.ylim( 40., 140. )\n",
        "plt.xlabel( \"Idade (anos)\", fontsize=18 )\n",
        "plt.ylabel( \"Peso (kg)\", fontsize=18 )"
      ],
      "execution_count": 20,
      "outputs": [
        {
          "output_type": "execute_result",
          "data": {
            "text/plain": [
              "Text(0, 0.5, 'Peso (kg)')"
            ]
          },
          "metadata": {},
          "execution_count": 20
        },
        {
          "output_type": "display_data",
          "data": {
            "text/plain": [
              "<Figure size 800x600 with 1 Axes>"
            ],
            "image/png": "[encoded data removed]"
          },
          "metadata": {}
        }
      ]
    },
    {
      "cell_type": "markdown",
      "metadata": {
        "id": "oElstG7j72ow"
      },
      "source": [
        "Correlação Idade vs Altura:"
      ]
    },
    {
      "cell_type": "code",
      "metadata": {
        "id": "tu60RRsGO-8C",
        "outputId": "ef7ce330-6f54-42f8-d6ac-f020499108ff",
        "colab": {
          "base_uri": "https://localhost:8080/",
          "height": 574
        }
      },
      "source": [
        "fig = plt.figure( figsize=(8,6) )\n",
        "\n",
        "plt.plot( array_Idade.dropna(), array_Altura.dropna(), 'o' )\n",
        "plt.xlim( 15, 55 )\n",
        "plt.ylim( 1.55, 2.00 )\n",
        "plt.xlabel( \"Idade (anos)\", fontsize=18 )\n",
        "plt.ylabel( \"Altura (m)\", fontsize=18 )"
      ],
      "execution_count": 21,
      "outputs": [
        {
          "output_type": "execute_result",
          "data": {
            "text/plain": [
              "Text(0, 0.5, 'Altura (m)')"
            ]
          },
          "metadata": {},
          "execution_count": 21
        },
        {
          "output_type": "display_data",
          "data": {
            "text/plain": [
              "<Figure size 800x600 with 1 Axes>"
            ],
            "image/png": "[encoded data removed]"
          },
          "metadata": {}
        }
      ]
    },
    {
      "cell_type": "markdown",
      "metadata": {
        "id": "1mYE-XKC78A5"
      },
      "source": [
        "Correlação Altura vs Peso:"
      ]
    },
    {
      "cell_type": "code",
      "metadata": {
        "id": "Z3BO_y96Oc9X",
        "outputId": "eeb5b2a5-ee20-47f9-f355-83e63b353832",
        "colab": {
          "base_uri": "https://localhost:8080/",
          "height": 574
        }
      },
      "source": [
        "fig = plt.figure( figsize=(8,6) )\n",
        "\n",
        "plt.plot( array_Altura.dropna(), array_Peso.dropna(), 'o' )\n",
        "plt.xlim( 1.55, 2.00 )\n",
        "plt.ylim( 40., 140. )\n",
        "plt.xlabel( \"Altura (m)\", fontsize=18 )\n",
        "plt.ylabel( \"Peso (kg)\", fontsize=18 )"
      ],
      "execution_count": 22,
      "outputs": [
        {
          "output_type": "execute_result",
          "data": {
            "text/plain": [
              "Text(0, 0.5, 'Peso (kg)')"
            ]
          },
          "metadata": {},
          "execution_count": 22
        },
        {
          "output_type": "display_data",
          "data": {
            "text/plain": [
              "<Figure size 800x600 with 1 Axes>"
            ],
            "image/png": "[encoded data removed]"
          },
          "metadata": {}
        }
      ]
    },
    {
      "cell_type": "markdown",
      "metadata": {
        "id": "PuR39MMf9bve"
      },
      "source": [
        "Cálculo das variâncias:\n"
      ]
    },
    {
      "cell_type": "code",
      "metadata": {
        "id": "3frHMs3X3pue",
        "outputId": "140fe2b4-0ea8-42da-c731-e22567c41b11",
        "colab": {
          "base_uri": "https://localhost:8080/"
        }
      },
      "source": [
        "# Diferença entre média dos quadrados e quadrado da média\n",
        "np.mean( array_Idade.dropna() ** 2 ) - np.mean( array_Idade.dropna() ) ** 2"
      ],
      "execution_count": 23,
      "outputs": [
        {
          "output_type": "execute_result",
          "data": {
            "text/plain": [
              "26.698961937716206"
            ]
          },
          "metadata": {},
          "execution_count": 23
        }
      ]
    },
    {
      "cell_type": "code",
      "metadata": {
        "id": "JA1pDPD338r-",
        "outputId": "1697b347-c32c-432b-c584-db77e3bd256e",
        "colab": {
          "base_uri": "https://localhost:8080/"
        }
      },
      "source": [
        "np.mean( array_Peso.dropna() ** 2 ) - np.mean( array_Peso.dropna() ) ** 2"
      ],
      "execution_count": 24,
      "outputs": [
        {
          "output_type": "execute_result",
          "data": {
            "text/plain": [
              "186.58131487889204"
            ]
          },
          "metadata": {},
          "execution_count": 24
        }
      ]
    },
    {
      "cell_type": "code",
      "metadata": {
        "id": "RbvAcx7l3_ez",
        "outputId": "8d006093-535b-4cb8-d940-d82826172e79",
        "colab": {
          "base_uri": "https://localhost:8080/"
        }
      },
      "source": [
        "np.mean( array_Altura.dropna() ** 2 ) - np.mean( array_Altura.dropna() ) ** 2"
      ],
      "execution_count": 25,
      "outputs": [
        {
          "output_type": "execute_result",
          "data": {
            "text/plain": [
              "0.004104498269895451"
            ]
          },
          "metadata": {},
          "execution_count": 25
        }
      ]
    },
    {
      "cell_type": "markdown",
      "metadata": {
        "id": "diQ3GwUO9gKz"
      },
      "source": [
        "Usando NumPy:"
      ]
    },
    {
      "cell_type": "code",
      "metadata": {
        "id": "OEcY4BmYNKk9",
        "outputId": "8ced13bd-ae5d-4b50-955c-bf5e265ad251",
        "colab": {
          "base_uri": "https://localhost:8080/"
        }
      },
      "source": [
        "var_Idade = np.var( array_Idade.dropna(), ddof=0 )\n",
        "var_Idade"
      ],
      "execution_count": 26,
      "outputs": [
        {
          "output_type": "execute_result",
          "data": {
            "text/plain": [
              "26.698961937716263"
            ]
          },
          "metadata": {},
          "execution_count": 26
        }
      ]
    },
    {
      "cell_type": "code",
      "metadata": {
        "id": "MrsxjlvHNL50",
        "outputId": "9066fec5-be68-4ca2-c0e2-b84b52721913",
        "colab": {
          "base_uri": "https://localhost:8080/"
        }
      },
      "source": [
        "var_Peso = np.var( array_Peso, ddof=0 )\n",
        "var_Peso"
      ],
      "execution_count": 27,
      "outputs": [
        {
          "output_type": "execute_result",
          "data": {
            "text/plain": [
              "186.58131487889273"
            ]
          },
          "metadata": {},
          "execution_count": 27
        }
      ]
    },
    {
      "cell_type": "code",
      "metadata": {
        "id": "MAkHtP6sMda1",
        "outputId": "feda5078-fc87-4d14-9663-2f701ce83349",
        "colab": {
          "base_uri": "https://localhost:8080/"
        }
      },
      "source": [
        "var_Altura = np.var( array_Altura, ddof=0 )\n",
        "var_Altura"
      ],
      "execution_count": 28,
      "outputs": [
        {
          "output_type": "execute_result",
          "data": {
            "text/plain": [
              "0.0041044982698961955"
            ]
          },
          "metadata": {},
          "execution_count": 28
        }
      ]
    },
    {
      "cell_type": "markdown",
      "metadata": {
        "id": "CD-59vvb4T5v"
      },
      "source": [
        "Cálculo das covariâncias:"
      ]
    },
    {
      "cell_type": "code",
      "metadata": {
        "id": "AVpoFaUO4WVO",
        "outputId": "0d6eefe1-054f-4862-92c7-22289d141c6d",
        "colab": {
          "base_uri": "https://localhost:8080/"
        }
      },
      "source": [
        "# Sequência com valores dos produtos dos elementos de mesmo índice dos arrays\n",
        "array_Idade.dropna() * array_Peso.dropna()"
      ],
      "execution_count": 29,
      "outputs": [
        {
          "output_type": "execute_result",
          "data": {
            "text/plain": [
              "Índice\n",
              "CARLOS ANDRE ANNECCHINI FERNANDES      3145.0\n",
              "DANILO SANTOS DE FIGUEREDO              990.0\n",
              "EDUARDO DE SOUZA SILVA JUNIOR          1404.0\n",
              "EDUARDO PEREIRA DOS SANTOS             1530.0\n",
              "FABIO COELHO DIMARI VIEIRA             1350.0\n",
              "FELIPE CARNEIRO DA ROCHA CARVALHO      1746.0\n",
              "GABRIELA SANTOS MORAIS                 1500.0\n",
              "GABRIEL DE MATOS MESIAS                1080.0\n",
              "GUILHERME FIRMINO DOS SANTOS           1404.0\n",
              "LUIS GABRIEL DE ARAUJO VASCONCELOS     1220.0\n",
              "MANOEL MIGUEL DE LIMA SILVA JUNIOR     1922.0\n",
              "MANUELA CASSIA ANDRADE DE MAGALHAES    1140.0\n",
              "MARIA EDUARDA MELONI DO VALLE           792.0\n",
              "MARIA EDUARDA NOVO NOVAES              1411.0\n",
              "SAMUEL GOMES DE SOUZA HENRIQUE         1300.0\n",
              "SAMUEL SILVA DE SOUZA                  1440.0\n",
              "WALTER LINHARES DE SIQUEIRA            1357.0\n",
              "dtype: float64"
            ]
          },
          "metadata": {},
          "execution_count": 29
        }
      ]
    },
    {
      "cell_type": "code",
      "metadata": {
        "id": "ggLeCV384Wx-",
        "outputId": "4b78cec6-7fef-4446-f4fb-fad57f6b6a5f",
        "colab": {
          "base_uri": "https://localhost:8080/"
        }
      },
      "source": [
        "# Covariância: diferença entre média dos produtos e produto das médias\n",
        "np.mean( array_Idade.dropna() * array_Peso.dropna() ) - np.mean( array_Idade.dropna() ) * np.mean( array_Peso.dropna() )"
      ],
      "execution_count": 30,
      "outputs": [
        {
          "output_type": "execute_result",
          "data": {
            "text/plain": [
              "2.183391003459974"
            ]
          },
          "metadata": {},
          "execution_count": 30
        }
      ]
    },
    {
      "cell_type": "code",
      "metadata": {
        "id": "vBWeOKOH5D_x",
        "outputId": "97397620-565b-4cab-b297-046fc8f12043",
        "colab": {
          "base_uri": "https://localhost:8080/"
        }
      },
      "source": [
        "np.mean( array_Idade.dropna() * array_Altura.dropna() ) - np.mean( array_Idade.dropna() ) * np.mean( array_Altura.dropna() )"
      ],
      "execution_count": 31,
      "outputs": [
        {
          "output_type": "execute_result",
          "data": {
            "text/plain": [
              "0.04512110726642504"
            ]
          },
          "metadata": {},
          "execution_count": 31
        }
      ]
    },
    {
      "cell_type": "code",
      "metadata": {
        "id": "yHoapbud5ETx",
        "outputId": "e60ed889-3bb0-4943-d7a8-9f5afc629643",
        "colab": {
          "base_uri": "https://localhost:8080/"
        }
      },
      "source": [
        "np.mean( array_Peso.dropna() * array_Altura.dropna() ) - np.mean( array_Peso.dropna() ) * np.mean( array_Altura.dropna() )"
      ],
      "execution_count": 32,
      "outputs": [
        {
          "output_type": "execute_result",
          "data": {
            "text/plain": [
              "0.24193771626295302"
            ]
          },
          "metadata": {},
          "execution_count": 32
        }
      ]
    },
    {
      "cell_type": "markdown",
      "metadata": {
        "id": "d3S0LWvM5Rlm"
      },
      "source": [
        "Usando NumPy:"
      ]
    },
    {
      "cell_type": "code",
      "metadata": {
        "id": "mSnzM624MR07",
        "outputId": "ff528480-3e02-4ce5-8edb-7edc391ab27a",
        "colab": {
          "base_uri": "https://localhost:8080/"
        }
      },
      "source": [
        "# (Idade, Peso)\n",
        "cov_Idade_Peso = np.cov( array_Idade.dropna(), array_Peso.dropna(), ddof=0 )\n",
        "cov_Idade_Peso"
      ],
      "execution_count": 33,
      "outputs": [
        {
          "output_type": "execute_result",
          "data": {
            "text/plain": [
              "array([[ 26.69896194,   2.183391  ],\n",
              "       [  2.183391  , 186.58131488]])"
            ]
          },
          "metadata": {},
          "execution_count": 33
        }
      ]
    },
    {
      "cell_type": "code",
      "metadata": {
        "id": "z3JaVynyOO4V",
        "outputId": "2830ca65-881a-49ca-e87a-6c64e715ad80",
        "colab": {
          "base_uri": "https://localhost:8080/"
        }
      },
      "source": [
        "# Variância Idade\n",
        "cov_Idade_Peso[0,0]"
      ],
      "execution_count": 34,
      "outputs": [
        {
          "output_type": "execute_result",
          "data": {
            "text/plain": [
              "26.698961937716255"
            ]
          },
          "metadata": {},
          "execution_count": 34
        }
      ]
    },
    {
      "cell_type": "code",
      "metadata": {
        "id": "Iwtl3UZOOO4W",
        "outputId": "1dd7e8cd-7a13-477e-f2f4-2ecec5d6931c",
        "colab": {
          "base_uri": "https://localhost:8080/"
        }
      },
      "source": [
        "# Variância Peso\n",
        "cov_Idade_Peso[1,1]"
      ],
      "execution_count": 35,
      "outputs": [
        {
          "output_type": "execute_result",
          "data": {
            "text/plain": [
              "186.58131487889273"
            ]
          },
          "metadata": {},
          "execution_count": 35
        }
      ]
    },
    {
      "cell_type": "code",
      "metadata": {
        "id": "pvo-FpbpOO4W",
        "outputId": "3b2643dc-c7ef-4e27-a0ee-9d7a6f2f623a",
        "colab": {
          "base_uri": "https://localhost:8080/"
        }
      },
      "source": [
        "# Covariância (Idade,Peso)\n",
        "cov_Idade_Peso[0,1]"
      ],
      "execution_count": 36,
      "outputs": [
        {
          "output_type": "execute_result",
          "data": {
            "text/plain": [
              "2.1833910034602066"
            ]
          },
          "metadata": {},
          "execution_count": 36
        }
      ]
    },
    {
      "cell_type": "code",
      "metadata": {
        "id": "_AuoYix9OO4W",
        "outputId": "a77b8fe0-3669-4848-ea2a-b794c3a7ae93",
        "colab": {
          "base_uri": "https://localhost:8080/"
        }
      },
      "source": [
        "# Coeficiente de correlação\n",
        "cov_Idade_Peso[0,1] / ( np.sqrt( var_Idade ) * np.sqrt( var_Peso ) )"
      ],
      "execution_count": 37,
      "outputs": [
        {
          "output_type": "execute_result",
          "data": {
            "text/plain": [
              "0.030935009499656562"
            ]
          },
          "metadata": {},
          "execution_count": 37
        }
      ]
    },
    {
      "cell_type": "code",
      "metadata": {
        "id": "NCEbDA06JBE_",
        "outputId": "ebd73ef5-ede1-43cf-cf3d-aa56357e4191",
        "colab": {
          "base_uri": "https://localhost:8080/"
        }
      },
      "source": [
        "# (Idade, Altura)\n",
        "cov_Idade_Altura = np.cov( array_Idade.dropna(), array_Altura.dropna(), ddof=0 )\n",
        "cov_Idade_Altura"
      ],
      "execution_count": 38,
      "outputs": [
        {
          "output_type": "execute_result",
          "data": {
            "text/plain": [
              "array([[2.66989619e+01, 4.51211073e-02],\n",
              "       [4.51211073e-02, 4.10449827e-03]])"
            ]
          },
          "metadata": {},
          "execution_count": 38
        }
      ]
    },
    {
      "cell_type": "code",
      "metadata": {
        "id": "U5oMGrxXN-Qi",
        "outputId": "45726c94-0041-40cc-e640-6f7ef5f5db17",
        "colab": {
          "base_uri": "https://localhost:8080/"
        }
      },
      "source": [
        "# Variância Idade\n",
        "cov_Idade_Altura[0,0]"
      ],
      "execution_count": 39,
      "outputs": [
        {
          "output_type": "execute_result",
          "data": {
            "text/plain": [
              "26.698961937716255"
            ]
          },
          "metadata": {},
          "execution_count": 39
        }
      ]
    },
    {
      "cell_type": "code",
      "metadata": {
        "id": "lLNLauhAN-Qq",
        "outputId": "c8398d1d-187d-4bcd-c7e6-6376749583e7",
        "colab": {
          "base_uri": "https://localhost:8080/"
        }
      },
      "source": [
        "# Variância Altura\n",
        "cov_Idade_Altura[1,1]"
      ],
      "execution_count": 40,
      "outputs": [
        {
          "output_type": "execute_result",
          "data": {
            "text/plain": [
              "0.0041044982698961955"
            ]
          },
          "metadata": {},
          "execution_count": 40
        }
      ]
    },
    {
      "cell_type": "code",
      "metadata": {
        "id": "-oIr5uPVN-Qq",
        "outputId": "64c528f9-858d-4efd-d512-bbbf89a7fbb9",
        "colab": {
          "base_uri": "https://localhost:8080/"
        }
      },
      "source": [
        "# Covariância (Idade,Altura)\n",
        "cov_Idade_Altura[0,1]"
      ],
      "execution_count": 41,
      "outputs": [
        {
          "output_type": "execute_result",
          "data": {
            "text/plain": [
              "0.045121107266435936"
            ]
          },
          "metadata": {},
          "execution_count": 41
        }
      ]
    },
    {
      "cell_type": "code",
      "metadata": {
        "id": "rhOoYW7FN-Qq",
        "outputId": "35d10d3d-0792-4482-e83f-9c4835d20788",
        "colab": {
          "base_uri": "https://localhost:8080/"
        }
      },
      "source": [
        "# Coeficiente de correlação\n",
        "cov_Idade_Altura[0,1] / ( np.sqrt( var_Idade ) * np.sqrt( var_Altura ) )"
      ],
      "execution_count": 42,
      "outputs": [
        {
          "output_type": "execute_result",
          "data": {
            "text/plain": [
              "0.13630209216028083"
            ]
          },
          "metadata": {},
          "execution_count": 42
        }
      ]
    },
    {
      "cell_type": "code",
      "metadata": {
        "id": "oO8HSqI0I-cW",
        "outputId": "76c14bbe-fb2b-477c-be5d-ce00e3619e7a",
        "colab": {
          "base_uri": "https://localhost:8080/"
        }
      },
      "source": [
        "# (Peso, Altura)\n",
        "cov_Peso_Altura = np.cov( array_Peso.dropna(), array_Altura.dropna(), ddof=0 )\n",
        "cov_Peso_Altura"
      ],
      "execution_count": 43,
      "outputs": [
        {
          "output_type": "execute_result",
          "data": {
            "text/plain": [
              "array([[1.86581315e+02, 2.41937716e-01],\n",
              "       [2.41937716e-01, 4.10449827e-03]])"
            ]
          },
          "metadata": {},
          "execution_count": 43
        }
      ]
    },
    {
      "cell_type": "code",
      "metadata": {
        "id": "cizq8oJDNmc2",
        "outputId": "7fb592c5-7859-4b60-f986-93420c945e49",
        "colab": {
          "base_uri": "https://localhost:8080/"
        }
      },
      "source": [
        "# Variância Peso\n",
        "cov_Peso_Altura[0,0]"
      ],
      "execution_count": 44,
      "outputs": [
        {
          "output_type": "execute_result",
          "data": {
            "text/plain": [
              "186.58131487889273"
            ]
          },
          "metadata": {},
          "execution_count": 44
        }
      ]
    },
    {
      "cell_type": "code",
      "metadata": {
        "id": "FZ79z7OONrXG",
        "outputId": "0524a238-a56d-49fe-f474-0c4823ae2174",
        "colab": {
          "base_uri": "https://localhost:8080/"
        }
      },
      "source": [
        "# Variância Altura\n",
        "cov_Peso_Altura[1,1]"
      ],
      "execution_count": 45,
      "outputs": [
        {
          "output_type": "execute_result",
          "data": {
            "text/plain": [
              "0.0041044982698961955"
            ]
          },
          "metadata": {},
          "execution_count": 45
        }
      ]
    },
    {
      "cell_type": "code",
      "metadata": {
        "id": "dK5TZRaDNr8R",
        "outputId": "accb0eb8-ec69-4984-f404-4720eb8d476f",
        "colab": {
          "base_uri": "https://localhost:8080/"
        }
      },
      "source": [
        "# Covariância (Peso,Altura)\n",
        "cov_Peso_Altura[0,1]"
      ],
      "execution_count": 46,
      "outputs": [
        {
          "output_type": "execute_result",
          "data": {
            "text/plain": [
              "0.2419377162629758"
            ]
          },
          "metadata": {},
          "execution_count": 46
        }
      ]
    },
    {
      "cell_type": "code",
      "metadata": {
        "id": "7jhndEK8NxiA",
        "outputId": "33cbcaba-07d0-4eff-f1a1-234f4d75379d",
        "colab": {
          "base_uri": "https://localhost:8080/"
        }
      },
      "source": [
        "# Coeficiente de correlação\n",
        "cov_Peso_Altura[0,1] / ( np.sqrt( var_Peso ) * np.sqrt( var_Altura ) )"
      ],
      "execution_count": 47,
      "outputs": [
        {
          "output_type": "execute_result",
          "data": {
            "text/plain": [
              "0.2764645579337204"
            ]
          },
          "metadata": {},
          "execution_count": 47
        }
      ]
    },
    {
      "cell_type": "code",
      "metadata": {
        "id": "6L63PcO18qmY"
      },
      "source": [],
      "execution_count": 47,
      "outputs": []
    }
  ]
}