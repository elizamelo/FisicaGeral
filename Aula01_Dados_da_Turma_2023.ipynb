{
  "nbformat": 4,
  "nbformat_minor": 0,
  "metadata": {
    "colab": {
      "provenance": [],
      "include_colab_link": true
    },
    "kernelspec": {
      "name": "python3",
      "display_name": "Python 3"
    }
  },
  "cells": [
    {
      "cell_type": "markdown",
      "metadata": {
        "id": "view-in-github",
        "colab_type": "text"
      },
      "source": [
        "<a href=\"https://colab.research.google.com/github/elizamelo/FisicaGeral/blob/main/Aula01_Dados_da_Turma_2023.ipynb\" target=\"_parent\"><img src=\"https://colab.research.google.com/assets/colab-badge.svg\" alt=\"Open In Colab\"/></a>"
      ]
    },
    {
      "cell_type": "code",
      "metadata": {
        "id": "E6gpz8CRV6VN"
      },
      "source": [
        "import numpy as np\n",
        "import pandas as pd\n",
        "import matplotlib as mpl\n",
        "import matplotlib.pyplot as plt"
      ],
      "execution_count": 1,
      "outputs": []
    },
    {
      "cell_type": "markdown",
      "metadata": {
        "id": "1ikM_jc93RdJ"
      },
      "source": [
        "Tabela de idades, pesos e alturas:"
      ]
    },
    {
      "cell_type": "code",
      "metadata": {
        "colab": {
          "base_uri": "https://localhost:8080/"
        },
        "id": "jRyrwB0NJCkT",
        "outputId": "35584b1e-8ff0-4387-dff5-b154b81f4197"
      },
      "source": [
        "!curl -o Dados-alunos-2023-1.csv https://raw.githubusercontent.com/elizamelo/FisicaGeral/main/dados/DadosdaTurma2_2023_1%20-%20Dados%20da%20turma.csv"
      ],
      "execution_count": 2,
      "outputs": [
        {
          "output_type": "stream",
          "name": "stdout",
          "text": [
            "  % Total    % Received % Xferd  Average Speed   Time    Time     Time  Current\n",
            "                                 Dload  Upload   Total   Spent    Left  Speed\n",
            "\r  0     0    0     0    0     0      0      0 --:--:-- --:--:-- --:--:--     0\r100  1025  100  1025    0     0   6570      0 --:--:-- --:--:-- --:--:--  6570\n"
          ]
        }
      ]
    },
    {
      "cell_type": "code",
      "metadata": {
        "id": "qql5tOsgb6Jl"
      },
      "source": [
        "# array_Idade = np.array( [ 39, 33, 39, 23, 19, 21, 21, 19, 43, 20, 20, 50, 21, 19, 20, 19, 39,\n",
        "#                           20, 20, 19, 19, 20, 19, 39, 18, 22, 19, 20, 21, 49, 27, 19, 19, 31,\n",
        "#                           24, 21, 19, 62, 63, 20, 29, 19, 18, 20, 20, 21, 18, 18, 18, 18, 20,\n",
        "#                           30, 22, 20, 29, 26 ] )\n",
        "# array_Peso = np.array( [ 100,  75,  97,  80,  60,  72,  62,  89,  75,  85,  72,  82, 130,\n",
        "#                          65,  74,  65, 110,  60,  70,  65,  75,  70,  60,  97,  60,  68,\n",
        "#                          68,  90,  45,  80,  53,  62,  65,  95,  70,  67,  73,  58,  84,\n",
        "#                          82,  84,  88,  60,  75, 120, 100,  90,  78,  55,  90,  60,  73,\n",
        "#                          80,  56,  80,  83 ] )\n",
        "# array_Altura = np.array( [ 1.9 , 1.8 , 1.78, 1.83, 1.65, 1.82, 1.79, 1.78, 1.8 , 1.7 , 1.9 ,\n",
        "#                            1.82, 1.83, 1.85, 1.67, 1.66, 1.8 , 1.65, 1.65, 1.73, 1.72, 1.65,\n",
        "#                            1.8 , 1.78, 1.63, 1.73, 1.59, 1.76, 1.62, 1.65, 1.69, 1.84, 1.88,\n",
        "#                            1.76, 1.67, 1.84, 1.68, 1.7 , 1.7 , 1.74, 1.82, 1.75, 1.53, 1.76,\n",
        "#                            1.85, 1.78, 1.9 , 1.74, 1.85, 1.75, 1.67, 1.68, 1.82, 1.5 , 1.8 ,\n",
        "#                            1.8 ] )"
      ],
      "execution_count": 3,
      "outputs": []
    },
    {
      "cell_type": "code",
      "source": [
        "df = pd.read_csv( \"Dados-alunos-2023-1.csv\", usecols=[0,1,2,3], nrows=26, index_col=0, na_values=[\"0\"],names=[\"Índice\", \"Idade\", \"Peso\", \"Altura\"] )\n",
        "df"
      ],
      "metadata": {
        "colab": {
          "base_uri": "https://localhost:8080/",
          "height": 896
        },
        "id": "-wA7ytc7Gmvz",
        "outputId": "327539d7-edd2-4aac-b4fd-e27df06364ac"
      },
      "execution_count": 4,
      "outputs": [
        {
          "output_type": "execute_result",
          "data": {
            "text/plain": [
              "                                            Idade       Peso      Altura\n",
              "Índice                                                                  \n",
              "Nome do aluno                        Idade (anos)  Peso (kg)  Altura (m)\n",
              "DANILO SANTOS DE FIGUEREDO                     18         55        1.70\n",
              "EDUARDO DE SOUZA SILVA JUNIOR                  18         78        1.81\n",
              "EDUARDO PEREIRA DOS SANTOS                     18         85        1.78\n",
              "FABIO COELHO DIMARI VIEIRA                     18         75        1.68\n",
              "FELIPE CARNEIRO DA ROCHA CARVALHO              18         97        1.67\n",
              "GABRIELA SANTOS MORAIS                         20         75        1.69\n",
              "GABRIEL DE MATOS MESIAS                        20         54        1.79\n",
              "GUILHERME FIRMINO DOS SANTOS                   18         78        1.79\n",
              "LUIS GABRIEL DE ARAUJO VASCONCELOS             20         61        1.67\n",
              "LUIZA LOTUFO DE SOUZA AMBROZIM                 17         63        1.61\n",
              "MANUELA CASSIA ANDRADE DE MAGALHAES            19         60        1.66\n",
              "MARIA EDUARDA AMADO DA SILVA                   18         55        1.55\n",
              "MARIA EDUARDA GUIMARAES OLIVEIRA               18         70        1.60\n",
              "MARIA EDUARDA MELONI DO VALLE                  18         44        1.60\n",
              "MARIA EDUARDA NOVO NOVAES                      17         83        1.60\n",
              "SAMUEL SILVA DE SOUZA                          18         80        1.80\n",
              "WALTER LINHARES DE SIQUEIRA                    23         59        1.68\n",
              "Tadeu Xavier(Turma 1)                          22         78        1.80\n",
              "Lucas Caetano(Turma 1)                         19         58        1.67\n",
              "Vitor Motter (Turma 1)                         17         60        1.76\n",
              "Lucas Vidal (Turma 1)                          18         85        1.72\n",
              "Ana Luiza Matias (Turma 1)                     18         53        1.55\n",
              "Bernardo (Turma 1)                             17         68        1.72\n",
              "Lucas Freitas (Turma 1)                        21         71        1.72\n",
              "Lourenço Soares (Turma 1)                      17         60        1.76"
            ],
            "text/html": [
              "\n",
              "  <div id=\"df-835a4779-a120-4943-b9b8-a75f6fdf2161\">\n",
              "    <div class=\"colab-df-container\">\n",
              "      <div>\n",
              "<style scoped>\n",
              "    .dataframe tbody tr th:only-of-type {\n",
              "        vertical-align: middle;\n",
              "    }\n",
              "\n",
              "    .dataframe tbody tr th {\n",
              "        vertical-align: top;\n",
              "    }\n",
              "\n",
              "    .dataframe thead th {\n",
              "        text-align: right;\n",
              "    }\n",
              "</style>\n",
              "<table border=\"1\" class=\"dataframe\">\n",
              "  <thead>\n",
              "    <tr style=\"text-align: right;\">\n",
              "      <th></th>\n",
              "      <th>Idade</th>\n",
              "      <th>Peso</th>\n",
              "      <th>Altura</th>\n",
              "    </tr>\n",
              "    <tr>\n",
              "      <th>Índice</th>\n",
              "      <th></th>\n",
              "      <th></th>\n",
              "      <th></th>\n",
              "    </tr>\n",
              "  </thead>\n",
              "  <tbody>\n",
              "    <tr>\n",
              "      <th>Nome do aluno</th>\n",
              "      <td>Idade (anos)</td>\n",
              "      <td>Peso (kg)</td>\n",
              "      <td>Altura (m)</td>\n",
              "    </tr>\n",
              "    <tr>\n",
              "      <th>DANILO SANTOS DE FIGUEREDO</th>\n",
              "      <td>18</td>\n",
              "      <td>55</td>\n",
              "      <td>1.70</td>\n",
              "    </tr>\n",
              "    <tr>\n",
              "      <th>EDUARDO DE SOUZA SILVA JUNIOR</th>\n",
              "      <td>18</td>\n",
              "      <td>78</td>\n",
              "      <td>1.81</td>\n",
              "    </tr>\n",
              "    <tr>\n",
              "      <th>EDUARDO PEREIRA DOS SANTOS</th>\n",
              "      <td>18</td>\n",
              "      <td>85</td>\n",
              "      <td>1.78</td>\n",
              "    </tr>\n",
              "    <tr>\n",
              "      <th>FABIO COELHO DIMARI VIEIRA</th>\n",
              "      <td>18</td>\n",
              "      <td>75</td>\n",
              "      <td>1.68</td>\n",
              "    </tr>\n",
              "    <tr>\n",
              "      <th>FELIPE CARNEIRO DA ROCHA CARVALHO</th>\n",
              "      <td>18</td>\n",
              "      <td>97</td>\n",
              "      <td>1.67</td>\n",
              "    </tr>\n",
              "    <tr>\n",
              "      <th>GABRIELA SANTOS MORAIS</th>\n",
              "      <td>20</td>\n",
              "      <td>75</td>\n",
              "      <td>1.69</td>\n",
              "    </tr>\n",
              "    <tr>\n",
              "      <th>GABRIEL DE MATOS MESIAS</th>\n",
              "      <td>20</td>\n",
              "      <td>54</td>\n",
              "      <td>1.79</td>\n",
              "    </tr>\n",
              "    <tr>\n",
              "      <th>GUILHERME FIRMINO DOS SANTOS</th>\n",
              "      <td>18</td>\n",
              "      <td>78</td>\n",
              "      <td>1.79</td>\n",
              "    </tr>\n",
              "    <tr>\n",
              "      <th>LUIS GABRIEL DE ARAUJO VASCONCELOS</th>\n",
              "      <td>20</td>\n",
              "      <td>61</td>\n",
              "      <td>1.67</td>\n",
              "    </tr>\n",
              "    <tr>\n",
              "      <th>LUIZA LOTUFO DE SOUZA AMBROZIM</th>\n",
              "      <td>17</td>\n",
              "      <td>63</td>\n",
              "      <td>1.61</td>\n",
              "    </tr>\n",
              "    <tr>\n",
              "      <th>MANUELA CASSIA ANDRADE DE MAGALHAES</th>\n",
              "      <td>19</td>\n",
              "      <td>60</td>\n",
              "      <td>1.66</td>\n",
              "    </tr>\n",
              "    <tr>\n",
              "      <th>MARIA EDUARDA AMADO DA SILVA</th>\n",
              "      <td>18</td>\n",
              "      <td>55</td>\n",
              "      <td>1.55</td>\n",
              "    </tr>\n",
              "    <tr>\n",
              "      <th>MARIA EDUARDA GUIMARAES OLIVEIRA</th>\n",
              "      <td>18</td>\n",
              "      <td>70</td>\n",
              "      <td>1.60</td>\n",
              "    </tr>\n",
              "    <tr>\n",
              "      <th>MARIA EDUARDA MELONI DO VALLE</th>\n",
              "      <td>18</td>\n",
              "      <td>44</td>\n",
              "      <td>1.60</td>\n",
              "    </tr>\n",
              "    <tr>\n",
              "      <th>MARIA EDUARDA NOVO NOVAES</th>\n",
              "      <td>17</td>\n",
              "      <td>83</td>\n",
              "      <td>1.60</td>\n",
              "    </tr>\n",
              "    <tr>\n",
              "      <th>SAMUEL SILVA DE SOUZA</th>\n",
              "      <td>18</td>\n",
              "      <td>80</td>\n",
              "      <td>1.80</td>\n",
              "    </tr>\n",
              "    <tr>\n",
              "      <th>WALTER LINHARES DE SIQUEIRA</th>\n",
              "      <td>23</td>\n",
              "      <td>59</td>\n",
              "      <td>1.68</td>\n",
              "    </tr>\n",
              "    <tr>\n",
              "      <th>Tadeu Xavier(Turma 1)</th>\n",
              "      <td>22</td>\n",
              "      <td>78</td>\n",
              "      <td>1.80</td>\n",
              "    </tr>\n",
              "    <tr>\n",
              "      <th>Lucas Caetano(Turma 1)</th>\n",
              "      <td>19</td>\n",
              "      <td>58</td>\n",
              "      <td>1.67</td>\n",
              "    </tr>\n",
              "    <tr>\n",
              "      <th>Vitor Motter (Turma 1)</th>\n",
              "      <td>17</td>\n",
              "      <td>60</td>\n",
              "      <td>1.76</td>\n",
              "    </tr>\n",
              "    <tr>\n",
              "      <th>Lucas Vidal (Turma 1)</th>\n",
              "      <td>18</td>\n",
              "      <td>85</td>\n",
              "      <td>1.72</td>\n",
              "    </tr>\n",
              "    <tr>\n",
              "      <th>Ana Luiza Matias (Turma 1)</th>\n",
              "      <td>18</td>\n",
              "      <td>53</td>\n",
              "      <td>1.55</td>\n",
              "    </tr>\n",
              "    <tr>\n",
              "      <th>Bernardo (Turma 1)</th>\n",
              "      <td>17</td>\n",
              "      <td>68</td>\n",
              "      <td>1.72</td>\n",
              "    </tr>\n",
              "    <tr>\n",
              "      <th>Lucas Freitas (Turma 1)</th>\n",
              "      <td>21</td>\n",
              "      <td>71</td>\n",
              "      <td>1.72</td>\n",
              "    </tr>\n",
              "    <tr>\n",
              "      <th>Lourenço Soares (Turma 1)</th>\n",
              "      <td>17</td>\n",
              "      <td>60</td>\n",
              "      <td>1.76</td>\n",
              "    </tr>\n",
              "  </tbody>\n",
              "</table>\n",
              "</div>\n",
              "      <button class=\"colab-df-convert\" onclick=\"convertToInteractive('df-835a4779-a120-4943-b9b8-a75f6fdf2161')\"\n",
              "              title=\"Convert this dataframe to an interactive table.\"\n",
              "              style=\"display:none;\">\n",
              "        \n",
              "  <svg xmlns=\"http://www.w3.org/2000/svg\" height=\"24px\"viewBox=\"0 0 24 24\"\n",
              "       width=\"24px\">\n",
              "    <path d=\"M0 0h24v24H0V0z\" fill=\"none\"/>\n",
              "    <path d=\"M18.56 5.44l.94 2.06.94-2.06 2.06-.94-2.06-.94-.94-2.06-.94 2.06-2.06.94zm-11 1L8.5 8.5l.94-2.06 2.06-.94-2.06-.94L8.5 2.5l-.94 2.06-2.06.94zm10 10l.94 2.06.94-2.06 2.06-.94-2.06-.94-.94-2.06-.94 2.06-2.06.94z\"/><path d=\"M17.41 7.96l-1.37-1.37c-.4-.4-.92-.59-1.43-.59-.52 0-1.04.2-1.43.59L10.3 9.45l-7.72 7.72c-.78.78-.78 2.05 0 2.83L4 21.41c.39.39.9.59 1.41.59.51 0 1.02-.2 1.41-.59l7.78-7.78 2.81-2.81c.8-.78.8-2.07 0-2.86zM5.41 20L4 18.59l7.72-7.72 1.47 1.35L5.41 20z\"/>\n",
              "  </svg>\n",
              "      </button>\n",
              "      \n",
              "  <style>\n",
              "    .colab-df-container {\n",
              "      display:flex;\n",
              "      flex-wrap:wrap;\n",
              "      gap: 12px;\n",
              "    }\n",
              "\n",
              "    .colab-df-convert {\n",
              "      background-color: #E8F0FE;\n",
              "      border: none;\n",
              "      border-radius: 50%;\n",
              "      cursor: pointer;\n",
              "      display: none;\n",
              "      fill: #1967D2;\n",
              "      height: 32px;\n",
              "      padding: 0 0 0 0;\n",
              "      width: 32px;\n",
              "    }\n",
              "\n",
              "    .colab-df-convert:hover {\n",
              "      background-color: #E2EBFA;\n",
              "      box-shadow: 0px 1px 2px rgba(60, 64, 67, 0.3), 0px 1px 3px 1px rgba(60, 64, 67, 0.15);\n",
              "      fill: #174EA6;\n",
              "    }\n",
              "\n",
              "    [theme=dark] .colab-df-convert {\n",
              "      background-color: #3B4455;\n",
              "      fill: #D2E3FC;\n",
              "    }\n",
              "\n",
              "    [theme=dark] .colab-df-convert:hover {\n",
              "      background-color: #434B5C;\n",
              "      box-shadow: 0px 1px 3px 1px rgba(0, 0, 0, 0.15);\n",
              "      filter: drop-shadow(0px 1px 2px rgba(0, 0, 0, 0.3));\n",
              "      fill: #FFFFFF;\n",
              "    }\n",
              "  </style>\n",
              "\n",
              "      <script>\n",
              "        const buttonEl =\n",
              "          document.querySelector('#df-835a4779-a120-4943-b9b8-a75f6fdf2161 button.colab-df-convert');\n",
              "        buttonEl.style.display =\n",
              "          google.colab.kernel.accessAllowed ? 'block' : 'none';\n",
              "\n",
              "        async function convertToInteractive(key) {\n",
              "          const element = document.querySelector('#df-835a4779-a120-4943-b9b8-a75f6fdf2161');\n",
              "          const dataTable =\n",
              "            await google.colab.kernel.invokeFunction('convertToInteractive',\n",
              "                                                     [key], {});\n",
              "          if (!dataTable) return;\n",
              "\n",
              "          const docLinkHtml = 'Like what you see? Visit the ' +\n",
              "            '<a target=\"_blank\" href=https://colab.research.google.com/notebooks/data_table.ipynb>data table notebook</a>'\n",
              "            + ' to learn more about interactive tables.';\n",
              "          element.innerHTML = '';\n",
              "          dataTable['output_type'] = 'display_data';\n",
              "          await google.colab.output.renderOutput(dataTable, element);\n",
              "          const docLink = document.createElement('div');\n",
              "          docLink.innerHTML = docLinkHtml;\n",
              "          element.appendChild(docLink);\n",
              "        }\n",
              "      </script>\n",
              "    </div>\n",
              "  </div>\n",
              "  "
            ]
          },
          "metadata": {},
          "execution_count": 4
        }
      ]
    },
    {
      "cell_type": "code",
      "source": [
        "df.dtypes"
      ],
      "metadata": {
        "id": "j0hgnGYWbVWv",
        "outputId": "111ca9b8-b915-452b-afcb-eaf796eed336",
        "colab": {
          "base_uri": "https://localhost:8080/"
        }
      },
      "execution_count": 5,
      "outputs": [
        {
          "output_type": "execute_result",
          "data": {
            "text/plain": [
              "Idade     object\n",
              "Peso      object\n",
              "Altura    object\n",
              "dtype: object"
            ]
          },
          "metadata": {},
          "execution_count": 5
        }
      ]
    },
    {
      "cell_type": "code",
      "source": [
        "#df['Idade'] = df['Idade'].astype('int64')\n",
        "df['Idade'] = pd.to_numeric(df['Idade'], errors='coerce')\n",
        "df.dtypes\n",
        "df[\"Peso\"] = pd.to_numeric(df[\"Peso\"], errors='coerce')\n",
        "df.dtypes\n",
        "df[\"Altura\"] = pd.to_numeric(df[\"Altura\"], errors='coerce')\n",
        "df.dtypes"
      ],
      "metadata": {
        "id": "5vtu_2v_bBPZ",
        "outputId": "cbe00739-824a-4146-a4c3-9fec4c98de5a",
        "colab": {
          "base_uri": "https://localhost:8080/"
        }
      },
      "execution_count": 6,
      "outputs": [
        {
          "output_type": "execute_result",
          "data": {
            "text/plain": [
              "Idade     float64\n",
              "Peso      float64\n",
              "Altura    float64\n",
              "dtype: object"
            ]
          },
          "metadata": {},
          "execution_count": 6
        }
      ]
    },
    {
      "cell_type": "markdown",
      "source": [],
      "metadata": {
        "id": "vyEy6bxJGnQ7"
      }
    },
    {
      "cell_type": "markdown",
      "metadata": {
        "id": "f_kxKfb7YftY"
      },
      "source": [
        "Idade:"
      ]
    },
    {
      "cell_type": "code",
      "metadata": {
        "colab": {
          "base_uri": "https://localhost:8080/"
        },
        "id": "FzO6k2jrYGLF",
        "outputId": "d16e2e54-6a89-461b-84f7-f0d47434a673"
      },
      "source": [
        "#array_Idade = df.iloc[:, 0]\n",
        "array_Idade = df[ \"Idade\" ]\n",
        "array_Idade.dropna()\n",
        "\n"
      ],
      "execution_count": 7,
      "outputs": [
        {
          "output_type": "execute_result",
          "data": {
            "text/plain": [
              "Índice\n",
              "DANILO SANTOS DE FIGUEREDO             18.0\n",
              "EDUARDO DE SOUZA SILVA JUNIOR          18.0\n",
              "EDUARDO PEREIRA DOS SANTOS             18.0\n",
              "FABIO COELHO DIMARI VIEIRA             18.0\n",
              "FELIPE CARNEIRO DA ROCHA CARVALHO      18.0\n",
              "GABRIELA SANTOS MORAIS                 20.0\n",
              "GABRIEL DE MATOS MESIAS                20.0\n",
              "GUILHERME FIRMINO DOS SANTOS           18.0\n",
              "LUIS GABRIEL DE ARAUJO VASCONCELOS     20.0\n",
              "LUIZA LOTUFO DE SOUZA AMBROZIM         17.0\n",
              "MANUELA CASSIA ANDRADE DE MAGALHAES    19.0\n",
              "MARIA EDUARDA AMADO DA SILVA           18.0\n",
              "MARIA EDUARDA GUIMARAES OLIVEIRA       18.0\n",
              "MARIA EDUARDA MELONI DO VALLE          18.0\n",
              "MARIA EDUARDA NOVO NOVAES              17.0\n",
              "SAMUEL SILVA DE SOUZA                  18.0\n",
              "WALTER LINHARES DE SIQUEIRA            23.0\n",
              "Tadeu Xavier(Turma 1)                  22.0\n",
              "Lucas Caetano(Turma 1)                 19.0\n",
              "Vitor Motter (Turma 1)                 17.0\n",
              "Lucas Vidal (Turma 1)                  18.0\n",
              "Ana Luiza Matias (Turma 1)             18.0\n",
              "Bernardo (Turma 1)                     17.0\n",
              "Lucas Freitas (Turma 1)                21.0\n",
              "Lourenço Soares (Turma 1)              17.0\n",
              "Name: Idade, dtype: float64"
            ]
          },
          "metadata": {},
          "execution_count": 7
        }
      ]
    },
    {
      "cell_type": "code",
      "metadata": {
        "id": "GkTCo1pTYxf3",
        "outputId": "691a9a2c-bd88-4900-bb74-6f1cdea7e0dd",
        "colab": {
          "base_uri": "https://localhost:8080/"
        }
      },
      "source": [
        "np.mean( array_Idade )"
      ],
      "execution_count": 8,
      "outputs": [
        {
          "output_type": "execute_result",
          "data": {
            "text/plain": [
              "18.6"
            ]
          },
          "metadata": {},
          "execution_count": 8
        }
      ]
    },
    {
      "cell_type": "code",
      "source": [
        "\n",
        "np.sort( array_Idade.dropna() )"
      ],
      "metadata": {
        "id": "RK1HnrYcY5A2",
        "outputId": "9490e6b7-df3e-493a-f84e-967f95dd7c00",
        "colab": {
          "base_uri": "https://localhost:8080/"
        }
      },
      "execution_count": 9,
      "outputs": [
        {
          "output_type": "execute_result",
          "data": {
            "text/plain": [
              "array([17., 17., 17., 17., 17., 18., 18., 18., 18., 18., 18., 18., 18.,\n",
              "       18., 18., 18., 18., 19., 19., 20., 20., 20., 21., 22., 23.])"
            ]
          },
          "metadata": {},
          "execution_count": 9
        }
      ]
    },
    {
      "cell_type": "code",
      "metadata": {
        "id": "n4O-MCDuYxf4",
        "outputId": "3aa8d029-7128-4041-c076-3ecd182678ce",
        "colab": {
          "base_uri": "https://localhost:8080/",
          "height": 414
        }
      },
      "source": [
        "fig = plt.figure( figsize=(8,6) )\n",
        "\n",
        "counts, bins, _ = plt.hist( array_Idade, bins=8, range=(16, 24) )\n",
        "plt.xlim( 15, 25 )\n",
        "plt.xlabel( \"Idade (anos)\", fontsize=18 )\n",
        "plt.ylabel( \"Frequência\", fontsize=18 )"
      ],
      "execution_count": 10,
      "outputs": [
        {
          "output_type": "execute_result",
          "data": {
            "text/plain": [
              "Text(0, 0.5, 'Frequência')"
            ]
          },
          "metadata": {},
          "execution_count": 10
        },
        {
          "output_type": "display_data",
          "data": {
            "text/plain": [
              "<Figure size 576x432 with 1 Axes>"
            ],
            "image/png": "[encoded data removed]"
          },
          "metadata": {
            "needs_background": "light"
          }
        }
      ]
    },
    {
      "cell_type": "markdown",
      "metadata": {
        "id": "3lXjn0sKLSks"
      },
      "source": [
        "Peso:"
      ]
    },
    {
      "cell_type": "code",
      "metadata": {
        "id": "fBT6qGrbLReX",
        "outputId": "b3f2add9-2d6d-41e6-8692-90f8390e838b",
        "colab": {
          "base_uri": "https://localhost:8080/"
        }
      },
      "source": [
        "#array_Peso = df.iloc[:, 1]\n",
        "array_Peso = df[ \"Peso\" ]\n",
        "array_Peso.dropna()"
      ],
      "execution_count": 11,
      "outputs": [
        {
          "output_type": "execute_result",
          "data": {
            "text/plain": [
              "Índice\n",
              "DANILO SANTOS DE FIGUEREDO             55.0\n",
              "EDUARDO DE SOUZA SILVA JUNIOR          78.0\n",
              "EDUARDO PEREIRA DOS SANTOS             85.0\n",
              "FABIO COELHO DIMARI VIEIRA             75.0\n",
              "FELIPE CARNEIRO DA ROCHA CARVALHO      97.0\n",
              "GABRIELA SANTOS MORAIS                 75.0\n",
              "GABRIEL DE MATOS MESIAS                54.0\n",
              "GUILHERME FIRMINO DOS SANTOS           78.0\n",
              "LUIS GABRIEL DE ARAUJO VASCONCELOS     61.0\n",
              "LUIZA LOTUFO DE SOUZA AMBROZIM         63.0\n",
              "MANUELA CASSIA ANDRADE DE MAGALHAES    60.0\n",
              "MARIA EDUARDA AMADO DA SILVA           55.0\n",
              "MARIA EDUARDA GUIMARAES OLIVEIRA       70.0\n",
              "MARIA EDUARDA MELONI DO VALLE          44.0\n",
              "MARIA EDUARDA NOVO NOVAES              83.0\n",
              "SAMUEL SILVA DE SOUZA                  80.0\n",
              "WALTER LINHARES DE SIQUEIRA            59.0\n",
              "Tadeu Xavier(Turma 1)                  78.0\n",
              "Lucas Caetano(Turma 1)                 58.0\n",
              "Vitor Motter (Turma 1)                 60.0\n",
              "Lucas Vidal (Turma 1)                  85.0\n",
              "Ana Luiza Matias (Turma 1)             53.0\n",
              "Bernardo (Turma 1)                     68.0\n",
              "Lucas Freitas (Turma 1)                71.0\n",
              "Lourenço Soares (Turma 1)              60.0\n",
              "Name: Peso, dtype: float64"
            ]
          },
          "metadata": {},
          "execution_count": 11
        }
      ]
    },
    {
      "cell_type": "code",
      "metadata": {
        "id": "noPnFzXSLRea",
        "outputId": "d381c3d9-50fa-407b-b79c-841aeeb07d3f",
        "colab": {
          "base_uri": "https://localhost:8080/"
        }
      },
      "source": [
        "np.mean( array_Peso )"
      ],
      "execution_count": 12,
      "outputs": [
        {
          "output_type": "execute_result",
          "data": {
            "text/plain": [
              "68.2"
            ]
          },
          "metadata": {},
          "execution_count": 12
        }
      ]
    },
    {
      "cell_type": "code",
      "metadata": {
        "id": "awDIFiKHLRea",
        "outputId": "7ee00831-9074-4dda-efe8-a6aec3cd0561",
        "colab": {
          "base_uri": "https://localhost:8080/"
        }
      },
      "source": [
        "np.sort( array_Peso.dropna() )"
      ],
      "execution_count": 13,
      "outputs": [
        {
          "output_type": "execute_result",
          "data": {
            "text/plain": [
              "array([44., 53., 54., 55., 55., 58., 59., 60., 60., 60., 61., 63., 68.,\n",
              "       70., 71., 75., 75., 78., 78., 78., 80., 83., 85., 85., 97.])"
            ]
          },
          "metadata": {},
          "execution_count": 13
        }
      ]
    },
    {
      "cell_type": "code",
      "metadata": {
        "id": "7FwJxbkHLReb",
        "outputId": "2fcbff10-d9b1-4987-fbca-2d9e36f6e94e",
        "colab": {
          "base_uri": "https://localhost:8080/",
          "height": 414
        }
      },
      "source": [
        "fig = plt.figure( figsize=(8,6) )\n",
        "\n",
        "counts, bins, _ = plt.hist( array_Peso, bins=10, range=(40., 100.) )\n",
        "plt.xlim( 40., 100. )\n",
        "plt.xlabel( \"Peso (kg)\", fontsize=18 )\n",
        "plt.ylabel( \"Frequência\", fontsize=18 )"
      ],
      "execution_count": 14,
      "outputs": [
        {
          "output_type": "execute_result",
          "data": {
            "text/plain": [
              "Text(0, 0.5, 'Frequência')"
            ]
          },
          "metadata": {},
          "execution_count": 14
        },
        {
          "output_type": "display_data",
          "data": {
            "text/plain": [
              "<Figure size 576x432 with 1 Axes>"
            ],
            "image/png": "[encoded data removed]"
          },
          "metadata": {
            "needs_background": "light"
          }
        }
      ]
    },
    {
      "cell_type": "markdown",
      "metadata": {
        "id": "oDRjgBLX6X9A"
      },
      "source": [
        "Altura:"
      ]
    },
    {
      "cell_type": "code",
      "metadata": {
        "id": "mepbn-wQ6X9D",
        "outputId": "010119ed-a988-4842-9f6d-f7cea71af016",
        "colab": {
          "base_uri": "https://localhost:8080/"
        }
      },
      "source": [
        "#array_Altura = df.iloc[:, 2]\n",
        "array_Altura = df[ \"Altura\" ]\n",
        "array_Altura.dropna()"
      ],
      "execution_count": 15,
      "outputs": [
        {
          "output_type": "execute_result",
          "data": {
            "text/plain": [
              "Índice\n",
              "DANILO SANTOS DE FIGUEREDO             1.70\n",
              "EDUARDO DE SOUZA SILVA JUNIOR          1.81\n",
              "EDUARDO PEREIRA DOS SANTOS             1.78\n",
              "FABIO COELHO DIMARI VIEIRA             1.68\n",
              "FELIPE CARNEIRO DA ROCHA CARVALHO      1.67\n",
              "GABRIELA SANTOS MORAIS                 1.69\n",
              "GABRIEL DE MATOS MESIAS                1.79\n",
              "GUILHERME FIRMINO DOS SANTOS           1.79\n",
              "LUIS GABRIEL DE ARAUJO VASCONCELOS     1.67\n",
              "LUIZA LOTUFO DE SOUZA AMBROZIM         1.61\n",
              "MANUELA CASSIA ANDRADE DE MAGALHAES    1.66\n",
              "MARIA EDUARDA AMADO DA SILVA           1.55\n",
              "MARIA EDUARDA GUIMARAES OLIVEIRA       1.60\n",
              "MARIA EDUARDA MELONI DO VALLE          1.60\n",
              "MARIA EDUARDA NOVO NOVAES              1.60\n",
              "SAMUEL SILVA DE SOUZA                  1.80\n",
              "WALTER LINHARES DE SIQUEIRA            1.68\n",
              "Tadeu Xavier(Turma 1)                  1.80\n",
              "Lucas Caetano(Turma 1)                 1.67\n",
              "Vitor Motter (Turma 1)                 1.76\n",
              "Lucas Vidal (Turma 1)                  1.72\n",
              "Ana Luiza Matias (Turma 1)             1.55\n",
              "Bernardo (Turma 1)                     1.72\n",
              "Lucas Freitas (Turma 1)                1.72\n",
              "Lourenço Soares (Turma 1)              1.76\n",
              "Name: Altura, dtype: float64"
            ]
          },
          "metadata": {},
          "execution_count": 15
        }
      ]
    },
    {
      "cell_type": "code",
      "metadata": {
        "id": "jwbvz9N36X9F",
        "outputId": "01e77f33-1cd0-4375-bb47-1d33eef4a217",
        "colab": {
          "base_uri": "https://localhost:8080/"
        }
      },
      "source": [
        "np.mean( array_Altura )"
      ],
      "execution_count": 16,
      "outputs": [
        {
          "output_type": "execute_result",
          "data": {
            "text/plain": [
              "1.6951999999999998"
            ]
          },
          "metadata": {},
          "execution_count": 16
        }
      ]
    },
    {
      "cell_type": "code",
      "metadata": {
        "id": "94H7jDKV6X9I",
        "outputId": "210c4526-281d-4b6e-e531-20e5461b41db",
        "colab": {
          "base_uri": "https://localhost:8080/"
        }
      },
      "source": [
        "np.sort( array_Altura.dropna() )"
      ],
      "execution_count": 17,
      "outputs": [
        {
          "output_type": "execute_result",
          "data": {
            "text/plain": [
              "array([1.55, 1.55, 1.6 , 1.6 , 1.6 , 1.61, 1.66, 1.67, 1.67, 1.67, 1.68,\n",
              "       1.68, 1.69, 1.7 , 1.72, 1.72, 1.72, 1.76, 1.76, 1.78, 1.79, 1.79,\n",
              "       1.8 , 1.8 , 1.81])"
            ]
          },
          "metadata": {},
          "execution_count": 17
        }
      ]
    },
    {
      "cell_type": "code",
      "metadata": {
        "id": "oYPruljm6X9M",
        "outputId": "65ab8bc6-89cc-4761-99c4-1e0caa280399",
        "colab": {
          "base_uri": "https://localhost:8080/",
          "height": 414
        }
      },
      "source": [
        "fig = plt.figure( figsize=(8,6) )\n",
        "\n",
        "counts, bins, _ = plt.hist( array_Altura, bins=9, range=(1.55, 2.00) )\n",
        "plt.xlim( 1.55, 2.00 )\n",
        "plt.xlabel( \"Altura (m)\", fontsize=18 )\n",
        "plt.ylabel( \"Frequência\", fontsize=18 )"
      ],
      "execution_count": 18,
      "outputs": [
        {
          "output_type": "execute_result",
          "data": {
            "text/plain": [
              "Text(0, 0.5, 'Frequência')"
            ]
          },
          "metadata": {},
          "execution_count": 18
        },
        {
          "output_type": "display_data",
          "data": {
            "text/plain": [
              "<Figure size 576x432 with 1 Axes>"
            ],
            "image/png": "[encoded data removed]"
          },
          "metadata": {
            "needs_background": "light"
          }
        }
      ]
    },
    {
      "cell_type": "markdown",
      "metadata": {
        "id": "HIiA6cYsLu40"
      },
      "source": [
        "Correlação Idade vs Peso:"
      ]
    },
    {
      "cell_type": "code",
      "metadata": {
        "id": "5ohqUW8jO_9v",
        "outputId": "15d33988-938d-4a8d-ce44-65d48501bc8f",
        "colab": {
          "base_uri": "https://localhost:8080/",
          "height": 418
        }
      },
      "source": [
        "fig = plt.figure( figsize=(8,6) )\n",
        "\n",
        "plt.plot( array_Idade.dropna(), array_Peso.dropna(), 'o' )\n",
        "plt.xlim( 15, 55 )\n",
        "plt.ylim( 40., 140. )\n",
        "plt.xlabel( \"Idade (anos)\", fontsize=18 )\n",
        "plt.ylabel( \"Peso (kg)\", fontsize=18 )"
      ],
      "execution_count": 19,
      "outputs": [
        {
          "output_type": "execute_result",
          "data": {
            "text/plain": [
              "Text(0, 0.5, 'Peso (kg)')"
            ]
          },
          "metadata": {},
          "execution_count": 19
        },
        {
          "output_type": "display_data",
          "data": {
            "text/plain": [
              "<Figure size 576x432 with 1 Axes>"
            ],
            "image/png": "[encoded data removed]"
          },
          "metadata": {
            "needs_background": "light"
          }
        }
      ]
    },
    {
      "cell_type": "markdown",
      "metadata": {
        "id": "oElstG7j72ow"
      },
      "source": [
        "Correlação Idade vs Altura:"
      ]
    },
    {
      "cell_type": "code",
      "metadata": {
        "id": "tu60RRsGO-8C",
        "outputId": "d4be76d6-aa58-46e4-830e-bd0f43098164",
        "colab": {
          "base_uri": "https://localhost:8080/",
          "height": 418
        }
      },
      "source": [
        "fig = plt.figure( figsize=(8,6) )\n",
        "\n",
        "plt.plot( array_Idade.dropna(), array_Altura.dropna(), 'o' )\n",
        "plt.xlim( 15, 55 )\n",
        "plt.ylim( 1.55, 2.00 )\n",
        "plt.xlabel( \"Idade (anos)\", fontsize=18 )\n",
        "plt.ylabel( \"Altura (m)\", fontsize=18 )"
      ],
      "execution_count": 20,
      "outputs": [
        {
          "output_type": "execute_result",
          "data": {
            "text/plain": [
              "Text(0, 0.5, 'Altura (m)')"
            ]
          },
          "metadata": {},
          "execution_count": 20
        },
        {
          "output_type": "display_data",
          "data": {
            "text/plain": [
              "<Figure size 576x432 with 1 Axes>"
            ],
            "image/png": "[encoded data removed]"
          },
          "metadata": {
            "needs_background": "light"
          }
        }
      ]
    },
    {
      "cell_type": "markdown",
      "metadata": {
        "id": "1mYE-XKC78A5"
      },
      "source": [
        "Correlação Altura vs Peso:"
      ]
    },
    {
      "cell_type": "code",
      "metadata": {
        "id": "Z3BO_y96Oc9X",
        "outputId": "3c8fd3b3-8a83-41be-9eb4-6676dbc191a3",
        "colab": {
          "base_uri": "https://localhost:8080/",
          "height": 418
        }
      },
      "source": [
        "fig = plt.figure( figsize=(8,6) )\n",
        "\n",
        "plt.plot( array_Altura.dropna(), array_Peso.dropna(), 'o' )\n",
        "plt.xlim( 1.55, 2.00 )\n",
        "plt.ylim( 40., 140. )\n",
        "plt.xlabel( \"Altura (m)\", fontsize=18 )\n",
        "plt.ylabel( \"Peso (kg)\", fontsize=18 )"
      ],
      "execution_count": 21,
      "outputs": [
        {
          "output_type": "execute_result",
          "data": {
            "text/plain": [
              "Text(0, 0.5, 'Peso (kg)')"
            ]
          },
          "metadata": {},
          "execution_count": 21
        },
        {
          "output_type": "display_data",
          "data": {
            "text/plain": [
              "<Figure size 576x432 with 1 Axes>"
            ],
            "image/png": "[encoded data removed]"
          },
          "metadata": {
            "needs_background": "light"
          }
        }
      ]
    },
    {
      "cell_type": "markdown",
      "metadata": {
        "id": "PuR39MMf9bve"
      },
      "source": [
        "Cálculo das variâncias:\n"
      ]
    },
    {
      "cell_type": "code",
      "metadata": {
        "id": "3frHMs3X3pue",
        "outputId": "19d680b8-5fa0-48f6-abdf-01309e008944",
        "colab": {
          "base_uri": "https://localhost:8080/"
        }
      },
      "source": [
        "# Diferença entre média dos quadrados e quadrado da média\n",
        "np.mean( array_Idade.dropna() ** 2 ) - np.mean( array_Idade.dropna() ) ** 2"
      ],
      "execution_count": 22,
      "outputs": [
        {
          "output_type": "execute_result",
          "data": {
            "text/plain": [
              "2.3999999999999773"
            ]
          },
          "metadata": {},
          "execution_count": 22
        }
      ]
    },
    {
      "cell_type": "code",
      "metadata": {
        "id": "JA1pDPD338r-",
        "outputId": "c544e8de-bd1b-4c53-8e06-6d194c211781",
        "colab": {
          "base_uri": "https://localhost:8080/"
        }
      },
      "source": [
        "np.mean( array_Peso.dropna() ** 2 ) - np.mean( array_Peso.dropna() ) ** 2"
      ],
      "execution_count": 23,
      "outputs": [
        {
          "output_type": "execute_result",
          "data": {
            "text/plain": [
              "159.1999999999989"
            ]
          },
          "metadata": {},
          "execution_count": 23
        }
      ]
    },
    {
      "cell_type": "code",
      "metadata": {
        "id": "RbvAcx7l3_ez",
        "outputId": "6994b18a-e346-4388-8dad-b7a843b215ee",
        "colab": {
          "base_uri": "https://localhost:8080/"
        }
      },
      "source": [
        "np.mean( array_Altura.dropna() ** 2 ) - np.mean( array_Altura.dropna() ) ** 2"
      ],
      "execution_count": 24,
      "outputs": [
        {
          "output_type": "execute_result",
          "data": {
            "text/plain": [
              "0.006032960000000642"
            ]
          },
          "metadata": {},
          "execution_count": 24
        }
      ]
    },
    {
      "cell_type": "markdown",
      "metadata": {
        "id": "diQ3GwUO9gKz"
      },
      "source": [
        "Usando NumPy:"
      ]
    },
    {
      "cell_type": "code",
      "metadata": {
        "id": "OEcY4BmYNKk9",
        "outputId": "95b02ac4-b66f-4eb8-aeb8-c475df05194a",
        "colab": {
          "base_uri": "https://localhost:8080/"
        }
      },
      "source": [
        "var_Idade = np.var( array_Idade.dropna(), ddof=0 )\n",
        "var_Idade"
      ],
      "execution_count": 26,
      "outputs": [
        {
          "output_type": "execute_result",
          "data": {
            "text/plain": [
              "2.4"
            ]
          },
          "metadata": {},
          "execution_count": 26
        }
      ]
    },
    {
      "cell_type": "code",
      "metadata": {
        "id": "MrsxjlvHNL50",
        "outputId": "7693306e-7796-4cc4-ded1-6508b9b709ab",
        "colab": {
          "base_uri": "https://localhost:8080/"
        }
      },
      "source": [
        "var_Peso = np.var( array_Peso, ddof=0 )\n",
        "var_Peso"
      ],
      "execution_count": 27,
      "outputs": [
        {
          "output_type": "execute_result",
          "data": {
            "text/plain": [
              "159.2"
            ]
          },
          "metadata": {},
          "execution_count": 27
        }
      ]
    },
    {
      "cell_type": "code",
      "metadata": {
        "id": "MAkHtP6sMda1",
        "outputId": "923e4496-7060-4e49-d746-49662c87f59b",
        "colab": {
          "base_uri": "https://localhost:8080/"
        }
      },
      "source": [
        "var_Altura = np.var( array_Altura, ddof=0 )\n",
        "var_Altura"
      ],
      "execution_count": 28,
      "outputs": [
        {
          "output_type": "execute_result",
          "data": {
            "text/plain": [
              "0.0060329599999999995"
            ]
          },
          "metadata": {},
          "execution_count": 28
        }
      ]
    },
    {
      "cell_type": "markdown",
      "metadata": {
        "id": "CD-59vvb4T5v"
      },
      "source": [
        "Cálculo das covariâncias:"
      ]
    },
    {
      "cell_type": "code",
      "metadata": {
        "id": "AVpoFaUO4WVO",
        "outputId": "aa016695-ab59-402e-840d-bc700860415c",
        "colab": {
          "base_uri": "https://localhost:8080/"
        }
      },
      "source": [
        "# Sequência com valores dos produtos dos elementos de mesmo índice dos arrays\n",
        "array_Idade.dropna() * array_Peso.dropna()"
      ],
      "execution_count": 30,
      "outputs": [
        {
          "output_type": "execute_result",
          "data": {
            "text/plain": [
              "Índice\n",
              "DANILO SANTOS DE FIGUEREDO              990.0\n",
              "EDUARDO DE SOUZA SILVA JUNIOR          1404.0\n",
              "EDUARDO PEREIRA DOS SANTOS             1530.0\n",
              "FABIO COELHO DIMARI VIEIRA             1350.0\n",
              "FELIPE CARNEIRO DA ROCHA CARVALHO      1746.0\n",
              "GABRIELA SANTOS MORAIS                 1500.0\n",
              "GABRIEL DE MATOS MESIAS                1080.0\n",
              "GUILHERME FIRMINO DOS SANTOS           1404.0\n",
              "LUIS GABRIEL DE ARAUJO VASCONCELOS     1220.0\n",
              "LUIZA LOTUFO DE SOUZA AMBROZIM         1071.0\n",
              "MANUELA CASSIA ANDRADE DE MAGALHAES    1140.0\n",
              "MARIA EDUARDA AMADO DA SILVA            990.0\n",
              "MARIA EDUARDA GUIMARAES OLIVEIRA       1260.0\n",
              "MARIA EDUARDA MELONI DO VALLE           792.0\n",
              "MARIA EDUARDA NOVO NOVAES              1411.0\n",
              "SAMUEL SILVA DE SOUZA                  1440.0\n",
              "WALTER LINHARES DE SIQUEIRA            1357.0\n",
              "Tadeu Xavier(Turma 1)                  1716.0\n",
              "Lucas Caetano(Turma 1)                 1102.0\n",
              "Vitor Motter (Turma 1)                 1020.0\n",
              "Lucas Vidal (Turma 1)                  1530.0\n",
              "Ana Luiza Matias (Turma 1)              954.0\n",
              "Bernardo (Turma 1)                     1156.0\n",
              "Lucas Freitas (Turma 1)                1491.0\n",
              "Lourenço Soares (Turma 1)              1020.0\n",
              "dtype: float64"
            ]
          },
          "metadata": {},
          "execution_count": 30
        }
      ]
    },
    {
      "cell_type": "code",
      "metadata": {
        "id": "ggLeCV384Wx-",
        "outputId": "376f6c27-2aaf-4d2f-ab06-3496d0cf0a67",
        "colab": {
          "base_uri": "https://localhost:8080/"
        }
      },
      "source": [
        "# Covariância: diferença entre média dos produtos e produto das médias\n",
        "np.mean( array_Idade.dropna() * array_Peso.dropna() ) - np.mean( array_Idade.dropna() ) * np.mean( array_Peso.dropna() )"
      ],
      "execution_count": 31,
      "outputs": [
        {
          "output_type": "execute_result",
          "data": {
            "text/plain": [
              "-1.5600000000001728"
            ]
          },
          "metadata": {},
          "execution_count": 31
        }
      ]
    },
    {
      "cell_type": "code",
      "metadata": {
        "id": "vBWeOKOH5D_x",
        "outputId": "e813f67a-279b-4388-e19b-8de199ab14f9",
        "colab": {
          "base_uri": "https://localhost:8080/"
        }
      },
      "source": [
        "np.mean( array_Idade.dropna() * array_Altura.dropna() ) - np.mean( array_Idade.dropna() ) * np.mean( array_Altura.dropna() )"
      ],
      "execution_count": 32,
      "outputs": [
        {
          "output_type": "execute_result",
          "data": {
            "text/plain": [
              "0.020479999999999166"
            ]
          },
          "metadata": {},
          "execution_count": 32
        }
      ]
    },
    {
      "cell_type": "code",
      "metadata": {
        "id": "yHoapbud5ETx",
        "outputId": "448f0e5c-0c3c-4d75-8af2-0f16a4b7ee54",
        "colab": {
          "base_uri": "https://localhost:8080/"
        }
      },
      "source": [
        "np.mean( array_Peso.dropna() * array_Altura.dropna() ) - np.mean( array_Peso.dropna() ) * np.mean( array_Altura.dropna() )"
      ],
      "execution_count": 33,
      "outputs": [
        {
          "output_type": "execute_result",
          "data": {
            "text/plain": [
              "0.36176000000000386"
            ]
          },
          "metadata": {},
          "execution_count": 33
        }
      ]
    },
    {
      "cell_type": "markdown",
      "metadata": {
        "id": "d3S0LWvM5Rlm"
      },
      "source": [
        "Usando NumPy:"
      ]
    },
    {
      "cell_type": "code",
      "metadata": {
        "id": "mSnzM624MR07",
        "outputId": "2741cbd0-1cd3-47e0-c01a-0aa45d267fca",
        "colab": {
          "base_uri": "https://localhost:8080/"
        }
      },
      "source": [
        "# (Idade, Peso)\n",
        "cov_Idade_Peso = np.cov( array_Idade.dropna(), array_Peso.dropna(), ddof=0 )\n",
        "cov_Idade_Peso"
      ],
      "execution_count": 34,
      "outputs": [
        {
          "output_type": "execute_result",
          "data": {
            "text/plain": [
              "array([[  2.4 ,  -1.56],\n",
              "       [ -1.56, 159.2 ]])"
            ]
          },
          "metadata": {},
          "execution_count": 34
        }
      ]
    },
    {
      "cell_type": "code",
      "metadata": {
        "id": "z3JaVynyOO4V",
        "outputId": "3109d4d3-d954-4a1d-8499-29f77d35f30c",
        "colab": {
          "base_uri": "https://localhost:8080/"
        }
      },
      "source": [
        "# Variância Idade\n",
        "cov_Idade_Peso[0,0]"
      ],
      "execution_count": 35,
      "outputs": [
        {
          "output_type": "execute_result",
          "data": {
            "text/plain": [
              "2.399999999999999"
            ]
          },
          "metadata": {},
          "execution_count": 35
        }
      ]
    },
    {
      "cell_type": "code",
      "metadata": {
        "id": "Iwtl3UZOOO4W",
        "outputId": "a1e712ee-d2c6-4eed-84bf-fafe33331159",
        "colab": {
          "base_uri": "https://localhost:8080/"
        }
      },
      "source": [
        "# Variância Peso\n",
        "cov_Idade_Peso[1,1]"
      ],
      "execution_count": 36,
      "outputs": [
        {
          "output_type": "execute_result",
          "data": {
            "text/plain": [
              "159.20000000000002"
            ]
          },
          "metadata": {},
          "execution_count": 36
        }
      ]
    },
    {
      "cell_type": "code",
      "metadata": {
        "id": "pvo-FpbpOO4W",
        "outputId": "e1f210f0-6217-4b96-da26-bde90a3880db",
        "colab": {
          "base_uri": "https://localhost:8080/"
        }
      },
      "source": [
        "# Covariância (Idade,Peso)\n",
        "cov_Idade_Peso[0,1]"
      ],
      "execution_count": 37,
      "outputs": [
        {
          "output_type": "execute_result",
          "data": {
            "text/plain": [
              "-1.559999999999999"
            ]
          },
          "metadata": {},
          "execution_count": 37
        }
      ]
    },
    {
      "cell_type": "code",
      "metadata": {
        "id": "_AuoYix9OO4W",
        "outputId": "97705b7f-da00-414b-890d-abd0e3a7e60d",
        "colab": {
          "base_uri": "https://localhost:8080/"
        }
      },
      "source": [
        "# Coeficiente de correlação\n",
        "cov_Idade_Peso[0,1] / ( np.sqrt( var_Idade ) * np.sqrt( var_Peso ) )"
      ],
      "execution_count": 38,
      "outputs": [
        {
          "output_type": "execute_result",
          "data": {
            "text/plain": [
              "-0.07980818713433062"
            ]
          },
          "metadata": {},
          "execution_count": 38
        }
      ]
    },
    {
      "cell_type": "code",
      "metadata": {
        "id": "NCEbDA06JBE_",
        "outputId": "56016933-94f4-4f42-9475-c71f47189b1e",
        "colab": {
          "base_uri": "https://localhost:8080/"
        }
      },
      "source": [
        "# (Idade, Altura)\n",
        "cov_Idade_Altura = np.cov( array_Idade.dropna(), array_Altura.dropna(), ddof=0 )\n",
        "cov_Idade_Altura"
      ],
      "execution_count": 40,
      "outputs": [
        {
          "output_type": "execute_result",
          "data": {
            "text/plain": [
              "array([[2.4       , 0.02048   ],\n",
              "       [0.02048   , 0.00603296]])"
            ]
          },
          "metadata": {},
          "execution_count": 40
        }
      ]
    },
    {
      "cell_type": "code",
      "metadata": {
        "id": "U5oMGrxXN-Qi",
        "outputId": "0fd7ca5f-d34c-4193-add6-4b96fb687eb2",
        "colab": {
          "base_uri": "https://localhost:8080/"
        }
      },
      "source": [
        "# Variância Idade\n",
        "cov_Idade_Altura[0,0]"
      ],
      "execution_count": 41,
      "outputs": [
        {
          "output_type": "execute_result",
          "data": {
            "text/plain": [
              "2.399999999999999"
            ]
          },
          "metadata": {},
          "execution_count": 41
        }
      ]
    },
    {
      "cell_type": "code",
      "metadata": {
        "id": "lLNLauhAN-Qq",
        "outputId": "d3f403df-d6fe-4b23-c58d-11f98b74120c",
        "colab": {
          "base_uri": "https://localhost:8080/"
        }
      },
      "source": [
        "# Variância Altura\n",
        "cov_Idade_Altura[1,1]"
      ],
      "execution_count": 42,
      "outputs": [
        {
          "output_type": "execute_result",
          "data": {
            "text/plain": [
              "0.0060329599999999995"
            ]
          },
          "metadata": {},
          "execution_count": 42
        }
      ]
    },
    {
      "cell_type": "code",
      "metadata": {
        "id": "-oIr5uPVN-Qq",
        "outputId": "ed0df4a2-b02c-46fe-ad17-3f1564124a87",
        "colab": {
          "base_uri": "https://localhost:8080/"
        }
      },
      "source": [
        "# Covariância (Idade,Altura)\n",
        "cov_Idade_Altura[0,1]"
      ],
      "execution_count": 43,
      "outputs": [
        {
          "output_type": "execute_result",
          "data": {
            "text/plain": [
              "0.02047999999999997"
            ]
          },
          "metadata": {},
          "execution_count": 43
        }
      ]
    },
    {
      "cell_type": "code",
      "metadata": {
        "id": "rhOoYW7FN-Qq",
        "outputId": "03e3e371-0636-4308-c8fd-1530484ea0ab",
        "colab": {
          "base_uri": "https://localhost:8080/"
        }
      },
      "source": [
        "# Coeficiente de correlação\n",
        "cov_Idade_Altura[0,1] / ( np.sqrt( var_Idade ) * np.sqrt( var_Altura ) )"
      ],
      "execution_count": 44,
      "outputs": [
        {
          "output_type": "execute_result",
          "data": {
            "text/plain": [
              "0.17019982473291453"
            ]
          },
          "metadata": {},
          "execution_count": 44
        }
      ]
    },
    {
      "cell_type": "code",
      "metadata": {
        "id": "oO8HSqI0I-cW",
        "outputId": "77faaf75-71df-4a05-de91-20b53dd33667",
        "colab": {
          "base_uri": "https://localhost:8080/"
        }
      },
      "source": [
        "# (Peso, Altura)\n",
        "cov_Peso_Altura = np.cov( array_Peso.dropna(), array_Altura.dropna(), ddof=0 )\n",
        "cov_Peso_Altura"
      ],
      "execution_count": 46,
      "outputs": [
        {
          "output_type": "execute_result",
          "data": {
            "text/plain": [
              "array([[1.59200e+02, 3.61760e-01],\n",
              "       [3.61760e-01, 6.03296e-03]])"
            ]
          },
          "metadata": {},
          "execution_count": 46
        }
      ]
    },
    {
      "cell_type": "code",
      "metadata": {
        "id": "cizq8oJDNmc2",
        "outputId": "6ac7e5af-3538-4276-a9fa-eb88ba239224",
        "colab": {
          "base_uri": "https://localhost:8080/"
        }
      },
      "source": [
        "# Variância Peso\n",
        "cov_Peso_Altura[0,0]"
      ],
      "execution_count": 47,
      "outputs": [
        {
          "output_type": "execute_result",
          "data": {
            "text/plain": [
              "159.20000000000002"
            ]
          },
          "metadata": {},
          "execution_count": 47
        }
      ]
    },
    {
      "cell_type": "code",
      "metadata": {
        "id": "FZ79z7OONrXG",
        "outputId": "d4d040bb-77d5-4b33-91be-94b402b8e717",
        "colab": {
          "base_uri": "https://localhost:8080/"
        }
      },
      "source": [
        "# Variância Altura\n",
        "cov_Peso_Altura[1,1]"
      ],
      "execution_count": 48,
      "outputs": [
        {
          "output_type": "execute_result",
          "data": {
            "text/plain": [
              "0.0060329599999999995"
            ]
          },
          "metadata": {},
          "execution_count": 48
        }
      ]
    },
    {
      "cell_type": "code",
      "metadata": {
        "id": "dK5TZRaDNr8R",
        "outputId": "afcb4baa-3938-41f4-e464-9396552b0003",
        "colab": {
          "base_uri": "https://localhost:8080/"
        }
      },
      "source": [
        "# Covariância (Peso,Altura)\n",
        "cov_Peso_Altura[0,1]"
      ],
      "execution_count": 49,
      "outputs": [
        {
          "output_type": "execute_result",
          "data": {
            "text/plain": [
              "0.36175999999999997"
            ]
          },
          "metadata": {},
          "execution_count": 49
        }
      ]
    },
    {
      "cell_type": "code",
      "metadata": {
        "id": "7jhndEK8NxiA",
        "outputId": "2230a9e0-e3ce-4e02-cf7e-a3c6ac3e99b2",
        "colab": {
          "base_uri": "https://localhost:8080/"
        }
      },
      "source": [
        "# Coeficiente de correlação\n",
        "cov_Peso_Altura[0,1] / ( np.sqrt( var_Peso ) * np.sqrt( var_Altura ) )"
      ],
      "execution_count": 50,
      "outputs": [
        {
          "output_type": "execute_result",
          "data": {
            "text/plain": [
              "0.3691337803455028"
            ]
          },
          "metadata": {},
          "execution_count": 50
        }
      ]
    },
    {
      "cell_type": "code",
      "metadata": {
        "id": "6L63PcO18qmY"
      },
      "source": [],
      "execution_count": null,
      "outputs": []
    }
  ]
}