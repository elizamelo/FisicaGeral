{
  "nbformat": 4,
  "nbformat_minor": 0,
  "metadata": {
    "colab": {
      "provenance": [],
      "authorship_tag": "ABX9TyPLdLG5GC4+J6Tb8VEARwhi",
      "include_colab_link": true
    },
    "kernelspec": {
      "name": "python3",
      "display_name": "Python 3"
    },
    "language_info": {
      "name": "python"
    }
  },
  "cells": [
    {
      "cell_type": "markdown",
      "metadata": {
        "id": "view-in-github",
        "colab_type": "text"
      },
      "source": [
        "<a href=\"https://colab.research.google.com/github/elizamelo/FisicaGeral/blob/main/VolumeCilindro.ipynb\" target=\"_parent\"><img src=\"https://colab.research.google.com/assets/colab-badge.svg\" alt=\"Open In Colab\"/></a>"
      ]
    },
    {
      "cell_type": "code",
      "metadata": {
        "id": "mfA9UnENhdhm",
        "colab": {
          "base_uri": "https://localhost:8080/"
        },
        "outputId": "c0442c7d-6261-4d3a-afd2-7672540cb5b9"
      },
      "source": [
        "#first we need to tell python to get and download the package.\n",
        "#we do this with the command \"!pip install [package name]\"\n",
        "!pip install uncertainties"
      ],
      "execution_count": 162,
      "outputs": [
        {
          "output_type": "stream",
          "name": "stdout",
          "text": [
            "Looking in indexes: https://pypi.org/simple, https://us-python.pkg.dev/colab-wheels/public/simple/\n",
            "Requirement already satisfied: uncertainties in /usr/local/lib/python3.10/dist-packages (3.1.7)\n",
            "Requirement already satisfied: future in /usr/local/lib/python3.10/dist-packages (from uncertainties) (0.18.3)\n"
          ]
        }
      ]
    },
    {
      "cell_type": "code",
      "source": [
        "#now we load the package(s) we'll use from uncertainties\n",
        "from uncertainties import ufloat\n",
        "import uncertainties.umath as um\n",
        "\n",
        "#uncertainties.umath will do the mathematial calculations for this lab since it knows how to handle the ufloat data type.\n",
        "#you can still import numpy if you wish to use it for other operations (such as deg2rad), but it will not be necessary."
      ],
      "metadata": {
        "id": "FWoqzLlIpVTP"
      },
      "execution_count": 163,
      "outputs": []
    },
    {
      "cell_type": "code",
      "source": [
        "import numpy as np\n",
        "import pandas as pd\n",
        "import matplotlib as mpl\n",
        "import matplotlib.pyplot as plt\n",
        "import statistics\n",
        "from scipy import stats\n",
        "import math"
      ],
      "metadata": {
        "id": "-7068ixLyqk4"
      },
      "execution_count": 164,
      "outputs": []
    },
    {
      "cell_type": "code",
      "source": [
        "d_i = ufloat(6.20,0.03)\n",
        "d_e = ufloat(8.00,0.03)\n",
        "h = ufloat(43.65,0.03)\n",
        "erro_paq = 0.03\n",
        "di=6.20\n",
        "de=8.00\n",
        "l=43.65\n",
        "p_i = 3.14\n",
        "print(math.pi)"
      ],
      "metadata": {
        "colab": {
          "base_uri": "https://localhost:8080/"
        },
        "id": "JrE4LT4spetR",
        "outputId": "355cae1d-99e9-424f-bb6b-005c5fb10593"
      },
      "execution_count": 165,
      "outputs": [
        {
          "output_type": "stream",
          "name": "stdout",
          "text": [
            "3.141592653589793\n"
          ]
        }
      ]
    },
    {
      "cell_type": "code",
      "source": [
        "print(\"Diâmetro interno:\",d_i)\n",
        "print(\"Diâmetro externo:\",d_e)\n",
        "print(\"Comprimento h:\",h)"
      ],
      "metadata": {
        "colab": {
          "base_uri": "https://localhost:8080/"
        },
        "id": "qW_z-3fQqnar",
        "outputId": "3d62f3c7-f0b4-4510-fd86-ce02b654c2bc"
      },
      "execution_count": 166,
      "outputs": [
        {
          "output_type": "stream",
          "name": "stdout",
          "text": [
            "Diâmetro interno: 6.200+/-0.030\n",
            "Diâmetro externo: 8.000+/-0.030\n",
            "Comprimento h: 43.650+/-0.030\n"
          ]
        }
      ]
    },
    {
      "cell_type": "code",
      "source": [
        "#Funções \n",
        "def erroRelativo(medida):\n",
        "  erroRelativo = (erro_paq/medida)\n",
        "  print(f\"{erroRelativo*100}%\")\n",
        "\n",
        "def raio(diametro):\n",
        "  raio = (diametro)/2\n",
        "  #sigma_r = erro_paq/2\n",
        "  return(raio)\n",
        "  #print(f\"{raio}\",\"mm\")\n",
        "  #print(f\"{raio}\",f\"{sigma_r}\")\n",
        "\n",
        "def raior(diametro):\n",
        "  raio = diametro/2\n",
        "  sigma_r = erro_paq/2\n",
        "  print(f\"{raio}\",\"mm\")\n",
        "  print(f\"{raio}\",\"+/-\",f\"{sigma_r}\")\n",
        "\n",
        "def sigma_ab(valor):\n",
        "  sigma_ab=2*p_i*((valor)/2)*erro_paq/2\n",
        "  return(sigma_ab)\n",
        "\n",
        "\n",
        "   \n",
        "\n"
      ],
      "metadata": {
        "id": "1HzYNYM7azb4"
      },
      "execution_count": 167,
      "outputs": []
    },
    {
      "cell_type": "markdown",
      "source": [
        "# Cálculo do Erro Relativo\n"
      ],
      "metadata": {
        "id": "HkCmvYR67MG4"
      }
    },
    {
      "cell_type": "code",
      "source": [
        "erroRelativo(di)\n",
        "erroRelativo(de)\n",
        "erroRelativo(l)"
      ],
      "metadata": {
        "colab": {
          "base_uri": "https://localhost:8080/"
        },
        "id": "0M0u3iHdwTbc",
        "outputId": "7adf5a2b-7361-439c-c02e-43466cb4e597"
      },
      "execution_count": 168,
      "outputs": [
        {
          "output_type": "stream",
          "name": "stdout",
          "text": [
            "0.48387096774193544%\n",
            "0.375%\n",
            "0.06872852233676975%\n"
          ]
        }
      ]
    },
    {
      "cell_type": "markdown",
      "source": [
        "#Cálculo dos Raios"
      ],
      "metadata": {
        "id": "rKAmJWh37RYt"
      }
    },
    {
      "cell_type": "code",
      "source": [
        "raio(d_i)\n",
        "raior(di)"
      ],
      "metadata": {
        "colab": {
          "base_uri": "https://localhost:8080/"
        },
        "id": "BOlDXIoUwif6",
        "outputId": "30230309-ddd3-450d-b7d5-c5cb190029b9"
      },
      "execution_count": 169,
      "outputs": [
        {
          "output_type": "stream",
          "name": "stdout",
          "text": [
            "3.1 mm\n",
            "3.1 +/- 0.015\n"
          ]
        }
      ]
    },
    {
      "cell_type": "code",
      "source": [
        "r_i = d_i/2\n",
        "r_e = d_e/2"
      ],
      "metadata": {
        "id": "za9vGee8yAGF"
      },
      "execution_count": 170,
      "outputs": []
    },
    {
      "cell_type": "code",
      "source": [
        "print(\"Raio interno:\",r_i,\"(mm)\")\n",
        "print(\"Raio externo:\",r_e,\"(mm)\")"
      ],
      "metadata": {
        "colab": {
          "base_uri": "https://localhost:8080/"
        },
        "id": "7GpHisX6x7Cn",
        "outputId": "36217f5d-5068-403e-b274-810c53f959a3"
      },
      "execution_count": 171,
      "outputs": [
        {
          "output_type": "stream",
          "name": "stdout",
          "text": [
            "Raio interno: 3.100+/-0.015 (mm)\n",
            "Raio externo: 4.000+/-0.015 (mm)\n"
          ]
        }
      ]
    },
    {
      "cell_type": "markdown",
      "source": [
        "#Área da base"
      ],
      "metadata": {
        "id": "pXgG7gtP7XgS"
      }
    },
    {
      "cell_type": "code",
      "source": [
        "#Área da base interna\n",
        "A_bi=p_i*(r_i*r_i)\n",
        "A_bi\n"
      ],
      "metadata": {
        "colab": {
          "base_uri": "https://localhost:8080/"
        },
        "id": "KMcodX7kyaNA",
        "outputId": "773e4fbd-9afd-48f2-f695-f857bd23ba4a"
      },
      "execution_count": 172,
      "outputs": [
        {
          "output_type": "execute_result",
          "data": {
            "text/plain": [
              "30.175400000000003+/-0.29202"
            ]
          },
          "metadata": {},
          "execution_count": 172
        }
      ]
    },
    {
      "cell_type": "code",
      "source": [
        "sigma_abi=2*p_i*((di)/2)*erro_paq/2\n",
        "sigma_abi"
      ],
      "metadata": {
        "colab": {
          "base_uri": "https://localhost:8080/"
        },
        "id": "s3QMPWqx14YN",
        "outputId": "444538fb-8990-4c2d-b2b4-9c2d80e558d8"
      },
      "execution_count": 173,
      "outputs": [
        {
          "output_type": "execute_result",
          "data": {
            "text/plain": [
              "0.29202"
            ]
          },
          "metadata": {},
          "execution_count": 173
        }
      ]
    },
    {
      "cell_type": "code",
      "source": [
        "#Área da base externa\n",
        "A_be=p_i*(r_e*r_e)\n",
        "\n",
        "A_be"
      ],
      "metadata": {
        "colab": {
          "base_uri": "https://localhost:8080/"
        },
        "id": "pAVzR5jr0FlM",
        "outputId": "e624788c-dc47-46cf-ec7c-09750d65407b"
      },
      "execution_count": 174,
      "outputs": [
        {
          "output_type": "execute_result",
          "data": {
            "text/plain": [
              "50.24+/-0.3768"
            ]
          },
          "metadata": {},
          "execution_count": 174
        }
      ]
    },
    {
      "cell_type": "code",
      "source": [
        "sigma_abe=2*p_i*((de)/2)*erro_paq/2\n",
        "sigma_abe"
      ],
      "metadata": {
        "colab": {
          "base_uri": "https://localhost:8080/"
        },
        "id": "D2K_f6SY19R3",
        "outputId": "9fd1dcd8-d11e-47df-df46-853b31187585"
      },
      "execution_count": 175,
      "outputs": [
        {
          "output_type": "execute_result",
          "data": {
            "text/plain": [
              "0.3768"
            ]
          },
          "metadata": {},
          "execution_count": 175
        }
      ]
    },
    {
      "cell_type": "code",
      "source": [
        "#Área da base efetiva do cilindro\n",
        "A_b= (A_be-A_bi)\n",
        "A_b"
      ],
      "metadata": {
        "colab": {
          "base_uri": "https://localhost:8080/"
        },
        "id": "0RHKg8_j0gNp",
        "outputId": "5c75b535-c651-4977-dcce-2ba791e1af5a"
      },
      "execution_count": 176,
      "outputs": [
        {
          "output_type": "execute_result",
          "data": {
            "text/plain": [
              "20.0646+/-0.4767115694001982"
            ]
          },
          "metadata": {},
          "execution_count": 176
        }
      ]
    },
    {
      "cell_type": "code",
      "source": [
        "sigma_abef=np.sqrt((sigma_abi*sigma_abi)+(sigma_abe*sigma_abe))\n",
        "sigma_abef"
      ],
      "metadata": {
        "colab": {
          "base_uri": "https://localhost:8080/"
        },
        "id": "QDflWTVq2R9p",
        "outputId": "bc784e28-b2e7-457f-8a3a-3f76635b2628"
      },
      "execution_count": 177,
      "outputs": [
        {
          "output_type": "execute_result",
          "data": {
            "text/plain": [
              "0.4767115694001982"
            ]
          },
          "metadata": {},
          "execution_count": 177
        }
      ]
    },
    {
      "cell_type": "code",
      "source": [
        "print ('Área da base interna: {:.1u}'.format(A_bi),\"(mm²)\")\n",
        "print ('Área da base externa: {:.1u}'.format(A_be),\"(mm²)\")\n",
        "print ('Área da base efetiva: {:.1u}'.format(A_b),\"(mm²)\")"
      ],
      "metadata": {
        "colab": {
          "base_uri": "https://localhost:8080/"
        },
        "id": "XOJXK6r7zsBL",
        "outputId": "247a9ab4-4d5c-49dd-86b7-38ebce70585f"
      },
      "execution_count": 178,
      "outputs": [
        {
          "output_type": "stream",
          "name": "stdout",
          "text": [
            "Área da base interna: 30.2+/-0.3 (mm²)\n",
            "Área da base externa: 50.2+/-0.4 (mm²)\n",
            "Área da base efetiva: 20.1+/-0.5 (mm²)\n"
          ]
        }
      ]
    },
    {
      "cell_type": "markdown",
      "source": [
        "#Área lateral"
      ],
      "metadata": {
        "id": "y082Idvy7cdy"
      }
    },
    {
      "cell_type": "code",
      "source": [
        "#Área lateral interna do Cilindro\n",
        "A_li=2*p_i*r_i*h\n",
        "A_li"
      ],
      "metadata": {
        "colab": {
          "base_uri": "https://localhost:8080/"
        },
        "id": "y49Rcc173mvL",
        "outputId": "c03075b0-0e45-440c-9ae8-c82a646ff29d"
      },
      "execution_count": 179,
      "outputs": [
        {
          "output_type": "execute_result",
          "data": {
            "text/plain": [
              "849.7782+/-4.15310109081154"
            ]
          },
          "metadata": {},
          "execution_count": 179
        }
      ]
    },
    {
      "cell_type": "code",
      "source": [
        "sigma_ali=2*p_i*np.sqrt((l*l*erro_paq/2*erro_paq/2)+(di/2*di/2*erro_paq*erro_paq))\n",
        "sigma_ali"
      ],
      "metadata": {
        "colab": {
          "base_uri": "https://localhost:8080/"
        },
        "id": "S2PJLP3N5H6w",
        "outputId": "5fe3219d-c78f-45bd-9ee3-90ea7a59506c"
      },
      "execution_count": 180,
      "outputs": [
        {
          "output_type": "execute_result",
          "data": {
            "text/plain": [
              "4.15310109081154"
            ]
          },
          "metadata": {},
          "execution_count": 180
        }
      ]
    },
    {
      "cell_type": "code",
      "source": [
        "#Área lateral externa do Cilindro\n",
        "A_le=2*p_i*r_e*h\n",
        "A_le"
      ],
      "metadata": {
        "colab": {
          "base_uri": "https://localhost:8080/"
        },
        "id": "x5nvafF05_CK",
        "outputId": "d7856913-60ae-466e-edd6-33ff165d6cc3"
      },
      "execution_count": 181,
      "outputs": [
        {
          "output_type": "execute_result",
          "data": {
            "text/plain": [
              "1096.488+/-4.180318039204673"
            ]
          },
          "metadata": {},
          "execution_count": 181
        }
      ]
    },
    {
      "cell_type": "code",
      "source": [
        "sigma_ale=2*p_i*np.sqrt((l*l*erro_paq/2*erro_paq/2)+(de/2*de/2*erro_paq*erro_paq))\n",
        "sigma_ale"
      ],
      "metadata": {
        "colab": {
          "base_uri": "https://localhost:8080/"
        },
        "id": "TuSz9s7W6E25",
        "outputId": "686109c4-8d8c-441e-bf14-2f0105d2f725"
      },
      "execution_count": 182,
      "outputs": [
        {
          "output_type": "execute_result",
          "data": {
            "text/plain": [
              "4.180318039204673"
            ]
          },
          "metadata": {},
          "execution_count": 182
        }
      ]
    },
    {
      "cell_type": "code",
      "source": [
        "A_l = A_le-A_li\n",
        "A_l"
      ],
      "metadata": {
        "colab": {
          "base_uri": "https://localhost:8080/"
        },
        "id": "HdjWDROq6K0w",
        "outputId": "7dd99b93-2f30-462a-dd6f-3420a175e7a1"
      },
      "execution_count": 183,
      "outputs": [
        {
          "output_type": "execute_result",
          "data": {
            "text/plain": [
              "246.7098000000001+/-5.817477330544572"
            ]
          },
          "metadata": {},
          "execution_count": 183
        }
      ]
    },
    {
      "cell_type": "code",
      "source": [
        "sigma_al=np.sqrt((sigma_ali*sigma_ali)+(sigma_ale*sigma_ale))"
      ],
      "metadata": {
        "id": "oD1yfx2b6Pru"
      },
      "execution_count": 184,
      "outputs": []
    },
    {
      "cell_type": "code",
      "source": [
        "print ('Área lateral interna: {:.1u}'.format(A_li),\"(mm²)\")\n",
        "print ('Área lateral externa: {:.1u}'.format(A_le),\"(mm²)\")\n",
        "print ('Área lateral efetiva: {:.1u}'.format(A_l),\"(mm²)\")"
      ],
      "metadata": {
        "colab": {
          "base_uri": "https://localhost:8080/"
        },
        "outputId": "d4759bc0-5452-4196-acbf-43335c6160dd",
        "id": "3ejXYsq26dcB"
      },
      "execution_count": 185,
      "outputs": [
        {
          "output_type": "stream",
          "name": "stdout",
          "text": [
            "Área lateral interna: 850+/-4 (mm²)\n",
            "Área lateral externa: 1096+/-4 (mm²)\n",
            "Área lateral efetiva: 247+/-6 (mm²)\n"
          ]
        }
      ]
    },
    {
      "cell_type": "markdown",
      "source": [
        "#Área total"
      ],
      "metadata": {
        "id": "bTgKSDMe7grb"
      }
    },
    {
      "cell_type": "code",
      "source": [
        "#Área total interna\n",
        "A_ti=(2*A_bi+A_li)\n",
        "A_ti"
      ],
      "metadata": {
        "colab": {
          "base_uri": "https://localhost:8080/"
        },
        "id": "aafaP8Fy7lNP",
        "outputId": "10846889-278b-42b4-ead2-ea18b035f3a1"
      },
      "execution_count": 186,
      "outputs": [
        {
          "output_type": "execute_result",
          "data": {
            "text/plain": [
              "910.129+/-4.73205006086157"
            ]
          },
          "metadata": {},
          "execution_count": 186
        }
      ]
    },
    {
      "cell_type": "code",
      "source": [
        "sigma_ati=np.sqrt((4*sigma_abi*sigma_abi)+(sigma_ali*sigma_ali))\n",
        "sigma_ati"
      ],
      "metadata": {
        "colab": {
          "base_uri": "https://localhost:8080/"
        },
        "id": "0FYDoBnK9zsT",
        "outputId": "1bbc7f8a-0a29-4cb3-b4a0-63eb28f27265"
      },
      "execution_count": 187,
      "outputs": [
        {
          "output_type": "execute_result",
          "data": {
            "text/plain": [
              "4.19396606949794"
            ]
          },
          "metadata": {},
          "execution_count": 187
        }
      ]
    },
    {
      "cell_type": "code",
      "source": [
        "#Área total externa\n",
        "A_te=(2*A_be+A_le)\n",
        "A_te"
      ],
      "metadata": {
        "colab": {
          "base_uri": "https://localhost:8080/"
        },
        "id": "OOQZ_xsD-Jif",
        "outputId": "1215e406-0005-4f4a-d9cd-1fe8e562c38e"
      },
      "execution_count": 188,
      "outputs": [
        {
          "output_type": "execute_result",
          "data": {
            "text/plain": [
              "1196.968+/-4.923446155377349"
            ]
          },
          "metadata": {},
          "execution_count": 188
        }
      ]
    },
    {
      "cell_type": "code",
      "source": [
        "sigma_ate=np.sqrt((4*sigma_abe*sigma_abe)+(sigma_ale*sigma_ale))\n",
        "sigma_ate"
      ],
      "metadata": {
        "colab": {
          "base_uri": "https://localhost:8080/"
        },
        "id": "weznyh3s-Q09",
        "outputId": "d5f82daa-e5ce-4ffc-d6be-413a66d7469e"
      },
      "execution_count": 189,
      "outputs": [
        {
          "output_type": "execute_result",
          "data": {
            "text/plain": [
              "4.24770195151449"
            ]
          },
          "metadata": {},
          "execution_count": 189
        }
      ]
    },
    {
      "cell_type": "code",
      "source": [
        "#Área total\n",
        "A_t=(A_te-A_ti)\n",
        "A_t"
      ],
      "metadata": {
        "colab": {
          "base_uri": "https://localhost:8080/"
        },
        "id": "hmoaDr6I-Yn4",
        "outputId": "c108915d-ead2-468d-b819-733fdc69db19"
      },
      "execution_count": 190,
      "outputs": [
        {
          "output_type": "execute_result",
          "data": {
            "text/plain": [
              "286.83900000000006+/-6.764048694044122"
            ]
          },
          "metadata": {},
          "execution_count": 190
        }
      ]
    },
    {
      "cell_type": "code",
      "source": [
        "sigma_at=np.sqrt((sigma_ate*sigma_ate)+(sigma_ati*sigma_ati))\n",
        "sigma_at"
      ],
      "metadata": {
        "colab": {
          "base_uri": "https://localhost:8080/"
        },
        "id": "c0cwcSzN-ksR",
        "outputId": "524975d3-9e96-41f1-fded-395c67d2545f"
      },
      "execution_count": 191,
      "outputs": [
        {
          "output_type": "execute_result",
          "data": {
            "text/plain": [
              "5.969281636930863"
            ]
          },
          "metadata": {},
          "execution_count": 191
        }
      ]
    },
    {
      "cell_type": "code",
      "source": [
        "print ('Área total interna: {:.1u}'.format(A_ti),\"(mm²)\")\n",
        "print ('Área total externa: {:.1u}'.format(A_te),\"(mm²)\")\n",
        "print ('Área total efetiva: {:.1u}'.format(A_t),\"(mm²)\")"
      ],
      "metadata": {
        "colab": {
          "base_uri": "https://localhost:8080/"
        },
        "id": "u7pzoESn_Jxa",
        "outputId": "c27f217f-b39e-47f4-e517-90eefb53a90e"
      },
      "execution_count": 192,
      "outputs": [
        {
          "output_type": "stream",
          "name": "stdout",
          "text": [
            "Área total interna: 910+/-5 (mm²)\n",
            "Área total externa: 1197+/-5 (mm²)\n",
            "Área total efetiva: 287+/-7 (mm²)\n"
          ]
        }
      ]
    },
    {
      "cell_type": "markdown",
      "source": [
        "#Volume do cilindro"
      ],
      "metadata": {
        "id": "Lyf-MH7U_mEt"
      }
    },
    {
      "cell_type": "code",
      "source": [
        "#Volume interno\n",
        "V_i = A_bi*h\n",
        "V_i"
      ],
      "metadata": {
        "colab": {
          "base_uri": "https://localhost:8080/"
        },
        "id": "hl3b6rp__oZH",
        "outputId": "5b4277e3-b2f1-44ed-e935-813b943c6a24"
      },
      "execution_count": 193,
      "outputs": [
        {
          "output_type": "execute_result",
          "data": {
            "text/plain": [
              "1317.15621+/-12.778778183283917"
            ]
          },
          "metadata": {},
          "execution_count": 193
        }
      ]
    },
    {
      "cell_type": "code",
      "source": [
        "V_in=p_i*(r_i*r_i)*h\n",
        "V_in"
      ],
      "metadata": {
        "colab": {
          "base_uri": "https://localhost:8080/"
        },
        "id": "eEjEIqPzAhMm",
        "outputId": "120afa47-4f00-4021-d1ec-a468b58f2999"
      },
      "execution_count": 197,
      "outputs": [
        {
          "output_type": "execute_result",
          "data": {
            "text/plain": [
              "1317.15621+/-12.778778183283919"
            ]
          },
          "metadata": {},
          "execution_count": 197
        }
      ]
    },
    {
      "cell_type": "code",
      "source": [
        "V_e=A_be*h\n",
        "V_e"
      ],
      "metadata": {
        "colab": {
          "base_uri": "https://localhost:8080/"
        },
        "id": "lo0OnfLZ_20R",
        "outputId": "75aca73e-e9a3-4f76-872b-d865a9510f78"
      },
      "execution_count": 194,
      "outputs": [
        {
          "output_type": "execute_result",
          "data": {
            "text/plain": [
              "2192.976+/-16.516234044793627"
            ]
          },
          "metadata": {},
          "execution_count": 194
        }
      ]
    },
    {
      "cell_type": "code",
      "source": [
        "#Volume efetivo\n",
        "V_efe=V_e-V_i"
      ],
      "metadata": {
        "id": "KcGweTLX_7Ql"
      },
      "execution_count": 195,
      "outputs": []
    },
    {
      "cell_type": "code",
      "source": [
        "print ('Volume interno: {:.1u}'.format(V_i),\"(mm³)\")\n",
        "print ('Volume externo: {:.1u}'.format(V_e),\"(mm³)\")\n",
        "print ('Volume total efetiva: {:.1u}'.format(V_efe),\"(mm³)\")"
      ],
      "metadata": {
        "colab": {
          "base_uri": "https://localhost:8080/"
        },
        "id": "9PJlwlxlAEiF",
        "outputId": "103f1aa4-b8c2-49ca-d815-61a437a1f1c2"
      },
      "execution_count": 196,
      "outputs": [
        {
          "output_type": "stream",
          "name": "stdout",
          "text": [
            "Volume interno: (1.32+/-0.01)e+03 (mm³)\n",
            "Volume externo: (2.19+/-0.02)e+03 (mm³)\n",
            "Volume total efetiva: (8.8+/-0.2)e+02 (mm³)\n"
          ]
        }
      ]
    }
  ]
}