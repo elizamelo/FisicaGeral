{
  "nbformat": 4,
  "nbformat_minor": 0,
  "metadata": {
    "colab": {
      "provenance": [],
      "authorship_tag": "ABX9TyMma2t5+ur8uTk7whZzlLDC",
      "include_colab_link": true
    },
    "kernelspec": {
      "name": "python3",
      "display_name": "Python 3"
    },
    "language_info": {
      "name": "python"
    }
  },
  "cells": [
    {
      "cell_type": "markdown",
      "metadata": {
        "id": "view-in-github",
        "colab_type": "text"
      },
      "source": [
        "<a href=\"https://colab.research.google.com/github/elizamelo/FisicaGeral/blob/main/VolumeCilindroGabriela.ipynb\" target=\"_parent\"><img src=\"https://colab.research.google.com/assets/colab-badge.svg\" alt=\"Open In Colab\"/></a>"
      ]
    },
    {
      "cell_type": "code",
      "metadata": {
        "id": "mfA9UnENhdhm",
        "colab": {
          "base_uri": "https://localhost:8080/"
        },
        "outputId": "4edc08e0-899b-45e0-a2d2-428587f91dd0"
      },
      "source": [
        "#first we need to tell python to get and download the package.\n",
        "#we do this with the command \"!pip install [package name]\"\n",
        "!pip install uncertainties"
      ],
      "execution_count": 1,
      "outputs": [
        {
          "output_type": "stream",
          "name": "stdout",
          "text": [
            "Collecting uncertainties\n",
            "  Downloading uncertainties-3.1.7-py2.py3-none-any.whl (98 kB)\n",
            "\u001b[?25l     \u001b[90m━━━━━━━━━━━━━━━━━━━━━━━━━━━━━━━━━━━━━━━━\u001b[0m \u001b[32m0.0/98.4 kB\u001b[0m \u001b[31m?\u001b[0m eta \u001b[36m-:--:--\u001b[0m\r\u001b[2K     \u001b[90m━━━━━━━━━━━━━━━━━━━━━━━━━━━━━━━━━━━━━━━━\u001b[0m \u001b[32m98.4/98.4 kB\u001b[0m \u001b[31m3.8 MB/s\u001b[0m eta \u001b[36m0:00:00\u001b[0m\n",
            "\u001b[?25hRequirement already satisfied: future in /usr/local/lib/python3.10/dist-packages (from uncertainties) (0.18.3)\n",
            "Installing collected packages: uncertainties\n",
            "Successfully installed uncertainties-3.1.7\n"
          ]
        }
      ]
    },
    {
      "cell_type": "code",
      "source": [
        "#now we load the package(s) we'll use from uncertainties\n",
        "from uncertainties import ufloat\n",
        "import uncertainties.umath as um\n",
        "\n",
        "#uncertainties.umath will do the mathematial calculations for this lab since it knows how to handle the ufloat data type.\n",
        "#you can still import numpy if you wish to use it for other operations (such as deg2rad), but it will not be necessary."
      ],
      "metadata": {
        "id": "FWoqzLlIpVTP"
      },
      "execution_count": 2,
      "outputs": []
    },
    {
      "cell_type": "code",
      "source": [
        "import numpy as np\n",
        "import pandas as pd\n",
        "import matplotlib as mpl\n",
        "import matplotlib.pyplot as plt\n",
        "import statistics\n",
        "from scipy import stats\n",
        "import math"
      ],
      "metadata": {
        "id": "-7068ixLyqk4"
      },
      "execution_count": 3,
      "outputs": []
    },
    {
      "cell_type": "code",
      "source": [
        "d_i = ufloat(5.00,0.03)\n",
        "d_e = ufloat(8.30,0.03)\n",
        "h = ufloat(46.10,0.03)\n",
        "erro_paq = 0.03\n",
        "di=5.00\n",
        "de=8.30\n",
        "l=46.10\n",
        "p_i = 3.14\n",
        "print(math.pi)"
      ],
      "metadata": {
        "colab": {
          "base_uri": "https://localhost:8080/"
        },
        "id": "JrE4LT4spetR",
        "outputId": "e35ea17a-c4ea-4307-e6d5-2bf3e836cb48"
      },
      "execution_count": 4,
      "outputs": [
        {
          "output_type": "stream",
          "name": "stdout",
          "text": [
            "3.141592653589793\n"
          ]
        }
      ]
    },
    {
      "cell_type": "code",
      "source": [
        "print(\"Diâmetro interno:\",d_i)\n",
        "print(\"Diâmetro externo:\",d_e)\n",
        "print(\"Comprimento h:\",h)"
      ],
      "metadata": {
        "colab": {
          "base_uri": "https://localhost:8080/"
        },
        "id": "qW_z-3fQqnar",
        "outputId": "e025c617-f83d-434b-e59e-947632f2c752"
      },
      "execution_count": 5,
      "outputs": [
        {
          "output_type": "stream",
          "name": "stdout",
          "text": [
            "Diâmetro interno: 5.000+/-0.030\n",
            "Diâmetro externo: 8.300+/-0.030\n",
            "Comprimento h: 46.100+/-0.030\n"
          ]
        }
      ]
    },
    {
      "cell_type": "code",
      "source": [
        "#Funções\n",
        "def erroRelativo(medida):\n",
        "  erroRelativo = (erro_paq/medida)\n",
        "  print(f\"{erroRelativo*100}%\")\n",
        "\n",
        "def raio(diametro):\n",
        "  raio = (diametro)/2\n",
        "  #sigma_r = erro_paq/2\n",
        "  return(raio)\n",
        "  #print(f\"{raio}\",\"mm\")\n",
        "  #print(f\"{raio}\",f\"{sigma_r}\")\n",
        "\n",
        "def raior(diametro):\n",
        "  raio = diametro/2\n",
        "  sigma_r = erro_paq/2\n",
        "  print(f\"{raio}\",\"mm\")\n",
        "  print(f\"{raio}\",\"+/-\",f\"{sigma_r}\")\n",
        "\n",
        "def sigma_ab(valor):\n",
        "  sigma_ab=2*p_i*((valor)/2)*erro_paq/2\n",
        "  return(sigma_ab)\n",
        "\n",
        "\n",
        "\n",
        "\n"
      ],
      "metadata": {
        "id": "1HzYNYM7azb4"
      },
      "execution_count": 6,
      "outputs": []
    },
    {
      "cell_type": "markdown",
      "source": [
        "# Cálculo do Erro Relativo\n"
      ],
      "metadata": {
        "id": "HkCmvYR67MG4"
      }
    },
    {
      "cell_type": "code",
      "source": [
        "erroRelativo(di)\n",
        "erroRelativo(de)\n",
        "erroRelativo(l)"
      ],
      "metadata": {
        "colab": {
          "base_uri": "https://localhost:8080/"
        },
        "id": "0M0u3iHdwTbc",
        "outputId": "45afab15-eaba-495e-cc20-03f8df58f311"
      },
      "execution_count": 7,
      "outputs": [
        {
          "output_type": "stream",
          "name": "stdout",
          "text": [
            "0.6%\n",
            "0.36144578313253006%\n",
            "0.0650759219088937%\n"
          ]
        }
      ]
    },
    {
      "cell_type": "markdown",
      "source": [
        "#Cálculo dos Raios"
      ],
      "metadata": {
        "id": "rKAmJWh37RYt"
      }
    },
    {
      "cell_type": "code",
      "source": [
        "raio(d_i)\n",
        "raior(di)"
      ],
      "metadata": {
        "colab": {
          "base_uri": "https://localhost:8080/"
        },
        "id": "BOlDXIoUwif6",
        "outputId": "680a54e4-47b6-41d2-a992-b136df0b998b"
      },
      "execution_count": 8,
      "outputs": [
        {
          "output_type": "stream",
          "name": "stdout",
          "text": [
            "2.5 mm\n",
            "2.5 +/- 0.015\n"
          ]
        }
      ]
    },
    {
      "cell_type": "code",
      "source": [
        "r_i = d_i/2\n",
        "r_e = d_e/2"
      ],
      "metadata": {
        "id": "za9vGee8yAGF"
      },
      "execution_count": 9,
      "outputs": []
    },
    {
      "cell_type": "code",
      "source": [
        "print(\"Raio interno:\",r_i,\"(mm)\")\n",
        "print(\"Raio externo:\",r_e,\"(mm)\")"
      ],
      "metadata": {
        "colab": {
          "base_uri": "https://localhost:8080/"
        },
        "id": "7GpHisX6x7Cn",
        "outputId": "34249b04-3c0f-4a0f-e7da-0651cea9d780"
      },
      "execution_count": 10,
      "outputs": [
        {
          "output_type": "stream",
          "name": "stdout",
          "text": [
            "Raio interno: 2.500+/-0.015 (mm)\n",
            "Raio externo: 4.150+/-0.015 (mm)\n"
          ]
        }
      ]
    },
    {
      "cell_type": "markdown",
      "source": [
        "#Área da base"
      ],
      "metadata": {
        "id": "pXgG7gtP7XgS"
      }
    },
    {
      "cell_type": "code",
      "source": [
        "#Área da base interna\n",
        "A_bi=p_i*(r_i*r_i)\n",
        "A_bi\n"
      ],
      "metadata": {
        "colab": {
          "base_uri": "https://localhost:8080/"
        },
        "id": "KMcodX7kyaNA",
        "outputId": "ca77d005-77c4-4eca-f71a-cdcddd294dc9"
      },
      "execution_count": 11,
      "outputs": [
        {
          "output_type": "execute_result",
          "data": {
            "text/plain": [
              "19.625+/-0.23550000000000001"
            ]
          },
          "metadata": {},
          "execution_count": 11
        }
      ]
    },
    {
      "cell_type": "code",
      "source": [
        "sigma_abi=2*p_i*((di)/2)*erro_paq/2\n",
        "sigma_abi"
      ],
      "metadata": {
        "colab": {
          "base_uri": "https://localhost:8080/"
        },
        "id": "s3QMPWqx14YN",
        "outputId": "d78d9129-5215-4fa2-9a88-c954e52dfd3a"
      },
      "execution_count": 12,
      "outputs": [
        {
          "output_type": "execute_result",
          "data": {
            "text/plain": [
              "0.23550000000000001"
            ]
          },
          "metadata": {},
          "execution_count": 12
        }
      ]
    },
    {
      "cell_type": "code",
      "source": [
        "#Área da base externa\n",
        "A_be=p_i*(r_e*r_e)\n",
        "\n",
        "A_be"
      ],
      "metadata": {
        "colab": {
          "base_uri": "https://localhost:8080/"
        },
        "id": "pAVzR5jr0FlM",
        "outputId": "7bc71740-f2b3-4716-d596-7038b15d1cf1"
      },
      "execution_count": 13,
      "outputs": [
        {
          "output_type": "execute_result",
          "data": {
            "text/plain": [
              "54.07865000000001+/-0.39093000000000006"
            ]
          },
          "metadata": {},
          "execution_count": 13
        }
      ]
    },
    {
      "cell_type": "code",
      "source": [
        "sigma_abe=2*p_i*((de)/2)*erro_paq/2\n",
        "sigma_abe"
      ],
      "metadata": {
        "colab": {
          "base_uri": "https://localhost:8080/"
        },
        "id": "D2K_f6SY19R3",
        "outputId": "fa1a99e9-b937-4ac7-86fc-86ecbe9fb1bd"
      },
      "execution_count": 14,
      "outputs": [
        {
          "output_type": "execute_result",
          "data": {
            "text/plain": [
              "0.39093000000000006"
            ]
          },
          "metadata": {},
          "execution_count": 14
        }
      ]
    },
    {
      "cell_type": "code",
      "source": [
        "#Área da base efetiva do cilindro\n",
        "A_b= (A_be-A_bi)\n",
        "A_b"
      ],
      "metadata": {
        "colab": {
          "base_uri": "https://localhost:8080/"
        },
        "id": "0RHKg8_j0gNp",
        "outputId": "2b3a6ade-0614-4387-8e99-3f831761d12c"
      },
      "execution_count": 15,
      "outputs": [
        {
          "output_type": "execute_result",
          "data": {
            "text/plain": [
              "34.45365000000001+/-0.45638417468181347"
            ]
          },
          "metadata": {},
          "execution_count": 15
        }
      ]
    },
    {
      "cell_type": "code",
      "source": [
        "sigma_abef=np.sqrt((sigma_abi*sigma_abi)+(sigma_abe*sigma_abe))\n",
        "sigma_abef"
      ],
      "metadata": {
        "colab": {
          "base_uri": "https://localhost:8080/"
        },
        "id": "QDflWTVq2R9p",
        "outputId": "268110ae-b676-4ddd-c68b-993b5b9cf4e2"
      },
      "execution_count": 16,
      "outputs": [
        {
          "output_type": "execute_result",
          "data": {
            "text/plain": [
              "0.45638417468181347"
            ]
          },
          "metadata": {},
          "execution_count": 16
        }
      ]
    },
    {
      "cell_type": "code",
      "source": [
        "print ('Área da base interna: {:.1u}'.format(A_bi),\"(mm²)\")\n",
        "print ('Área da base externa: {:.1u}'.format(A_be),\"(mm²)\")\n",
        "print ('Área da base efetiva: {:.1u}'.format(A_b),\"(mm²)\")"
      ],
      "metadata": {
        "colab": {
          "base_uri": "https://localhost:8080/"
        },
        "id": "XOJXK6r7zsBL",
        "outputId": "5109c326-7ce9-45b7-9529-a75c8dda5f66"
      },
      "execution_count": 17,
      "outputs": [
        {
          "output_type": "stream",
          "name": "stdout",
          "text": [
            "Área da base interna: 19.6+/-0.2 (mm²)\n",
            "Área da base externa: 54.1+/-0.4 (mm²)\n",
            "Área da base efetiva: 34.5+/-0.5 (mm²)\n"
          ]
        }
      ]
    },
    {
      "cell_type": "markdown",
      "source": [
        "#Área lateral"
      ],
      "metadata": {
        "id": "y082Idvy7cdy"
      }
    },
    {
      "cell_type": "code",
      "source": [
        "#Área lateral interna do Cilindro\n",
        "A_li=2*p_i*r_i*h\n",
        "A_li"
      ],
      "metadata": {
        "colab": {
          "base_uri": "https://localhost:8080/"
        },
        "id": "y49Rcc173mvL",
        "outputId": "874929fe-3193-4655-91f2-22c0924b4226"
      },
      "execution_count": 18,
      "outputs": [
        {
          "output_type": "execute_result",
          "data": {
            "text/plain": [
              "723.7700000000001+/-4.368087620961833"
            ]
          },
          "metadata": {},
          "execution_count": 18
        }
      ]
    },
    {
      "cell_type": "code",
      "source": [
        "sigma_ali=2*p_i*np.sqrt((l*l*erro_paq/2*erro_paq/2)+(di/2*di/2*erro_paq*erro_paq))\n",
        "sigma_ali"
      ],
      "metadata": {
        "colab": {
          "base_uri": "https://localhost:8080/"
        },
        "id": "S2PJLP3N5H6w",
        "outputId": "39c6715a-f553-4d18-8a45-1e31e3fca1f0"
      },
      "execution_count": 19,
      "outputs": [
        {
          "output_type": "execute_result",
          "data": {
            "text/plain": [
              "4.368087620961832"
            ]
          },
          "metadata": {},
          "execution_count": 19
        }
      ]
    },
    {
      "cell_type": "code",
      "source": [
        "#Área lateral externa do Cilindro\n",
        "A_le=2*p_i*r_e*h\n",
        "A_le"
      ],
      "metadata": {
        "colab": {
          "base_uri": "https://localhost:8080/"
        },
        "id": "x5nvafF05_CK",
        "outputId": "23b5646f-948a-443a-e593-31c70b4fac03"
      },
      "execution_count": 20,
      "outputs": [
        {
          "output_type": "execute_result",
          "data": {
            "text/plain": [
              "1201.4582000000003+/-4.412443033513294"
            ]
          },
          "metadata": {},
          "execution_count": 20
        }
      ]
    },
    {
      "cell_type": "code",
      "source": [
        "sigma_ale=2*p_i*np.sqrt((l*l*erro_paq/2*erro_paq/2)+(de/2*de/2*erro_paq*erro_paq))\n",
        "sigma_ale"
      ],
      "metadata": {
        "colab": {
          "base_uri": "https://localhost:8080/"
        },
        "id": "TuSz9s7W6E25",
        "outputId": "1e8b06ec-7d8a-4cd9-edce-723604896568"
      },
      "execution_count": 21,
      "outputs": [
        {
          "output_type": "execute_result",
          "data": {
            "text/plain": [
              "4.412443033513294"
            ]
          },
          "metadata": {},
          "execution_count": 21
        }
      ]
    },
    {
      "cell_type": "code",
      "source": [
        "A_l = A_le-A_li\n",
        "A_l"
      ],
      "metadata": {
        "colab": {
          "base_uri": "https://localhost:8080/"
        },
        "id": "HdjWDROq6K0w",
        "outputId": "f16e71e8-904d-46d9-b67b-a5e086668114"
      },
      "execution_count": 22,
      "outputs": [
        {
          "output_type": "execute_result",
          "data": {
            "text/plain": [
              "477.68820000000017+/-6.1492544969614"
            ]
          },
          "metadata": {},
          "execution_count": 22
        }
      ]
    },
    {
      "cell_type": "code",
      "source": [
        "sigma_al=np.sqrt((sigma_ali*sigma_ali)+(sigma_ale*sigma_ale))"
      ],
      "metadata": {
        "id": "oD1yfx2b6Pru"
      },
      "execution_count": 23,
      "outputs": []
    },
    {
      "cell_type": "code",
      "source": [
        "print ('Área lateral interna: {:.1u}'.format(A_li),\"(mm²)\")\n",
        "print ('Área lateral externa: {:.1u}'.format(A_le),\"(mm²)\")\n",
        "print ('Área lateral efetiva: {:.1u}'.format(A_l),\"(mm²)\")"
      ],
      "metadata": {
        "colab": {
          "base_uri": "https://localhost:8080/"
        },
        "outputId": "648df8b1-8889-4527-dcd5-1c7539988641",
        "id": "3ejXYsq26dcB"
      },
      "execution_count": 24,
      "outputs": [
        {
          "output_type": "stream",
          "name": "stdout",
          "text": [
            "Área lateral interna: 724+/-4 (mm²)\n",
            "Área lateral externa: 1201+/-4 (mm²)\n",
            "Área lateral efetiva: 478+/-6 (mm²)\n"
          ]
        }
      ]
    },
    {
      "cell_type": "markdown",
      "source": [
        "#Área total"
      ],
      "metadata": {
        "id": "bTgKSDMe7grb"
      }
    },
    {
      "cell_type": "code",
      "source": [
        "#Área total interna\n",
        "A_ti=(2*A_bi+A_li)\n",
        "A_ti"
      ],
      "metadata": {
        "colab": {
          "base_uri": "https://localhost:8080/"
        },
        "id": "aafaP8Fy7lNP",
        "outputId": "e0590a41-81eb-4138-de89-9da294ab46b7"
      },
      "execution_count": 25,
      "outputs": [
        {
          "output_type": "execute_result",
          "data": {
            "text/plain": [
              "763.0200000000001+/-4.836608161139375"
            ]
          },
          "metadata": {},
          "execution_count": 25
        }
      ]
    },
    {
      "cell_type": "code",
      "source": [
        "sigma_ati=np.sqrt((4*sigma_abi*sigma_abi)+(sigma_ali*sigma_ali))\n",
        "sigma_ati"
      ],
      "metadata": {
        "colab": {
          "base_uri": "https://localhost:8080/"
        },
        "id": "0FYDoBnK9zsT",
        "outputId": "1e126b26-c148-4fca-b7e1-4d9f5c2cd538"
      },
      "execution_count": 26,
      "outputs": [
        {
          "output_type": "execute_result",
          "data": {
            "text/plain": [
              "4.393407614187421"
            ]
          },
          "metadata": {},
          "execution_count": 26
        }
      ]
    },
    {
      "cell_type": "code",
      "source": [
        "#Área total externa\n",
        "A_te=(2*A_be+A_le)\n",
        "A_te"
      ],
      "metadata": {
        "colab": {
          "base_uri": "https://localhost:8080/"
        },
        "id": "OOQZ_xsD-Jif",
        "outputId": "cda6ec6c-d249-49c3-ea33-b3f87be0e257"
      },
      "execution_count": 27,
      "outputs": [
        {
          "output_type": "execute_result",
          "data": {
            "text/plain": [
              "1309.6155000000003+/-5.183782434670654"
            ]
          },
          "metadata": {},
          "execution_count": 27
        }
      ]
    },
    {
      "cell_type": "code",
      "source": [
        "sigma_ate=np.sqrt((4*sigma_abe*sigma_abe)+(sigma_ale*sigma_ale))\n",
        "sigma_ate"
      ],
      "metadata": {
        "colab": {
          "base_uri": "https://localhost:8080/"
        },
        "id": "weznyh3s-Q09",
        "outputId": "7097ef88-ecb0-4592-c476-df8b81324dc0"
      },
      "execution_count": 28,
      "outputs": [
        {
          "output_type": "execute_result",
          "data": {
            "text/plain": [
              "4.481178258404814"
            ]
          },
          "metadata": {},
          "execution_count": 28
        }
      ]
    },
    {
      "cell_type": "code",
      "source": [
        "#Área total\n",
        "A_t=(A_te-A_ti)\n",
        "A_t"
      ],
      "metadata": {
        "colab": {
          "base_uri": "https://localhost:8080/"
        },
        "id": "hmoaDr6I-Yn4",
        "outputId": "30a5ab04-7577-470a-e8a8-82da5711eb45"
      },
      "execution_count": 29,
      "outputs": [
        {
          "output_type": "execute_result",
          "data": {
            "text/plain": [
              "546.5955000000002+/-7.037603762247489"
            ]
          },
          "metadata": {},
          "execution_count": 29
        }
      ]
    },
    {
      "cell_type": "code",
      "source": [
        "sigma_at=np.sqrt((sigma_ate*sigma_ate)+(sigma_ati*sigma_ati))\n",
        "sigma_at"
      ],
      "metadata": {
        "colab": {
          "base_uri": "https://localhost:8080/"
        },
        "id": "c0cwcSzN-ksR",
        "outputId": "d99eeb68-2e31-4684-9111-009728eab6ea"
      },
      "execution_count": 30,
      "outputs": [
        {
          "output_type": "execute_result",
          "data": {
            "text/plain": [
              "6.2755867493008175"
            ]
          },
          "metadata": {},
          "execution_count": 30
        }
      ]
    },
    {
      "cell_type": "code",
      "source": [
        "print ('Área total interna: {:.1u}'.format(A_ti),\"(mm²)\")\n",
        "print ('Área total externa: {:.1u}'.format(A_te),\"(mm²)\")\n",
        "print ('Área total efetiva: {:.1u}'.format(A_t),\"(mm²)\")"
      ],
      "metadata": {
        "colab": {
          "base_uri": "https://localhost:8080/"
        },
        "id": "u7pzoESn_Jxa",
        "outputId": "530a71ed-494d-4d8e-c51b-c9a043109101"
      },
      "execution_count": 31,
      "outputs": [
        {
          "output_type": "stream",
          "name": "stdout",
          "text": [
            "Área total interna: 763+/-5 (mm²)\n",
            "Área total externa: 1310+/-5 (mm²)\n",
            "Área total efetiva: 547+/-7 (mm²)\n"
          ]
        }
      ]
    },
    {
      "cell_type": "markdown",
      "source": [
        "#Volume do cilindro"
      ],
      "metadata": {
        "id": "Lyf-MH7U_mEt"
      }
    },
    {
      "cell_type": "code",
      "source": [
        "#Volume interno\n",
        "V_i = A_bi*h\n",
        "V_i"
      ],
      "metadata": {
        "colab": {
          "base_uri": "https://localhost:8080/"
        },
        "id": "hl3b6rp__oZH",
        "outputId": "55c0f546-3906-42df-97fb-60135e9a8f0d"
      },
      "execution_count": 32,
      "outputs": [
        {
          "output_type": "execute_result",
          "data": {
            "text/plain": [
              "904.7125+/-10.872502217291105"
            ]
          },
          "metadata": {},
          "execution_count": 32
        }
      ]
    },
    {
      "cell_type": "code",
      "source": [
        "V_in=p_i*(r_i*r_i)*h\n",
        "V_in"
      ],
      "metadata": {
        "colab": {
          "base_uri": "https://localhost:8080/"
        },
        "id": "eEjEIqPzAhMm",
        "outputId": "7f24e29f-0986-44d4-eb0d-e252c33ec0cd"
      },
      "execution_count": 33,
      "outputs": [
        {
          "output_type": "execute_result",
          "data": {
            "text/plain": [
              "904.7125+/-10.872502217291105"
            ]
          },
          "metadata": {},
          "execution_count": 33
        }
      ]
    },
    {
      "cell_type": "code",
      "source": [
        "V_e=A_be*h\n",
        "V_e"
      ],
      "metadata": {
        "colab": {
          "base_uri": "https://localhost:8080/"
        },
        "id": "lo0OnfLZ_20R",
        "outputId": "046db834-cf06-448b-b8cf-d02923f8d910"
      },
      "execution_count": 34,
      "outputs": [
        {
          "output_type": "execute_result",
          "data": {
            "text/plain": [
              "2493.025765000001+/-18.094749425603258"
            ]
          },
          "metadata": {},
          "execution_count": 34
        }
      ]
    },
    {
      "cell_type": "code",
      "source": [
        "#Volume efetivo\n",
        "V_efe=V_e-V_i"
      ],
      "metadata": {
        "id": "KcGweTLX_7Ql"
      },
      "execution_count": 35,
      "outputs": []
    },
    {
      "cell_type": "code",
      "source": [
        "print ('Volume interno: {:.1u}'.format(V_i),\"(mm³)\")\n",
        "print ('Volume externo: {:.1u}'.format(V_e),\"(mm³)\")\n",
        "print ('Volume total efetiva: {:.1u}'.format(V_efe),\"(mm³)\")"
      ],
      "metadata": {
        "colab": {
          "base_uri": "https://localhost:8080/"
        },
        "id": "9PJlwlxlAEiF",
        "outputId": "31a9e01b-3239-46e4-88f7-7616c5a9a8d4"
      },
      "execution_count": 36,
      "outputs": [
        {
          "output_type": "stream",
          "name": "stdout",
          "text": [
            "Volume interno: (9.0+/-0.1)e+02 (mm³)\n",
            "Volume externo: (2.49+/-0.02)e+03 (mm³)\n",
            "Volume total efetiva: (1.59+/-0.02)e+03 (mm³)\n"
          ]
        }
      ]
    }
  ]
}