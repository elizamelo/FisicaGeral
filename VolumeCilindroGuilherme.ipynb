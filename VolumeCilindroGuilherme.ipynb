{
  "nbformat": 4,
  "nbformat_minor": 0,
  "metadata": {
    "colab": {
      "provenance": [],
      "authorship_tag": "ABX9TyNgfFDEuEGhZnL5PwJnVhwR",
      "include_colab_link": true
    },
    "kernelspec": {
      "name": "python3",
      "display_name": "Python 3"
    },
    "language_info": {
      "name": "python"
    }
  },
  "cells": [
    {
      "cell_type": "markdown",
      "metadata": {
        "id": "view-in-github",
        "colab_type": "text"
      },
      "source": [
        "<a href=\"https://colab.research.google.com/github/elizamelo/FisicaGeral/blob/main/VolumeCilindroGuilherme.ipynb\" target=\"_parent\"><img src=\"https://colab.research.google.com/assets/colab-badge.svg\" alt=\"Open In Colab\"/></a>"
      ]
    },
    {
      "cell_type": "code",
      "metadata": {
        "id": "mfA9UnENhdhm",
        "colab": {
          "base_uri": "https://localhost:8080/"
        },
        "outputId": "2b3153d1-4189-40c9-9f92-3f89bfc76fd8"
      },
      "source": [
        "#first we need to tell python to get and download the package.\n",
        "#we do this with the command \"!pip install [package name]\"\n",
        "!pip install uncertainties"
      ],
      "execution_count": 1,
      "outputs": [
        {
          "output_type": "stream",
          "name": "stdout",
          "text": [
            "Collecting uncertainties\n",
            "  Downloading uncertainties-3.1.7-py2.py3-none-any.whl (98 kB)\n",
            "\u001b[?25l     \u001b[90m━━━━━━━━━━━━━━━━━━━━━━━━━━━━━━━━━━━━━━━━\u001b[0m \u001b[32m0.0/98.4 kB\u001b[0m \u001b[31m?\u001b[0m eta \u001b[36m-:--:--\u001b[0m\r\u001b[2K     \u001b[90m━━━━━━━━━━━━━━━━━━━━━━━━━━━━━━━━━━━━━━━━\u001b[0m \u001b[32m98.4/98.4 kB\u001b[0m \u001b[31m4.1 MB/s\u001b[0m eta \u001b[36m0:00:00\u001b[0m\n",
            "\u001b[?25hRequirement already satisfied: future in /usr/local/lib/python3.10/dist-packages (from uncertainties) (0.18.3)\n",
            "Installing collected packages: uncertainties\n",
            "Successfully installed uncertainties-3.1.7\n"
          ]
        }
      ]
    },
    {
      "cell_type": "code",
      "source": [
        "#now we load the package(s) we'll use from uncertainties\n",
        "from uncertainties import ufloat\n",
        "import uncertainties.umath as um\n",
        "\n",
        "#uncertainties.umath will do the mathematial calculations for this lab since it knows how to handle the ufloat data type.\n",
        "#you can still import numpy if you wish to use it for other operations (such as deg2rad), but it will not be necessary."
      ],
      "metadata": {
        "id": "FWoqzLlIpVTP"
      },
      "execution_count": 2,
      "outputs": []
    },
    {
      "cell_type": "code",
      "source": [
        "import numpy as np\n",
        "import pandas as pd\n",
        "import matplotlib as mpl\n",
        "import matplotlib.pyplot as plt\n",
        "import statistics\n",
        "from scipy import stats\n",
        "import math"
      ],
      "metadata": {
        "id": "-7068ixLyqk4"
      },
      "execution_count": 3,
      "outputs": []
    },
    {
      "cell_type": "code",
      "source": [
        "d_i = ufloat(5.05,0.03)\n",
        "d_e = ufloat(6.45,0.03)\n",
        "h = ufloat(40.15,0.03)\n",
        "erro_paq = 0.03\n",
        "di=5.05\n",
        "de=6.45\n",
        "l=40.15\n",
        "p_i = 3.14\n",
        "print(math.pi)"
      ],
      "metadata": {
        "colab": {
          "base_uri": "https://localhost:8080/"
        },
        "id": "JrE4LT4spetR",
        "outputId": "1f2c30c1-ad93-4032-def3-53cf5805563b"
      },
      "execution_count": 4,
      "outputs": [
        {
          "output_type": "stream",
          "name": "stdout",
          "text": [
            "3.141592653589793\n"
          ]
        }
      ]
    },
    {
      "cell_type": "code",
      "source": [
        "print(\"Diâmetro interno:\",d_i)\n",
        "print(\"Diâmetro externo:\",d_e)\n",
        "print(\"Comprimento h:\",h)"
      ],
      "metadata": {
        "colab": {
          "base_uri": "https://localhost:8080/"
        },
        "id": "qW_z-3fQqnar",
        "outputId": "a853be70-2881-425c-bd2c-e9979f7a220d"
      },
      "execution_count": 5,
      "outputs": [
        {
          "output_type": "stream",
          "name": "stdout",
          "text": [
            "Diâmetro interno: 5.050+/-0.030\n",
            "Diâmetro externo: 6.450+/-0.030\n",
            "Comprimento h: 40.150+/-0.030\n"
          ]
        }
      ]
    },
    {
      "cell_type": "code",
      "source": [
        "#Funções\n",
        "def erroRelativo(medida):\n",
        "  erroRelativo = (erro_paq/medida)\n",
        "  print(f\"{erroRelativo*100}%\")\n",
        "\n",
        "def raio(diametro):\n",
        "  raio = (diametro)/2\n",
        "  #sigma_r = erro_paq/2\n",
        "  return(raio)\n",
        "  #print(f\"{raio}\",\"mm\")\n",
        "  #print(f\"{raio}\",f\"{sigma_r}\")\n",
        "\n",
        "def raior(diametro):\n",
        "  raio = diametro/2\n",
        "  sigma_r = erro_paq/2\n",
        "  print(f\"{raio}\",\"mm\")\n",
        "  print(f\"{raio}\",\"+/-\",f\"{sigma_r}\")\n",
        "\n",
        "def sigma_ab(valor):\n",
        "  sigma_ab=2*p_i*((valor)/2)*erro_paq/2\n",
        "  return(sigma_ab)\n",
        "\n",
        "\n",
        "\n",
        "\n"
      ],
      "metadata": {
        "id": "1HzYNYM7azb4"
      },
      "execution_count": 6,
      "outputs": []
    },
    {
      "cell_type": "markdown",
      "source": [
        "# Cálculo do Erro Relativo\n"
      ],
      "metadata": {
        "id": "HkCmvYR67MG4"
      }
    },
    {
      "cell_type": "code",
      "source": [
        "erroRelativo(di)\n",
        "erroRelativo(de)\n",
        "erroRelativo(l)"
      ],
      "metadata": {
        "colab": {
          "base_uri": "https://localhost:8080/"
        },
        "id": "0M0u3iHdwTbc",
        "outputId": "f09d6f45-47f8-47ea-8fbb-261d4a288445"
      },
      "execution_count": 7,
      "outputs": [
        {
          "output_type": "stream",
          "name": "stdout",
          "text": [
            "0.594059405940594%\n",
            "0.46511627906976744%\n",
            "0.07471980074719801%\n"
          ]
        }
      ]
    },
    {
      "cell_type": "markdown",
      "source": [
        "#Cálculo dos Raios"
      ],
      "metadata": {
        "id": "rKAmJWh37RYt"
      }
    },
    {
      "cell_type": "code",
      "source": [
        "raio(d_i)\n",
        "raior(di)"
      ],
      "metadata": {
        "colab": {
          "base_uri": "https://localhost:8080/"
        },
        "id": "BOlDXIoUwif6",
        "outputId": "b962d5a4-3103-4979-e8d7-685aa7f5fc19"
      },
      "execution_count": 8,
      "outputs": [
        {
          "output_type": "stream",
          "name": "stdout",
          "text": [
            "2.525 mm\n",
            "2.525 +/- 0.015\n"
          ]
        }
      ]
    },
    {
      "cell_type": "code",
      "source": [
        "r_i = d_i/2\n",
        "r_e = d_e/2"
      ],
      "metadata": {
        "id": "za9vGee8yAGF"
      },
      "execution_count": 9,
      "outputs": []
    },
    {
      "cell_type": "code",
      "source": [
        "print(\"Raio interno:\",r_i,\"(mm)\")\n",
        "print(\"Raio externo:\",r_e,\"(mm)\")"
      ],
      "metadata": {
        "colab": {
          "base_uri": "https://localhost:8080/"
        },
        "id": "7GpHisX6x7Cn",
        "outputId": "c07a1c98-3744-4a5d-8718-563b74d5a7d4"
      },
      "execution_count": 10,
      "outputs": [
        {
          "output_type": "stream",
          "name": "stdout",
          "text": [
            "Raio interno: 2.525+/-0.015 (mm)\n",
            "Raio externo: 3.225+/-0.015 (mm)\n"
          ]
        }
      ]
    },
    {
      "cell_type": "markdown",
      "source": [
        "#Área da base"
      ],
      "metadata": {
        "id": "pXgG7gtP7XgS"
      }
    },
    {
      "cell_type": "code",
      "source": [
        "#Área da base interna\n",
        "A_bi=p_i*(r_i*r_i)\n",
        "A_bi\n"
      ],
      "metadata": {
        "colab": {
          "base_uri": "https://localhost:8080/"
        },
        "id": "KMcodX7kyaNA",
        "outputId": "f4e07115-2646-4e81-aca2-4dc1909b5151"
      },
      "execution_count": 11,
      "outputs": [
        {
          "output_type": "execute_result",
          "data": {
            "text/plain": [
              "20.0194625+/-0.23785499999999998"
            ]
          },
          "metadata": {},
          "execution_count": 11
        }
      ]
    },
    {
      "cell_type": "code",
      "source": [
        "sigma_abi=2*p_i*((di)/2)*erro_paq/2\n",
        "sigma_abi"
      ],
      "metadata": {
        "colab": {
          "base_uri": "https://localhost:8080/"
        },
        "id": "s3QMPWqx14YN",
        "outputId": "060ede06-4dc3-47f1-a5dd-bb035f395275"
      },
      "execution_count": 12,
      "outputs": [
        {
          "output_type": "execute_result",
          "data": {
            "text/plain": [
              "0.23785499999999998"
            ]
          },
          "metadata": {},
          "execution_count": 12
        }
      ]
    },
    {
      "cell_type": "code",
      "source": [
        "#Área da base externa\n",
        "A_be=p_i*(r_e*r_e)\n",
        "\n",
        "A_be"
      ],
      "metadata": {
        "colab": {
          "base_uri": "https://localhost:8080/"
        },
        "id": "pAVzR5jr0FlM",
        "outputId": "91265614-1a45-4514-c18c-c37cab9705e2"
      },
      "execution_count": 13,
      "outputs": [
        {
          "output_type": "execute_result",
          "data": {
            "text/plain": [
              "32.657962500000004+/-0.303795"
            ]
          },
          "metadata": {},
          "execution_count": 13
        }
      ]
    },
    {
      "cell_type": "code",
      "source": [
        "sigma_abe=2*p_i*((de)/2)*erro_paq/2\n",
        "sigma_abe"
      ],
      "metadata": {
        "colab": {
          "base_uri": "https://localhost:8080/"
        },
        "id": "D2K_f6SY19R3",
        "outputId": "600022c8-bef0-4c46-814d-d1224bd060d8"
      },
      "execution_count": 14,
      "outputs": [
        {
          "output_type": "execute_result",
          "data": {
            "text/plain": [
              "0.303795"
            ]
          },
          "metadata": {},
          "execution_count": 14
        }
      ]
    },
    {
      "cell_type": "code",
      "source": [
        "#Área da base efetiva do cilindro\n",
        "A_b= (A_be-A_bi)\n",
        "A_b"
      ],
      "metadata": {
        "colab": {
          "base_uri": "https://localhost:8080/"
        },
        "id": "0RHKg8_j0gNp",
        "outputId": "4c6ce156-de53-4383-804d-c588d0560993"
      },
      "execution_count": 15,
      "outputs": [
        {
          "output_type": "execute_result",
          "data": {
            "text/plain": [
              "12.638500000000004+/-0.38583209178345956"
            ]
          },
          "metadata": {},
          "execution_count": 15
        }
      ]
    },
    {
      "cell_type": "code",
      "source": [
        "sigma_abef=np.sqrt((sigma_abi*sigma_abi)+(sigma_abe*sigma_abe))\n",
        "sigma_abef"
      ],
      "metadata": {
        "colab": {
          "base_uri": "https://localhost:8080/"
        },
        "id": "QDflWTVq2R9p",
        "outputId": "be2c754e-bf13-4d30-a8d1-4c1d1b02e325"
      },
      "execution_count": 16,
      "outputs": [
        {
          "output_type": "execute_result",
          "data": {
            "text/plain": [
              "0.38583209178345956"
            ]
          },
          "metadata": {},
          "execution_count": 16
        }
      ]
    },
    {
      "cell_type": "code",
      "source": [
        "print ('Área da base interna: {:.1u}'.format(A_bi),\"(mm²)\")\n",
        "print ('Área da base externa: {:.1u}'.format(A_be),\"(mm²)\")\n",
        "print ('Área da base efetiva: {:.1u}'.format(A_b),\"(mm²)\")"
      ],
      "metadata": {
        "colab": {
          "base_uri": "https://localhost:8080/"
        },
        "id": "XOJXK6r7zsBL",
        "outputId": "2f4e3f36-3f93-4160-d96a-3606495ff156"
      },
      "execution_count": 17,
      "outputs": [
        {
          "output_type": "stream",
          "name": "stdout",
          "text": [
            "Área da base interna: 20.0+/-0.2 (mm²)\n",
            "Área da base externa: 32.7+/-0.3 (mm²)\n",
            "Área da base efetiva: 12.6+/-0.4 (mm²)\n"
          ]
        }
      ]
    },
    {
      "cell_type": "markdown",
      "source": [
        "#Área lateral"
      ],
      "metadata": {
        "id": "y082Idvy7cdy"
      }
    },
    {
      "cell_type": "code",
      "source": [
        "#Área lateral interna do Cilindro\n",
        "A_li=2*p_i*r_i*h\n",
        "A_li"
      ],
      "metadata": {
        "colab": {
          "base_uri": "https://localhost:8080/"
        },
        "id": "y49Rcc173mvL",
        "outputId": "61e7abf0-d3c4-4841-a9b3-71f2003c482b"
      },
      "execution_count": 18,
      "outputs": [
        {
          "output_type": "execute_result",
          "data": {
            "text/plain": [
              "636.65855+/-3.8119296086103165"
            ]
          },
          "metadata": {},
          "execution_count": 18
        }
      ]
    },
    {
      "cell_type": "code",
      "source": [
        "sigma_ali=2*p_i*np.sqrt((l*l*erro_paq/2*erro_paq/2)+(di/2*di/2*erro_paq*erro_paq))\n",
        "sigma_ali"
      ],
      "metadata": {
        "colab": {
          "base_uri": "https://localhost:8080/"
        },
        "id": "S2PJLP3N5H6w",
        "outputId": "dfe81827-5bd4-4c39-fea8-82c7370f3a00"
      },
      "execution_count": 19,
      "outputs": [
        {
          "output_type": "execute_result",
          "data": {
            "text/plain": [
              "3.811929608610316"
            ]
          },
          "metadata": {},
          "execution_count": 19
        }
      ]
    },
    {
      "cell_type": "code",
      "source": [
        "#Área lateral externa do Cilindro\n",
        "A_le=2*p_i*r_e*h\n",
        "A_le"
      ],
      "metadata": {
        "colab": {
          "base_uri": "https://localhost:8080/"
        },
        "id": "x5nvafF05_CK",
        "outputId": "8aaee60d-fc1a-4426-d537-ef13415807d4"
      },
      "execution_count": 20,
      "outputs": [
        {
          "output_type": "execute_result",
          "data": {
            "text/plain": [
              "813.15795+/-3.8306230491918676"
            ]
          },
          "metadata": {},
          "execution_count": 20
        }
      ]
    },
    {
      "cell_type": "code",
      "source": [
        "sigma_ale=2*p_i*np.sqrt((l*l*erro_paq/2*erro_paq/2)+(de/2*de/2*erro_paq*erro_paq))\n",
        "sigma_ale"
      ],
      "metadata": {
        "colab": {
          "base_uri": "https://localhost:8080/"
        },
        "id": "TuSz9s7W6E25",
        "outputId": "efba9b1a-0908-408c-f17b-fc96b6b93c54"
      },
      "execution_count": 21,
      "outputs": [
        {
          "output_type": "execute_result",
          "data": {
            "text/plain": [
              "3.8306230491918676"
            ]
          },
          "metadata": {},
          "execution_count": 21
        }
      ]
    },
    {
      "cell_type": "code",
      "source": [
        "A_l = A_le-A_li\n",
        "A_l"
      ],
      "metadata": {
        "colab": {
          "base_uri": "https://localhost:8080/"
        },
        "id": "HdjWDROq6K0w",
        "outputId": "e35fcacf-48ec-4180-844f-47d6e7caf1b3"
      },
      "execution_count": 22,
      "outputs": [
        {
          "output_type": "execute_result",
          "data": {
            "text/plain": [
              "176.49940000000004+/-5.350365128493569"
            ]
          },
          "metadata": {},
          "execution_count": 22
        }
      ]
    },
    {
      "cell_type": "code",
      "source": [
        "sigma_al=np.sqrt((sigma_ali*sigma_ali)+(sigma_ale*sigma_ale))"
      ],
      "metadata": {
        "id": "oD1yfx2b6Pru"
      },
      "execution_count": 23,
      "outputs": []
    },
    {
      "cell_type": "code",
      "source": [
        "print ('Área lateral interna: {:.1u}'.format(A_li),\"(mm²)\")\n",
        "print ('Área lateral externa: {:.1u}'.format(A_le),\"(mm²)\")\n",
        "print ('Área lateral efetiva: {:.1u}'.format(A_l),\"(mm²)\")"
      ],
      "metadata": {
        "colab": {
          "base_uri": "https://localhost:8080/"
        },
        "outputId": "fc55d5ac-0d85-4a5e-c3ce-e38efb0bb1af",
        "id": "3ejXYsq26dcB"
      },
      "execution_count": 24,
      "outputs": [
        {
          "output_type": "stream",
          "name": "stdout",
          "text": [
            "Área lateral interna: 637+/-4 (mm²)\n",
            "Área lateral externa: 813+/-4 (mm²)\n",
            "Área lateral efetiva: 176+/-5 (mm²)\n"
          ]
        }
      ]
    },
    {
      "cell_type": "markdown",
      "source": [
        "#Área total"
      ],
      "metadata": {
        "id": "bTgKSDMe7grb"
      }
    },
    {
      "cell_type": "code",
      "source": [
        "#Área total interna\n",
        "A_ti=(2*A_bi+A_li)\n",
        "A_ti"
      ],
      "metadata": {
        "colab": {
          "base_uri": "https://localhost:8080/"
        },
        "id": "aafaP8Fy7lNP",
        "outputId": "919e8ad5-a719-4398-ec37-2a213d63fc27"
      },
      "execution_count": 25,
      "outputs": [
        {
          "output_type": "execute_result",
          "data": {
            "text/plain": [
              "676.6974749999999+/-4.284332091435023"
            ]
          },
          "metadata": {},
          "execution_count": 25
        }
      ]
    },
    {
      "cell_type": "code",
      "source": [
        "sigma_ati=np.sqrt((4*sigma_abi*sigma_abi)+(sigma_ali*sigma_ali))\n",
        "sigma_ati"
      ],
      "metadata": {
        "colab": {
          "base_uri": "https://localhost:8080/"
        },
        "id": "0FYDoBnK9zsT",
        "outputId": "ad87195f-645a-40d2-fd14-c0ef6de1cd32"
      },
      "execution_count": 26,
      "outputs": [
        {
          "output_type": "execute_result",
          "data": {
            "text/plain": [
              "3.841498060015129"
            ]
          },
          "metadata": {},
          "execution_count": 26
        }
      ]
    },
    {
      "cell_type": "code",
      "source": [
        "#Área total externa\n",
        "A_te=(2*A_be+A_le)\n",
        "A_te"
      ],
      "metadata": {
        "colab": {
          "base_uri": "https://localhost:8080/"
        },
        "id": "OOQZ_xsD-Jif",
        "outputId": "b1f62842-2623-4aff-8c25-0ece50daa743"
      },
      "execution_count": 27,
      "outputs": [
        {
          "output_type": "execute_result",
          "data": {
            "text/plain": [
              "878.473875+/-4.43156939317213"
            ]
          },
          "metadata": {},
          "execution_count": 27
        }
      ]
    },
    {
      "cell_type": "code",
      "source": [
        "sigma_ate=np.sqrt((4*sigma_abe*sigma_abe)+(sigma_ale*sigma_ale))\n",
        "sigma_ate"
      ],
      "metadata": {
        "colab": {
          "base_uri": "https://localhost:8080/"
        },
        "id": "weznyh3s-Q09",
        "outputId": "6426dcd4-87c5-45df-fd41-b998bf278c56"
      },
      "execution_count": 28,
      "outputs": [
        {
          "output_type": "execute_result",
          "data": {
            "text/plain": [
              "3.8785098366640764"
            ]
          },
          "metadata": {},
          "execution_count": 28
        }
      ]
    },
    {
      "cell_type": "code",
      "source": [
        "#Área total\n",
        "A_t=(A_te-A_ti)\n",
        "A_t"
      ],
      "metadata": {
        "colab": {
          "base_uri": "https://localhost:8080/"
        },
        "id": "hmoaDr6I-Yn4",
        "outputId": "cd73a0dc-03b5-493c-8a0e-d3c64a408d68"
      },
      "execution_count": 29,
      "outputs": [
        {
          "output_type": "execute_result",
          "data": {
            "text/plain": [
              "201.77640000000008+/-6.116881188841254"
            ]
          },
          "metadata": {},
          "execution_count": 29
        }
      ]
    },
    {
      "cell_type": "code",
      "source": [
        "sigma_at=np.sqrt((sigma_ate*sigma_ate)+(sigma_ati*sigma_ati))\n",
        "sigma_at"
      ],
      "metadata": {
        "colab": {
          "base_uri": "https://localhost:8080/"
        },
        "id": "c0cwcSzN-ksR",
        "outputId": "0657bc29-f94c-433f-93d3-0a136da92f3f"
      },
      "execution_count": 30,
      "outputs": [
        {
          "output_type": "execute_result",
          "data": {
            "text/plain": [
              "5.458932670238753"
            ]
          },
          "metadata": {},
          "execution_count": 30
        }
      ]
    },
    {
      "cell_type": "code",
      "source": [
        "print ('Área total interna: {:.1u}'.format(A_ti),\"(mm²)\")\n",
        "print ('Área total externa: {:.1u}'.format(A_te),\"(mm²)\")\n",
        "print ('Área total efetiva: {:.1u}'.format(A_t),\"(mm²)\")"
      ],
      "metadata": {
        "colab": {
          "base_uri": "https://localhost:8080/"
        },
        "id": "u7pzoESn_Jxa",
        "outputId": "a30ae320-badc-41b6-87ea-c1b7f5bee77f"
      },
      "execution_count": 31,
      "outputs": [
        {
          "output_type": "stream",
          "name": "stdout",
          "text": [
            "Área total interna: 677+/-4 (mm²)\n",
            "Área total externa: 878+/-4 (mm²)\n",
            "Área total efetiva: 202+/-6 (mm²)\n"
          ]
        }
      ]
    },
    {
      "cell_type": "markdown",
      "source": [
        "#Volume do cilindro"
      ],
      "metadata": {
        "id": "Lyf-MH7U_mEt"
      }
    },
    {
      "cell_type": "code",
      "source": [
        "#Volume interno\n",
        "V_i = A_bi*h\n",
        "V_i"
      ],
      "metadata": {
        "colab": {
          "base_uri": "https://localhost:8080/"
        },
        "id": "hl3b6rp__oZH",
        "outputId": "c0ec272c-fc02-48bd-de94-9c7be6b4048f"
      },
      "execution_count": 32,
      "outputs": [
        {
          "output_type": "execute_result",
          "data": {
            "text/plain": [
              "803.7814193749999+/-9.568744723354943"
            ]
          },
          "metadata": {},
          "execution_count": 32
        }
      ]
    },
    {
      "cell_type": "code",
      "source": [
        "V_in=p_i*(r_i*r_i)*h\n",
        "V_in"
      ],
      "metadata": {
        "colab": {
          "base_uri": "https://localhost:8080/"
        },
        "id": "eEjEIqPzAhMm",
        "outputId": "7e072e31-d066-4317-86bb-4429b6f2e93c"
      },
      "execution_count": 33,
      "outputs": [
        {
          "output_type": "execute_result",
          "data": {
            "text/plain": [
              "803.7814193749999+/-9.568744723354943"
            ]
          },
          "metadata": {},
          "execution_count": 33
        }
      ]
    },
    {
      "cell_type": "code",
      "source": [
        "V_e=A_be*h\n",
        "V_e"
      ],
      "metadata": {
        "colab": {
          "base_uri": "https://localhost:8080/"
        },
        "id": "lo0OnfLZ_20R",
        "outputId": "4f061b1e-fc9e-4999-91c1-fa3ab1bdd9b9"
      },
      "execution_count": 34,
      "outputs": [
        {
          "output_type": "execute_result",
          "data": {
            "text/plain": [
              "1311.2171943750002+/-12.236654153976561"
            ]
          },
          "metadata": {},
          "execution_count": 34
        }
      ]
    },
    {
      "cell_type": "code",
      "source": [
        "#Volume efetivo\n",
        "V_efe=V_e-V_i"
      ],
      "metadata": {
        "id": "KcGweTLX_7Ql"
      },
      "execution_count": 35,
      "outputs": []
    },
    {
      "cell_type": "code",
      "source": [
        "print ('Volume interno: {:.1u}'.format(V_i),\"(mm³)\")\n",
        "print ('Volume externo: {:.1u}'.format(V_e),\"(mm³)\")\n",
        "print ('Volume total efetiva: {:.1u}'.format(V_efe),\"(mm³)\")"
      ],
      "metadata": {
        "colab": {
          "base_uri": "https://localhost:8080/"
        },
        "id": "9PJlwlxlAEiF",
        "outputId": "2f55ef34-ceac-4e02-e941-a91944007476"
      },
      "execution_count": 36,
      "outputs": [
        {
          "output_type": "stream",
          "name": "stdout",
          "text": [
            "Volume interno: (8.0+/-0.1)e+02 (mm³)\n",
            "Volume externo: (1.31+/-0.01)e+03 (mm³)\n",
            "Volume total efetiva: (5.1+/-0.2)e+02 (mm³)\n"
          ]
        }
      ]
    }
  ]
}