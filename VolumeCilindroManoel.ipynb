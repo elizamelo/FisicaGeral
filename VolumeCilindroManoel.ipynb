{
  "nbformat": 4,
  "nbformat_minor": 0,
  "metadata": {
    "colab": {
      "provenance": [],
      "authorship_tag": "ABX9TyMm86BOcY8PewlkD3IItVDU",
      "include_colab_link": true
    },
    "kernelspec": {
      "name": "python3",
      "display_name": "Python 3"
    },
    "language_info": {
      "name": "python"
    }
  },
  "cells": [
    {
      "cell_type": "markdown",
      "metadata": {
        "id": "view-in-github",
        "colab_type": "text"
      },
      "source": [
        "<a href=\"https://colab.research.google.com/github/elizamelo/FisicaGeral/blob/main/VolumeCilindroManoel.ipynb\" target=\"_parent\"><img src=\"https://colab.research.google.com/assets/colab-badge.svg\" alt=\"Open In Colab\"/></a>"
      ]
    },
    {
      "cell_type": "code",
      "metadata": {
        "id": "mfA9UnENhdhm",
        "colab": {
          "base_uri": "https://localhost:8080/"
        },
        "outputId": "37b7412e-5c0e-4c9a-bc56-43b46e5279a7"
      },
      "source": [
        "#first we need to tell python to get and download the package.\n",
        "#we do this with the command \"!pip install [package name]\"\n",
        "!pip install uncertainties"
      ],
      "execution_count": 109,
      "outputs": [
        {
          "output_type": "stream",
          "name": "stdout",
          "text": [
            "Requirement already satisfied: uncertainties in /usr/local/lib/python3.10/dist-packages (3.1.7)\n",
            "Requirement already satisfied: future in /usr/local/lib/python3.10/dist-packages (from uncertainties) (0.18.3)\n"
          ]
        }
      ]
    },
    {
      "cell_type": "code",
      "source": [
        "#now we load the package(s) we'll use from uncertainties\n",
        "from uncertainties import ufloat\n",
        "import uncertainties.umath as um\n",
        "\n",
        "#uncertainties.umath will do the mathematial calculations for this lab since it knows how to handle the ufloat data type.\n",
        "#you can still import numpy if you wish to use it for other operations (such as deg2rad), but it will not be necessary."
      ],
      "metadata": {
        "id": "FWoqzLlIpVTP"
      },
      "execution_count": 110,
      "outputs": []
    },
    {
      "cell_type": "code",
      "source": [
        "import numpy as np\n",
        "import pandas as pd\n",
        "import matplotlib as mpl\n",
        "import matplotlib.pyplot as plt\n",
        "import statistics\n",
        "from scipy import stats\n",
        "import math"
      ],
      "metadata": {
        "id": "-7068ixLyqk4"
      },
      "execution_count": 111,
      "outputs": []
    },
    {
      "cell_type": "code",
      "source": [
        "d_i = ufloat(5.25,0.03)\n",
        "d_e = ufloat(8.05,0.03)\n",
        "h = ufloat(46.85,0.03)\n",
        "erro_paq = 0.03\n",
        "di=5.25\n",
        "de=8.05\n",
        "l=46.85\n",
        "p_i = 3.14\n",
        "print(math.pi)"
      ],
      "metadata": {
        "colab": {
          "base_uri": "https://localhost:8080/"
        },
        "id": "JrE4LT4spetR",
        "outputId": "c2feada6-ede5-46e0-c2e6-b2c5fa79c50f"
      },
      "execution_count": 112,
      "outputs": [
        {
          "output_type": "stream",
          "name": "stdout",
          "text": [
            "3.141592653589793\n"
          ]
        }
      ]
    },
    {
      "cell_type": "code",
      "source": [
        "print(\"Diâmetro interno:\",d_i)\n",
        "print(\"Diâmetro externo:\",d_e)\n",
        "print(\"Comprimento h:\",h)"
      ],
      "metadata": {
        "colab": {
          "base_uri": "https://localhost:8080/"
        },
        "id": "qW_z-3fQqnar",
        "outputId": "19b00fc0-7d2c-4cb6-8254-501319f81f27"
      },
      "execution_count": 113,
      "outputs": [
        {
          "output_type": "stream",
          "name": "stdout",
          "text": [
            "Diâmetro interno: 5.250+/-0.030\n",
            "Diâmetro externo: 8.050+/-0.030\n",
            "Comprimento h: 46.850+/-0.030\n"
          ]
        }
      ]
    },
    {
      "cell_type": "code",
      "source": [
        "#Funções\n",
        "def erroRelativo(medida):\n",
        "  erroRelativo = (erro_paq/medida)\n",
        "  print(f\"{erroRelativo*100}%\")\n",
        "\n",
        "def raio(diametro):\n",
        "  raio = (diametro)/2\n",
        "  #sigma_r = erro_paq/2\n",
        "  return(raio)\n",
        "  #print(f\"{raio}\",\"mm\")\n",
        "  #print(f\"{raio}\",f\"{sigma_r}\")\n",
        "\n",
        "def raior(diametro):\n",
        "  raio = diametro/2\n",
        "  sigma_r = erro_paq/2\n",
        "  print(f\"{raio}\",\"mm\")\n",
        "  print(f\"{raio}\",\"+/-\",f\"{sigma_r}\")\n",
        "\n",
        "def sigma_ab(valor):\n",
        "  sigma_ab=2*p_i*((valor)/2)*erro_paq/2\n",
        "  return(sigma_ab)\n",
        "\n",
        "\n",
        "\n",
        "\n"
      ],
      "metadata": {
        "id": "1HzYNYM7azb4"
      },
      "execution_count": 114,
      "outputs": []
    },
    {
      "cell_type": "markdown",
      "source": [
        "# Cálculo do Erro Relativo\n"
      ],
      "metadata": {
        "id": "HkCmvYR67MG4"
      }
    },
    {
      "cell_type": "code",
      "source": [
        "erroRelativo(di)\n",
        "erroRelativo(de)\n",
        "erroRelativo(l)"
      ],
      "metadata": {
        "colab": {
          "base_uri": "https://localhost:8080/"
        },
        "id": "0M0u3iHdwTbc",
        "outputId": "d8886608-b332-41b9-f81b-74f8c5621578"
      },
      "execution_count": 115,
      "outputs": [
        {
          "output_type": "stream",
          "name": "stdout",
          "text": [
            "0.5714285714285714%\n",
            "0.3726708074534161%\n",
            "0.064034151547492%\n"
          ]
        }
      ]
    },
    {
      "cell_type": "markdown",
      "source": [
        "#Cálculo dos Raios"
      ],
      "metadata": {
        "id": "rKAmJWh37RYt"
      }
    },
    {
      "cell_type": "code",
      "source": [
        "raio(d_i)\n",
        "raior(di)"
      ],
      "metadata": {
        "colab": {
          "base_uri": "https://localhost:8080/"
        },
        "id": "BOlDXIoUwif6",
        "outputId": "b5c73db4-3152-4efc-ccc9-68f4383c85cc"
      },
      "execution_count": 116,
      "outputs": [
        {
          "output_type": "stream",
          "name": "stdout",
          "text": [
            "2.625 mm\n",
            "2.625 +/- 0.015\n"
          ]
        }
      ]
    },
    {
      "cell_type": "code",
      "source": [
        "r_i = d_i/2\n",
        "r_e = d_e/2"
      ],
      "metadata": {
        "id": "za9vGee8yAGF"
      },
      "execution_count": 117,
      "outputs": []
    },
    {
      "cell_type": "code",
      "source": [
        "print(\"Raio interno:\",r_i,\"(mm)\")\n",
        "print(\"Raio externo:\",r_e,\"(mm)\")"
      ],
      "metadata": {
        "colab": {
          "base_uri": "https://localhost:8080/"
        },
        "id": "7GpHisX6x7Cn",
        "outputId": "f7ce81a4-3f94-48e5-ead5-905777af91b1"
      },
      "execution_count": 118,
      "outputs": [
        {
          "output_type": "stream",
          "name": "stdout",
          "text": [
            "Raio interno: 2.625+/-0.015 (mm)\n",
            "Raio externo: 4.025+/-0.015 (mm)\n"
          ]
        }
      ]
    },
    {
      "cell_type": "markdown",
      "source": [
        "#Área da base"
      ],
      "metadata": {
        "id": "pXgG7gtP7XgS"
      }
    },
    {
      "cell_type": "code",
      "source": [
        "#Área da base interna\n",
        "A_bi=p_i*(r_i*r_i)\n",
        "A_bi\n"
      ],
      "metadata": {
        "colab": {
          "base_uri": "https://localhost:8080/"
        },
        "id": "KMcodX7kyaNA",
        "outputId": "1ea5dd6b-15e9-4f39-f5d1-aba639bdac2c"
      },
      "execution_count": 119,
      "outputs": [
        {
          "output_type": "execute_result",
          "data": {
            "text/plain": [
              "21.6365625+/-0.247275"
            ]
          },
          "metadata": {},
          "execution_count": 119
        }
      ]
    },
    {
      "cell_type": "code",
      "source": [
        "sigma_abi=2*p_i*((di)/2)*erro_paq/2\n",
        "sigma_abi"
      ],
      "metadata": {
        "colab": {
          "base_uri": "https://localhost:8080/"
        },
        "id": "s3QMPWqx14YN",
        "outputId": "71ab357c-e109-4449-eb0f-d2eb9057c913"
      },
      "execution_count": 120,
      "outputs": [
        {
          "output_type": "execute_result",
          "data": {
            "text/plain": [
              "0.247275"
            ]
          },
          "metadata": {},
          "execution_count": 120
        }
      ]
    },
    {
      "cell_type": "code",
      "source": [
        "#Área da base externa\n",
        "A_be=p_i*(r_e*r_e)\n",
        "\n",
        "A_be"
      ],
      "metadata": {
        "colab": {
          "base_uri": "https://localhost:8080/"
        },
        "id": "pAVzR5jr0FlM",
        "outputId": "182e0b3f-d990-47d3-f7a4-9b154581c744"
      },
      "execution_count": 121,
      "outputs": [
        {
          "output_type": "execute_result",
          "data": {
            "text/plain": [
              "50.86996250000001+/-0.3791550000000001"
            ]
          },
          "metadata": {},
          "execution_count": 121
        }
      ]
    },
    {
      "cell_type": "code",
      "source": [
        "sigma_abe=2*p_i*((de)/2)*erro_paq/2\n",
        "sigma_abe"
      ],
      "metadata": {
        "colab": {
          "base_uri": "https://localhost:8080/"
        },
        "id": "D2K_f6SY19R3",
        "outputId": "57e74704-6627-4bff-bc12-160c21a01327"
      },
      "execution_count": 122,
      "outputs": [
        {
          "output_type": "execute_result",
          "data": {
            "text/plain": [
              "0.3791550000000001"
            ]
          },
          "metadata": {},
          "execution_count": 122
        }
      ]
    },
    {
      "cell_type": "code",
      "source": [
        "#Área da base efetiva do cilindro\n",
        "A_b= (A_be-A_bi)\n",
        "A_b"
      ],
      "metadata": {
        "colab": {
          "base_uri": "https://localhost:8080/"
        },
        "id": "0RHKg8_j0gNp",
        "outputId": "2a2298ec-855c-4b3b-bb61-454b0f9e78f9"
      },
      "execution_count": 123,
      "outputs": [
        {
          "output_type": "execute_result",
          "data": {
            "text/plain": [
              "29.233400000000007+/-0.4526626112790851"
            ]
          },
          "metadata": {},
          "execution_count": 123
        }
      ]
    },
    {
      "cell_type": "code",
      "source": [
        "sigma_abef=np.sqrt((sigma_abi*sigma_abi)+(sigma_abe*sigma_abe))\n",
        "sigma_abef"
      ],
      "metadata": {
        "colab": {
          "base_uri": "https://localhost:8080/"
        },
        "id": "QDflWTVq2R9p",
        "outputId": "34958a80-2aca-4eaa-9fa8-21fcb43f8f11"
      },
      "execution_count": 124,
      "outputs": [
        {
          "output_type": "execute_result",
          "data": {
            "text/plain": [
              "0.4526626112790851"
            ]
          },
          "metadata": {},
          "execution_count": 124
        }
      ]
    },
    {
      "cell_type": "code",
      "source": [
        "print ('Área da base interna: {:.1u}'.format(A_bi),\"(mm²)\")\n",
        "print ('Área da base externa: {:.1u}'.format(A_be),\"(mm²)\")\n",
        "print ('Área da base efetiva: {:.1u}'.format(A_b),\"(mm²)\")"
      ],
      "metadata": {
        "colab": {
          "base_uri": "https://localhost:8080/"
        },
        "id": "XOJXK6r7zsBL",
        "outputId": "21d2e175-e7e3-4a1d-991e-a2a935384de1"
      },
      "execution_count": 125,
      "outputs": [
        {
          "output_type": "stream",
          "name": "stdout",
          "text": [
            "Área da base interna: 21.6+/-0.2 (mm²)\n",
            "Área da base externa: 50.9+/-0.4 (mm²)\n",
            "Área da base efetiva: 29.2+/-0.5 (mm²)\n"
          ]
        }
      ]
    },
    {
      "cell_type": "markdown",
      "source": [
        "#Área lateral"
      ],
      "metadata": {
        "id": "y082Idvy7cdy"
      }
    },
    {
      "cell_type": "code",
      "source": [
        "#Área lateral interna do Cilindro\n",
        "A_li=2*p_i*r_i*h\n",
        "A_li"
      ],
      "metadata": {
        "colab": {
          "base_uri": "https://localhost:8080/"
        },
        "id": "y49Rcc173mvL",
        "outputId": "1889da6e-44c0-4c48-861c-fc48c5a88677"
      },
      "execution_count": 126,
      "outputs": [
        {
          "output_type": "execute_result",
          "data": {
            "text/plain": [
              "772.3222499999999+/-4.440893130373664"
            ]
          },
          "metadata": {},
          "execution_count": 126
        }
      ]
    },
    {
      "cell_type": "code",
      "source": [
        "sigma_ali=2*p_i*np.sqrt((l*l*erro_paq/2*erro_paq/2)+(di/2*di/2*erro_paq*erro_paq))\n",
        "sigma_ali"
      ],
      "metadata": {
        "colab": {
          "base_uri": "https://localhost:8080/"
        },
        "id": "S2PJLP3N5H6w",
        "outputId": "1860a22e-4fc0-4ca1-db43-14a553023caa"
      },
      "execution_count": 127,
      "outputs": [
        {
          "output_type": "execute_result",
          "data": {
            "text/plain": [
              "4.440893130373664"
            ]
          },
          "metadata": {},
          "execution_count": 127
        }
      ]
    },
    {
      "cell_type": "code",
      "source": [
        "#Área lateral externa do Cilindro\n",
        "A_le=2*p_i*r_e*h\n",
        "A_le"
      ],
      "metadata": {
        "colab": {
          "base_uri": "https://localhost:8080/"
        },
        "id": "x5nvafF05_CK",
        "outputId": "df91ca77-b59e-4a02-969c-f0dfcfb468be"
      },
      "execution_count": 128,
      "outputs": [
        {
          "output_type": "execute_result",
          "data": {
            "text/plain": [
              "1184.2274500000003+/-4.477944411110974"
            ]
          },
          "metadata": {},
          "execution_count": 128
        }
      ]
    },
    {
      "cell_type": "code",
      "source": [
        "sigma_ale=2*p_i*np.sqrt((l*l*erro_paq/2*erro_paq/2)+(de/2*de/2*erro_paq*erro_paq))\n",
        "sigma_ale"
      ],
      "metadata": {
        "colab": {
          "base_uri": "https://localhost:8080/"
        },
        "id": "TuSz9s7W6E25",
        "outputId": "f2e205d0-128f-4908-c23d-a485ee37d34e"
      },
      "execution_count": 129,
      "outputs": [
        {
          "output_type": "execute_result",
          "data": {
            "text/plain": [
              "4.477944411110973"
            ]
          },
          "metadata": {},
          "execution_count": 129
        }
      ]
    },
    {
      "cell_type": "code",
      "source": [
        "A_l = A_le-A_li\n",
        "A_l"
      ],
      "metadata": {
        "colab": {
          "base_uri": "https://localhost:8080/"
        },
        "id": "HdjWDROq6K0w",
        "outputId": "fe151572-cfa5-4f08-e430-7501b8ee3704"
      },
      "execution_count": 130,
      "outputs": [
        {
          "output_type": "execute_result",
          "data": {
            "text/plain": [
              "411.9052000000004+/-6.2468771016724824"
            ]
          },
          "metadata": {},
          "execution_count": 130
        }
      ]
    },
    {
      "cell_type": "code",
      "source": [
        "sigma_al=np.sqrt((sigma_ali*sigma_ali)+(sigma_ale*sigma_ale))"
      ],
      "metadata": {
        "id": "oD1yfx2b6Pru"
      },
      "execution_count": 131,
      "outputs": []
    },
    {
      "cell_type": "code",
      "source": [
        "print ('Área lateral interna: {:.1u}'.format(A_li),\"(mm²)\")\n",
        "print ('Área lateral externa: {:.1u}'.format(A_le),\"(mm²)\")\n",
        "print ('Área lateral efetiva: {:.1u}'.format(A_l),\"(mm²)\")"
      ],
      "metadata": {
        "colab": {
          "base_uri": "https://localhost:8080/"
        },
        "outputId": "22999a6c-6478-41b2-931d-ad8621fbe66c",
        "id": "3ejXYsq26dcB"
      },
      "execution_count": 132,
      "outputs": [
        {
          "output_type": "stream",
          "name": "stdout",
          "text": [
            "Área lateral interna: 772+/-4 (mm²)\n",
            "Área lateral externa: 1184+/-4 (mm²)\n",
            "Área lateral efetiva: 412+/-6 (mm²)\n"
          ]
        }
      ]
    },
    {
      "cell_type": "markdown",
      "source": [
        "#Área total"
      ],
      "metadata": {
        "id": "bTgKSDMe7grb"
      }
    },
    {
      "cell_type": "code",
      "source": [
        "#Área total interna\n",
        "A_ti=(2*A_bi+A_li)\n",
        "A_ti"
      ],
      "metadata": {
        "colab": {
          "base_uri": "https://localhost:8080/"
        },
        "id": "aafaP8Fy7lNP",
        "outputId": "f0b96b4a-cd69-4374-bf95-a50bf9c08069"
      },
      "execution_count": 133,
      "outputs": [
        {
          "output_type": "execute_result",
          "data": {
            "text/plain": [
              "815.595375+/-4.932674412010183"
            ]
          },
          "metadata": {},
          "execution_count": 133
        }
      ]
    },
    {
      "cell_type": "code",
      "source": [
        "sigma_ati=np.sqrt((4*sigma_abi*sigma_abi)+(sigma_ali*sigma_ali))\n",
        "sigma_ati"
      ],
      "metadata": {
        "colab": {
          "base_uri": "https://localhost:8080/"
        },
        "id": "0FYDoBnK9zsT",
        "outputId": "22ee88a5-cd95-4809-9fdf-41e1fdbc6d9a"
      },
      "execution_count": 134,
      "outputs": [
        {
          "output_type": "execute_result",
          "data": {
            "text/plain": [
              "4.4683454989402955"
            ]
          },
          "metadata": {},
          "execution_count": 134
        }
      ]
    },
    {
      "cell_type": "code",
      "source": [
        "#Área total externa\n",
        "A_te=(2*A_be+A_le)\n",
        "A_te"
      ],
      "metadata": {
        "colab": {
          "base_uri": "https://localhost:8080/"
        },
        "id": "OOQZ_xsD-Jif",
        "outputId": "721c7015-e907-4cc3-d06d-3c53e546888e"
      },
      "execution_count": 135,
      "outputs": [
        {
          "output_type": "execute_result",
          "data": {
            "text/plain": [
              "1285.9673750000004+/-5.226879925203946"
            ]
          },
          "metadata": {},
          "execution_count": 135
        }
      ]
    },
    {
      "cell_type": "code",
      "source": [
        "sigma_ate=np.sqrt((4*sigma_abe*sigma_abe)+(sigma_ale*sigma_ale))\n",
        "sigma_ate"
      ],
      "metadata": {
        "colab": {
          "base_uri": "https://localhost:8080/"
        },
        "id": "weznyh3s-Q09",
        "outputId": "69b87ee1-9782-420d-f1d1-164e44dd863c"
      },
      "execution_count": 136,
      "outputs": [
        {
          "output_type": "execute_result",
          "data": {
            "text/plain": [
              "4.54169794296142"
            ]
          },
          "metadata": {},
          "execution_count": 136
        }
      ]
    },
    {
      "cell_type": "code",
      "source": [
        "#Área total\n",
        "A_t=(A_te-A_ti)\n",
        "A_t"
      ],
      "metadata": {
        "colab": {
          "base_uri": "https://localhost:8080/"
        },
        "id": "hmoaDr6I-Yn4",
        "outputId": "91723cc5-d725-4f77-98f8-d121333f1444"
      },
      "execution_count": 137,
      "outputs": [
        {
          "output_type": "execute_result",
          "data": {
            "text/plain": [
              "470.3720000000004+/-7.134529149593546"
            ]
          },
          "metadata": {},
          "execution_count": 137
        }
      ]
    },
    {
      "cell_type": "code",
      "source": [
        "sigma_at=np.sqrt((sigma_ate*sigma_ate)+(sigma_ati*sigma_ati))\n",
        "sigma_at"
      ],
      "metadata": {
        "colab": {
          "base_uri": "https://localhost:8080/"
        },
        "id": "c0cwcSzN-ksR",
        "outputId": "900b650a-b857-484e-8021-3cee6a8022cc"
      },
      "execution_count": 138,
      "outputs": [
        {
          "output_type": "execute_result",
          "data": {
            "text/plain": [
              "6.371273946629512"
            ]
          },
          "metadata": {},
          "execution_count": 138
        }
      ]
    },
    {
      "cell_type": "code",
      "source": [
        "print ('Área total interna: {:.1u}'.format(A_ti),\"(mm²)\")\n",
        "print ('Área total externa: {:.1u}'.format(A_te),\"(mm²)\")\n",
        "print ('Área total efetiva: {:.1u}'.format(A_t),\"(mm²)\")"
      ],
      "metadata": {
        "colab": {
          "base_uri": "https://localhost:8080/"
        },
        "id": "u7pzoESn_Jxa",
        "outputId": "6e84f798-da2f-43e7-a567-3e26cdef64db"
      },
      "execution_count": 139,
      "outputs": [
        {
          "output_type": "stream",
          "name": "stdout",
          "text": [
            "Área total interna: 816+/-5 (mm²)\n",
            "Área total externa: 1286+/-5 (mm²)\n",
            "Área total efetiva: 470+/-7 (mm²)\n"
          ]
        }
      ]
    },
    {
      "cell_type": "markdown",
      "source": [
        "#Volume do cilindro"
      ],
      "metadata": {
        "id": "Lyf-MH7U_mEt"
      }
    },
    {
      "cell_type": "code",
      "source": [
        "#Volume interno\n",
        "V_i = A_bi*h\n",
        "V_i"
      ],
      "metadata": {
        "colab": {
          "base_uri": "https://localhost:8080/"
        },
        "id": "hl3b6rp__oZH",
        "outputId": "42b2adee-81a3-4d1a-e590-c156f69278de"
      },
      "execution_count": 140,
      "outputs": [
        {
          "output_type": "execute_result",
          "data": {
            "text/plain": [
              "1013.672953125+/-11.603003911413362"
            ]
          },
          "metadata": {},
          "execution_count": 140
        }
      ]
    },
    {
      "cell_type": "code",
      "source": [
        "V_in=p_i*(r_i*r_i)*h\n",
        "V_in"
      ],
      "metadata": {
        "colab": {
          "base_uri": "https://localhost:8080/"
        },
        "id": "eEjEIqPzAhMm",
        "outputId": "45a3bff7-0ac5-4287-8aab-1fcb6d1afda3"
      },
      "execution_count": 141,
      "outputs": [
        {
          "output_type": "execute_result",
          "data": {
            "text/plain": [
              "1013.672953125+/-11.603003911413364"
            ]
          },
          "metadata": {},
          "execution_count": 141
        }
      ]
    },
    {
      "cell_type": "code",
      "source": [
        "V_e=A_be*h\n",
        "V_e"
      ],
      "metadata": {
        "colab": {
          "base_uri": "https://localhost:8080/"
        },
        "id": "lo0OnfLZ_20R",
        "outputId": "231b5a56-e8fa-42a9-cd1a-072ca62e4e5b"
      },
      "execution_count": 142,
      "outputs": [
        {
          "output_type": "execute_result",
          "data": {
            "text/plain": [
              "2383.2577431250006+/-17.8288467034835"
            ]
          },
          "metadata": {},
          "execution_count": 142
        }
      ]
    },
    {
      "cell_type": "code",
      "source": [
        "#Volume efetivo\n",
        "V_efe=V_e-V_i"
      ],
      "metadata": {
        "id": "KcGweTLX_7Ql"
      },
      "execution_count": 143,
      "outputs": []
    },
    {
      "cell_type": "code",
      "source": [
        "print ('Volume interno: {:.1u}'.format(V_i),\"(mm³)\")\n",
        "print ('Volume externo: {:.1u}'.format(V_e),\"(mm³)\")\n",
        "print ('Volume total efetiva: {:.1u}'.format(V_efe),\"(mm³)\")"
      ],
      "metadata": {
        "colab": {
          "base_uri": "https://localhost:8080/"
        },
        "id": "9PJlwlxlAEiF",
        "outputId": "c9d94737-079e-4a20-e736-7ee157ab2806"
      },
      "execution_count": 144,
      "outputs": [
        {
          "output_type": "stream",
          "name": "stdout",
          "text": [
            "Volume interno: (1.01+/-0.01)e+03 (mm³)\n",
            "Volume externo: (2.38+/-0.02)e+03 (mm³)\n",
            "Volume total efetiva: (1.37+/-0.02)e+03 (mm³)\n"
          ]
        }
      ]
    }
  ]
}