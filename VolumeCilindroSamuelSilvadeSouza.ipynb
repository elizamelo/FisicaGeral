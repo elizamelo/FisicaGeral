{
  "nbformat": 4,
  "nbformat_minor": 0,
  "metadata": {
    "colab": {
      "provenance": [],
      "authorship_tag": "ABX9TyOOttMyOCg9v89jQ3TapGLY",
      "include_colab_link": true
    },
    "kernelspec": {
      "name": "python3",
      "display_name": "Python 3"
    },
    "language_info": {
      "name": "python"
    }
  },
  "cells": [
    {
      "cell_type": "markdown",
      "metadata": {
        "id": "view-in-github",
        "colab_type": "text"
      },
      "source": [
        "<a href=\"https://colab.research.google.com/github/elizamelo/FisicaGeral/blob/main/VolumeCilindroSamuelSilvadeSouza.ipynb\" target=\"_parent\"><img src=\"https://colab.research.google.com/assets/colab-badge.svg\" alt=\"Open In Colab\"/></a>"
      ]
    },
    {
      "cell_type": "code",
      "metadata": {
        "id": "mfA9UnENhdhm",
        "colab": {
          "base_uri": "https://localhost:8080/"
        },
        "outputId": "2257fa35-3e29-4f5b-ca5c-ed6ed4994943"
      },
      "source": [
        "#first we need to tell python to get and download the package.\n",
        "#we do this with the command \"!pip install [package name]\"\n",
        "!pip install uncertainties"
      ],
      "execution_count": 37,
      "outputs": [
        {
          "output_type": "stream",
          "name": "stdout",
          "text": [
            "Requirement already satisfied: uncertainties in /usr/local/lib/python3.10/dist-packages (3.1.7)\n",
            "Requirement already satisfied: future in /usr/local/lib/python3.10/dist-packages (from uncertainties) (0.18.3)\n"
          ]
        }
      ]
    },
    {
      "cell_type": "code",
      "source": [
        "#now we load the package(s) we'll use from uncertainties\n",
        "from uncertainties import ufloat\n",
        "import uncertainties.umath as um\n",
        "\n",
        "#uncertainties.umath will do the mathematial calculations for this lab since it knows how to handle the ufloat data type.\n",
        "#you can still import numpy if you wish to use it for other operations (such as deg2rad), but it will not be necessary."
      ],
      "metadata": {
        "id": "FWoqzLlIpVTP"
      },
      "execution_count": 38,
      "outputs": []
    },
    {
      "cell_type": "code",
      "source": [
        "import numpy as np\n",
        "import pandas as pd\n",
        "import matplotlib as mpl\n",
        "import matplotlib.pyplot as plt\n",
        "import statistics\n",
        "from scipy import stats\n",
        "import math"
      ],
      "metadata": {
        "id": "-7068ixLyqk4"
      },
      "execution_count": 39,
      "outputs": []
    },
    {
      "cell_type": "code",
      "source": [
        "d_i = ufloat(5.00,0.03)\n",
        "d_e = ufloat(8.30,0.03)\n",
        "h = ufloat(4.60,0.03)\n",
        "erro_paq = 0.03\n",
        "di=5.00\n",
        "de=8.30\n",
        "l=4.60\n",
        "p_i = 3.14\n",
        "print(math.pi)"
      ],
      "metadata": {
        "colab": {
          "base_uri": "https://localhost:8080/"
        },
        "id": "JrE4LT4spetR",
        "outputId": "7d9d727c-f362-4462-f5a0-8723ba827ac9"
      },
      "execution_count": 40,
      "outputs": [
        {
          "output_type": "stream",
          "name": "stdout",
          "text": [
            "3.141592653589793\n"
          ]
        }
      ]
    },
    {
      "cell_type": "code",
      "source": [
        "print(\"Diâmetro interno:\",d_i)\n",
        "print(\"Diâmetro externo:\",d_e)\n",
        "print(\"Comprimento h:\",h)"
      ],
      "metadata": {
        "colab": {
          "base_uri": "https://localhost:8080/"
        },
        "id": "qW_z-3fQqnar",
        "outputId": "591ab951-9c3b-4008-97f7-007316174c63"
      },
      "execution_count": 41,
      "outputs": [
        {
          "output_type": "stream",
          "name": "stdout",
          "text": [
            "Diâmetro interno: 5.000+/-0.030\n",
            "Diâmetro externo: 8.300+/-0.030\n",
            "Comprimento h: 4.600+/-0.030\n"
          ]
        }
      ]
    },
    {
      "cell_type": "code",
      "source": [
        "#Funções\n",
        "def erroRelativo(medida):\n",
        "  erroRelativo = (erro_paq/medida)\n",
        "  print(f\"{erroRelativo*100}%\")\n",
        "\n",
        "def raio(diametro):\n",
        "  raio = (diametro)/2\n",
        "  #sigma_r = erro_paq/2\n",
        "  return(raio)\n",
        "  #print(f\"{raio}\",\"mm\")\n",
        "  #print(f\"{raio}\",f\"{sigma_r}\")\n",
        "\n",
        "def raior(diametro):\n",
        "  raio = diametro/2\n",
        "  sigma_r = erro_paq/2\n",
        "  print(f\"{raio}\",\"mm\")\n",
        "  print(f\"{raio}\",\"+/-\",f\"{sigma_r}\")\n",
        "\n",
        "def sigma_ab(valor):\n",
        "  sigma_ab=2*p_i*((valor)/2)*erro_paq/2\n",
        "  return(sigma_ab)\n",
        "\n",
        "\n",
        "\n",
        "\n"
      ],
      "metadata": {
        "id": "1HzYNYM7azb4"
      },
      "execution_count": 42,
      "outputs": []
    },
    {
      "cell_type": "markdown",
      "source": [
        "# Cálculo do Erro Relativo\n"
      ],
      "metadata": {
        "id": "HkCmvYR67MG4"
      }
    },
    {
      "cell_type": "code",
      "source": [
        "erroRelativo(di)\n",
        "erroRelativo(de)\n",
        "erroRelativo(l)"
      ],
      "metadata": {
        "colab": {
          "base_uri": "https://localhost:8080/"
        },
        "id": "0M0u3iHdwTbc",
        "outputId": "7be80c75-13a4-4cf0-bdd3-6564b476c2c3"
      },
      "execution_count": 43,
      "outputs": [
        {
          "output_type": "stream",
          "name": "stdout",
          "text": [
            "0.6%\n",
            "0.36144578313253006%\n",
            "0.6521739130434783%\n"
          ]
        }
      ]
    },
    {
      "cell_type": "markdown",
      "source": [
        "#Cálculo dos Raios"
      ],
      "metadata": {
        "id": "rKAmJWh37RYt"
      }
    },
    {
      "cell_type": "code",
      "source": [
        "raio(d_i)\n",
        "raior(di)"
      ],
      "metadata": {
        "colab": {
          "base_uri": "https://localhost:8080/"
        },
        "id": "BOlDXIoUwif6",
        "outputId": "3b9ac7b0-6fb6-4443-9a15-79194c360504"
      },
      "execution_count": 44,
      "outputs": [
        {
          "output_type": "stream",
          "name": "stdout",
          "text": [
            "2.5 mm\n",
            "2.5 +/- 0.015\n"
          ]
        }
      ]
    },
    {
      "cell_type": "code",
      "source": [
        "r_i = d_i/2\n",
        "r_e = d_e/2"
      ],
      "metadata": {
        "id": "za9vGee8yAGF"
      },
      "execution_count": 45,
      "outputs": []
    },
    {
      "cell_type": "code",
      "source": [
        "print(\"Raio interno:\",r_i,\"(mm)\")\n",
        "print(\"Raio externo:\",r_e,\"(mm)\")"
      ],
      "metadata": {
        "colab": {
          "base_uri": "https://localhost:8080/"
        },
        "id": "7GpHisX6x7Cn",
        "outputId": "95e7193a-b72b-4922-9125-f398f4e3ce49"
      },
      "execution_count": 46,
      "outputs": [
        {
          "output_type": "stream",
          "name": "stdout",
          "text": [
            "Raio interno: 2.500+/-0.015 (mm)\n",
            "Raio externo: 4.150+/-0.015 (mm)\n"
          ]
        }
      ]
    },
    {
      "cell_type": "markdown",
      "source": [
        "#Área da base"
      ],
      "metadata": {
        "id": "pXgG7gtP7XgS"
      }
    },
    {
      "cell_type": "code",
      "source": [
        "#Área da base interna\n",
        "A_bi=p_i*(r_i*r_i)\n",
        "A_bi\n"
      ],
      "metadata": {
        "colab": {
          "base_uri": "https://localhost:8080/"
        },
        "id": "KMcodX7kyaNA",
        "outputId": "59669453-688b-433a-fd10-ccd82e614529"
      },
      "execution_count": 47,
      "outputs": [
        {
          "output_type": "execute_result",
          "data": {
            "text/plain": [
              "19.625+/-0.23550000000000001"
            ]
          },
          "metadata": {},
          "execution_count": 47
        }
      ]
    },
    {
      "cell_type": "code",
      "source": [
        "sigma_abi=2*p_i*((di)/2)*erro_paq/2\n",
        "sigma_abi"
      ],
      "metadata": {
        "colab": {
          "base_uri": "https://localhost:8080/"
        },
        "id": "s3QMPWqx14YN",
        "outputId": "9744fd88-126f-41bf-a905-178008c16c8a"
      },
      "execution_count": 48,
      "outputs": [
        {
          "output_type": "execute_result",
          "data": {
            "text/plain": [
              "0.23550000000000001"
            ]
          },
          "metadata": {},
          "execution_count": 48
        }
      ]
    },
    {
      "cell_type": "code",
      "source": [
        "#Área da base externa\n",
        "A_be=p_i*(r_e*r_e)\n",
        "\n",
        "A_be"
      ],
      "metadata": {
        "colab": {
          "base_uri": "https://localhost:8080/"
        },
        "id": "pAVzR5jr0FlM",
        "outputId": "87f24776-9dd3-4104-94f6-59e1d6979c5c"
      },
      "execution_count": 49,
      "outputs": [
        {
          "output_type": "execute_result",
          "data": {
            "text/plain": [
              "54.07865000000001+/-0.39093000000000006"
            ]
          },
          "metadata": {},
          "execution_count": 49
        }
      ]
    },
    {
      "cell_type": "code",
      "source": [
        "sigma_abe=2*p_i*((de)/2)*erro_paq/2\n",
        "sigma_abe"
      ],
      "metadata": {
        "colab": {
          "base_uri": "https://localhost:8080/"
        },
        "id": "D2K_f6SY19R3",
        "outputId": "f7348f77-8cb0-4d2b-ca4b-d148d14e8da2"
      },
      "execution_count": 50,
      "outputs": [
        {
          "output_type": "execute_result",
          "data": {
            "text/plain": [
              "0.39093000000000006"
            ]
          },
          "metadata": {},
          "execution_count": 50
        }
      ]
    },
    {
      "cell_type": "code",
      "source": [
        "#Área da base efetiva do cilindro\n",
        "A_b= (A_be-A_bi)\n",
        "A_b"
      ],
      "metadata": {
        "colab": {
          "base_uri": "https://localhost:8080/"
        },
        "id": "0RHKg8_j0gNp",
        "outputId": "95a1a362-e8c3-47e3-f869-61acbc14d87e"
      },
      "execution_count": 51,
      "outputs": [
        {
          "output_type": "execute_result",
          "data": {
            "text/plain": [
              "34.45365000000001+/-0.45638417468181347"
            ]
          },
          "metadata": {},
          "execution_count": 51
        }
      ]
    },
    {
      "cell_type": "code",
      "source": [
        "sigma_abef=np.sqrt((sigma_abi*sigma_abi)+(sigma_abe*sigma_abe))\n",
        "sigma_abef"
      ],
      "metadata": {
        "colab": {
          "base_uri": "https://localhost:8080/"
        },
        "id": "QDflWTVq2R9p",
        "outputId": "6facee13-fc8f-418d-e389-22d3ac926079"
      },
      "execution_count": 52,
      "outputs": [
        {
          "output_type": "execute_result",
          "data": {
            "text/plain": [
              "0.45638417468181347"
            ]
          },
          "metadata": {},
          "execution_count": 52
        }
      ]
    },
    {
      "cell_type": "code",
      "source": [
        "print ('Área da base interna: {:.1u}'.format(A_bi),\"(mm²)\")\n",
        "print ('Área da base externa: {:.1u}'.format(A_be),\"(mm²)\")\n",
        "print ('Área da base efetiva: {:.1u}'.format(A_b),\"(mm²)\")"
      ],
      "metadata": {
        "colab": {
          "base_uri": "https://localhost:8080/"
        },
        "id": "XOJXK6r7zsBL",
        "outputId": "9366e99c-8d9e-481b-a317-e1705cff5f80"
      },
      "execution_count": 53,
      "outputs": [
        {
          "output_type": "stream",
          "name": "stdout",
          "text": [
            "Área da base interna: 19.6+/-0.2 (mm²)\n",
            "Área da base externa: 54.1+/-0.4 (mm²)\n",
            "Área da base efetiva: 34.5+/-0.5 (mm²)\n"
          ]
        }
      ]
    },
    {
      "cell_type": "markdown",
      "source": [
        "#Área lateral"
      ],
      "metadata": {
        "id": "y082Idvy7cdy"
      }
    },
    {
      "cell_type": "code",
      "source": [
        "#Área lateral interna do Cilindro\n",
        "A_li=2*p_i*r_i*h\n",
        "A_li"
      ],
      "metadata": {
        "colab": {
          "base_uri": "https://localhost:8080/"
        },
        "id": "y49Rcc173mvL",
        "outputId": "6c4007ed-09f9-45a9-b43c-f2061c3cc687"
      },
      "execution_count": 54,
      "outputs": [
        {
          "output_type": "execute_result",
          "data": {
            "text/plain": [
              "72.22+/-0.6400056424751269"
            ]
          },
          "metadata": {},
          "execution_count": 54
        }
      ]
    },
    {
      "cell_type": "code",
      "source": [
        "sigma_ali=2*p_i*np.sqrt((l*l*erro_paq/2*erro_paq/2)+(di/2*di/2*erro_paq*erro_paq))\n",
        "sigma_ali"
      ],
      "metadata": {
        "colab": {
          "base_uri": "https://localhost:8080/"
        },
        "id": "S2PJLP3N5H6w",
        "outputId": "0e95cd55-881c-42a7-af43-4f1ffe3d26ff"
      },
      "execution_count": 55,
      "outputs": [
        {
          "output_type": "execute_result",
          "data": {
            "text/plain": [
              "0.6400056424751269"
            ]
          },
          "metadata": {},
          "execution_count": 55
        }
      ]
    },
    {
      "cell_type": "code",
      "source": [
        "#Área lateral externa do Cilindro\n",
        "A_le=2*p_i*r_e*h\n",
        "A_le"
      ],
      "metadata": {
        "colab": {
          "base_uri": "https://localhost:8080/"
        },
        "id": "x5nvafF05_CK",
        "outputId": "f4ce9dec-c7f1-4679-abd0-6acb1406e667"
      },
      "execution_count": 56,
      "outputs": [
        {
          "output_type": "execute_result",
          "data": {
            "text/plain": [
              "119.88520000000001+/-0.8939078710918704"
            ]
          },
          "metadata": {},
          "execution_count": 56
        }
      ]
    },
    {
      "cell_type": "code",
      "source": [
        "sigma_ale=2*p_i*np.sqrt((l*l*erro_paq/2*erro_paq/2)+(de/2*de/2*erro_paq*erro_paq))\n",
        "sigma_ale"
      ],
      "metadata": {
        "colab": {
          "base_uri": "https://localhost:8080/"
        },
        "id": "TuSz9s7W6E25",
        "outputId": "55ee0182-fe3f-4c6a-b53b-a0105dbc74dd"
      },
      "execution_count": 57,
      "outputs": [
        {
          "output_type": "execute_result",
          "data": {
            "text/plain": [
              "0.8939078710918705"
            ]
          },
          "metadata": {},
          "execution_count": 57
        }
      ]
    },
    {
      "cell_type": "code",
      "source": [
        "A_l = A_le-A_li\n",
        "A_l"
      ],
      "metadata": {
        "colab": {
          "base_uri": "https://localhost:8080/"
        },
        "id": "HdjWDROq6K0w",
        "outputId": "bda23d7d-36da-4223-bd93-b22df512e338"
      },
      "execution_count": 58,
      "outputs": [
        {
          "output_type": "execute_result",
          "data": {
            "text/plain": [
              "47.66520000000001+/-0.6871436417518538"
            ]
          },
          "metadata": {},
          "execution_count": 58
        }
      ]
    },
    {
      "cell_type": "code",
      "source": [
        "sigma_al=np.sqrt((sigma_ali*sigma_ali)+(sigma_ale*sigma_ale))"
      ],
      "metadata": {
        "id": "oD1yfx2b6Pru"
      },
      "execution_count": 59,
      "outputs": []
    },
    {
      "cell_type": "code",
      "source": [
        "print ('Área lateral interna: {:.1u}'.format(A_li),\"(mm²)\")\n",
        "print ('Área lateral externa: {:.1u}'.format(A_le),\"(mm²)\")\n",
        "print ('Área lateral efetiva: {:.1u}'.format(A_l),\"(mm²)\")"
      ],
      "metadata": {
        "colab": {
          "base_uri": "https://localhost:8080/"
        },
        "outputId": "4025b0b5-1e1f-42a5-ae6c-c7f62f01f111",
        "id": "3ejXYsq26dcB"
      },
      "execution_count": 60,
      "outputs": [
        {
          "output_type": "stream",
          "name": "stdout",
          "text": [
            "Área lateral interna: 72.2+/-0.6 (mm²)\n",
            "Área lateral externa: 119.9+/-0.9 (mm²)\n",
            "Área lateral efetiva: 47.7+/-0.7 (mm²)\n"
          ]
        }
      ]
    },
    {
      "cell_type": "markdown",
      "source": [
        "#Área total"
      ],
      "metadata": {
        "id": "bTgKSDMe7grb"
      }
    },
    {
      "cell_type": "code",
      "source": [
        "#Área total interna\n",
        "A_ti=(2*A_bi+A_li)\n",
        "A_ti"
      ],
      "metadata": {
        "colab": {
          "base_uri": "https://localhost:8080/"
        },
        "id": "aafaP8Fy7lNP",
        "outputId": "36510190-e475-48ae-9500-b1b94d684318"
      },
      "execution_count": 61,
      "outputs": [
        {
          "output_type": "execute_result",
          "data": {
            "text/plain": [
              "111.47+/-1.019625255866095"
            ]
          },
          "metadata": {},
          "execution_count": 61
        }
      ]
    },
    {
      "cell_type": "code",
      "source": [
        "sigma_ati=np.sqrt((4*sigma_abi*sigma_abi)+(sigma_ali*sigma_ali))\n",
        "sigma_ati"
      ],
      "metadata": {
        "colab": {
          "base_uri": "https://localhost:8080/"
        },
        "id": "0FYDoBnK9zsT",
        "outputId": "07797093-4440-4446-b9bb-d6398fc1726f"
      },
      "execution_count": 62,
      "outputs": [
        {
          "output_type": "execute_result",
          "data": {
            "text/plain": [
              "0.7946371639937312"
            ]
          },
          "metadata": {},
          "execution_count": 62
        }
      ]
    },
    {
      "cell_type": "code",
      "source": [
        "#Área total externa\n",
        "A_te=(2*A_be+A_le)\n",
        "A_te"
      ],
      "metadata": {
        "colab": {
          "base_uri": "https://localhost:8080/"
        },
        "id": "OOQZ_xsD-Jif",
        "outputId": "75c97125-6589-435f-fab3-813a8ecc6463"
      },
      "execution_count": 63,
      "outputs": [
        {
          "output_type": "execute_result",
          "data": {
            "text/plain": [
              "228.04250000000002+/-1.444980100901047"
            ]
          },
          "metadata": {},
          "execution_count": 63
        }
      ]
    },
    {
      "cell_type": "code",
      "source": [
        "sigma_ate=np.sqrt((4*sigma_abe*sigma_abe)+(sigma_ale*sigma_ale))\n",
        "sigma_ate"
      ],
      "metadata": {
        "colab": {
          "base_uri": "https://localhost:8080/"
        },
        "id": "weznyh3s-Q09",
        "outputId": "16960ced-4134-40f0-9946-94ad3516c7d8"
      },
      "execution_count": 64,
      "outputs": [
        {
          "output_type": "execute_result",
          "data": {
            "text/plain": [
              "1.1875926665317533"
            ]
          },
          "metadata": {},
          "execution_count": 64
        }
      ]
    },
    {
      "cell_type": "code",
      "source": [
        "#Área total\n",
        "A_t=(A_te-A_ti)\n",
        "A_t"
      ],
      "metadata": {
        "colab": {
          "base_uri": "https://localhost:8080/"
        },
        "id": "hmoaDr6I-Yn4",
        "outputId": "90de0107-afd3-4d38-86a7-d9f447494dfa"
      },
      "execution_count": 65,
      "outputs": [
        {
          "output_type": "execute_result",
          "data": {
            "text/plain": [
              "116.57250000000002+/-1.5463153088552153"
            ]
          },
          "metadata": {},
          "execution_count": 65
        }
      ]
    },
    {
      "cell_type": "code",
      "source": [
        "sigma_at=np.sqrt((sigma_ate*sigma_ate)+(sigma_ati*sigma_ati))\n",
        "sigma_at"
      ],
      "metadata": {
        "colab": {
          "base_uri": "https://localhost:8080/"
        },
        "id": "c0cwcSzN-ksR",
        "outputId": "c79674e7-d3bc-4db3-e9da-96e6131ac413"
      },
      "execution_count": 66,
      "outputs": [
        {
          "output_type": "execute_result",
          "data": {
            "text/plain": [
              "1.428924268112205"
            ]
          },
          "metadata": {},
          "execution_count": 66
        }
      ]
    },
    {
      "cell_type": "code",
      "source": [
        "print ('Área total interna: {:.1u}'.format(A_ti),\"(mm²)\")\n",
        "print ('Área total externa: {:.1u}'.format(A_te),\"(mm²)\")\n",
        "print ('Área total efetiva: {:.1u}'.format(A_t),\"(mm²)\")"
      ],
      "metadata": {
        "colab": {
          "base_uri": "https://localhost:8080/"
        },
        "id": "u7pzoESn_Jxa",
        "outputId": "3de17bd7-89f2-4dc4-c1f9-b40b89cb39cc"
      },
      "execution_count": 67,
      "outputs": [
        {
          "output_type": "stream",
          "name": "stdout",
          "text": [
            "Área total interna: 111+/-1 (mm²)\n",
            "Área total externa: 228+/-1 (mm²)\n",
            "Área total efetiva: 117+/-2 (mm²)\n"
          ]
        }
      ]
    },
    {
      "cell_type": "markdown",
      "source": [
        "#Volume do cilindro"
      ],
      "metadata": {
        "id": "Lyf-MH7U_mEt"
      }
    },
    {
      "cell_type": "code",
      "source": [
        "#Volume interno\n",
        "V_i = A_bi*h\n",
        "V_i"
      ],
      "metadata": {
        "colab": {
          "base_uri": "https://localhost:8080/"
        },
        "id": "hl3b6rp__oZH",
        "outputId": "59ac5575-744c-4925-d2a8-c45ddafc5296"
      },
      "execution_count": 68,
      "outputs": [
        {
          "output_type": "execute_result",
          "data": {
            "text/plain": [
              "90.27499999999999+/-1.2329498986171334"
            ]
          },
          "metadata": {},
          "execution_count": 68
        }
      ]
    },
    {
      "cell_type": "code",
      "source": [
        "V_in=p_i*(r_i*r_i)*h\n",
        "V_in"
      ],
      "metadata": {
        "colab": {
          "base_uri": "https://localhost:8080/"
        },
        "id": "eEjEIqPzAhMm",
        "outputId": "0d8fa3c0-94a6-4eb2-f63c-711164d4b12f"
      },
      "execution_count": 69,
      "outputs": [
        {
          "output_type": "execute_result",
          "data": {
            "text/plain": [
              "90.27499999999999+/-1.2329498986171334"
            ]
          },
          "metadata": {},
          "execution_count": 69
        }
      ]
    },
    {
      "cell_type": "code",
      "source": [
        "V_e=A_be*h\n",
        "V_e"
      ],
      "metadata": {
        "colab": {
          "base_uri": "https://localhost:8080/"
        },
        "id": "lo0OnfLZ_20R",
        "outputId": "40d89481-8e62-4277-b64d-e2369a66f132"
      },
      "execution_count": 70,
      "outputs": [
        {
          "output_type": "execute_result",
          "data": {
            "text/plain": [
              "248.76179000000002+/-2.4219525413443286"
            ]
          },
          "metadata": {},
          "execution_count": 70
        }
      ]
    },
    {
      "cell_type": "code",
      "source": [
        "#Volume efetivo\n",
        "V_efe=V_e-V_i"
      ],
      "metadata": {
        "id": "KcGweTLX_7Ql"
      },
      "execution_count": 71,
      "outputs": []
    },
    {
      "cell_type": "code",
      "source": [
        "print ('Volume interno: {:.1u}'.format(V_i),\"(mm³)\")\n",
        "print ('Volume externo: {:.1u}'.format(V_e),\"(mm³)\")\n",
        "print ('Volume total efetiva: {:.1u}'.format(V_efe),\"(mm³)\")"
      ],
      "metadata": {
        "colab": {
          "base_uri": "https://localhost:8080/"
        },
        "id": "9PJlwlxlAEiF",
        "outputId": "29f6ff83-d56b-4198-b2da-7e63c3ecf219"
      },
      "execution_count": 72,
      "outputs": [
        {
          "output_type": "stream",
          "name": "stdout",
          "text": [
            "Volume interno: 90+/-1 (mm³)\n",
            "Volume externo: 249+/-2 (mm³)\n",
            "Volume total efetiva: 158+/-2 (mm³)\n"
          ]
        }
      ]
    }
  ]
}