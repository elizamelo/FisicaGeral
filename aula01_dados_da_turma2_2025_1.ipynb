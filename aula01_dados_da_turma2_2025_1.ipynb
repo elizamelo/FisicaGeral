{
  "nbformat": 4,
  "nbformat_minor": 0,
  "metadata": {
    "colab": {
      "provenance": [],
      "include_colab_link": true
    },
    "kernelspec": {
      "name": "python3",
      "display_name": "Python 3"
    }
  },
  "cells": [
    {
      "cell_type": "markdown",
      "metadata": {
        "id": "view-in-github",
        "colab_type": "text"
      },
      "source": [
        "<a href=\"https://colab.research.google.com/github/elizamelo/FisicaGeral/blob/main/aula01_dados_da_turma2_2025_1.ipynb\" target=\"_parent\"><img src=\"https://colab.research.google.com/assets/colab-badge.svg\" alt=\"Open In Colab\"/></a>"
      ]
    },
    {
      "cell_type": "markdown",
      "source": [
        "Baseado na aula do prof. Antonio Vilela\n"
      ],
      "metadata": {
        "id": "8UOpCrrib9Tk"
      }
    },
    {
      "cell_type": "code",
      "source": [
        "import numpy as np\n",
        "import pandas as pd\n",
        "import matplotlib as mpl\n",
        "import matplotlib.pyplot as plt\n",
        "import statistics\n",
        "from scipy import stats"
      ],
      "metadata": {
        "id": "6wuU5mjycFiL"
      },
      "execution_count": null,
      "outputs": []
    },
    {
      "cell_type": "markdown",
      "metadata": {
        "id": "1ikM_jc93RdJ"
      },
      "source": [
        "Tabela de idades, pesos e alturas:"
      ]
    },
    {
      "cell_type": "code",
      "metadata": {
        "colab": {
          "base_uri": "https://localhost:8080/"
        },
        "id": "jRyrwB0NJCkT",
        "outputId": "7dcaa6b4-ad1f-49c3-92eb-f1a1b581becf"
      },
      "source": [
        "#!curl -o Dados-alunos-2023-1.xlsx https://raw.githubusercontent.com/FisicaGeral/main/dados/DadosdaTurma2_2023-1.xlsx\n",
        "#!curl -o Dados-alunos-2023-1.csv https://raw.githubusercontent.com/elizamelo/FisicaGeral/main/dados/DadosdaTurma2_2023_1%20-%20Dados%20da%20turma.csv\n",
        "!curl -o Dados-alunos-2025-1.csv https://raw.githubusercontent.com/elizamelo/FisicaGeral/refs/heads/main/dados/ColetadedadosdaTurma2-2025-DadosdaTurma.csv"
      ],
      "execution_count": null,
      "outputs": [
        {
          "output_type": "stream",
          "name": "stdout",
          "text": [
            "  % Total    % Received % Xferd  Average Speed   Time    Time     Time  Current\n",
            "                                 Dload  Upload   Total   Spent    Left  Speed\n",
            "100   497  100   497    0     0   2554      0 --:--:-- --:--:-- --:--:--  2561\n"
          ]
        }
      ]
    },
    {
      "cell_type": "code",
      "source": [
        "df = pd.read_csv( \"Dados-alunos-2025-1.csv\", usecols=[0,1,2,3], nrows=18, skiprows=1,index_col=0, na_values=[\"0\"],names=[\"Índice\", \"Idade\", \"Altura\", \"Massa\"] )\n",
        "df"
      ],
      "metadata": {
        "colab": {
          "base_uri": "https://localhost:8080/",
          "height": 489
        },
        "id": "-wA7ytc7Gmvz",
        "outputId": "f5dba123-9c8b-48a2-a876-78ef90b7895a"
      },
      "execution_count": null,
      "outputs": [
        {
          "output_type": "execute_result",
          "data": {
            "text/plain": [
              "                                        Idade  Altura  Massa\n",
              "Índice                                                      \n",
              "Maria Fulana                               39    1.68   68.0\n",
              "Bernardo Rocha                             17    1.78   75.0\n",
              "Raíssa Ferreira Rodrigues de Oliveira      18    1.60   60.0\n",
              "Rapha Marisol                              19    1.68   70.0\n",
              "Júlia Jesus Santos                         18    1.58   62.0\n",
              "Kaylane gomes dos reis                     17    1.71   45.0\n",
              "Leandro S Bolonini                         32    1.72   94.0\n",
              "Samara                                     17    1.63   75.0\n",
              "Luís Alberto Barros Rebello da Silva       22    1.84   94.5\n",
              "DANIEL RODRIGO COIMBRA DE PAIVA            43    1.68   73.0\n",
              "Rayan de Almeida Zaparolli                 18    1.82   90.0\n",
              "Bernardo T                                 18    1.68   60.0\n",
              "Pedro Henrique Soares Ferreira             21    1.86   82.0"
            ],
            "text/html": [
              "\n",
              "  <div id=\"df-b03448aa-5d41-4044-a26d-c8e2c99496e1\" class=\"colab-df-container\">\n",
              "    <div>\n",
              "<style scoped>\n",
              "    .dataframe tbody tr th:only-of-type {\n",
              "        vertical-align: middle;\n",
              "    }\n",
              "\n",
              "    .dataframe tbody tr th {\n",
              "        vertical-align: top;\n",
              "    }\n",
              "\n",
              "    .dataframe thead th {\n",
              "        text-align: right;\n",
              "    }\n",
              "</style>\n",
              "<table border=\"1\" class=\"dataframe\">\n",
              "  <thead>\n",
              "    <tr style=\"text-align: right;\">\n",
              "      <th></th>\n",
              "      <th>Idade</th>\n",
              "      <th>Altura</th>\n",
              "      <th>Massa</th>\n",
              "    </tr>\n",
              "    <tr>\n",
              "      <th>Índice</th>\n",
              "      <th></th>\n",
              "      <th></th>\n",
              "      <th></th>\n",
              "    </tr>\n",
              "  </thead>\n",
              "  <tbody>\n",
              "    <tr>\n",
              "      <th>Maria Fulana</th>\n",
              "      <td>39</td>\n",
              "      <td>1.68</td>\n",
              "      <td>68.0</td>\n",
              "    </tr>\n",
              "    <tr>\n",
              "      <th>Bernardo Rocha</th>\n",
              "      <td>17</td>\n",
              "      <td>1.78</td>\n",
              "      <td>75.0</td>\n",
              "    </tr>\n",
              "    <tr>\n",
              "      <th>Raíssa Ferreira Rodrigues de Oliveira</th>\n",
              "      <td>18</td>\n",
              "      <td>1.60</td>\n",
              "      <td>60.0</td>\n",
              "    </tr>\n",
              "    <tr>\n",
              "      <th>Rapha Marisol</th>\n",
              "      <td>19</td>\n",
              "      <td>1.68</td>\n",
              "      <td>70.0</td>\n",
              "    </tr>\n",
              "    <tr>\n",
              "      <th>Júlia Jesus Santos</th>\n",
              "      <td>18</td>\n",
              "      <td>1.58</td>\n",
              "      <td>62.0</td>\n",
              "    </tr>\n",
              "    <tr>\n",
              "      <th>Kaylane gomes dos reis</th>\n",
              "      <td>17</td>\n",
              "      <td>1.71</td>\n",
              "      <td>45.0</td>\n",
              "    </tr>\n",
              "    <tr>\n",
              "      <th>Leandro S Bolonini</th>\n",
              "      <td>32</td>\n",
              "      <td>1.72</td>\n",
              "      <td>94.0</td>\n",
              "    </tr>\n",
              "    <tr>\n",
              "      <th>Samara</th>\n",
              "      <td>17</td>\n",
              "      <td>1.63</td>\n",
              "      <td>75.0</td>\n",
              "    </tr>\n",
              "    <tr>\n",
              "      <th>Luís Alberto Barros Rebello da Silva</th>\n",
              "      <td>22</td>\n",
              "      <td>1.84</td>\n",
              "      <td>94.5</td>\n",
              "    </tr>\n",
              "    <tr>\n",
              "      <th>DANIEL RODRIGO COIMBRA DE PAIVA</th>\n",
              "      <td>43</td>\n",
              "      <td>1.68</td>\n",
              "      <td>73.0</td>\n",
              "    </tr>\n",
              "    <tr>\n",
              "      <th>Rayan de Almeida Zaparolli</th>\n",
              "      <td>18</td>\n",
              "      <td>1.82</td>\n",
              "      <td>90.0</td>\n",
              "    </tr>\n",
              "    <tr>\n",
              "      <th>Bernardo T</th>\n",
              "      <td>18</td>\n",
              "      <td>1.68</td>\n",
              "      <td>60.0</td>\n",
              "    </tr>\n",
              "    <tr>\n",
              "      <th>Pedro Henrique Soares Ferreira</th>\n",
              "      <td>21</td>\n",
              "      <td>1.86</td>\n",
              "      <td>82.0</td>\n",
              "    </tr>\n",
              "  </tbody>\n",
              "</table>\n",
              "</div>\n",
              "    <div class=\"colab-df-buttons\">\n",
              "\n",
              "  <div class=\"colab-df-container\">\n",
              "    <button class=\"colab-df-convert\" onclick=\"convertToInteractive('df-b03448aa-5d41-4044-a26d-c8e2c99496e1')\"\n",
              "            title=\"Convert this dataframe to an interactive table.\"\n",
              "            style=\"display:none;\">\n",
              "\n",
              "  <svg xmlns=\"http://www.w3.org/2000/svg\" height=\"24px\" viewBox=\"0 -960 960 960\">\n",
              "    <path d=\"M120-120v-720h720v720H120Zm60-500h600v-160H180v160Zm220 220h160v-160H400v160Zm0 220h160v-160H400v160ZM180-400h160v-160H180v160Zm440 0h160v-160H620v160ZM180-180h160v-160H180v160Zm440 0h160v-160H620v160Z\"/>\n",
              "  </svg>\n",
              "    </button>\n",
              "\n",
              "  <style>\n",
              "    .colab-df-container {\n",
              "      display:flex;\n",
              "      gap: 12px;\n",
              "    }\n",
              "\n",
              "    .colab-df-convert {\n",
              "      background-color: #E8F0FE;\n",
              "      border: none;\n",
              "      border-radius: 50%;\n",
              "      cursor: pointer;\n",
              "      display: none;\n",
              "      fill: #1967D2;\n",
              "      height: 32px;\n",
              "      padding: 0 0 0 0;\n",
              "      width: 32px;\n",
              "    }\n",
              "\n",
              "    .colab-df-convert:hover {\n",
              "      background-color: #E2EBFA;\n",
              "      box-shadow: 0px 1px 2px rgba(60, 64, 67, 0.3), 0px 1px 3px 1px rgba(60, 64, 67, 0.15);\n",
              "      fill: #174EA6;\n",
              "    }\n",
              "\n",
              "    .colab-df-buttons div {\n",
              "      margin-bottom: 4px;\n",
              "    }\n",
              "\n",
              "    [theme=dark] .colab-df-convert {\n",
              "      background-color: #3B4455;\n",
              "      fill: #D2E3FC;\n",
              "    }\n",
              "\n",
              "    [theme=dark] .colab-df-convert:hover {\n",
              "      background-color: #434B5C;\n",
              "      box-shadow: 0px 1px 3px 1px rgba(0, 0, 0, 0.15);\n",
              "      filter: drop-shadow(0px 1px 2px rgba(0, 0, 0, 0.3));\n",
              "      fill: #FFFFFF;\n",
              "    }\n",
              "  </style>\n",
              "\n",
              "    <script>\n",
              "      const buttonEl =\n",
              "        document.querySelector('#df-b03448aa-5d41-4044-a26d-c8e2c99496e1 button.colab-df-convert');\n",
              "      buttonEl.style.display =\n",
              "        google.colab.kernel.accessAllowed ? 'block' : 'none';\n",
              "\n",
              "      async function convertToInteractive(key) {\n",
              "        const element = document.querySelector('#df-b03448aa-5d41-4044-a26d-c8e2c99496e1');\n",
              "        const dataTable =\n",
              "          await google.colab.kernel.invokeFunction('convertToInteractive',\n",
              "                                                    [key], {});\n",
              "        if (!dataTable) return;\n",
              "\n",
              "        const docLinkHtml = 'Like what you see? Visit the ' +\n",
              "          '<a target=\"_blank\" href=https://colab.research.google.com/notebooks/data_table.ipynb>data table notebook</a>'\n",
              "          + ' to learn more about interactive tables.';\n",
              "        element.innerHTML = '';\n",
              "        dataTable['output_type'] = 'display_data';\n",
              "        await google.colab.output.renderOutput(dataTable, element);\n",
              "        const docLink = document.createElement('div');\n",
              "        docLink.innerHTML = docLinkHtml;\n",
              "        element.appendChild(docLink);\n",
              "      }\n",
              "    </script>\n",
              "  </div>\n",
              "\n",
              "\n",
              "<div id=\"df-57acf74b-79ab-41f0-962f-044196a0f123\">\n",
              "  <button class=\"colab-df-quickchart\" onclick=\"quickchart('df-57acf74b-79ab-41f0-962f-044196a0f123')\"\n",
              "            title=\"Suggest charts\"\n",
              "            style=\"display:none;\">\n",
              "\n",
              "<svg xmlns=\"http://www.w3.org/2000/svg\" height=\"24px\"viewBox=\"0 0 24 24\"\n",
              "     width=\"24px\">\n",
              "    <g>\n",
              "        <path d=\"M19 3H5c-1.1 0-2 .9-2 2v14c0 1.1.9 2 2 2h14c1.1 0 2-.9 2-2V5c0-1.1-.9-2-2-2zM9 17H7v-7h2v7zm4 0h-2V7h2v10zm4 0h-2v-4h2v4z\"/>\n",
              "    </g>\n",
              "</svg>\n",
              "  </button>\n",
              "\n",
              "<style>\n",
              "  .colab-df-quickchart {\n",
              "      --bg-color: #E8F0FE;\n",
              "      --fill-color: #1967D2;\n",
              "      --hover-bg-color: #E2EBFA;\n",
              "      --hover-fill-color: #174EA6;\n",
              "      --disabled-fill-color: #AAA;\n",
              "      --disabled-bg-color: #DDD;\n",
              "  }\n",
              "\n",
              "  [theme=dark] .colab-df-quickchart {\n",
              "      --bg-color: #3B4455;\n",
              "      --fill-color: #D2E3FC;\n",
              "      --hover-bg-color: #434B5C;\n",
              "      --hover-fill-color: #FFFFFF;\n",
              "      --disabled-bg-color: #3B4455;\n",
              "      --disabled-fill-color: #666;\n",
              "  }\n",
              "\n",
              "  .colab-df-quickchart {\n",
              "    background-color: var(--bg-color);\n",
              "    border: none;\n",
              "    border-radius: 50%;\n",
              "    cursor: pointer;\n",
              "    display: none;\n",
              "    fill: var(--fill-color);\n",
              "    height: 32px;\n",
              "    padding: 0;\n",
              "    width: 32px;\n",
              "  }\n",
              "\n",
              "  .colab-df-quickchart:hover {\n",
              "    background-color: var(--hover-bg-color);\n",
              "    box-shadow: 0 1px 2px rgba(60, 64, 67, 0.3), 0 1px 3px 1px rgba(60, 64, 67, 0.15);\n",
              "    fill: var(--button-hover-fill-color);\n",
              "  }\n",
              "\n",
              "  .colab-df-quickchart-complete:disabled,\n",
              "  .colab-df-quickchart-complete:disabled:hover {\n",
              "    background-color: var(--disabled-bg-color);\n",
              "    fill: var(--disabled-fill-color);\n",
              "    box-shadow: none;\n",
              "  }\n",
              "\n",
              "  .colab-df-spinner {\n",
              "    border: 2px solid var(--fill-color);\n",
              "    border-color: transparent;\n",
              "    border-bottom-color: var(--fill-color);\n",
              "    animation:\n",
              "      spin 1s steps(1) infinite;\n",
              "  }\n",
              "\n",
              "  @keyframes spin {\n",
              "    0% {\n",
              "      border-color: transparent;\n",
              "      border-bottom-color: var(--fill-color);\n",
              "      border-left-color: var(--fill-color);\n",
              "    }\n",
              "    20% {\n",
              "      border-color: transparent;\n",
              "      border-left-color: var(--fill-color);\n",
              "      border-top-color: var(--fill-color);\n",
              "    }\n",
              "    30% {\n",
              "      border-color: transparent;\n",
              "      border-left-color: var(--fill-color);\n",
              "      border-top-color: var(--fill-color);\n",
              "      border-right-color: var(--fill-color);\n",
              "    }\n",
              "    40% {\n",
              "      border-color: transparent;\n",
              "      border-right-color: var(--fill-color);\n",
              "      border-top-color: var(--fill-color);\n",
              "    }\n",
              "    60% {\n",
              "      border-color: transparent;\n",
              "      border-right-color: var(--fill-color);\n",
              "    }\n",
              "    80% {\n",
              "      border-color: transparent;\n",
              "      border-right-color: var(--fill-color);\n",
              "      border-bottom-color: var(--fill-color);\n",
              "    }\n",
              "    90% {\n",
              "      border-color: transparent;\n",
              "      border-bottom-color: var(--fill-color);\n",
              "    }\n",
              "  }\n",
              "</style>\n",
              "\n",
              "  <script>\n",
              "    async function quickchart(key) {\n",
              "      const quickchartButtonEl =\n",
              "        document.querySelector('#' + key + ' button');\n",
              "      quickchartButtonEl.disabled = true;  // To prevent multiple clicks.\n",
              "      quickchartButtonEl.classList.add('colab-df-spinner');\n",
              "      try {\n",
              "        const charts = await google.colab.kernel.invokeFunction(\n",
              "            'suggestCharts', [key], {});\n",
              "      } catch (error) {\n",
              "        console.error('Error during call to suggestCharts:', error);\n",
              "      }\n",
              "      quickchartButtonEl.classList.remove('colab-df-spinner');\n",
              "      quickchartButtonEl.classList.add('colab-df-quickchart-complete');\n",
              "    }\n",
              "    (() => {\n",
              "      let quickchartButtonEl =\n",
              "        document.querySelector('#df-57acf74b-79ab-41f0-962f-044196a0f123 button');\n",
              "      quickchartButtonEl.style.display =\n",
              "        google.colab.kernel.accessAllowed ? 'block' : 'none';\n",
              "    })();\n",
              "  </script>\n",
              "</div>\n",
              "\n",
              "  <div id=\"id_e398810b-ab4e-4754-ac79-73d3e4e41f4a\">\n",
              "    <style>\n",
              "      .colab-df-generate {\n",
              "        background-color: #E8F0FE;\n",
              "        border: none;\n",
              "        border-radius: 50%;\n",
              "        cursor: pointer;\n",
              "        display: none;\n",
              "        fill: #1967D2;\n",
              "        height: 32px;\n",
              "        padding: 0 0 0 0;\n",
              "        width: 32px;\n",
              "      }\n",
              "\n",
              "      .colab-df-generate:hover {\n",
              "        background-color: #E2EBFA;\n",
              "        box-shadow: 0px 1px 2px rgba(60, 64, 67, 0.3), 0px 1px 3px 1px rgba(60, 64, 67, 0.15);\n",
              "        fill: #174EA6;\n",
              "      }\n",
              "\n",
              "      [theme=dark] .colab-df-generate {\n",
              "        background-color: #3B4455;\n",
              "        fill: #D2E3FC;\n",
              "      }\n",
              "\n",
              "      [theme=dark] .colab-df-generate:hover {\n",
              "        background-color: #434B5C;\n",
              "        box-shadow: 0px 1px 3px 1px rgba(0, 0, 0, 0.15);\n",
              "        filter: drop-shadow(0px 1px 2px rgba(0, 0, 0, 0.3));\n",
              "        fill: #FFFFFF;\n",
              "      }\n",
              "    </style>\n",
              "    <button class=\"colab-df-generate\" onclick=\"generateWithVariable('df')\"\n",
              "            title=\"Generate code using this dataframe.\"\n",
              "            style=\"display:none;\">\n",
              "\n",
              "  <svg xmlns=\"http://www.w3.org/2000/svg\" height=\"24px\"viewBox=\"0 0 24 24\"\n",
              "       width=\"24px\">\n",
              "    <path d=\"M7,19H8.4L18.45,9,17,7.55,7,17.6ZM5,21V16.75L18.45,3.32a2,2,0,0,1,2.83,0l1.4,1.43a1.91,1.91,0,0,1,.58,1.4,1.91,1.91,0,0,1-.58,1.4L9.25,21ZM18.45,9,17,7.55Zm-12,3A5.31,5.31,0,0,0,4.9,8.1,5.31,5.31,0,0,0,1,6.5,5.31,5.31,0,0,0,4.9,4.9,5.31,5.31,0,0,0,6.5,1,5.31,5.31,0,0,0,8.1,4.9,5.31,5.31,0,0,0,12,6.5,5.46,5.46,0,0,0,6.5,12Z\"/>\n",
              "  </svg>\n",
              "    </button>\n",
              "    <script>\n",
              "      (() => {\n",
              "      const buttonEl =\n",
              "        document.querySelector('#id_e398810b-ab4e-4754-ac79-73d3e4e41f4a button.colab-df-generate');\n",
              "      buttonEl.style.display =\n",
              "        google.colab.kernel.accessAllowed ? 'block' : 'none';\n",
              "\n",
              "      buttonEl.onclick = () => {\n",
              "        google.colab.notebook.generateWithVariable('df');\n",
              "      }\n",
              "      })();\n",
              "    </script>\n",
              "  </div>\n",
              "\n",
              "    </div>\n",
              "  </div>\n"
            ],
            "application/vnd.google.colaboratory.intrinsic+json": {
              "type": "dataframe",
              "variable_name": "df",
              "summary": "{\n  \"name\": \"df\",\n  \"rows\": 13,\n  \"fields\": [\n    {\n      \"column\": \"\\u00cdndice\",\n      \"properties\": {\n        \"dtype\": \"string\",\n        \"num_unique_values\": 13,\n        \"samples\": [\n          \"Bernardo T\",\n          \"DANIEL RODRIGO COIMBRA DE PAIVA\",\n          \"Maria Fulana\"\n        ],\n        \"semantic_type\": \"\",\n        \"description\": \"\"\n      }\n    },\n    {\n      \"column\": \"Idade\",\n      \"properties\": {\n        \"dtype\": \"number\",\n        \"std\": 8,\n        \"min\": 17,\n        \"max\": 43,\n        \"num_unique_values\": 8,\n        \"samples\": [\n          17,\n          22,\n          39\n        ],\n        \"semantic_type\": \"\",\n        \"description\": \"\"\n      }\n    },\n    {\n      \"column\": \"Altura\",\n      \"properties\": {\n        \"dtype\": \"number\",\n        \"std\": 0.08917715011461237,\n        \"min\": 1.58,\n        \"max\": 1.86,\n        \"num_unique_values\": 10,\n        \"samples\": [\n          1.82,\n          1.78,\n          1.72\n        ],\n        \"semantic_type\": \"\",\n        \"description\": \"\"\n      }\n    },\n    {\n      \"column\": \"Massa\",\n      \"properties\": {\n        \"dtype\": \"number\",\n        \"std\": 14.600886871553298,\n        \"min\": 45.0,\n        \"max\": 94.5,\n        \"num_unique_values\": 11,\n        \"samples\": [\n          45.0,\n          68.0,\n          90.0\n        ],\n        \"semantic_type\": \"\",\n        \"description\": \"\"\n      }\n    }\n  ]\n}"
            }
          },
          "metadata": {},
          "execution_count": 377
        }
      ]
    },
    {
      "cell_type": "code",
      "source": [
        "df.describe()"
      ],
      "metadata": {
        "colab": {
          "base_uri": "https://localhost:8080/",
          "height": 300
        },
        "id": "m8QkDcJLcboY",
        "outputId": "94a27898-7dfd-46dd-95c4-ebf6c01a3d55"
      },
      "execution_count": null,
      "outputs": [
        {
          "output_type": "execute_result",
          "data": {
            "text/plain": [
              "           Idade     Altura      Massa\n",
              "count  13.000000  13.000000  13.000000\n",
              "mean   23.000000   1.712308  72.961538\n",
              "std     8.972179   0.089177  14.600887\n",
              "min    17.000000   1.580000  45.000000\n",
              "25%    18.000000   1.680000  62.000000\n",
              "50%    18.000000   1.680000  73.000000\n",
              "75%    22.000000   1.780000  82.000000\n",
              "max    43.000000   1.860000  94.500000"
            ],
            "text/html": [
              "\n",
              "  <div id=\"df-2e5d31f8-373c-48a7-8dd6-9b8161eccc7d\" class=\"colab-df-container\">\n",
              "    <div>\n",
              "<style scoped>\n",
              "    .dataframe tbody tr th:only-of-type {\n",
              "        vertical-align: middle;\n",
              "    }\n",
              "\n",
              "    .dataframe tbody tr th {\n",
              "        vertical-align: top;\n",
              "    }\n",
              "\n",
              "    .dataframe thead th {\n",
              "        text-align: right;\n",
              "    }\n",
              "</style>\n",
              "<table border=\"1\" class=\"dataframe\">\n",
              "  <thead>\n",
              "    <tr style=\"text-align: right;\">\n",
              "      <th></th>\n",
              "      <th>Idade</th>\n",
              "      <th>Altura</th>\n",
              "      <th>Massa</th>\n",
              "    </tr>\n",
              "  </thead>\n",
              "  <tbody>\n",
              "    <tr>\n",
              "      <th>count</th>\n",
              "      <td>13.000000</td>\n",
              "      <td>13.000000</td>\n",
              "      <td>13.000000</td>\n",
              "    </tr>\n",
              "    <tr>\n",
              "      <th>mean</th>\n",
              "      <td>23.000000</td>\n",
              "      <td>1.712308</td>\n",
              "      <td>72.961538</td>\n",
              "    </tr>\n",
              "    <tr>\n",
              "      <th>std</th>\n",
              "      <td>8.972179</td>\n",
              "      <td>0.089177</td>\n",
              "      <td>14.600887</td>\n",
              "    </tr>\n",
              "    <tr>\n",
              "      <th>min</th>\n",
              "      <td>17.000000</td>\n",
              "      <td>1.580000</td>\n",
              "      <td>45.000000</td>\n",
              "    </tr>\n",
              "    <tr>\n",
              "      <th>25%</th>\n",
              "      <td>18.000000</td>\n",
              "      <td>1.680000</td>\n",
              "      <td>62.000000</td>\n",
              "    </tr>\n",
              "    <tr>\n",
              "      <th>50%</th>\n",
              "      <td>18.000000</td>\n",
              "      <td>1.680000</td>\n",
              "      <td>73.000000</td>\n",
              "    </tr>\n",
              "    <tr>\n",
              "      <th>75%</th>\n",
              "      <td>22.000000</td>\n",
              "      <td>1.780000</td>\n",
              "      <td>82.000000</td>\n",
              "    </tr>\n",
              "    <tr>\n",
              "      <th>max</th>\n",
              "      <td>43.000000</td>\n",
              "      <td>1.860000</td>\n",
              "      <td>94.500000</td>\n",
              "    </tr>\n",
              "  </tbody>\n",
              "</table>\n",
              "</div>\n",
              "    <div class=\"colab-df-buttons\">\n",
              "\n",
              "  <div class=\"colab-df-container\">\n",
              "    <button class=\"colab-df-convert\" onclick=\"convertToInteractive('df-2e5d31f8-373c-48a7-8dd6-9b8161eccc7d')\"\n",
              "            title=\"Convert this dataframe to an interactive table.\"\n",
              "            style=\"display:none;\">\n",
              "\n",
              "  <svg xmlns=\"http://www.w3.org/2000/svg\" height=\"24px\" viewBox=\"0 -960 960 960\">\n",
              "    <path d=\"M120-120v-720h720v720H120Zm60-500h600v-160H180v160Zm220 220h160v-160H400v160Zm0 220h160v-160H400v160ZM180-400h160v-160H180v160Zm440 0h160v-160H620v160ZM180-180h160v-160H180v160Zm440 0h160v-160H620v160Z\"/>\n",
              "  </svg>\n",
              "    </button>\n",
              "\n",
              "  <style>\n",
              "    .colab-df-container {\n",
              "      display:flex;\n",
              "      gap: 12px;\n",
              "    }\n",
              "\n",
              "    .colab-df-convert {\n",
              "      background-color: #E8F0FE;\n",
              "      border: none;\n",
              "      border-radius: 50%;\n",
              "      cursor: pointer;\n",
              "      display: none;\n",
              "      fill: #1967D2;\n",
              "      height: 32px;\n",
              "      padding: 0 0 0 0;\n",
              "      width: 32px;\n",
              "    }\n",
              "\n",
              "    .colab-df-convert:hover {\n",
              "      background-color: #E2EBFA;\n",
              "      box-shadow: 0px 1px 2px rgba(60, 64, 67, 0.3), 0px 1px 3px 1px rgba(60, 64, 67, 0.15);\n",
              "      fill: #174EA6;\n",
              "    }\n",
              "\n",
              "    .colab-df-buttons div {\n",
              "      margin-bottom: 4px;\n",
              "    }\n",
              "\n",
              "    [theme=dark] .colab-df-convert {\n",
              "      background-color: #3B4455;\n",
              "      fill: #D2E3FC;\n",
              "    }\n",
              "\n",
              "    [theme=dark] .colab-df-convert:hover {\n",
              "      background-color: #434B5C;\n",
              "      box-shadow: 0px 1px 3px 1px rgba(0, 0, 0, 0.15);\n",
              "      filter: drop-shadow(0px 1px 2px rgba(0, 0, 0, 0.3));\n",
              "      fill: #FFFFFF;\n",
              "    }\n",
              "  </style>\n",
              "\n",
              "    <script>\n",
              "      const buttonEl =\n",
              "        document.querySelector('#df-2e5d31f8-373c-48a7-8dd6-9b8161eccc7d button.colab-df-convert');\n",
              "      buttonEl.style.display =\n",
              "        google.colab.kernel.accessAllowed ? 'block' : 'none';\n",
              "\n",
              "      async function convertToInteractive(key) {\n",
              "        const element = document.querySelector('#df-2e5d31f8-373c-48a7-8dd6-9b8161eccc7d');\n",
              "        const dataTable =\n",
              "          await google.colab.kernel.invokeFunction('convertToInteractive',\n",
              "                                                    [key], {});\n",
              "        if (!dataTable) return;\n",
              "\n",
              "        const docLinkHtml = 'Like what you see? Visit the ' +\n",
              "          '<a target=\"_blank\" href=https://colab.research.google.com/notebooks/data_table.ipynb>data table notebook</a>'\n",
              "          + ' to learn more about interactive tables.';\n",
              "        element.innerHTML = '';\n",
              "        dataTable['output_type'] = 'display_data';\n",
              "        await google.colab.output.renderOutput(dataTable, element);\n",
              "        const docLink = document.createElement('div');\n",
              "        docLink.innerHTML = docLinkHtml;\n",
              "        element.appendChild(docLink);\n",
              "      }\n",
              "    </script>\n",
              "  </div>\n",
              "\n",
              "\n",
              "<div id=\"df-99248839-ab1e-4a73-b5a4-76e8db228ac5\">\n",
              "  <button class=\"colab-df-quickchart\" onclick=\"quickchart('df-99248839-ab1e-4a73-b5a4-76e8db228ac5')\"\n",
              "            title=\"Suggest charts\"\n",
              "            style=\"display:none;\">\n",
              "\n",
              "<svg xmlns=\"http://www.w3.org/2000/svg\" height=\"24px\"viewBox=\"0 0 24 24\"\n",
              "     width=\"24px\">\n",
              "    <g>\n",
              "        <path d=\"M19 3H5c-1.1 0-2 .9-2 2v14c0 1.1.9 2 2 2h14c1.1 0 2-.9 2-2V5c0-1.1-.9-2-2-2zM9 17H7v-7h2v7zm4 0h-2V7h2v10zm4 0h-2v-4h2v4z\"/>\n",
              "    </g>\n",
              "</svg>\n",
              "  </button>\n",
              "\n",
              "<style>\n",
              "  .colab-df-quickchart {\n",
              "      --bg-color: #E8F0FE;\n",
              "      --fill-color: #1967D2;\n",
              "      --hover-bg-color: #E2EBFA;\n",
              "      --hover-fill-color: #174EA6;\n",
              "      --disabled-fill-color: #AAA;\n",
              "      --disabled-bg-color: #DDD;\n",
              "  }\n",
              "\n",
              "  [theme=dark] .colab-df-quickchart {\n",
              "      --bg-color: #3B4455;\n",
              "      --fill-color: #D2E3FC;\n",
              "      --hover-bg-color: #434B5C;\n",
              "      --hover-fill-color: #FFFFFF;\n",
              "      --disabled-bg-color: #3B4455;\n",
              "      --disabled-fill-color: #666;\n",
              "  }\n",
              "\n",
              "  .colab-df-quickchart {\n",
              "    background-color: var(--bg-color);\n",
              "    border: none;\n",
              "    border-radius: 50%;\n",
              "    cursor: pointer;\n",
              "    display: none;\n",
              "    fill: var(--fill-color);\n",
              "    height: 32px;\n",
              "    padding: 0;\n",
              "    width: 32px;\n",
              "  }\n",
              "\n",
              "  .colab-df-quickchart:hover {\n",
              "    background-color: var(--hover-bg-color);\n",
              "    box-shadow: 0 1px 2px rgba(60, 64, 67, 0.3), 0 1px 3px 1px rgba(60, 64, 67, 0.15);\n",
              "    fill: var(--button-hover-fill-color);\n",
              "  }\n",
              "\n",
              "  .colab-df-quickchart-complete:disabled,\n",
              "  .colab-df-quickchart-complete:disabled:hover {\n",
              "    background-color: var(--disabled-bg-color);\n",
              "    fill: var(--disabled-fill-color);\n",
              "    box-shadow: none;\n",
              "  }\n",
              "\n",
              "  .colab-df-spinner {\n",
              "    border: 2px solid var(--fill-color);\n",
              "    border-color: transparent;\n",
              "    border-bottom-color: var(--fill-color);\n",
              "    animation:\n",
              "      spin 1s steps(1) infinite;\n",
              "  }\n",
              "\n",
              "  @keyframes spin {\n",
              "    0% {\n",
              "      border-color: transparent;\n",
              "      border-bottom-color: var(--fill-color);\n",
              "      border-left-color: var(--fill-color);\n",
              "    }\n",
              "    20% {\n",
              "      border-color: transparent;\n",
              "      border-left-color: var(--fill-color);\n",
              "      border-top-color: var(--fill-color);\n",
              "    }\n",
              "    30% {\n",
              "      border-color: transparent;\n",
              "      border-left-color: var(--fill-color);\n",
              "      border-top-color: var(--fill-color);\n",
              "      border-right-color: var(--fill-color);\n",
              "    }\n",
              "    40% {\n",
              "      border-color: transparent;\n",
              "      border-right-color: var(--fill-color);\n",
              "      border-top-color: var(--fill-color);\n",
              "    }\n",
              "    60% {\n",
              "      border-color: transparent;\n",
              "      border-right-color: var(--fill-color);\n",
              "    }\n",
              "    80% {\n",
              "      border-color: transparent;\n",
              "      border-right-color: var(--fill-color);\n",
              "      border-bottom-color: var(--fill-color);\n",
              "    }\n",
              "    90% {\n",
              "      border-color: transparent;\n",
              "      border-bottom-color: var(--fill-color);\n",
              "    }\n",
              "  }\n",
              "</style>\n",
              "\n",
              "  <script>\n",
              "    async function quickchart(key) {\n",
              "      const quickchartButtonEl =\n",
              "        document.querySelector('#' + key + ' button');\n",
              "      quickchartButtonEl.disabled = true;  // To prevent multiple clicks.\n",
              "      quickchartButtonEl.classList.add('colab-df-spinner');\n",
              "      try {\n",
              "        const charts = await google.colab.kernel.invokeFunction(\n",
              "            'suggestCharts', [key], {});\n",
              "      } catch (error) {\n",
              "        console.error('Error during call to suggestCharts:', error);\n",
              "      }\n",
              "      quickchartButtonEl.classList.remove('colab-df-spinner');\n",
              "      quickchartButtonEl.classList.add('colab-df-quickchart-complete');\n",
              "    }\n",
              "    (() => {\n",
              "      let quickchartButtonEl =\n",
              "        document.querySelector('#df-99248839-ab1e-4a73-b5a4-76e8db228ac5 button');\n",
              "      quickchartButtonEl.style.display =\n",
              "        google.colab.kernel.accessAllowed ? 'block' : 'none';\n",
              "    })();\n",
              "  </script>\n",
              "</div>\n",
              "\n",
              "    </div>\n",
              "  </div>\n"
            ],
            "application/vnd.google.colaboratory.intrinsic+json": {
              "type": "dataframe",
              "summary": "{\n  \"name\": \"df\",\n  \"rows\": 8,\n  \"fields\": [\n    {\n      \"column\": \"Idade\",\n      \"properties\": {\n        \"dtype\": \"number\",\n        \"std\": 10.201600714279861,\n        \"min\": 8.972179222463181,\n        \"max\": 43.0,\n        \"num_unique_values\": 7,\n        \"samples\": [\n          13.0,\n          23.0,\n          22.0\n        ],\n        \"semantic_type\": \"\",\n        \"description\": \"\"\n      }\n    },\n    {\n      \"column\": \"Altura\",\n      \"properties\": {\n        \"dtype\": \"number\",\n        \"std\": 4.1122190918857155,\n        \"min\": 0.08917715011461237,\n        \"max\": 13.0,\n        \"num_unique_values\": 7,\n        \"samples\": [\n          13.0,\n          1.712307692307692,\n          1.78\n        ],\n        \"semantic_type\": \"\",\n        \"description\": \"\"\n      }\n    },\n    {\n      \"column\": \"Massa\",\n      \"properties\": {\n        \"dtype\": \"number\",\n        \"std\": 30.342248741151682,\n        \"min\": 13.0,\n        \"max\": 94.5,\n        \"num_unique_values\": 8,\n        \"samples\": [\n          72.96153846153847,\n          73.0,\n          13.0\n        ],\n        \"semantic_type\": \"\",\n        \"description\": \"\"\n      }\n    }\n  ]\n}"
            }
          },
          "metadata": {},
          "execution_count": 378
        }
      ]
    },
    {
      "cell_type": "markdown",
      "metadata": {
        "id": "f_kxKfb7YftY"
      },
      "source": [
        "Idade:"
      ]
    },
    {
      "cell_type": "code",
      "metadata": {
        "id": "FzO6k2jrYGLF",
        "colab": {
          "base_uri": "https://localhost:8080/",
          "height": 523
        },
        "outputId": "10925026-1bc2-4ec2-88f6-760a4477f74a"
      },
      "source": [
        "#array_Idade = df.iloc[:, 0]\n",
        "array_Idade = df[ \"Idade\" ]\n",
        "array_Idade"
      ],
      "execution_count": null,
      "outputs": [
        {
          "output_type": "execute_result",
          "data": {
            "text/plain": [
              "Índice\n",
              "Maria Fulana                              39\n",
              "Bernardo Rocha                            17\n",
              "Raíssa Ferreira Rodrigues de Oliveira     18\n",
              "Rapha Marisol                             19\n",
              "Júlia Jesus Santos                        18\n",
              "Kaylane gomes dos reis                    17\n",
              "Leandro S Bolonini                        32\n",
              "Samara                                    17\n",
              "Luís Alberto Barros Rebello da Silva      22\n",
              "DANIEL RODRIGO COIMBRA DE PAIVA           43\n",
              "Rayan de Almeida Zaparolli                18\n",
              "Bernardo T                                18\n",
              "Pedro Henrique Soares Ferreira            21\n",
              "Name: Idade, dtype: int64"
            ],
            "text/html": [
              "<div>\n",
              "<style scoped>\n",
              "    .dataframe tbody tr th:only-of-type {\n",
              "        vertical-align: middle;\n",
              "    }\n",
              "\n",
              "    .dataframe tbody tr th {\n",
              "        vertical-align: top;\n",
              "    }\n",
              "\n",
              "    .dataframe thead th {\n",
              "        text-align: right;\n",
              "    }\n",
              "</style>\n",
              "<table border=\"1\" class=\"dataframe\">\n",
              "  <thead>\n",
              "    <tr style=\"text-align: right;\">\n",
              "      <th></th>\n",
              "      <th>Idade</th>\n",
              "    </tr>\n",
              "    <tr>\n",
              "      <th>Índice</th>\n",
              "      <th></th>\n",
              "    </tr>\n",
              "  </thead>\n",
              "  <tbody>\n",
              "    <tr>\n",
              "      <th>Maria Fulana</th>\n",
              "      <td>39</td>\n",
              "    </tr>\n",
              "    <tr>\n",
              "      <th>Bernardo Rocha</th>\n",
              "      <td>17</td>\n",
              "    </tr>\n",
              "    <tr>\n",
              "      <th>Raíssa Ferreira Rodrigues de Oliveira</th>\n",
              "      <td>18</td>\n",
              "    </tr>\n",
              "    <tr>\n",
              "      <th>Rapha Marisol</th>\n",
              "      <td>19</td>\n",
              "    </tr>\n",
              "    <tr>\n",
              "      <th>Júlia Jesus Santos</th>\n",
              "      <td>18</td>\n",
              "    </tr>\n",
              "    <tr>\n",
              "      <th>Kaylane gomes dos reis</th>\n",
              "      <td>17</td>\n",
              "    </tr>\n",
              "    <tr>\n",
              "      <th>Leandro S Bolonini</th>\n",
              "      <td>32</td>\n",
              "    </tr>\n",
              "    <tr>\n",
              "      <th>Samara</th>\n",
              "      <td>17</td>\n",
              "    </tr>\n",
              "    <tr>\n",
              "      <th>Luís Alberto Barros Rebello da Silva</th>\n",
              "      <td>22</td>\n",
              "    </tr>\n",
              "    <tr>\n",
              "      <th>DANIEL RODRIGO COIMBRA DE PAIVA</th>\n",
              "      <td>43</td>\n",
              "    </tr>\n",
              "    <tr>\n",
              "      <th>Rayan de Almeida Zaparolli</th>\n",
              "      <td>18</td>\n",
              "    </tr>\n",
              "    <tr>\n",
              "      <th>Bernardo T</th>\n",
              "      <td>18</td>\n",
              "    </tr>\n",
              "    <tr>\n",
              "      <th>Pedro Henrique Soares Ferreira</th>\n",
              "      <td>21</td>\n",
              "    </tr>\n",
              "  </tbody>\n",
              "</table>\n",
              "</div><br><label><b>dtype:</b> int64</label>"
            ]
          },
          "metadata": {},
          "execution_count": 379
        }
      ]
    },
    {
      "cell_type": "code",
      "source": [
        "#valor min\n",
        "np.min(array_Idade)"
      ],
      "metadata": {
        "colab": {
          "base_uri": "https://localhost:8080/"
        },
        "id": "yzbhUeyhckpE",
        "outputId": "f074c6bb-fca5-4337-96ac-99c2b931486e"
      },
      "execution_count": null,
      "outputs": [
        {
          "output_type": "execute_result",
          "data": {
            "text/plain": [
              "17"
            ]
          },
          "metadata": {},
          "execution_count": 380
        }
      ]
    },
    {
      "cell_type": "code",
      "source": [
        "#valor máx\n",
        "\n",
        "np.max(array_Idade)"
      ],
      "metadata": {
        "colab": {
          "base_uri": "https://localhost:8080/"
        },
        "id": "DopY65FxcmHT",
        "outputId": "96794e67-b62d-465c-baa3-f2896eacbe25"
      },
      "execution_count": null,
      "outputs": [
        {
          "output_type": "execute_result",
          "data": {
            "text/plain": [
              "43"
            ]
          },
          "metadata": {},
          "execution_count": 381
        }
      ]
    },
    {
      "cell_type": "markdown",
      "source": [
        "Amplitude:"
      ],
      "metadata": {
        "id": "FdhB_r7Ccur5"
      }
    },
    {
      "cell_type": "code",
      "source": [
        "amplitude_I=(np.max(array_Idade)-np.min(array_Idade))\n",
        "print ( \"Amplitude: {}\".format( amplitude_I ) )"
      ],
      "metadata": {
        "colab": {
          "base_uri": "https://localhost:8080/"
        },
        "id": "HnLxCh0bcrLi",
        "outputId": "dc63d5e4-4d8e-4821-8ef5-de0c83faa604"
      },
      "execution_count": null,
      "outputs": [
        {
          "output_type": "stream",
          "name": "stdout",
          "text": [
            "Amplitude: 26\n"
          ]
        }
      ]
    },
    {
      "cell_type": "code",
      "metadata": {
        "id": "nA17WOWAYxf0",
        "colab": {
          "base_uri": "https://localhost:8080/"
        },
        "outputId": "56819195-e8ec-4cd9-ba1a-3b04f370dd7e"
      },
      "source": [
        "np.mean( array_Idade )"
      ],
      "execution_count": null,
      "outputs": [
        {
          "output_type": "execute_result",
          "data": {
            "text/plain": [
              "np.float64(23.0)"
            ]
          },
          "metadata": {},
          "execution_count": 383
        }
      ]
    },
    {
      "cell_type": "markdown",
      "source": [
        "Usando a função NumPy:\n"
      ],
      "metadata": {
        "id": "CcX3L1PadBbm"
      }
    },
    {
      "cell_type": "code",
      "metadata": {
        "id": "GkTCo1pTYxf3",
        "colab": {
          "base_uri": "https://localhost:8080/"
        },
        "outputId": "27de9990-5692-482b-a2fc-85257d3f17b9"
      },
      "source": [
        "np.sort( array_Idade )"
      ],
      "execution_count": null,
      "outputs": [
        {
          "output_type": "execute_result",
          "data": {
            "text/plain": [
              "array([17, 17, 17, 18, 18, 18, 18, 19, 21, 22, 32, 39, 43])"
            ]
          },
          "metadata": {},
          "execution_count": 384
        }
      ]
    },
    {
      "cell_type": "code",
      "source": [
        "#Moda\n",
        "statistics.multimode(array_Idade)"
      ],
      "metadata": {
        "colab": {
          "base_uri": "https://localhost:8080/"
        },
        "id": "tTGbt2OEec53",
        "outputId": "71cb39b2-fc79-4d4a-c421-142220b940a2"
      },
      "execution_count": null,
      "outputs": [
        {
          "output_type": "execute_result",
          "data": {
            "text/plain": [
              "[18]"
            ]
          },
          "metadata": {},
          "execution_count": 385
        }
      ]
    },
    {
      "cell_type": "markdown",
      "source": [
        "Histograma usando matplotlib:\n"
      ],
      "metadata": {
        "id": "ke61c5RIegRf"
      }
    },
    {
      "cell_type": "code",
      "metadata": {
        "id": "n4O-MCDuYxf4",
        "colab": {
          "base_uri": "https://localhost:8080/",
          "height": 591
        },
        "outputId": "65bd68db-48d8-4a6f-d8b4-231e7f7e4b3f"
      },
      "source": [
        "fig = plt.figure( figsize=(8,6) )\n",
        "\n",
        "#counts, bins, _ = plt.hist( array_Idade, bins=11, range=(17, 39) )\n",
        "#plt.xlim( 16, 43 )\n",
        "#plt.xlabel( \"Idade (anos)\", fontsize=18 )\n",
        "#plt.ylabel( \"Frequência\", fontsize=18 )\n",
        "\n",
        "bins = np.arange(array_Idade.min()-1, array_Idade.max() + 2, 2)  # Intervalos de 2 anos\n",
        "\n",
        "counts = plt.hist(array_Idade, bins=bins, edgecolor='black', alpha=0.7)\n",
        "# Configuração do gráfico\n",
        "plt.xlabel('Idade (anos)', fontsize=18)\n",
        "plt.ylabel('Frequência', fontsize=18)\n",
        "plt.title('Histograma de Idades')"
      ],
      "execution_count": null,
      "outputs": [
        {
          "output_type": "execute_result",
          "data": {
            "text/plain": [
              "Text(0.5, 1.0, 'Histograma de Idades')"
            ]
          },
          "metadata": {},
          "execution_count": 386
        },
        {
          "output_type": "display_data",
          "data": {
            "text/plain": [
              "<Figure size 800x600 with 1 Axes>"
            ],
            "image/png": "[encoded data removed]"
          },
          "metadata": {}
        }
      ]
    },
    {
      "cell_type": "markdown",
      "source": [
        "\n",
        "\n",
        "Frequência para cada intervalo:\n"
      ],
      "metadata": {
        "id": "CydWdJlCeum8"
      }
    },
    {
      "cell_type": "code",
      "source": [
        "counts"
      ],
      "metadata": {
        "colab": {
          "base_uri": "https://localhost:8080/"
        },
        "id": "ZJj6jt8JevXk",
        "outputId": "d6f25d5a-9db8-4f27-f2be-1f2d3757ec89"
      },
      "execution_count": null,
      "outputs": [
        {
          "output_type": "execute_result",
          "data": {
            "text/plain": [
              "(array([3., 5., 1., 1., 0., 0., 0., 0., 1., 0., 0., 1., 0., 1.]),\n",
              " array([16., 18., 20., 22., 24., 26., 28., 30., 32., 34., 36., 38., 40.,\n",
              "        42., 44.]),\n",
              " <BarContainer object of 14 artists>)"
            ]
          },
          "metadata": {},
          "execution_count": 387
        }
      ]
    },
    {
      "cell_type": "markdown",
      "source": [
        "Bordas dos intervalos:"
      ],
      "metadata": {
        "id": "iyFkfzVxe4vL"
      }
    },
    {
      "cell_type": "code",
      "source": [
        "bins"
      ],
      "metadata": {
        "colab": {
          "base_uri": "https://localhost:8080/"
        },
        "id": "3Vn8-PCZexSg",
        "outputId": "e2ed0ca3-38e0-49fb-907e-493f3011fd52"
      },
      "execution_count": null,
      "outputs": [
        {
          "output_type": "execute_result",
          "data": {
            "text/plain": [
              "array([16, 18, 20, 22, 24, 26, 28, 30, 32, 34, 36, 38, 40, 42, 44])"
            ]
          },
          "metadata": {},
          "execution_count": 388
        }
      ]
    },
    {
      "cell_type": "markdown",
      "source": [
        "Cálculo da média quadrática:\n"
      ],
      "metadata": {
        "id": "zaHMo0vge50A"
      }
    },
    {
      "cell_type": "code",
      "source": [
        "array_Idade**2"
      ],
      "metadata": {
        "colab": {
          "base_uri": "https://localhost:8080/",
          "height": 523
        },
        "id": "o6Kytq96e8xt",
        "outputId": "8545ee07-cd94-44f7-ea31-7cf79d5ced6c"
      },
      "execution_count": null,
      "outputs": [
        {
          "output_type": "execute_result",
          "data": {
            "text/plain": [
              "Índice\n",
              "Maria Fulana                              1521\n",
              "Bernardo Rocha                             289\n",
              "Raíssa Ferreira Rodrigues de Oliveira      324\n",
              "Rapha Marisol                              361\n",
              "Júlia Jesus Santos                         324\n",
              "Kaylane gomes dos reis                     289\n",
              "Leandro S Bolonini                        1024\n",
              "Samara                                     289\n",
              "Luís Alberto Barros Rebello da Silva       484\n",
              "DANIEL RODRIGO COIMBRA DE PAIVA           1849\n",
              "Rayan de Almeida Zaparolli                 324\n",
              "Bernardo T                                 324\n",
              "Pedro Henrique Soares Ferreira             441\n",
              "Name: Idade, dtype: int64"
            ],
            "text/html": [
              "<div>\n",
              "<style scoped>\n",
              "    .dataframe tbody tr th:only-of-type {\n",
              "        vertical-align: middle;\n",
              "    }\n",
              "\n",
              "    .dataframe tbody tr th {\n",
              "        vertical-align: top;\n",
              "    }\n",
              "\n",
              "    .dataframe thead th {\n",
              "        text-align: right;\n",
              "    }\n",
              "</style>\n",
              "<table border=\"1\" class=\"dataframe\">\n",
              "  <thead>\n",
              "    <tr style=\"text-align: right;\">\n",
              "      <th></th>\n",
              "      <th>Idade</th>\n",
              "    </tr>\n",
              "    <tr>\n",
              "      <th>Índice</th>\n",
              "      <th></th>\n",
              "    </tr>\n",
              "  </thead>\n",
              "  <tbody>\n",
              "    <tr>\n",
              "      <th>Maria Fulana</th>\n",
              "      <td>1521</td>\n",
              "    </tr>\n",
              "    <tr>\n",
              "      <th>Bernardo Rocha</th>\n",
              "      <td>289</td>\n",
              "    </tr>\n",
              "    <tr>\n",
              "      <th>Raíssa Ferreira Rodrigues de Oliveira</th>\n",
              "      <td>324</td>\n",
              "    </tr>\n",
              "    <tr>\n",
              "      <th>Rapha Marisol</th>\n",
              "      <td>361</td>\n",
              "    </tr>\n",
              "    <tr>\n",
              "      <th>Júlia Jesus Santos</th>\n",
              "      <td>324</td>\n",
              "    </tr>\n",
              "    <tr>\n",
              "      <th>Kaylane gomes dos reis</th>\n",
              "      <td>289</td>\n",
              "    </tr>\n",
              "    <tr>\n",
              "      <th>Leandro S Bolonini</th>\n",
              "      <td>1024</td>\n",
              "    </tr>\n",
              "    <tr>\n",
              "      <th>Samara</th>\n",
              "      <td>289</td>\n",
              "    </tr>\n",
              "    <tr>\n",
              "      <th>Luís Alberto Barros Rebello da Silva</th>\n",
              "      <td>484</td>\n",
              "    </tr>\n",
              "    <tr>\n",
              "      <th>DANIEL RODRIGO COIMBRA DE PAIVA</th>\n",
              "      <td>1849</td>\n",
              "    </tr>\n",
              "    <tr>\n",
              "      <th>Rayan de Almeida Zaparolli</th>\n",
              "      <td>324</td>\n",
              "    </tr>\n",
              "    <tr>\n",
              "      <th>Bernardo T</th>\n",
              "      <td>324</td>\n",
              "    </tr>\n",
              "    <tr>\n",
              "      <th>Pedro Henrique Soares Ferreira</th>\n",
              "      <td>441</td>\n",
              "    </tr>\n",
              "  </tbody>\n",
              "</table>\n",
              "</div><br><label><b>dtype:</b> int64</label>"
            ]
          },
          "metadata": {},
          "execution_count": 389
        }
      ]
    },
    {
      "cell_type": "code",
      "source": [
        "print ( \"Média quadrática: {}\".format( np.sqrt( np.mean( array_Idade ** 2 ) ) ) )"
      ],
      "metadata": {
        "colab": {
          "base_uri": "https://localhost:8080/"
        },
        "id": "hnq7BhCPe_lM",
        "outputId": "802e485d-3587-4c33-b046-189369513ef5"
      },
      "execution_count": null,
      "outputs": [
        {
          "output_type": "stream",
          "name": "stdout",
          "text": [
            "Média quadrática: 24.56232261630997\n"
          ]
        }
      ]
    },
    {
      "cell_type": "markdown",
      "source": [
        "Cálculo da Mediana:"
      ],
      "metadata": {
        "id": "r0iPtrNIfDhs"
      }
    },
    {
      "cell_type": "code",
      "source": [
        "np.median( array_Idade )"
      ],
      "metadata": {
        "colab": {
          "base_uri": "https://localhost:8080/"
        },
        "id": "uitq_sBrfF1X",
        "outputId": "f73b708b-b6ce-493a-f891-228cc442d53a"
      },
      "execution_count": null,
      "outputs": [
        {
          "output_type": "execute_result",
          "data": {
            "text/plain": [
              "np.float64(18.0)"
            ]
          },
          "metadata": {},
          "execution_count": 391
        }
      ]
    },
    {
      "cell_type": "markdown",
      "metadata": {
        "id": "3lXjn0sKLSks"
      },
      "source": [
        "Peso:"
      ]
    },
    {
      "cell_type": "code",
      "metadata": {
        "id": "fBT6qGrbLReX",
        "colab": {
          "base_uri": "https://localhost:8080/",
          "height": 523
        },
        "outputId": "1bc59dd2-fc23-4d98-c2fd-675d0291a827"
      },
      "source": [
        "#array_Peso = df.iloc[:, 1]\n",
        "array_Peso = df[ \"Massa\" ]\n",
        "array_Peso"
      ],
      "execution_count": null,
      "outputs": [
        {
          "output_type": "execute_result",
          "data": {
            "text/plain": [
              "Índice\n",
              "Maria Fulana                              68.0\n",
              "Bernardo Rocha                            75.0\n",
              "Raíssa Ferreira Rodrigues de Oliveira     60.0\n",
              "Rapha Marisol                             70.0\n",
              "Júlia Jesus Santos                        62.0\n",
              "Kaylane gomes dos reis                    45.0\n",
              "Leandro S Bolonini                        94.0\n",
              "Samara                                    75.0\n",
              "Luís Alberto Barros Rebello da Silva      94.5\n",
              "DANIEL RODRIGO COIMBRA DE PAIVA           73.0\n",
              "Rayan de Almeida Zaparolli                90.0\n",
              "Bernardo T                                60.0\n",
              "Pedro Henrique Soares Ferreira            82.0\n",
              "Name: Massa, dtype: float64"
            ],
            "text/html": [
              "<div>\n",
              "<style scoped>\n",
              "    .dataframe tbody tr th:only-of-type {\n",
              "        vertical-align: middle;\n",
              "    }\n",
              "\n",
              "    .dataframe tbody tr th {\n",
              "        vertical-align: top;\n",
              "    }\n",
              "\n",
              "    .dataframe thead th {\n",
              "        text-align: right;\n",
              "    }\n",
              "</style>\n",
              "<table border=\"1\" class=\"dataframe\">\n",
              "  <thead>\n",
              "    <tr style=\"text-align: right;\">\n",
              "      <th></th>\n",
              "      <th>Massa</th>\n",
              "    </tr>\n",
              "    <tr>\n",
              "      <th>Índice</th>\n",
              "      <th></th>\n",
              "    </tr>\n",
              "  </thead>\n",
              "  <tbody>\n",
              "    <tr>\n",
              "      <th>Maria Fulana</th>\n",
              "      <td>68.0</td>\n",
              "    </tr>\n",
              "    <tr>\n",
              "      <th>Bernardo Rocha</th>\n",
              "      <td>75.0</td>\n",
              "    </tr>\n",
              "    <tr>\n",
              "      <th>Raíssa Ferreira Rodrigues de Oliveira</th>\n",
              "      <td>60.0</td>\n",
              "    </tr>\n",
              "    <tr>\n",
              "      <th>Rapha Marisol</th>\n",
              "      <td>70.0</td>\n",
              "    </tr>\n",
              "    <tr>\n",
              "      <th>Júlia Jesus Santos</th>\n",
              "      <td>62.0</td>\n",
              "    </tr>\n",
              "    <tr>\n",
              "      <th>Kaylane gomes dos reis</th>\n",
              "      <td>45.0</td>\n",
              "    </tr>\n",
              "    <tr>\n",
              "      <th>Leandro S Bolonini</th>\n",
              "      <td>94.0</td>\n",
              "    </tr>\n",
              "    <tr>\n",
              "      <th>Samara</th>\n",
              "      <td>75.0</td>\n",
              "    </tr>\n",
              "    <tr>\n",
              "      <th>Luís Alberto Barros Rebello da Silva</th>\n",
              "      <td>94.5</td>\n",
              "    </tr>\n",
              "    <tr>\n",
              "      <th>DANIEL RODRIGO COIMBRA DE PAIVA</th>\n",
              "      <td>73.0</td>\n",
              "    </tr>\n",
              "    <tr>\n",
              "      <th>Rayan de Almeida Zaparolli</th>\n",
              "      <td>90.0</td>\n",
              "    </tr>\n",
              "    <tr>\n",
              "      <th>Bernardo T</th>\n",
              "      <td>60.0</td>\n",
              "    </tr>\n",
              "    <tr>\n",
              "      <th>Pedro Henrique Soares Ferreira</th>\n",
              "      <td>82.0</td>\n",
              "    </tr>\n",
              "  </tbody>\n",
              "</table>\n",
              "</div><br><label><b>dtype:</b> float64</label>"
            ]
          },
          "metadata": {},
          "execution_count": 392
        }
      ]
    },
    {
      "cell_type": "code",
      "source": [
        "#Amplitude\n",
        "amplitude_P=(np.max(array_Peso)-np.min(array_Peso))\n",
        "print ( \"Amplitude: {}\".format( amplitude_P ) )"
      ],
      "metadata": {
        "colab": {
          "base_uri": "https://localhost:8080/"
        },
        "id": "qUa3wWTofSk_",
        "outputId": "95fa42ea-41df-427d-906a-b5129129d0bc"
      },
      "execution_count": null,
      "outputs": [
        {
          "output_type": "stream",
          "name": "stdout",
          "text": [
            "Amplitude: 49.5\n"
          ]
        }
      ]
    },
    {
      "cell_type": "code",
      "source": [
        "np.sort( array_Peso )"
      ],
      "metadata": {
        "colab": {
          "base_uri": "https://localhost:8080/"
        },
        "id": "L0_CFmolfWDX",
        "outputId": "7ea2d3ff-4dd1-4e3b-965b-67b9ac78e7b8"
      },
      "execution_count": null,
      "outputs": [
        {
          "output_type": "execute_result",
          "data": {
            "text/plain": [
              "array([45. , 60. , 60. , 62. , 68. , 70. , 73. , 75. , 75. , 82. , 90. ,\n",
              "       94. , 94.5])"
            ]
          },
          "metadata": {},
          "execution_count": 394
        }
      ]
    },
    {
      "cell_type": "code",
      "source": [
        "#Mediana\n",
        "np.median( array_Peso )"
      ],
      "metadata": {
        "colab": {
          "base_uri": "https://localhost:8080/"
        },
        "id": "hAHh5bGDfZLv",
        "outputId": "ade2cb5e-39e5-4b6d-ef5a-1c0e0ef6cf8a"
      },
      "execution_count": null,
      "outputs": [
        {
          "output_type": "execute_result",
          "data": {
            "text/plain": [
              "np.float64(73.0)"
            ]
          },
          "metadata": {},
          "execution_count": 395
        }
      ]
    },
    {
      "cell_type": "code",
      "metadata": {
        "id": "noPnFzXSLRea",
        "colab": {
          "base_uri": "https://localhost:8080/"
        },
        "outputId": "ef5e6de6-ddbf-4217-9f43-7f7521a7764d"
      },
      "source": [
        "np.mean( array_Peso )"
      ],
      "execution_count": null,
      "outputs": [
        {
          "output_type": "execute_result",
          "data": {
            "text/plain": [
              "np.float64(72.96153846153847)"
            ]
          },
          "metadata": {},
          "execution_count": 396
        }
      ]
    },
    {
      "cell_type": "code",
      "metadata": {
        "id": "7FwJxbkHLReb",
        "colab": {
          "base_uri": "https://localhost:8080/",
          "height": 569
        },
        "outputId": "da2867c9-c366-4ab3-86d6-fe71f145a43a"
      },
      "source": [
        "fig = plt.figure( figsize=(8,6) )\n",
        "\n",
        "#counts, bins, _ = plt.hist( array_Peso, bins=11, range=(44., 99.),edgecolor='black', alpha=0.7 )\n",
        "#plt.xlim( 40., 100. )\n",
        "#plt.xlabel( \"Massa (kg)\", fontsize=18 )\n",
        "#plt.ylabel( \"Frequência\", fontsize=18 )\n",
        "\n",
        "\n",
        "\n",
        "bins = np.arange(array_Peso.min(), array_Peso.max() + 5, 5)  # Intervalos de 5 kg\n",
        "counts = plt.hist(array_Peso, bins=bins, edgecolor='black', alpha=0.7)\n",
        "plt.xlabel( \"Massa (kg)\", fontsize=18 )\n",
        "plt.ylabel( \"Frequência\", fontsize=18 )"
      ],
      "execution_count": null,
      "outputs": [
        {
          "output_type": "execute_result",
          "data": {
            "text/plain": [
              "Text(0, 0.5, 'Frequência')"
            ]
          },
          "metadata": {},
          "execution_count": 397
        },
        {
          "output_type": "display_data",
          "data": {
            "text/plain": [
              "<Figure size 800x600 with 1 Axes>"
            ],
            "image/png": "[encoded data removed]"
          },
          "metadata": {}
        }
      ]
    },
    {
      "cell_type": "code",
      "source": [
        "counts"
      ],
      "metadata": {
        "colab": {
          "base_uri": "https://localhost:8080/"
        },
        "id": "K_z1fSPHfqZe",
        "outputId": "22ccbb66-ecb5-4d0b-e7cc-5ba2f42259ff"
      },
      "execution_count": null,
      "outputs": [
        {
          "output_type": "execute_result",
          "data": {
            "text/plain": [
              "(array([1., 0., 0., 3., 1., 2., 2., 1., 0., 3.]),\n",
              " array([45., 50., 55., 60., 65., 70., 75., 80., 85., 90., 95.]),\n",
              " <BarContainer object of 10 artists>)"
            ]
          },
          "metadata": {},
          "execution_count": 398
        }
      ]
    },
    {
      "cell_type": "code",
      "source": [
        "bins"
      ],
      "metadata": {
        "colab": {
          "base_uri": "https://localhost:8080/"
        },
        "id": "-Dh2ZlRwfsa9",
        "outputId": "9e1b6a00-2b60-4538-bdb7-86ad0cc93d1e"
      },
      "execution_count": null,
      "outputs": [
        {
          "output_type": "execute_result",
          "data": {
            "text/plain": [
              "array([45., 50., 55., 60., 65., 70., 75., 80., 85., 90., 95.])"
            ]
          },
          "metadata": {},
          "execution_count": 399
        }
      ]
    },
    {
      "cell_type": "code",
      "source": [
        "statistics.multimode(array_Peso)"
      ],
      "metadata": {
        "colab": {
          "base_uri": "https://localhost:8080/"
        },
        "id": "4uEGApuzfuzK",
        "outputId": "a15e041f-59e9-422f-9138-80633b0818d5"
      },
      "execution_count": null,
      "outputs": [
        {
          "output_type": "execute_result",
          "data": {
            "text/plain": [
              "[75.0, 60.0]"
            ]
          },
          "metadata": {},
          "execution_count": 400
        }
      ]
    },
    {
      "cell_type": "code",
      "source": [
        "print ( \"Média quadrática: {}\".format( np.sqrt( np.mean( array_Peso ** 2 ) ) ) )"
      ],
      "metadata": {
        "colab": {
          "base_uri": "https://localhost:8080/"
        },
        "id": "mOy1Z8jafzC1",
        "outputId": "12c97802-1b94-46da-f7a3-bf6f4b9c5f43"
      },
      "execution_count": null,
      "outputs": [
        {
          "output_type": "stream",
          "name": "stdout",
          "text": [
            "Média quadrática: 74.29786724343491\n"
          ]
        }
      ]
    },
    {
      "cell_type": "markdown",
      "metadata": {
        "id": "oDRjgBLX6X9A"
      },
      "source": [
        "Altura:"
      ]
    },
    {
      "cell_type": "code",
      "metadata": {
        "id": "mepbn-wQ6X9D",
        "colab": {
          "base_uri": "https://localhost:8080/",
          "height": 523
        },
        "outputId": "3ce8245d-1d5d-41d6-8880-b0ce595bbbfb"
      },
      "source": [
        "#array_Altura = df.iloc[:, 2]\n",
        "array_Altura = df[ \"Altura\" ]\n",
        "array_Altura"
      ],
      "execution_count": null,
      "outputs": [
        {
          "output_type": "execute_result",
          "data": {
            "text/plain": [
              "Índice\n",
              "Maria Fulana                              1.68\n",
              "Bernardo Rocha                            1.78\n",
              "Raíssa Ferreira Rodrigues de Oliveira     1.60\n",
              "Rapha Marisol                             1.68\n",
              "Júlia Jesus Santos                        1.58\n",
              "Kaylane gomes dos reis                    1.71\n",
              "Leandro S Bolonini                        1.72\n",
              "Samara                                    1.63\n",
              "Luís Alberto Barros Rebello da Silva      1.84\n",
              "DANIEL RODRIGO COIMBRA DE PAIVA           1.68\n",
              "Rayan de Almeida Zaparolli                1.82\n",
              "Bernardo T                                1.68\n",
              "Pedro Henrique Soares Ferreira            1.86\n",
              "Name: Altura, dtype: float64"
            ],
            "text/html": [
              "<div>\n",
              "<style scoped>\n",
              "    .dataframe tbody tr th:only-of-type {\n",
              "        vertical-align: middle;\n",
              "    }\n",
              "\n",
              "    .dataframe tbody tr th {\n",
              "        vertical-align: top;\n",
              "    }\n",
              "\n",
              "    .dataframe thead th {\n",
              "        text-align: right;\n",
              "    }\n",
              "</style>\n",
              "<table border=\"1\" class=\"dataframe\">\n",
              "  <thead>\n",
              "    <tr style=\"text-align: right;\">\n",
              "      <th></th>\n",
              "      <th>Altura</th>\n",
              "    </tr>\n",
              "    <tr>\n",
              "      <th>Índice</th>\n",
              "      <th></th>\n",
              "    </tr>\n",
              "  </thead>\n",
              "  <tbody>\n",
              "    <tr>\n",
              "      <th>Maria Fulana</th>\n",
              "      <td>1.68</td>\n",
              "    </tr>\n",
              "    <tr>\n",
              "      <th>Bernardo Rocha</th>\n",
              "      <td>1.78</td>\n",
              "    </tr>\n",
              "    <tr>\n",
              "      <th>Raíssa Ferreira Rodrigues de Oliveira</th>\n",
              "      <td>1.60</td>\n",
              "    </tr>\n",
              "    <tr>\n",
              "      <th>Rapha Marisol</th>\n",
              "      <td>1.68</td>\n",
              "    </tr>\n",
              "    <tr>\n",
              "      <th>Júlia Jesus Santos</th>\n",
              "      <td>1.58</td>\n",
              "    </tr>\n",
              "    <tr>\n",
              "      <th>Kaylane gomes dos reis</th>\n",
              "      <td>1.71</td>\n",
              "    </tr>\n",
              "    <tr>\n",
              "      <th>Leandro S Bolonini</th>\n",
              "      <td>1.72</td>\n",
              "    </tr>\n",
              "    <tr>\n",
              "      <th>Samara</th>\n",
              "      <td>1.63</td>\n",
              "    </tr>\n",
              "    <tr>\n",
              "      <th>Luís Alberto Barros Rebello da Silva</th>\n",
              "      <td>1.84</td>\n",
              "    </tr>\n",
              "    <tr>\n",
              "      <th>DANIEL RODRIGO COIMBRA DE PAIVA</th>\n",
              "      <td>1.68</td>\n",
              "    </tr>\n",
              "    <tr>\n",
              "      <th>Rayan de Almeida Zaparolli</th>\n",
              "      <td>1.82</td>\n",
              "    </tr>\n",
              "    <tr>\n",
              "      <th>Bernardo T</th>\n",
              "      <td>1.68</td>\n",
              "    </tr>\n",
              "    <tr>\n",
              "      <th>Pedro Henrique Soares Ferreira</th>\n",
              "      <td>1.86</td>\n",
              "    </tr>\n",
              "  </tbody>\n",
              "</table>\n",
              "</div><br><label><b>dtype:</b> float64</label>"
            ]
          },
          "metadata": {},
          "execution_count": 402
        }
      ]
    },
    {
      "cell_type": "code",
      "source": [
        "#Amplitude\n",
        "amplitude_A=(np.max(array_Altura)-np.min(array_Altura))\n",
        "print ( \"Amplitude: {}\".format( amplitude_A ) )"
      ],
      "metadata": {
        "colab": {
          "base_uri": "https://localhost:8080/"
        },
        "id": "EufOxcJ0f4sS",
        "outputId": "8726af2f-79e9-4741-f10e-8b37221929d9"
      },
      "execution_count": null,
      "outputs": [
        {
          "output_type": "stream",
          "name": "stdout",
          "text": [
            "Amplitude: 0.28\n"
          ]
        }
      ]
    },
    {
      "cell_type": "code",
      "metadata": {
        "id": "jwbvz9N36X9F",
        "colab": {
          "base_uri": "https://localhost:8080/"
        },
        "outputId": "1e5d65a0-9b8a-4c2a-90f8-041e2df2b411"
      },
      "source": [
        "np.mean( array_Altura )"
      ],
      "execution_count": null,
      "outputs": [
        {
          "output_type": "execute_result",
          "data": {
            "text/plain": [
              "np.float64(1.712307692307692)"
            ]
          },
          "metadata": {},
          "execution_count": 404
        }
      ]
    },
    {
      "cell_type": "code",
      "metadata": {
        "id": "94H7jDKV6X9I",
        "colab": {
          "base_uri": "https://localhost:8080/"
        },
        "outputId": "76d7f19e-d452-47d5-f1b2-ef42a23a6184"
      },
      "source": [
        "np.sort( array_Altura )"
      ],
      "execution_count": null,
      "outputs": [
        {
          "output_type": "execute_result",
          "data": {
            "text/plain": [
              "array([1.58, 1.6 , 1.63, 1.68, 1.68, 1.68, 1.68, 1.71, 1.72, 1.78, 1.82,\n",
              "       1.84, 1.86])"
            ]
          },
          "metadata": {},
          "execution_count": 405
        }
      ]
    },
    {
      "cell_type": "code",
      "metadata": {
        "id": "oYPruljm6X9M",
        "colab": {
          "base_uri": "https://localhost:8080/",
          "height": 569
        },
        "outputId": "a13f6ef4-3cda-41cc-d1ff-29b0d926e404"
      },
      "source": [
        "fig = plt.figure( figsize=(8,6) )\n",
        "\n",
        "counts, bins, _ = plt.hist( array_Altura, bins=6, range=(1.56, 1.88),edgecolor='black', alpha=0.7 )\n",
        "plt.xlim( 1.55, 1.90 )\n",
        "plt.xlabel( \"Altura (m)\", fontsize=18 )\n",
        "plt.ylabel( \"Frequência\", fontsize=18 )\n",
        "\n"
      ],
      "execution_count": null,
      "outputs": [
        {
          "output_type": "execute_result",
          "data": {
            "text/plain": [
              "Text(0, 0.5, 'Frequência')"
            ]
          },
          "metadata": {},
          "execution_count": 406
        },
        {
          "output_type": "display_data",
          "data": {
            "text/plain": [
              "<Figure size 800x600 with 1 Axes>"
            ],
            "image/png": "[encoded data removed]"
          },
          "metadata": {}
        }
      ]
    },
    {
      "cell_type": "code",
      "source": [
        "#Mediana\n",
        "np.median(array_Altura)"
      ],
      "metadata": {
        "colab": {
          "base_uri": "https://localhost:8080/"
        },
        "id": "pRuKTlKJgK28",
        "outputId": "23d5ea54-d167-4993-a70c-8e81b3347d70"
      },
      "execution_count": null,
      "outputs": [
        {
          "output_type": "execute_result",
          "data": {
            "text/plain": [
              "np.float64(1.68)"
            ]
          },
          "metadata": {},
          "execution_count": 407
        }
      ]
    },
    {
      "cell_type": "code",
      "source": [
        "#Moda\n",
        "statistics.multimode(array_Altura)"
      ],
      "metadata": {
        "colab": {
          "base_uri": "https://localhost:8080/"
        },
        "id": "D_m126BbgNO_",
        "outputId": "a1fd07a4-2cf9-4e17-94fc-47f67eec77ff"
      },
      "execution_count": null,
      "outputs": [
        {
          "output_type": "execute_result",
          "data": {
            "text/plain": [
              "[1.68]"
            ]
          },
          "metadata": {},
          "execution_count": 408
        }
      ]
    },
    {
      "cell_type": "code",
      "source": [
        "print ( \"Média quadrática: {}\".format( np.sqrt( np.mean( array_Altura ** 2 ) ) ) )"
      ],
      "metadata": {
        "colab": {
          "base_uri": "https://localhost:8080/"
        },
        "id": "oo_ag8uzgPrc",
        "outputId": "db726ba8-18aa-460b-f7de-65f6ae717128"
      },
      "execution_count": null,
      "outputs": [
        {
          "output_type": "stream",
          "name": "stdout",
          "text": [
            "Média quadrática: 1.7144499005624112\n"
          ]
        }
      ]
    },
    {
      "cell_type": "markdown",
      "metadata": {
        "id": "HIiA6cYsLu40"
      },
      "source": [
        "Correlação Idade vs Peso:"
      ]
    },
    {
      "cell_type": "code",
      "metadata": {
        "id": "5ohqUW8jO_9v",
        "colab": {
          "base_uri": "https://localhost:8080/",
          "height": 574
        },
        "outputId": "5f21ca43-b820-4506-a554-f4edc02b18ae"
      },
      "source": [
        "fig = plt.figure( figsize=(8,6) )\n",
        "\n",
        "plt.plot( array_Idade, array_Peso, 'o' )\n",
        "plt.xlim( 16, 44 )\n",
        "plt.ylim( 40., 100. )\n",
        "plt.xlabel( \"Idade (anos)\", fontsize=18 )\n",
        "plt.ylabel( \"Massa (kg)\", fontsize=18 )"
      ],
      "execution_count": null,
      "outputs": [
        {
          "output_type": "execute_result",
          "data": {
            "text/plain": [
              "Text(0, 0.5, 'Massa (kg)')"
            ]
          },
          "metadata": {},
          "execution_count": 410
        },
        {
          "output_type": "display_data",
          "data": {
            "text/plain": [
              "<Figure size 800x600 with 1 Axes>"
            ],
            "image/png": "[encoded data removed]"
          },
          "metadata": {}
        }
      ]
    },
    {
      "cell_type": "markdown",
      "metadata": {
        "id": "oElstG7j72ow"
      },
      "source": [
        "Correlação Idade vs Altura:"
      ]
    },
    {
      "cell_type": "code",
      "metadata": {
        "id": "tu60RRsGO-8C",
        "colab": {
          "base_uri": "https://localhost:8080/",
          "height": 574
        },
        "outputId": "b6c60470-bd50-4a46-9932-5b80f8d6d643"
      },
      "source": [
        "fig = plt.figure( figsize=(8,6) )\n",
        "\n",
        "plt.plot( array_Idade, array_Altura, 'o' )\n",
        "plt.xlim( 16, 44 )\n",
        "plt.ylim( 1.50, 1.90 )\n",
        "plt.xlabel( \"Idade (anos)\", fontsize=18 )\n",
        "plt.ylabel( \"Altura (m)\", fontsize=18 )"
      ],
      "execution_count": null,
      "outputs": [
        {
          "output_type": "execute_result",
          "data": {
            "text/plain": [
              "Text(0, 0.5, 'Altura (m)')"
            ]
          },
          "metadata": {},
          "execution_count": 411
        },
        {
          "output_type": "display_data",
          "data": {
            "text/plain": [
              "<Figure size 800x600 with 1 Axes>"
            ],
            "image/png": "[encoded data removed]"
          },
          "metadata": {}
        }
      ]
    },
    {
      "cell_type": "markdown",
      "metadata": {
        "id": "1mYE-XKC78A5"
      },
      "source": [
        "Correlação Altura vs Peso:"
      ]
    },
    {
      "cell_type": "code",
      "metadata": {
        "id": "Z3BO_y96Oc9X",
        "colab": {
          "base_uri": "https://localhost:8080/",
          "height": 574
        },
        "outputId": "952a031b-300e-4d0b-a3d9-648ffadedf04"
      },
      "source": [
        "fig = plt.figure( figsize=(8,6) )\n",
        "\n",
        "plt.plot( array_Peso.dropna(), array_Altura.dropna(), 'o' )\n",
        "plt.xlim( 40., 100. )\n",
        "plt.ylim( 1.50, 1.90 )\n",
        "plt.xlabel( \"Altura (m)\", fontsize=18 )\n",
        "plt.ylabel( \"Peso (kg)\", fontsize=18 )"
      ],
      "execution_count": null,
      "outputs": [
        {
          "output_type": "execute_result",
          "data": {
            "text/plain": [
              "Text(0, 0.5, 'Peso (kg)')"
            ]
          },
          "metadata": {},
          "execution_count": 412
        },
        {
          "output_type": "display_data",
          "data": {
            "text/plain": [
              "<Figure size 800x600 with 1 Axes>"
            ],
            "image/png": "[encoded data removed]"
          },
          "metadata": {}
        }
      ]
    },
    {
      "cell_type": "markdown",
      "metadata": {
        "id": "PuR39MMf9bve"
      },
      "source": [
        "Cálculo das variâncias:\n"
      ]
    },
    {
      "cell_type": "code",
      "metadata": {
        "id": "3frHMs3X3pue",
        "colab": {
          "base_uri": "https://localhost:8080/"
        },
        "outputId": "d5bc2311-96ca-46a9-db9d-65f21666651c"
      },
      "source": [
        "# Diferença entre média dos quadrados e quadrado da média\n",
        "np.mean( array_Idade ** 2 ) - np.mean( array_Idade ) ** 2"
      ],
      "execution_count": null,
      "outputs": [
        {
          "output_type": "execute_result",
          "data": {
            "text/plain": [
              "np.float64(74.30769230769226)"
            ]
          },
          "metadata": {},
          "execution_count": 413
        }
      ]
    },
    {
      "cell_type": "code",
      "metadata": {
        "id": "JA1pDPD338r-",
        "colab": {
          "base_uri": "https://localhost:8080/"
        },
        "outputId": "61735031-7fe5-4de7-ea90-ba13375d3d5a"
      },
      "source": [
        "np.mean( array_Peso ** 2 ) - np.mean( array_Peso ) ** 2"
      ],
      "execution_count": null,
      "outputs": [
        {
          "output_type": "execute_result",
          "data": {
            "text/plain": [
              "np.float64(196.78698224851996)"
            ]
          },
          "metadata": {},
          "execution_count": 414
        }
      ]
    },
    {
      "cell_type": "code",
      "metadata": {
        "id": "RbvAcx7l3_ez",
        "colab": {
          "base_uri": "https://localhost:8080/"
        },
        "outputId": "57dd617d-1216-44e3-cdfe-5b1e57b428b3"
      },
      "source": [
        "np.mean( array_Altura ** 2 ) - np.mean( array_Altura ) ** 2"
      ],
      "execution_count": null,
      "outputs": [
        {
          "output_type": "execute_result",
          "data": {
            "text/plain": [
              "np.float64(0.007340828402367716)"
            ]
          },
          "metadata": {},
          "execution_count": 415
        }
      ]
    },
    {
      "cell_type": "markdown",
      "metadata": {
        "id": "diQ3GwUO9gKz"
      },
      "source": [
        "Usando NumPy:"
      ]
    },
    {
      "cell_type": "code",
      "metadata": {
        "id": "OEcY4BmYNKk9",
        "colab": {
          "base_uri": "https://localhost:8080/"
        },
        "outputId": "7386e234-c48b-465c-cd61-f1e3054c1ad0"
      },
      "source": [
        "var_Idade = np.var( array_Idade, ddof=0 ) #populacional\n",
        "var_Idade"
      ],
      "execution_count": null,
      "outputs": [
        {
          "output_type": "execute_result",
          "data": {
            "text/plain": [
              "74.3076923076923"
            ]
          },
          "metadata": {},
          "execution_count": 416
        }
      ]
    },
    {
      "cell_type": "code",
      "metadata": {
        "id": "MrsxjlvHNL50",
        "colab": {
          "base_uri": "https://localhost:8080/"
        },
        "outputId": "c2e67a74-5a09-4a78-fcef-132e7900ea79"
      },
      "source": [
        "var_Peso = np.var( array_Peso, ddof=0 )\n",
        "var_Peso"
      ],
      "execution_count": null,
      "outputs": [
        {
          "output_type": "execute_result",
          "data": {
            "text/plain": [
              "196.78698224852073"
            ]
          },
          "metadata": {},
          "execution_count": 417
        }
      ]
    },
    {
      "cell_type": "code",
      "metadata": {
        "id": "MAkHtP6sMda1",
        "colab": {
          "base_uri": "https://localhost:8080/"
        },
        "outputId": "67d50bcb-01d8-4aa4-8adc-8f90a0482bf0"
      },
      "source": [
        "var_Altura = np.var( array_Altura, ddof=0 )\n",
        "var_Altura"
      ],
      "execution_count": null,
      "outputs": [
        {
          "output_type": "execute_result",
          "data": {
            "text/plain": [
              "0.00734082840236687"
            ]
          },
          "metadata": {},
          "execution_count": 418
        }
      ]
    },
    {
      "cell_type": "code",
      "source": [
        "dp_Idade=np.std( array_Idade.dropna(), ddof=0 )\n",
        "dp_Idade"
      ],
      "metadata": {
        "colab": {
          "base_uri": "https://localhost:8080/"
        },
        "id": "REhQDo4ogtCj",
        "outputId": "3888bb41-77b1-48ee-a11a-dab801a24333"
      },
      "execution_count": null,
      "outputs": [
        {
          "output_type": "execute_result",
          "data": {
            "text/plain": [
              "8.620190967008348"
            ]
          },
          "metadata": {},
          "execution_count": 419
        }
      ]
    },
    {
      "cell_type": "code",
      "source": [
        "dp_Peso=np.std( array_Peso.dropna(), ddof=0 )\n",
        "dp_Peso"
      ],
      "metadata": {
        "colab": {
          "base_uri": "https://localhost:8080/"
        },
        "id": "iMCoXSWKg4vD",
        "outputId": "6c40de9a-9283-4911-8d1c-c71a7cf7587e"
      },
      "execution_count": null,
      "outputs": [
        {
          "output_type": "execute_result",
          "data": {
            "text/plain": [
              "14.028078351952583"
            ]
          },
          "metadata": {},
          "execution_count": 420
        }
      ]
    },
    {
      "cell_type": "code",
      "source": [
        "dp_Altura=np.std( array_Altura.dropna(), ddof=0 )\n",
        "dp_Altura"
      ],
      "metadata": {
        "colab": {
          "base_uri": "https://localhost:8080/"
        },
        "id": "mFHGMXPLg7hB",
        "outputId": "18c9c591-d34c-4db6-855e-f4adf1e7fa40"
      },
      "execution_count": null,
      "outputs": [
        {
          "output_type": "execute_result",
          "data": {
            "text/plain": [
              "0.08567863445671196"
            ]
          },
          "metadata": {},
          "execution_count": 421
        }
      ]
    },
    {
      "cell_type": "markdown",
      "metadata": {
        "id": "CD-59vvb4T5v"
      },
      "source": [
        "Cálculo das covariâncias:"
      ]
    },
    {
      "cell_type": "code",
      "metadata": {
        "id": "AVpoFaUO4WVO",
        "colab": {
          "base_uri": "https://localhost:8080/",
          "height": 523
        },
        "outputId": "ed1ec37b-9acb-47bb-8fc4-f6436de03c05"
      },
      "source": [
        "# Sequência com valores dos produtos dos elementos de mesmo índice dos arrays\n",
        "array_Idade * array_Peso"
      ],
      "execution_count": null,
      "outputs": [
        {
          "output_type": "execute_result",
          "data": {
            "text/plain": [
              "Índice\n",
              "Maria Fulana                              2652.0\n",
              "Bernardo Rocha                            1275.0\n",
              "Raíssa Ferreira Rodrigues de Oliveira     1080.0\n",
              "Rapha Marisol                             1330.0\n",
              "Júlia Jesus Santos                        1116.0\n",
              "Kaylane gomes dos reis                     765.0\n",
              "Leandro S Bolonini                        3008.0\n",
              "Samara                                    1275.0\n",
              "Luís Alberto Barros Rebello da Silva      2079.0\n",
              "DANIEL RODRIGO COIMBRA DE PAIVA           3139.0\n",
              "Rayan de Almeida Zaparolli                1620.0\n",
              "Bernardo T                                1080.0\n",
              "Pedro Henrique Soares Ferreira            1722.0\n",
              "dtype: float64"
            ],
            "text/html": [
              "<div>\n",
              "<style scoped>\n",
              "    .dataframe tbody tr th:only-of-type {\n",
              "        vertical-align: middle;\n",
              "    }\n",
              "\n",
              "    .dataframe tbody tr th {\n",
              "        vertical-align: top;\n",
              "    }\n",
              "\n",
              "    .dataframe thead th {\n",
              "        text-align: right;\n",
              "    }\n",
              "</style>\n",
              "<table border=\"1\" class=\"dataframe\">\n",
              "  <thead>\n",
              "    <tr style=\"text-align: right;\">\n",
              "      <th></th>\n",
              "      <th>0</th>\n",
              "    </tr>\n",
              "    <tr>\n",
              "      <th>Índice</th>\n",
              "      <th></th>\n",
              "    </tr>\n",
              "  </thead>\n",
              "  <tbody>\n",
              "    <tr>\n",
              "      <th>Maria Fulana</th>\n",
              "      <td>2652.0</td>\n",
              "    </tr>\n",
              "    <tr>\n",
              "      <th>Bernardo Rocha</th>\n",
              "      <td>1275.0</td>\n",
              "    </tr>\n",
              "    <tr>\n",
              "      <th>Raíssa Ferreira Rodrigues de Oliveira</th>\n",
              "      <td>1080.0</td>\n",
              "    </tr>\n",
              "    <tr>\n",
              "      <th>Rapha Marisol</th>\n",
              "      <td>1330.0</td>\n",
              "    </tr>\n",
              "    <tr>\n",
              "      <th>Júlia Jesus Santos</th>\n",
              "      <td>1116.0</td>\n",
              "    </tr>\n",
              "    <tr>\n",
              "      <th>Kaylane gomes dos reis</th>\n",
              "      <td>765.0</td>\n",
              "    </tr>\n",
              "    <tr>\n",
              "      <th>Leandro S Bolonini</th>\n",
              "      <td>3008.0</td>\n",
              "    </tr>\n",
              "    <tr>\n",
              "      <th>Samara</th>\n",
              "      <td>1275.0</td>\n",
              "    </tr>\n",
              "    <tr>\n",
              "      <th>Luís Alberto Barros Rebello da Silva</th>\n",
              "      <td>2079.0</td>\n",
              "    </tr>\n",
              "    <tr>\n",
              "      <th>DANIEL RODRIGO COIMBRA DE PAIVA</th>\n",
              "      <td>3139.0</td>\n",
              "    </tr>\n",
              "    <tr>\n",
              "      <th>Rayan de Almeida Zaparolli</th>\n",
              "      <td>1620.0</td>\n",
              "    </tr>\n",
              "    <tr>\n",
              "      <th>Bernardo T</th>\n",
              "      <td>1080.0</td>\n",
              "    </tr>\n",
              "    <tr>\n",
              "      <th>Pedro Henrique Soares Ferreira</th>\n",
              "      <td>1722.0</td>\n",
              "    </tr>\n",
              "  </tbody>\n",
              "</table>\n",
              "</div><br><label><b>dtype:</b> float64</label>"
            ]
          },
          "metadata": {},
          "execution_count": 422
        }
      ]
    },
    {
      "cell_type": "code",
      "metadata": {
        "id": "ggLeCV384Wx-",
        "colab": {
          "base_uri": "https://localhost:8080/"
        },
        "outputId": "d002749e-f2d3-44db-9573-76c9d313b0ce"
      },
      "source": [
        "# Covariância: diferença entre média dos produtos e produto das médias\n",
        "np.mean( array_Idade * array_Peso ) - np.mean( array_Idade ) * np.mean( array_Peso )"
      ],
      "execution_count": null,
      "outputs": [
        {
          "output_type": "execute_result",
          "data": {
            "text/plain": [
              "np.float64(25.038461538461434)"
            ]
          },
          "metadata": {},
          "execution_count": 423
        }
      ]
    },
    {
      "cell_type": "code",
      "metadata": {
        "id": "vBWeOKOH5D_x",
        "colab": {
          "base_uri": "https://localhost:8080/"
        },
        "outputId": "bc5a2a63-3323-42dd-a0c0-2e469c087757"
      },
      "source": [
        "np.mean( array_Idade * array_Altura ) - np.mean( array_Idade ) * np.mean( array_Altura )"
      ],
      "execution_count": null,
      "outputs": [
        {
          "output_type": "execute_result",
          "data": {
            "text/plain": [
              "np.float64(-0.03384615384614875)"
            ]
          },
          "metadata": {},
          "execution_count": 424
        }
      ]
    },
    {
      "cell_type": "code",
      "metadata": {
        "id": "yHoapbud5ETx",
        "colab": {
          "base_uri": "https://localhost:8080/"
        },
        "outputId": "127b9441-7d8e-4698-b5c7-e08ef435b3e0"
      },
      "source": [
        "np.mean( array_Peso * array_Altura ) - np.mean( array_Peso ) * np.mean( array_Altura )"
      ],
      "execution_count": null,
      "outputs": [
        {
          "output_type": "execute_result",
          "data": {
            "text/plain": [
              "np.float64(0.7458579881656817)"
            ]
          },
          "metadata": {},
          "execution_count": 425
        }
      ]
    },
    {
      "cell_type": "markdown",
      "metadata": {
        "id": "d3S0LWvM5Rlm"
      },
      "source": [
        "Usando NumPy:"
      ]
    },
    {
      "cell_type": "code",
      "metadata": {
        "id": "mSnzM624MR07",
        "colab": {
          "base_uri": "https://localhost:8080/"
        },
        "outputId": "5f5bc1d9-d941-4160-e239-04ebcd24185a"
      },
      "source": [
        "# (Idade, Peso)\n",
        "cov_Idade_Peso = np.cov( array_Idade, array_Peso, ddof=0 )\n",
        "cov_Idade_Peso"
      ],
      "execution_count": null,
      "outputs": [
        {
          "output_type": "execute_result",
          "data": {
            "text/plain": [
              "array([[ 74.30769231,  25.03846154],\n",
              "       [ 25.03846154, 196.78698225]])"
            ]
          },
          "metadata": {},
          "execution_count": 426
        }
      ]
    },
    {
      "cell_type": "code",
      "metadata": {
        "id": "z3JaVynyOO4V",
        "colab": {
          "base_uri": "https://localhost:8080/"
        },
        "outputId": "b8e3cc88-b314-4c9e-9700-9d98e8b89f3f"
      },
      "source": [
        "# Variância Idade\n",
        "cov_Idade_Peso[0,0]"
      ],
      "execution_count": null,
      "outputs": [
        {
          "output_type": "execute_result",
          "data": {
            "text/plain": [
              "np.float64(74.3076923076923)"
            ]
          },
          "metadata": {},
          "execution_count": 427
        }
      ]
    },
    {
      "cell_type": "code",
      "metadata": {
        "id": "Iwtl3UZOOO4W",
        "colab": {
          "base_uri": "https://localhost:8080/"
        },
        "outputId": "93dce7a8-02cb-4921-a4a4-84c981fc8082"
      },
      "source": [
        "# Variância Peso\n",
        "cov_Idade_Peso[1,1]"
      ],
      "execution_count": null,
      "outputs": [
        {
          "output_type": "execute_result",
          "data": {
            "text/plain": [
              "np.float64(196.78698224852073)"
            ]
          },
          "metadata": {},
          "execution_count": 428
        }
      ]
    },
    {
      "cell_type": "code",
      "metadata": {
        "id": "pvo-FpbpOO4W",
        "colab": {
          "base_uri": "https://localhost:8080/"
        },
        "outputId": "aff7b90b-6fe2-45fa-f30a-19a653c33009"
      },
      "source": [
        "# Covariância (Idade,Peso)\n",
        "cov_Idade_Peso[0,1]"
      ],
      "execution_count": null,
      "outputs": [
        {
          "output_type": "execute_result",
          "data": {
            "text/plain": [
              "np.float64(25.03846153846154)"
            ]
          },
          "metadata": {},
          "execution_count": 429
        }
      ]
    },
    {
      "cell_type": "code",
      "metadata": {
        "id": "_AuoYix9OO4W",
        "colab": {
          "base_uri": "https://localhost:8080/"
        },
        "outputId": "bb814547-5758-4e3d-b8b7-9d9fd068c40b"
      },
      "source": [
        "# Coeficiente de correlação\n",
        "cov_Idade_Peso[0,1] / ( np.sqrt( var_Idade ) * np.sqrt( var_Peso ) )"
      ],
      "execution_count": null,
      "outputs": [
        {
          "output_type": "execute_result",
          "data": {
            "text/plain": [
              "np.float64(0.2070582650093272)"
            ]
          },
          "metadata": {},
          "execution_count": 430
        }
      ]
    },
    {
      "cell_type": "code",
      "metadata": {
        "id": "NCEbDA06JBE_",
        "colab": {
          "base_uri": "https://localhost:8080/"
        },
        "outputId": "5006c51f-53c2-4cf7-9c6b-69e7530f3bdf"
      },
      "source": [
        "# (Idade, Altura)\n",
        "cov_Idade_Altura = np.cov( array_Idade, array_Altura, ddof=0 )\n",
        "cov_Idade_Altura"
      ],
      "execution_count": null,
      "outputs": [
        {
          "output_type": "execute_result",
          "data": {
            "text/plain": [
              "array([[ 7.43076923e+01, -3.38461538e-02],\n",
              "       [-3.38461538e-02,  7.34082840e-03]])"
            ]
          },
          "metadata": {},
          "execution_count": 431
        }
      ]
    },
    {
      "cell_type": "code",
      "metadata": {
        "id": "U5oMGrxXN-Qi",
        "colab": {
          "base_uri": "https://localhost:8080/"
        },
        "outputId": "8ee14c8c-a76f-4523-d0d6-3fb77391ebdc"
      },
      "source": [
        "# Variância Idade\n",
        "cov_Idade_Altura[0,0]"
      ],
      "execution_count": null,
      "outputs": [
        {
          "output_type": "execute_result",
          "data": {
            "text/plain": [
              "np.float64(74.3076923076923)"
            ]
          },
          "metadata": {},
          "execution_count": 432
        }
      ]
    },
    {
      "cell_type": "code",
      "metadata": {
        "id": "lLNLauhAN-Qq",
        "colab": {
          "base_uri": "https://localhost:8080/"
        },
        "outputId": "35d5cbd6-40e8-465a-fe9c-f56266cc4664"
      },
      "source": [
        "# Variância Altura\n",
        "cov_Idade_Altura[1,1]"
      ],
      "execution_count": null,
      "outputs": [
        {
          "output_type": "execute_result",
          "data": {
            "text/plain": [
              "np.float64(0.007340828402366868)"
            ]
          },
          "metadata": {},
          "execution_count": 433
        }
      ]
    },
    {
      "cell_type": "code",
      "metadata": {
        "id": "-oIr5uPVN-Qq",
        "colab": {
          "base_uri": "https://localhost:8080/"
        },
        "outputId": "c930421c-fe9a-47f6-d5ad-2617fd58baf3"
      },
      "source": [
        "# Covariância (Idade,Altura)\n",
        "cov_Idade_Altura[0,1]"
      ],
      "execution_count": null,
      "outputs": [
        {
          "output_type": "execute_result",
          "data": {
            "text/plain": [
              "np.float64(-0.033846153846154046)"
            ]
          },
          "metadata": {},
          "execution_count": 434
        }
      ]
    },
    {
      "cell_type": "code",
      "metadata": {
        "id": "rhOoYW7FN-Qq",
        "colab": {
          "base_uri": "https://localhost:8080/"
        },
        "outputId": "7a649cd3-d16e-4061-866b-d8fcc50c5cc8"
      },
      "source": [
        "# Coeficiente de correlação\n",
        "cov_Idade_Altura[0,1] / ( np.sqrt( var_Idade ) * np.sqrt( var_Altura ) )"
      ],
      "execution_count": null,
      "outputs": [
        {
          "output_type": "execute_result",
          "data": {
            "text/plain": [
              "np.float64(-0.04582683890399004)"
            ]
          },
          "metadata": {},
          "execution_count": 435
        }
      ]
    },
    {
      "cell_type": "code",
      "metadata": {
        "id": "oO8HSqI0I-cW",
        "colab": {
          "base_uri": "https://localhost:8080/"
        },
        "outputId": "844483c7-e2e7-4e59-8d7a-b3d0bf1f7899"
      },
      "source": [
        "# (Peso, Altura)\n",
        "cov_Peso_Altura = np.cov( array_Peso, array_Altura, ddof=0 )\n",
        "cov_Peso_Altura"
      ],
      "execution_count": null,
      "outputs": [
        {
          "output_type": "execute_result",
          "data": {
            "text/plain": [
              "array([[1.96786982e+02, 7.45857988e-01],\n",
              "       [7.45857988e-01, 7.34082840e-03]])"
            ]
          },
          "metadata": {},
          "execution_count": 436
        }
      ]
    },
    {
      "cell_type": "code",
      "metadata": {
        "id": "cizq8oJDNmc2",
        "colab": {
          "base_uri": "https://localhost:8080/"
        },
        "outputId": "33f85f32-4949-4f52-d7d8-a6c0a88d99bf"
      },
      "source": [
        "# Variância Peso\n",
        "cov_Peso_Altura[0,0]"
      ],
      "execution_count": null,
      "outputs": [
        {
          "output_type": "execute_result",
          "data": {
            "text/plain": [
              "np.float64(196.78698224852073)"
            ]
          },
          "metadata": {},
          "execution_count": 437
        }
      ]
    },
    {
      "cell_type": "code",
      "metadata": {
        "id": "FZ79z7OONrXG",
        "colab": {
          "base_uri": "https://localhost:8080/"
        },
        "outputId": "0a42d20c-c82f-4402-bac5-69664776beed"
      },
      "source": [
        "# Variância Altura\n",
        "cov_Peso_Altura[1,1]"
      ],
      "execution_count": null,
      "outputs": [
        {
          "output_type": "execute_result",
          "data": {
            "text/plain": [
              "np.float64(0.007340828402366868)"
            ]
          },
          "metadata": {},
          "execution_count": 438
        }
      ]
    },
    {
      "cell_type": "code",
      "metadata": {
        "id": "dK5TZRaDNr8R",
        "colab": {
          "base_uri": "https://localhost:8080/"
        },
        "outputId": "8af883be-d2cf-41e2-8bf4-9a5cfdc0c5dd"
      },
      "source": [
        "# Covariância (Peso,Altura)\n",
        "cov_Peso_Altura[0,1]"
      ],
      "execution_count": null,
      "outputs": [
        {
          "output_type": "execute_result",
          "data": {
            "text/plain": [
              "np.float64(0.7458579881656808)"
            ]
          },
          "metadata": {},
          "execution_count": 439
        }
      ]
    },
    {
      "cell_type": "code",
      "metadata": {
        "id": "7jhndEK8NxiA",
        "colab": {
          "base_uri": "https://localhost:8080/"
        },
        "outputId": "d6901d2f-6f6c-4739-bedf-40ec2b2f8a97"
      },
      "source": [
        "# Coeficiente de correlação\n",
        "cov_Peso_Altura[0,1] / ( np.sqrt( var_Peso ) * np.sqrt( var_Altura ) )"
      ],
      "execution_count": null,
      "outputs": [
        {
          "output_type": "execute_result",
          "data": {
            "text/plain": [
              "np.float64(0.6205623547404199)"
            ]
          },
          "metadata": {},
          "execution_count": 440
        }
      ]
    },
    {
      "cell_type": "code",
      "metadata": {
        "id": "6L63PcO18qmY"
      },
      "source": [],
      "execution_count": null,
      "outputs": []
    }
  ]
}