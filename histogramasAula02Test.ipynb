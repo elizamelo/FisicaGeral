{
  "nbformat": 4,
  "nbformat_minor": 0,
  "metadata": {
    "colab": {
      "provenance": [],
      "include_colab_link": true
    },
    "kernelspec": {
      "name": "python3",
      "display_name": "Python 3"
    }
  },
  "cells": [
    {
      "cell_type": "markdown",
      "metadata": {
        "id": "view-in-github",
        "colab_type": "text"
      },
      "source": [
        "<a href=\"https://colab.research.google.com/github/elizamelo/FisicaGeral/blob/main/histogramasAula02Test.ipynb\" target=\"_parent\"><img src=\"https://colab.research.google.com/assets/colab-badge.svg\" alt=\"Open In Colab\"/></a>"
      ]
    },
    {
      "cell_type": "markdown",
      "metadata": {
        "id": "XaNhcQ395QEd"
      },
      "source": [
        "# Como visualizar dados usando Python\n",
        "\n",
        "Vamos aprender aqui como visualizar um conjunto de dados utilizando Python como ferramenta. O nosso objetivo é construir **histogramas** e **gráficos**.\n",
        "\n",
        "A ferramenta que estamos usando é o [Google Colaboratory](https://colab.research.google.com/).\n",
        "\n",
        "O [Google Colaboratory](https://colab.research.google.com/) é um ambiente no seu navegador que usa a nuvem do Google. É construído em cima do [Jupyter Notebook](https://jupyter.org/) e usa Python como linguagem de programação.\n",
        "\n",
        "Em outras palavras, vamos aprender a **programar** histogramas e gráficos para visualizar dados, usando uma linguagem de programação chamada **Python**.\n",
        "\n",
        "### Mas o que é Python?\n",
        "\n",
        "Python é uma **linguagem de programação** de propósito geral.\n",
        "\n",
        "É uma das linguagens de programação mais usadas no mundo atualmente. \n",
        "\n",
        "   + É intuitiva e de rápida aprendizagem.\n",
        "   + Integra uma vasta biblioteca para computação científica e análise de dados: matplotlib, NumPy, pandas, SciPy, statsmodel, scikit-learn, etc. \n",
        "   + É \"portátil\": o código escrito em Python pode ser processado em qualquer sistema ou plataforma.\n",
        "\n",
        "\n",
        "Para mais informações, você pode acessar o site oficial de [Python](https://www.python.org/) (em inglês) ou [Python-Brasil](https://www.python.org.br/).\n",
        "\n",
        "\n",
        "### O que são histogramas?\n",
        "Um histograma é uma forma de representar um conjunto de dados. Em particular, um histograma representa a frequência com que um determinado valor aparece em um determinado conjunto contínuo de dados.\n",
        "\n",
        "Por exemplo, se considerarmos o seguinte conjunto de idades de um grupo de pessoas"
      ]
    },
    {
      "cell_type": "code",
      "metadata": {
        "colab": {
          "base_uri": "https://localhost:8080/"
        },
        "id": "KjIggCsmhjMy",
        "outputId": "6083a67c-28f1-470e-91de-40ba295720fd"
      },
      "source": [
        "3-5"
      ],
      "execution_count": 1,
      "outputs": [
        {
          "output_type": "execute_result",
          "data": {
            "text/plain": [
              "-2"
            ]
          },
          "metadata": {},
          "execution_count": 1
        }
      ]
    },
    {
      "cell_type": "code",
      "metadata": {
        "id": "OgkU7qmKLXpq"
      },
      "source": [
        "#idades = [36,25,38,46,55,68,72,55,36,38,67,45,22,48,91,46,52,61,58,55] #(anos)\n",
        "\n",
        " #(anos)"
      ],
      "execution_count": null,
      "outputs": []
    },
    {
      "cell_type": "markdown",
      "metadata": {
        "id": "4xaxuvgmNEOg"
      },
      "source": [
        "1. Qual é a menor idade?\n",
        "1. E a maior?\n",
        "1. Qual a diferença entre a menor e a maior idade?\n",
        "1. Qual é a idade que aparece com maior frequência?"
      ]
    },
    {
      "cell_type": "markdown",
      "metadata": {
        "id": "JXjczaOcOLvm"
      },
      "source": [
        "## Representação do conjunto das idades\n",
        "Abaixo, colocamos as idades em um **histograma**, onde consideramos intervalos de 1 ano para representar as idades.\n",
        "\n",
        "**Observação**: para rodar o código abaixo e produzir o histograma, basta clicar na setinha que se encontra no canto esquerdo ao alto."
      ]
    },
    {
      "cell_type": "code",
      "metadata": {
        "colab": {
          "base_uri": "https://localhost:8080/"
        },
        "id": "Cw6vlT4p1ny6",
        "outputId": "867530fc-59c8-4b1f-a28a-60c0d7bc57cc"
      },
      "source": [
        "15-6\n",
        " "
      ],
      "execution_count": 3,
      "outputs": [
        {
          "output_type": "execute_result",
          "data": {
            "text/plain": [
              "9"
            ]
          },
          "metadata": {},
          "execution_count": 3
        }
      ]
    },
    {
      "cell_type": "code",
      "metadata": {
        "id": "BDvYdHrvNdNI",
        "colab": {
          "base_uri": "https://localhost:8080/",
          "height": 472
        },
        "outputId": "3179ada2-f3b3-476d-e231-33b6792d23d0"
      },
      "source": [
        "import numpy as np\n",
        "import matplotlib as mpl\n",
        "import matplotlib.pyplot as plt\n",
        "\n",
        "#Turma 2\n",
        "idades =[10, 7, 10, 11, 10, 15, 8, 12,14, 9, 6, 8, 7, 14, 10, 10, 7,12, 12, 9, 13, 10, 9, 8] #anos\n",
        "plt.hist(idades, bins=10, range=[6,15])\n",
        "plt.xlabel('idade (anos)')\n",
        "plt.ylabel('frequência')\n",
        "plt.title('Histograma das idades de um grupo de pessoas')\n",
        "\n",
        "plt.show()"
      ],
      "execution_count": 5,
      "outputs": [
        {
          "output_type": "display_data",
          "data": {
            "text/plain": [
              "<Figure size 640x480 with 1 Axes>"
            ],
            "image/png": "[encoded data removed]"
          },
          "metadata": {}
        }
      ]
    },
    {
      "cell_type": "markdown",
      "metadata": {
        "id": "ucam_N-pOiax"
      },
      "source": [
        "O histograma acima, representa a **distribuição** das idades, organizadas em intervalos de 1 ano. Colocamos o título em cada eixo, para determinar o que representam. É importante determinar os títulos dos eixos e a unidades correspondente.\n",
        "\n",
        "E se decidirmos representar as idades em intervalos de 10 anos? Como ficaria essa distribuição?\n",
        "Vamos ver!\n",
        "\n",
        "No código de Python que estamos construindo, o que controla os intervalos (também chamamos esses intervalos de **classes de frequência**) é a **variável** chamada de \"bins\". A variável chamada \"range\" (que é opcional), determina a variação dos valores do eixo-x. No nosso exemplo das idades, o intervalo do eixo-x é de 6 a 15, que são a menor e maior idade do conjunto, respectivamente."
      ]
    },
    {
      "cell_type": "code",
      "metadata": {
        "id": "inl3CpdKPnAc",
        "colab": {
          "base_uri": "https://localhost:8080/",
          "height": 472
        },
        "outputId": "c3cd7509-b114-454a-94b0-6afbd7ca576e"
      },
      "source": [
        "plt.hist(idades, bins=[6,16])\n",
        "plt.xlabel('idade (anos)')\n",
        "plt.ylabel('frequência')\n",
        "plt.title('Histograma das idades de um grupo de pessoas')\n",
        "plt.show()"
      ],
      "execution_count": 7,
      "outputs": [
        {
          "output_type": "display_data",
          "data": {
            "text/plain": [
              "<Figure size 640x480 with 1 Axes>"
            ],
            "image/png": "[encoded data removed]"
          },
          "metadata": {}
        }
      ]
    },
    {
      "cell_type": "code",
      "source": [
        "fig = plt.figure( figsize=(8,6) )\n",
        "\n",
        "counts, bins, _ = plt.hist( idades, bins=10, range=(6,15) )\n",
        "plt.xlim( 0, 20 )\n",
        "plt.xlabel( \"Idades (anos)\", fontsize=18 )\n",
        "plt.ylabel( \"Frequência\", fontsize=18 )"
      ],
      "metadata": {
        "colab": {
          "base_uri": "https://localhost:8080/",
          "height": 569
        },
        "id": "enPfs8JdffSd",
        "outputId": "897135b0-08e2-4af6-ee2a-7e1b798e995a"
      },
      "execution_count": 14,
      "outputs": [
        {
          "output_type": "execute_result",
          "data": {
            "text/plain": [
              "Text(0, 0.5, 'Frequência')"
            ]
          },
          "metadata": {},
          "execution_count": 14
        },
        {
          "output_type": "display_data",
          "data": {
            "text/plain": [
              "<Figure size 800x600 with 1 Axes>"
            ],
            "image/png": "[encoded data removed]"
          },
          "metadata": {}
        }
      ]
    },
    {
      "cell_type": "markdown",
      "source": [
        "Frequência para cada intervalo:\n",
        "\n"
      ],
      "metadata": {
        "id": "Vb1QxVeIgh4m"
      }
    },
    {
      "cell_type": "code",
      "source": [
        "counts"
      ],
      "metadata": {
        "colab": {
          "base_uri": "https://localhost:8080/"
        },
        "id": "B6rcUr2Agk99",
        "outputId": "db50c142-5bf6-4a09-b3e5-381a168f62f1"
      },
      "execution_count": 15,
      "outputs": [
        {
          "output_type": "execute_result",
          "data": {
            "text/plain": [
              "array([1., 3., 3., 3., 6., 1., 3., 1., 2., 1.])"
            ]
          },
          "metadata": {},
          "execution_count": 15
        }
      ]
    },
    {
      "cell_type": "markdown",
      "source": [
        "Bordas dos intervalos:"
      ],
      "metadata": {
        "id": "FKLFq4ddg2lv"
      }
    },
    {
      "cell_type": "code",
      "source": [
        "bins"
      ],
      "metadata": {
        "colab": {
          "base_uri": "https://localhost:8080/"
        },
        "id": "fouB3IErg-Uf",
        "outputId": "431a05f6-d88b-4e59-e11c-37c5b138b9b1"
      },
      "execution_count": 16,
      "outputs": [
        {
          "output_type": "execute_result",
          "data": {
            "text/plain": [
              "array([ 6. ,  6.9,  7.8,  8.7,  9.6, 10.5, 11.4, 12.3, 13.2, 14.1, 15. ])"
            ]
          },
          "metadata": {},
          "execution_count": 16
        }
      ]
    },
    {
      "cell_type": "markdown",
      "source": [
        "Média:"
      ],
      "metadata": {
        "id": "9N0abXBWiMq4"
      }
    },
    {
      "cell_type": "code",
      "source": [
        "np.sum(idades)"
      ],
      "metadata": {
        "colab": {
          "base_uri": "https://localhost:8080/"
        },
        "id": "6AF6X9q7iTOU",
        "outputId": "9cfb93d2-fae2-4724-b706-17c4fe86ba69"
      },
      "execution_count": 17,
      "outputs": [
        {
          "output_type": "execute_result",
          "data": {
            "text/plain": [
              "241"
            ]
          },
          "metadata": {},
          "execution_count": 17
        }
      ]
    },
    {
      "cell_type": "code",
      "source": [
        "N=len(idades)\n",
        "N\n"
      ],
      "metadata": {
        "colab": {
          "base_uri": "https://localhost:8080/"
        },
        "id": "e2cOeYVKijvz",
        "outputId": "6d05e187-7b55-4833-ecf6-631c6c406a3c"
      },
      "execution_count": 18,
      "outputs": [
        {
          "output_type": "execute_result",
          "data": {
            "text/plain": [
              "24"
            ]
          },
          "metadata": {},
          "execution_count": 18
        }
      ]
    },
    {
      "cell_type": "code",
      "source": [
        "media = np.sum( idades ) / N\n",
        "print ( \"Média: {}\".format( media ) )"
      ],
      "metadata": {
        "colab": {
          "base_uri": "https://localhost:8080/"
        },
        "id": "iL96rD4ZkMqi",
        "outputId": "54b72f27-13bb-4620-9f27-ee178c6878c7"
      },
      "execution_count": 20,
      "outputs": [
        {
          "output_type": "stream",
          "name": "stdout",
          "text": [
            "Média: 10.041666666666666\n"
          ]
        }
      ]
    },
    {
      "cell_type": "code",
      "source": [
        "x_bar=np.mean(idades)\n",
        "x_bar"
      ],
      "metadata": {
        "colab": {
          "base_uri": "https://localhost:8080/"
        },
        "id": "UBuKx1G5kmIE",
        "outputId": "3e06732a-b11a-4083-e2ef-05eca576a259"
      },
      "execution_count": 21,
      "outputs": [
        {
          "output_type": "execute_result",
          "data": {
            "text/plain": [
              "10.041666666666666"
            ]
          },
          "metadata": {},
          "execution_count": 21
        }
      ]
    },
    {
      "cell_type": "markdown",
      "source": [
        "Cálculo da média quadrática:\n"
      ],
      "metadata": {
        "id": "yQFNuoiqkjak"
      }
    },
    {
      "cell_type": "code",
      "source": [
        "# Sequência de valores ao quadrado\n",
        "x2 = [x**2 for x in idades]\n",
        "x2"
      ],
      "metadata": {
        "colab": {
          "base_uri": "https://localhost:8080/"
        },
        "id": "G3O-bJi9kkWP",
        "outputId": "0ae509af-5aaa-44d1-c0be-9059ba63f6d5"
      },
      "execution_count": 22,
      "outputs": [
        {
          "output_type": "execute_result",
          "data": {
            "text/plain": [
              "[100,\n",
              " 49,\n",
              " 100,\n",
              " 121,\n",
              " 100,\n",
              " 225,\n",
              " 64,\n",
              " 144,\n",
              " 196,\n",
              " 81,\n",
              " 36,\n",
              " 64,\n",
              " 49,\n",
              " 196,\n",
              " 100,\n",
              " 100,\n",
              " 49,\n",
              " 144,\n",
              " 144,\n",
              " 81,\n",
              " 169,\n",
              " 100,\n",
              " 81,\n",
              " 64]"
            ]
          },
          "metadata": {},
          "execution_count": 22
        }
      ]
    },
    {
      "cell_type": "code",
      "source": [
        "somax2= np.sum( x2 )\n",
        "somax2\n"
      ],
      "metadata": {
        "colab": {
          "base_uri": "https://localhost:8080/"
        },
        "id": "TCy3XUl9nfqI",
        "outputId": "ef2318d4-fa4b-40a8-b62f-422d6aa543a8"
      },
      "execution_count": 23,
      "outputs": [
        {
          "output_type": "execute_result",
          "data": {
            "text/plain": [
              "2557"
            ]
          },
          "metadata": {},
          "execution_count": 23
        }
      ]
    },
    {
      "cell_type": "code",
      "source": [
        "msomax2=np.mean(x2)\n",
        "msomax2"
      ],
      "metadata": {
        "colab": {
          "base_uri": "https://localhost:8080/"
        },
        "id": "90RgxvMWb_gp",
        "outputId": "612729c9-1551-488b-9598-b36904ac12e7"
      },
      "execution_count": 24,
      "outputs": [
        {
          "output_type": "execute_result",
          "data": {
            "text/plain": [
              "106.54166666666667"
            ]
          },
          "metadata": {},
          "execution_count": 24
        }
      ]
    },
    {
      "cell_type": "code",
      "source": [
        "print ( \"Média quadrática: {}\".format(np.sqrt(msomax2))) "
      ],
      "metadata": {
        "colab": {
          "base_uri": "https://localhost:8080/"
        },
        "id": "YOIxGmdSa_0G",
        "outputId": "be613010-cd70-4a3b-bd03-2c59e9c5304b"
      },
      "execution_count": 25,
      "outputs": [
        {
          "output_type": "stream",
          "name": "stdout",
          "text": [
            "Média quadrática: 10.321902279457342\n"
          ]
        }
      ]
    },
    {
      "cell_type": "markdown",
      "source": [
        "Calculo da mediana:"
      ],
      "metadata": {
        "id": "TBywNA8Xn59Y"
      }
    },
    {
      "cell_type": "code",
      "source": [
        "np.median( idades)"
      ],
      "metadata": {
        "colab": {
          "base_uri": "https://localhost:8080/"
        },
        "id": "Y9CbDf5vhX7A",
        "outputId": "1c810aea-ffa3-4be3-f87e-79cc934c4aa5"
      },
      "execution_count": 26,
      "outputs": [
        {
          "output_type": "execute_result",
          "data": {
            "text/plain": [
              "10.0"
            ]
          },
          "metadata": {},
          "execution_count": 26
        }
      ]
    },
    {
      "cell_type": "code",
      "source": [
        "np.percentile( idades, 50.0 )"
      ],
      "metadata": {
        "colab": {
          "base_uri": "https://localhost:8080/"
        },
        "id": "zl3-KiEphoWs",
        "outputId": "d2c5296b-4502-49e9-d09b-a4f30baadea8"
      },
      "execution_count": 27,
      "outputs": [
        {
          "output_type": "execute_result",
          "data": {
            "text/plain": [
              "10.0"
            ]
          },
          "metadata": {},
          "execution_count": 27
        }
      ]
    },
    {
      "cell_type": "code",
      "source": [
        "idades_ord = np.sort( idades )\n",
        "idades_ord"
      ],
      "metadata": {
        "colab": {
          "base_uri": "https://localhost:8080/"
        },
        "id": "gKtaZoJJn8Cl",
        "outputId": "9d75cbc0-b8c5-4f55-e14e-9d39b8c6981d"
      },
      "execution_count": 28,
      "outputs": [
        {
          "output_type": "execute_result",
          "data": {
            "text/plain": [
              "array([ 6,  7,  7,  7,  8,  8,  8,  9,  9,  9, 10, 10, 10, 10, 10, 10, 11,\n",
              "       12, 12, 12, 13, 14, 14, 15])"
            ]
          },
          "metadata": {},
          "execution_count": 28
        }
      ]
    },
    {
      "cell_type": "code",
      "source": [
        "idades_ord[ int(N/2)-1 ] # Índices de 0..(N-1)"
      ],
      "metadata": {
        "id": "R5_bcyvqoZ5_",
        "outputId": "ece2a427-58d5-4129-c4b8-5b74d0004309",
        "colab": {
          "base_uri": "https://localhost:8080/"
        }
      },
      "execution_count": 29,
      "outputs": [
        {
          "output_type": "execute_result",
          "data": {
            "text/plain": [
              "10"
            ]
          },
          "metadata": {},
          "execution_count": 29
        }
      ]
    },
    {
      "cell_type": "code",
      "source": [
        "idades_ord[ int(N/2) ] # Índices de 0..(N-1)"
      ],
      "metadata": {
        "id": "VvalzCUJodXA",
        "outputId": "39467774-6403-420a-dba8-a7fd170d5139",
        "colab": {
          "base_uri": "https://localhost:8080/"
        }
      },
      "execution_count": 30,
      "outputs": [
        {
          "output_type": "execute_result",
          "data": {
            "text/plain": [
              "10"
            ]
          },
          "metadata": {},
          "execution_count": 30
        }
      ]
    },
    {
      "cell_type": "code",
      "source": [
        "# Diferença entre média dos quadrados e quadrado da média\n",
        "variancia_I = np.mean( x2 ) - (media) ** 2\n",
        "variancia_I"
      ],
      "metadata": {
        "colab": {
          "base_uri": "https://localhost:8080/"
        },
        "id": "2DKXirTfm7Hl",
        "outputId": "8226dd85-ce3e-4cb7-8f88-948a0d1165da"
      },
      "execution_count": 31,
      "outputs": [
        {
          "output_type": "execute_result",
          "data": {
            "text/plain": [
              "5.706597222222243"
            ]
          },
          "metadata": {},
          "execution_count": 31
        }
      ]
    },
    {
      "cell_type": "code",
      "source": [
        "np.var(idades)"
      ],
      "metadata": {
        "colab": {
          "base_uri": "https://localhost:8080/"
        },
        "id": "lL8ulf0YmXf3",
        "outputId": "7dfa2c53-fcdf-45f8-e79f-8d14bc97dfd7"
      },
      "execution_count": 32,
      "outputs": [
        {
          "output_type": "execute_result",
          "data": {
            "text/plain": [
              "5.706597222222221"
            ]
          },
          "metadata": {},
          "execution_count": 32
        }
      ]
    },
    {
      "cell_type": "code",
      "source": [
        "std_dev_I = np.sqrt( variancia_I )\n",
        "std_dev_I"
      ],
      "metadata": {
        "colab": {
          "base_uri": "https://localhost:8080/"
        },
        "id": "87nfklAXmgvT",
        "outputId": "529acb7f-7397-4be6-828d-e08153fd675b"
      },
      "execution_count": 33,
      "outputs": [
        {
          "output_type": "execute_result",
          "data": {
            "text/plain": [
              "2.388848513870698"
            ]
          },
          "metadata": {},
          "execution_count": 33
        }
      ]
    },
    {
      "cell_type": "code",
      "source": [
        "np.std( idades )"
      ],
      "metadata": {
        "colab": {
          "base_uri": "https://localhost:8080/"
        },
        "id": "jehG8ko5mjhm",
        "outputId": "91db23bc-c7e8-4bf9-cce9-4254a37d150f"
      },
      "execution_count": 34,
      "outputs": [
        {
          "output_type": "execute_result",
          "data": {
            "text/plain": [
              "2.3888485138706934"
            ]
          },
          "metadata": {},
          "execution_count": 34
        }
      ]
    },
    {
      "cell_type": "code",
      "source": [
        "( idades - np.mean( idades ) )"
      ],
      "metadata": {
        "colab": {
          "base_uri": "https://localhost:8080/"
        },
        "id": "NWK0RBUfmrvg",
        "outputId": "993c4b2b-8ae3-4dac-a0df-6b5cf1c97ecc"
      },
      "execution_count": 35,
      "outputs": [
        {
          "output_type": "execute_result",
          "data": {
            "text/plain": [
              "array([-0.04166667, -3.04166667, -0.04166667,  0.95833333, -0.04166667,\n",
              "        4.95833333, -2.04166667,  1.95833333,  3.95833333, -1.04166667,\n",
              "       -4.04166667, -2.04166667, -3.04166667,  3.95833333, -0.04166667,\n",
              "       -0.04166667, -3.04166667,  1.95833333,  1.95833333, -1.04166667,\n",
              "        2.95833333, -0.04166667, -1.04166667, -2.04166667])"
            ]
          },
          "metadata": {},
          "execution_count": 35
        }
      ]
    },
    {
      "cell_type": "code",
      "source": [
        "desvio_medio = np.mean( np.abs( idades - np.mean( idades ) ) )\n",
        "print ( \"Desvio médio das idades: {}\".format( desvio_medio ) )\n"
      ],
      "metadata": {
        "colab": {
          "base_uri": "https://localhost:8080/"
        },
        "id": "pnssSuX3nMZn",
        "outputId": "59098358-eefe-401f-8aac-7a8b1aaa7054"
      },
      "execution_count": 36,
      "outputs": [
        {
          "output_type": "stream",
          "name": "stdout",
          "text": [
            "Desvio médio das idades: 1.8888888888888886\n"
          ]
        }
      ]
    },
    {
      "cell_type": "code",
      "source": [
        "fig = plt.figure( figsize=(8,6) )\n",
        "counts, bins, _ = plt.hist( idades, bins=10, range=(6,15) )\n",
        "plt.xlim( 4, 16 )\n",
        "plt.xlabel( \"Idades (anos)\", fontsize=18 )\n",
        "plt.ylabel( \"Frequência\", fontsize=18 )\n",
        "print ( \"Média quadrática: {}\".format( np.sqrt( msomax2 ) ) )\n",
        "print ( \"Média: {}\".format( media ) )"
      ],
      "metadata": {
        "colab": {
          "base_uri": "https://localhost:8080/",
          "height": 587
        },
        "id": "oli-nse8p6ov",
        "outputId": "e37b26a8-1701-488a-c173-b0d644e232c7"
      },
      "execution_count": 39,
      "outputs": [
        {
          "output_type": "stream",
          "name": "stdout",
          "text": [
            "Média quadrática: 10.321902279457342\n",
            "Média: 10.041666666666666\n"
          ]
        },
        {
          "output_type": "display_data",
          "data": {
            "text/plain": [
              "<Figure size 800x600 with 1 Axes>"
            ],
            "image/png": "[encoded data removed]"
          },
          "metadata": {}
        }
      ]
    },
    {
      "cell_type": "markdown",
      "metadata": {
        "id": "y8tjreqUSwCg"
      },
      "source": [
        "\n",
        "## Exercícios:\n",
        "1. Altere a **classe de frequência** do histograma acima, para termos um intervalo de **5 anos** entre as idades e construa o histograma correspondente.\n",
        "\n",
        "\n",
        "2. Para construir esse histograma, usamos a **função** (ou **método**) *hist* de um **módulo** de Python, o *matplotlib*, cuja documentação se encontra [aqui](https://matplotlib.org/3.2.1/api/_as_gen/matplotlib.pyplot.hist.html#matplotlib.pyplot.hist). Baseando-se nessa documentação (ou qualquer outra que você encontre), mude a **cor** do histograma.\n",
        "\n",
        "3. Defina um outro conjunto e construa o histograma desse conjunto. Tente definir qual a melhor classe de frequência antes de construir seu histograma e veja o que acontece se você aumentar ou diminuir a classe de frequência (bins)."
      ]
    },
    {
      "cell_type": "markdown",
      "metadata": {
        "id": "kOepRhZD4q35"
      },
      "source": [
        "##Diagramas de Dispersão\n",
        "Abaixo, apresentamos como o exemplo o diagrama de dispersão altura (cms) x massa (kg)."
      ]
    },
    {
      "cell_type": "code",
      "metadata": {
        "id": "K2YO95OG5VP6",
        "outputId": "f2b948c2-c26c-4328-8021-c84f75ad7de3",
        "colab": {
          "base_uri": "https://localhost:8080/",
          "height": 564
        }
      },
      "source": [
        "import matplotlib.pyplot as plt\n",
        "\n",
        "#massa = [64,110,75,80,61,86,54,84,51,64,66,103,91]\n",
        "#altura = [174,185,174,170,168,173,162,176,166,168,177,174,175]\n",
        "massa = [64,68,69,65,66,81,80,74,70,63,53,76,65,85,93,55]\n",
        "altura = [170,168,180,175,170,170,173,170,190,170,165,178,178,183,179,169]\n",
        "\n",
        "fig = plt.figure( figsize=(8,6) )\n",
        "\n",
        "plt.plot(massa,altura,'o')\n",
        "plt.xlabel('massa (kg)')\n",
        "plt.ylabel('altura (cm)')\n",
        "plt.title('Diagrama de dispersão massa (kg) x altura (cm)')\n",
        "plt.show()\n",
        "\n",
        "#plt.scatter(massa,altura)\n",
        "#plt.show()"
      ],
      "execution_count": 40,
      "outputs": [
        {
          "output_type": "display_data",
          "data": {
            "text/plain": [
              "<Figure size 800x600 with 1 Axes>"
            ],
            "image/png": "[encoded data removed]"
          },
          "metadata": {}
        }
      ]
    },
    {
      "cell_type": "markdown",
      "metadata": {
        "id": "wlzG9M2HBTaf"
      },
      "source": [
        "No diagrama acima, percebe-se que os valores de massa tem uma relação direta com a altura. \n",
        "\n",
        "Para construir os diagramas, usamos a **plot** de um **módulo** de Python, o *matplotlib*, cuja documentação se encontra [aqui](https://matplotlib.org/3.2.1/api/_as_gen/matplotlib.pyplot.plot.html?highlight=plot#matplotlib.pyplot.plot).\n",
        "\n",
        "\n",
        "- Agora, faça os outros dois diagramas de dispersão pedidos na aula 2. \n",
        "\n",
        "- Use sua criatividade e utilize símbolos diferentes em cada diagrama.\n"
      ]
    }
  ]
}