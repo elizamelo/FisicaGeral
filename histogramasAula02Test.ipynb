{
  "nbformat": 4,
  "nbformat_minor": 0,
  "metadata": {
    "colab": {
      "provenance": [],
      "include_colab_link": true
    },
    "kernelspec": {
      "name": "python3",
      "display_name": "Python 3"
    }
  },
  "cells": [
    {
      "cell_type": "markdown",
      "metadata": {
        "id": "view-in-github",
        "colab_type": "text"
      },
      "source": [
        "<a href=\"https://colab.research.google.com/github/elizamelo/FisicaGeral/blob/main/histogramasAula02Test.ipynb\" target=\"_parent\"><img src=\"https://colab.research.google.com/assets/colab-badge.svg\" alt=\"Open In Colab\"/></a>"
      ]
    },
    {
      "cell_type": "markdown",
      "metadata": {
        "id": "XaNhcQ395QEd"
      },
      "source": [
        "# Como visualizar dados usando Python\n",
        "\n",
        "Vamos aprender aqui como visualizar um conjunto de dados utilizando Python como ferramenta. O nosso objetivo é construir **histogramas** e **gráficos**.\n",
        "\n",
        "A ferramenta que estamos usando é o [Google Colaboratory](https://colab.research.google.com/).\n",
        "\n",
        "O [Google Colaboratory](https://colab.research.google.com/) é um ambiente no seu navegador que usa a nuvem do Google. É construído em cima do [Jupyter Notebook](https://jupyter.org/) e usa Python como linguagem de programação.\n",
        "\n",
        "Em outras palavras, vamos aprender a **programar** histogramas e gráficos para visualizar dados, usando uma linguagem de programação chamada **Python**.\n",
        "\n",
        "### Mas o que é Python?\n",
        "\n",
        "Python é uma **linguagem de programação** de propósito geral.\n",
        "\n",
        "É uma das linguagens de programação mais usadas no mundo atualmente. \n",
        "\n",
        "   + É intuitiva e de rápida aprendizagem.\n",
        "   + Integra uma vasta biblioteca para computação científica e análise de dados: matplotlib, NumPy, pandas, SciPy, statsmodel, scikit-learn, etc. \n",
        "   + É \"portátil\": o código escrito em Python pode ser processado em qualquer sistema ou plataforma.\n",
        "\n",
        "\n",
        "Para mais informações, você pode acessar o site oficial de [Python](https://www.python.org/) (em inglês) ou [Python-Brasil](https://www.python.org.br/).\n",
        "\n",
        "\n",
        "### O que são histogramas?\n",
        "Um histograma é uma forma de representar um conjunto de dados. Em particular, um histograma representa a frequência com que um determinado valor aparece em um determinado conjunto contínuo de dados.\n",
        "\n",
        "Por exemplo, se considerarmos o seguinte conjunto de idades de um grupo de pessoas"
      ]
    },
    {
      "cell_type": "code",
      "metadata": {
        "colab": {
          "base_uri": "https://localhost:8080/"
        },
        "id": "KjIggCsmhjMy",
        "outputId": "9e125c38-fc55-495e-f64e-958fab37bbc0"
      },
      "source": [
        "3-5"
      ],
      "execution_count": null,
      "outputs": [
        {
          "output_type": "execute_result",
          "data": {
            "text/plain": [
              "-2"
            ]
          },
          "metadata": {},
          "execution_count": 95
        }
      ]
    },
    {
      "cell_type": "code",
      "metadata": {
        "id": "OgkU7qmKLXpq"
      },
      "source": [
        "#idades =[10, 7, 10, 11, 10, 15, 8, 12,14, 9, 6, 8, 7, 14, 10, 10, 7,12, 12, 9, 13, 10, 9, 8] #(anos)\n",
        "\n"
      ],
      "execution_count": null,
      "outputs": []
    },
    {
      "cell_type": "markdown",
      "metadata": {
        "id": "4xaxuvgmNEOg"
      },
      "source": [
        "1. Qual é a menor idade?\n",
        "1. E a maior?\n",
        "1. Qual a diferença entre a menor e a maior idade?\n",
        "1. Qual é a idade que aparece com maior frequência?"
      ]
    },
    {
      "cell_type": "markdown",
      "metadata": {
        "id": "JXjczaOcOLvm"
      },
      "source": [
        "## Representação do conjunto das idades\n",
        "Abaixo, colocamos as idades em um **histograma**, onde consideramos intervalos de 1 ano para representar as idades.\n",
        "\n",
        "**Observação**: para rodar o código abaixo e produzir o histograma, basta clicar na setinha que se encontra no canto esquerdo ao alto."
      ]
    },
    {
      "cell_type": "code",
      "metadata": {
        "id": "BDvYdHrvNdNI",
        "colab": {
          "base_uri": "https://localhost:8080/",
          "height": 472
        },
        "outputId": "1f1dd7dd-8ccb-4de6-c7a2-c00d809deec3"
      },
      "source": [
        "import numpy as np\n",
        "import matplotlib as mpl\n",
        "import matplotlib.pyplot as plt\n",
        "import statistics\n",
        "from scipy import stats\n",
        "\n",
        "#Turma 2\n",
        "idades =[10, 7, 10, 11, 10, 15, 8, 12,14, 9, 6, 8, 7, 14, 10, 10, 7,12, 12, 9, 13, 10, 9, 8] #anos\n",
        "plt.hist(idades, bins=10, range=[6,15])\n",
        "plt.xlabel('idade (anos)')\n",
        "plt.ylabel('frequência')\n",
        "plt.title('Histograma das idades de um grupo de pessoas')\n",
        "\n",
        "plt.show()"
      ],
      "execution_count": null,
      "outputs": [
        {
          "output_type": "display_data",
          "data": {
            "text/plain": [
              "<Figure size 640x480 with 1 Axes>"
            ],
            "image/png": "[encoded data removed]"
          },
          "metadata": {}
        }
      ]
    },
    {
      "cell_type": "code",
      "source": [
        "np.min(idades)"
      ],
      "metadata": {
        "colab": {
          "base_uri": "https://localhost:8080/"
        },
        "id": "YJaby0ZCpZq_",
        "outputId": "d23b7ca6-5459-4a80-d2d2-3526a13637d8"
      },
      "execution_count": null,
      "outputs": [
        {
          "output_type": "execute_result",
          "data": {
            "text/plain": [
              "6"
            ]
          },
          "metadata": {},
          "execution_count": 99
        }
      ]
    },
    {
      "cell_type": "code",
      "source": [
        "np.max(idades)"
      ],
      "metadata": {
        "colab": {
          "base_uri": "https://localhost:8080/"
        },
        "id": "faLbzMDJpqMk",
        "outputId": "4c2094b6-0e4e-493b-ebeb-6706985b080a"
      },
      "execution_count": null,
      "outputs": [
        {
          "output_type": "execute_result",
          "data": {
            "text/plain": [
              "15"
            ]
          },
          "metadata": {},
          "execution_count": 100
        }
      ]
    },
    {
      "cell_type": "code",
      "source": [
        "np.max(idades)-np.min(idades)"
      ],
      "metadata": {
        "colab": {
          "base_uri": "https://localhost:8080/"
        },
        "id": "1BkuhVkRpxVR",
        "outputId": "34ad55bb-376f-4f35-ac95-7859f843fa40"
      },
      "execution_count": null,
      "outputs": [
        {
          "output_type": "execute_result",
          "data": {
            "text/plain": [
              "9"
            ]
          },
          "metadata": {},
          "execution_count": 101
        }
      ]
    },
    {
      "cell_type": "code",
      "source": [
        "fig = plt.figure( figsize=(8,6) )\n",
        "\n",
        "counts, bins, _ = plt.hist( idades, bins=9, range=(6, 15) )\n",
        "plt.xlim( 0, 20 )\n",
        "plt.xlabel( \"Idade (anos)\", fontsize=18 )\n",
        "plt.ylabel( \"Frequência\", fontsize=18 )\n",
        "     "
      ],
      "metadata": {
        "colab": {
          "base_uri": "https://localhost:8080/",
          "height": 569
        },
        "id": "Qf8qfSh7p9jg",
        "outputId": "01949b81-30c9-4efd-b666-bfea70ac059a"
      },
      "execution_count": null,
      "outputs": [
        {
          "output_type": "execute_result",
          "data": {
            "text/plain": [
              "Text(0, 0.5, 'Frequência')"
            ]
          },
          "metadata": {},
          "execution_count": 133
        },
        {
          "output_type": "display_data",
          "data": {
            "text/plain": [
              "<Figure size 800x600 with 1 Axes>"
            ],
            "image/png": "[encoded data removed]"
          },
          "metadata": {}
        }
      ]
    },
    {
      "cell_type": "markdown",
      "source": [
        "Frequência para cada intervalo:"
      ],
      "metadata": {
        "id": "RCuFBdpbqS5y"
      }
    },
    {
      "cell_type": "code",
      "source": [
        "counts"
      ],
      "metadata": {
        "colab": {
          "base_uri": "https://localhost:8080/"
        },
        "id": "mU_OguDnqODm",
        "outputId": "a5c49cf3-2ad2-4e10-bcc0-a300af0d81be"
      },
      "execution_count": null,
      "outputs": [
        {
          "output_type": "execute_result",
          "data": {
            "text/plain": [
              "array([1., 3., 3., 3., 6., 1., 3., 1., 3.])"
            ]
          },
          "metadata": {},
          "execution_count": 134
        }
      ]
    },
    {
      "cell_type": "markdown",
      "source": [
        "\n",
        "\n",
        "Bordas dos intervalos:\n"
      ],
      "metadata": {
        "id": "CFzvCL7NqX7L"
      }
    },
    {
      "cell_type": "code",
      "source": [
        "bins"
      ],
      "metadata": {
        "colab": {
          "base_uri": "https://localhost:8080/"
        },
        "id": "opzVKeIZqYR5",
        "outputId": "2b82739d-22c6-4763-d009-68a21f3e8785"
      },
      "execution_count": null,
      "outputs": [
        {
          "output_type": "execute_result",
          "data": {
            "text/plain": [
              "array([ 6.,  7.,  8.,  9., 10., 11., 12., 13., 14., 15.])"
            ]
          },
          "metadata": {},
          "execution_count": 135
        }
      ]
    },
    {
      "cell_type": "code",
      "source": [
        "moda = bins[counts.argmax()]\n",
        "moda"
      ],
      "metadata": {
        "id": "no6smELEvJf6",
        "outputId": "72d50a02-02e5-46dc-e0f2-10aadf355e95",
        "colab": {
          "base_uri": "https://localhost:8080/"
        }
      },
      "execution_count": null,
      "outputs": [
        {
          "output_type": "execute_result",
          "data": {
            "text/plain": [
              "10.0"
            ]
          },
          "metadata": {},
          "execution_count": 136
        }
      ]
    },
    {
      "cell_type": "markdown",
      "metadata": {
        "id": "ucam_N-pOiax"
      },
      "source": [
        "O histograma acima, representa a **distribuição** das idades, organizadas em intervalos de 1 ano. Colocamos o título em cada eixo, para determinar o que representam. É importante determinar os títulos dos eixos e a unidades correspondente.\n",
        "\n",
        "E se decidirmos representar as idades em intervalos de 10 anos? Como ficaria essa distribuição?\n",
        "Vamos ver!\n",
        "\n",
        "No código de Python que estamos construindo, o que controla os intervalos (também chamamos esses intervalos de **classes de frequência**) é a **variável** chamada de \"bins\". A variável chamada \"range\" (que é opcional), determina a variação dos valores do eixo-x. No nosso exemplo das idades, o intervalo do eixo-x é de 6 a 15, que são a menor e maior idade do conjunto, respectivamente."
      ]
    },
    {
      "cell_type": "code",
      "metadata": {
        "id": "inl3CpdKPnAc",
        "colab": {
          "base_uri": "https://localhost:8080/",
          "height": 472
        },
        "outputId": "d52167c9-0456-43c2-9fbb-671d4a0622a9"
      },
      "source": [
        "plt.hist(idades, bins=[6,16])\n",
        "plt.xlabel('idade (anos)')\n",
        "plt.ylabel('frequência')\n",
        "plt.title('Histograma das idades de um grupo de pessoas')\n",
        "plt.show()"
      ],
      "execution_count": null,
      "outputs": [
        {
          "output_type": "display_data",
          "data": {
            "text/plain": [
              "<Figure size 640x480 with 1 Axes>"
            ],
            "image/png": "[encoded data removed]"
          },
          "metadata": {}
        }
      ]
    },
    {
      "cell_type": "markdown",
      "source": [
        "Média:"
      ],
      "metadata": {
        "id": "9N0abXBWiMq4"
      }
    },
    {
      "cell_type": "code",
      "source": [
        "np.sum(idades)"
      ],
      "metadata": {
        "colab": {
          "base_uri": "https://localhost:8080/"
        },
        "id": "6AF6X9q7iTOU",
        "outputId": "e4acfc32-f501-48e1-a8af-99a429860637"
      },
      "execution_count": null,
      "outputs": [
        {
          "output_type": "execute_result",
          "data": {
            "text/plain": [
              "241"
            ]
          },
          "metadata": {},
          "execution_count": 107
        }
      ]
    },
    {
      "cell_type": "code",
      "source": [
        "N=len(idades)\n",
        "N\n"
      ],
      "metadata": {
        "colab": {
          "base_uri": "https://localhost:8080/"
        },
        "id": "e2cOeYVKijvz",
        "outputId": "b83a1cd1-8e26-4749-a123-543a781866a3"
      },
      "execution_count": null,
      "outputs": [
        {
          "output_type": "execute_result",
          "data": {
            "text/plain": [
              "24"
            ]
          },
          "metadata": {},
          "execution_count": 108
        }
      ]
    },
    {
      "cell_type": "code",
      "source": [
        "media = np.sum( idades ) / N\n",
        "print ( \"Média: {}\".format( media ) )"
      ],
      "metadata": {
        "colab": {
          "base_uri": "https://localhost:8080/"
        },
        "id": "iL96rD4ZkMqi",
        "outputId": "b7895964-b9a6-4495-afea-006a677ec59e"
      },
      "execution_count": null,
      "outputs": [
        {
          "output_type": "stream",
          "name": "stdout",
          "text": [
            "Média: 10.041666666666666\n"
          ]
        }
      ]
    },
    {
      "cell_type": "markdown",
      "source": [
        "Usando a função NumPy:"
      ],
      "metadata": {
        "id": "vyWXuWgnrOLn"
      }
    },
    {
      "cell_type": "code",
      "source": [
        "x_bar=np.mean(idades)\n",
        "x_bar"
      ],
      "metadata": {
        "colab": {
          "base_uri": "https://localhost:8080/"
        },
        "id": "UBuKx1G5kmIE",
        "outputId": "733e7ad1-3029-46c5-8fbf-e5cec519b8a5"
      },
      "execution_count": null,
      "outputs": [
        {
          "output_type": "execute_result",
          "data": {
            "text/plain": [
              "10.041666666666666"
            ]
          },
          "metadata": {},
          "execution_count": 110
        }
      ]
    },
    {
      "cell_type": "markdown",
      "source": [
        "Cálculo da média quadrática:\n"
      ],
      "metadata": {
        "id": "yQFNuoiqkjak"
      }
    },
    {
      "cell_type": "code",
      "source": [
        "# Sequência de valores ao quadrado\n",
        "x2 = [x**2 for x in idades]\n",
        "x2"
      ],
      "metadata": {
        "colab": {
          "base_uri": "https://localhost:8080/"
        },
        "id": "G3O-bJi9kkWP",
        "outputId": "aba718e8-b082-44c8-ca27-74264318a8c5"
      },
      "execution_count": null,
      "outputs": [
        {
          "output_type": "execute_result",
          "data": {
            "text/plain": [
              "[100,\n",
              " 49,\n",
              " 100,\n",
              " 121,\n",
              " 100,\n",
              " 225,\n",
              " 64,\n",
              " 144,\n",
              " 196,\n",
              " 81,\n",
              " 36,\n",
              " 64,\n",
              " 49,\n",
              " 196,\n",
              " 100,\n",
              " 100,\n",
              " 49,\n",
              " 144,\n",
              " 144,\n",
              " 81,\n",
              " 169,\n",
              " 100,\n",
              " 81,\n",
              " 64]"
            ]
          },
          "metadata": {},
          "execution_count": 111
        }
      ]
    },
    {
      "cell_type": "code",
      "source": [
        "somax2= np.sum( x2 )\n",
        "somax2\n"
      ],
      "metadata": {
        "colab": {
          "base_uri": "https://localhost:8080/"
        },
        "id": "TCy3XUl9nfqI",
        "outputId": "9f1542e1-2cf9-41b2-c929-cb51c791a4bc"
      },
      "execution_count": null,
      "outputs": [
        {
          "output_type": "execute_result",
          "data": {
            "text/plain": [
              "2557"
            ]
          },
          "metadata": {},
          "execution_count": 112
        }
      ]
    },
    {
      "cell_type": "code",
      "source": [
        "media_somax2=np.mean(x2)\n",
        "media_somax2"
      ],
      "metadata": {
        "colab": {
          "base_uri": "https://localhost:8080/"
        },
        "id": "90RgxvMWb_gp",
        "outputId": "88c74028-b7ab-466c-e6d3-e7b1ec0098ca"
      },
      "execution_count": null,
      "outputs": [
        {
          "output_type": "execute_result",
          "data": {
            "text/plain": [
              "106.54166666666667"
            ]
          },
          "metadata": {},
          "execution_count": 113
        }
      ]
    },
    {
      "cell_type": "code",
      "source": [
        "print ( \"Média quadrática: {}\".format(np.sqrt(media_somax2))) "
      ],
      "metadata": {
        "colab": {
          "base_uri": "https://localhost:8080/"
        },
        "id": "YOIxGmdSa_0G",
        "outputId": "0644dccb-e279-47e0-9e71-eb84aafb201c"
      },
      "execution_count": null,
      "outputs": [
        {
          "output_type": "stream",
          "name": "stdout",
          "text": [
            "Média quadrática: 10.321902279457342\n"
          ]
        }
      ]
    },
    {
      "cell_type": "markdown",
      "source": [
        "Calculo da mediana:"
      ],
      "metadata": {
        "id": "TBywNA8Xn59Y"
      }
    },
    {
      "cell_type": "code",
      "source": [
        "np.median( idades)"
      ],
      "metadata": {
        "colab": {
          "base_uri": "https://localhost:8080/"
        },
        "id": "Y9CbDf5vhX7A",
        "outputId": "3502521d-33d3-49ed-803f-6a18484a66e8"
      },
      "execution_count": null,
      "outputs": [
        {
          "output_type": "execute_result",
          "data": {
            "text/plain": [
              "10.0"
            ]
          },
          "metadata": {},
          "execution_count": 115
        }
      ]
    },
    {
      "cell_type": "code",
      "source": [
        "np.percentile( idades, 50.0 )"
      ],
      "metadata": {
        "colab": {
          "base_uri": "https://localhost:8080/"
        },
        "id": "zl3-KiEphoWs",
        "outputId": "c49221e4-aa34-477b-88a2-f3a0df71e8e1"
      },
      "execution_count": null,
      "outputs": [
        {
          "output_type": "execute_result",
          "data": {
            "text/plain": [
              "10.0"
            ]
          },
          "metadata": {},
          "execution_count": 116
        }
      ]
    },
    {
      "cell_type": "code",
      "source": [
        "idades_ord = np.sort( idades )\n",
        "idades_ord"
      ],
      "metadata": {
        "colab": {
          "base_uri": "https://localhost:8080/"
        },
        "id": "gKtaZoJJn8Cl",
        "outputId": "7b7aa1a8-69b9-4d71-a7ab-0cf783c6226c"
      },
      "execution_count": null,
      "outputs": [
        {
          "output_type": "execute_result",
          "data": {
            "text/plain": [
              "array([ 6,  7,  7,  7,  8,  8,  8,  9,  9,  9, 10, 10, 10, 10, 10, 10, 11,\n",
              "       12, 12, 12, 13, 14, 14, 15])"
            ]
          },
          "metadata": {},
          "execution_count": 117
        }
      ]
    },
    {
      "cell_type": "code",
      "source": [
        "idades_ord[ int(N/2)-1 ] # Índices de 0..(N-1)"
      ],
      "metadata": {
        "id": "R5_bcyvqoZ5_",
        "outputId": "a0d46e35-5ff8-4367-c2fe-2d160146a7b6",
        "colab": {
          "base_uri": "https://localhost:8080/"
        }
      },
      "execution_count": null,
      "outputs": [
        {
          "output_type": "execute_result",
          "data": {
            "text/plain": [
              "10"
            ]
          },
          "metadata": {},
          "execution_count": 118
        }
      ]
    },
    {
      "cell_type": "code",
      "source": [
        "idades_ord[ int(N/2) ] # Índices de 0..(N-1)"
      ],
      "metadata": {
        "id": "VvalzCUJodXA",
        "outputId": "ecaa5a9d-78ce-49d0-9b3d-6b3096f87e9b",
        "colab": {
          "base_uri": "https://localhost:8080/"
        }
      },
      "execution_count": null,
      "outputs": [
        {
          "output_type": "execute_result",
          "data": {
            "text/plain": [
              "10"
            ]
          },
          "metadata": {},
          "execution_count": 119
        }
      ]
    },
    {
      "cell_type": "code",
      "source": [
        "moda = statistics.mode(idades)\n",
        "print(moda)"
      ],
      "metadata": {
        "id": "puwAUgGtt5HP",
        "outputId": "8010d466-33cc-4315-a0ef-5f391a912a8e",
        "colab": {
          "base_uri": "https://localhost:8080/"
        }
      },
      "execution_count": null,
      "outputs": [
        {
          "output_type": "stream",
          "name": "stdout",
          "text": [
            "10\n"
          ]
        }
      ]
    },
    {
      "cell_type": "code",
      "source": [
        "# Diferença entre média dos quadrados e quadrado da média\n",
        "variancia_I = np.mean( x2 ) - (media) ** 2\n",
        "variancia_I"
      ],
      "metadata": {
        "colab": {
          "base_uri": "https://localhost:8080/"
        },
        "id": "2DKXirTfm7Hl",
        "outputId": "a3875880-57a1-461f-f1bf-a442e9bad50d"
      },
      "execution_count": null,
      "outputs": [
        {
          "output_type": "execute_result",
          "data": {
            "text/plain": [
              "5.706597222222243"
            ]
          },
          "metadata": {},
          "execution_count": 121
        }
      ]
    },
    {
      "cell_type": "code",
      "source": [
        "np.var(idades)"
      ],
      "metadata": {
        "colab": {
          "base_uri": "https://localhost:8080/"
        },
        "id": "lL8ulf0YmXf3",
        "outputId": "4ed782b0-e0b1-498e-ad62-23fccc4467e5"
      },
      "execution_count": null,
      "outputs": [
        {
          "output_type": "execute_result",
          "data": {
            "text/plain": [
              "5.706597222222221"
            ]
          },
          "metadata": {},
          "execution_count": 122
        }
      ]
    },
    {
      "cell_type": "code",
      "source": [
        "std_dev_I = np.sqrt( variancia_I )\n",
        "std_dev_I"
      ],
      "metadata": {
        "colab": {
          "base_uri": "https://localhost:8080/"
        },
        "id": "87nfklAXmgvT",
        "outputId": "fc9b49b8-7793-4c5e-ed31-d572c89a7fe3"
      },
      "execution_count": null,
      "outputs": [
        {
          "output_type": "execute_result",
          "data": {
            "text/plain": [
              "2.388848513870698"
            ]
          },
          "metadata": {},
          "execution_count": 123
        }
      ]
    },
    {
      "cell_type": "code",
      "source": [
        "np.std( idades )"
      ],
      "metadata": {
        "colab": {
          "base_uri": "https://localhost:8080/"
        },
        "id": "jehG8ko5mjhm",
        "outputId": "05eb757d-e101-4cc8-afda-4281022ac937"
      },
      "execution_count": null,
      "outputs": [
        {
          "output_type": "execute_result",
          "data": {
            "text/plain": [
              "2.3888485138706934"
            ]
          },
          "metadata": {},
          "execution_count": 124
        }
      ]
    },
    {
      "cell_type": "code",
      "source": [
        "( idades - np.mean( idades ) )"
      ],
      "metadata": {
        "colab": {
          "base_uri": "https://localhost:8080/"
        },
        "id": "NWK0RBUfmrvg",
        "outputId": "40c4b1f9-2f0c-4805-df61-508791f0841f"
      },
      "execution_count": null,
      "outputs": [
        {
          "output_type": "execute_result",
          "data": {
            "text/plain": [
              "array([-0.04166667, -3.04166667, -0.04166667,  0.95833333, -0.04166667,\n",
              "        4.95833333, -2.04166667,  1.95833333,  3.95833333, -1.04166667,\n",
              "       -4.04166667, -2.04166667, -3.04166667,  3.95833333, -0.04166667,\n",
              "       -0.04166667, -3.04166667,  1.95833333,  1.95833333, -1.04166667,\n",
              "        2.95833333, -0.04166667, -1.04166667, -2.04166667])"
            ]
          },
          "metadata": {},
          "execution_count": 125
        }
      ]
    },
    {
      "cell_type": "code",
      "source": [
        "desvio_medio = np.mean( np.abs( idades - np.mean( idades ) ) )\n",
        "print ( \"Desvio médio das idades: {}\".format( desvio_medio ) )\n"
      ],
      "metadata": {
        "colab": {
          "base_uri": "https://localhost:8080/"
        },
        "id": "pnssSuX3nMZn",
        "outputId": "93c1c790-9aef-4704-b0e0-2ec9ea66de15"
      },
      "execution_count": null,
      "outputs": [
        {
          "output_type": "stream",
          "name": "stdout",
          "text": [
            "Desvio médio das idades: 1.8888888888888886\n"
          ]
        }
      ]
    },
    {
      "cell_type": "code",
      "source": [
        "fig = plt.figure( figsize=(8,6) )\n",
        "counts, bins, _ = plt.hist( idades, bins=10, range=(6,15) )\n",
        "plt.xlim( 4, 16 )\n",
        "plt.xlabel( \"Idades (anos)\", fontsize=18 )\n",
        "plt.ylabel( \"Frequência\", fontsize=18 )\n",
        "print ( \"Média quadrática: {}\".format( np.sqrt( media_somax2 ) ) )\n",
        "print ( \"Média: {}\".format( media ) )"
      ],
      "metadata": {
        "colab": {
          "base_uri": "https://localhost:8080/",
          "height": 587
        },
        "id": "oli-nse8p6ov",
        "outputId": "0baedb68-7815-4def-9b47-3085ac5804d9"
      },
      "execution_count": null,
      "outputs": [
        {
          "output_type": "stream",
          "name": "stdout",
          "text": [
            "Média quadrática: 10.321902279457342\n",
            "Média: 10.041666666666666\n"
          ]
        },
        {
          "output_type": "display_data",
          "data": {
            "text/plain": [
              "<Figure size 800x600 with 1 Axes>"
            ],
            "image/png": "[encoded data removed]"
          },
          "metadata": {}
        }
      ]
    },
    {
      "cell_type": "markdown",
      "metadata": {
        "id": "y8tjreqUSwCg"
      },
      "source": [
        "\n",
        "## Exercícios:\n",
        "1. Altere a **classe de frequência** do histograma acima, para termos um intervalo de **5 anos** entre as idades e construa o histograma correspondente.\n",
        "\n",
        "\n",
        "2. Para construir esse histograma, usamos a **função** (ou **método**) *hist* de um **módulo** de Python, o *matplotlib*, cuja documentação se encontra [aqui](https://matplotlib.org/3.2.1/api/_as_gen/matplotlib.pyplot.hist.html#matplotlib.pyplot.hist). Baseando-se nessa documentação (ou qualquer outra que você encontre), mude a **cor** do histograma.\n",
        "\n",
        "3. Defina um outro conjunto e construa o histograma desse conjunto. Tente definir qual a melhor classe de frequência antes de construir seu histograma e veja o que acontece se você aumentar ou diminuir a classe de frequência (bins)."
      ]
    },
    {
      "cell_type": "markdown",
      "metadata": {
        "id": "kOepRhZD4q35"
      },
      "source": [
        "##Diagramas de Dispersão\n",
        "Abaixo, apresentamos como o exemplo o diagrama de dispersão altura (cms) x massa (kg)."
      ]
    },
    {
      "cell_type": "code",
      "metadata": {
        "id": "K2YO95OG5VP6",
        "outputId": "4de01eac-02dc-4c57-eba9-926f6de24965",
        "colab": {
          "base_uri": "https://localhost:8080/",
          "height": 564
        }
      },
      "source": [
        "import matplotlib.pyplot as plt\n",
        "\n",
        "#massa = [64,110,75,80,61,86,54,84,51,64,66,103,91]\n",
        "#altura = [174,185,174,170,168,173,162,176,166,168,177,174,175]\n",
        "massa = [64,68,69,65,66,81,80,74,70,63,53,76,65,85,93,55]\n",
        "altura = [170,168,180,175,170,170,173,170,190,170,165,178,178,183,179,169]\n",
        "\n",
        "fig = plt.figure( figsize=(8,6) )\n",
        "\n",
        "plt.plot(massa,altura,'o')\n",
        "plt.xlabel('massa (kg)')\n",
        "plt.ylabel('altura (cm)')\n",
        "plt.title('Diagrama de dispersão massa (kg) x altura (cm)')\n",
        "plt.show()\n",
        "\n",
        "#plt.scatter(massa,altura)\n",
        "#plt.show()"
      ],
      "execution_count": null,
      "outputs": [
        {
          "output_type": "display_data",
          "data": {
            "text/plain": [
              "<Figure size 800x600 with 1 Axes>"
            ],
            "image/png": "[encoded data removed]"
          },
          "metadata": {}
        }
      ]
    },
    {
      "cell_type": "markdown",
      "metadata": {
        "id": "wlzG9M2HBTaf"
      },
      "source": [
        "No diagrama acima, percebe-se que os valores de massa tem uma relação direta com a altura. \n",
        "\n",
        "Para construir os diagramas, usamos a **plot** de um **módulo** de Python, o *matplotlib*, cuja documentação se encontra [aqui](https://matplotlib.org/3.2.1/api/_as_gen/matplotlib.pyplot.plot.html?highlight=plot#matplotlib.pyplot.plot).\n",
        "\n",
        "\n",
        "- Agora, faça os outros dois diagramas de dispersão pedidos na aula 2. \n",
        "\n",
        "- Use sua criatividade e utilize símbolos diferentes em cada diagrama.\n"
      ]
    }
  ]
}