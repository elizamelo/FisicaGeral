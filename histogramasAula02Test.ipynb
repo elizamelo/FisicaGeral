{
  "nbformat": 4,
  "nbformat_minor": 0,
  "metadata": {
    "colab": {
      "provenance": [],
      "include_colab_link": true
    },
    "kernelspec": {
      "name": "python3",
      "display_name": "Python 3"
    }
  },
  "cells": [
    {
      "cell_type": "markdown",
      "metadata": {
        "id": "view-in-github",
        "colab_type": "text"
      },
      "source": [
        "<a href=\"https://colab.research.google.com/github/elizamelo/FisicaGeral/blob/main/histogramasAula02Test.ipynb\" target=\"_parent\"><img src=\"https://colab.research.google.com/assets/colab-badge.svg\" alt=\"Open In Colab\"/></a>"
      ]
    },
    {
      "cell_type": "markdown",
      "metadata": {
        "id": "XaNhcQ395QEd"
      },
      "source": [
        "# Como visualizar dados usando Python\n",
        "\n",
        "Vamos aprender aqui como visualizar um conjunto de dados utilizando Python como ferramenta. O nosso objetivo é construir **histogramas** e **gráficos**.\n",
        "\n",
        "A ferramenta que estamos usando é o [Google Colaboratory](https://colab.research.google.com/).\n",
        "\n",
        "O [Google Colaboratory](https://colab.research.google.com/) é um ambiente no seu navegador que usa a nuvem do Google. É construído em cima do [Jupyter Notebook](https://jupyter.org/) e usa Python como linguagem de programação.\n",
        "\n",
        "Em outras palavras, vamos aprender a **programar** histogramas e gráficos para visualizar dados, usando uma linguagem de programação chamada **Python**.\n",
        "\n",
        "### Mas o que é Python?\n",
        "\n",
        "Python é uma **linguagem de programação** de propósito geral.\n",
        "\n",
        "É uma das linguagens de programação mais usadas no mundo atualmente. \n",
        "\n",
        "   + É intuitiva e de rápida aprendizagem.\n",
        "   + Integra uma vasta biblioteca para computação científica e análise de dados: matplotlib, NumPy, pandas, SciPy, statsmodel, scikit-learn, etc. \n",
        "   + É \"portátil\": o código escrito em Python pode ser processado em qualquer sistema ou plataforma.\n",
        "\n",
        "\n",
        "Para mais informações, você pode acessar o site oficial de [Python](https://www.python.org/) (em inglês) ou [Python-Brasil](https://www.python.org.br/).\n",
        "\n",
        "\n",
        "### O que são histogramas?\n",
        "Um histograma é uma forma de representar um conjunto de dados. Em particular, um histograma representa a frequência com que um determinado valor aparece em um determinado conjunto contínuo de dados.\n",
        "\n",
        "Por exemplo, se considerarmos o seguinte conjunto de idades de um grupo de pessoas"
      ]
    },
    {
      "cell_type": "code",
      "metadata": {
        "colab": {
          "base_uri": "https://localhost:8080/"
        },
        "id": "KjIggCsmhjMy",
        "outputId": "0054ab3f-8060-49b9-c0e3-a3355f7f0184"
      },
      "source": [
        "3-5"
      ],
      "execution_count": null,
      "outputs": [
        {
          "output_type": "execute_result",
          "data": {
            "text/plain": [
              "-2"
            ]
          },
          "metadata": {},
          "execution_count": 1
        }
      ]
    },
    {
      "cell_type": "code",
      "metadata": {
        "id": "OgkU7qmKLXpq"
      },
      "source": [
        "#idades = [36,25,38,46,55,68,72,55,36,38,67,45,22,48,91,46,52,61,58,55] #(anos)\n",
        "\n",
        " #(anos)"
      ],
      "execution_count": null,
      "outputs": []
    },
    {
      "cell_type": "markdown",
      "metadata": {
        "id": "4xaxuvgmNEOg"
      },
      "source": [
        "1. Qual é a menor idade?\n",
        "1. E a maior?\n",
        "1. Qual a diferença entre a menor e a maior idade?\n",
        "1. Qual é a idade que aparece com maior frequência?"
      ]
    },
    {
      "cell_type": "markdown",
      "metadata": {
        "id": "JXjczaOcOLvm"
      },
      "source": [
        "## Representação do conjunto das idades\n",
        "Abaixo, colocamos as idades em um **histograma**, onde consideramos intervalos de 1 ano para representar as idades.\n",
        "\n",
        "**Observação**: para rodar o código abaixo e produzir o histograma, basta clicar na setinha que se encontra no canto esquerdo ao alto."
      ]
    },
    {
      "cell_type": "code",
      "metadata": {
        "colab": {
          "base_uri": "https://localhost:8080/"
        },
        "id": "Cw6vlT4p1ny6",
        "outputId": "b7be8445-fccb-41a3-c4ae-b9fa9a2c384e"
      },
      "source": [
        "10-15\n",
        " "
      ],
      "execution_count": null,
      "outputs": [
        {
          "output_type": "execute_result",
          "data": {
            "text/plain": [
              "-5"
            ]
          },
          "metadata": {},
          "execution_count": 3
        }
      ]
    },
    {
      "cell_type": "code",
      "metadata": {
        "id": "BDvYdHrvNdNI",
        "colab": {
          "base_uri": "https://localhost:8080/",
          "height": 295
        },
        "outputId": "2f25fefe-a0ec-443e-9012-5b9bbd42f211"
      },
      "source": [
        "import numpy as np\n",
        "import matplotlib as mpl\n",
        "import matplotlib.pyplot as plt\n",
        "\n",
        "#Turma 3 e 4\n",
        "idades = [10,11,12,13,13,14,14,15,13,12,13,11,12,10,13,11,14,12,10,13] #anos\n",
        "#idades =[22,21,20,23,25,30,20,25,19,26,21,23,25]\n",
        "plt.hist(idades, bins=6, range=[9,16])\n",
        "plt.xlabel('idade (anos)')\n",
        "plt.ylabel('frequência')\n",
        "plt.title('Histograma das idades de um grupo de pessoas')\n",
        "\n",
        "plt.show()"
      ],
      "execution_count": null,
      "outputs": [
        {
          "output_type": "display_data",
          "data": {
            "text/plain": [
              "<Figure size 432x288 with 1 Axes>"
            ],
            "image/png": "[encoded data removed]"
          },
          "metadata": {
            "needs_background": "light"
          }
        }
      ]
    },
    {
      "cell_type": "markdown",
      "metadata": {
        "id": "ucam_N-pOiax"
      },
      "source": [
        "O histograma acima, representa a **distribuição** das idades, organizadas em intervalos de 1 ano. Colocamos o título em cada eixo, para determinar o que representam. É importante determinar os títulos dos eixos e a unidades correspondente.\n",
        "\n",
        "A distribuição ficou um pouco espalhada demais (esparsa), certo?\n",
        "\n",
        "E se decidirmos representar as idades em intervalos de 10 anos? Como ficaria essa distribuição?\n",
        "Vamos ver!\n",
        "\n",
        "No código de Python que estamos construindo, o que controla os intervalos (também chamamos esses intervalos de **classes de frequência**) é a **variável** chamada de \"bins\". A variável chamada \"range\" (que é opcional), determina a variação dos valores do eixo-x. No nosso exemplo das idades, o intervalo do eixo-x é de 18 a 40, que são a menor e maior idade do conjunto, respectivamente."
      ]
    },
    {
      "cell_type": "code",
      "metadata": {
        "id": "inl3CpdKPnAc",
        "colab": {
          "base_uri": "https://localhost:8080/",
          "height": 295
        },
        "outputId": "bd716b29-4753-430c-a6d1-8f6f3da41349"
      },
      "source": [
        "plt.hist(idades, bins=[10,20])\n",
        "plt.xlabel('idade (anos)')\n",
        "plt.ylabel('frequência')\n",
        "plt.title('Histograma das idades de um grupo de pessoas')\n",
        "plt.show()"
      ],
      "execution_count": null,
      "outputs": [
        {
          "output_type": "display_data",
          "data": {
            "text/plain": [
              "<Figure size 432x288 with 1 Axes>"
            ],
            "image/png": "[encoded data removed]"
          },
          "metadata": {
            "needs_background": "light"
          }
        }
      ]
    },
    {
      "cell_type": "code",
      "source": [
        "fig = plt.figure( figsize=(8,6) )\n",
        "\n",
        "counts, bins, _ = plt.hist( idades, bins=6, range=(10,16) )\n",
        "plt.xlim( 10, 16 )\n",
        "plt.xlabel( \"Idades (anos)\", fontsize=18 )\n",
        "plt.ylabel( \"Frequência\", fontsize=18 )"
      ],
      "metadata": {
        "colab": {
          "base_uri": "https://localhost:8080/",
          "height": 413
        },
        "id": "enPfs8JdffSd",
        "outputId": "c0b2cd78-c842-478c-ccc5-7a7232b694ee"
      },
      "execution_count": null,
      "outputs": [
        {
          "output_type": "execute_result",
          "data": {
            "text/plain": [
              "Text(0, 0.5, 'Frequência')"
            ]
          },
          "metadata": {},
          "execution_count": 6
        },
        {
          "output_type": "display_data",
          "data": {
            "text/plain": [
              "<Figure size 576x432 with 1 Axes>"
            ],
            "image/png": "[encoded data removed]"
          },
          "metadata": {
            "needs_background": "light"
          }
        }
      ]
    },
    {
      "cell_type": "markdown",
      "source": [
        "Frequência para cada intervalo:\n",
        "\n"
      ],
      "metadata": {
        "id": "Vb1QxVeIgh4m"
      }
    },
    {
      "cell_type": "code",
      "source": [
        "counts"
      ],
      "metadata": {
        "colab": {
          "base_uri": "https://localhost:8080/"
        },
        "id": "B6rcUr2Agk99",
        "outputId": "dd443af6-6368-4928-fdba-a84cba031d44"
      },
      "execution_count": null,
      "outputs": [
        {
          "output_type": "execute_result",
          "data": {
            "text/plain": [
              "array([3., 3., 4., 6., 3., 1.])"
            ]
          },
          "metadata": {},
          "execution_count": 7
        }
      ]
    },
    {
      "cell_type": "markdown",
      "source": [
        "Bordas dos intervalos:"
      ],
      "metadata": {
        "id": "FKLFq4ddg2lv"
      }
    },
    {
      "cell_type": "code",
      "source": [
        "bins"
      ],
      "metadata": {
        "colab": {
          "base_uri": "https://localhost:8080/"
        },
        "id": "fouB3IErg-Uf",
        "outputId": "c0dd57aa-fe64-45e8-abc5-d4015a6381e7"
      },
      "execution_count": null,
      "outputs": [
        {
          "output_type": "execute_result",
          "data": {
            "text/plain": [
              "array([10., 11., 12., 13., 14., 15., 16.])"
            ]
          },
          "metadata": {},
          "execution_count": 8
        }
      ]
    },
    {
      "cell_type": "markdown",
      "source": [
        "Média:"
      ],
      "metadata": {
        "id": "9N0abXBWiMq4"
      }
    },
    {
      "cell_type": "code",
      "source": [
        "np.sum(idades)"
      ],
      "metadata": {
        "colab": {
          "base_uri": "https://localhost:8080/"
        },
        "id": "6AF6X9q7iTOU",
        "outputId": "2686e99e-e2b2-4f00-c910-7229b4934a19"
      },
      "execution_count": null,
      "outputs": [
        {
          "output_type": "execute_result",
          "data": {
            "text/plain": [
              "246"
            ]
          },
          "metadata": {},
          "execution_count": 9
        }
      ]
    },
    {
      "cell_type": "code",
      "source": [
        "N=len(idades)\n",
        "N\n"
      ],
      "metadata": {
        "colab": {
          "base_uri": "https://localhost:8080/"
        },
        "id": "e2cOeYVKijvz",
        "outputId": "cdaa014f-1ec5-435c-de27-54936d553920"
      },
      "execution_count": null,
      "outputs": [
        {
          "output_type": "execute_result",
          "data": {
            "text/plain": [
              "20"
            ]
          },
          "metadata": {},
          "execution_count": 10
        }
      ]
    },
    {
      "cell_type": "code",
      "source": [
        "media = np.sum( idades ) / N\n",
        "print ( \"Média: {}\".format( media ) )"
      ],
      "metadata": {
        "colab": {
          "base_uri": "https://localhost:8080/"
        },
        "id": "iL96rD4ZkMqi",
        "outputId": "fda19578-046b-4254-cb39-a1873b25e23a"
      },
      "execution_count": null,
      "outputs": [
        {
          "output_type": "stream",
          "name": "stdout",
          "text": [
            "Média: 12.3\n"
          ]
        }
      ]
    },
    {
      "cell_type": "code",
      "source": [
        "x_bar=np.mean(idades)\n",
        "x_bar"
      ],
      "metadata": {
        "colab": {
          "base_uri": "https://localhost:8080/"
        },
        "id": "UBuKx1G5kmIE",
        "outputId": "29382757-27a1-4fe0-a6df-b92b3c641167"
      },
      "execution_count": null,
      "outputs": [
        {
          "output_type": "execute_result",
          "data": {
            "text/plain": [
              "12.3"
            ]
          },
          "metadata": {},
          "execution_count": 12
        }
      ]
    },
    {
      "cell_type": "markdown",
      "source": [
        "Cálculo da média quadrática:\n"
      ],
      "metadata": {
        "id": "yQFNuoiqkjak"
      }
    },
    {
      "cell_type": "code",
      "source": [
        "# Sequência de valores ao quadrado\n",
        "x2 = [x**2 for x in idades]\n",
        "x2"
      ],
      "metadata": {
        "colab": {
          "base_uri": "https://localhost:8080/"
        },
        "id": "G3O-bJi9kkWP",
        "outputId": "5c7878b9-a2d1-48ed-d5cd-2dbf2097f807"
      },
      "execution_count": null,
      "outputs": [
        {
          "output_type": "execute_result",
          "data": {
            "text/plain": [
              "[100,\n",
              " 121,\n",
              " 144,\n",
              " 169,\n",
              " 169,\n",
              " 196,\n",
              " 196,\n",
              " 225,\n",
              " 169,\n",
              " 144,\n",
              " 169,\n",
              " 121,\n",
              " 144,\n",
              " 100,\n",
              " 169,\n",
              " 121,\n",
              " 196,\n",
              " 144,\n",
              " 100,\n",
              " 169]"
            ]
          },
          "metadata": {},
          "execution_count": 13
        }
      ]
    },
    {
      "cell_type": "code",
      "source": [
        "somax2= np.sum( x2 )\n",
        "somax2\n"
      ],
      "metadata": {
        "colab": {
          "base_uri": "https://localhost:8080/"
        },
        "id": "TCy3XUl9nfqI",
        "outputId": "8e63ac0c-c438-449b-e904-04d4ba24d61a"
      },
      "execution_count": null,
      "outputs": [
        {
          "output_type": "execute_result",
          "data": {
            "text/plain": [
              "3066"
            ]
          },
          "metadata": {},
          "execution_count": 14
        }
      ]
    },
    {
      "cell_type": "code",
      "source": [
        "msomax2=np.mean(x2)\n",
        "msomax2"
      ],
      "metadata": {
        "colab": {
          "base_uri": "https://localhost:8080/"
        },
        "id": "90RgxvMWb_gp",
        "outputId": "813e771b-798e-4e04-b62f-20667fd58aa6"
      },
      "execution_count": null,
      "outputs": [
        {
          "output_type": "execute_result",
          "data": {
            "text/plain": [
              "153.3"
            ]
          },
          "metadata": {},
          "execution_count": 15
        }
      ]
    },
    {
      "cell_type": "code",
      "source": [
        "print ( \"Média quadrática: {}\".format(np.sqrt(msomax2))) "
      ],
      "metadata": {
        "colab": {
          "base_uri": "https://localhost:8080/"
        },
        "id": "YOIxGmdSa_0G",
        "outputId": "33da0832-e290-4f73-fa2e-3552e463cbf7"
      },
      "execution_count": null,
      "outputs": [
        {
          "output_type": "stream",
          "name": "stdout",
          "text": [
            "Média quadrática: 12.381437719424994\n"
          ]
        }
      ]
    },
    {
      "cell_type": "markdown",
      "source": [
        "Calculo da mediana:"
      ],
      "metadata": {
        "id": "TBywNA8Xn59Y"
      }
    },
    {
      "cell_type": "code",
      "source": [
        "np.median( idades)"
      ],
      "metadata": {
        "colab": {
          "base_uri": "https://localhost:8080/"
        },
        "id": "Y9CbDf5vhX7A",
        "outputId": "5eb47fdd-ce56-4928-e21b-2b4890c2aebf"
      },
      "execution_count": null,
      "outputs": [
        {
          "output_type": "execute_result",
          "data": {
            "text/plain": [
              "12.5"
            ]
          },
          "metadata": {},
          "execution_count": 17
        }
      ]
    },
    {
      "cell_type": "code",
      "source": [
        "np.percentile( idades, 50.0 )"
      ],
      "metadata": {
        "colab": {
          "base_uri": "https://localhost:8080/"
        },
        "id": "zl3-KiEphoWs",
        "outputId": "7b9e6354-9c4b-4b72-f579-0708d83e241b"
      },
      "execution_count": null,
      "outputs": [
        {
          "output_type": "execute_result",
          "data": {
            "text/plain": [
              "12.5"
            ]
          },
          "metadata": {},
          "execution_count": 18
        }
      ]
    },
    {
      "cell_type": "code",
      "source": [
        "idades_ord = np.sort( idades )\n",
        "idades_ord"
      ],
      "metadata": {
        "colab": {
          "base_uri": "https://localhost:8080/"
        },
        "id": "gKtaZoJJn8Cl",
        "outputId": "6acdacd0-d19f-4f7f-f012-dee6b8967e04"
      },
      "execution_count": null,
      "outputs": [
        {
          "output_type": "execute_result",
          "data": {
            "text/plain": [
              "array([10, 10, 10, 11, 11, 11, 12, 12, 12, 12, 13, 13, 13, 13, 13, 13, 14,\n",
              "       14, 14, 15])"
            ]
          },
          "metadata": {},
          "execution_count": 19
        }
      ]
    },
    {
      "cell_type": "code",
      "source": [
        "#idades_ord[ int(N/2)-1 ] # Índices de 0..(N-1)"
      ],
      "metadata": {
        "id": "R5_bcyvqoZ5_"
      },
      "execution_count": null,
      "outputs": []
    },
    {
      "cell_type": "code",
      "source": [
        "#idades_ord[ int(N/2) ] # Índices de 0..(N-1)"
      ],
      "metadata": {
        "id": "VvalzCUJodXA"
      },
      "execution_count": null,
      "outputs": []
    },
    {
      "cell_type": "code",
      "source": [
        "# Diferença entre média dos quadrados e quadrado da média\n",
        "variancia_I = np.mean( x2 ) - (media) ** 2\n",
        "variancia_I"
      ],
      "metadata": {
        "colab": {
          "base_uri": "https://localhost:8080/"
        },
        "id": "2DKXirTfm7Hl",
        "outputId": "9fbaa4d3-a8c7-4ce0-8c2f-80bf621cfab3"
      },
      "execution_count": null,
      "outputs": [
        {
          "output_type": "execute_result",
          "data": {
            "text/plain": [
              "2.009999999999991"
            ]
          },
          "metadata": {},
          "execution_count": 22
        }
      ]
    },
    {
      "cell_type": "code",
      "source": [
        "np.var(idades)"
      ],
      "metadata": {
        "colab": {
          "base_uri": "https://localhost:8080/"
        },
        "id": "lL8ulf0YmXf3",
        "outputId": "330299b8-3131-4b29-ea6c-d30fcdec4a2c"
      },
      "execution_count": null,
      "outputs": [
        {
          "output_type": "execute_result",
          "data": {
            "text/plain": [
              "2.0100000000000007"
            ]
          },
          "metadata": {},
          "execution_count": 23
        }
      ]
    },
    {
      "cell_type": "code",
      "source": [
        "std_dev_I = np.sqrt( variancia_I )\n",
        "std_dev_I"
      ],
      "metadata": {
        "colab": {
          "base_uri": "https://localhost:8080/"
        },
        "id": "87nfklAXmgvT",
        "outputId": "fc4b6fe5-17ca-407a-c356-5e01c59dc0d5"
      },
      "execution_count": null,
      "outputs": [
        {
          "output_type": "execute_result",
          "data": {
            "text/plain": [
              "1.4177446878757793"
            ]
          },
          "metadata": {},
          "execution_count": 24
        }
      ]
    },
    {
      "cell_type": "code",
      "source": [
        "np.std( idades )"
      ],
      "metadata": {
        "colab": {
          "base_uri": "https://localhost:8080/"
        },
        "id": "jehG8ko5mjhm",
        "outputId": "0c095ada-64f0-4d84-fb26-d897ed4b7705"
      },
      "execution_count": null,
      "outputs": [
        {
          "output_type": "execute_result",
          "data": {
            "text/plain": [
              "1.4177446878757827"
            ]
          },
          "metadata": {},
          "execution_count": 25
        }
      ]
    },
    {
      "cell_type": "code",
      "source": [
        "( idades - np.mean( idades ) )"
      ],
      "metadata": {
        "colab": {
          "base_uri": "https://localhost:8080/"
        },
        "id": "NWK0RBUfmrvg",
        "outputId": "f344a759-f598-42e2-8224-6457445bbfb3"
      },
      "execution_count": null,
      "outputs": [
        {
          "output_type": "execute_result",
          "data": {
            "text/plain": [
              "array([-2.3, -1.3, -0.3,  0.7,  0.7,  1.7,  1.7,  2.7,  0.7, -0.3,  0.7,\n",
              "       -1.3, -0.3, -2.3,  0.7, -1.3,  1.7, -0.3, -2.3,  0.7])"
            ]
          },
          "metadata": {},
          "execution_count": 26
        }
      ]
    },
    {
      "cell_type": "code",
      "source": [
        "desvio_medio = np.mean( np.abs( idades - np.mean( idades ) ) )\n",
        "print ( \"Desvio médio das idades: {}\".format( desvio_medio ) )\n"
      ],
      "metadata": {
        "colab": {
          "base_uri": "https://localhost:8080/"
        },
        "id": "pnssSuX3nMZn",
        "outputId": "071c489d-9530-4c08-895d-a42e204f8193"
      },
      "execution_count": null,
      "outputs": [
        {
          "output_type": "stream",
          "name": "stdout",
          "text": [
            "Desvio médio das idades: 1.2\n"
          ]
        }
      ]
    },
    {
      "cell_type": "code",
      "source": [
        "fig = plt.figure( figsize=(8,6) )\n",
        "counts, bins, _ = plt.hist( idades, bins=5, range=(10,15) )\n",
        "plt.xlim( 10, 15 )\n",
        "plt.xlabel( \"Idades (anos)\", fontsize=18 )\n",
        "plt.ylabel( \"Frequência\", fontsize=18 )\n",
        "print ( \"Média quadrática: {}\".format( np.sqrt( msomax2 ) ) )\n",
        "print ( \"Média: {}\".format( media ) )"
      ],
      "metadata": {
        "colab": {
          "base_uri": "https://localhost:8080/",
          "height": 431
        },
        "id": "oli-nse8p6ov",
        "outputId": "2a94d3ed-ceea-4598-dc09-4eda51a7159f"
      },
      "execution_count": null,
      "outputs": [
        {
          "output_type": "stream",
          "name": "stdout",
          "text": [
            "Média quadrática: 12.381437719424994\n",
            "Média: 12.3\n"
          ]
        },
        {
          "output_type": "display_data",
          "data": {
            "text/plain": [
              "<Figure size 576x432 with 1 Axes>"
            ],
            "image/png": "[encoded data removed]"
          },
          "metadata": {
            "needs_background": "light"
          }
        }
      ]
    },
    {
      "cell_type": "markdown",
      "metadata": {
        "id": "y8tjreqUSwCg"
      },
      "source": [
        "\n",
        "## Exercícios:\n",
        "1. Altere a **classe de frequência** do histograma acima, para termos um intervalo de **5 anos** entre as idades e construa o histograma correspondente.\n",
        "\n",
        "\n",
        "2. Para construir esse histograma, usamos a **função** (ou **método**) *hist* de um **módulo** de Python, o *matplotlib*, cuja documentação se encontra [aqui](https://matplotlib.org/3.2.1/api/_as_gen/matplotlib.pyplot.hist.html#matplotlib.pyplot.hist). Baseando-se nessa documentação (ou qualquer outra que você encontre), mude a **cor** do histograma.\n",
        "\n",
        "3. Defina um outro conjunto e construa o histograma desse conjunto. Tente definir qual a melhor classe de frequência antes de construir seu histograma e veja o que acontece se você aumentar ou diminuir a classe de frequência (bins)."
      ]
    },
    {
      "cell_type": "markdown",
      "metadata": {
        "id": "kOepRhZD4q35"
      },
      "source": [
        "##Diagramas de Dispersão\n",
        "Abaixo, apresentamos como o exemplo o diagrama de dispersão altura (cms) x massa (kg)."
      ]
    },
    {
      "cell_type": "code",
      "metadata": {
        "id": "K2YO95OG5VP6",
        "outputId": "c0a03db8-9873-44c6-fc3f-aced765b8b23",
        "colab": {
          "base_uri": "https://localhost:8080/",
          "height": 404
        }
      },
      "source": [
        "import matplotlib.pyplot as plt\n",
        "\n",
        "#massa = [64,110,75,80,61,86,54,84,51,64,66,103,91]\n",
        "#altura = [174,185,174,170,168,173,162,176,166,168,177,174,175]\n",
        "massa = [64,68,69,65,66,81,80,74,70,63,53,76,65,85,93,55]\n",
        "altura = [170,168,180,175,170,170,173,170,190,170,165,178,178,183,179,169]\n",
        "\n",
        "fig = plt.figure( figsize=(8,6) )\n",
        "\n",
        "plt.plot(massa,altura,'o')\n",
        "plt.xlabel('massa (kg)')\n",
        "plt.ylabel('altura (cm)')\n",
        "plt.title('Diagrama de dispersão massa (kg) x altura (cm)')\n",
        "plt.show()\n",
        "\n",
        "#plt.scatter(massa,altura)\n",
        "#plt.show()"
      ],
      "execution_count": null,
      "outputs": [
        {
          "output_type": "display_data",
          "data": {
            "text/plain": [
              "<Figure size 576x432 with 1 Axes>"
            ],
            "image/png": "[encoded data removed]"
          },
          "metadata": {
            "needs_background": "light"
          }
        }
      ]
    },
    {
      "cell_type": "markdown",
      "metadata": {
        "id": "wlzG9M2HBTaf"
      },
      "source": [
        "No diagrama acima, percebe-se que os valores de massa tem uma relação direta com a altura. \n",
        "\n",
        "Para construir os diagramas, usamos a **plot** de um **módulo** de Python, o *matplotlib*, cuja documentação se encontra [aqui](https://matplotlib.org/3.2.1/api/_as_gen/matplotlib.pyplot.plot.html?highlight=plot#matplotlib.pyplot.plot).\n",
        "\n",
        "\n",
        "- Agora, faça os outros dois diagramas de dispersão pedidos na aula 2. \n",
        "\n",
        "- Use sua criatividade e utilize símbolos diferentes em cada diagrama.\n"
      ]
    }
  ]
}