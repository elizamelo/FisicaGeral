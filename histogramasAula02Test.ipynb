{
  "nbformat": 4,
  "nbformat_minor": 0,
  "metadata": {
    "colab": {
      "name": "histogramasAula02Test.ipynb",
      "provenance": [],
      "collapsed_sections": [],
      "include_colab_link": true
    },
    "kernelspec": {
      "name": "python3",
      "display_name": "Python 3"
    }
  },
  "cells": [
    {
      "cell_type": "markdown",
      "metadata": {
        "id": "view-in-github",
        "colab_type": "text"
      },
      "source": [
        "<a href=\"https://colab.research.google.com/github/elizamelo/FisicaGeral/blob/main/histogramasAula02Test.ipynb\" target=\"_parent\"><img src=\"https://colab.research.google.com/assets/colab-badge.svg\" alt=\"Open In Colab\"/></a>"
      ]
    },
    {
      "cell_type": "markdown",
      "metadata": {
        "id": "XaNhcQ395QEd"
      },
      "source": [
        "# Como visualizar dados usando Python\n",
        "\n",
        "Vamos aprender aqui como visualizar um conjunto de dados utilizando Python como ferramenta. O nosso objetivo é construir **histogramas** e **gráficos**.\n",
        "\n",
        "A ferramenta que estamos usando é o [Google Colaboratory](https://colab.research.google.com/).\n",
        "\n",
        "O [Google Colaboratory](https://colab.research.google.com/) é um ambiente no seu navegador que usa a nuvem do Google. É construído em cima do [Jupyter Notebook](https://jupyter.org/) e usa Python como linguagem de programação.\n",
        "\n",
        "Em outras palavras, vamos aprender a **programar** histogramas e gráficos para visualizar dados, usando uma linguagem de programação chamada **Python**.\n",
        "\n",
        "### Mas o que é Python?\n",
        "\n",
        "Python é uma **linguagem de programação** de propósito geral.\n",
        "\n",
        "É uma das linguagens de programação mais usadas no mundo atualmente. \n",
        "\n",
        "   + É intuitiva e de rápida aprendizagem.\n",
        "   + Integra uma vasta biblioteca para computação científica e análise de dados: matplotlib, NumPy, pandas, SciPy, statsmodel, scikit-learn, etc. \n",
        "   + É \"portátil\": o código escrito em Python pode ser processado em qualquer sistema ou plataforma.\n",
        "\n",
        "\n",
        "Para mais informações, você pode acessar o site oficial de [Python](https://www.python.org/) (em inglês) ou [Python-Brasil](https://www.python.org.br/).\n",
        "\n",
        "\n",
        "### O que são histogramas?\n",
        "Um histograma é uma forma de representar um conjunto de dados. Em particular, um histograma representa a frequência com que um determinado valor aparece em um determinado conjunto contínuo de dados.\n",
        "\n",
        "Por exemplo, se considerarmos o seguinte conjunto de idades de um grupo de pessoas"
      ]
    },
    {
      "cell_type": "code",
      "metadata": {
        "colab": {
          "base_uri": "https://localhost:8080/"
        },
        "id": "KjIggCsmhjMy",
        "outputId": "73afaf44-b25c-4414-b8e8-0772e30ccd83"
      },
      "source": [
        "3-2"
      ],
      "execution_count": null,
      "outputs": [
        {
          "output_type": "execute_result",
          "data": {
            "text/plain": [
              "1"
            ]
          },
          "metadata": {},
          "execution_count": 1
        }
      ]
    },
    {
      "cell_type": "code",
      "metadata": {
        "id": "OgkU7qmKLXpq"
      },
      "source": [
        "idades = [36,25,38,46,55,68,72,55,36,38,67,45,22,48,91,46,52,61,58,55] #(anos)"
      ],
      "execution_count": null,
      "outputs": []
    },
    {
      "cell_type": "markdown",
      "metadata": {
        "id": "4xaxuvgmNEOg"
      },
      "source": [
        "1. Qual é a menor idade?\n",
        "1. E a maior?\n",
        "1. Qual a diferença entre a menor e a maior idade?\n",
        "1. Qual é a idade que aparece com maior frequência?"
      ]
    },
    {
      "cell_type": "markdown",
      "metadata": {
        "id": "JXjczaOcOLvm"
      },
      "source": [
        "## Representação do conjunto das idades\n",
        "Abaixo, colocamos as idades em um **histograma**, onde consideramos intervalos de 1 ano para representar as idades.\n",
        "\n",
        "**Observação**: para rodar o código abaixo e produzir o histograma, basta clicar na setinha que se encontra no canto esquerdo ao alto."
      ]
    },
    {
      "cell_type": "code",
      "metadata": {
        "colab": {
          "base_uri": "https://localhost:8080/"
        },
        "id": "Cw6vlT4p1ny6",
        "outputId": "691bca3f-7fd9-40bf-9f14-67d45cd42c0b"
      },
      "source": [
        "92-22"
      ],
      "execution_count": null,
      "outputs": [
        {
          "output_type": "execute_result",
          "data": {
            "text/plain": [
              "70"
            ]
          },
          "metadata": {},
          "execution_count": 3
        }
      ]
    },
    {
      "cell_type": "code",
      "metadata": {
        "id": "BDvYdHrvNdNI",
        "colab": {
          "base_uri": "https://localhost:8080/",
          "height": 295
        },
        "outputId": "11336bdf-a17e-4c96-f107-b442fc5356b1"
      },
      "source": [
        "import numpy as np\n",
        "import pandas as pd\n",
        "import matplotlib as mpl\n",
        "import matplotlib.pyplot as plt\n",
        "\n",
        "\n",
        "idades =[22,21,20,23,25,30,20,25,19,26,21,23,25]\n",
        "plt.hist(idades, bins=11, range=[19,30])\n",
        "plt.xlabel('idade (anos)')\n",
        "plt.ylabel('frequência')\n",
        "plt.title('Histograma das idades de um grupo de pessoas')\n",
        "\n",
        "plt.show()"
      ],
      "execution_count": 10,
      "outputs": [
        {
          "output_type": "display_data",
          "data": {
            "image/png": "[encoded data removed]",
            "text/plain": [
              "<Figure size 432x288 with 1 Axes>"
            ]
          },
          "metadata": {
            "needs_background": "light"
          }
        }
      ]
    },
    {
      "cell_type": "markdown",
      "metadata": {
        "id": "ucam_N-pOiax"
      },
      "source": [
        "O histograma acima, representa a **distribuição** das idades, organizadas em intervalos de 1 ano. Colocamos o título em cada eixo, para determinar o que representam. É importante determinar os títulos dos eixos e a unidades correspondente.\n",
        "\n",
        "A distribuição ficou um pouco espalhada demais (esparsa), certo?\n",
        "\n",
        "E se decidirmos representar as idades em intervalos de 10 anos? Como ficaria essa distribuição?\n",
        "Vamos ver!\n",
        "\n",
        "No código de Python que estamos construindo, o que controla os intervalos (também chamamos esses intervalos de **classes de frequência**) é a **variável** chamada de \"bins\". A variável chamada \"range\" (que é opcional), determina a variação dos valores do eixo-x. No nosso exemplo das idades, o intervalo do eixo-x é de 19 a 30, que são a menor e maior idade do conjunto, respectivamente."
      ]
    },
    {
      "cell_type": "code",
      "metadata": {
        "id": "inl3CpdKPnAc",
        "colab": {
          "base_uri": "https://localhost:8080/",
          "height": 295
        },
        "outputId": "fc609eb3-f539-48c6-f776-bf9eab8816d6"
      },
      "source": [
        "plt.hist(idades, bins=[10,20,30])\n",
        "plt.xlabel('idade (anos)')\n",
        "plt.ylabel('frequência')\n",
        "plt.title('Histograma das idades de um grupo de pessoas')\n",
        "plt.show()"
      ],
      "execution_count": 13,
      "outputs": [
        {
          "output_type": "display_data",
          "data": {
            "image/png": "[encoded data removed]",
            "text/plain": [
              "<Figure size 432x288 with 1 Axes>"
            ]
          },
          "metadata": {
            "needs_background": "light"
          }
        }
      ]
    },
    {
      "cell_type": "code",
      "source": [
        "fig = plt.figure( figsize=(8,6) )\n",
        "\n",
        "counts, bins, _ = plt.hist( idades, bins=11, range=(19,30) )\n",
        "plt.xlim( 18, 32 )\n",
        "plt.xlabel( \"Idades (anos)\", fontsize=18 )\n",
        "plt.ylabel( \"Frequência\", fontsize=18 )"
      ],
      "metadata": {
        "colab": {
          "base_uri": "https://localhost:8080/",
          "height": 413
        },
        "id": "enPfs8JdffSd",
        "outputId": "82fa615d-6fdc-4ad6-f5eb-2429d9aaadb8"
      },
      "execution_count": 17,
      "outputs": [
        {
          "output_type": "execute_result",
          "data": {
            "text/plain": [
              "Text(0, 0.5, 'Frequência')"
            ]
          },
          "metadata": {},
          "execution_count": 17
        },
        {
          "output_type": "display_data",
          "data": {
            "image/png": "[encoded data removed]",
            "text/plain": [
              "<Figure size 576x432 with 1 Axes>"
            ]
          },
          "metadata": {
            "needs_background": "light"
          }
        }
      ]
    },
    {
      "cell_type": "markdown",
      "source": [
        "Frequência para cada intervalo:\n",
        "\n"
      ],
      "metadata": {
        "id": "Vb1QxVeIgh4m"
      }
    },
    {
      "cell_type": "code",
      "source": [
        "counts"
      ],
      "metadata": {
        "colab": {
          "base_uri": "https://localhost:8080/"
        },
        "id": "B6rcUr2Agk99",
        "outputId": "6f4d5700-8c4c-4242-e822-44b1276dc65c"
      },
      "execution_count": 19,
      "outputs": [
        {
          "output_type": "execute_result",
          "data": {
            "text/plain": [
              "array([1., 2., 2., 1., 2., 0., 3., 1., 0., 0., 1.])"
            ]
          },
          "metadata": {},
          "execution_count": 19
        }
      ]
    },
    {
      "cell_type": "markdown",
      "source": [
        "Bordas dos intervalos:"
      ],
      "metadata": {
        "id": "FKLFq4ddg2lv"
      }
    },
    {
      "cell_type": "code",
      "source": [
        "bins"
      ],
      "metadata": {
        "colab": {
          "base_uri": "https://localhost:8080/"
        },
        "id": "fouB3IErg-Uf",
        "outputId": "a5b25a5f-cf0c-4955-fb62-2dd022eb4535"
      },
      "execution_count": 18,
      "outputs": [
        {
          "output_type": "execute_result",
          "data": {
            "text/plain": [
              "array([19., 20., 21., 22., 23., 24., 25., 26., 27., 28., 29., 30.])"
            ]
          },
          "metadata": {},
          "execution_count": 18
        }
      ]
    },
    {
      "cell_type": "markdown",
      "source": [
        "Média:"
      ],
      "metadata": {
        "id": "9N0abXBWiMq4"
      }
    },
    {
      "cell_type": "code",
      "source": [
        "np.sum(idades)"
      ],
      "metadata": {
        "colab": {
          "base_uri": "https://localhost:8080/"
        },
        "id": "6AF6X9q7iTOU",
        "outputId": "c96a9cf8-9f82-43ef-98d4-57bdb03c853b"
      },
      "execution_count": 20,
      "outputs": [
        {
          "output_type": "execute_result",
          "data": {
            "text/plain": [
              "300"
            ]
          },
          "metadata": {},
          "execution_count": 20
        }
      ]
    },
    {
      "cell_type": "code",
      "source": [
        "N=len(idades)\n",
        "N\n"
      ],
      "metadata": {
        "colab": {
          "base_uri": "https://localhost:8080/"
        },
        "id": "e2cOeYVKijvz",
        "outputId": "5a09e581-de77-4ecd-cabf-c802930dd775"
      },
      "execution_count": 21,
      "outputs": [
        {
          "output_type": "execute_result",
          "data": {
            "text/plain": [
              "13"
            ]
          },
          "metadata": {},
          "execution_count": 21
        }
      ]
    },
    {
      "cell_type": "code",
      "source": [
        "media = np.sum( idades ) / N\n",
        "print ( \"Média: {}\".format( media ) )"
      ],
      "metadata": {
        "colab": {
          "base_uri": "https://localhost:8080/"
        },
        "id": "iL96rD4ZkMqi",
        "outputId": "4266767f-8f31-4e42-96ac-07774707b5cf"
      },
      "execution_count": 22,
      "outputs": [
        {
          "output_type": "stream",
          "name": "stdout",
          "text": [
            "Média: 23.076923076923077\n"
          ]
        }
      ]
    },
    {
      "cell_type": "markdown",
      "source": [
        "Cálculo da média quadrática:\n"
      ],
      "metadata": {
        "id": "yQFNuoiqkjak"
      }
    },
    {
      "cell_type": "code",
      "source": [
        "# Sequência de valores ao quadrado\n",
        "x2 = [x**2 for x in idades]\n",
        "x2"
      ],
      "metadata": {
        "colab": {
          "base_uri": "https://localhost:8080/"
        },
        "id": "G3O-bJi9kkWP",
        "outputId": "d92e0524-8e96-4848-9434-839548c92d47"
      },
      "execution_count": 25,
      "outputs": [
        {
          "output_type": "execute_result",
          "data": {
            "text/plain": [
              "[484, 441, 400, 529, 625, 900, 400, 625, 361, 676, 441, 529, 625]"
            ]
          },
          "metadata": {},
          "execution_count": 25
        }
      ]
    },
    {
      "cell_type": "code",
      "source": [
        "somax2= np.sum( x2 )\n",
        "somax2\n"
      ],
      "metadata": {
        "colab": {
          "base_uri": "https://localhost:8080/"
        },
        "id": "TCy3XUl9nfqI",
        "outputId": "9256c545-f293-4ee5-a70c-f9428c3ef072"
      },
      "execution_count": 28,
      "outputs": [
        {
          "output_type": "execute_result",
          "data": {
            "text/plain": [
              "7036"
            ]
          },
          "metadata": {},
          "execution_count": 28
        }
      ]
    },
    {
      "cell_type": "code",
      "source": [
        "msomax2=np.mean(x2)\n",
        "msomax2"
      ],
      "metadata": {
        "colab": {
          "base_uri": "https://localhost:8080/"
        },
        "id": "90RgxvMWb_gp",
        "outputId": "e9cc52ec-a860-47bd-eccf-ffe54240ec34"
      },
      "execution_count": 31,
      "outputs": [
        {
          "output_type": "execute_result",
          "data": {
            "text/plain": [
              "541.2307692307693"
            ]
          },
          "metadata": {},
          "execution_count": 31
        }
      ]
    },
    {
      "cell_type": "code",
      "source": [
        "print ( \"Média quadrática: {}\".format(np.sqrt(msomax2))) "
      ],
      "metadata": {
        "colab": {
          "base_uri": "https://localhost:8080/"
        },
        "id": "YOIxGmdSa_0G",
        "outputId": "daf26ff5-05f0-4a84-f39b-28d0f7c95b25"
      },
      "execution_count": 32,
      "outputs": [
        {
          "output_type": "stream",
          "name": "stdout",
          "text": [
            "Média quadrática: 23.26436694240291\n"
          ]
        }
      ]
    },
    {
      "cell_type": "markdown",
      "source": [
        "Calculo da mediana:"
      ],
      "metadata": {
        "id": "TBywNA8Xn59Y"
      }
    },
    {
      "cell_type": "code",
      "source": [
        "idades_ord = np.sort( idades )\n",
        "idades_ord"
      ],
      "metadata": {
        "colab": {
          "base_uri": "https://localhost:8080/"
        },
        "id": "gKtaZoJJn8Cl",
        "outputId": "49a144e0-90f8-454a-9635-30f5201c8c65"
      },
      "execution_count": 33,
      "outputs": [
        {
          "output_type": "execute_result",
          "data": {
            "text/plain": [
              "array([19, 20, 20, 21, 21, 22, 23, 23, 25, 25, 25, 26, 30])"
            ]
          },
          "metadata": {},
          "execution_count": 33
        }
      ]
    },
    {
      "cell_type": "code",
      "source": [
        "idades_ord[ int(N/2)-1 ] # Índices de 0..(N-1)"
      ],
      "metadata": {
        "colab": {
          "base_uri": "https://localhost:8080/"
        },
        "id": "R5_bcyvqoZ5_",
        "outputId": "d6e946fa-0454-45a3-d917-f645664b91b4"
      },
      "execution_count": 37,
      "outputs": [
        {
          "output_type": "execute_result",
          "data": {
            "text/plain": [
              "22"
            ]
          },
          "metadata": {},
          "execution_count": 37
        }
      ]
    },
    {
      "cell_type": "code",
      "source": [
        "idades_ord[ int(N/2) ] # Índices de 0..(N-1)"
      ],
      "metadata": {
        "colab": {
          "base_uri": "https://localhost:8080/"
        },
        "id": "VvalzCUJodXA",
        "outputId": "e8f51b04-9979-44bd-80db-3621a70d3579"
      },
      "execution_count": 38,
      "outputs": [
        {
          "output_type": "execute_result",
          "data": {
            "text/plain": [
              "23"
            ]
          },
          "metadata": {},
          "execution_count": 38
        }
      ]
    },
    {
      "cell_type": "code",
      "source": [
        "fig = plt.figure( figsize=(8,6) )\n",
        "counts, bins, _ = plt.hist( idades, bins=11, range=(19,30) )\n",
        "plt.xlim( 19, 30 )\n",
        "plt.xlabel( \"Idades (anos)\", fontsize=18 )\n",
        "plt.ylabel( \"Frequência\", fontsize=18 )\n",
        "print ( \"Média quadrática: {}\".format( np.sqrt( msomax2 ) ) )\n",
        "print ( \"Média: {}\".format( media ) )"
      ],
      "metadata": {
        "colab": {
          "base_uri": "https://localhost:8080/",
          "height": 431
        },
        "id": "oli-nse8p6ov",
        "outputId": "308dd898-8e2f-4584-bbbe-56058d3ee0fb"
      },
      "execution_count": 41,
      "outputs": [
        {
          "output_type": "stream",
          "name": "stdout",
          "text": [
            "Média quadrática: 23.26436694240291\n",
            "Média: 23.076923076923077\n"
          ]
        },
        {
          "output_type": "display_data",
          "data": {
            "image/png": "[encoded data removed]",
            "text/plain": [
              "<Figure size 576x432 with 1 Axes>"
            ]
          },
          "metadata": {
            "needs_background": "light"
          }
        }
      ]
    },
    {
      "cell_type": "markdown",
      "metadata": {
        "id": "y8tjreqUSwCg"
      },
      "source": [
        "\n",
        "## Exercícios:\n",
        "1. Altere a **classe de frequência** do histograma acima, para termos um intervalo de **5 anos** entre as idades e construa o histograma correspondente.\n",
        "\n",
        "\n",
        "2. Para construir esse histograma, usamos a **função** (ou **método**) *hist* de um **módulo** de Python, o *matplotlib*, cuja documentação se encontra [aqui](https://matplotlib.org/3.2.1/api/_as_gen/matplotlib.pyplot.hist.html#matplotlib.pyplot.hist). Baseando-se nessa documentação (ou qualquer outra que você encontre), mude a **cor** do histograma.\n",
        "\n",
        "3. Defina um outro conjunto e construa o histograma desse conjunto. Tente definir qual a melhor classe de frequência antes de construir seu histograma e veja o que acontece se você aumentar ou diminuir a classe de frequência (bins)."
      ]
    },
    {
      "cell_type": "markdown",
      "metadata": {
        "id": "kOepRhZD4q35"
      },
      "source": [
        "##Diagramas de Dispersão\n",
        "Abaixo, apresentamos como o exemplo o diagrama de dispersão altura (cms) x massa (kg)."
      ]
    },
    {
      "cell_type": "code",
      "metadata": {
        "id": "K2YO95OG5VP6",
        "outputId": "f1fb58f1-1ffd-47a2-9cf9-b31a1bb356c6",
        "colab": {
          "base_uri": "https://localhost:8080/",
          "height": 295
        }
      },
      "source": [
        "import matplotlib.pyplot as plt\n",
        "\n",
        "massa = [64,110,75,80,61,86,54,84,51,64,66,103,91]\n",
        "altura = [174,185,174,170,168,173,162,176,166,168,177,174,175]\n",
        "plt.plot(massa,altura,'o')\n",
        "plt.xlabel('massa (kg)')\n",
        "plt.ylabel('altura (cm)')\n",
        "plt.title('Diagrama de dispersão altura (cms) x massa (kg)')\n",
        "plt.show()\n",
        "\n",
        "#plt.scatter(massa,altura)\n",
        "#plt.show()"
      ],
      "execution_count": null,
      "outputs": [
        {
          "output_type": "display_data",
          "data": {
            "image/png": "[encoded data removed]",
            "text/plain": [
              "<Figure size 432x288 with 1 Axes>"
            ]
          },
          "metadata": {
            "needs_background": "light"
          }
        }
      ]
    },
    {
      "cell_type": "markdown",
      "metadata": {
        "id": "wlzG9M2HBTaf"
      },
      "source": [
        "No diagrama acima, percebe-se que os valores de massa tem uma relação direta com a altura. \n",
        "\n",
        "Para construir os diagramas, usamos a **plot** de um **módulo** de Python, o *matplotlib*, cuja documentação se encontra [aqui](https://matplotlib.org/3.2.1/api/_as_gen/matplotlib.pyplot.plot.html?highlight=plot#matplotlib.pyplot.plot).\n",
        "\n",
        "\n",
        "- Agora, faça os outros dois diagramas de dispersão pedidos na aula 2. \n",
        "\n",
        "- Use sua criatividade e utilize símbolos diferentes em cada diagrama.\n"
      ]
    }
  ]
}